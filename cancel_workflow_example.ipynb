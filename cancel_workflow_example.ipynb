{
 "cells": [
  {
   "cell_type": "code",
   "execution_count": 1,
   "metadata": {},
   "outputs": [],
   "source": [
    "import covalent as ct\n",
    "import time\n",
    "\n",
    "import numpy as np\n",
    "from sklearn.preprocessing import SplineTransformer"
   ]
  },
  {
   "cell_type": "code",
   "execution_count": 2,
   "metadata": {},
   "outputs": [],
   "source": [
    "@ct.electron\n",
    "def task_1(x):\n",
    "    return x**2\n",
    "\n",
    "\n",
    "@ct.electron\n",
    "def subtask(a, b):\n",
    "    return a**b\n",
    "\n",
    "\n",
    "@ct.electron\n",
    "@ct.lattice\n",
    "def task_2(y, z):\n",
    "    return subtask(y, z)\n",
    "\n",
    "\n",
    "@ct.electron\n",
    "def task_3(x):\n",
    "    time.sleep(10)\n",
    "    X = np.arange(5).reshape(5, 1)\n",
    "    spline = SplineTransformer(degree=2, n_knots=3)\n",
    "    spline.fit_transform(X)\n",
    "\n",
    "\n",
    "@ct.lattice\n",
    "def workflow(a):\n",
    "\n",
    "    res = task_1(a)\n",
    "\n",
    "    return task_3(res)\n"
   ]
  },
  {
   "cell_type": "code",
   "execution_count": 3,
   "metadata": {},
   "outputs": [
    {
     "name": "stdout",
     "output_type": "stream",
     "text": [
      "1df7f2c5-74b9-4abe-ab1b-316853f10ec5\n"
     ]
    }
   ],
   "source": [
    "dispatch_id = ct.dispatch(workflow)(3)\n",
    "print(dispatch_id)"
   ]
  },
  {
   "cell_type": "code",
   "execution_count": 4,
   "metadata": {},
   "outputs": [
    {
     "data": {
      "text/plain": [
       "{'response': '1df7f2c5-74b9-4abe-ab1b-316853f10ec5 workflow cancelled successfully'}"
      ]
     },
     "execution_count": 4,
     "metadata": {},
     "output_type": "execute_result"
    }
   ],
   "source": [
    "time.sleep(7)\n",
    "ct.cancel_workflow(dispatch_id)"
   ]
  },
  {
   "cell_type": "code",
   "execution_count": 5,
   "metadata": {},
   "outputs": [
    {
     "name": "stdout",
     "output_type": "stream",
     "text": [
      "\n",
      "Lattice Result\n",
      "==============\n",
      "status: CANCELLED\n",
      "result: None\n",
      "inputs: {'args': [3], 'kwargs': {}}\n",
      "error: None\n",
      "\n",
      "start_time: 2022-04-22 04:16:07.895160+00:00\n",
      "end_time: 2022-04-22 04:16:14.633737+00:00\n",
      "\n",
      "results_dir: /private/tmp\n",
      "dispatch_id: 1df7f2c5-74b9-4abe-ab1b-316853f10ec5\n",
      "\n",
      "Node Outputs\n",
      "------------\n",
      "task_1(0): 9\n",
      ":parameter:3(1)(1): 3\n",
      "task_3(2): None\n",
      "\n"
     ]
    }
   ],
   "source": [
    "print(ct.get_result(dispatch_id))"
   ]
  },
  {
   "cell_type": "code",
   "execution_count": null,
   "metadata": {},
   "outputs": [],
   "source": []
  }
 ],
 "metadata": {
  "interpreter": {
   "hash": "678d961ff063469efd5d78aa3ae546f6863f1ce650ebb0207bc985343e10a81d"
  },
  "kernelspec": {
   "display_name": "Python 3.8.13 ('covalent-dev')",
   "language": "python",
   "name": "python3"
  },
  "language_info": {
   "codemirror_mode": {
    "name": "ipython",
    "version": 3
   },
   "file_extension": ".py",
   "mimetype": "text/x-python",
   "name": "python",
   "nbconvert_exporter": "python",
   "pygments_lexer": "ipython3",
   "version": "3.8.13"
  },
  "orig_nbformat": 4
 },
 "nbformat": 4,
 "nbformat_minor": 2
}
