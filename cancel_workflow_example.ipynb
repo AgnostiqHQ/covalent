{
 "cells": [
  {
   "cell_type": "code",
   "execution_count": 1,
   "metadata": {},
   "outputs": [],
   "source": [
    "import covalent as ct\n",
    "import time"
   ]
  },
  {
   "cell_type": "code",
   "execution_count": 2,
   "metadata": {},
   "outputs": [],
   "source": [
    "@ct.lattice\n",
    "@ct.electron\n",
    "def workflow():\n",
    "    time.sleep(60)\n",
    "    return \"I am insane\""
   ]
  },
  {
   "cell_type": "code",
   "execution_count": 3,
   "metadata": {},
   "outputs": [
    {
     "name": "stdout",
     "output_type": "stream",
     "text": [
      "66cc3103-34e6-418d-9d59-b796a6852dfa\n"
     ]
    }
   ],
   "source": [
    "dispatch_id = ct.dispatch(workflow)()\n",
    "print(dispatch_id)"
   ]
  },
  {
   "cell_type": "code",
   "execution_count": 4,
   "metadata": {},
   "outputs": [
    {
     "data": {
      "text/plain": [
       "{'response': '66cc3103-34e6-418d-9d59-b796a6852dfa workflow cancelled successfully'}"
      ]
     },
     "execution_count": 4,
     "metadata": {},
     "output_type": "execute_result"
    }
   ],
   "source": [
    "time.sleep(5)\n",
    "ct.cancel_workflow(dispatch_id)"
   ]
  },
  {
   "cell_type": "code",
   "execution_count": 5,
   "metadata": {},
   "outputs": [
    {
     "name": "stdout",
     "output_type": "stream",
     "text": [
      "\n",
      "Lattice Result\n",
      "==============\n",
      "status: CANCELLED\n",
      "result: None\n",
      "inputs: {'args': [], 'kwargs': {}}\n",
      "error: None\n",
      "\n",
      "start_time: 2022-04-22 01:26:15.122723+00:00\n",
      "end_time: None\n",
      "\n",
      "results_dir: /private/tmp\n",
      "dispatch_id: 66cc3103-34e6-418d-9d59-b796a6852dfa\n",
      "\n",
      "Node Outputs\n",
      "------------\n",
      "workflow(0): None\n",
      "\n"
     ]
    }
   ],
   "source": [
    "print(ct.get_result(dispatch_id))"
   ]
  },
  {
   "cell_type": "code",
   "execution_count": null,
   "metadata": {},
   "outputs": [],
   "source": []
  }
 ],
 "metadata": {
  "interpreter": {
   "hash": "678d961ff063469efd5d78aa3ae546f6863f1ce650ebb0207bc985343e10a81d"
  },
  "kernelspec": {
   "display_name": "Python 3.8.13 ('covalent-dev')",
   "language": "python",
   "name": "python3"
  },
  "language_info": {
   "codemirror_mode": {
    "name": "ipython",
    "version": 3
   },
   "file_extension": ".py",
   "mimetype": "text/x-python",
   "name": "python",
   "nbconvert_exporter": "python",
   "pygments_lexer": "ipython3",
   "version": "3.8.13"
  },
  "orig_nbformat": 4
 },
 "nbformat": 4,
 "nbformat_minor": 2
}
