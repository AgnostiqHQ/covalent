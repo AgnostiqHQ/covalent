{
 "cells": [
  {
   "cell_type": "code",
   "execution_count": 1,
   "metadata": {},
   "outputs": [],
   "source": [
    "import covalent as ct\n",
    "import time\n",
    "\n",
    "import numpy as np\n",
    "from sklearn.preprocessing import SplineTransformer"
   ]
  },
  {
   "cell_type": "code",
   "execution_count": 2,
   "metadata": {},
   "outputs": [],
   "source": [
    "@ct.electron\n",
    "def task_1(x):\n",
    "    return x**2\n",
    "\n",
    "\n",
    "@ct.electron\n",
    "def subtask(a, b):\n",
    "    time.sleep(1)\n",
    "    return a**b\n",
    "\n",
    "\n",
    "@ct.electron\n",
    "@ct.lattice\n",
    "def task_2(y, z):\n",
    "    return subtask(y, z)\n",
    "\n",
    "\n",
    "@ct.electron\n",
    "def task_3(x):\n",
    "    time.sleep(10)\n",
    "    X = np.arange(5).reshape(5, 1)\n",
    "    spline = SplineTransformer(degree=2, n_knots=3)\n",
    "    spline.fit_transform(X)\n",
    "\n",
    "\n",
    "@ct.lattice\n",
    "def workflow(a):\n",
    "\n",
    "    res = task_1(a)\n",
    "\n",
    "    for _ in range(5):\n",
    "        task_2(a, 3)\n",
    "\n",
    "    return task_3(res)\n"
   ]
  },
  {
   "cell_type": "code",
   "execution_count": 3,
   "metadata": {},
   "outputs": [
    {
     "name": "stdout",
     "output_type": "stream",
     "text": [
      "2c9bbc2c-0355-44f6-b7b3-07cbd021b9ce\n"
     ]
    }
   ],
   "source": [
    "dispatch_id = ct.dispatch(workflow)(3)\n",
    "print(dispatch_id)"
   ]
  },
  {
   "cell_type": "code",
   "execution_count": 4,
   "metadata": {},
   "outputs": [
    {
     "data": {
      "text/plain": [
       "{'response': '2c9bbc2c-0355-44f6-b7b3-07cbd021b9ce workflow cancelled successfully'}"
      ]
     },
     "execution_count": 4,
     "metadata": {},
     "output_type": "execute_result"
    }
   ],
   "source": [
    "time.sleep(7)\n",
    "ct.cancel_workflow(dispatch_id)"
   ]
  },
  {
   "cell_type": "code",
   "execution_count": 5,
   "metadata": {},
   "outputs": [
    {
     "name": "stdout",
     "output_type": "stream",
     "text": [
      "\n",
      "Lattice Result\n",
      "==============\n",
      "status: CANCELLED\n",
      "result: None\n",
      "inputs: {'args': [3], 'kwargs': {}}\n",
      "error: None\n",
      "\n",
      "start_time: 2022-04-22 05:04:36.307539+00:00\n",
      "end_time: 2022-04-22 05:04:46.784587+00:00\n",
      "\n",
      "results_dir: /private/tmp\n",
      "dispatch_id: 2c9bbc2c-0355-44f6-b7b3-07cbd021b9ce\n",
      "\n",
      "Node Outputs\n",
      "------------\n",
      "task_1(0): 9\n",
      ":parameter:3(1)(1): 3\n",
      ":sublattice:task_2(2): 27\n",
      ":parameter:3(3)(3): 3\n",
      ":parameter:3(4)(4): 3\n",
      ":sublattice:task_2(5): None\n",
      ":parameter:3(6)(6): 3\n",
      ":parameter:3(7)(7): 3\n",
      ":sublattice:task_2(8): None\n",
      ":parameter:3(9)(9): 3\n",
      ":parameter:3(10)(10): 3\n",
      ":sublattice:task_2(11): None\n",
      ":parameter:3(12)(12): 3\n",
      ":parameter:3(13)(13): 3\n",
      ":sublattice:task_2(14): None\n",
      ":parameter:3(15)(15): 3\n",
      ":parameter:3(16)(16): 3\n",
      "task_3(17): None\n",
      "\n"
     ]
    }
   ],
   "source": [
    "print(ct.get_result(dispatch_id, wait=True))"
   ]
  },
  {
   "cell_type": "code",
   "execution_count": null,
   "metadata": {},
   "outputs": [],
   "source": []
  }
 ],
 "metadata": {
  "interpreter": {
   "hash": "678d961ff063469efd5d78aa3ae546f6863f1ce650ebb0207bc985343e10a81d"
  },
  "kernelspec": {
   "display_name": "Python 3.8.13 ('covalent-dev')",
   "language": "python",
   "name": "python3"
  },
  "language_info": {
   "codemirror_mode": {
    "name": "ipython",
    "version": 3
   },
   "file_extension": ".py",
   "mimetype": "text/x-python",
   "name": "python",
   "nbconvert_exporter": "python",
   "pygments_lexer": "ipython3",
   "version": "3.8.13"
  },
  "orig_nbformat": 4
 },
 "nbformat": 4,
 "nbformat_minor": 2
}
