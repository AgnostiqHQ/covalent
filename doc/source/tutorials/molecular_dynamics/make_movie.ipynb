{
 "cells": [
  {
   "cell_type": "code",
   "execution_count": null,
   "id": "6b9b765f-de69-4f6f-ba29-5692f5eee7a0",
   "metadata": {},
   "outputs": [],
   "source": [
    "%matplotlib inline\n",
    "\n",
    "import numpy as np\n",
    "import matplotlib.pyplot as plt\n",
    "from matplotlib.animation import FuncAnimation\n",
    "from IPython.display import HTML"
   ]
  },
  {
   "cell_type": "code",
   "execution_count": null,
   "id": "5cbd4de3-5031-428e-ab7d-38943e550bb2",
   "metadata": {},
   "outputs": [],
   "source": [
    "xlo = 0\n",
    "xhi = 20\n",
    "ylo = 0\n",
    "yhi = 20"
   ]
  },
  {
   "cell_type": "code",
   "execution_count": null,
   "id": "4bcbd914-46fe-4c19-a013-778b92ffd6a6",
   "metadata": {},
   "outputs": [],
   "source": [
    "fig, ax = plt.subplots()\n",
    "\n",
    "ax.set_xlim(( xlo, xhi))\n",
    "ax.set_ylim((ylo, yhi))\n",
    "\n",
    "line, = ax.plot([], [], 'o', lw=2)"
   ]
  },
  {
   "cell_type": "code",
   "execution_count": null,
   "id": "d58f52b1-0a5e-493d-a638-53fad339754d",
   "metadata": {},
   "outputs": [],
   "source": [
    "def init():\n",
    "    line.set_data([], [])\n",
    "    return (line,)"
   ]
  },
  {
   "cell_type": "code",
   "execution_count": null,
   "id": "81ee71ea-39a2-44a1-a515-889c4f0eb8d9",
   "metadata": {},
   "outputs": [],
   "source": [
    "def animate(i):\n",
    "    data = np.loadtxt(f\"simulation-{i}.txt\", delimiter=\",\")\n",
    "    line.set_data(data[:, 2], data[:, 3])\n",
    "    return (line,)\n",
    "\n",
    "anim = FuncAnimation(fig, animate, init_func=init, frames=21, interval=100)"
   ]
  },
  {
   "cell_type": "code",
   "execution_count": null,
   "id": "d03e4805-d928-4016-8c3e-6134a5442ccc",
   "metadata": {},
   "outputs": [],
   "source": [
    "HTML(anim.to_html5_video())"
   ]
  },
  {
   "cell_type": "code",
   "execution_count": null,
   "id": "d6674c40-b5f8-4084-8719-46a8ff6c3ddb",
   "metadata": {},
   "outputs": [],
   "source": []
  }
 ],
 "metadata": {
  "kernelspec": {
   "display_name": "Python 3 (ipykernel)",
   "language": "python",
   "name": "python3"
  },
  "language_info": {
   "codemirror_mode": {
    "name": "ipython",
    "version": 3
   },
   "file_extension": ".py",
   "mimetype": "text/x-python",
   "name": "python",
   "nbconvert_exporter": "python",
   "pygments_lexer": "ipython3",
   "version": "3.8.13"
  }
 },
 "nbformat": 4,
 "nbformat_minor": 5
}
