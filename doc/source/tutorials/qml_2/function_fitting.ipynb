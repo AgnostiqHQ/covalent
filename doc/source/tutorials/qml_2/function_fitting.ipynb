{
 "cells": [
  {
   "cell_type": "code",
   "execution_count": 1,
   "source": [
    "import pennylane as qml\n",
    "from pennylane import numpy as np\n",
    "import matplotlib.pyplot as plt\n",
    "import covalent as ct"
   ],
   "outputs": [],
   "metadata": {}
  },
  {
   "cell_type": "code",
   "execution_count": 2,
   "source": [
    "@ct.electron\n",
    "def create_data(n):\n",
    "    X = np.linspace(0, 2*np.pi, n)\n",
    "    X.requires_grad = False\n",
    "    Y = np.sin(X)\n",
    "    X_test = np.linspace(0.2, 2*np.pi+0.2, n)\n",
    "    Y_test = np.sin(X_test)\n",
    "    return X, Y, X_test, Y_test"
   ],
   "outputs": [],
   "metadata": {}
  },
  {
   "cell_type": "code",
   "execution_count": 3,
   "source": [
    "@ct.electron\n",
    "def plot_data(X_train, Y_train, X_test, Y_test):\n",
    "    plt.scatter(X_train, Y_train, color='#219ebc', label='Training Data')\n",
    "    plt.scatter(X_test, Y_test, color='#fb8500', alpha=0.5, label='Test Data')\n",
    "    plt.legend()\n",
    "    plt.savefig('input_data.png')"
   ],
   "outputs": [],
   "metadata": {}
  },
  {
   "cell_type": "code",
   "execution_count": 4,
   "source": [
    "#X, Y, X_test, Y_test = create_data(5)"
   ],
   "outputs": [],
   "metadata": {}
  },
  {
   "cell_type": "code",
   "execution_count": 5,
   "source": [
    "#@ct.electron\n",
    "#def cost_fn(params, X):\n",
    "#    #X, Y, X_test, Y_test = create_data(5)\n",
    "#    predictions = [quantum_circuit(x, params)  for x in X]\n",
    "#    cost = loss_func(predictions)\n",
    "#    return cost"
   ],
   "outputs": [],
   "metadata": {}
  },
  {
   "cell_type": "code",
   "execution_count": 6,
   "source": [
    "dev = qml.device('default.qubit', wires=1)\n",
    "@qml.qnode(dev)\n",
    "def quantum_circuit(datapoint, params):\n",
    "    qml.RX(datapoint, wires=0)\n",
    "    qml.Rot(params[0], params[1], params[2], wires=0)\n",
    "    return qml.expval(qml.PauliZ(wires=0))"
   ],
   "outputs": [],
   "metadata": {}
  },
  {
   "cell_type": "code",
   "execution_count": 7,
   "source": [
    "@ct.electron\n",
    "def gradient_descent(X):\n",
    "    X, Y, X_test, Y_test = create_data(5)\n",
    "    @ct.electron\n",
    "    def cost_fn(params):\n",
    "        #X, Y, X_test, Y_test = create_data(5)\n",
    "        predictions = [quantum_circuit(x, params)  for x in X]\n",
    "        cost = loss_func(predictions)\n",
    "        return cost\n",
    "    opt = qml.GradientDescentOptimizer(stepsize=0.3)\n",
    "    params = np.array([0.1,0.1,0.1],requires_grad=True)\n",
    "    for i in range (100):\n",
    "        # Over each step the parameters change to give a better cost\n",
    "        params, prev_cost = opt.step_and_cost(cost_fn,params) \n",
    "        if i%10 == 0:\n",
    "             # We print the result after every 10 steps\n",
    "            print(f'Step = {i} Cost = {cost_fn(params)}')\n",
    "    return params"
   ],
   "outputs": [],
   "metadata": {}
  },
  {
   "cell_type": "code",
   "execution_count": 8,
   "source": [
    "@ct.electron\n",
    "def make_predictions(X_test, params):\n",
    "    test_predictions = []\n",
    "    for x_test in X_test:\n",
    "        prediction = quantum_circuit(x_test,params)\n",
    "        test_predictions.append(prediction)\n",
    "    return test_predictions"
   ],
   "outputs": [],
   "metadata": {}
  },
  {
   "cell_type": "code",
   "execution_count": 9,
   "source": [
    "@ct.electron\n",
    "def loss_func(predictions):\n",
    "    X, Y, X_test, Y_test = create_data(5)\n",
    "    # This is a postprocessing step. Here we use a least squares metric \n",
    "    # based on the predictions of the quantum circuit and the outputs \n",
    "    # of the training data points.\n",
    "    total_losses = 0\n",
    "    for i in range(len(Y)):\n",
    "        output = Y[i]\n",
    "        prediction = predictions[i]\n",
    "        loss = (prediction - output)**2\n",
    "        total_losses += loss\n",
    "    return total_losses"
   ],
   "outputs": [],
   "metadata": {}
  },
  {
   "cell_type": "code",
   "execution_count": 10,
   "source": [
    "@ct.lattice\n",
    "def workflow():\n",
    "    X, Y, X_test, Y_test = create_data(5)\n",
    "    plot_data(X, Y, X_test, Y_test)\n",
    "    params = gradient_descent(X=X)\n",
    "    make_predictions(X_test=X_test, params=params)\n",
    "    #params = gradient_descent(X=X)\n",
    "    #return params"
   ],
   "outputs": [],
   "metadata": {}
  },
  {
   "cell_type": "code",
   "execution_count": 11,
   "source": [
    "workflow.draw()"
   ],
   "outputs": [
    {
     "output_type": "stream",
     "name": "stderr",
     "text": [
      "/Users/annahughes/demonstration/covalent/covalent/_workflow/lattice.py:158: UserWarning: Please make sure you are not manipulating an object inside the lattice.\n",
      "  warnings.warn(\n"
     ]
    },
    {
     "output_type": "error",
     "ename": "NameError",
     "evalue": "name 'params' is not defined",
     "traceback": [
      "\u001b[0;31m---------------------------------------------------------------------------\u001b[0m",
      "\u001b[0;31mNameError\u001b[0m                                 Traceback (most recent call last)",
      "\u001b[0;32m/var/folders/9t/njfmn3w11f159zbw1hpsjzn00000gn/T/ipykernel_6365/2336532594.py\u001b[0m in \u001b[0;36m<module>\u001b[0;34m\u001b[0m\n\u001b[0;32m----> 1\u001b[0;31m \u001b[0mworkflow\u001b[0m\u001b[0;34m.\u001b[0m\u001b[0mdraw\u001b[0m\u001b[0;34m(\u001b[0m\u001b[0;34m)\u001b[0m\u001b[0;34m\u001b[0m\u001b[0;34m\u001b[0m\u001b[0m\n\u001b[0m",
      "\u001b[0;32m~/demonstration/covalent/covalent/_workflow/lattice.py\u001b[0m in \u001b[0;36mdraw\u001b[0;34m(self, *args, **kwargs)\u001b[0m\n\u001b[1;32m    224\u001b[0m         \"\"\"\n\u001b[1;32m    225\u001b[0m \u001b[0;34m\u001b[0m\u001b[0m\n\u001b[0;32m--> 226\u001b[0;31m         \u001b[0mself\u001b[0m\u001b[0;34m.\u001b[0m\u001b[0mbuild_graph\u001b[0m\u001b[0;34m(\u001b[0m\u001b[0;34m*\u001b[0m\u001b[0margs\u001b[0m\u001b[0;34m,\u001b[0m \u001b[0;34m**\u001b[0m\u001b[0mkwargs\u001b[0m\u001b[0;34m)\u001b[0m\u001b[0;34m\u001b[0m\u001b[0;34m\u001b[0m\u001b[0m\n\u001b[0m\u001b[1;32m    227\u001b[0m         \u001b[0mresult_webhook\u001b[0m\u001b[0;34m.\u001b[0m\u001b[0msend_draw_request\u001b[0m\u001b[0;34m(\u001b[0m\u001b[0mself\u001b[0m\u001b[0;34m)\u001b[0m\u001b[0;34m\u001b[0m\u001b[0;34m\u001b[0m\u001b[0m\n\u001b[1;32m    228\u001b[0m \u001b[0;34m\u001b[0m\u001b[0m\n",
      "\u001b[0;32m~/demonstration/covalent/covalent/_workflow/lattice.py\u001b[0m in \u001b[0;36mbuild_graph\u001b[0;34m(self, *args, **kwargs)\u001b[0m\n\u001b[1;32m    154\u001b[0m             \u001b[0;32mwith\u001b[0m \u001b[0mactive_lattice_manager\u001b[0m\u001b[0;34m.\u001b[0m\u001b[0mclaim\u001b[0m\u001b[0;34m(\u001b[0m\u001b[0mself\u001b[0m\u001b[0;34m)\u001b[0m\u001b[0;34m:\u001b[0m\u001b[0;34m\u001b[0m\u001b[0;34m\u001b[0m\u001b[0m\n\u001b[1;32m    155\u001b[0m                 \u001b[0;32mtry\u001b[0m\u001b[0;34m:\u001b[0m\u001b[0;34m\u001b[0m\u001b[0;34m\u001b[0m\u001b[0m\n\u001b[0;32m--> 156\u001b[0;31m                     \u001b[0mself\u001b[0m\u001b[0;34m.\u001b[0m\u001b[0mworkflow_function\u001b[0m\u001b[0;34m(\u001b[0m\u001b[0;34m*\u001b[0m\u001b[0margs\u001b[0m\u001b[0;34m,\u001b[0m \u001b[0;34m**\u001b[0m\u001b[0mkwargs\u001b[0m\u001b[0;34m)\u001b[0m\u001b[0;34m\u001b[0m\u001b[0;34m\u001b[0m\u001b[0m\n\u001b[0m\u001b[1;32m    157\u001b[0m                 \u001b[0;32mexcept\u001b[0m \u001b[0mException\u001b[0m\u001b[0;34m:\u001b[0m\u001b[0;34m\u001b[0m\u001b[0;34m\u001b[0m\u001b[0m\n\u001b[1;32m    158\u001b[0m                     warnings.warn(\n",
      "\u001b[0;32m/var/folders/9t/njfmn3w11f159zbw1hpsjzn00000gn/T/ipykernel_6365/1203806334.py\u001b[0m in \u001b[0;36mworkflow\u001b[0;34m()\u001b[0m\n\u001b[1;32m      4\u001b[0m     \u001b[0mplot_data\u001b[0m\u001b[0;34m(\u001b[0m\u001b[0mX\u001b[0m\u001b[0;34m,\u001b[0m \u001b[0mY\u001b[0m\u001b[0;34m,\u001b[0m \u001b[0mX_test\u001b[0m\u001b[0;34m,\u001b[0m \u001b[0mY_test\u001b[0m\u001b[0;34m)\u001b[0m\u001b[0;34m\u001b[0m\u001b[0;34m\u001b[0m\u001b[0m\n\u001b[1;32m      5\u001b[0m     \u001b[0mgradient_descent\u001b[0m\u001b[0;34m(\u001b[0m\u001b[0mX\u001b[0m\u001b[0;34m=\u001b[0m\u001b[0mX\u001b[0m\u001b[0;34m)\u001b[0m\u001b[0;34m\u001b[0m\u001b[0;34m\u001b[0m\u001b[0m\n\u001b[0;32m----> 6\u001b[0;31m     \u001b[0mmake_predictions\u001b[0m\u001b[0;34m(\u001b[0m\u001b[0mX_test\u001b[0m\u001b[0;34m=\u001b[0m\u001b[0mX_test\u001b[0m\u001b[0;34m,\u001b[0m \u001b[0mparams\u001b[0m\u001b[0;34m=\u001b[0m\u001b[0mparams\u001b[0m\u001b[0;34m)\u001b[0m\u001b[0;34m\u001b[0m\u001b[0;34m\u001b[0m\u001b[0m\n\u001b[0m\u001b[1;32m      7\u001b[0m     \u001b[0;31m#params = gradient_descent(X=X)\u001b[0m\u001b[0;34m\u001b[0m\u001b[0;34m\u001b[0m\u001b[0;34m\u001b[0m\u001b[0m\n\u001b[1;32m      8\u001b[0m     \u001b[0;31m#return params\u001b[0m\u001b[0;34m\u001b[0m\u001b[0;34m\u001b[0m\u001b[0;34m\u001b[0m\u001b[0m\n",
      "\u001b[0;31mNameError\u001b[0m: name 'params' is not defined"
     ]
    }
   ],
   "metadata": {}
  },
  {
   "cell_type": "code",
   "execution_count": null,
   "source": [
    "ct.dispatch(workflow)()"
   ],
   "outputs": [],
   "metadata": {}
  },
  {
   "cell_type": "code",
   "execution_count": null,
   "source": [
    "params = workflow()\n",
    "print(params)"
   ],
   "outputs": [],
   "metadata": {}
  },
  {
   "cell_type": "code",
   "execution_count": null,
   "source": [
    "test_predictions = []\n",
    "X, Y, X_test, Y_test = create_data(5)\n",
    "for x_test in X_test:\n",
    "    prediction = quantum_circuit(x_test,params)\n",
    "    test_predictions.append(prediction)"
   ],
   "outputs": [],
   "metadata": {}
  },
  {
   "cell_type": "code",
   "execution_count": null,
   "source": [
    "fig = plt.figure()\n",
    "ax1 = fig.add_subplot(111)\n",
    "\n",
    "ax1.plot(X, Y, c='#219ebc', label='Training data')\n",
    "ax1.plot(X_test,Y_test, c='#fb8500', label='Test data')\n",
    "ax1.scatter(X_test,test_predictions, s=30, c='k', marker=\"x\", label='Model Predicitons')\n",
    "plt.xlabel(\"Inputs\")\n",
    "plt.ylabel(\"Outputs\")\n",
    "plt.title(\"QML results\")\n",
    "\n",
    "plt.legend(loc='upper right');\n",
    "plt.show()"
   ],
   "outputs": [],
   "metadata": {}
  }
 ],
 "metadata": {
  "orig_nbformat": 4,
  "language_info": {
   "name": "python",
   "version": "3.8.0",
   "mimetype": "text/x-python",
   "codemirror_mode": {
    "name": "ipython",
    "version": 3
   },
   "pygments_lexer": "ipython3",
   "nbconvert_exporter": "python",
   "file_extension": ".py"
  },
  "kernelspec": {
   "name": "python3",
   "display_name": "Python 3.8.0 64-bit ('covalent_env': conda)"
  },
  "interpreter": {
   "hash": "570ca153600493184bf96a1606a53850814bca4f88e49a285286a552c69ae0c5"
  }
 },
 "nbformat": 4,
 "nbformat_minor": 2
}