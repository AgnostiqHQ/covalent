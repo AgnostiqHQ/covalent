{
 "cells": [
  {
   "cell_type": "code",
   "execution_count": 17,
   "source": [
    "import pennylane as qml\n",
    "from pennylane import numpy as np\n",
    "import matplotlib.pyplot as plt\n",
    "import covalent as ct"
   ],
   "outputs": [],
   "metadata": {}
  },
  {
   "cell_type": "code",
   "execution_count": 18,
   "source": [
    "@ct.electron\n",
    "def create_data(n):\n",
    "    X = np.linspace(0, 2*np.pi, n)\n",
    "    X.requires_grad = False\n",
    "    Y = np.sin(X)\n",
    "    X_test = np.linspace(0.2, 2*np.pi+0.2, n)\n",
    "    Y_test = np.sin(X_test)\n",
    "    return X, Y, X_test, Y_test"
   ],
   "outputs": [],
   "metadata": {}
  },
  {
   "cell_type": "code",
   "execution_count": 19,
   "source": [
    "@ct.electron\n",
    "def plot_data(X_train, Y_train, X_test, Y_test):\n",
    "    plt.scatter(X_train, Y_train, color='#219ebc', label='Training Data')\n",
    "    plt.scatter(X_test, Y_test, color='#fb8500', alpha=0.5, label='Test Data')\n",
    "    plt.legend()\n",
    "    plt.show()"
   ],
   "outputs": [],
   "metadata": {}
  },
  {
   "cell_type": "code",
   "execution_count": 20,
   "source": [
    "X, Y, X_test, Y_test = create_data(5)\n",
    "plot_data(X, Y, X_test, Y_test)"
   ],
   "outputs": [
    {
     "output_type": "display_data",
     "data": {
      "text/plain": [
       "<Figure size 432x288 with 1 Axes>"
      ],
      "image/png": "[encoded data removed]"
     },
     "metadata": {
      "needs_background": "light"
     }
    }
   ],
   "metadata": {}
  },
  {
   "cell_type": "code",
   "execution_count": 21,
   "source": [
    "#@ct.electron\n",
    "dev = qml.device('default.qubit', wires=1)\n",
    "\n",
    "#@qml.qnode(dev)\n",
    "@ct.electron\n",
    "def quantum_circuit(datapoint, params):\n",
    "    # Encode the input data as an RX rotation\n",
    "    qml.RX(datapoint, wires=0)\n",
    "    # # Create a rotation based on the angles in \"params\"\n",
    "    qml.Rot(params[0], params[1], params[2], wires=0)\n",
    "    # # We return the expected value of a measurement along the Z axis \n",
    "    return qml.expval(qml.PauliZ(wires=0))"
   ],
   "outputs": [],
   "metadata": {}
  },
  {
   "cell_type": "code",
   "execution_count": 22,
   "source": [
    "@ct.electron\n",
    "def loss_func(predictions):\n",
    "    # This is a postprocessing step. Here we use a least squares metric \n",
    "    # based on the predictions of the quantum circuit and the outputs \n",
    "    # of the training data points.\n",
    "    total_losses = 0\n",
    "    for i in range(len(Y)):\n",
    "        output = Y[i]\n",
    "        prediction = predictions[i]\n",
    "        loss = (prediction - output)**2\n",
    "        total_losses += loss\n",
    "    return total_losses"
   ],
   "outputs": [],
   "metadata": {}
  },
  {
   "cell_type": "code",
   "execution_count": 23,
   "source": [
    "@ct.electron\n",
    "def cost_fn(params): \n",
    "    # We get the predictions of the quantum circuit for a specific \n",
    "    # set of parameters along the entire input dataset\n",
    "    predictions = [quantum_circuit(x, params)  for x in X]\n",
    "    # We calculate the cost including any classical postprocessing\n",
    "    cost = loss_func(predictions)\n",
    "    return cost"
   ],
   "outputs": [],
   "metadata": {}
  },
  {
   "cell_type": "code",
   "execution_count": 24,
   "source": [
    "@ct.electron\n",
    "def gradient_descent():\n",
    "    opt = qml.GradientDescentOptimizer(stepsize=0.3)\n",
    "    params = np.array([0.1,0.1,0.1],requires_grad=True)\n",
    "    for i in range (100):\n",
    "        # Over each step the parameters change to give a better cost\n",
    "        params, prev_cost = opt.step_and_cost(cost_fn,params) \n",
    "        if i%10 == 0:\n",
    "             # We print the result after every 10 steps\n",
    "            print(f'Step = {i} Cost = {cost_fn(params)}')\n",
    "    return params"
   ],
   "outputs": [],
   "metadata": {}
  },
  {
   "cell_type": "code",
   "execution_count": 25,
   "source": [
    "@ct.lattice\n",
    "def fit_function():\n",
    "    X, Y, X_test, Y_test = create_data(6)\n",
    "    params = gradient_descent()\n",
    "    return params"
   ],
   "outputs": [],
   "metadata": {}
  },
  {
   "cell_type": "code",
   "execution_count": 26,
   "source": [
    "fit_function.draw()"
   ],
   "outputs": [],
   "metadata": {}
  },
  {
   "cell_type": "code",
   "execution_count": 27,
   "source": [
    "ct.dispatch(fit_function())"
   ],
   "outputs": [
    {
     "output_type": "stream",
     "name": "stdout",
     "text": [
      "Step = 0 Cost = 4.912499465469817\n",
      "Step = 10 Cost = 0.017712616264713543\n",
      "Step = 20 Cost = 0.0010549650559467313\n",
      "Step = 30 Cost = 0.00033478390918251086\n",
      "Step = 40 Cost = 0.00019081038150773407\n",
      "Step = 50 Cost = 0.00012461609775915792\n",
      "Step = 60 Cost = 8.781349557163571e-05\n",
      "Step = 70 Cost = 6.52239822689002e-05\n",
      "Step = 80 Cost = 5.0362401887340637e-05\n",
      "Step = 90 Cost = 4.0063867053835406e-05\n"
     ]
    },
    {
     "output_type": "execute_result",
     "data": {
      "text/plain": [
       "<function pennylane.numpy.tensor.LocalDispatcher.dispatch.<locals>.wrapper>"
      ]
     },
     "metadata": {},
     "execution_count": 27
    }
   ],
   "metadata": {}
  },
  {
   "cell_type": "code",
   "execution_count": 28,
   "source": [
    "params = fit_function()\n",
    "print(params)"
   ],
   "outputs": [
    {
     "output_type": "stream",
     "name": "stdout",
     "text": [
      "Step = 0 Cost = 4.912499465469817\n",
      "Step = 10 Cost = 0.017712616264713543\n",
      "Step = 20 Cost = 0.0010549650559467313\n",
      "Step = 30 Cost = 0.00033478390918251086\n",
      "Step = 40 Cost = 0.00019081038150773407\n",
      "Step = 50 Cost = 0.00012461609775915792\n",
      "Step = 60 Cost = 8.781349557163571e-05\n",
      "Step = 70 Cost = 6.52239822689002e-05\n",
      "Step = 80 Cost = 5.0362401887340637e-05\n",
      "Step = 90 Cost = 4.0063867053835406e-05\n",
      "[-1.48044238  1.57079633  0.1       ]\n"
     ]
    }
   ],
   "metadata": {}
  },
  {
   "cell_type": "code",
   "execution_count": 29,
   "source": [
    "test_predictions = []\n",
    "for x_test in X_test:\n",
    "    prediction = quantum_circuit(x_test,params)\n",
    "    test_predictions.append(prediction)"
   ],
   "outputs": [],
   "metadata": {}
  },
  {
   "cell_type": "code",
   "execution_count": 30,
   "source": [
    "fig = plt.figure()\n",
    "ax1 = fig.add_subplot(111)\n",
    "\n",
    "ax1.plot(X, Y, c='#219ebc', label='Training data')\n",
    "ax1.plot(X_test,Y_test, c='#fb8500', label='Test data')\n",
    "ax1.scatter(X_test,test_predictions, s=30, c='k', marker=\"x\", label='Model Predicitons')\n",
    "plt.xlabel(\"Inputs\")\n",
    "plt.ylabel(\"Outputs\")\n",
    "plt.title(\"QML results\")\n",
    "\n",
    "plt.legend(loc='upper right');\n",
    "plt.show()"
   ],
   "outputs": [
    {
     "output_type": "display_data",
     "data": {
      "text/plain": [
       "<Figure size 432x288 with 1 Axes>"
      ],
      "image/png": "[encoded data removed]"
     },
     "metadata": {
      "needs_background": "light"
     }
    }
   ],
   "metadata": {}
  }
 ],
 "metadata": {
  "orig_nbformat": 4,
  "language_info": {
   "name": "python",
   "version": "3.8.0",
   "mimetype": "text/x-python",
   "codemirror_mode": {
    "name": "ipython",
    "version": 3
   },
   "pygments_lexer": "ipython3",
   "nbconvert_exporter": "python",
   "file_extension": ".py"
  },
  "kernelspec": {
   "name": "python3",
   "display_name": "Python 3.8.0 64-bit ('covalent_env': conda)"
  },
  "interpreter": {
   "hash": "570ca153600493184bf96a1606a53850814bca4f88e49a285286a552c69ae0c5"
  }
 },
 "nbformat": 4,
 "nbformat_minor": 2
}