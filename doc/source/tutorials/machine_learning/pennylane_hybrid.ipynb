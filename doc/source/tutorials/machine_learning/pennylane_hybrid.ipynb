{
 "cells": [
  {
   "cell_type": "markdown",
   "metadata": {},
   "source": [
    "# Using Covalent with PennyLane for hybrid computation\n",
    "\n",
    "[PennyLane](https://pennylane.ai/) is a popular Python library for differentiable programming of quantum computers that is well suited for quantum machine learning tasks. In this tutorial, we will demonstrate how to integrate Covalent with PennyLane for a simple hybrid quantum-classical optimization task. The hybrid computation shown here contains three paradigms: 1) continuous-variable quantum computing with qumodes; 2) gate-based quantum computing with qubits; and 3) classical computing. For hybrid tasks like this one as well as more complex use cases, Covalent is able to intelligently schedule the subtasks to be performed on different hardwares and hence helps ease the workload. This tutorial is based on the PennyLane demo: [Plugins and Hybrid Computation](https://pennylane.ai/qml/demos/tutorial_plugins_hybrid.html).\n",
    "\n",
    "In essence, we will build a simple photonic circuit with two qumodes (i.e., photonic analog of qubits, which are referred to as \"wires\" in PennyLane) using PennyLane's Strawberry Fields plugin. The circuit is initialized with the state $\\ket{1,0}$ and contains a beamsplitter with two free parameters $\\theta$ and $\\phi$, which together determine the transmission and reflection amplitudes. In addition, we will build another one-qubit quantum circuit comprising two rotation gates with fixed angles. The goal is to optimize the beamsplitter parameters $(\\theta, \\phi)$ such that the expectation value of the photon number in the second wire of the photonic circuit is close to the expectation value of measurements of the qubit circuit in the computational basis. In a realistic hybrid implementation, the expectation values would be measured with quantum computers, whereas the optimization would be done on a classical computer. We will see how to use Covalent to manage such hybrid workflows. We refer the reader to the original PennyLane demo for more details on the quantum circuits."
   ]
  },
  {
   "cell_type": "markdown",
   "metadata": {},
   "source": [
    "In addition to Covalent, this tutorial uses PennyLane as well as its Strawberry Fields plugin. So we first do the following installations."
   ]
  },
  {
   "cell_type": "code",
   "execution_count": 1,
   "metadata": {},
   "outputs": [],
   "source": [
    "# !pip install cova\n",
    "# !pip install pennylane\n",
    "# !pip install pennylane-sf"
   ]
  },
  {
   "cell_type": "markdown",
   "metadata": {},
   "source": [
    "Then we start the Covalent server."
   ]
  },
  {
   "cell_type": "code",
   "execution_count": 2,
   "metadata": {},
   "outputs": [],
   "source": [
    "# !covalent start\n",
    "# !covalent purge"
   ]
  },
  {
   "cell_type": "markdown",
   "metadata": {},
   "source": [
    "Finally, let us import the necessary libraries."
   ]
  },
  {
   "cell_type": "code",
   "execution_count": 3,
   "metadata": {},
   "outputs": [],
   "source": [
    "import pennylane as qml\n",
    "from pennylane import numpy as np\n",
    "import covalent as ct\n",
    "import matplotlib.pyplot as plt"
   ]
  },
  {
   "cell_type": "markdown",
   "metadata": {},
   "source": [
    "## Construct the workflow\n",
    "\n",
    "We can now start constructing our workflow for the hybrid optimization task. First, we initialize two devices with PennyLane, one for the photon-redirection circuit and the other for a qubit-rotation circuit, which is needed for the optimization later. "
   ]
  },
  {
   "cell_type": "code",
   "execution_count": 4,
   "metadata": {},
   "outputs": [],
   "source": [
    "dev_fock = qml.device('strawberryfields.fock', wires=2, cutoff_dim=10)\n",
    "dev_qubit = qml.device('default.qubit', wires=1)"
   ]
  },
  {
   "cell_type": "markdown",
   "metadata": {},
   "source": [
    "With the devices initialized, we construct the corresponding quantum nodes by defining the quantum circuits and adding the `qnode` decorator onto them. Note that the qubit-rotation circuit is a simple one-qubit quantum circuit which composes of two rotation gates $R_X$ and $R_Y$, parameterized by two angles $\\phi_1$ and $\\phi_2$, respectively. We also define a classical node for computation of the squared difference between two values, which will be used in the cost function. To use Covalent in this workflow, we simply transform them into `Electron` objects by adding the `electron` decorator on top."
   ]
  },
  {
   "cell_type": "code",
   "execution_count": 5,
   "metadata": {},
   "outputs": [],
   "source": [
    "# Continuous-variable quantum node\n",
    "@ct.electron\n",
    "@qml.qnode(dev_fock)\n",
    "def photon_redirection(params):\n",
    "    qml.FockState(1, wires=0)\n",
    "    qml.Beamsplitter(params[0], params[1], wires=[0,1])\n",
    "    return qml.expval(qml.NumberOperator(1))\n",
    "\n",
    "# Gate-based quantum node\n",
    "@ct.electron\n",
    "@qml.qnode(dev_qubit)\n",
    "def qubit_rotation(phi1, phi2):\n",
    "    qml.RX(phi1, wires=0)\n",
    "    qml.RY(phi2, wires=0)\n",
    "    return qml.expval(qml.PauliZ(0))\n",
    "\n",
    "# Classical node\n",
    "@ct.electron\n",
    "def squared_difference(x, y):\n",
    "    return np.abs(x - y)**2"
   ]
  },
  {
   "cell_type": "markdown",
   "metadata": {},
   "source": [
    ".. note:: If you were to run the workflow on real quantum hardwares, you can specify the `executor` inside the `electron` decorator in the two quantum nodes, i.e., `@ct.electron(executor=quantum_executor)`, where `quantum_executor` might be one of the quantum devices that is supported in Covalent."
   ]
  },
  {
   "cell_type": "markdown",
   "metadata": {},
   "source": [
    "The hybrid workflow can now be constructed in the following way. We will first fix the qubit-rotation angles to be e.g., $\\phi_1 = 0.4$, $\\phi_2 = 0.8$. Then we will define the cost function (to be minimized) to be the squared difference between two expectation values as output by the two quantum nodes above. The other subtasks in the workflow include:\n",
    "- `get_optimizer` - Choose the optimizer. Here we choose the basic `GradientDescentOptimizer` but you can choose any [built-in optimizers](https://pennylane.readthedocs.io/en/stable/introduction/optimizers.html) from PennyLane.\n",
    "- `get_init_params` - Specify the initial values for $(\\theta, \\phi)$.\n",
    "- `training` - Run the optimization process.\n",
    "\n",
    "Now we will combine all the subtasks into the `workflow` function decorated with `lattice`."
   ]
  },
  {
   "cell_type": "code",
   "execution_count": 6,
   "metadata": {},
   "outputs": [],
   "source": [
    "@ct.electron\n",
    "def cost(params, phi1=0.4, phi2=0.8):\n",
    "    qubit_result = qubit_rotation(phi1, phi2)\n",
    "    photon_result = photon_redirection(params)\n",
    "    return squared_difference(qubit_result, photon_result)\n",
    "\n",
    "@ct.electron\n",
    "def get_optimizer():\n",
    "    return qml.GradientDescentOptimizer(stepsize=0.4)\n",
    "\n",
    "@ct.electron\n",
    "def get_init_params(init_params):\n",
    "    return np.array(init_params, requires_grad=True)\n",
    "\n",
    "@ct.electron\n",
    "def training(opt, init_params, cost, steps):\n",
    "    params = init_params\n",
    "    training_steps, cost_steps = [], [] # to record the costs as training progresses\n",
    "    for i in range(steps):\n",
    "        params = opt.step(cost, params)\n",
    "        training_steps.append(i)\n",
    "        cost_steps.append(cost(params))\n",
    "    return params, training_steps, cost_steps\n",
    "\n",
    "@ct.lattice\n",
    "def workflow(init_params, steps):\n",
    "    opt = get_optimizer()\n",
    "    params = get_init_params(init_params)\n",
    "    opt_params, training_steps, cost_steps  = training(opt, params, cost, steps)\n",
    "    return opt_params, training_steps, cost_steps"
   ]
  },
  {
   "cell_type": "markdown",
   "metadata": {},
   "source": [
    ".. note:: Since in realistic settings the training can be done on a classical computer, one can again specify the `executor` as `@ct.electron(executor=cpu_executor)` or `@ct.electron(executor=gpu_executor)`, where the `cpu_executor` and `gpu_executor` are proxies for the specific CPUs or GPUs to be used."
   ]
  },
  {
   "cell_type": "markdown",
   "metadata": {},
   "source": [
    "Finally, we use Covalent's dispatcher to dispatch the workflow."
   ]
  },
  {
   "cell_type": "code",
   "execution_count": 7,
   "metadata": {},
   "outputs": [],
   "source": [
    "dispatch_id = ct.dispatch(workflow)([0.01, 0.01], 50)\n",
    "result = ct.get_result(dispatch_id=dispatch_id, wait=True, results_dir=\"./results\")\n",
    "opt_params, traing_steps, cost_steps = result.result"
   ]
  },
  {
   "cell_type": "markdown",
   "metadata": {},
   "source": [
    "We can go to the Covalent UI at [http://0.0.0.0:48008](http://0.0.0.0:48008) to see a visual representation of the workflow we created as well as other information such as Input, Result, Executor, etc. In this particular case, our workflow looks like the following.\n",
    "\n",
    "<div align=\"center\">\n",
    "<img src=\"././pennylane_images/ui_workflow.png\" style=\"width: 95%; height: 95%\"/>\n",
    "</div>"
   ]
  },
  {
   "cell_type": "markdown",
   "metadata": {},
   "source": [
    "Now from the result we can see if the training was successful by tracking how the cost evolved with the training steps."
   ]
  },
  {
   "cell_type": "code",
   "execution_count": 8,
   "metadata": {},
   "outputs": [
    {
     "data": {
      "image/png": "[encoded data removed]",
      "text/plain": [
       "<Figure size 432x288 with 1 Axes>"
      ]
     },
     "metadata": {
      "needs_background": "light"
     },
     "output_type": "display_data"
    }
   ],
   "source": [
    "plt.plot(traing_steps, cost_steps)\n",
    "plt.xlabel(\"Step\")\n",
    "plt.ylabel(\"Cost\")\n",
    "plt.show()"
   ]
  },
  {
   "cell_type": "markdown",
   "metadata": {},
   "source": [
    "We see that the cost gets very close to zero in less than 10 training steps, indicating that the optimization was successful. Indeed, we can compare the expected photon number evaluated with the optimal parameters and the expectation value from the qubit circuit."
   ]
  },
  {
   "cell_type": "code",
   "execution_count": 9,
   "metadata": {},
   "outputs": [
    {
     "name": "stdout",
     "output_type": "stream",
     "text": [
      "0.6417093721057024\n",
      "0.6417093742397795\n"
     ]
    }
   ],
   "source": [
    "print(photon_redirection(opt_params))\n",
    "print(qubit_rotation(0.4, 0.8))"
   ]
  },
  {
   "cell_type": "markdown",
   "metadata": {},
   "source": [
    "## Summary\n",
    "\n",
    "In this tutorial we demonstrated how to use Covalent in conjuction with PennyLane for a hybrid task. Despite the simplicity of the task, the workflow should generalize straightforwardly to more complex tasks which can take advantage of the features of Covalent such as auto-parallelization and intelligent scheduling."
   ]
  }
 ],
 "metadata": {
  "interpreter": {
   "hash": "32144526e3e48b1da32ceaab4ff5300b6c301be9548fec2b2ea4fc4d43cc13cc"
  },
  "kernelspec": {
   "display_name": "Python 3.8.8 ('base')",
   "language": "python",
   "name": "python3"
  },
  "language_info": {
   "codemirror_mode": {
    "name": "ipython",
    "version": 3
   },
   "file_extension": ".py",
   "mimetype": "text/x-python",
   "name": "python",
   "nbconvert_exporter": "python",
   "pygments_lexer": "ipython3",
   "version": "3.8.8"
  },
  "orig_nbformat": 4
 },
 "nbformat": 4,
 "nbformat_minor": 2
}
