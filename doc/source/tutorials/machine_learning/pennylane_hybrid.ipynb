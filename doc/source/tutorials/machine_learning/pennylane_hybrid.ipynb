{
 "cells": [
  {
   "cell_type": "markdown",
   "metadata": {},
   "source": [
    "# Using Covalent with PennyLane\n",
    "\n",
    "[PennyLane](https://pennylane.ai/) is a popular Python library for differentiable programming of quantum computers that is well suited for quantum machine learning tasks. In this tutorial, we will demonstrate how to integrate Covalent with PennyLane for a simple hybrid quantum-classical optimization task. This is based on the PennyLane demo: [Plugins and Hybrid Computation](https://pennylane.ai/qml/demos/tutorial_plugins_hybrid.html).\n",
    "\n",
    "In essence, we will build a simple photonic circuit with two qumodes (i.e., photonic analog of qubits, which are referred to as \"wires\" in PennyLane) using PennyLane's Strawberry Fields plugin. The circuit is initialized with the state $\\ket{1,0}$ and contains a beamsplitter with two free parameters $\\theta$ and $\\phi$, which together determine the transmission and reflection amplitudes. The goal is to optimize the beamsplitter parameters $(\\theta, \\phi)$ such that the expectation value of the photon number in the second wire is maximized. In a realistic hybrid implementation, the expected photon number would be measured with a photonic quantum computer, whereas the optimization would be done on a classical computer. We will see how to use Covalent to manage such hybrid workflows. We refer the reader to the original PennyLane demo for more details on the photonic circuit."
   ]
  },
  {
   "cell_type": "markdown",
   "metadata": {},
   "source": [
    "In addition to Covalent, this tutorial uses PennyLane as well as its Strawberry Fields plugin. So we first do the following installations."
   ]
  },
  {
   "cell_type": "code",
   "execution_count": null,
   "metadata": {},
   "outputs": [],
   "source": [
    "# !pip install cova\n",
    "# !pip install pennylane\n",
    "# !pip install pennylane-sf"
   ]
  },
  {
   "cell_type": "markdown",
   "metadata": {},
   "source": [
    "Then we start the Covalent server."
   ]
  },
  {
   "cell_type": "code",
   "execution_count": null,
   "metadata": {},
   "outputs": [],
   "source": [
    "# !covalent start"
   ]
  },
  {
   "cell_type": "markdown",
   "metadata": {},
   "source": [
    "Finally, let us import the necessary libraries."
   ]
  },
  {
   "cell_type": "code",
   "execution_count": 2,
   "metadata": {},
   "outputs": [],
   "source": [
    "import pennylane as qml\n",
    "from pennylane import numpy as np\n",
    "import covalent as ct"
   ]
  },
  {
   "cell_type": "markdown",
   "metadata": {},
   "source": [
    "## Construct the workflow"
   ]
  },
  {
   "cell_type": "code",
   "execution_count": null,
   "metadata": {},
   "outputs": [],
   "source": []
  },
  {
   "cell_type": "code",
   "execution_count": null,
   "metadata": {},
   "outputs": [],
   "source": []
  },
  {
   "cell_type": "code",
   "execution_count": null,
   "metadata": {},
   "outputs": [],
   "source": []
  },
  {
   "cell_type": "code",
   "execution_count": 2,
   "metadata": {},
   "outputs": [],
   "source": [
    "dev_qubit = qml.device('default.qubit', wires=1)\n",
    "dev_fock = qml.device('strawberryfields.fock', wires=2, cutoff_dim=10)"
   ]
  },
  {
   "cell_type": "code",
   "execution_count": 3,
   "metadata": {},
   "outputs": [],
   "source": [
    "@ct.electron\n",
    "@qml.qnode(dev_qubit)\n",
    "def qubit_rotation(phi1, phi2):\n",
    "    qml.RX(phi1, wires=0)\n",
    "    qml.RY(phi2, wires=0)\n",
    "    return qml.expval(qml.PauliZ(0))\n",
    "\n",
    "@ct.electron\n",
    "@qml.qnode(dev_fock)\n",
    "def photon_redirection(params):\n",
    "    qml.FockState(1, wires=0)\n",
    "    qml.Beamsplitter(params[0], params[1], wires=[0,1])\n",
    "    return qml.expval(qml.NumberOperator(1))\n",
    "\n",
    "@ct.electron\n",
    "def cost(params, phi1=0.5, phi2=0.1):\n",
    "    qubit_result = qubit_rotation(phi1, phi2)\n",
    "    photon_result = photon_redirection(params)\n",
    "    return np.abs(qubit_result - photon_result)**2\n",
    "\n",
    "@ct.electron\n",
    "def get_optimizer():\n",
    "    return qml.GradientDescentOptimizer(stepsize=0.4)\n",
    "\n",
    "@ct.electron\n",
    "def get_initial_params(init_params):\n",
    "    return np.array(init_params, requires_grad=True)\n",
    "\n",
    "@ct.electron\n",
    "def training(opt, init_params, cost, steps):\n",
    "    params = init_params\n",
    "    for _ in range(steps):\n",
    "        params = opt.step(cost, params)\n",
    "    return params, cost(params)\n",
    "\n",
    "@ct.lattice\n",
    "def workflow(init_params, steps):\n",
    "    opt = get_optimizer()\n",
    "    params = get_initial_params(init_params)\n",
    "    params, final_cost = training(opt, params, cost, steps)\n",
    "    return params, final_cost"
   ]
  },
  {
   "cell_type": "code",
   "execution_count": 20,
   "metadata": {},
   "outputs": [
    {
     "name": "stdout",
     "output_type": "stream",
     "text": [
      "0.8731982995880654\n",
      "0.8731983044562817\n"
     ]
    }
   ],
   "source": [
    "result, final_cost = workflow([0.01, 0.01], 50);\n",
    "print(photon_redirection(result))\n",
    "print(qubit_rotation(0.5, 0.1))"
   ]
  },
  {
   "cell_type": "code",
   "execution_count": 4,
   "metadata": {},
   "outputs": [],
   "source": [
    "dispatch_id = ct.dispatch(workflow)([0.01, 0.01], 50)"
   ]
  },
  {
   "cell_type": "code",
   "execution_count": 5,
   "metadata": {},
   "outputs": [
    {
     "data": {
      "text/plain": [
       "'f447e032-6a52-4b4a-a1bd-7c88b8591a9f'"
      ]
     },
     "execution_count": 5,
     "metadata": {},
     "output_type": "execute_result"
    }
   ],
   "source": [
    "dispatch_id"
   ]
  },
  {
   "cell_type": "code",
   "execution_count": 10,
   "metadata": {},
   "outputs": [
    {
     "name": "stdout",
     "output_type": "stream",
     "text": [
      "\n",
      "Lattice Result\n",
      "==============\n",
      "status: COMPLETED\n",
      "result: (tensor([1.20671364, 0.01      ], requires_grad=True), tensor(2.36995297e-17, requires_grad=True))\n",
      "inputs: {'args': [[0.01, 0.01], 50], 'kwargs': {}}\n",
      "error: None\n",
      "\n",
      "start_time: 2022-06-01 19:38:27.115063+00:00\n",
      "end_time: 2022-06-01 19:38:34.457795+00:00\n",
      "\n",
      "results_dir: /Users/ruihaoli/Library/CloudStorage/OneDrive-TheUniversityofSydney(Students)/CWRU 2022/Agnostiq Internship/Progress/Covalent_PennyLane/results\n",
      "dispatch_id: f447e032-6a52-4b4a-a1bd-7c88b8591a9f\n",
      "\n",
      "Node Outputs\n",
      "------------\n",
      "get_optimizer(0): <pennylane.optimize.gradient_descent.GradientDescentOptimizer object at 0x7ff1113e43a0>\n",
      "get_initial_params(1): [0.01 0.01]\n",
      ":electron_list:(2): [0.01, 0.01]\n",
      ":parameter:0.01(3): 0.01\n",
      ":parameter:0.01(4): 0.01\n",
      "training(5): (tensor([1.20671364, 0.01      ], requires_grad=True), tensor(2.36995297e-17, requires_grad=True))\n",
      ":parameter:<function cost at 0x7ff11071e310>(6): <function cost at 0x7ff1113ea310>\n",
      ":parameter:50(7): 50\n",
      ":generated:training()[0](8): [1.20671364 0.01      ]\n",
      ":generated:training()[1](9): 2.369952969574513e-17\n",
      "\n"
     ]
    }
   ],
   "source": [
    "result = ct.get_result(dispatch_id=dispatch_id, results_dir=\"./results\")\n",
    "print(result)"
   ]
  },
  {
   "cell_type": "code",
   "execution_count": 11,
   "metadata": {},
   "outputs": [
    {
     "name": "stdout",
     "output_type": "stream",
     "text": [
      "0.8731983021146449\n",
      "0.8731983044562817\n"
     ]
    }
   ],
   "source": [
    "print(photon_redirection([1.20671364, 0.01]))\n",
    "print(qubit_rotation(0.5, 0.1))"
   ]
  },
  {
   "cell_type": "code",
   "execution_count": null,
   "metadata": {},
   "outputs": [],
   "source": []
  }
 ],
 "metadata": {
  "interpreter": {
   "hash": "32144526e3e48b1da32ceaab4ff5300b6c301be9548fec2b2ea4fc4d43cc13cc"
  },
  "kernelspec": {
   "display_name": "Python 3.8.8 ('base')",
   "language": "python",
   "name": "python3"
  },
  "language_info": {
   "codemirror_mode": {
    "name": "ipython",
    "version": 3
   },
   "file_extension": ".py",
   "mimetype": "text/x-python",
   "name": "python",
   "nbconvert_exporter": "python",
   "pygments_lexer": "ipython3",
   "version": "3.8.8"
  },
  "orig_nbformat": 4
 },
 "nbformat": 4,
 "nbformat_minor": 2
}
