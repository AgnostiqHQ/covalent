{
 "cells": [
  {
   "cell_type": "markdown",
   "metadata": {},
   "source": [
    "# Training quantum embedding kernels for classification\n",
    "\n",
    "In this tutorial we will dive deeper into the the concept of quantum embedding kernels, or quantum kernels. We will train a quantum kernel based on a similarity measure called the kernel-target alignment and see how the training improves the performance of it as a classifier. We will demonstrate how to use Covalent to orchestrate the whole workflow composed of multiple smaller subtasks. Once the workflow is dispatched, we will be able to track the results of each subtask through the Covalent result manager. In the meantime, all the subtasks constructed can be called as normal Python functions, giving users more flexibility in testing and debugging. For more details about the quantum embedding kernels, we refer the reader to this PennyLane demo: [Training and evaluating quantum kernels](https://pennylane.ai/qml/demos/tutorial_kernels_module.html#training-qeks), which this tutorial is based on."
   ]
  },
  {
   "cell_type": "markdown",
   "metadata": {},
   "source": [
    "In addition to Covalent, one first needs to install the following packages in order to fully reproduce the results of this tutorial."
   ]
  },
  {
   "cell_type": "code",
   "execution_count": null,
   "metadata": {},
   "outputs": [],
   "source": [
    "# !pip install pennylane==0.23.1\n",
    "# !pip install scikit-learn==1.1.1\n",
    "# !pip install matplotlib==3.5.1\n",
    "# !pip install covalent-dask-plugin"
   ]
  },
  {
   "cell_type": "markdown",
   "metadata": {},
   "source": [
    "Let us begin by starting the Covalent server and importing the necessary packages."
   ]
  },
  {
   "cell_type": "code",
   "execution_count": 12,
   "metadata": {},
   "outputs": [],
   "source": [
    "# !covalent start"
   ]
  },
  {
   "cell_type": "code",
   "execution_count": 72,
   "metadata": {},
   "outputs": [
    {
     "name": "stderr",
     "output_type": "stream",
     "text": [
      "/Users/ruihaoli/opt/miniconda3/lib/python3.8/site-packages/distributed/node.py:160: UserWarning: Port 8787 is already in use.\n",
      "Perhaps you already have a cluster running?\n",
      "Hosting the HTTP server on port 54750 instead\n",
      "  warnings.warn(\n"
     ]
    }
   ],
   "source": [
    "import pennylane as qml\n",
    "from pennylane import numpy as np\n",
    "import covalent as ct\n",
    "from covalent.executor import DaskExecutor\n",
    "from dask.distributed import LocalCluster\n",
    "import matplotlib.pyplot as plt\n",
    "from matplotlib.colors import ListedColormap\n",
    "from matplotlib.markers import MarkerStyle\n",
    "from sklearn.datasets import make_classification\n",
    "from sklearn.model_selection import train_test_split\n",
    "from sklearn.svm import SVC\n",
    "from sklearn.inspection import DecisionBoundaryDisplay\n",
    "\n",
    "cluster = LocalCluster(processes=True)\n",
    "dask_executor = DaskExecutor(scheduler_address=cluster.scheduler_address)\n",
    "\n",
    "np.random.seed(2022)"
   ]
  },
  {
   "cell_type": "markdown",
   "metadata": {},
   "source": [
    "## Defining the quantum kernel\n",
    "\n",
    "We first generate a dataset with two features and two classes for our classification task using `scikit-learn`'s `make_classification` function. The dataset contains 20 randomly generated points, with 10 in each class. We then do a train/test split with ratio 8:2. Moreover, we include the above two steps in the Covalent workflow as subtasks by adding the `electron` decorator on top of the respective functions."
   ]
  },
  {
   "cell_type": "code",
   "execution_count": 63,
   "metadata": {},
   "outputs": [],
   "source": [
    "@ct.electron\n",
    "def get_data():\n",
    "    X, y = make_classification(\n",
    "        n_samples=20, n_features=2, n_redundant=0, random_state=42, n_clusters_per_class=2, flip_y=0.3, class_sep=0.5\n",
    "    )\n",
    "    X = X.astype(np.float32)\n",
    "    y = 2 * (y - 0.5) # rescale labels to be -1, 1\n",
    "    y = y.astype(int)\n",
    "    return X, y\n",
    "\n",
    "@ct.electron\n",
    "def split_train_test_data(X, y):\n",
    "    X_train, X_test, y_train, y_test = train_test_split(X, y, test_size=0.3, random_state=5)\n",
    "    return X_train, X_test, y_train, y_test"
   ]
  },
  {
   "cell_type": "markdown",
   "metadata": {},
   "source": [
    "As mentioned in the beginning, these subtasks can be called as normal Python functions. So we can plot the dataset for visualization."
   ]
  },
  {
   "cell_type": "code",
   "execution_count": 65,
   "metadata": {},
   "outputs": [
    {
     "data": {
      "image/png": "[encoded data removed]",
      "text/plain": [
       "<Figure size 504x360 with 1 Axes>"
      ]
     },
     "metadata": {},
     "output_type": "display_data"
    }
   ],
   "source": [
    "X, y = get_data()\n",
    "X_train, X_test, y_train, y_test = split_train_test_data(X, y)\n",
    "\n",
    "fig, ax = plt.subplots(1, 1, figsize=(7, 5), facecolor=\"w\")\n",
    "ax.plot(X_train[:, 0][y_train==1], X_train[:, 1][y_train==1], \"bo\", label=\"train_1\")\n",
    "ax.plot(X_train[:, 0][y_train==-1], X_train[:, 1][y_train==-1], \"ro\", label=\"train_-1\")\n",
    "ax.plot(X_test[:, 0][y_test==1], X_test[:, 1][y_test==1], \"bo\", fillstyle='none', label=\"test_1\")\n",
    "ax.plot(X_test[:, 0][y_test==-1], X_test[:, 1][y_test==-1], \"ro\", fillstyle='none', label=\"test_-1\")\n",
    "ax.set_xlabel(\"First feature\")\n",
    "ax.set_ylabel(\"Second feature\")\n",
    "plt.tight_layout()\n",
    "plt.legend()\n",
    "plt.show()"
   ]
  },
  {
   "cell_type": "markdown",
   "metadata": {},
   "source": [
    "Next, we construct the quantum embedding kernel by building a *data reuploading* quantum circuit based on the ansatz given in [Hubregtsen et al. 2021](https://arxiv.org/abs/2105.02276). Specifically, this ansatz uses a repeating layer architecture, where each layer embeds the 2 features into 5 qubits through the angles of $R_Z$ gates. The variational parameters correspond to the angles of a series of $R_Y$ and controlled-$R_Z$ gates. The ansatz diagram of one layer is shown below.\n",
    "\n",
    "<div align=\"center\">\n",
    "<img src=\"././qek_images/qek_circuit.png\" style=\"width: 50%; height: 50%\"/>\n",
    "</div>\n",
    "\n",
    "A quantum kernel is given by the mutual overlap of the two data-embedding quantum states, i.e.,\n",
    "$$\n",
    "\\kappa(x_1, x_2) = \\vert{\\langle \\phi(x_2) \\vert \\phi(x_1) \\rangle} \\vert^2.\n",
    "$$\n",
    "Therefore, to define a quantum kernel function, we construct the following subtasks with Covalent:\n",
    "- `layer` - Build the quantum circuit for each layer of the ansatz.\n",
    "- `ansatz` - Construct the ansatz circuit with an arbitrary number of layers.\n",
    "- `adjoint_ansatz` - Get the adjoint of the ansatz circuit.\n",
    "- `kernel_circuit` - Construct the quantum embedding kernel circuit based on `ansatz` and `adjoint_ansatz`.\n",
    "- `kernel` - Return the quantum kernel function based on `kernel_circuit`."
   ]
  },
  {
   "cell_type": "code",
   "execution_count": 19,
   "metadata": {},
   "outputs": [],
   "source": [
    "dev = qml.device(\"default.qubit\", wires=5, shots=None)\n",
    "wires = dev.wires.tolist()\n",
    "\n",
    "@ct.electron\n",
    "def layer(x, params, wires, i0=0, inc=1):\n",
    "    i = i0\n",
    "    for j, wire in enumerate(wires):\n",
    "        qml.Hadamard(wires=[wire])\n",
    "        qml.RZ(x[i % len(x)], wires=[wire])\n",
    "        i += inc\n",
    "        qml.RY(params[0, j], wires=[wire])\n",
    "\n",
    "    qml.broadcast(unitary=qml.CRZ, pattern=\"ring\", wires=wires, parameters=params[1])\n",
    "\n",
    "@ct.electron\n",
    "def ansatz(x, params, wires):\n",
    "    for j, layer_params in enumerate(params):\n",
    "        layer(x, layer_params, wires, i0=j * len(wires))\n",
    "\n",
    "@ct.electron\n",
    "def adjoint_ansatz(ansatz):\n",
    "    return qml.adjoint(ansatz)\n",
    "\n",
    "@ct.electron\n",
    "@qml.qnode(dev)\n",
    "def kernel_circuit(x1, x2, params):\n",
    "    ansatz(x1, params, wires=wires)\n",
    "    adjoint_ansatz(ansatz)(x2, params, wires=wires)\n",
    "    return qml.probs(wires=wires)\n",
    "\n",
    "@ct.electron\n",
    "def kernel(x1, x2, params):\n",
    "    return kernel_circuit(x1, x2, params)[0]"
   ]
  },
  {
   "cell_type": "markdown",
   "metadata": {},
   "source": [
    "Now we are in a position to build a support vector machine (SVM) classifier based on the quantum kernel. It consists of two subtasks:\n",
    "- `init_params` - Randomly initialize the variational parameters.\n",
    "- `svm` - Build the SVM classifier using the quantum kernel.\n",
    "\n",
    "To accomplish the second subtask, we first use PennyLane's `qml.kernels.kernel_matrix` function to get the kernel matrix of a full dataset (not just between two data points) based on the given parameters. The kernel matrix is then fed into `scikit-learn`'s support vector classifier (`SVC`), which allows us to build a quantum SVM estimator using the training data."
   ]
  },
  {
   "cell_type": "code",
   "execution_count": 20,
   "metadata": {},
   "outputs": [],
   "source": [
    "@ct.electron\n",
    "def init_params(num_wires, num_layers):\n",
    "    return np.random.uniform(0, 2 * np.pi, (num_layers, 2, num_wires), requires_grad=True)\n",
    "\n",
    "@ct.electron\n",
    "def svm(X, y, params):\n",
    "    kernel_input = lambda x1, x2: kernel(x1, x2, params)\n",
    "    svm = SVC(kernel=lambda x1, x2: qml.kernels.kernel_matrix(x1, x2, kernel_input))\n",
    "    svm.fit(X, y)\n",
    "    return svm"
   ]
  },
  {
   "cell_type": "markdown",
   "metadata": {},
   "source": [
    "Finally, we can combine all the subtasks discussed above into a single workflow function called `get_qsvm` with the `lattice` decorator on top. For this tutorial, we will be using 3 layers of the embedding ansatz."
   ]
  },
  {
   "cell_type": "code",
   "execution_count": 66,
   "metadata": {},
   "outputs": [],
   "source": [
    "@ct.lattice(executor=dask_executor)\n",
    "def get_qsvm():\n",
    "    X, y = get_data()\n",
    "    X_train, X_test, y_train, y_test = split_train_test_data(X, y)\n",
    "    params = init_params(5, 3)\n",
    "    classifier = svm(X_train, y_train, params)\n",
    "    return classifier, X_train, y_train, X_test, y_test"
   ]
  },
  {
   "cell_type": "markdown",
   "metadata": {},
   "source": [
    "The workflow is then dispatched to the Covalent server and the results are retrievable once the workflow is finished. One can also track all the results through the Covalent result manager."
   ]
  },
  {
   "cell_type": "code",
   "execution_count": null,
   "metadata": {},
   "outputs": [],
   "source": [
    "dispatch_id = ct.dispatch(get_qsvm)()\n",
    "result = ct.get_result(dispatch_id=dispatch_id, wait=True)\n",
    "qsvm, X_train, y_train, X_test, y_test = result.result"
   ]
  },
  {
   "cell_type": "markdown",
   "metadata": {},
   "source": [
    "We can also define a function to calculate the accuracy of a classifier, which we can use to test the performance of the SVM classifier built from random parameters on the both the train and test datasets."
   ]
  },
  {
   "cell_type": "code",
   "execution_count": 67,
   "metadata": {},
   "outputs": [],
   "source": [
    "qsvm, X_train, y_train, X_test, y_test = get_qsvm()"
   ]
  },
  {
   "cell_type": "code",
   "execution_count": 68,
   "metadata": {},
   "outputs": [
    {
     "name": "stdout",
     "output_type": "stream",
     "text": [
      "0.7857142857142857\n",
      "0.5\n"
     ]
    }
   ],
   "source": [
    "def calc_accuracy(classifier, X, y_true):\n",
    "    return 1 - np.count_nonzero(classifier.predict(X) - y_true) / len(y_true)\n",
    "\n",
    "print(calc_accuracy(qsvm, X_train, y_train))\n",
    "print(calc_accuracy(qsvm, X_test, y_test))"
   ]
  },
  {
   "cell_type": "markdown",
   "metadata": {},
   "source": [
    "Furthermore, we can also plot the decision boundaries of our initial SVM classifier for better visualization."
   ]
  },
  {
   "cell_type": "code",
   "execution_count": 80,
   "metadata": {},
   "outputs": [
    {
     "data": {
      "image/png": "[encoded data removed]",
      "text/plain": [
       "<Figure size 432x288 with 1 Axes>"
      ]
     },
     "metadata": {
      "needs_background": "light"
     },
     "output_type": "display_data"
    }
   ],
   "source": [
    "cm = plt.cm.RdBu\n",
    "cm_bright = ListedColormap(['#FF0000', '#0000FF'])\n",
    "\n",
    "disp = DecisionBoundaryDisplay.from_estimator(qsvm, X, grid_resolution=30, response_method='predict', alpha=0.5, cmap=cm)\n",
    "disp.ax_.scatter(X_train[:, 0], X_train[:, 1], c=y_train, cmap=cm_bright)\n",
    "disp.ax_.scatter(X_test[:, 0], X_test[:, 1], c=y_test, cmap=cm_bright, marker=\"$\\u25EF$\")\n",
    "plt.show()"
   ]
  },
  {
   "cell_type": "markdown",
   "metadata": {},
   "source": [
    "We see that ..."
   ]
  },
  {
   "cell_type": "markdown",
   "metadata": {},
   "source": [
    "## Training the quantum kernel"
   ]
  },
  {
   "cell_type": "code",
   "execution_count": null,
   "metadata": {},
   "outputs": [],
   "source": []
  },
  {
   "cell_type": "code",
   "execution_count": null,
   "metadata": {},
   "outputs": [],
   "source": []
  }
 ],
 "metadata": {
  "interpreter": {
   "hash": "32144526e3e48b1da32ceaab4ff5300b6c301be9548fec2b2ea4fc4d43cc13cc"
  },
  "kernelspec": {
   "display_name": "Python 3.8.8 ('base')",
   "language": "python",
   "name": "python3"
  },
  "language_info": {
   "codemirror_mode": {
    "name": "ipython",
    "version": 3
   },
   "file_extension": ".py",
   "mimetype": "text/x-python",
   "name": "python",
   "nbconvert_exporter": "python",
   "pygments_lexer": "ipython3",
   "version": "3.8.8"
  },
  "orig_nbformat": 4
 },
 "nbformat": 4,
 "nbformat_minor": 2
}
