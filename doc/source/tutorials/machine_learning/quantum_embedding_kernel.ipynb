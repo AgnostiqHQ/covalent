{
 "cells": [
  {
   "cell_type": "markdown",
   "metadata": {},
   "source": [
    "# Training quantum embedding kernels for classification\n",
    "\n",
    "In this tutorial we will dive deeper into the the concept of quantum embedding kernels, or quantum kernels. We will train a quantum kernel based on a similarity measure called the kernel-target alignment and see how the training improves the performance of it as a classifier. We will demonstrate how to use Covalent to orchestrate the whole workflow composed of multiple smaller subtasks. Once the workflow is dispatched, we will be able to track the results of each subtask through the Covalent result manager. In the meantime, all the subtasks constructed can be called as normal Python functions, giving users more flexibility in testing and debugging. For more details about the quantum embedding kernels, we refer the reader to this PennyLane demo: [Training and evaluating quantum kernels](https://pennylane.ai/qml/demos/tutorial_kernels_module.html#training-qeks), which this tutorial is based on."
   ]
  },
  {
   "cell_type": "markdown",
   "metadata": {},
   "source": [
    "In addition to Covalent, one first needs to install the following packages in order to fully reproduce the results of this tutorial."
   ]
  },
  {
   "cell_type": "code",
   "execution_count": null,
   "metadata": {},
   "outputs": [],
   "source": [
    "# !pip install pennylane==0.23.1\n",
    "# !pip install scikit-learn==1.1.1\n",
    "# !pip install matplotlib==3.5.1\n",
    "# !pip install covalent-dask-plugin"
   ]
  },
  {
   "cell_type": "markdown",
   "metadata": {},
   "source": [
    "Let us begin by starting the Covalent server and importing the necessary packages."
   ]
  },
  {
   "cell_type": "code",
   "execution_count": 12,
   "metadata": {},
   "outputs": [],
   "source": [
    "# !covalent start"
   ]
  },
  {
   "cell_type": "code",
   "execution_count": 2,
   "metadata": {},
   "outputs": [
    {
     "name": "stderr",
     "output_type": "stream",
     "text": [
      "/Users/ruihaoli/opt/miniconda3/lib/python3.8/site-packages/distributed/node.py:160: UserWarning: Port 8787 is already in use.\n",
      "Perhaps you already have a cluster running?\n",
      "Hosting the HTTP server on port 61530 instead\n",
      "  warnings.warn(\n"
     ]
    }
   ],
   "source": [
    "import pennylane as qml\n",
    "from pennylane import numpy as np\n",
    "import covalent as ct\n",
    "from covalent.executor import DaskExecutor\n",
    "from dask.distributed import LocalCluster\n",
    "import matplotlib.pyplot as plt\n",
    "from matplotlib.colors import ListedColormap\n",
    "from matplotlib.markers import MarkerStyle\n",
    "from sklearn.datasets import make_classification\n",
    "from sklearn.model_selection import train_test_split\n",
    "from sklearn.svm import SVC\n",
    "from sklearn.inspection import DecisionBoundaryDisplay\n",
    "\n",
    "cluster = LocalCluster(processes=True)\n",
    "dask_executor = DaskExecutor(scheduler_address=cluster.scheduler_address)\n",
    "\n",
    "np.random.seed(2022)"
   ]
  },
  {
   "cell_type": "markdown",
   "metadata": {},
   "source": [
    "## Defining the quantum kernel\n",
    "\n",
    "We first generate a dataset with two features and two classes for our classification task using `scikit-learn`'s `make_classification` function. For this tutorial, we will make the dataset contain 20 randomly generated points, with 10 in each class. We then do a train/test split with ratio 7:3. Moreover, we include the above two steps in the Covalent workflow as subtasks by adding the `electron` decorator on top of the respective functions."
   ]
  },
  {
   "cell_type": "code",
   "execution_count": 3,
   "metadata": {},
   "outputs": [],
   "source": [
    "@ct.electron\n",
    "def get_data(n_samples=20):\n",
    "    X, y = make_classification(\n",
    "        n_samples=n_samples, n_features=2, n_redundant=0, random_state=42, n_clusters_per_class=2, flip_y=0.3, class_sep=0.5\n",
    "    )\n",
    "    X = X.astype(np.float32)\n",
    "    y = 2 * (y - 0.5) # rescale labels to be -1, 1\n",
    "    y = y.astype(int)\n",
    "    return X, y\n",
    "\n",
    "@ct.electron\n",
    "def split_train_test_data(X, y, test_size=0.3):\n",
    "    X_train, X_test, y_train, y_test = train_test_split(X, y, test_size=test_size, random_state=5)\n",
    "    return X_train, X_test, y_train, y_test"
   ]
  },
  {
   "cell_type": "markdown",
   "metadata": {},
   "source": [
    "As mentioned in the beginning, these subtasks can be called as normal Python functions. So we can plot the dataset for visualization."
   ]
  },
  {
   "cell_type": "code",
   "execution_count": 4,
   "metadata": {},
   "outputs": [
    {
     "data": {
      "image/png": "[encoded data removed]",
      "text/plain": [
       "<Figure size 432x288 with 1 Axes>"
      ]
     },
     "metadata": {},
     "output_type": "display_data"
    }
   ],
   "source": [
    "X, y = get_data()\n",
    "X_train, X_test, y_train, y_test = split_train_test_data(X, y)\n",
    "\n",
    "fig, ax = plt.subplots(1, 1, figsize=(6, 4), facecolor=\"w\")\n",
    "ax.plot(X_train[:, 0][y_train==1], X_train[:, 1][y_train==1], \"bo\", label=\"train_1\")\n",
    "ax.plot(X_train[:, 0][y_train==-1], X_train[:, 1][y_train==-1], \"ro\", label=\"train_-1\")\n",
    "ax.plot(X_test[:, 0][y_test==1], X_test[:, 1][y_test==1], \"bo\", fillstyle='none', label=\"test_1\")\n",
    "ax.plot(X_test[:, 0][y_test==-1], X_test[:, 1][y_test==-1], \"ro\", fillstyle='none', label=\"test_-1\")\n",
    "ax.set_xlabel(\"First feature\")\n",
    "ax.set_ylabel(\"Second feature\")\n",
    "plt.tight_layout()\n",
    "plt.legend(loc=\"lower right\")\n",
    "plt.show()"
   ]
  },
  {
   "cell_type": "markdown",
   "metadata": {},
   "source": [
    "Next, we construct the quantum embedding kernel by building a *data reuploading* quantum circuit based on the ansatz given in [Hubregtsen et al. 2021](https://arxiv.org/abs/2105.02276). Specifically, this ansatz uses a repeating layer architecture, where each layer embeds the 2 features into 5 qubits through the angles of $R_Z$ gates. The variational parameters correspond to the angles of a series of $R_Y$ and controlled-$R_Z$ gates. The ansatz diagram of one layer is shown below.\n",
    "\n",
    "<div align=\"center\">\n",
    "<img src=\"././qek_images/qek_circuit.png\" style=\"width: 50%; height: 50%\"/>\n",
    "</div>\n",
    "\n",
    "A quantum kernel is given by the mutual overlap of the two data-embedding quantum states, i.e.,\n",
    "$$\n",
    "k(x_1, x_2) = \\vert{\\langle \\phi(x_2) \\vert \\phi(x_1) \\rangle} \\vert^2.\n",
    "$$\n",
    "Therefore, to define a quantum kernel function, we construct the following subtasks with Covalent:\n",
    "- `layer` - Build the quantum circuit for each layer of the ansatz.\n",
    "- `ansatz` - Construct the ansatz circuit with an arbitrary number of layers.\n",
    "- `adjoint_ansatz` - Get the adjoint of the ansatz circuit.\n",
    "- `kernel_circuit` - Construct the quantum embedding kernel circuit based on `ansatz` and `adjoint_ansatz`.\n",
    "- `kernel` - Return the quantum kernel function based on `kernel_circuit`."
   ]
  },
  {
   "cell_type": "code",
   "execution_count": 5,
   "metadata": {},
   "outputs": [],
   "source": [
    "@ct.electron\n",
    "def layer(x, params, wires, i0=0, inc=1):\n",
    "    i = i0\n",
    "    for j, wire in enumerate(wires):\n",
    "        qml.Hadamard(wires=[wire])\n",
    "        qml.RZ(x[i % len(x)], wires=[wire])\n",
    "        i += inc\n",
    "        qml.RY(params[0, j], wires=[wire])\n",
    "\n",
    "    qml.broadcast(unitary=qml.CRZ, pattern=\"ring\", wires=wires, parameters=params[1])\n",
    "\n",
    "@ct.electron\n",
    "def ansatz(x, params, wires):\n",
    "    for j, layer_params in enumerate(params):\n",
    "        layer(x, layer_params, wires, i0=j * len(wires))\n",
    "\n",
    "@ct.electron\n",
    "def adjoint_ansatz(ansatz):\n",
    "    return qml.adjoint(ansatz)\n",
    "\n",
    "@ct.electron\n",
    "def kernel_circuit(params):\n",
    "    dev = qml.device(\"default.qubit\", wires=params.shape[2], shots=None) # number of wires corresponds to the third dimension of params\n",
    "    wires = dev.wires.tolist()\n",
    "    @qml.qnode(dev)\n",
    "    def circuit(x1, x2, params):\n",
    "        ansatz(x1, params, wires=wires)\n",
    "        adjoint_ansatz(ansatz)(x2, params, wires=wires)\n",
    "        return qml.probs(wires=wires)\n",
    "    return circuit\n",
    "\n",
    "@ct.electron\n",
    "def kernel(x1, x2, params):\n",
    "    return kernel_circuit(params)(x1, x2, params)[0]"
   ]
  },
  {
   "cell_type": "markdown",
   "metadata": {},
   "source": [
    "Now we are in a position to build a support vector machine (SVM) classifier based on the quantum kernel and evaluate the accuracy of its predictions. It consists of three subtasks:\n",
    "- `init_params` - Randomly initialize the variational parameters.\n",
    "- `svm` - Build the SVM classifier using the quantum kernel.\n",
    "- `get_accuracy` - Evaluate the accuracy of the classifier on a given dataset.\n",
    "\n",
    "To accomplish the second subtask, we first use PennyLane's `qml.kernels.kernel_matrix` function to get the kernel matrix of a full dataset (not just between two data points) based on the given parameters. The kernel matrix is then fed into `scikit-learn`'s support vector classifier (`SVC`), which allows us to build a quantum SVM estimator using the training data."
   ]
  },
  {
   "cell_type": "code",
   "execution_count": 6,
   "metadata": {},
   "outputs": [],
   "source": [
    "@ct.electron\n",
    "def init_params(num_wires, num_layers):\n",
    "    return np.random.uniform(0, 2 * np.pi, (num_layers, 2, num_wires), requires_grad=True)\n",
    "\n",
    "@ct.electron\n",
    "def svm(X, y, params):\n",
    "    kernel_input = lambda x1, x2: kernel(x1, x2, params)\n",
    "    svm = SVC(kernel=lambda x1, x2: qml.kernels.kernel_matrix(x1, x2, kernel_input))\n",
    "    svm.fit(X, y)\n",
    "    return svm\n",
    "\n",
    "@ct.electron\n",
    "def calc_accuracy(classifier, X, y_true):\n",
    "    return 1 - np.count_nonzero(classifier.predict(X) - y_true) / len(y_true)   "
   ]
  },
  {
   "cell_type": "markdown",
   "metadata": {},
   "source": [
    "Finally, we can combine all the subtasks discussed above into a single workflow function called `init_qsvm` with the `lattice` decorator on top. For this tutorial, we will be using 3 layers of the embedding ansatz."
   ]
  },
  {
   "cell_type": "code",
   "execution_count": 7,
   "metadata": {},
   "outputs": [],
   "source": [
    "@ct.lattice(executor=dask_executor)\n",
    "def init_qsvm(n_samples=20, num_wires=5, num_layers=3):\n",
    "    X, y = get_data(n_samples)\n",
    "    X_train, X_test, y_train, y_test = split_train_test_data(X, y)\n",
    "    params = init_params(num_wires, num_layers)\n",
    "    classifier = svm(X_train, y_train, params)\n",
    "    train_acc = calc_accuracy(classifier=classifier, X=X_train, y_true=y_train)\n",
    "    test_acc = calc_accuracy(classifier=classifier, X=X_test, y_true=y_test)\n",
    "    return classifier, X_train, y_train, X_test, y_test, train_acc, test_acc"
   ]
  },
  {
   "cell_type": "markdown",
   "metadata": {},
   "source": [
    "The workflow is then dispatched to the Covalent server and the results are retrievable once the workflow is finished. One can also track all the results through the Covalent result manager."
   ]
  },
  {
   "cell_type": "code",
   "execution_count": 108,
   "metadata": {},
   "outputs": [],
   "source": [
    "dispatch_id = ct.dispatch(init_qsvm)(20, 5, 3)\n",
    "result = ct.get_result(dispatch_id=dispatch_id, wait=True)\n",
    "qsvm, X_train, y_train, X_test, y_test, train_acc, test_acc = result.result"
   ]
  },
  {
   "cell_type": "code",
   "execution_count": 109,
   "metadata": {},
   "outputs": [
    {
     "name": "stdout",
     "output_type": "stream",
     "text": [
      "Train accuracy: 0.8571428571428572\n",
      "Test accuracy: 0.5\n"
     ]
    }
   ],
   "source": [
    "print(f\"Train accuracy: {train_acc}\")\n",
    "print(f\"Test accuracy: {test_acc}\")"
   ]
  },
  {
   "cell_type": "markdown",
   "metadata": {},
   "source": [
    "Furthermore, we can also plot the decision boundaries of our initial SVM classifier for better visualization."
   ]
  },
  {
   "cell_type": "code",
   "execution_count": 110,
   "metadata": {},
   "outputs": [
    {
     "data": {
      "image/png": "[encoded data removed]",
      "text/plain": [
       "<Figure size 432x288 with 1 Axes>"
      ]
     },
     "metadata": {
      "needs_background": "light"
     },
     "output_type": "display_data"
    }
   ],
   "source": [
    "cm = plt.cm.RdBu\n",
    "cm_bright = ListedColormap(['#FF0000', '#0000FF'])\n",
    "\n",
    "disp = DecisionBoundaryDisplay.from_estimator(qsvm, X, grid_resolution=30, response_method='predict', alpha=0.5, cmap=cm)\n",
    "disp.ax_.scatter(X_train[:, 0], X_train[:, 1], c=y_train, cmap=cm_bright)\n",
    "disp.ax_.scatter(X_test[:, 0], X_test[:, 1], c=y_test, cmap=cm_bright, marker=\"$\\u25EF$\")\n",
    "plt.show()"
   ]
  },
  {
   "cell_type": "markdown",
   "metadata": {},
   "source": [
    "We see that our initial SVM classifier based on a random set of parameters is not very accurate, particularly on the test set. The accuracy is about 86% on the train set, while on the test set it is only 50%. In the next section, we will train the quantum kernel to find a better set of parameters which will hopefully improve the accuracy of the classifier."
   ]
  },
  {
   "cell_type": "markdown",
   "metadata": {},
   "source": [
    "## Training the quantum kernel\n",
    "\n",
    "The *kernel alignment* is a similarity measure between two kernels with kernel matrices $K_1$ and $K_2$, which is defined as\n",
    "$$\n",
    "\\text{KA}(K_1, K_2)\\equiv \\frac{\\text{Tr}(K_1 K_2)}{\\sqrt{\\text{Tr}(K_1^2) \\text{Tr}(K_2^2)}}.\n",
    "$$\n",
    "We will train the quantum SVM classifier by optimizing the *kernel-target alignment*, which compares the similarity predicted by the quantum kernel to the actual labels of the training data. In particular, any two training data points define an ideal kernel function given by\n",
    "$$\n",
    "k_{\\textbf{y}}(\\textbf{x}_i, \\textbf{x}_j) = y_i y_j,\n",
    "$$\n",
    "where $y_{i,j}$ are the labels associated with the data points $\\textbf{x}_{i,j}$. The assigned kernel is thus $+1$ if both data points are in the same class and $-1$ if they belong to different classes. Then the kernel matrix is given by the outer product $\\textbf{y}\\textbf{y}^T$. The kernel-target alignment is therefore defined as the kernel alignment of the kernel matrix $K$ generated by the quantum kernel and the ideal kernel matrix $\\textbf{y}\\textbf{y}^T$:\n",
    "$$\n",
    "\\text{KTA}_{\\textbf{y}}(K) = \\frac{\\text{Tr}(K_1 \\textbf{y}\\textbf{y}^T)}{\\sqrt{\\text{Tr}(K^2) \\text{Tr}((\\textbf{y}\\textbf{y}^T)^2)}}.\n",
    "$$\n",
    "The training then aims to find an optimal set of variational parameters that maximizes the kernel-target alignment."
   ]
  },
  {
   "cell_type": "markdown",
   "metadata": {},
   "source": [
    "In the following, we will construct three subtasks as `electron` in Covalent for training the quantum embedding kernel:\n",
    "- `target_alignment` - Compute the kernel-target alignment of the quantum kernel for a given dataset.\n",
    "- `get_optimizer` - Get the optimizer used for optimizing the kernel-target alignment. Here we choose the `AdagradOptimizer` from PennyLane.\n",
    "- `training` - Train the quantum embedding kernel by optimizing the kernel-target alignment."
   ]
  },
  {
   "cell_type": "code",
   "execution_count": 8,
   "metadata": {},
   "outputs": [],
   "source": [
    "@ct.electron\n",
    "def target_alignment(\n",
    "    X,\n",
    "    Y,\n",
    "    kernel,\n",
    "    assume_normalized_kernel=False,\n",
    "    rescale_class_labels=True,\n",
    "):\n",
    "    K = qml.kernels.square_kernel_matrix(\n",
    "        X,\n",
    "        kernel,\n",
    "        assume_normalized_kernel=assume_normalized_kernel,\n",
    "    )\n",
    "\n",
    "    if rescale_class_labels:\n",
    "        nplus = np.count_nonzero(np.array(Y) == 1)\n",
    "        nminus = len(Y) - nplus\n",
    "        _Y = np.array([y / nplus if y == 1 else y / nminus for y in Y])\n",
    "    else:\n",
    "        _Y = np.array(Y)\n",
    "\n",
    "    T = np.outer(_Y, _Y)\n",
    "    inner_product = np.sum(K * T)\n",
    "    norm = np.sqrt(np.sum(K * K) * np.sum(T * T))\n",
    "    inner_product = inner_product / norm\n",
    "\n",
    "    return inner_product\n",
    "\n",
    "@ct.electron\n",
    "def get_optimizer():\n",
    "    return qml.AdagradOptimizer(0.4)\n",
    "\n",
    "@ct.electron\n",
    "def training(X, Y, init_params, opt, steps=400):\n",
    "    params = init_params\n",
    "    KTAs = []\n",
    "    for i in range(steps):\n",
    "        # Randomly choose subset of data points to compute the KTA on.\n",
    "        subset = np.random.choice(list(range(len(X))), 5)\n",
    "        # Define the cost function for optimization\n",
    "        cost = lambda _params: -target_alignment(\n",
    "            X[subset],\n",
    "            Y[subset],\n",
    "            lambda x1, x2: kernel(x1, x2, _params),\n",
    "            assume_normalized_kernel=True,\n",
    "        )\n",
    "        # Optimization step\n",
    "        params = opt.step(cost, params)\n",
    "        KTAs.append(target_alignment(X, Y, lambda x1, x2: kernel(x1, x2, params),\n",
    "                assume_normalized_kernel=True,))\n",
    "\n",
    "    return params, KTAs"
   ]
  },
  {
   "cell_type": "code",
   "execution_count": 9,
   "metadata": {},
   "outputs": [],
   "source": [
    "@ct.lattice(executor=dask_executor)\n",
    "def trained_qsvm(n_samples=20, num_wires=5, num_layers=3, steps=400):\n",
    "    X, y = get_data(n_samples)\n",
    "    X_train, X_test, y_train, y_test = split_train_test_data(X, y)\n",
    "    params = init_params(num_wires, num_layers)\n",
    "    opt = get_optimizer()\n",
    "    opt_params, KTAs = training(X_train, y_train, params, opt, steps)\n",
    "    opt_classifier = svm(X_train, y_train, opt_params)\n",
    "    train_acc = calc_accuracy(classifier=opt_classifier, X=X_train, y_true=y_train)\n",
    "    test_acc = calc_accuracy(classifier=opt_classifier, X=X_test, y_true=y_test)\n",
    "    return opt_classifier, KTAs, X_train, y_train, X_test, y_test, train_acc, test_acc"
   ]
  },
  {
   "cell_type": "code",
   "execution_count": null,
   "metadata": {},
   "outputs": [],
   "source": [
    "dispatch_id = ct.dispatch(trained_qsvm)(20, 5, 3, 400)\n",
    "result = ct.get_result(dispatch_id=dispatch_id, wait=True)\n",
    "opt_qsvm, KTAs, X_train, y_train, X_test, y_test, train_acc, test_acc = result.result"
   ]
  },
  {
   "cell_type": "code",
   "execution_count": 13,
   "metadata": {},
   "outputs": [],
   "source": [
    "result = ct.get_result(dispatch_id=dispatch_id, wait=False)"
   ]
  },
  {
   "cell_type": "code",
   "execution_count": null,
   "metadata": {},
   "outputs": [],
   "source": []
  }
 ],
 "metadata": {
  "interpreter": {
   "hash": "32144526e3e48b1da32ceaab4ff5300b6c301be9548fec2b2ea4fc4d43cc13cc"
  },
  "kernelspec": {
   "display_name": "Python 3.8.8 ('base')",
   "language": "python",
   "name": "python3"
  },
  "language_info": {
   "codemirror_mode": {
    "name": "ipython",
    "version": 3
   },
   "file_extension": ".py",
   "mimetype": "text/x-python",
   "name": "python",
   "nbconvert_exporter": "python",
   "pygments_lexer": "ipython3",
   "version": "3.8.8"
  },
  "orig_nbformat": 4
 },
 "nbformat": 4,
 "nbformat_minor": 2
}
