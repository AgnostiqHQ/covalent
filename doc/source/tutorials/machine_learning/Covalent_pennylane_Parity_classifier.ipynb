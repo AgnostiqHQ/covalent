{
 "cells": [
  {
   "cell_type": "code",
   "execution_count": 1,
   "metadata": {},
   "outputs": [
    {
     "name": "stdout",
     "output_type": "stream",
     "text": [
      "Requirement already satisfied: cova in /home/ram/Anaconda/anaconda3/envs/covalent/lib/python3.8/site-packages (0.106.0)\n",
      "Requirement already satisfied: psutil==5.9.0 in /home/ram/Anaconda/anaconda3/envs/covalent/lib/python3.8/site-packages (from cova) (5.9.0)\n",
      "Requirement already satisfied: matplotlib==3.5.1 in /home/ram/Anaconda/anaconda3/envs/covalent/lib/python3.8/site-packages (from cova) (3.5.1)\n",
      "Requirement already satisfied: eventlet==0.31.0 in /home/ram/Anaconda/anaconda3/envs/covalent/lib/python3.8/site-packages (from cova) (0.31.0)\n",
      "Requirement already satisfied: requests==2.24.0 in /home/ram/Anaconda/anaconda3/envs/covalent/lib/python3.8/site-packages (from cova) (2.24.0)\n",
      "Requirement already satisfied: tailer==0.4.1 in /home/ram/Anaconda/anaconda3/envs/covalent/lib/python3.8/site-packages (from cova) (0.4.1)\n",
      "Requirement already satisfied: simplejson==3.17.6 in /home/ram/Anaconda/anaconda3/envs/covalent/lib/python3.8/site-packages (from cova) (3.17.6)\n",
      "Requirement already satisfied: flask-socketio==5.1.1 in /home/ram/Anaconda/anaconda3/envs/covalent/lib/python3.8/site-packages (from cova) (5.1.1)\n",
      "Requirement already satisfied: flask==2.0.1 in /home/ram/Anaconda/anaconda3/envs/covalent/lib/python3.8/site-packages (from cova) (2.0.1)\n",
      "Requirement already satisfied: cloudpickle==2.0.0 in /home/ram/Anaconda/anaconda3/envs/covalent/lib/python3.8/site-packages (from cova) (2.0.0)\n",
      "Requirement already satisfied: gunicorn==20.1.0 in /home/ram/Anaconda/anaconda3/envs/covalent/lib/python3.8/site-packages (from cova) (20.1.0)\n",
      "Requirement already satisfied: PyYAML==6.0 in /home/ram/Anaconda/anaconda3/envs/covalent/lib/python3.8/site-packages (from cova) (6.0)\n",
      "Requirement already satisfied: toml==0.10.2 in /home/ram/Anaconda/anaconda3/envs/covalent/lib/python3.8/site-packages (from cova) (0.10.2)\n",
      "Requirement already satisfied: uvloop==0.16.0 in /home/ram/Anaconda/anaconda3/envs/covalent/lib/python3.8/site-packages (from cova) (0.16.0)\n",
      "Requirement already satisfied: networkx==2.5 in /home/ram/Anaconda/anaconda3/envs/covalent/lib/python3.8/site-packages (from cova) (2.5)\n",
      "Requirement already satisfied: flask-cors==3.0.10 in /home/ram/Anaconda/anaconda3/envs/covalent/lib/python3.8/site-packages (from cova) (3.0.10)\n",
      "Requirement already satisfied: dnspython<2.0.0,>=1.15.0 in /home/ram/Anaconda/anaconda3/envs/covalent/lib/python3.8/site-packages (from eventlet==0.31.0->cova) (1.16.0)\n",
      "Requirement already satisfied: six>=1.10.0 in /home/ram/Anaconda/anaconda3/envs/covalent/lib/python3.8/site-packages (from eventlet==0.31.0->cova) (1.16.0)\n",
      "Requirement already satisfied: greenlet>=0.3 in /home/ram/Anaconda/anaconda3/envs/covalent/lib/python3.8/site-packages (from eventlet==0.31.0->cova) (1.1.2)\n",
      "Requirement already satisfied: Werkzeug>=2.0 in /home/ram/Anaconda/anaconda3/envs/covalent/lib/python3.8/site-packages (from flask==2.0.1->cova) (2.1.2)\n",
      "Requirement already satisfied: click>=7.1.2 in /home/ram/Anaconda/anaconda3/envs/covalent/lib/python3.8/site-packages (from flask==2.0.1->cova) (8.1.3)\n",
      "Requirement already satisfied: Jinja2>=3.0 in /home/ram/Anaconda/anaconda3/envs/covalent/lib/python3.8/site-packages (from flask==2.0.1->cova) (3.1.2)\n",
      "Requirement already satisfied: itsdangerous>=2.0 in /home/ram/Anaconda/anaconda3/envs/covalent/lib/python3.8/site-packages (from flask==2.0.1->cova) (2.1.2)\n",
      "Requirement already satisfied: python-socketio>=5.0.2 in /home/ram/Anaconda/anaconda3/envs/covalent/lib/python3.8/site-packages (from flask-socketio==5.1.1->cova) (5.6.0)\n",
      "Requirement already satisfied: setuptools>=3.0 in /home/ram/Anaconda/anaconda3/envs/covalent/lib/python3.8/site-packages (from gunicorn==20.1.0->cova) (61.2.0)\n",
      "Requirement already satisfied: python-dateutil>=2.7 in /home/ram/Anaconda/anaconda3/envs/covalent/lib/python3.8/site-packages (from matplotlib==3.5.1->cova) (2.8.2)\n",
      "Requirement already satisfied: fonttools>=4.22.0 in /home/ram/Anaconda/anaconda3/envs/covalent/lib/python3.8/site-packages (from matplotlib==3.5.1->cova) (4.33.3)\n",
      "Requirement already satisfied: cycler>=0.10 in /home/ram/Anaconda/anaconda3/envs/covalent/lib/python3.8/site-packages (from matplotlib==3.5.1->cova) (0.11.0)\n",
      "Requirement already satisfied: pyparsing>=2.2.1 in /home/ram/Anaconda/anaconda3/envs/covalent/lib/python3.8/site-packages (from matplotlib==3.5.1->cova) (3.0.9)\n",
      "Requirement already satisfied: kiwisolver>=1.0.1 in /home/ram/Anaconda/anaconda3/envs/covalent/lib/python3.8/site-packages (from matplotlib==3.5.1->cova) (1.4.2)\n",
      "Requirement already satisfied: packaging>=20.0 in /home/ram/Anaconda/anaconda3/envs/covalent/lib/python3.8/site-packages (from matplotlib==3.5.1->cova) (21.3)\n",
      "Requirement already satisfied: pillow>=6.2.0 in /home/ram/Anaconda/anaconda3/envs/covalent/lib/python3.8/site-packages (from matplotlib==3.5.1->cova) (9.1.1)\n",
      "Requirement already satisfied: numpy>=1.17 in /home/ram/Anaconda/anaconda3/envs/covalent/lib/python3.8/site-packages (from matplotlib==3.5.1->cova) (1.22.4)\n",
      "Requirement already satisfied: decorator>=4.3.0 in /home/ram/Anaconda/anaconda3/envs/covalent/lib/python3.8/site-packages (from networkx==2.5->cova) (5.1.1)\n",
      "Requirement already satisfied: chardet<4,>=3.0.2 in /home/ram/Anaconda/anaconda3/envs/covalent/lib/python3.8/site-packages (from requests==2.24.0->cova) (3.0.4)\n",
      "Requirement already satisfied: urllib3!=1.25.0,!=1.25.1,<1.26,>=1.21.1 in /home/ram/Anaconda/anaconda3/envs/covalent/lib/python3.8/site-packages (from requests==2.24.0->cova) (1.25.11)\n",
      "Requirement already satisfied: certifi>=2017.4.17 in /home/ram/Anaconda/anaconda3/envs/covalent/lib/python3.8/site-packages (from requests==2.24.0->cova) (2022.5.18.1)\n",
      "Requirement already satisfied: idna<3,>=2.5 in /home/ram/Anaconda/anaconda3/envs/covalent/lib/python3.8/site-packages (from requests==2.24.0->cova) (2.10)\n",
      "Requirement already satisfied: MarkupSafe>=2.0 in /home/ram/Anaconda/anaconda3/envs/covalent/lib/python3.8/site-packages (from Jinja2>=3.0->flask==2.0.1->cova) (2.1.1)\n",
      "Requirement already satisfied: python-engineio>=4.3.0 in /home/ram/Anaconda/anaconda3/envs/covalent/lib/python3.8/site-packages (from python-socketio>=5.0.2->flask-socketio==5.1.1->cova) (4.3.2)\n",
      "Requirement already satisfied: bidict>=0.21.0 in /home/ram/Anaconda/anaconda3/envs/covalent/lib/python3.8/site-packages (from python-socketio>=5.0.2->flask-socketio==5.1.1->cova) (0.22.0)\n",
      "Collecting pennylane\n",
      "  Downloading PennyLane-0.23.1-py3-none-any.whl (914 kB)\n",
      "\u001b[K     |████████████████████████████████| 914 kB 3.1 MB/s eta 0:00:01\n",
      "\u001b[?25hRequirement already satisfied: numpy in /home/ram/Anaconda/anaconda3/envs/covalent/lib/python3.8/site-packages (from pennylane) (1.22.4)\n",
      "Collecting retworkx\n",
      "  Downloading retworkx-0.11.0-cp38-cp38-manylinux_2_5_x86_64.manylinux1_x86_64.manylinux_2_12_x86_64.manylinux2010_x86_64.whl (1.6 MB)\n",
      "\u001b[K     |████████████████████████████████| 1.6 MB 29.7 MB/s eta 0:00:01\n",
      "\u001b[?25hCollecting semantic-version==2.6\n",
      "  Downloading semantic_version-2.6.0-py3-none-any.whl (14 kB)\n",
      "Collecting pennylane-lightning>=0.23\n",
      "  Downloading PennyLane_Lightning-0.23.0-cp38-cp38-manylinux_2_17_x86_64.manylinux2014_x86_64.whl (8.7 MB)\n",
      "\u001b[K     |████████████████████████████████| 8.7 MB 37.6 MB/s eta 0:00:01\n",
      "\u001b[?25hCollecting cachetools\n",
      "  Downloading cachetools-5.2.0-py3-none-any.whl (9.3 kB)\n",
      "Requirement already satisfied: toml in /home/ram/Anaconda/anaconda3/envs/covalent/lib/python3.8/site-packages (from pennylane) (0.10.2)\n",
      "Collecting autoray>=0.3.1\n",
      "  Downloading autoray-0.3.1-py3-none-any.whl (36 kB)\n",
      "Collecting scipy\n",
      "  Downloading scipy-1.8.1-cp38-cp38-manylinux_2_17_x86_64.manylinux2014_x86_64.whl (41.6 MB)\n",
      "\u001b[K     |████████████████████████████████| 41.6 MB 36.1 MB/s eta 0:00:01     |██████████                      | 12.9 MB 25.2 MB/s eta 0:00:02     |███████████████████████████████▉| 41.5 MB 36.1 MB/s eta 0:00:01\n",
      "\u001b[?25hCollecting autograd\n",
      "  Downloading autograd-1.4-py3-none-any.whl (48 kB)\n",
      "\u001b[K     |████████████████████████████████| 48 kB 14.1 MB/s eta 0:00:01\n",
      "\u001b[?25hCollecting appdirs\n",
      "  Downloading appdirs-1.4.4-py2.py3-none-any.whl (9.6 kB)\n",
      "Requirement already satisfied: networkx in /home/ram/Anaconda/anaconda3/envs/covalent/lib/python3.8/site-packages (from pennylane) (2.5)\n",
      "Collecting ninja\n",
      "  Downloading ninja-1.10.2.3-py2.py3-none-manylinux_2_5_x86_64.manylinux1_x86_64.whl (108 kB)\n",
      "\u001b[K     |████████████████████████████████| 108 kB 53.6 MB/s eta 0:00:01\n"
     ]
    },
    {
     "name": "stdout",
     "output_type": "stream",
     "text": [
      "\u001b[?25hCollecting future>=0.15.2\n",
      "  Using cached future-0.18.2.tar.gz (829 kB)\n",
      "Requirement already satisfied: decorator>=4.3.0 in /home/ram/Anaconda/anaconda3/envs/covalent/lib/python3.8/site-packages (from networkx->pennylane) (5.1.1)\n",
      "Building wheels for collected packages: future\n",
      "  Building wheel for future (setup.py) ... \u001b[?25ldone\n",
      "\u001b[?25h  Created wheel for future: filename=future-0.18.2-py3-none-any.whl size=491070 sha256=d8efd209903a57407792062fdc73987ee78078b9d34f84a15413dabdfaf0ac2f\n",
      "  Stored in directory: /home/ram/.cache/pip/wheels/8e/70/28/3d6ccd6e315f65f245da085482a2e1c7d14b90b30f239e2cf4\n",
      "Successfully built future\n",
      "Installing collected packages: ninja, future, semantic-version, scipy, retworkx, pennylane-lightning, cachetools, autoray, autograd, appdirs, pennylane\n",
      "Successfully installed appdirs-1.4.4 autograd-1.4 autoray-0.3.1 cachetools-5.2.0 future-0.18.2 ninja-1.10.2.3 pennylane-0.23.1 pennylane-lightning-0.23.0 retworkx-0.11.0 scipy-1.8.1 semantic-version-2.6.0\n",
      "Collecting pennylane-sf\n",
      "  Downloading PennyLane_SF-0.20.1-py3-none-any.whl (29 kB)\n",
      "Requirement already satisfied: pennylane>=0.19 in /home/ram/Anaconda/anaconda3/envs/covalent/lib/python3.8/site-packages (from pennylane-sf) (0.23.1)\n",
      "Collecting strawberryfields>=0.22\n",
      "  Downloading StrawberryFields-0.23.0-py3-none-any.whl (4.9 MB)\n",
      "\u001b[K     |████████████████████████████████| 4.9 MB 6.0 MB/s eta 0:00:01\n",
      "\u001b[?25hRequirement already satisfied: semantic-version==2.6 in /home/ram/Anaconda/anaconda3/envs/covalent/lib/python3.8/site-packages (from pennylane>=0.19->pennylane-sf) (2.6.0)\n",
      "Requirement already satisfied: autoray>=0.3.1 in /home/ram/Anaconda/anaconda3/envs/covalent/lib/python3.8/site-packages (from pennylane>=0.19->pennylane-sf) (0.3.1)\n",
      "Requirement already satisfied: toml in /home/ram/Anaconda/anaconda3/envs/covalent/lib/python3.8/site-packages (from pennylane>=0.19->pennylane-sf) (0.10.2)\n",
      "Requirement already satisfied: retworkx in /home/ram/Anaconda/anaconda3/envs/covalent/lib/python3.8/site-packages (from pennylane>=0.19->pennylane-sf) (0.11.0)\n",
      "Requirement already satisfied: pennylane-lightning>=0.23 in /home/ram/Anaconda/anaconda3/envs/covalent/lib/python3.8/site-packages (from pennylane>=0.19->pennylane-sf) (0.23.0)\n",
      "Requirement already satisfied: networkx in /home/ram/Anaconda/anaconda3/envs/covalent/lib/python3.8/site-packages (from pennylane>=0.19->pennylane-sf) (2.5)\n",
      "Requirement already satisfied: appdirs in /home/ram/Anaconda/anaconda3/envs/covalent/lib/python3.8/site-packages (from pennylane>=0.19->pennylane-sf) (1.4.4)\n",
      "Requirement already satisfied: scipy in /home/ram/Anaconda/anaconda3/envs/covalent/lib/python3.8/site-packages (from pennylane>=0.19->pennylane-sf) (1.8.1)\n",
      "Requirement already satisfied: autograd in /home/ram/Anaconda/anaconda3/envs/covalent/lib/python3.8/site-packages (from pennylane>=0.19->pennylane-sf) (1.4)\n",
      "Requirement already satisfied: numpy in /home/ram/Anaconda/anaconda3/envs/covalent/lib/python3.8/site-packages (from pennylane>=0.19->pennylane-sf) (1.22.4)\n",
      "Requirement already satisfied: cachetools in /home/ram/Anaconda/anaconda3/envs/covalent/lib/python3.8/site-packages (from pennylane>=0.19->pennylane-sf) (5.2.0)\n",
      "Requirement already satisfied: ninja in /home/ram/Anaconda/anaconda3/envs/covalent/lib/python3.8/site-packages (from pennylane-lightning>=0.23->pennylane>=0.19->pennylane-sf) (1.10.2.3)\n",
      "Collecting sympy>=1.5\n",
      "  Downloading sympy-1.10.1-py3-none-any.whl (6.4 MB)\n",
      "\u001b[K     |████████████████████████████████| 6.4 MB 15.6 MB/s eta 0:00:01     |██████████████████████████████  | 6.0 MB 15.6 MB/s eta 0:00:01\n",
      "\u001b[?25hRequirement already satisfied: urllib3>=1.25.3 in /home/ram/Anaconda/anaconda3/envs/covalent/lib/python3.8/site-packages (from strawberryfields>=0.22->pennylane-sf) (1.25.11)\n",
      "Collecting xanadu-cloud-client>=0.2.1\n",
      "  Downloading xanadu_cloud_client-0.2.1-py3-none-any.whl (24 kB)\n",
      "Collecting quantum-blackbird>=0.3.0\n",
      "  Downloading quantum_blackbird-0.4.0-py3-none-any.whl (47 kB)\n",
      "\u001b[K     |████████████████████████████████| 47 kB 14.9 MB/s eta 0:00:01\n",
      "\u001b[?25hRequirement already satisfied: python-dateutil>=2.8.0 in /home/ram/Anaconda/anaconda3/envs/covalent/lib/python3.8/site-packages (from strawberryfields>=0.22->pennylane-sf) (2.8.2)\n",
      "Collecting numba\n",
      "  Downloading numba-0.55.2-cp38-cp38-manylinux2014_x86_64.manylinux_2_17_x86_64.whl (3.4 MB)\n",
      "\u001b[K     |████████████████████████████████| 3.4 MB 35.7 MB/s eta 0:00:01\n",
      "\u001b[?25hCollecting quantum-xir>=0.1.1\n",
      "  Downloading quantum_xir-0.2.1-py3-none-any.whl (27 kB)\n",
      "Requirement already satisfied: requests>=2.22.0 in /home/ram/Anaconda/anaconda3/envs/covalent/lib/python3.8/site-packages (from strawberryfields>=0.22->pennylane-sf) (2.24.0)\n",
      "Collecting thewalrus>=0.18.0\n",
      "  Downloading thewalrus-0.19.0-py3-none-any.whl (83 kB)\n",
      "\u001b[K     |████████████████████████████████| 83 kB 7.0 MB/s  eta 0:00:01\n",
      "\u001b[?25hRequirement already satisfied: decorator>=4.3.0 in /home/ram/Anaconda/anaconda3/envs/covalent/lib/python3.8/site-packages (from networkx->pennylane>=0.19->pennylane-sf) (5.1.1)\n",
      "Requirement already satisfied: six>=1.5 in /home/ram/Anaconda/anaconda3/envs/covalent/lib/python3.8/site-packages (from python-dateutil>=2.8.0->strawberryfields>=0.22->pennylane-sf) (1.16.0)\n",
      "Collecting antlr4-python3-runtime==4.8\n",
      "  Downloading antlr4-python3-runtime-4.8.tar.gz (112 kB)\n",
      "\u001b[K     |████████████████████████████████| 112 kB 17.8 MB/s eta 0:00:01\n",
      "\u001b[?25hCollecting lark-parser>=0.11.0\n",
      "  Downloading lark_parser-0.12.0-py2.py3-none-any.whl (103 kB)\n",
      "\u001b[K     |████████████████████████████████| 103 kB 31.4 MB/s eta 0:00:01\n",
      "\u001b[?25hRequirement already satisfied: idna<3,>=2.5 in /home/ram/Anaconda/anaconda3/envs/covalent/lib/python3.8/site-packages (from requests>=2.22.0->strawberryfields>=0.22->pennylane-sf) (2.10)\n",
      "Requirement already satisfied: certifi>=2017.4.17 in /home/ram/Anaconda/anaconda3/envs/covalent/lib/python3.8/site-packages (from requests>=2.22.0->strawberryfields>=0.22->pennylane-sf) (2022.5.18.1)\n",
      "Requirement already satisfied: chardet<4,>=3.0.2 in /home/ram/Anaconda/anaconda3/envs/covalent/lib/python3.8/site-packages (from requests>=2.22.0->strawberryfields>=0.22->pennylane-sf) (3.0.4)\n",
      "Collecting mpmath>=0.19\n",
      "  Downloading mpmath-1.2.1-py3-none-any.whl (532 kB)\n",
      "\u001b[K     |████████████████████████████████| 532 kB 44.9 MB/s eta 0:00:01\n",
      "\u001b[?25hCollecting dask[delayed]\n",
      "  Downloading dask-2022.5.2-py3-none-any.whl (1.1 MB)\n",
      "\u001b[K     |████████████████████████████████| 1.1 MB 38.9 MB/s eta 0:00:01\n",
      "\u001b[?25hCollecting llvmlite<0.39,>=0.38.0rc1\n",
      "  Downloading llvmlite-0.38.1-cp38-cp38-manylinux_2_17_x86_64.manylinux2014_x86_64.whl (34.5 MB)\n",
      "\u001b[K     |████████████████████████████████| 34.5 MB 31.0 MB/s eta 0:00:01\n",
      "\u001b[?25hRequirement already satisfied: setuptools in /home/ram/Anaconda/anaconda3/envs/covalent/lib/python3.8/site-packages (from numba->strawberryfields>=0.22->pennylane-sf) (61.2.0)\n",
      "Collecting fire\n",
      "  Downloading fire-0.4.0.tar.gz (87 kB)\n",
      "\u001b[K     |████████████████████████████████| 87 kB 18.4 MB/s eta 0:00:01\n",
      "\u001b[?25hCollecting pydantic[dotenv]\n",
      "  Downloading pydantic-1.9.1-cp38-cp38-manylinux_2_17_x86_64.manylinux2014_x86_64.whl (12.7 MB)\n",
      "\u001b[K     |████████████████████████████████| 12.7 MB 513 kB/s eta 0:00:01\n",
      "\u001b[?25hRequirement already satisfied: future>=0.15.2 in /home/ram/Anaconda/anaconda3/envs/covalent/lib/python3.8/site-packages (from autograd->pennylane>=0.19->pennylane-sf) (0.18.2)\n",
      "Requirement already satisfied: packaging>=20.0 in /home/ram/Anaconda/anaconda3/envs/covalent/lib/python3.8/site-packages (from dask[delayed]->thewalrus>=0.18.0->strawberryfields>=0.22->pennylane-sf) (21.3)\n",
      "Collecting fsspec>=0.6.0\n",
      "  Downloading fsspec-2022.5.0-py3-none-any.whl (140 kB)\n",
      "\u001b[K     |████████████████████████████████| 140 kB 29.7 MB/s eta 0:00:01\n",
      "\u001b[?25hRequirement already satisfied: cloudpickle>=1.1.1 in /home/ram/Anaconda/anaconda3/envs/covalent/lib/python3.8/site-packages (from dask[delayed]->thewalrus>=0.18.0->strawberryfields>=0.22->pennylane-sf) (2.0.0)\n",
      "Collecting toolz>=0.8.2\n",
      "  Downloading toolz-0.11.2-py3-none-any.whl (55 kB)\n",
      "\u001b[K     |████████████████████████████████| 55 kB 6.5 MB/s eta 0:00:01\n",
      "\u001b[?25hCollecting partd>=0.3.10\n",
      "  Downloading partd-1.2.0-py3-none-any.whl (19 kB)\n",
      "Requirement already satisfied: pyyaml>=5.3.1 in /home/ram/Anaconda/anaconda3/envs/covalent/lib/python3.8/site-packages (from dask[delayed]->thewalrus>=0.18.0->strawberryfields>=0.22->pennylane-sf) (6.0)\n",
      "Requirement already satisfied: pyparsing!=3.0.5,>=2.0.2 in /home/ram/Anaconda/anaconda3/envs/covalent/lib/python3.8/site-packages (from packaging>=20.0->dask[delayed]->thewalrus>=0.18.0->strawberryfields>=0.22->pennylane-sf) (3.0.9)\n"
     ]
    },
    {
     "name": "stdout",
     "output_type": "stream",
     "text": [
      "Collecting locket\n",
      "  Downloading locket-1.0.0-py2.py3-none-any.whl (4.4 kB)\n",
      "Collecting termcolor\n",
      "  Using cached termcolor-1.1.0.tar.gz (3.9 kB)\n",
      "Collecting typing-extensions>=3.7.4.3\n",
      "  Downloading typing_extensions-4.2.0-py3-none-any.whl (24 kB)\n",
      "Collecting python-dotenv>=0.10.4\n",
      "  Downloading python_dotenv-0.20.0-py3-none-any.whl (17 kB)\n",
      "Building wheels for collected packages: antlr4-python3-runtime, fire, termcolor\n",
      "  Building wheel for antlr4-python3-runtime (setup.py) ... \u001b[?25ldone\n",
      "\u001b[?25h  Created wheel for antlr4-python3-runtime: filename=antlr4_python3_runtime-4.8-py3-none-any.whl size=141230 sha256=5eb4f219320ff9d36086bd0592c8c76ac54d8e00619c8387db976d08b25c501a\n",
      "  Stored in directory: /home/ram/.cache/pip/wheels/c8/d0/ab/d43c02eaddc5b9004db86950802442ad9a26f279c619e28da0\n",
      "  Building wheel for fire (setup.py) ... \u001b[?25ldone\n",
      "\u001b[?25h  Created wheel for fire: filename=fire-0.4.0-py2.py3-none-any.whl size=115942 sha256=ffc9815b3bfdd6cf6c0b2e483d61eff90dce8911236f20d03b0131332defba2f\n",
      "  Stored in directory: /home/ram/.cache/pip/wheels/1f/10/06/2a990ee4d73a8479fe2922445e8a876d38cfbfed052284c6a1\n",
      "  Building wheel for termcolor (setup.py) ... \u001b[?25ldone\n",
      "\u001b[?25h  Created wheel for termcolor: filename=termcolor-1.1.0-py3-none-any.whl size=4848 sha256=c02df7ee4060ba293439766046fd6f14c6f722ddd7c942810d10a2b2a03629b3\n",
      "  Stored in directory: /home/ram/.cache/pip/wheels/a0/16/9c/5473df82468f958445479c59e784896fa24f4a5fc024b0f501\n",
      "Successfully built antlr4-python3-runtime fire termcolor\n",
      "Installing collected packages: toolz, locket, typing-extensions, partd, fsspec, termcolor, python-dotenv, pydantic, mpmath, llvmlite, dask, sympy, numba, lark-parser, fire, antlr4-python3-runtime, xanadu-cloud-client, thewalrus, quantum-xir, quantum-blackbird, strawberryfields, pennylane-sf\n",
      "Successfully installed antlr4-python3-runtime-4.8 dask-2022.5.2 fire-0.4.0 fsspec-2022.5.0 lark-parser-0.12.0 llvmlite-0.38.1 locket-1.0.0 mpmath-1.2.1 numba-0.55.2 partd-1.2.0 pennylane-sf-0.20.1 pydantic-1.9.1 python-dotenv-0.20.0 quantum-blackbird-0.4.0 quantum-xir-0.2.1 strawberryfields-0.23.0 sympy-1.10.1 termcolor-1.1.0 thewalrus-0.19.0 toolz-0.11.2 typing-extensions-4.2.0 xanadu-cloud-client-0.2.1\n"
     ]
    }
   ],
   "source": [
    "!pip install cova\n",
    "!pip install pennylane\n",
    "!pip install pennylane-sf"
   ]
  },
  {
   "cell_type": "code",
   "execution_count": 54,
   "metadata": {},
   "outputs": [
    {
     "name": "stdout",
     "output_type": "stream",
     "text": [
      "Covalent server has started at http://0.0.0.0:48008\n",
      "Covalent server was not running.\n",
      "Covalent server files have been purged.\n"
     ]
    }
   ],
   "source": [
    "!covalent start\n",
    "!covalent purge"
   ]
  },
  {
   "cell_type": "code",
   "execution_count": 318,
   "metadata": {},
   "outputs": [],
   "source": [
    "import pennylane as qml\n",
    "from pennylane import numpy as np\n",
    "import covalent as ct\n",
    "import matplotlib.pyplot as plt\n",
    "from pennylane.optimize import NesterovMomentumOptimizer"
   ]
  },
  {
   "cell_type": "code",
   "execution_count": 319,
   "metadata": {},
   "outputs": [],
   "source": [
    "dev = qml.device(\"default.qubit\", wires=4)"
   ]
  },
  {
   "cell_type": "code",
   "execution_count": 320,
   "metadata": {},
   "outputs": [],
   "source": [
    "@ct.electron\n",
    "def layer(W):\n",
    "\n",
    "    qml.Rot(W[0, 0], W[0, 1], W[0, 2], wires=0)\n",
    "    qml.Rot(W[1, 0], W[1, 1], W[1, 2], wires=1)\n",
    "    qml.Rot(W[2, 0], W[2, 1], W[2, 2], wires=2)\n",
    "    qml.Rot(W[3, 0], W[3, 1], W[3, 2], wires=3)\n",
    "\n",
    "    qml.CNOT(wires=[0, 1])\n",
    "    qml.CNOT(wires=[1, 2])\n",
    "    qml.CNOT(wires=[2, 3])\n",
    "    qml.CNOT(wires=[3, 0])"
   ]
  },
  {
   "cell_type": "code",
   "execution_count": 321,
   "metadata": {},
   "outputs": [],
   "source": [
    "@ct.electron\n",
    "def statepreparation(x):\n",
    "    qml.BasisState(x, wires=[0, 1, 2, 3])"
   ]
  },
  {
   "cell_type": "code",
   "execution_count": 322,
   "metadata": {},
   "outputs": [],
   "source": [
    "@ct.electron\n",
    "@qml.qnode(dev)\n",
    "def circuit(weights, x):\n",
    "\n",
    "    qml.BasisState(x, wires=[0, 1, 2, 3])\n",
    "\n",
    "    for W in weights:\n",
    "        qml.Rot(W[0, 0], W[0, 1], W[0, 2], wires=0)\n",
    "        qml.Rot(W[1, 0], W[1, 1], W[1, 2], wires=1)\n",
    "        qml.Rot(W[2, 0], W[2, 1], W[2, 2], wires=2)\n",
    "        qml.Rot(W[3, 0], W[3, 1], W[3, 2], wires=3)\n",
    "\n",
    "        qml.CNOT(wires=[0, 1])\n",
    "        qml.CNOT(wires=[1, 2])\n",
    "        qml.CNOT(wires=[2, 3])\n",
    "        qml.CNOT(wires=[3, 0])\n",
    "\n",
    "    return qml.expval(qml.PauliZ(0))"
   ]
  },
  {
   "cell_type": "code",
   "execution_count": 323,
   "metadata": {},
   "outputs": [],
   "source": [
    "@ct.electron\n",
    "def variational_classifier(weights, bias, x):\n",
    "    return circuit(weights, x) + bias"
   ]
  },
  {
   "cell_type": "code",
   "execution_count": 324,
   "metadata": {},
   "outputs": [],
   "source": [
    "@ct.electron\n",
    "def square_loss(labels, predictions):\n",
    "    loss = 0\n",
    "    for l, p in zip(labels, predictions):\n",
    "        loss = loss + (l - p) ** 2\n",
    "\n",
    "    loss = loss / len(labels)\n",
    "    return loss"
   ]
  },
  {
   "cell_type": "code",
   "execution_count": 325,
   "metadata": {},
   "outputs": [],
   "source": [
    "@ct.electron\n",
    "def accuracy(labels, predictions):\n",
    "\n",
    "    loss = 0\n",
    "    for l, p in zip(labels, predictions):\n",
    "        if abs(l - p) < 1e-5:\n",
    "            loss = loss + 1\n",
    "    loss = loss / len(labels)\n",
    "\n",
    "    return loss"
   ]
  },
  {
   "cell_type": "code",
   "execution_count": 326,
   "metadata": {},
   "outputs": [],
   "source": [
    "@ct.electron\n",
    "def cost(weights, bias, X, Y):\n",
    "    predictions = [variational_classifier(weights, bias, x) for x in X]\n",
    "    return square_loss(Y, predictions)"
   ]
  },
  {
   "cell_type": "code",
   "execution_count": 327,
   "metadata": {},
   "outputs": [],
   "source": [
    "@ct.electron\n",
    "def get_optimizer():\n",
    "    return NesterovMomentumOptimizer(0.25)"
   ]
  },
  {
   "cell_type": "code",
   "execution_count": 328,
   "metadata": {},
   "outputs": [],
   "source": [
    "@ct.electron\n",
    "def weights_bias_init(num_layers,num_qubits):\n",
    "    weights_init = 0.01 * np.random.randn(num_layers, num_qubits, 3, requires_grad=True)\n",
    "    bias_init = np.array(0.0, requires_grad=True)\n",
    "    return weights_init,bias_init"
   ]
  },
  {
   "cell_type": "code",
   "execution_count": 329,
   "metadata": {},
   "outputs": [],
   "source": [
    "@ct.electron\n",
    "def training(opt,weights,bias,epochs,batch_size,X,Y,num_layers,num_qubits,cost):\n",
    "    #weights,bias = weights_bias_init(num_layers,num_qubits)\n",
    "    training_steps = []\n",
    "    cost_steps = []\n",
    "    accuracy_steps = []\n",
    "    for it in range(epochs):\n",
    "        batch_index = np.random.randint(0, len(X), (batch_size,))\n",
    "        X_batch = X[batch_index]\n",
    "        Y_batch = Y[batch_index]\n",
    "        weights, bias, _, _ = opt.step(cost, weights, bias, X_batch, Y_batch)\n",
    "\n",
    "        # Compute accuracy\n",
    "        predictions = [np.sign(variational_classifier(weights, bias, x)) for x in X]\n",
    "        acc = accuracy(Y, predictions)\n",
    "        training_steps.append(i)\n",
    "        cost_steps.append(cost(weights, bias, X, Y))\n",
    "        accuracy_steps.append(acc)\n",
    "        \n",
    "        print(\"Iter: {:5d} | Cost: {:0.7f} | Accuracy: {:0.7f} \".format(it + 1, cost(weights, bias, X, Y), acc))\n",
    "    \n",
    "    return weights,bias,training_steps,cost_steps,accuracy_steps"
   ]
  },
  {
   "cell_type": "code",
   "execution_count": 330,
   "metadata": {},
   "outputs": [],
   "source": [
    "@ct.lattice\n",
    "def workflow(epochs,num_layers,num_qubits,X,Y):\n",
    "    opt = get_optimizer()\n",
    "    weights,bias = weights_bias_init(num_layers,num_qubits)\n",
    "    batch_size = 5\n",
    "    weights,bias,training_steps,cost_steps,accuracy_steps = training(opt,weights,bias,epochs,batch_size,X,Y,num_layers,num_qubits,cost)\n",
    "    return weights,bias,training_steps,cost_steps,accuracy_steps\n",
    "    "
   ]
  },
  {
   "cell_type": "code",
   "execution_count": 331,
   "metadata": {},
   "outputs": [
    {
     "name": "stdout",
     "output_type": "stream",
     "text": [
      "X = [0. 0. 0. 0.], Y = -1\n",
      "X = [0. 0. 0. 1.], Y =  1\n",
      "X = [0. 0. 1. 0.], Y =  1\n",
      "X = [0. 0. 1. 1.], Y = -1\n",
      "X = [0. 1. 0. 0.], Y =  1\n",
      "...\n"
     ]
    }
   ],
   "source": [
    "data = np.loadtxt(\"./parity.txt\")\n",
    "X = np.array(data[:, :-1], requires_grad=False)\n",
    "Y = np.array(data[:, -1], requires_grad=False)\n",
    "Y = Y * 2 - np.ones(len(Y))  # shift label from {0, 1} to {-1, 1}\n",
    "\n",
    "for i in range(5):\n",
    "    print(\"X = {}, Y = {: d}\".format(X[i], int(Y[i])))\n",
    "\n",
    "print(\"...\")"
   ]
  },
  {
   "cell_type": "code",
   "execution_count": 332,
   "metadata": {},
   "outputs": [],
   "source": [
    "\n",
    "dispatch_id = ct.dispatch(workflow)(X=X,Y=Y,epochs=25,num_layers=2,num_qubits=4)\n",
    "result = ct.get_result(dispatch_id=dispatch_id,wait=True)#,results_dir=\"./\")\n",
    "weights,bias,training_steps,cost_steps,accuracy_steps = result.result\n"
   ]
  },
  {
   "cell_type": "code",
   "execution_count": 333,
   "metadata": {},
   "outputs": [
    {
     "data": {
      "image/png": "[encoded data removed]",
      "text/plain": [
       "<Figure size 432x288 with 1 Axes>"
      ]
     },
     "metadata": {
      "needs_background": "light"
     },
     "output_type": "display_data"
    }
   ],
   "source": [
    "plt.plot(training_steps, accuracy_steps)\n",
    "plt.xlabel(\"Step\")\n",
    "plt.ylabel(\"Accuracy\")\n",
    "plt.show()"
   ]
  },
  {
   "cell_type": "code",
   "execution_count": null,
   "metadata": {},
   "outputs": [],
   "source": []
  }
 ],
 "metadata": {
  "kernelspec": {
   "display_name": "Python 3 (ipykernel)",
   "language": "python",
   "name": "python3"
  },
  "language_info": {
   "codemirror_mode": {
    "name": "ipython",
    "version": 3
   },
   "file_extension": ".py",
   "mimetype": "text/x-python",
   "name": "python",
   "nbconvert_exporter": "python",
   "pygments_lexer": "ipython3",
   "version": "3.8.13"
  }
 },
 "nbformat": 4,
 "nbformat_minor": 4
}
