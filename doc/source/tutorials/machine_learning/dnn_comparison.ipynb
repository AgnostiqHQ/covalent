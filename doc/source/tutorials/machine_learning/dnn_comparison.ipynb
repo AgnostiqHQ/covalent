{
 "cells": [
  {
   "cell_type": "markdown",
   "id": "c79d4c25",
   "metadata": {},
   "source": [
    "# Comparing Deep Learning Models for Sales Forecasting using Covalent"
   ]
  },
  {
   "cell_type": "markdown",
   "id": "6cd67d5f",
   "metadata": {},
   "source": [
    "## Summary\n",
    "In this example, we use Covalent to orchestrate a workflow which compares the performances of four different deep learning models -- the multi-layer perceptron (MLP) model, the convolutional neural network (CNN) model, the long short-term memory (LSTM) model, and a hybrid CNN-LSTM model. Each neural network is trained on daily historical sales data spanning four years. Covalent allows us to easily deploy different tasks to different hardware resources.\n",
    "\n",
    "<img src=\"https://raw.githubusercontent.com/dimitreOliveira/MachineLearning/master/Kaggle/Store%20Item%20Demand%20Forecasting%20Challenge/time-series%20graph.png\" width=\"800\">\n",
    "\n",
    "![](https://raw.githubusercontent.com/AgnostiqHQ/covalent/master/doc/source/_static/cova_archi.png)"
   ]
  },
  {
   "cell_type": "markdown",
   "id": "929e3c37",
   "metadata": {},
   "source": [
    "### Tasks in this example are heterogeneous in several ways:\n",
    "* Task Scheduling: Dask / ECS Fargate / AWS Batch\n",
    "* Execution Backend: Local / Remote CPU\n",
    "\n",
    "### The workflow performs the following steps:\n",
    "<style type=\"text/css\">\n",
    ".tg  {border-collapse:collapse;border-spacing:0;}\n",
    ".tg td{border-color:black;border-style:solid;border-width:1px;font-family:Arial, sans-serif;font-size:14px;\n",
    "  overflow:hidden;padding:10px 5px;word-break:normal;}\n",
    ".tg th{border-color:black;border-style:solid;border-width:1px;font-family:Arial, sans-serif;font-size:14px;\n",
    "  font-weight:normal;overflow:hidden;padding:10px 5px;word-break:normal;}\n",
    ".tg .tg-0pky{border-color:inherit;text-align:left;vertical-align:top}\n",
    ".center {\n",
    "  margin-left: auto;\n",
    "  margin-right: auto;\n",
    "}\n",
    "</style>\n",
    "<table class=\"tg center\">\n",
    "<thead>\n",
    "  <tr>\n",
    "    <th class=\"tg-0pky\"><b>Task</b></th>\n",
    "    <th class=\"tg-0pky\"><b>Resources</b></th>\n",
    "  </tr>\n",
    "</thead>\n",
    "<tbody>\n",
    "  <tr>\n",
    "    <td class=\"tg-0pky\">Fetch and validate a training dataset from a remote machine</td>\n",
    "    <td class=\"tg-0pky\">\n",
    "    <img src=\"https://numfocus.org/wp-content/uploads/2017/11/dask-logo-300.png\"  alt=\"1\" width = 40px height = 40px >\n",
    "    <img src=\"https://toppng.com/uploads/preview/laptop-icon-png-transparent-11553368414dlflmgculs.png\"  alt=\"1\" width = 40px height = 40px >\n",
    "    </td>\n",
    "  </tr>\n",
    "  <tr>\n",
    "    <td class=\"tg-0pky\">Explore the dataset and visualize broad trends</td>\n",
    "    <td class=\"tg-0pky\">\n",
    "    <img src=\"https://numfocus.org/wp-content/uploads/2017/11/dask-logo-300.png\"  alt=\"1\" width = 40px height = 40px >\n",
    "    <img src=\"https://toppng.com/uploads/preview/laptop-icon-png-transparent-11553368414dlflmgculs.png\"  alt=\"1\" width = 40px height = 40px >\n",
    "    </td>\n",
    "  </tr>\n",
    "  <tr>\n",
    "    <td class=\"tg-0pky\">Clean / transform the data</td>\n",
    "    <td class=\"tg-0pky\">\n",
    "    <img src=\"data:image/jpeg;base64,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\"  alt=\"1\" width = 40px height = 40px >\n",
    "    <img src=\"https://encrypted-tbn0.gstatic.com/images?q=tbn:ANd9GcSjG2XseaE9MMUb-v-7_Bae1oVwNC9EUyfhog&usqp=CAU\"  alt=\"1\" width = 40px height = 40px >\n",
    "    </td>\n",
    "  </tr>\n",
    "  <tr>\n",
    "    <td class=\"tg-0pky\">Split the Data for Training and Validation</td>\n",
    "    <td class=\"tg-0pky\">\n",
    "    <img src=\"https://numfocus.org/wp-content/uploads/2017/11/dask-logo-300.png\"  alt=\"1\" width = 40px height = 40px >\n",
    "    <img src=\"https://toppng.com/uploads/preview/laptop-icon-png-transparent-11553368414dlflmgculs.png\"  alt=\"1\" width = 40px height = 40px >\n",
    "    </td>\n",
    "  </tr>\n",
    "  <tr>\n",
    "    <td class=\"tg-0pky\">Construct the DNN Models</td>\n",
    "    <td class=\"tg-0pky\">\n",
    "    <img src=\"https://numfocus.org/wp-content/uploads/2017/11/dask-logo-300.png\"  alt=\"1\" width = 40px height = 40px >\n",
    "    <img src=\"https://toppng.com/uploads/preview/laptop-icon-png-transparent-11553368414dlflmgculs.png\"  alt=\"1\" width = 40px height = 40px >\n",
    "    </td>\n",
    "  </tr>\n",
    "  <tr>\n",
    "    <td class=\"tg-0pky\">Train the Models</td>\n",
    "    <td class=\"tg-0pky\">\n",
    "    <img src=\"https://upload.wikimedia.org/wikipedia/commons/thumb/3/3a/Slurm_logo.svg/2238px-Slurm_logo.svg.png\"  alt=\"1\" width = 40px height = 40px >\n",
    "    <img src=\"data:image/png;base64,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\"  alt=\"1\" width = 40px height = 40px >\n",
    "    <img src=\"https://cdn-icons-png.flaticon.com/512/1089/1089003.png\"  alt=\"1\" width = 40px height = 40px >\n",
    "    </td>\n",
    "  </tr>\n",
    "  <tr>\n",
    "    <td class=\"tg-0pky\">Visualize the results</td>\n",
    "    <td class=\"tg-0pky\">\n",
    "    <img src=\"https://numfocus.org/wp-content/uploads/2017/11/dask-logo-300.png\"  alt=\"1\" width = 40px height = 40px >\n",
    "    <img src=\"https://toppng.com/uploads/preview/laptop-icon-png-transparent-11553368414dlflmgculs.png\"  alt=\"1\" width = 40px height = 40px >\n",
    "    </td>\n",
    "  </tr>\n",
    "</tbody>\n",
    "</table>\n",
    "\n",
    "This tutorial is derived from work by Dimitre Oliveira on [Kaggle](https://www.kaggle.com/code/dimitreoliveira/deep-learning-for-time-series-forecasting/)."
   ]
  },
  {
   "cell_type": "code",
   "execution_count": null,
   "id": "a6fc3f01",
   "metadata": {
    "scrolled": true
   },
   "outputs": [],
   "source": [
    "# Imports\n",
    "import covalent as ct\n",
    "\n",
    "import warnings\n",
    "import numpy as np\n",
    "import pandas as pd\n",
    "from keras import optimizers\n",
    "from keras.utils.vis_utils import plot_model\n",
    "from keras.models import Sequential, Model\n",
    "from keras.layers.convolutional import Conv1D, MaxPooling1D\n",
    "from keras.layers import Dense, LSTM, RepeatVector, TimeDistributed, Flatten\n",
    "from sklearn.metrics import mean_squared_error\n",
    "from sklearn.model_selection import train_test_split\n",
    "import plotly.graph_objs as go\n",
    "from plotly.offline import init_notebook_mode, iplot\n",
    "from typing import List\n",
    "\n",
    "import matplotlib\n",
    "import matplotlib.pyplot as plt\n",
    "matplotlib.use(\"Agg\")\n",
    "\n",
    "warnings.filterwarnings(\"ignore\")\n",
    "init_notebook_mode(connected=True)\n",
    "\n",
    "from tensorflow.random import set_seed\n",
    "from numpy.random import seed\n",
    "set_seed(1)\n",
    "seed(1)"
   ]
  },
  {
   "cell_type": "markdown",
   "id": "2d85081e",
   "metadata": {},
   "source": [
    "### We run the first task, which fetches and validates input data"
   ]
  },
  {
   "cell_type": "code",
   "execution_count": null,
   "id": "f861fc54",
   "metadata": {
    "scrolled": true
   },
   "outputs": [],
   "source": [
    "remote_train_file = ct.fs.File('/Users/faiyaz/Code/datasets_2/train.csv')\n",
    "remote_test_file = ct.fs.File('/Users/faiyaz/Code/datasets_2/test.csv')\n",
    "local_train_file = ct.fs.File('/Users/faiyaz/Code/datasets/train.csv')\n",
    "local_test_file = ct.fs.File('/Users/faiyaz/Code/datasets/test.csv')\n",
    "\n",
    "@ct.electron(\n",
    "    files=[\n",
    "        ct.fs.FileTransfer(remote_train_file, local_train_file, order=ct.fs.Order.BEFORE),\n",
    "        ct.fs.FileTransfer(remote_test_file, local_test_file, order=ct.fs.Order.BEFORE),\n",
    "    ]\n",
    ")\n",
    "def fetch_and_validate_data(files=[]) -> List[str]:\n",
    "    _, local_train = files[0]\n",
    "    _, local_test = files[1]\n",
    "    train = pd.read_csv(local_train, parse_dates=['date'])\n",
    "    test = pd.read_csv(local_test, parse_dates=['date'])\n",
    "    return train\n"
   ]
  },
  {
   "cell_type": "markdown",
   "id": "709104b2",
   "metadata": {},
   "source": [
    "### Next, explore the dataset and visualize basic trends"
   ]
  },
  {
   "cell_type": "code",
   "execution_count": null,
   "id": "a6d2ca22",
   "metadata": {
    "scrolled": true
   },
   "outputs": [],
   "source": [
    "@ct.electron\n",
    "def explore_data(dataset):\n",
    "    # Aggregate daily sales\n",
    "    daily_sales = dataset.groupby('date', as_index=False)['sales'].sum()\n",
    "    store_daily_sales = dataset.groupby(['store', 'date'], as_index=False)['sales'].sum()\n",
    "    item_daily_sales = dataset.groupby(['item', 'date'], as_index=False)['sales'].sum()\n",
    "    \n",
    "    # Plot total daily sales\n",
    "    daily_sales_sc = go.Scatter(x=daily_sales['date'], y=daily_sales['sales'])\n",
    "    layout1 = go.Layout(title='Daily sales', xaxis=dict(title='Date'), yaxis=dict(title='Sales'))\n",
    "    fig1 = go.Figure(data=[daily_sales_sc], layout=layout1)\n",
    "    \n",
    "    # Sales by item\n",
    "    item_daily_sales_sc = []\n",
    "    for item in item_daily_sales['item'].unique():\n",
    "        current_item_daily_sales = item_daily_sales[(item_daily_sales['item'] == item)]\n",
    "        item_daily_sales_sc.append(go.Scatter(x=current_item_daily_sales['date'], y=current_item_daily_sales['sales'], name=('Item %s' % item)))\n",
    "\n",
    "    layout2 = go.Layout(title='Item daily sales', xaxis=dict(title='Date'), yaxis=dict(title='Sales'))\n",
    "    fig2 = go.Figure(data=item_daily_sales_sc, layout=layout2)\n",
    "    \n",
    "    return fig1, fig2"
   ]
  },
  {
   "cell_type": "markdown",
   "id": "99476302",
   "metadata": {},
   "source": [
    "### Now we subsample and transform the data to a period of interest. We use the last year of data and for each date, use the previous month to forecast 90 days ahead.  In addition, this task will run on AWS Fargate on ECS."
   ]
  },
  {
   "cell_type": "code",
   "execution_count": null,
   "id": "8fd3eb6d",
   "metadata": {
    "scrolled": true
   },
   "outputs": [],
   "source": [
    "fargate_executor = ct.executor.ECSExecutor(\n",
    "    credentials=\"/Users/faiyaz/.aws/credentials\",\n",
    "    region=\"us-east-1\",\n",
    "    profile=\"default\",\n",
    "    s3_bucket_name=\"covalent-fargate-task-resources\",\n",
    "    ecr_repo_name=\"covalent-fargate-task-images\",\n",
    "    ecs_cluster_name=\"covalent-fargate-cluster\",\n",
    "    ecs_task_family_name=\"covalent-fargate-tasks\",\n",
    "    ecs_task_execution_role_name=\"ecsTaskExecutionRole\",\n",
    "    ecs_task_role_name = \"CovalentFargateTaskRole\",\n",
    "    ecs_task_subnet_id=\"subnet-871545e1\",\n",
    "    ecs_task_security_group_id=\"sg-0043541a\",\n",
    "    ecs_task_log_group_name=\"covalent-fargate-task-logs\",\n",
    "    vcpu=4,\n",
    "    memory=8,\n",
    "    retry_attempts=2,\n",
    "    poll_freq=10,\n",
    "    time_limit=3000,\n",
    "    cache_dir=\"/tmp/covalent\"\n",
    ")"
   ]
  },
  {
   "cell_type": "code",
   "execution_count": null,
   "id": "0aeaa02b",
   "metadata": {
    "scrolled": true
   },
   "outputs": [],
   "source": [
    "# deps_pip = ct.DepsPip(packages=[\"pandas==1.4.4\"])\n",
    "\n",
    "# @ct.electron(\n",
    "#     deps_pip=deps_pip,\n",
    "#     executor=fargate_executor\n",
    "# )\n",
    "@ct.electron\n",
    "def transform_data(dataset, window, lag_size):\n",
    "    # Subsample\n",
    "    refined_data = dataset[(dataset['date'] >= '2017-01-01')]\n",
    "    \n",
    "    # Restructure\n",
    "    group = refined_data.sort_values('date').groupby(['item', 'store', 'date'], as_index=False)\n",
    "    group = group.agg({'sales':['mean']})\n",
    "    group.columns = ['item', 'store', 'date', 'sales']\n",
    "    \n",
    "    data = group.drop('date', axis=1)\n",
    "    cols, names = list(), list()\n",
    "    \n",
    "    # Input sequence (t-n, ... t-1)\n",
    "    for i in range(window, 0, -1):\n",
    "        cols.append(data.shift(i))\n",
    "        names += [('%s(t-%d)' % (col, i)) for col in data.columns]\n",
    "        \n",
    "    # Current timestep (t=0)\n",
    "    cols.append(data)\n",
    "    names += [('%s(t)' % (col)) for col in data.columns]\n",
    "    \n",
    "    # Target timestep (t=lag)\n",
    "    cols.append(data.shift(-lag_size))\n",
    "    names += [('%s(t+%d)' % (col, lag_size)) for col in data.columns]\n",
    "    \n",
    "    # Put it all together\n",
    "    time_series = pd.concat(cols, axis=1)\n",
    "    time_series.columns = names\n",
    "    \n",
    "    # Drop rows with NaN values\n",
    "    time_series.dropna(inplace=True)\n",
    "    \n",
    "    # Filter unwanted data\n",
    "    last_item = 'item(t-%d)' % window\n",
    "    last_store = 'store(t-%d)' % window\n",
    "    time_series = time_series[(time_series['store(t)'] == time_series[last_store])]\n",
    "    time_series = time_series[(time_series['item(t)'] == time_series[last_item])]\n",
    "    \n",
    "    columns_to_drop = [('%s(t+%d)' % (col, lag_size)) for col in ['item', 'store']]\n",
    "    for i in range(window, 0, -1):\n",
    "        columns_to_drop += [('%s(t-%d)' % (col, i)) for col in ['item', 'store']]\n",
    "    time_series.drop(columns_to_drop, axis=1, inplace=True)\n",
    "    time_series.drop(['item(t)', 'store(t)'], axis=1, inplace=True)\n",
    "    \n",
    "    return time_series"
   ]
  },
  {
   "cell_type": "code",
   "execution_count": null,
   "id": "afd6f9d8",
   "metadata": {
    "scrolled": true
   },
   "outputs": [],
   "source": [
    "# Split the time series into training / validation sets\n",
    "@ct.electron\n",
    "def split_data(time_series, lag_size):\n",
    "    # Label\n",
    "    labels_col = 'sales(t+%d)' % lag_size\n",
    "    labels = time_series[labels_col]\n",
    "    time_series = time_series.drop(labels_col, axis=1)\n",
    "\n",
    "    X_train, X_valid, Y_train, Y_valid = train_test_split(time_series, labels.values, test_size=0.4, random_state=0)\n",
    "    X_train_series = X_train.values.reshape((X_train.shape[0], X_train.shape[1], 1))\n",
    "    X_valid_series = X_valid.values.reshape((X_valid.shape[0], X_valid.shape[1], 1))\n",
    "    \n",
    "    return X_train, X_train_series, X_valid, X_valid_series, Y_train, Y_valid"
   ]
  },
  {
   "cell_type": "markdown",
   "id": "cd6b27ff",
   "metadata": {},
   "source": [
    "### Next frame contruction of the four DNN models as tasks."
   ]
  },
  {
   "cell_type": "code",
   "execution_count": null,
   "id": "e90bf2b5",
   "metadata": {
    "scrolled": true
   },
   "outputs": [],
   "source": [
    "@ct.electron\n",
    "def construct_mlp_model(X_train):\n",
    "    model_mlp = Sequential()\n",
    "    model_mlp.add(Dense(100, activation='relu', input_dim=X_train.shape[1]))\n",
    "    model_mlp.add(Dense(1))\n",
    "    \n",
    "    return model_mlp"
   ]
  },
  {
   "cell_type": "code",
   "execution_count": null,
   "id": "fe634c14",
   "metadata": {
    "scrolled": true
   },
   "outputs": [],
   "source": [
    "@ct.electron\n",
    "def construct_cnn_model(X_train_series, X_valid_series):\n",
    "    model_cnn = Sequential()\n",
    "    model_cnn.add(Conv1D(\n",
    "        filters=64, \n",
    "        kernel_size=2, \n",
    "        activation='relu', \n",
    "        input_shape=(X_train_series.shape[1], X_train_series.shape[2])\n",
    "    ))\n",
    "    model_cnn.add(MaxPooling1D(pool_size=2))\n",
    "    model_cnn.add(Flatten())\n",
    "    model_cnn.add(Dense(50, activation='relu'))\n",
    "    model_cnn.add(Dense(1))\n",
    "    \n",
    "    return model_cnn"
   ]
  },
  {
   "cell_type": "code",
   "execution_count": null,
   "id": "487ebeb6",
   "metadata": {
    "scrolled": true
   },
   "outputs": [],
   "source": [
    "@ct.electron\n",
    "def construct_lstm_model(X_train_series, X_valid_series):\n",
    "    model_lstm = Sequential()\n",
    "    model_lstm.add(LSTM(50, activation='relu', input_shape=(X_train_series.shape[1], X_train_series.shape[2])))\n",
    "    model_lstm.add(Dense(1))\n",
    "    \n",
    "    return model_lstm"
   ]
  },
  {
   "cell_type": "code",
   "execution_count": null,
   "id": "9a23be52",
   "metadata": {
    "scrolled": true
   },
   "outputs": [],
   "source": [
    "@ct.electron\n",
    "def construct_cnn_lstm_model(X_train_series, X_valid_series):\n",
    "    subsequences = 2\n",
    "    timesteps = X_train_series.shape[1]//subsequences\n",
    "    X_train_series_sub = X_train_series.reshape((X_train_series.shape[0], subsequences, timesteps, 1))\n",
    "    X_valid_series_sub = X_valid_series.reshape((X_valid_series.shape[0], subsequences, timesteps, 1))\n",
    "    \n",
    "    model_cnn_lstm = Sequential()\n",
    "    model_cnn_lstm.add(TimeDistributed(Conv1D(\n",
    "        filters=64, \n",
    "        kernel_size=1, \n",
    "        activation='relu'), input_shape=(None, X_train_series_sub.shape[2], X_train_series_sub.shape[3])))\n",
    "    model_cnn_lstm.add(TimeDistributed(MaxPooling1D(pool_size=2)))\n",
    "    model_cnn_lstm.add(TimeDistributed(Flatten()))\n",
    "    model_cnn_lstm.add(LSTM(50, activation='relu'))\n",
    "    model_cnn_lstm.add(Dense(1))\n",
    "    \n",
    "    return model_cnn_lstm"
   ]
  },
  {
   "cell_type": "markdown",
   "id": "0a47ae10",
   "metadata": {},
   "source": [
    "### Define tasks which train / fit the four models. We will offload these to two different remote backends: two go to a Slurm-based cluster, two go to AWS Batch. This allows us to distribute work to multiple regions in the cloud."
   ]
  },
  {
   "cell_type": "code",
   "execution_count": null,
   "id": "e50bf9bd",
   "metadata": {
    "scrolled": true
   },
   "outputs": [],
   "source": [
    "batch_executor = ct.executor.AWSBatchExecutor(\n",
    "    credentials=\"/Users/faiyaz/.aws/credentials\",\n",
    "    batch_queue=\"covalent-batch-queue\",\n",
    "    profile=\"default\",\n",
    "    s3_bucket_name=\"covalent-batch-job-resources\",\n",
    "    batch_job_definition_name=\"covalent-batch-jobs\",\n",
    "    batch_execution_role_name=\"ecsTaskExecutionRole\",\n",
    "    batch_job_role_name=\"CovalentBatchJobRole\",\n",
    "    batch_job_log_group_name=\"covalent-batch-job-logs\",\n",
    "    vcpu=4,\n",
    "    memory=8,\n",
    "    retry_attempts=2,\n",
    "    poll_freq=10,\n",
    "    time_limit=3000,\n",
    "    cache_dir=\"/tmp/covalent\"\n",
    ")"
   ]
  },
  {
   "cell_type": "code",
   "execution_count": null,
   "id": "9c21d0c2",
   "metadata": {
    "scrolled": true
   },
   "outputs": [],
   "source": [
    "# deps_pip = ct.DepsPip(packages=[\"tensorflow==2.9.1\", \"pandas==1.4.4\"])\n",
    "\n",
    "# @ct.electron(\n",
    "#     deps_pip=deps_pip,\n",
    "#     executor=batch_executor\n",
    "# )\n",
    "@ct.electron\n",
    "def fit_mlp_model(model_mlp, X_train, X_valid, Y_train, Y_valid, learning_rate, epochs):\n",
    "    model_mlp.compile(loss='mse', optimizer=optimizers.Adam(learning_rate))\n",
    "    \n",
    "    return model_mlp.fit(\n",
    "        X_train.values, \n",
    "        Y_train, \n",
    "        validation_data=(X_valid.values, Y_valid), \n",
    "        epochs=epochs\n",
    ")"
   ]
  },
  {
   "cell_type": "code",
   "execution_count": null,
   "id": "9f70f793",
   "metadata": {
    "scrolled": true
   },
   "outputs": [],
   "source": [
    "# deps_pip = ct.DepsPip(packages=[\"tensorflow==2.9.1\", \"pandas==1.4.4\"])\n",
    "\n",
    "# @ct.electron(\n",
    "#     deps_pip=deps_pip,\n",
    "#     executor=batch_executor\n",
    "# )\n",
    "@ct.electron\n",
    "def fit_cnn_model(model_cnn, X_train_series, X_valid_series, Y_train, Y_valid, learning_rate, epochs):\n",
    "    model_cnn.compile(loss='mse', optimizer=optimizers.Adam(learning_rate))\n",
    "    \n",
    "    return model_cnn.fit(\n",
    "        X_train_series, \n",
    "        Y_train, \n",
    "        validation_data=(X_valid_series, Y_valid), \n",
    "        epochs=epochs\n",
    "    )"
   ]
  },
  {
   "cell_type": "code",
   "execution_count": null,
   "id": "8750a4e2",
   "metadata": {
    "scrolled": true
   },
   "outputs": [],
   "source": [
    "# @ct.electron(\n",
    "#     deps_pip=deps_pip,\n",
    "#     executor=batch_executor\n",
    "# )\n",
    "@ct.electron\n",
    "def fit_lstm_model(model_lstm, X_train_series, X_valid_series, Y_train, Y_valid, learning_rate, epochs):\n",
    "    model_lstm.compile(loss='mse', optimizer=optimizers.Adam(learning_rate))\n",
    "    \n",
    "    return model_lstm.fit(\n",
    "        X_train_series, \n",
    "        Y_train, \n",
    "        validation_data=(X_valid_series, Y_valid), \n",
    "        epochs=epochs\n",
    "    )"
   ]
  },
  {
   "cell_type": "code",
   "execution_count": null,
   "id": "916e149c",
   "metadata": {
    "scrolled": true
   },
   "outputs": [],
   "source": [
    "# @ct.electron(\n",
    "#     deps_pip=deps_pip,\n",
    "#     executor=batch_executor\n",
    "# )\n",
    "@ct.electron\n",
    "def fit_cnn_lstm_model(model_cnn_lstm,  X_train_series, X_valid_series, Y_train, Y_valid, learning_rate, epochs):\n",
    "    model_cnn_lstm.compile(loss='mse', optimizer=optimizers.Adam(learning_rate))\n",
    "    \n",
    "    subsequences = 2\n",
    "    timesteps = X_train_series.shape[1]//subsequences\n",
    "    X_train_series_sub = X_train_series.reshape((X_train_series.shape[0], subsequences, timesteps, 1))\n",
    "    X_valid_series_sub = X_valid_series.reshape((X_valid_series.shape[0], subsequences, timesteps, 1))\n",
    "    \n",
    "    return model_cnn_lstm.fit(\n",
    "        X_train_series_sub, \n",
    "        Y_train, \n",
    "        validation_data=(X_valid_series_sub, Y_valid), \n",
    "        epochs=epochs\n",
    "    )"
   ]
  },
  {
   "cell_type": "code",
   "execution_count": null,
   "id": "fe4aca3e",
   "metadata": {},
   "outputs": [],
   "source": [
    "@ct.electron\n",
    "def visualize_loss_functions(mlp_history, cnn_history, lstm_history, cnn_lstm_history):    \n",
    "    fig, axes = plt.subplots(2, 2, sharex=True, sharey=False, figsize=(22,12))\n",
    "    ax1, ax2 = axes[0]\n",
    "    ax3, ax4 = axes[1]\n",
    "\n",
    "    ax1.plot(mlp_history.history['loss'], label='Train loss')\n",
    "    ax1.plot(mlp_history.history['val_loss'], label='Validation loss')\n",
    "    ax1.legend(loc='best')\n",
    "    ax1.set_title('MLP')\n",
    "    ax1.set_xlabel('Epochs')\n",
    "    ax1.set_ylabel('MSE')\n",
    "\n",
    "    ax2.plot(cnn_history.history['loss'], label='Train loss')\n",
    "    ax2.plot(cnn_history.history['val_loss'], label='Validation loss')\n",
    "    ax2.legend(loc='best')\n",
    "    ax2.set_title('CNN')\n",
    "    ax2.set_xlabel('Epochs')\n",
    "    ax2.set_ylabel('MSE')\n",
    "\n",
    "    ax3.plot(lstm_history.history['loss'], label='Train loss')\n",
    "    ax3.plot(lstm_history.history['val_loss'], label='Validation loss')\n",
    "    ax3.legend(loc='best')\n",
    "    ax3.set_title('LSTM')\n",
    "    ax3.set_xlabel('Epochs')\n",
    "    ax3.set_ylabel('MSE')\n",
    "\n",
    "    ax4.plot(cnn_lstm_history.history['loss'], label='Train loss')\n",
    "    ax4.plot(cnn_lstm_history.history['val_loss'], label='Validation loss')\n",
    "    ax4.legend(loc='best')\n",
    "    ax4.set_title('CNN-LSTM')\n",
    "    ax4.set_xlabel('Epochs')\n",
    "    ax4.set_ylabel('MSE')\n",
    "    plt.savefig(\"/Users/faiyaz/Code/covalent/doc/source/tutorials/machine_learning/images/comparison.png\")\n",
    "    "
   ]
  },
  {
   "cell_type": "markdown",
   "id": "0426b8c8",
   "metadata": {},
   "source": [
    "### We are now ready to construct a workflow which compares four DNN models using a variety of cloud-based compute resources"
   ]
  },
  {
   "cell_type": "code",
   "execution_count": null,
   "id": "4e8c5f39",
   "metadata": {
    "scrolled": true
   },
   "outputs": [],
   "source": [
    "@ct.lattice\n",
    "def compare_models(window, lag_size, learning_rate, epochs):\n",
    "    # Fetch and validate source data\n",
    "    train = fetch_and_validate_data()\n",
    "    \n",
    "    # Explore the data\n",
    "    daily_sales_plt, sales_by_item_plt = explore_data(train)\n",
    "    \n",
    "    # Subsample and transform the data\n",
    "    time_series = transform_data(train, window, lag_size)\n",
    "\n",
    "    # Split into training and validation sets\n",
    "    X_train, X_train_series, X_valid, X_valid_series, Y_train, Y_valid = split_data(time_series, lag_size)\n",
    "    \n",
    "    # Construct the models\n",
    "    model_mlp = construct_mlp_model(X_train)\n",
    "    model_cnn = construct_cnn_model(X_train_series=X_train_series, X_valid_series=X_valid_series)\n",
    "    model_lstm = construct_lstm_model(X_train_series=X_train_series, X_valid_series=X_valid_series)\n",
    "    model_cnn_lstm = construct_cnn_lstm_model(X_train_series=X_train_series, X_valid_series=X_valid_series)\n",
    "    \n",
    "    # Train the models\n",
    "    mlp_history = fit_mlp_model(model_mlp=model_mlp, X_train=X_train, X_valid=X_valid, Y_train=Y_train, Y_valid=Y_valid, learning_rate=learning_rate, epochs=epochs)\n",
    "    cnn_history = fit_cnn_model(model_cnn=model_cnn, X_train_series=X_train_series, X_valid_series=X_valid_series, Y_train=Y_train, Y_valid=Y_valid, learning_rate=learning_rate, epochs=epochs)\n",
    "    lstm_history = fit_lstm_model(model_lstm=model_lstm, X_train_series=X_train_series, X_valid_series=X_valid_series, Y_train=Y_train, Y_valid=Y_valid, learning_rate=learning_rate, epochs=epochs)\n",
    "    cnn_lstm_history = fit_cnn_lstm_model(model_cnn_lstm=model_cnn_lstm, X_train_series=X_train_series, X_valid_series=X_valid_series, Y_train=Y_train, Y_valid=Y_valid, learning_rate=learning_rate, epochs=epochs)\n",
    "    visualize_loss_functions(mlp_history, cnn_history, lstm_history, cnn_lstm_history)\n",
    "    \n",
    "    return mlp_history, cnn_history, lstm_history, cnn_lstm_history\n",
    "    "
   ]
  },
  {
   "cell_type": "markdown",
   "id": "cad27f33",
   "metadata": {},
   "source": [
    "### Time to invoke the workflow!"
   ]
  },
  {
   "cell_type": "code",
   "execution_count": null,
   "id": "819ce9f1",
   "metadata": {
    "scrolled": true
   },
   "outputs": [],
   "source": [
    "dispatch_id = ct.dispatch(compare_models)(\n",
    "    window=29,\n",
    "    lag_size=90,\n",
    "    learning_rate=0.0003,\n",
    "    epochs=40\n",
    ")\n",
    "\n",
    "print(dispatch_id)"
   ]
  },
  {
   "cell_type": "markdown",
   "id": "f855e406",
   "metadata": {},
   "source": [
    "### You are now free to kill the Python kernel, take a walk, and come back when your workflow is done running.  Want reminders? Ask about e-mail or Slack notifications upon completion/failure...\n",
    "\n",
    "### But first, let's now take a look at the UI in the browser...\n",
    "\n",
    "![](workflow.png)"
   ]
  },
  {
   "cell_type": "code",
   "execution_count": null,
   "id": "7254c186",
   "metadata": {
    "scrolled": true
   },
   "outputs": [],
   "source": [
    "res = ct.get_result(dispatch_id, wait=True)"
   ]
  },
  {
   "cell_type": "code",
   "execution_count": null,
   "id": "90d901f4",
   "metadata": {
    "scrolled": true
   },
   "outputs": [],
   "source": [
    "print(f\"Workflow status: {res.status} \\nComputation time: {((res.end_time - res.start_time).total_seconds() / 60):.1f} minutes\")"
   ]
  },
  {
   "cell_type": "markdown",
   "id": "2ea6e059",
   "metadata": {},
   "source": [
    "### Finally, let's visualize the loss functions for each of the models as they trained"
   ]
  },
  {
   "cell_type": "code",
   "execution_count": null,
   "id": "d7ee3d01",
   "metadata": {},
   "outputs": [],
   "source": []
  }
 ],
 "metadata": {
  "kernelspec": {
   "display_name": "Python [conda env:test-dev-4] *",
   "language": "python",
   "name": "conda-env-test-dev-4-py"
  },
  "language_info": {
   "codemirror_mode": {
    "name": "ipython",
    "version": 3
   },
   "file_extension": ".py",
   "mimetype": "text/x-python",
   "name": "python",
   "nbconvert_exporter": "python",
   "pygments_lexer": "ipython3",
   "version": "3.8.13"
  }
 },
 "nbformat": 4,
 "nbformat_minor": 5
}
