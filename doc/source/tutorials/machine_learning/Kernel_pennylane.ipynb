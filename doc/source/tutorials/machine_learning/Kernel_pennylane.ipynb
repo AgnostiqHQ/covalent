{
 "cells": [
  {
   "cell_type": "code",
   "execution_count": 1,
   "id": "aa6aefb6",
   "metadata": {},
   "outputs": [],
   "source": [
    "import numpy as np\n",
    "import torch\n",
    "from torch.nn.functional import relu\n",
    "\n",
    "from sklearn.svm import SVC\n",
    "from sklearn.datasets import load_iris\n",
    "from sklearn.preprocessing import StandardScaler\n",
    "from sklearn.model_selection import train_test_split\n",
    "from sklearn.metrics import accuracy_score\n",
    "\n",
    "import pennylane as qml\n",
    "from pennylane.templates import AngleEmbedding, StronglyEntanglingLayers\n",
    "from pennylane.operation import Tensor\n",
    "\n",
    "import matplotlib.pyplot as plt\n",
    "\n",
    "import covalent as ct\n",
    "\n",
    "\n",
    "from covalent.executor import DaskExecutor\n",
    "from dask.distributed import LocalCluster\n",
    "\n",
    "\n",
    "np.random.seed(42)"
   ]
  },
  {
   "cell_type": "markdown",
   "id": "d21e36da",
   "metadata": {},
   "source": [
    "# Load, preprocess and split data\n",
    "\n",
    "We use the Iris dataset in this tutorial. We do some necessary preprocessing on the data and split them into training and test dataset."
   ]
  },
  {
   "cell_type": "code",
   "execution_count": 2,
   "id": "3dce16b3",
   "metadata": {},
   "outputs": [],
   "source": [
    "X, y = load_iris(return_X_y=True)\n",
    "\n",
    "# pick inputs and labels from the first two classes only,\n",
    "# corresponding to the first 100 samples\n",
    "X = X[:100]\n",
    "y = y[:100]\n",
    "\n",
    "# scaling the inputs is important since the embedding we use is periodic\n",
    "scaler = StandardScaler().fit(X)\n",
    "X_scaled = scaler.transform(X)\n",
    "\n",
    "# scaling the labels to -1, 1 is important for the SVM and the\n",
    "# definition of a hinge loss\n",
    "y_scaled = 2 * (y - 0.5)\n",
    "\n",
    "X_train, X_test, y_train, y_test = train_test_split(X_scaled, y_scaled)"
   ]
  },
  {
   "cell_type": "code",
   "execution_count": 3,
   "id": "f63267e1",
   "metadata": {},
   "outputs": [],
   "source": [
    "n_qubits = len(X_train[0])\n",
    "\n",
    "dev_kernel = qml.device(\"default.qubit\", wires=n_qubits)\n",
    "\n",
    "projector = np.zeros((2**n_qubits, 2**n_qubits))\n",
    "projector[0, 0] = 1\n",
    "\n",
    "@ct.electron()\n",
    "@qml.qnode(dev_kernel)\n",
    "def kernel(x1, x2):\n",
    "    \"\"\"The quantum kernel.\"\"\"\n",
    "    AngleEmbedding(x1, wires=range(n_qubits))\n",
    "    qml.adjoint(AngleEmbedding)(x2, wires=range(n_qubits))\n",
    "    return qml.expval(qml.Hermitian(projector, wires=range(n_qubits)))"
   ]
  },
  {
   "cell_type": "code",
   "execution_count": 4,
   "id": "bf1c0f2f",
   "metadata": {},
   "outputs": [],
   "source": [
    "@ct.electron()\n",
    "def kernel_matrix(A, B):\n",
    "    \"\"\"Compute the matrix whose entries are the kernel\n",
    "       evaluated on pairwise data from sets A and B.\"\"\"\n",
    "    return np.array([[kernel(a, b) for b in B] for a in A])\n",
    "\n",
    "@ct.electron()\n",
    "def fit_SVC(X_train, y_train,kernel_matrix):\n",
    "    svm = SVC(kernel=kernel_matrix).fit(X_train, y_train)\n",
    "    return svm\n",
    "\n",
    "@ct.electron()\n",
    "def predict_SVC(svm, X_test):\n",
    "    predictions = svm.predict(X_test)\n",
    "    return predictions\n",
    "\n",
    "@ct.electron()\n",
    "def get_accuracy_score(predictions, y_test):\n",
    "    return accuracy_score(predictions, y_test)\n"
   ]
  },
  {
   "cell_type": "code",
   "execution_count": 29,
   "id": "e6f8cdd9",
   "metadata": {},
   "outputs": [],
   "source": [
    "@ct.lattice()\n",
    "def kernel_workflow(X_train, y_train, X_test, y_test, kernel_matrix):\n",
    "    svm = fit_SVC(X_train, y_train, kernel_matrix)\n",
    "    predictions = predict_SVC(svm,X_test)\n",
    "    acc = get_accuracy_score(predictions, y_test)\n",
    "    return acc"
   ]
  },
  {
   "cell_type": "code",
   "execution_count": 30,
   "id": "317ab821",
   "metadata": {},
   "outputs": [
    {
     "data": {
      "text/plain": [
       "1.0"
      ]
     },
     "execution_count": 30,
     "metadata": {},
     "output_type": "execute_result"
    }
   ],
   "source": [
    "kernel_workflow(X_train, y_train, X_test, y_test, kernel_matrix)"
   ]
  },
  {
   "cell_type": "code",
   "execution_count": 31,
   "id": "396f6a6d",
   "metadata": {},
   "outputs": [],
   "source": [
    "dispatch_id = ct.dispatch(kernel_workflow)(X_train, y_train, X_test, y_test, kernel_matrix)"
   ]
  },
  {
   "cell_type": "code",
   "execution_count": 34,
   "id": "aac87bdb",
   "metadata": {},
   "outputs": [
    {
     "data": {
      "text/plain": [
       "1.0"
      ]
     },
     "execution_count": 34,
     "metadata": {},
     "output_type": "execute_result"
    }
   ],
   "source": [
    "kernel_result = ct.get_result(dispatch_id=dispatch_id, wait=True)\n",
    "kernel_result.result"
   ]
  },
  {
   "cell_type": "code",
   "execution_count": 7,
   "id": "c099e5eb",
   "metadata": {},
   "outputs": [
    {
     "data": {
      "text/plain": [
       "7500"
      ]
     },
     "execution_count": 7,
     "metadata": {},
     "output_type": "execute_result"
    }
   ],
   "source": [
    "dev_kernel.num_executions"
   ]
  },
  {
   "cell_type": "code",
   "execution_count": 9,
   "id": "e184befb",
   "metadata": {},
   "outputs": [
    {
     "data": {
      "text/plain": [
       "7500"
      ]
     },
     "execution_count": 9,
     "metadata": {},
     "output_type": "execute_result"
    }
   ],
   "source": [
    "def circuit_evals_kernel(n_data, split):\n",
    "    \"\"\"Compute how many circuit evaluations one needs for kernel-based\n",
    "       training and prediction.\"\"\"\n",
    "\n",
    "    M = int(np.ceil(split * n_data))\n",
    "    Mpred = n_data - M\n",
    "\n",
    "    n_training = M * M\n",
    "    n_prediction = M * Mpred\n",
    "\n",
    "    return n_training + n_prediction\n",
    "\n",
    "circuit_evals_kernel(n_data=len(X), split=len(X_train) /(len(X_train) + len(X_test)))"
   ]
  },
  {
   "cell_type": "code",
   "execution_count": null,
   "id": "72f70224",
   "metadata": {},
   "outputs": [],
   "source": []
  },
  {
   "cell_type": "code",
   "execution_count": null,
   "id": "73a25f8d",
   "metadata": {},
   "outputs": [],
   "source": []
  },
  {
   "cell_type": "code",
   "execution_count": 5,
   "id": "85e58943",
   "metadata": {},
   "outputs": [],
   "source": [
    "dev_var = qml.device(\"default.qubit\", wires=n_qubits)\n",
    "\n",
    "@ct.electron()\n",
    "@qml.qnode(dev_var, interface=\"torch\", diff_method=\"parameter-shift\")\n",
    "def quantum_model(x, params):\n",
    "    \"\"\"A variational quantum model.\"\"\"\n",
    "\n",
    "    # embedding\n",
    "    AngleEmbedding(x, wires=range(n_qubits))\n",
    "\n",
    "    # trainable measurement\n",
    "    StronglyEntanglingLayers(params, wires=range(n_qubits))\n",
    "    return qml.expval(qml.PauliZ(0))\n",
    "\n",
    "@ct.electron()\n",
    "def quantum_model_plus_bias(x, params, bias):\n",
    "    \"\"\"Adding a bias.\"\"\"\n",
    "    return quantum_model(x, params) + bias\n",
    "\n",
    "@ct.electron()\n",
    "def hinge_loss(predictions, targets):\n",
    "    \"\"\"Implements the hinge loss.\"\"\"\n",
    "    all_ones = torch.ones_like(targets)\n",
    "    hinge_loss = all_ones - predictions * targets\n",
    "    # trick: since the max(0,x) function is not differentiable,\n",
    "    # use the mathematically equivalent relu instead\n",
    "    hinge_loss = relu(hinge_loss)\n",
    "    return hinge_loss"
   ]
  },
  {
   "cell_type": "code",
   "execution_count": 10,
   "id": "07c1fc80",
   "metadata": {},
   "outputs": [],
   "source": [
    "@ct.electron()\n",
    "def get_params(n_layers):\n",
    "    params = np.random.random((n_layers, n_qubits, 3))\n",
    "    params_torch = torch.tensor(params, requires_grad=True)\n",
    "    bias_torch = torch.tensor(0.0)\n",
    "    return params_torch, bias_torch\n",
    "\n",
    "@ct.electron()\n",
    "def get_optimizer(params_torch, bias_torch):\n",
    "    return torch.optim.Adam([params_torch, bias_torch], lr=0.1)\n",
    "\n",
    "@ct.electron()\n",
    "def get_batch_data(batch_ids):\n",
    "    X_batch = X_train[batch_ids]\n",
    "    y_batch = y_train[batch_ids]\n",
    "\n",
    "    X_batch_torch = torch.tensor(X_batch, requires_grad=False)\n",
    "    y_batch_torch = torch.tensor(y_batch, requires_grad=False)\n",
    "    \n",
    "    return X_batch_torch, y_batch_torch\n",
    "\n",
    "\n",
    "@ct.electron()\n",
    "def step_optimizer(opt, params_torch, bias_torch,  X_batch_torch, y_batch_torch):\n",
    "    def closure():\n",
    "        opt.zero_grad()\n",
    "        preds = torch.stack(\n",
    "            [quantum_model_plus_bias(x, params_torch, bias_torch) for x in X_batch_torch]\n",
    "        )\n",
    "        loss = torch.mean(hinge_loss(preds, y_batch_torch))\n",
    "\n",
    "        # bookkeeping\n",
    "        current_loss = loss.detach().numpy().item()\n",
    "        #loss_history.append(current_loss)\n",
    "#         if i % 10 == 0:\n",
    "#             print(\"step\", i, \", loss\", current_loss)\n",
    "\n",
    "        loss.backward()\n",
    "        return loss\n",
    "\n",
    "    opt.step(closure)\n",
    "    current_loss = closure().detach().numpy().item()\n",
    "    return opt, current_loss\n",
    "\n",
    "@ct.lattice()\n",
    "def quantum_model_train(n_layers, steps, batch_size):\n",
    "    \"\"\"Train the quantum model defined above.\"\"\"\n",
    "    \n",
    "    params_torch, bias_torch = get_params(n_layers)\n",
    "\n",
    "    opt = get_optimizer(params_torch, bias_torch)\n",
    "\n",
    "    loss_history = []\n",
    "    \n",
    "    for i in range(steps):\n",
    "\n",
    "        batch_ids = np.random.choice(len(X_train), batch_size)\n",
    "\n",
    "        X_batch_torch, y_batch_torch = get_batch_data(batch_ids)\n",
    "\n",
    "        opt = get_optimizer(params_torch, bias_torch)       \n",
    "        \n",
    "        opt, current_loss = step_optimizer(opt = opt,params_torch = params_torch, bias_torch = bias_torch,  X_batch_torch = X_batch_torch, y_batch_torch = y_batch_torch)\n",
    "        \n",
    "        loss_history.append(current_loss)\n",
    "        \n",
    "    return params_torch, bias_torch, loss_history\n",
    "\n",
    "\n",
    "def quantum_model_predict(X_pred, trained_params, trained_bias):\n",
    "    \"\"\"Predict using the quantum model defined above.\"\"\"\n",
    "\n",
    "    p = []\n",
    "    for x in X_pred:\n",
    "\n",
    "        x_torch = torch.tensor(x)\n",
    "        pred_torch = quantum_model_plus_bias(x_torch, trained_params, trained_bias)\n",
    "        pred = pred_torch.detach().numpy().item()\n",
    "        if pred > 0:\n",
    "            pred = 1\n",
    "        else:\n",
    "            pred = -1\n",
    "\n",
    "        p.append(pred)\n",
    "    return p"
   ]
  },
  {
   "cell_type": "code",
   "execution_count": 13,
   "id": "c607a569",
   "metadata": {},
   "outputs": [
    {
     "data": {
      "text/plain": [
       "(tensor([[[ 0.7654, -0.2417,  0.8826],\n",
       "          [ 1.1887,  1.0789,  0.7004],\n",
       "          [ 0.0467,  0.0563,  0.8045],\n",
       "          [ 1.2878,  0.6509,  1.3356]],\n",
       " \n",
       "         [[ 0.7853,  0.6690,  0.5807],\n",
       "          [ 0.3723,  0.9401,  0.9737],\n",
       "          [ 0.8839, -0.2946,  0.4856],\n",
       "          [ 0.4484,  0.9945,  0.1759]]], dtype=torch.float64,\n",
       "        requires_grad=True),\n",
       " tensor(0.),\n",
       " [1.1608638861071854,\n",
       "  1.1235740413714765,\n",
       "  1.0215479383172477,\n",
       "  0.995945419614604,\n",
       "  0.9369307976963229,\n",
       "  0.9456064940022142,\n",
       "  0.8666741847975062,\n",
       "  0.7444601105128636,\n",
       "  0.7178592950999982,\n",
       "  0.7969971780418705])"
      ]
     },
     "execution_count": 13,
     "metadata": {},
     "output_type": "execute_result"
    }
   ],
   "source": [
    "quantum_model_train(n_layers, 10, batch_size)"
   ]
  },
  {
   "cell_type": "code",
   "execution_count": 12,
   "id": "dee46d46",
   "metadata": {},
   "outputs": [],
   "source": [
    "n_layers = 2\n",
    "batch_size = 20\n",
    "steps = 1\n",
    "dispatch_id = ct.dispatch(quantum_model_train)(n_layers, steps, batch_size)"
   ]
  },
  {
   "cell_type": "code",
   "execution_count": 12,
   "id": "4e89217b",
   "metadata": {},
   "outputs": [
    {
     "name": "stdout",
     "output_type": "stream",
     "text": [
      "step 0 , loss 1.2128428849025235\n",
      "step 10 , loss 0.8582750956106431\n",
      "step 20 , loss 0.4384989057963321\n",
      "step 30 , loss 0.6458829274590641\n",
      "step 40 , loss 0.5540116701446126\n",
      "step 50 , loss 0.4132239145818268\n",
      "step 60 , loss 0.5209433003814097\n",
      "step 70 , loss 0.4694193423160378\n",
      "step 80 , loss 0.4858145744021141\n",
      "step 90 , loss 0.41962346215340246\n",
      "accuracy on test set: 0.96\n"
     ]
    },
    {
     "data": {
      "image/png": "[encoded data removed]",
      "text/plain": [
       "<Figure size 432x288 with 1 Axes>"
      ]
     },
     "metadata": {
      "needs_background": "light"
     },
     "output_type": "display_data"
    }
   ],
   "source": [
    "n_layers = 2\n",
    "batch_size = 20\n",
    "steps = 100\n",
    "trained_params, trained_bias, loss_history = quantum_model_train(n_layers, steps, batch_size)\n",
    "\n",
    "pred_test = quantum_model_predict(X_test, trained_params, trained_bias)\n",
    "print(\"accuracy on test set:\", accuracy_score(pred_test, y_test))\n",
    "\n",
    "plt.plot(loss_history)\n",
    "plt.ylim((0, 1))\n",
    "plt.xlabel(\"steps\")\n",
    "plt.ylabel(\"cost\")\n",
    "plt.show()"
   ]
  },
  {
   "cell_type": "code",
   "execution_count": 13,
   "id": "721d46ed",
   "metadata": {},
   "outputs": [
    {
     "data": {
      "text/plain": [
       "96025"
      ]
     },
     "execution_count": 13,
     "metadata": {},
     "output_type": "execute_result"
    }
   ],
   "source": [
    "def circuit_evals_variational(n_data, n_params, n_steps, shift_terms, split, batch_size):\n",
    "    \"\"\"Compute how many circuit evaluations are needed for\n",
    "       variational training and prediction.\"\"\"\n",
    "\n",
    "    M = int(np.ceil(split * n_data))\n",
    "    Mpred = n_data - M\n",
    "\n",
    "    n_training = n_params * n_steps * batch_size * shift_terms\n",
    "    n_prediction = Mpred\n",
    "\n",
    "    return n_training + n_prediction\n",
    "\n",
    "circuit_evals_variational(\n",
    "    n_data=len(X),\n",
    "    n_params=len(trained_params.flatten()),\n",
    "    n_steps=steps,\n",
    "    shift_terms=2,\n",
    "    split=len(X_train) /(len(X_train) + len(X_test)),\n",
    "    batch_size=batch_size,\n",
    ")"
   ]
  },
  {
   "cell_type": "code",
   "execution_count": 14,
   "id": "80da9d7f",
   "metadata": {},
   "outputs": [],
   "source": [
    "def model_evals_nn(n_data, n_params, n_steps, split, batch_size):\n",
    "    \"\"\"Compute how many model evaluations are needed for neural\n",
    "       network training and prediction.\"\"\"\n",
    "\n",
    "    M = int(np.ceil(split * n_data))\n",
    "    Mpred = n_data - M\n",
    "\n",
    "    n_training = n_steps * batch_size\n",
    "    n_prediction = Mpred\n",
    "\n",
    "    return n_training + n_prediction\n",
    "\n",
    "model_evals_nn(\n",
    "    n_data=len(X),\n",
    "    n_params=len(trained_params.flatten()),\n",
    "    n_steps=steps,\n",
    "    split=len(X_train) /(len(X_train) + len(X_test)),\n",
    "    batch_size=batch_size,\n",
    ")"
   ]
  },
  {
   "cell_type": "code",
   "execution_count": 15,
   "id": "7003f3c8",
   "metadata": {},
   "outputs": [
    {
     "data": {
      "image/png": "[encoded data removed]",
      "text/plain": [
       "<Figure size 432x288 with 1 Axes>"
      ]
     },
     "metadata": {
      "needs_background": "light"
     },
     "output_type": "display_data"
    }
   ],
   "source": [
    "variational_training1 = []\n",
    "variational_training2 = []\n",
    "kernelbased_training = []\n",
    "nn_training = []\n",
    "x_axis = range(0, 2000, 100)\n",
    "\n",
    "for M in x_axis:\n",
    "\n",
    "    var1 = circuit_evals_variational(\n",
    "        n_data=M, n_params=M, n_steps=M,  shift_terms=2, split=0.75, batch_size=1\n",
    "    )\n",
    "    variational_training1.append(var1)\n",
    "\n",
    "    var2 = circuit_evals_variational(\n",
    "        n_data=M, n_params=round(np.sqrt(M)), n_steps=M,\n",
    "        shift_terms=2, split=0.75, batch_size=1\n",
    "    )\n",
    "    variational_training2.append(var2)\n",
    "\n",
    "    kernel = circuit_evals_kernel(n_data=M, split=0.75)\n",
    "    kernelbased_training.append(kernel)\n",
    "\n",
    "    nn = model_evals_nn(\n",
    "        n_data=M, n_params=M, n_steps=M, split=0.75, batch_size=1\n",
    "    )\n",
    "    nn_training.append(nn)\n",
    "\n",
    "\n",
    "plt.plot(x_axis, nn_training, linestyle='--', label=\"neural net\")\n",
    "plt.plot(x_axis, variational_training1, label=\"var. circuit (linear param scaling)\")\n",
    "plt.plot(x_axis, variational_training2, label=\"var. circuit (srqt param scaling)\")\n",
    "plt.plot(x_axis, kernelbased_training, label=\"(quantum) kernel\")\n",
    "plt.xlabel(\"size of data set\")\n",
    "plt.ylabel(\"number of evaluations\")\n",
    "plt.legend()\n",
    "plt.tight_layout()\n",
    "plt.show()"
   ]
  }
 ],
 "metadata": {
  "kernelspec": {
   "display_name": "Python 3",
   "language": "python",
   "name": "python3"
  },
  "language_info": {
   "codemirror_mode": {
    "name": "ipython",
    "version": 3
   },
   "file_extension": ".py",
   "mimetype": "text/x-python",
   "name": "python",
   "nbconvert_exporter": "python",
   "pygments_lexer": "ipython3",
   "version": "3.8.13"
  }
 },
 "nbformat": 4,
 "nbformat_minor": 5
}
