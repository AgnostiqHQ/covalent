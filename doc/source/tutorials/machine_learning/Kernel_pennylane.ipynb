{
 "cells": [
  {
   "cell_type": "markdown",
   "id": "380595ac",
   "metadata": {},
   "source": [
    "# Comparison between kernel-based training and variational circuit using Covalent and Pennylane\n",
    "\n",
    "\n",
    "In this tutorial, we show how kernel-based training compares with variational training in terms of the number of quantum circuits that have to be evaluated. This becomes important as each circuit evaluation on a real quantum hardware is expensive and time consuming. We also discuss how Covalent can help in situations where multiple evaluations of quantum circuits are needed.\n",
    "\n"
   ]
  },
  {
   "cell_type": "code",
   "execution_count": 2,
   "id": "e844e107",
   "metadata": {},
   "outputs": [
    {
     "name": "stderr",
     "output_type": "stream",
     "text": [
      "distributed.diskutils - INFO - Found stale lock file and directory '/home/poojith/agnostiq/dask-worker-space/worker-n_r2nqtn', purging\n",
      "distributed.diskutils - INFO - Found stale lock file and directory '/home/poojith/agnostiq/dask-worker-space/worker-flkr06ce', purging\n",
      "distributed.diskutils - INFO - Found stale lock file and directory '/home/poojith/agnostiq/dask-worker-space/worker-qel2w5xg', purging\n",
      "distributed.diskutils - INFO - Found stale lock file and directory '/home/poojith/agnostiq/dask-worker-space/worker-7rlo7e61', purging\n"
     ]
    }
   ],
   "source": [
    "import numpy as np\n",
    "import torch\n",
    "from torch.nn.functional import relu\n",
    "\n",
    "from sklearn.svm import SVC\n",
    "from sklearn.datasets import load_iris\n",
    "from sklearn.preprocessing import StandardScaler\n",
    "from sklearn.model_selection import train_test_split\n",
    "from sklearn.metrics import accuracy_score\n",
    "\n",
    "import pennylane as qml\n",
    "from pennylane.templates import AngleEmbedding, StronglyEntanglingLayers\n",
    "from pennylane.operation import Tensor\n",
    "\n",
    "import matplotlib.pyplot as plt\n",
    "\n",
    "import covalent as ct\n",
    "\n",
    "\n",
    "from covalent.executor import DaskExecutor\n",
    "from dask.distributed import LocalCluster\n",
    "\n",
    "from dask.distributed import LocalCluster\n",
    "cluster=LocalCluster()\n",
    "dask=ct.executor.DaskExecutor(scheduler_address=cluster.scheduler_address) \n",
    "\n",
    "np.random.seed(42)"
   ]
  },
  {
   "cell_type": "markdown",
   "id": "ce569543",
   "metadata": {},
   "source": [
    "# Load, preprocess and split data\n",
    "\n",
    "We use the Iris dataset in this tutorial. We do some necessary preprocessing on the data and split them into training and test dataset.\n",
    "\n",
    "### Iris dataset\n",
    "\n",
    "Iris dataset is a very well known dataset used for pattern recognition and classification. It consists of 50 samples belonging to 3 classes namely: Iris Setosa, Iris Versicolour and Iris Virginica. Each sample has four features related to the length and width of sepal and petal.\n",
    "\n",
    "For the sake of simplicity of the model, we compress the number of features dataset into 2 using PCA. We will be using a pre-trained model and the PyTorch interface and we’ll see that ensembling allows each set of parameters to specialize towards different classes."
   ]
  },
  {
   "cell_type": "code",
   "execution_count": 3,
   "id": "609005b8",
   "metadata": {},
   "outputs": [],
   "source": [
    "X, y = load_iris(return_X_y=True)\n",
    "\n",
    "# pick inputs and labels from the first two classes only,\n",
    "# corresponding to the first 100 samples\n",
    "X = X[:100]\n",
    "y = y[:100]\n",
    "\n",
    "# scaling the inputs is important since the embedding we use is periodic\n",
    "scaler = StandardScaler().fit(X)\n",
    "X_scaled = scaler.transform(X)\n",
    "\n",
    "# scaling the labels to -1, 1 is important for the SVM and the\n",
    "# definition of a hinge loss\n",
    "y_scaled = 2 * (y - 0.5)\n",
    "\n",
    "X_train, X_test, y_train, y_test = train_test_split(X_scaled, y_scaled)"
   ]
  },
  {
   "cell_type": "markdown",
   "id": "bfe8d2a3",
   "metadata": {},
   "source": [
    "# Constructing the workflow for kernel-based training\n",
    "\n",
    "The workflow for training based on kernel is broken down into subtasks (functions with the Covalent electron decorator) as follows.\n",
    "\n",
    "1. `kernel` - The quantum kernel evaluator which calculates the kernel function value between two values.\n",
    "2. `kernel_matrix` - Compute the matrix whose entries are the kernel evaluated on pairwise data from sets A and B.\n",
    "3. `fit_SVC` - It fits a Support Vector Classifer for the supplied kernel matrix.\n",
    "4. `predict_SVC` - It predicts the classes using the trained SVC.\n",
    "5. `get_accuracy_score` - Returns the accuracy score for the predicted classes.\n"
   ]
  },
  {
   "cell_type": "code",
   "execution_count": 4,
   "id": "76e6517b",
   "metadata": {},
   "outputs": [],
   "source": [
    "n_qubits = len(X_train[0])\n",
    "\n",
    "dev_kernel = qml.device(\"default.qubit\", wires=n_qubits)\n",
    "\n",
    "projector = np.zeros((2**n_qubits, 2**n_qubits))\n",
    "projector[0, 0] = 1\n",
    "\n",
    "@ct.electron()\n",
    "@qml.qnode(dev_kernel)\n",
    "def kernel(x1, x2):\n",
    "    \"\"\"The quantum kernel.\"\"\"\n",
    "    AngleEmbedding(x1, wires=range(n_qubits))\n",
    "    qml.adjoint(AngleEmbedding)(x2, wires=range(n_qubits))\n",
    "    return qml.expval(qml.Hermitian(projector, wires=range(n_qubits)))"
   ]
  },
  {
   "cell_type": "code",
   "execution_count": 5,
   "id": "310b4d52",
   "metadata": {},
   "outputs": [],
   "source": [
    "@ct.electron()\n",
    "def kernel_matrix(A, B):\n",
    "    \"\"\"Compute the matrix whose entries are the kernel\n",
    "       evaluated on pairwise data from sets A and B.\"\"\"\n",
    "    return np.array([[kernel(a, b) for b in B] for a in A])\n",
    "\n",
    "@ct.electron()\n",
    "def fit_SVC(X_train, y_train,kernel_matrix):\n",
    "    svm = SVC(kernel=kernel_matrix).fit(X_train, y_train)\n",
    "    return svm\n",
    "\n",
    "@ct.electron()\n",
    "def predict_SVC(svm, X_test):\n",
    "    predictions = svm.predict(X_test)\n",
    "    return predictions\n",
    "\n",
    "@ct.electron()\n",
    "def get_accuracy_score(predictions, y_test):\n",
    "    return accuracy_score(predictions, y_test)\n"
   ]
  },
  {
   "cell_type": "code",
   "execution_count": 6,
   "id": "47c954ad",
   "metadata": {},
   "outputs": [],
   "source": [
    "@ct.lattice(executor=dask)\n",
    "def kernel_workflow(X_train, y_train, X_test, y_test, kernel_matrix):\n",
    "    svm = fit_SVC(X_train, y_train, kernel_matrix)\n",
    "    predictions = predict_SVC(svm,X_test)\n",
    "    acc = get_accuracy_score(predictions, y_test)\n",
    "    return acc"
   ]
  },
  {
   "cell_type": "code",
   "execution_count": 7,
   "id": "6e1a8606",
   "metadata": {},
   "outputs": [],
   "source": [
    "dispatch_id = ct.dispatch(kernel_workflow)(X_train, y_train, X_test, y_test, kernel_matrix)"
   ]
  },
  {
   "cell_type": "code",
   "execution_count": 8,
   "id": "ce8104b4",
   "metadata": {},
   "outputs": [
    {
     "data": {
      "text/plain": [
       "1.0"
      ]
     },
     "execution_count": 8,
     "metadata": {},
     "output_type": "execute_result"
    }
   ],
   "source": [
    "kernel_result = ct.get_result(dispatch_id=dispatch_id, wait=True)\n",
    "kernel_result.result"
   ]
  },
  {
   "cell_type": "code",
   "execution_count": 9,
   "id": "f34cdac1",
   "metadata": {},
   "outputs": [
    {
     "data": {
      "text/plain": [
       "0"
      ]
     },
     "execution_count": 9,
     "metadata": {},
     "output_type": "execute_result"
    }
   ],
   "source": [
    "dev_kernel.num_executions"
   ]
  },
  {
   "cell_type": "markdown",
   "id": "e6bf8856",
   "metadata": {},
   "source": [
    "# Constructing the workflow for variational training\n",
    "\n",
    "The workflow for training based on variational circuit is broken down into subtasks (functions with the Covalent electron decorator) as follows.\n",
    "\n",
    "1. `quantum_model` - Evaluates the quantum variational circuit.\n",
    "2. `quantum_model_plus_bias` - Adds bias to the output of the circuit.\n",
    "3. `hinge_loss` - Calculates the hinge loss between the predictions and target value.\n",
    "4. `get_params` - Returns random initial parameters as torch objects.\n",
    "5. `get_optimizer` - Returns the the optimizer needed for training.\n",
    "6. `get_batch_data` - Returns the samples used for training in a particular batch.\n",
    "7. `step_optimizer` - Performs one step of optimization during training.\n",
    "8. `get_random` - Returns random indexes needed to choose batch.\n",
    "9. `get_torch` - Converts an array into a torch object.\n",
    "10. `get_pred` - Predict the class based on the output of the model."
   ]
  },
  {
   "cell_type": "code",
   "execution_count": 10,
   "id": "79fb38d4",
   "metadata": {},
   "outputs": [],
   "source": [
    "dev_var = qml.device(\"default.qubit\", wires=n_qubits)\n",
    "\n",
    "@ct.electron()\n",
    "@qml.qnode(dev_var, interface=\"torch\", diff_method=\"parameter-shift\")\n",
    "def quantum_model(x, params):\n",
    "    \"\"\"A variational quantum model.\"\"\"\n",
    "\n",
    "    # embedding\n",
    "    AngleEmbedding(x, wires=range(n_qubits))\n",
    "\n",
    "    # trainable measurement\n",
    "    StronglyEntanglingLayers(params, wires=range(n_qubits))\n",
    "    return qml.expval(qml.PauliZ(0))\n",
    "\n",
    "@ct.electron()\n",
    "def quantum_model_plus_bias(x, params, bias):\n",
    "    \"\"\"Adding a bias.\"\"\"\n",
    "    return quantum_model(x, params) + bias\n",
    "\n",
    "@ct.electron()\n",
    "def hinge_loss(predictions, targets):\n",
    "    \"\"\"Implements the hinge loss.\"\"\"\n",
    "    all_ones = torch.ones_like(targets)\n",
    "    hinge_loss = all_ones - predictions * targets\n",
    "    # trick: since the max(0,x) function is not differentiable,\n",
    "    # use the mathematically equivalent relu instead\n",
    "    hinge_loss = relu(hinge_loss)\n",
    "    return hinge_loss"
   ]
  },
  {
   "cell_type": "code",
   "execution_count": 11,
   "id": "62038f7d",
   "metadata": {},
   "outputs": [],
   "source": [
    "@ct.electron()\n",
    "def get_params(n_layers):\n",
    "    params = np.random.random((n_layers, n_qubits, 3))\n",
    "    params_torch = torch.tensor(params, requires_grad=True)\n",
    "    bias_torch = torch.tensor(0.0)\n",
    "    return params_torch, bias_torch\n",
    "\n",
    "@ct.electron()\n",
    "def get_optimizer(params_torch, bias_torch):\n",
    "    return torch.optim.Adam([params_torch, bias_torch], lr=0.1)\n",
    "\n",
    "@ct.electron()\n",
    "def get_batch_data(batch_ids):\n",
    "    X_batch = X_train[batch_ids]\n",
    "    y_batch = y_train[batch_ids]\n",
    "\n",
    "    X_batch_torch = torch.tensor(X_batch, requires_grad=False)\n",
    "    y_batch_torch = torch.tensor(y_batch, requires_grad=False)\n",
    "    \n",
    "    return X_batch_torch, y_batch_torch\n",
    "\n",
    "\n",
    "@ct.electron()\n",
    "def step_optimizer(opt, params_torch, bias_torch,  X_batch_torch, y_batch_torch):\n",
    "    def closure():\n",
    "        opt.zero_grad()\n",
    "        preds = torch.stack(\n",
    "            [quantum_model_plus_bias(x, params_torch, bias_torch) for x in X_batch_torch]\n",
    "        )\n",
    "        loss = torch.mean(hinge_loss(preds, y_batch_torch))\n",
    "\n",
    "        # bookkeeping\n",
    "        current_loss = loss.detach().numpy().item()\n",
    "\n",
    "        loss.backward()\n",
    "        return loss\n",
    "\n",
    "    opt.step(closure)\n",
    "    current_loss = closure().detach().numpy().item()\n",
    "    return opt, current_loss\n",
    "\n",
    "@ct.electron()\n",
    "def get_random(n, batch_size):\n",
    "    return np.random.choice(n, batch_size)\n",
    "\n"
   ]
  },
  {
   "cell_type": "code",
   "execution_count": 13,
   "id": "593f3d7b",
   "metadata": {},
   "outputs": [],
   "source": [
    "@ct.lattice()\n",
    "def quantum_model_train(n_layers, steps, batch_size):\n",
    "    \"\"\"Train the quantum model defined above.\"\"\"\n",
    "    \n",
    "    params_torch, bias_torch = get_params(n_layers)\n",
    "\n",
    "    opt = get_optimizer(params_torch, bias_torch)\n",
    "\n",
    "    loss_history = []\n",
    "    \n",
    "    for i in range(steps):\n",
    "\n",
    "        batch_ids = get_random(len(X_train), batch_size)\n",
    "\n",
    "        X_batch_torch, y_batch_torch = get_batch_data(batch_ids=batch_ids)\n",
    "\n",
    "        opt = get_optimizer(params_torch=params_torch, bias_torch=bias_torch)       \n",
    "        \n",
    "        opt, current_loss = step_optimizer(opt = opt,params_torch = params_torch, bias_torch = bias_torch,  X_batch_torch = X_batch_torch, y_batch_torch = y_batch_torch)\n",
    "        \n",
    "        loss_history.append(current_loss)\n",
    "        \n",
    "    return params_torch, bias_torch, loss_history\n",
    "\n",
    "\n",
    "@ct.electron()\n",
    "def get_torch(x):\n",
    "    return torch.tensor(x)\n",
    "\n",
    "@ct.electron()\n",
    "def get_pred(pred_torch):\n",
    "    pred = pred_torch.detach().numpy().item()\n",
    "    if pred > 0:\n",
    "        pred = 1\n",
    "    else:\n",
    "        pred = -1        \n",
    "    return pred\n",
    "\n",
    "@ct.lattice(executor=dask)\n",
    "def quantum_model_predict(X_pred, trained_params, trained_bias):\n",
    "    \"\"\"Predict using the quantum model defined above.\"\"\"\n",
    "\n",
    "    p = []\n",
    "    for x in X_pred:\n",
    "\n",
    "        x_torch = get_torch(x=x)\n",
    "        pred_torch = quantum_model_plus_bias(x=x_torch, params=trained_params, bias=trained_bias)\n",
    "        \n",
    "        pred = get_pred(pred_torch=pred_torch)\n",
    "        p.append(pred)\n",
    "    return p"
   ]
  },
  {
   "cell_type": "markdown",
   "id": "59e72799",
   "metadata": {},
   "source": [
    "### Training workflow\n",
    "\n",
    "We use the `quantum_model_train` function with Covalent lattice decorator for creating the workflow for training the variational circuit.\n",
    "\n",
    "The workflow runs each step of optimization inside the lattice and hence it can save the intermediate optimization steps. This has an advantage when the code is run on an actual quantum hardware as usually each step would be both time and resource costly and hence we would want to monitor not only at the main optimization level, but also at iteration level.\n",
    "\n",
    "From the DAGs we can see how the results are saved as each step and if any step fails we can use the saved previous computed results to continue further.\n",
    "\n",
    "We similarly use the `quantum_model_predict` for predicting the classes of different samples. The output is used to compute the accuracy. The output of the workflow is used to plot the loss function."
   ]
  },
  {
   "cell_type": "code",
   "execution_count": 16,
   "id": "ea387aaf",
   "metadata": {},
   "outputs": [
    {
     "name": "stdout",
     "output_type": "stream",
     "text": [
      "accuracy on test set: 0.96\n"
     ]
    },
    {
     "data": {
      "image/png": "[encoded data removed]",
      "text/plain": [
       "<Figure size 432x288 with 1 Axes>"
      ]
     },
     "metadata": {
      "needs_background": "light"
     },
     "output_type": "display_data"
    }
   ],
   "source": [
    "n_layers = 2\n",
    "batch_size = 20\n",
    "steps = 100\n",
    "\n",
    "\n",
    "dispatch_id_train = ct.dispatch(quantum_model_train)(n_layers, steps, batch_size)\n",
    "train_result = ct.get_result(dispatch_id=dispatch_id_train, wait=True)\n",
    "trained_params, trained_bias, loss_history = train_result.result\n",
    "\n",
    "\n",
    "dispatch_id_predict = ct.dispatch(quantum_model_predict)(X_test, trained_params, trained_bias)\n",
    "pred_result = ct.get_result(dispatch_id=dispatch_id_pred, wait=True)\n",
    "pred_test = pred_result.result\n",
    "\n",
    "print(\"accuracy on test set:\", accuracy_score(pred_test, y_test))\n",
    "\n",
    "plt.plot(loss_history)\n",
    "plt.ylim((0, 1))\n",
    "plt.xlabel(\"steps\")\n",
    "plt.ylabel(\"cost\")\n",
    "plt.show()"
   ]
  },
  {
   "cell_type": "markdown",
   "id": "067aaaf2",
   "metadata": {},
   "source": []
  },
  {
   "cell_type": "code",
   "execution_count": 17,
   "id": "c63aa6cd",
   "metadata": {},
   "outputs": [
    {
     "data": {
      "text/plain": [
       "7500"
      ]
     },
     "execution_count": 17,
     "metadata": {},
     "output_type": "execute_result"
    }
   ],
   "source": [
    "def circuit_evals_kernel(n_data, split):\n",
    "    \"\"\"Compute how many circuit evaluations one needs for kernel-based\n",
    "       training and prediction.\"\"\"\n",
    "\n",
    "    M = int(np.ceil(split * n_data))\n",
    "    Mpred = n_data - M\n",
    "\n",
    "    n_training = M * M\n",
    "    n_prediction = M * Mpred\n",
    "\n",
    "    return n_training + n_prediction\n",
    "\n",
    "circuit_evals_kernel(n_data=len(X), split=len(X_train) /(len(X_train) + len(X_test)))"
   ]
  },
  {
   "cell_type": "code",
   "execution_count": 18,
   "id": "ff4a05de",
   "metadata": {},
   "outputs": [
    {
     "data": {
      "text/plain": [
       "96025"
      ]
     },
     "execution_count": 18,
     "metadata": {},
     "output_type": "execute_result"
    }
   ],
   "source": [
    "def circuit_evals_variational(n_data, n_params, n_steps, shift_terms, split, batch_size):\n",
    "    \"\"\"Compute how many circuit evaluations are needed for\n",
    "       variational training and prediction.\"\"\"\n",
    "\n",
    "    M = int(np.ceil(split * n_data))\n",
    "    Mpred = n_data - M\n",
    "\n",
    "    n_training = n_params * n_steps * batch_size * shift_terms\n",
    "    n_prediction = Mpred\n",
    "\n",
    "    return n_training + n_prediction\n",
    "\n",
    "circuit_evals_variational(\n",
    "    n_data=len(X),\n",
    "    n_params=len(trained_params.flatten()),\n",
    "    n_steps=steps,\n",
    "    shift_terms=2,\n",
    "    split=len(X_train) /(len(X_train) + len(X_test)),\n",
    "    batch_size=batch_size,\n",
    ")"
   ]
  },
  {
   "cell_type": "code",
   "execution_count": 19,
   "id": "fca29b1f",
   "metadata": {},
   "outputs": [
    {
     "data": {
      "text/plain": [
       "2025"
      ]
     },
     "execution_count": 19,
     "metadata": {},
     "output_type": "execute_result"
    }
   ],
   "source": [
    "def model_evals_nn(n_data, n_params, n_steps, split, batch_size):\n",
    "    \"\"\"Compute how many model evaluations are needed for neural\n",
    "       network training and prediction.\"\"\"\n",
    "\n",
    "    M = int(np.ceil(split * n_data))\n",
    "    Mpred = n_data - M\n",
    "\n",
    "    n_training = n_steps * batch_size\n",
    "    n_prediction = Mpred\n",
    "\n",
    "    return n_training + n_prediction\n",
    "\n",
    "model_evals_nn(\n",
    "    n_data=len(X),\n",
    "    n_params=len(trained_params.flatten()),\n",
    "    n_steps=steps,\n",
    "    split=len(X_train) /(len(X_train) + len(X_test)),\n",
    "    batch_size=batch_size,\n",
    ")"
   ]
  },
  {
   "cell_type": "code",
   "execution_count": 20,
   "id": "150fa907",
   "metadata": {},
   "outputs": [
    {
     "data": {
      "image/png": "[encoded data removed]",
      "text/plain": [
       "<Figure size 432x288 with 1 Axes>"
      ]
     },
     "metadata": {
      "needs_background": "light"
     },
     "output_type": "display_data"
    }
   ],
   "source": [
    "variational_training1 = []\n",
    "variational_training2 = []\n",
    "kernelbased_training = []\n",
    "nn_training = []\n",
    "x_axis = range(0, 2000, 100)\n",
    "\n",
    "for M in x_axis:\n",
    "\n",
    "    var1 = circuit_evals_variational(\n",
    "        n_data=M, n_params=M, n_steps=M,  shift_terms=2, split=0.75, batch_size=1\n",
    "    )\n",
    "    variational_training1.append(var1)\n",
    "\n",
    "    var2 = circuit_evals_variational(\n",
    "        n_data=M, n_params=round(np.sqrt(M)), n_steps=M,\n",
    "        shift_terms=2, split=0.75, batch_size=1\n",
    "    )\n",
    "    variational_training2.append(var2)\n",
    "\n",
    "    kernel = circuit_evals_kernel(n_data=M, split=0.75)\n",
    "    kernelbased_training.append(kernel)\n",
    "\n",
    "    nn = model_evals_nn(\n",
    "        n_data=M, n_params=M, n_steps=M, split=0.75, batch_size=1\n",
    "    )\n",
    "    nn_training.append(nn)\n",
    "\n",
    "\n",
    "plt.plot(x_axis, nn_training, linestyle='--', label=\"neural net\")\n",
    "plt.plot(x_axis, variational_training1, label=\"var. circuit (linear param scaling)\")\n",
    "plt.plot(x_axis, variational_training2, label=\"var. circuit (srqt param scaling)\")\n",
    "plt.plot(x_axis, kernelbased_training, label=\"(quantum) kernel\")\n",
    "plt.xlabel(\"size of data set\")\n",
    "plt.ylabel(\"number of evaluations\")\n",
    "plt.legend()\n",
    "plt.tight_layout()\n",
    "plt.show()"
   ]
  },
  {
   "cell_type": "code",
   "execution_count": null,
   "id": "fddea63e",
   "metadata": {},
   "outputs": [],
   "source": []
  }
 ],
 "metadata": {
  "kernelspec": {
   "display_name": "Python 3",
   "language": "python",
   "name": "python3"
  },
  "language_info": {
   "codemirror_mode": {
    "name": "ipython",
    "version": 3
   },
   "file_extension": ".py",
   "mimetype": "text/x-python",
   "name": "python",
   "nbconvert_exporter": "python",
   "pygments_lexer": "ipython3",
   "version": "3.8.13"
  }
 },
 "nbformat": 4,
 "nbformat_minor": 5
}
