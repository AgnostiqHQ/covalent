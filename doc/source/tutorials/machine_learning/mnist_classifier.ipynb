{
 "cells": [
  {
   "cell_type": "markdown",
   "metadata": {},
   "source": [
    "# MNIST classifier tutorial\n",
    "\n",
    "* MNIST database of handwritten digits is a popular dataset to demonstrate machine learning classifier training.\n",
    "* In this tutorial, we train a basic Neural Network (NN) classifier using PyTorch.\n",
    "* Once the basic NN classifier training workflow has been defined, it is easily converted to a Covalent workflow.\n",
    "* This tutorial has two primary objectives.\n",
    "* One goal is to show the ease with which a \"normal\" workflow can be adapted to a Covalent workflow.\n",
    "* The second objective is to display the browser-based Covalent workflow tracking UI."
   ]
  },
  {
   "cell_type": "markdown",
   "metadata": {},
   "source": [
    "### Getting started\n",
    "This tutorial requires installing Covalent, PyTorch and Torchvision."
   ]
  },
  {
   "cell_type": "code",
   "execution_count": 1,
   "metadata": {},
   "outputs": [],
   "source": [
    "# !pip install cova\n",
    "# !conda install pytorch torchvision -c pytorch -y\n"
   ]
  },
  {
   "cell_type": "markdown",
   "metadata": {},
   "source": [
    "Once Covalent has been installed, run `covalent start` to start the dispatcher and browser-based UI servers."
   ]
  },
  {
   "cell_type": "code",
   "execution_count": 2,
   "metadata": {},
   "outputs": [],
   "source": [
    "# !covalent start   # Start the server\n",
    "# !covalent status  # Check server status\n",
    "# !covalent stop    # Stop the server\n"
   ]
  },
  {
   "cell_type": "markdown",
   "metadata": {},
   "source": [
    "Import Covalent, PyTorch and other relevant libraries."
   ]
  },
  {
   "cell_type": "code",
   "execution_count": 3,
   "metadata": {},
   "outputs": [],
   "source": [
    "import covalent as ct\n",
    "\n",
    "import torch\n",
    "import torch.nn.functional as F\n",
    "\n",
    "from pathlib import Path\n",
    "\n",
    "from torch import nn\n",
    "from torch.utils.data import DataLoader\n",
    "from torchvision import datasets\n",
    "from torchvision.transforms import ToTensor\n",
    "from typing import Tuple\n"
   ]
  },
  {
   "cell_type": "markdown",
   "metadata": {},
   "source": [
    "### Construct MNIST classifier training workflow\n",
    "\n",
    "Construct a convolutional neural network model by inheriting from `torch.nn.Module`."
   ]
  },
  {
   "cell_type": "code",
   "execution_count": 4,
   "metadata": {},
   "outputs": [],
   "source": [
    "class NeuralNetwork(nn.Module):\n",
    "    def __init__(self):\n",
    "        super(NeuralNetwork, self).__init__()\n",
    "        self.conv1 = nn.Conv2d(1, 10, kernel_size=5)\n",
    "        self.conv2 = nn.Conv2d(10, 20, kernel_size=5)\n",
    "        self.conv2_drop = nn.Dropout2d()\n",
    "        self.fc1 = nn.Linear(320, 50)\n",
    "        self.fc2 = nn.Linear(50, 10)\n",
    "\n",
    "    def forward(self, x):\n",
    "        x = F.relu(F.max_pool2d(self.conv1(x), 2))\n",
    "        x = F.relu(F.max_pool2d(self.conv2_drop(self.conv2(x)), 2))\n",
    "        x = x.view(-1, 320)\n",
    "        x = F.relu(self.fc1(x))\n",
    "        x = F.dropout(x, training=self.training)\n",
    "        x = self.fc2(x)\n",
    "        return F.log_softmax(x)\n"
   ]
  },
  {
   "cell_type": "markdown",
   "metadata": {},
   "source": [
    "Construct a data loader to retrieve the classifier training and test data."
   ]
  },
  {
   "cell_type": "code",
   "execution_count": 5,
   "metadata": {},
   "outputs": [],
   "source": [
    "@ct.electron\n",
    "def data_loader(\n",
    "    batch_size: int,\n",
    "    train: bool,\n",
    "    download: bool = True,\n",
    "    shuffle: bool = True,\n",
    "    data_dir: str = \"~/data/mnist/\",\n",
    ") -> torch.utils.data.dataloader.DataLoader:\n",
    "    \"\"\"MNIST data loader.\"\"\"\n",
    "\n",
    "    data_dir = Path(data_dir).expanduser()\n",
    "    data_dir.mkdir(parents=True, exist_ok=True)\n",
    "\n",
    "    data = datasets.MNIST(data_dir, train=train, download=download, transform=ToTensor())\n",
    "\n",
    "    return DataLoader(data, batch_size=batch_size, shuffle=shuffle)\n"
   ]
  },
  {
   "cell_type": "markdown",
   "metadata": {},
   "source": [
    "Construct a function to retrieve a Stochastic Gradient Descent optimizer."
   ]
  },
  {
   "cell_type": "code",
   "execution_count": 6,
   "metadata": {},
   "outputs": [],
   "source": [
    "@ct.electron\n",
    "def get_optimizer(\n",
    "    model: NeuralNetwork, learning_rate: float, momentum: float\n",
    ") -> torch.optim.Optimizer:\n",
    "    \"\"\"Get Stochastic Gradient Descent optimizer.\"\"\"\n",
    "\n",
    "    return torch.optim.SGD(model.parameters(), learning_rate, momentum)\n"
   ]
  },
  {
   "cell_type": "markdown",
   "metadata": {},
   "source": [
    "Write a function to train the model over one epoch."
   ]
  },
  {
   "cell_type": "code",
   "execution_count": 7,
   "metadata": {},
   "outputs": [],
   "source": [
    "@ct.electron\n",
    "def train_over_one_epoch(\n",
    "    dataloader: torch.utils.data.dataloader.DataLoader,\n",
    "    model: NeuralNetwork,\n",
    "    optimizer: torch.optim.Optimizer,\n",
    "    log_interval: int,\n",
    "    epoch: int,\n",
    "    loss_fn,\n",
    "    train_losses: list,\n",
    "    train_counter: int,\n",
    "    device: str = \"cpu\",\n",
    "):\n",
    "    \"\"\"Train neural network model over one epoch.\"\"\"\n",
    "\n",
    "    size = len(dataloader.dataset)\n",
    "    model.train()\n",
    "    for batch, (X, y) in enumerate(dataloader):\n",
    "        X, y = X.to(device), y.to(device)\n",
    "\n",
    "        # Compute prediction error\n",
    "        pred = model(X)\n",
    "        loss = loss_fn(pred, y)\n",
    "\n",
    "        # Backpropagation\n",
    "        optimizer.zero_grad()\n",
    "        loss.backward()\n",
    "        optimizer.step()\n",
    "\n",
    "        if batch % log_interval == 0:\n",
    "            loss, current = loss.item(), batch * len(X)\n",
    "            print(f\"loss: {loss:>7f}  [{current:>5d}/{size:>5d}]\")\n",
    "\n",
    "            train_losses.append(loss)\n",
    "            train_counter.append((batch * 64) + ((epoch - 1) * len(dataloader.dataset)))\n",
    "\n",
    "    return model, optimizer\n"
   ]
  },
  {
   "cell_type": "markdown",
   "metadata": {},
   "source": [
    "Write a function to test the performance of the classifier for a given loss function."
   ]
  },
  {
   "cell_type": "code",
   "execution_count": 8,
   "metadata": {},
   "outputs": [],
   "source": [
    "@ct.electron\n",
    "def test(\n",
    "    dataloader: torch.utils.data.dataloader.DataLoader,\n",
    "    model: NeuralNetwork,\n",
    "    loss_fn: callable,\n",
    "    device: str = \"cpu\",\n",
    ") -> None:\n",
    "    \"\"\"Test the model performance.\"\"\"\n",
    "\n",
    "    size = len(dataloader.dataset)\n",
    "    num_batches = len(dataloader)\n",
    "    model.eval()\n",
    "    test_loss, correct = 0, 0\n",
    "    with torch.no_grad():\n",
    "        for X, y in dataloader:\n",
    "            X, y = X.to(device), y.to(device)\n",
    "            pred = model(X)\n",
    "            test_loss += loss_fn(pred, y).item()\n",
    "            correct += (pred.argmax(1) == y).type(torch.float).sum().item()\n",
    "    test_loss /= num_batches\n",
    "    correct /= size\n",
    "    print(f\"Test Error: \\n Accuracy: {(100*correct):>0.1f}%, Avg loss: {test_loss:>8f} \\n\")\n"
   ]
  },
  {
   "cell_type": "markdown",
   "metadata": {},
   "source": [
    "Write a function to train the model over several epochs and save the final state of the _optimizer_ and the _neural network_."
   ]
  },
  {
   "cell_type": "code",
   "execution_count": 9,
   "metadata": {},
   "outputs": [],
   "source": [
    "@ct.electron\n",
    "def train_model(\n",
    "    train_dataloader: torch.utils.data.dataloader.DataLoader,\n",
    "    train_losses: list,\n",
    "    train_counter: int,\n",
    "    log_interval: int,\n",
    "    model: NeuralNetwork,\n",
    "    optimizer: torch.optim.Optimizer,\n",
    "    loss_fn: callable,\n",
    "    epochs: int,\n",
    "    results_dir: str = \"~/data/mnist/results/\",\n",
    ") -> Tuple[NeuralNetwork,]:\n",
    "    \"\"\"Train neural network model.\"\"\"\n",
    "\n",
    "    results_dir = Path(results_dir).expanduser()\n",
    "    results_dir.mkdir(parents=True, exist_ok=True)\n",
    "\n",
    "    for epoch in range(1, epochs + 1):\n",
    "        print(f\"Epoch {epoch}\\n-------------------------------\")\n",
    "        model, optimizer = train_over_one_epoch(\n",
    "            dataloader=train_dataloader,\n",
    "            model=model,\n",
    "            optimizer=optimizer,\n",
    "            train_losses=train_losses,\n",
    "            train_counter=train_counter,\n",
    "            log_interval=log_interval,\n",
    "            epoch=epoch,\n",
    "            loss_fn=loss_fn,\n",
    "        )\n",
    "\n",
    "    # Save model and optimizer\n",
    "    torch.save(model.state_dict(), f\"{results_dir}model.pth\")\n",
    "    torch.save(optimizer.state_dict(), f\"{results_dir}optimizer.pth\")\n",
    "    return model, optimizer\n"
   ]
  },
  {
   "cell_type": "markdown",
   "metadata": {},
   "source": [
    "Finally, we put all these tasks together to construct the MNIST classifier training and test workflow."
   ]
  },
  {
   "cell_type": "code",
   "execution_count": 10,
   "metadata": {},
   "outputs": [],
   "source": [
    "@ct.lattice\n",
    "def workflow(\n",
    "    model: NeuralNetwork,\n",
    "    epochs: int = 2,\n",
    "    batch_size_train: int = 64,\n",
    "    batch_size_test: int = 1000,\n",
    "    learning_rate: float = 0.01,\n",
    "    momentum: float = 0.5,\n",
    "    log_interval: int = 10,\n",
    "    loss_fn: callable = F.nll_loss,\n",
    "):\n",
    "    \"\"\"MNIST classifier training workflow\"\"\"\n",
    "\n",
    "    train_dataloader = data_loader(batch_size=batch_size_train, train=True)\n",
    "    test_dataloader = data_loader(batch_size=batch_size_test, train=False)\n",
    "\n",
    "    train_losses, train_counter, test_losses = [], [], []\n",
    "    optimizer = get_optimizer(model=model, learning_rate=learning_rate, momentum=momentum)\n",
    "    model, optimizer = train_model(\n",
    "        train_dataloader=train_dataloader,\n",
    "        train_losses=train_losses,\n",
    "        train_counter=train_counter,\n",
    "        log_interval=log_interval,\n",
    "        model=model,\n",
    "        optimizer=optimizer,\n",
    "        loss_fn=loss_fn,\n",
    "        epochs=epochs,\n",
    "    )\n",
    "    test(dataloader=test_dataloader, model=model, loss_fn=loss_fn)\n"
   ]
  },
  {
   "cell_type": "markdown",
   "metadata": {},
   "source": [
    "### Run MNIST classifier workflow as a normal function\n",
    "\n",
    "Run the MNIST classifier workflow to benchmark the performance and the time taken to train and test the model."
   ]
  },
  {
   "cell_type": "code",
   "execution_count": 11,
   "metadata": {},
   "outputs": [
    {
     "name": "stdout",
     "output_type": "stream",
     "text": [
      "Epoch 1\n",
      "-------------------------------\n",
      "loss: 2.315584  [    0/60000]\n",
      "loss: 2.314181  [  640/60000]\n"
     ]
    },
    {
     "name": "stderr",
     "output_type": "stream",
     "text": [
      "/var/folders/hn/dnjxkq7946j9wpxv1cy9pm2m0000gn/T/ipykernel_5563/3977843674.py:17: UserWarning: Implicit dimension choice for log_softmax has been deprecated. Change the call to include dim=X as an argument.\n",
      "  return F.log_softmax(x)\n"
     ]
    },
    {
     "name": "stdout",
     "output_type": "stream",
     "text": [
      "loss: 2.302365  [ 1280/60000]\n",
      "loss: 2.303672  [ 1920/60000]\n",
      "loss: 2.289557  [ 2560/60000]\n",
      "loss: 2.297149  [ 3200/60000]\n",
      "loss: 2.290518  [ 3840/60000]\n",
      "loss: 2.299199  [ 4480/60000]\n",
      "loss: 2.303403  [ 5120/60000]\n",
      "loss: 2.273828  [ 5760/60000]\n",
      "loss: 2.285991  [ 6400/60000]\n",
      "loss: 2.287449  [ 7040/60000]\n",
      "loss: 2.288018  [ 7680/60000]\n",
      "loss: 2.261090  [ 8320/60000]\n",
      "loss: 2.271344  [ 8960/60000]\n",
      "loss: 2.243038  [ 9600/60000]\n",
      "loss: 2.258561  [10240/60000]\n",
      "loss: 2.247996  [10880/60000]\n",
      "loss: 2.282457  [11520/60000]\n",
      "loss: 2.234618  [12160/60000]\n",
      "loss: 2.202579  [12800/60000]\n",
      "loss: 2.216935  [13440/60000]\n",
      "loss: 2.196215  [14080/60000]\n",
      "loss: 2.186445  [14720/60000]\n",
      "loss: 2.084577  [15360/60000]\n",
      "loss: 2.165077  [16000/60000]\n",
      "loss: 2.145132  [16640/60000]\n",
      "loss: 2.035836  [17280/60000]\n",
      "loss: 2.026952  [17920/60000]\n",
      "loss: 1.974261  [18560/60000]\n",
      "loss: 1.936138  [19200/60000]\n",
      "loss: 1.795505  [19840/60000]\n",
      "loss: 1.909856  [20480/60000]\n",
      "loss: 1.739226  [21120/60000]\n",
      "loss: 1.617358  [21760/60000]\n",
      "loss: 1.644992  [22400/60000]\n",
      "loss: 1.422207  [23040/60000]\n",
      "loss: 1.274127  [23680/60000]\n",
      "loss: 1.523569  [24320/60000]\n",
      "loss: 1.498890  [24960/60000]\n",
      "loss: 1.286471  [25600/60000]\n",
      "loss: 1.338750  [26240/60000]\n",
      "loss: 1.216138  [26880/60000]\n",
      "loss: 1.269589  [27520/60000]\n",
      "loss: 1.312721  [28160/60000]\n",
      "loss: 1.086035  [28800/60000]\n",
      "loss: 1.193580  [29440/60000]\n",
      "loss: 0.975794  [30080/60000]\n",
      "loss: 0.952483  [30720/60000]\n",
      "loss: 1.095870  [31360/60000]\n",
      "loss: 1.082221  [32000/60000]\n",
      "loss: 0.987809  [32640/60000]\n",
      "loss: 1.046473  [33280/60000]\n",
      "loss: 1.033298  [33920/60000]\n",
      "loss: 1.024691  [34560/60000]\n",
      "loss: 0.882182  [35200/60000]\n",
      "loss: 0.873585  [35840/60000]\n",
      "loss: 0.992796  [36480/60000]\n",
      "loss: 0.855365  [37120/60000]\n",
      "loss: 0.741490  [37760/60000]\n",
      "loss: 0.851936  [38400/60000]\n",
      "loss: 0.762271  [39040/60000]\n",
      "loss: 0.751754  [39680/60000]\n",
      "loss: 0.802401  [40320/60000]\n",
      "loss: 0.943202  [40960/60000]\n",
      "loss: 0.902564  [41600/60000]\n",
      "loss: 0.787250  [42240/60000]\n",
      "loss: 0.626734  [42880/60000]\n",
      "loss: 0.660814  [43520/60000]\n",
      "loss: 0.910893  [44160/60000]\n",
      "loss: 0.688537  [44800/60000]\n",
      "loss: 0.634546  [45440/60000]\n",
      "loss: 0.536788  [46080/60000]\n",
      "loss: 0.735831  [46720/60000]\n",
      "loss: 0.971909  [47360/60000]\n",
      "loss: 1.065628  [48000/60000]\n",
      "loss: 0.771482  [48640/60000]\n",
      "loss: 0.820315  [49280/60000]\n",
      "loss: 0.627182  [49920/60000]\n",
      "loss: 0.670711  [50560/60000]\n",
      "loss: 0.492571  [51200/60000]\n",
      "loss: 0.815928  [51840/60000]\n",
      "loss: 0.956891  [52480/60000]\n",
      "loss: 0.444262  [53120/60000]\n",
      "loss: 0.779403  [53760/60000]\n",
      "loss: 0.605455  [54400/60000]\n",
      "loss: 0.786151  [55040/60000]\n",
      "loss: 0.623702  [55680/60000]\n",
      "loss: 1.173322  [56320/60000]\n",
      "loss: 0.520708  [56960/60000]\n",
      "loss: 0.483932  [57600/60000]\n",
      "loss: 0.690891  [58240/60000]\n",
      "loss: 0.699273  [58880/60000]\n",
      "loss: 0.656506  [59520/60000]\n",
      "Epoch 2\n",
      "-------------------------------\n",
      "loss: 0.550187  [    0/60000]\n",
      "loss: 0.460428  [  640/60000]\n",
      "loss: 0.608509  [ 1280/60000]\n",
      "loss: 0.749869  [ 1920/60000]\n",
      "loss: 0.518314  [ 2560/60000]\n",
      "loss: 0.515982  [ 3200/60000]\n",
      "loss: 0.619618  [ 3840/60000]\n",
      "loss: 0.384866  [ 4480/60000]\n",
      "loss: 0.486179  [ 5120/60000]\n",
      "loss: 0.745671  [ 5760/60000]\n",
      "loss: 0.677904  [ 6400/60000]\n",
      "loss: 0.563834  [ 7040/60000]\n",
      "loss: 0.661154  [ 7680/60000]\n",
      "loss: 0.471766  [ 8320/60000]\n",
      "loss: 0.469217  [ 8960/60000]\n",
      "loss: 0.401754  [ 9600/60000]\n",
      "loss: 0.489560  [10240/60000]\n",
      "loss: 0.507747  [10880/60000]\n",
      "loss: 0.312849  [11520/60000]\n",
      "loss: 0.489785  [12160/60000]\n",
      "loss: 0.307912  [12800/60000]\n",
      "loss: 0.479328  [13440/60000]\n",
      "loss: 0.747062  [14080/60000]\n",
      "loss: 0.515185  [14720/60000]\n",
      "loss: 0.546459  [15360/60000]\n",
      "loss: 0.681218  [16000/60000]\n",
      "loss: 0.437234  [16640/60000]\n",
      "loss: 0.477586  [17280/60000]\n",
      "loss: 0.412757  [17920/60000]\n",
      "loss: 0.518364  [18560/60000]\n",
      "loss: 0.423819  [19200/60000]\n",
      "loss: 0.469266  [19840/60000]\n",
      "loss: 0.485301  [20480/60000]\n",
      "loss: 0.456871  [21120/60000]\n",
      "loss: 0.295620  [21760/60000]\n",
      "loss: 0.431411  [22400/60000]\n",
      "loss: 0.741477  [23040/60000]\n",
      "loss: 0.356022  [23680/60000]\n",
      "loss: 0.597095  [24320/60000]\n",
      "loss: 0.918129  [24960/60000]\n",
      "loss: 0.538765  [25600/60000]\n",
      "loss: 0.420652  [26240/60000]\n",
      "loss: 0.366900  [26880/60000]\n",
      "loss: 0.367183  [27520/60000]\n",
      "loss: 0.544291  [28160/60000]\n",
      "loss: 0.351647  [28800/60000]\n",
      "loss: 0.392679  [29440/60000]\n",
      "loss: 0.481349  [30080/60000]\n",
      "loss: 0.439573  [30720/60000]\n",
      "loss: 0.338545  [31360/60000]\n",
      "loss: 0.844661  [32000/60000]\n",
      "loss: 0.374434  [32640/60000]\n",
      "loss: 0.292289  [33280/60000]\n",
      "loss: 0.717339  [33920/60000]\n",
      "loss: 0.431845  [34560/60000]\n",
      "loss: 0.481055  [35200/60000]\n",
      "loss: 0.579145  [35840/60000]\n",
      "loss: 0.332067  [36480/60000]\n",
      "loss: 0.414682  [37120/60000]\n",
      "loss: 0.531833  [37760/60000]\n",
      "loss: 0.322865  [38400/60000]\n",
      "loss: 0.401566  [39040/60000]\n",
      "loss: 0.633687  [39680/60000]\n",
      "loss: 0.354410  [40320/60000]\n",
      "loss: 0.421029  [40960/60000]\n",
      "loss: 0.366802  [41600/60000]\n",
      "loss: 0.454899  [42240/60000]\n",
      "loss: 0.485190  [42880/60000]\n",
      "loss: 0.255968  [43520/60000]\n",
      "loss: 0.675313  [44160/60000]\n",
      "loss: 0.288507  [44800/60000]\n",
      "loss: 0.478319  [45440/60000]\n",
      "loss: 0.534495  [46080/60000]\n",
      "loss: 0.460221  [46720/60000]\n",
      "loss: 0.337374  [47360/60000]\n",
      "loss: 0.361845  [48000/60000]\n",
      "loss: 0.315272  [48640/60000]\n",
      "loss: 0.494193  [49280/60000]\n",
      "loss: 0.436858  [49920/60000]\n",
      "loss: 0.464367  [50560/60000]\n",
      "loss: 0.480621  [51200/60000]\n",
      "loss: 0.417511  [51840/60000]\n",
      "loss: 0.500265  [52480/60000]\n",
      "loss: 0.365999  [53120/60000]\n",
      "loss: 0.278461  [53760/60000]\n",
      "loss: 0.442961  [54400/60000]\n",
      "loss: 0.254620  [55040/60000]\n",
      "loss: 0.382189  [55680/60000]\n",
      "loss: 0.630674  [56320/60000]\n",
      "loss: 0.290265  [56960/60000]\n",
      "loss: 0.415959  [57600/60000]\n",
      "loss: 0.302209  [58240/60000]\n",
      "loss: 0.352915  [58880/60000]\n",
      "loss: 0.469498  [59520/60000]\n",
      "Test Error: \n",
      " Accuracy: 94.6%, Avg loss: 0.181985 \n",
      "\n",
      "Regular workflow takes 31.287984132766724 seconds.\n"
     ]
    }
   ],
   "source": [
    "import time\n",
    "\n",
    "start = time.time()\n",
    "workflow(\n",
    "    model=NeuralNetwork().to(\"cpu\"),\n",
    ")\n",
    "end = time.time()\n",
    "print(f\"Regular workflow takes {end - start} seconds.\")\n"
   ]
  },
  {
   "cell_type": "markdown",
   "metadata": {},
   "source": [
    "<div align=\"center\">\n",
    "<img src=\"././mnist_images/regular_workflow_loss.png\"  width=\"95%\" height=\"95%\"/>\n",
    "</div>"
   ]
  },
  {
   "cell_type": "markdown",
   "metadata": {},
   "source": [
    "### Run workflow with Covalent\n",
    "\n",
    "The Covalent dispatcher (`ct.dispatch`) can be used to dispatch the workflow."
   ]
  },
  {
   "cell_type": "code",
   "execution_count": 22,
   "metadata": {},
   "outputs": [
    {
     "name": "stdout",
     "output_type": "stream",
     "text": [
      "b24bb7b7-69cd-419d-b384-f9245fe8b87d\n",
      "None\n",
      "Covalent workflow takes 0.2120370864868164 seconds.\n"
     ]
    }
   ],
   "source": [
    "start = time.time()\n",
    "dispatch_id = ct.dispatch(workflow)(\n",
    "    NeuralNetwork().to(\"cpu\"),\n",
    ")\n",
    "print(dispatch_id)\n",
    "result = ct.get_result(dispatch_id=dispatch_id, wait=True)\n",
    "print(result.result)\n",
    "end = time.time()\n",
    "print(f\"Covalent workflow takes {end - start} seconds.\")\n"
   ]
  },
  {
   "cell_type": "code",
   "execution_count": 20,
   "metadata": {},
   "outputs": [
    {
     "name": "stdout",
     "output_type": "stream",
     "text": [
      "\n",
      "Lattice Result\n",
      "==============\n",
      "status: FAILED\n",
      "result: None\n",
      "inputs: {'args': [NeuralNetwork(\n",
      "  (conv1): Conv2d(1, 10, kernel_size=(5, 5), stride=(1, 1))\n",
      "  (conv2): Conv2d(10, 20, kernel_size=(5, 5), stride=(1, 1))\n",
      "  (conv2_drop): Dropout2d(p=0.5, inplace=False)\n",
      "  (fc1): Linear(in_features=320, out_features=50, bias=True)\n",
      "  (fc2): Linear(in_features=50, out_features=10, bias=True)\n",
      "), 2, 64, 1000, 0.01, 0.5, 10, <function nll_loss at 0x7fa9810668b0>], 'kwargs': {}}\n",
      "error: Node data_loader(0) failed: \n",
      "Traceback (most recent call last):\n",
      "  File \"/Users/faiyaz/Code/covalent/covalent_dispatcher/_core/execution.py\", line 241, in _run_task\n",
      "    output, stdout, stderr = executor.execute(\n",
      "  File \"/Users/faiyaz/Code/covalent/covalent/executor/executor_plugins/local.py\", line 95, in execute\n",
      "    result = fn(*args, **kwargs)\n",
      "TypeError: data_loader() got multiple values for argument 'batch_size'\n",
      "\n",
      "\n",
      "start_time: 2022-02-25 16:18:36.255533+00:00\n",
      "end_time: 2022-02-25 16:18:36.360714+00:00\n",
      "\n",
      "results_dir: /Users/faiyaz/Code/covalent/doc/source/tutorials/machine_learning/results\n",
      "dispatch_id: 7afede03-71c2-408b-acaf-5305d90cdad2\n",
      "\n",
      "Node Outputs\n",
      "------------\n",
      "data_loader(0): None\n",
      ":parameter:True(1): True\n",
      ":parameter:True(2): True\n",
      ":parameter:~/data/mnist/(3): ~/data/mnist/\n",
      ":parameter:64(4): 64\n",
      ":parameter:True(5): True\n",
      "data_loader(6): None\n",
      ":parameter:True(7): True\n",
      ":parameter:True(8): True\n",
      ":parameter:~/data/mnist/(9): ~/data/mnist/\n",
      ":parameter:1000(10): 1000\n",
      ":parameter:False(11): False\n",
      "get_optimizer(12): SGD (\n",
      "Parameter Group 0\n",
      "    dampening: 0\n",
      "    lr: 0.01\n",
      "    momentum: 0.5\n",
      "    nesterov: False\n",
      "    weight_decay: 0\n",
      ")\n",
      ":parameter:NeuralNetwork(\n",
      "  (conv1): Conv2d(1, 10, kernel_size=(5, 5), stride=(1, 1))\n",
      "  (conv2): Conv2d(10, 20, kernel_size=(5, 5), stride=(1, 1))\n",
      "  (conv2_drop): Dropout2d(p=0.5, inplace=False)\n",
      "  (fc1): Linear(in_features=320, out_features=50, bias=True)\n",
      "  (fc2): Linear(in_features=50, out_features=10, bias=True)\n",
      ")(13): NeuralNetwork(\n",
      "  (conv1): Conv2d(1, 10, kernel_size=(5, 5), stride=(1, 1))\n",
      "  (conv2): Conv2d(10, 20, kernel_size=(5, 5), stride=(1, 1))\n",
      "  (conv2_drop): Dropout2d(p=0.5, inplace=False)\n",
      "  (fc1): Linear(in_features=320, out_features=50, bias=True)\n",
      "  (fc2): Linear(in_features=50, out_features=10, bias=True)\n",
      ")\n",
      ":parameter:0.01(14): 0.01\n",
      ":parameter:0.5(15): 0.5\n",
      ": None\n",
      ":parameter:~/data/mnist/results/(17): ~/data/mnist/results/\n",
      ":electron_list:(18): []\n",
      ":electron_list:(19): []\n",
      ":parameter:10(20): 10\n",
      ":parameter:NeuralNetwork(\n",
      "  (conv1): Conv2d(1, 10, kernel_size=(5, 5), stride=(1, 1))\n",
      "  (conv2): Conv2d(10, 20, kernel_size=(5, 5), stride=(1, 1))\n",
      "  (conv2_drop): Dropout2d(p=0.5, inplace=False)\n",
      "  (fc1): Linear(in_features=320, out_features=50, bias=True)\n",
      "  (fc2): Linear(in_features=50, out_features=10, bias=True)\n",
      ")(21): NeuralNetwork(\n",
      "  (conv1): Conv2d(1, 10, kernel_size=(5, 5), stride=(1, 1))\n",
      "  (conv2): Conv2d(10, 20, kernel_size=(5, 5), stride=(1, 1))\n",
      "  (conv2_drop): Dropout2d(p=0.5, inplace=False)\n",
      "  (fc1): Linear(in_features=320, out_features=50, bias=True)\n",
      "  (fc2): Linear(in_features=50, out_features=10, bias=True)\n",
      ")\n",
      ":parameter:<function nll_loss at 0x7fa9810668b0>(22): <function nll_loss at 0x7fa9810668b0>\n",
      ":parameter:2(23): 2\n",
      ":parameter:cpu(27): cpu\n",
      ":parameter:<function nll_loss at 0x7fa9810668b0>(28): <function nll_loss at 0x7fa9810668b0>\n",
      "\n"
     ]
    }
   ],
   "source": [
    "print(result)"
   ]
  },
  {
   "cell_type": "markdown",
   "metadata": {},
   "source": [
    "Once the workflow has been dispatched, the results can be tracked on the covalent UI browser. Use `covalent status` (shown below) to find the UI browser address. "
   ]
  },
  {
   "cell_type": "code",
   "execution_count": null,
   "metadata": {},
   "outputs": [],
   "source": [
    "# !covalent status\n"
   ]
  },
  {
   "cell_type": "markdown",
   "metadata": {},
   "source": [
    "Clicking on `http://0.0.0.0:47007` we can see the UI browser which lists the various dispatch ids.\n",
    "\n",
    "<div align=\"center\">\n",
    "<img src=\"././mnist_images/ui_dispatch_ids.png\"  width=\"95%\" height=\"95%\"/>\n",
    "</div>"
   ]
  },
  {
   "cell_type": "markdown",
   "metadata": {},
   "source": [
    "Clicking on the dispatch id, we can see the details of the workflow execution. Note the task execution dependency graph. \n",
    "\n",
    "<div align=\"center\">\n",
    "<img src=\"././mnist_images/ui_workflow.png\"  width=\"95%\" height=\"95%\"/>\n",
    "</div>"
   ]
  },
  {
   "cell_type": "markdown",
   "metadata": {},
   "source": [
    "## Covalent concepts\n",
    "\n",
    "* Covalent allows the user to deploy multiple workflows without having to wait for them to finish running. [Supports asynchronous workflow deployment without any additional code???]\n",
    "\n",
    "* A Covalent workflow can be _dispatched_ to take advantage of automatic parallelization, user friendly interface etc. but it can also just as easily be run as a normal Python function. Hence, adding the electron / lattice decorators only enhances what we can be done with the workflow with a minimum overhead.\n",
    "\n",
    "* Execution time for Covalent workflows and subtasks are readily available without needing any additional code.\n",
    "\n",
    "References:\n",
    "- https://pytorch.org/tutorials/beginner/basics/quickstart_tutorial.html"
   ]
  },
  {
   "cell_type": "markdown",
   "metadata": {},
   "source": []
  }
 ],
 "metadata": {
  "interpreter": {
   "hash": "497139f919dadc5e613ed634ff9107622fdaea40400342bdf68cd50a71d28343"
  },
  "kernelspec": {
   "display_name": "Python 3.8.12 ('covalent-pytorch-dev')",
   "language": "python",
   "name": "python3"
  },
  "language_info": {
   "codemirror_mode": {
    "name": "ipython",
    "version": 3
   },
   "file_extension": ".py",
   "mimetype": "text/x-python",
   "name": "python",
   "nbconvert_exporter": "python",
   "pygments_lexer": "ipython3",
   "version": "3.8.12"
  },
  "orig_nbformat": 4
 },
 "nbformat": 4,
 "nbformat_minor": 2
}
