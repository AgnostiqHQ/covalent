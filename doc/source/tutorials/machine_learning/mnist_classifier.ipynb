{
 "cells": [
  {
   "cell_type": "markdown",
   "metadata": {},
   "source": [
    "# MNIST classifier tutorial\n",
    "\n",
    "* MNIST database of handwritten digits is a popular dataset to demonstrate machine learning classifier training.\n",
    "* In this tutorial, we train a basic Neural Network (NN) classifier using PyTorch.\n",
    "* Once the basic NN classifier training workflow has been defined, it is easily converted to a Covalent workflow.\n",
    "* This tutorial has two primary objectives.\n",
    "* One goal is to show the ease with which a \"normal\" workflow can be adapted to a Covalent workflow.\n",
    "* The second objective is to display the browser-based Covalent workflow tracking UI."
   ]
  },
  {
   "cell_type": "markdown",
   "metadata": {},
   "source": [
    "## Installations"
   ]
  },
  {
   "cell_type": "code",
   "execution_count": null,
   "metadata": {},
   "outputs": [],
   "source": [
    "# !pip install cova\n",
    "# !conda install pytorch torchvision -c pytorch -y"
   ]
  },
  {
   "cell_type": "markdown",
   "metadata": {},
   "source": [
    "# Starting Covalent server"
   ]
  },
  {
   "cell_type": "code",
   "execution_count": 26,
   "metadata": {},
   "outputs": [],
   "source": [
    "# !covalent start   # Start the server\n",
    "# !covalent status  # Check server status\n",
    "# !covalent stop    # Stop the server  "
   ]
  },
  {
   "cell_type": "code",
   "execution_count": null,
   "metadata": {},
   "outputs": [],
   "source": [
    "import covalent as ct\n",
    "\n",
    "import torch\n",
    "import torch.nn.functional as F\n",
    "\n",
    "from pathlib import Path\n",
    "\n",
    "from torch import nn\n",
    "from torch.utils.data import DataLoader\n",
    "from torchvision import datasets\n",
    "from torchvision.transforms import ToTensor\n",
    "from typing import Tuple"
   ]
  },
  {
   "cell_type": "code",
   "execution_count": null,
   "metadata": {},
   "outputs": [],
   "source": [
    "@ct.electron\n",
    "def data_loader(batch_size: int,\n",
    "                train: bool,\n",
    "                download: bool = True,\n",
    "                shuffle: bool = True,\n",
    "                data_dir: str = '~/data/mnist/',\n",
    "                ) -> torch.utils.data.dataloader.DataLoader:\n",
    "    \"\"\"MNIST data loader.\"\"\"\n",
    "\n",
    "    data_dir = Path(data_dir).expanduser()\n",
    "    data_dir.mkdir(parents=True, exist_ok=True)\n",
    "\n",
    "    data = datasets.MNIST(\n",
    "        data_dir,\n",
    "        train=train,\n",
    "        download=download,\n",
    "        transform=ToTensor()\n",
    "        )\n",
    "\n",
    "    return DataLoader(data, batch_size=batch_size, shuffle=shuffle)"
   ]
  },
  {
   "cell_type": "code",
   "execution_count": null,
   "metadata": {},
   "outputs": [],
   "source": [
    "class NeuralNetwork(nn.Module):\n",
    "    def __init__(self):\n",
    "        super(NeuralNetwork, self).__init__()\n",
    "        self.conv1 = nn.Conv2d(1, 10, kernel_size=5)\n",
    "        self.conv2 = nn.Conv2d(10, 20, kernel_size=5)\n",
    "        self.conv2_drop = nn.Dropout2d()\n",
    "        self.fc1 = nn.Linear(320, 50)\n",
    "        self.fc2 = nn.Linear(50, 10)\n",
    "\n",
    "    def forward(self, x):\n",
    "        x = F.relu(F.max_pool2d(self.conv1(x), 2))\n",
    "        x = F.relu(F.max_pool2d(self.conv2_drop(self.conv2(x)), 2))\n",
    "        x = x.view(-1, 320)\n",
    "        x = F.relu(self.fc1(x))\n",
    "        x = F.dropout(x, training=self.training)\n",
    "        x = self.fc2(x)\n",
    "        return F.log_softmax(x)"
   ]
  },
  {
   "cell_type": "code",
   "execution_count": null,
   "metadata": {},
   "outputs": [],
   "source": [
    "@ct.electron\n",
    "def get_optimizer(model: NeuralNetwork, learning_rate: float, momentum: float) -> \\\n",
    "        torch.optim.Optimizer:\n",
    "    \"\"\"Get Stochastic Gradient Descent optimizer.\"\"\"\n",
    "\n",
    "    return torch.optim.SGD(model.parameters(), learning_rate, momentum)"
   ]
  },
  {
   "cell_type": "code",
   "execution_count": null,
   "metadata": {},
   "outputs": [],
   "source": [
    "@ct.electron\n",
    "def train_over_one_epoch(dataloader: torch.utils.data.dataloader.DataLoader,\n",
    "                         model: NeuralNetwork,\n",
    "                         optimizer: torch.optim.Optimizer,\n",
    "                         log_interval: int,\n",
    "                         epoch: int,\n",
    "                         loss_fn,\n",
    "                         train_losses: list,\n",
    "                         train_counter: int,\n",
    "                         device: str = \"cpu\"):\n",
    "    \"\"\"Train neural network model over one epoch.\"\"\"\n",
    "\n",
    "    size = len(dataloader.dataset)\n",
    "    model.train()\n",
    "    for batch, (X, y) in enumerate(dataloader):\n",
    "        X, y = X.to(device), y.to(device)\n",
    "\n",
    "        # Compute prediction error\n",
    "        pred = model(X)\n",
    "        loss = loss_fn(pred, y)\n",
    "\n",
    "        # Backpropagation\n",
    "        optimizer.zero_grad()\n",
    "        loss.backward()\n",
    "        optimizer.step()\n",
    "\n",
    "        if batch % log_interval == 0:\n",
    "            loss, current = loss.item(), batch * len(X)\n",
    "            print(f\"loss: {loss:>7f}  [{current:>5d}/{size:>5d}]\")\n",
    "\n",
    "            train_losses.append(loss)\n",
    "            train_counter.append(\n",
    "                (batch * 64) + ((epoch - 1) * len(dataloader.dataset)))\n",
    "\n",
    "    return model, optimizer"
   ]
  },
  {
   "cell_type": "code",
   "execution_count": null,
   "metadata": {},
   "outputs": [],
   "source": [
    "@ct.electron\n",
    "def test(dataloader: torch.utils.data.dataloader.DataLoader,\n",
    "         model: NeuralNetwork,\n",
    "         loss_fn: callable,\n",
    "         device: str = \"cpu\") -> None:\n",
    "    \"\"\"Test the model performance.\"\"\"\n",
    "\n",
    "    size = len(dataloader.dataset)\n",
    "    num_batches = len(dataloader)\n",
    "    model.eval()\n",
    "    test_loss, correct = 0, 0\n",
    "    with torch.no_grad():\n",
    "        for X, y in dataloader:\n",
    "            X, y = X.to(device), y.to(device)\n",
    "            pred = model(X)\n",
    "            test_loss += loss_fn(pred, y).item()\n",
    "            correct += (pred.argmax(1) == y).type(torch.float).sum().item()\n",
    "    test_loss /= num_batches\n",
    "    correct /= size\n",
    "    print(f\"Test Error: \\n Accuracy: {(100*correct):>0.1f}%, Avg loss: {test_loss:>8f} \\n\")"
   ]
  },
  {
   "cell_type": "code",
   "execution_count": null,
   "metadata": {},
   "outputs": [],
   "source": [
    "@ct.electron\n",
    "def train_model(train_dataloader: torch.utils.data.dataloader.DataLoader,\n",
    "                train_losses: list,\n",
    "                train_counter: int,\n",
    "                log_interval: int,\n",
    "                model: NeuralNetwork,\n",
    "                optimizer: torch.optim.Optimizer,\n",
    "                loss_fn: callable,\n",
    "                epochs: int,\n",
    "                results_dir: str = '~/data/mnist/results/') -> Tuple[NeuralNetwork, ]:\n",
    "    \"\"\"Train neural network model.\"\"\"\n",
    "\n",
    "    results_dir = Path(results_dir).expanduser()\n",
    "    results_dir.mkdir(parents=True, exist_ok=True)\n",
    "\n",
    "    for epoch in range(1, epochs + 1):\n",
    "        print(f\"Epoch {epoch}\\n-------------------------------\")\n",
    "        model, optimizer = train_over_one_epoch(dataloader=train_dataloader,\n",
    "                                                model=model,\n",
    "                                                optimizer=optimizer,\n",
    "                                                train_losses=train_losses,\n",
    "                                                train_counter=train_counter,\n",
    "                                                log_interval=log_interval,\n",
    "                                                epoch=epoch,\n",
    "                                                loss_fn=loss_fn)\n",
    "\n",
    "    # Save model and optimizer\n",
    "    torch.save(model.state_dict(), f'{results_dir}model.pth')\n",
    "    torch.save(optimizer.state_dict(), f'{results_dir}optimizer.pth')\n",
    "    return model, optimizer"
   ]
  },
  {
   "cell_type": "code",
   "execution_count": null,
   "metadata": {},
   "outputs": [],
   "source": [
    "@ct.lattice\n",
    "def workflow(model: NeuralNetwork,\n",
    "             epochs: int = 2,\n",
    "             batch_size_train: int = 64,\n",
    "             batch_size_test: int = 1000,\n",
    "             learning_rate: float = 0.01,\n",
    "             momentum: float = 0.5,\n",
    "             log_interval: int = 10,\n",
    "             loss_fn: callable = F.nll_loss):\n",
    "    \"\"\"MNIST classifier training workflow\"\"\"\n",
    "\n",
    "    train_dataloader = data_loader(batch_size=batch_size_train, train=True)\n",
    "    test_dataloader = data_loader(batch_size=batch_size_test, train=False)\n",
    "\n",
    "    train_losses, train_counter, test_losses = [], [], []\n",
    "    optimizer = get_optimizer(model=model, learning_rate=learning_rate, momentum=momentum)\n",
    "    model, optimizer = train_model(\n",
    "        train_dataloader=train_dataloader,\n",
    "        train_losses=train_losses,\n",
    "        train_counter=train_counter,\n",
    "        log_interval=log_interval,\n",
    "        model=model,\n",
    "        optimizer=optimizer,\n",
    "        loss_fn=loss_fn,\n",
    "        epochs=epochs)\n",
    "    test(dataloader=test_dataloader, model=model, loss_fn=loss_fn)"
   ]
  },
  {
   "cell_type": "code",
   "execution_count": null,
   "metadata": {},
   "outputs": [],
   "source": [
    "import time\n",
    "\n",
    "start = time.time()\n",
    "workflow(model=NeuralNetwork().to(\"cpu\"),)\n",
    "end = time.time()\n",
    "print(f\"Regular workflow takes {end - start} seconds.\")"
   ]
  },
  {
   "cell_type": "code",
   "execution_count": null,
   "metadata": {},
   "outputs": [],
   "source": [
    "start = time.time()\n",
    "dispatch_id = ct.dispatch(workflow)(model=NeuralNetwork().to(\"cpu\"),)\n",
    "print(dispatch_id)\n",
    "result = ct.get_result(dispatch_id=dispatch_id, wait=True)\n",
    "print(result.result)\n",
    "end = time.time()\n",
    "print(f\"Covalent workflow takes {end - start} seconds.\")"
   ]
  },
  {
   "cell_type": "markdown",
   "metadata": {},
   "source": [
    "## Covalent concepts\n",
    "\n",
    "* A Covalent workflow can be _dispatched_ to take advantage of the software but it can also just as easily be run as a normal Python function. Hence, adding the electron / lattice decorators only enhances what we can do.\n",
    "* \n",
    "\n",
    "References:\n",
    "- https://pytorch.org/tutorials/beginner/basics/quickstart_tutorial.html"
   ]
  }
 ],
 "metadata": {
  "interpreter": {
   "hash": "497139f919dadc5e613ed634ff9107622fdaea40400342bdf68cd50a71d28343"
  },
  "kernelspec": {
   "display_name": "Python 3.8.12 ('covalent-pytorch-dev')",
   "language": "python",
   "name": "python3"
  },
  "language_info": {
   "codemirror_mode": {
    "name": "ipython",
    "version": 3
   },
   "file_extension": ".py",
   "mimetype": "text/x-python",
   "name": "python",
   "nbconvert_exporter": "python",
   "pygments_lexer": "ipython3",
   "version": "3.8.12"
  },
  "orig_nbformat": 4
 },
 "nbformat": 4,
 "nbformat_minor": 2
}
