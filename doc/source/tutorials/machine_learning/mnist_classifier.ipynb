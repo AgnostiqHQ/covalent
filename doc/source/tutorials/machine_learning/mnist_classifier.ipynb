{
 "cells": [
  {
   "cell_type": "markdown",
   "metadata": {},
   "source": [
    "# MNIST classifier tutorial\n",
    "\n",
    "* MNIST database of handwritten digits is a popular dataset to demonstrate machine learning classifier training.\n",
    "* In this tutorial, we train a basic Neural Network (NN) classifier using PyTorch.\n",
    "* Once the basic NN classifier training workflow has been defined, it is easily converted to a Covalent workflow.\n",
    "* This tutorial has two primary objectives.\n",
    "* One goal is to show the ease with which a \"normal\" workflow can be adapted to a Covalent workflow.\n",
    "* The second objective is to display the browser-based Covalent workflow tracking UI."
   ]
  },
  {
   "cell_type": "markdown",
   "metadata": {},
   "source": [
    "### Getting started\n",
    "This tutorial requires installing Covalent, PyTorch and Torchvision."
   ]
  },
  {
   "cell_type": "code",
   "execution_count": 1,
   "metadata": {},
   "outputs": [],
   "source": [
    "# !pip install cova\n",
    "# !conda install pytorch torchvision -c pytorch -y\n"
   ]
  },
  {
   "cell_type": "markdown",
   "metadata": {},
   "source": [
    "Once Covalent has been installed, run `covalent start` to start the dispatcher and browser-based UI servers."
   ]
  },
  {
   "cell_type": "code",
   "execution_count": 2,
   "metadata": {},
   "outputs": [],
   "source": [
    "# !covalent start   # Start the server\n",
    "# !covalent status  # Check server status\n",
    "# !covalent stop    # Stop the server\n"
   ]
  },
  {
   "cell_type": "markdown",
   "metadata": {},
   "source": [
    "Import Covalent, PyTorch and other relevant libraries."
   ]
  },
  {
   "cell_type": "code",
   "execution_count": 3,
   "metadata": {},
   "outputs": [],
   "source": [
    "import covalent as ct\n",
    "\n",
    "import torch\n",
    "import torch.nn.functional as F\n",
    "\n",
    "from pathlib import Path\n",
    "\n",
    "from torch import nn\n",
    "from torch.utils.data import DataLoader\n",
    "from torchvision import datasets\n",
    "from torchvision.transforms import ToTensor\n",
    "from typing import Tuple\n"
   ]
  },
  {
   "cell_type": "markdown",
   "metadata": {},
   "source": [
    "### Construct MNIST classifier training workflow\n",
    "\n",
    "Construct a convolutional neural network model by inheriting from `torch.nn.Module`."
   ]
  },
  {
   "cell_type": "code",
   "execution_count": 4,
   "metadata": {},
   "outputs": [],
   "source": [
    "class NeuralNetwork(nn.Module):\n",
    "    def __init__(self):\n",
    "        super(NeuralNetwork, self).__init__()\n",
    "        self.conv1 = nn.Conv2d(1, 10, kernel_size=5)\n",
    "        self.conv2 = nn.Conv2d(10, 20, kernel_size=5)\n",
    "        self.conv2_drop = nn.Dropout2d()\n",
    "        self.fc1 = nn.Linear(320, 50)\n",
    "        self.fc2 = nn.Linear(50, 10)\n",
    "\n",
    "    def forward(self, x):\n",
    "        x = F.relu(F.max_pool2d(self.conv1(x), 2))\n",
    "        x = F.relu(F.max_pool2d(self.conv2_drop(self.conv2(x)), 2))\n",
    "        x = x.view(-1, 320)\n",
    "        x = F.relu(self.fc1(x))\n",
    "        x = F.dropout(x, training=self.training)\n",
    "        x = self.fc2(x)\n",
    "        return F.log_softmax(x)\n"
   ]
  },
  {
   "cell_type": "markdown",
   "metadata": {},
   "source": [
    "Construct a data loader to retrieve the classifier training and test data."
   ]
  },
  {
   "cell_type": "code",
   "execution_count": 5,
   "metadata": {},
   "outputs": [],
   "source": [
    "@ct.electron\n",
    "def data_loader(\n",
    "    batch_size: int,\n",
    "    train: bool,\n",
    "    download: bool = True,\n",
    "    shuffle: bool = True,\n",
    "    data_dir: str = \"~/data/mnist/\",\n",
    ") -> torch.utils.data.dataloader.DataLoader:\n",
    "    \"\"\"MNIST data loader.\"\"\"\n",
    "\n",
    "    data_dir = Path(data_dir).expanduser()\n",
    "    data_dir.mkdir(parents=True, exist_ok=True)\n",
    "\n",
    "    data = datasets.MNIST(data_dir, train=train, download=download, transform=ToTensor())\n",
    "\n",
    "    return DataLoader(data, batch_size=batch_size, shuffle=shuffle)\n"
   ]
  },
  {
   "cell_type": "markdown",
   "metadata": {},
   "source": [
    "Construct a function to retrieve a Stochastic Gradient Descent optimizer."
   ]
  },
  {
   "cell_type": "code",
   "execution_count": 6,
   "metadata": {},
   "outputs": [],
   "source": [
    "@ct.electron\n",
    "def get_optimizer(\n",
    "    model: NeuralNetwork, learning_rate: float, momentum: float\n",
    ") -> torch.optim.Optimizer:\n",
    "    \"\"\"Get Stochastic Gradient Descent optimizer.\"\"\"\n",
    "\n",
    "    return torch.optim.SGD(model.parameters(), learning_rate, momentum)\n"
   ]
  },
  {
   "cell_type": "markdown",
   "metadata": {},
   "source": [
    "Write a function to train the model over one epoch."
   ]
  },
  {
   "cell_type": "code",
   "execution_count": 7,
   "metadata": {},
   "outputs": [],
   "source": [
    "@ct.electron\n",
    "def train_over_one_epoch(\n",
    "    dataloader: torch.utils.data.dataloader.DataLoader,\n",
    "    model: NeuralNetwork,\n",
    "    optimizer: torch.optim.Optimizer,\n",
    "    log_interval: int,\n",
    "    epoch: int,\n",
    "    loss_fn,\n",
    "    train_losses: list,\n",
    "    train_counter: int,\n",
    "    device: str = \"cpu\",\n",
    "):\n",
    "    \"\"\"Train neural network model over one epoch.\"\"\"\n",
    "\n",
    "    size = len(dataloader.dataset)\n",
    "    model.train()\n",
    "    for batch, (X, y) in enumerate(dataloader):\n",
    "        X, y = X.to(device), y.to(device)\n",
    "\n",
    "        # Compute prediction error\n",
    "        pred = model(X)\n",
    "        loss = loss_fn(pred, y)\n",
    "\n",
    "        # Backpropagation\n",
    "        optimizer.zero_grad()\n",
    "        loss.backward()\n",
    "        optimizer.step()\n",
    "\n",
    "        if batch % log_interval == 0:\n",
    "            loss, current = loss.item(), batch * len(X)\n",
    "            print(f\"loss: {loss:>7f}  [{current:>5d}/{size:>5d}]\")\n",
    "\n",
    "            train_losses.append(loss)\n",
    "            train_counter.append((batch * 64) + ((epoch - 1) * len(dataloader.dataset)))\n",
    "\n",
    "    return model, optimizer\n"
   ]
  },
  {
   "cell_type": "markdown",
   "metadata": {},
   "source": [
    "Write a function to test the performance of the classifier for a given loss function."
   ]
  },
  {
   "cell_type": "code",
   "execution_count": 8,
   "metadata": {},
   "outputs": [],
   "source": [
    "@ct.electron\n",
    "def test(\n",
    "    dataloader: torch.utils.data.dataloader.DataLoader,\n",
    "    model: NeuralNetwork,\n",
    "    loss_fn: callable,\n",
    "    device: str = \"cpu\",\n",
    ") -> None:\n",
    "    \"\"\"Test the model performance.\"\"\"\n",
    "\n",
    "    size = len(dataloader.dataset)\n",
    "    num_batches = len(dataloader)\n",
    "    model.eval()\n",
    "    test_loss, correct = 0, 0\n",
    "    with torch.no_grad():\n",
    "        for X, y in dataloader:\n",
    "            X, y = X.to(device), y.to(device)\n",
    "            pred = model(X)\n",
    "            test_loss += loss_fn(pred, y).item()\n",
    "            correct += (pred.argmax(1) == y).type(torch.float).sum().item()\n",
    "    test_loss /= num_batches\n",
    "    correct /= size\n",
    "    print(f\"Test Error: \\n Accuracy: {(100*correct):>0.1f}%, Avg loss: {test_loss:>8f} \\n\")\n"
   ]
  },
  {
   "cell_type": "markdown",
   "metadata": {},
   "source": [
    "Write a function to train the model over several epochs and save the final state of the _optimizer_ and the _neural network_."
   ]
  },
  {
   "cell_type": "code",
   "execution_count": 9,
   "metadata": {},
   "outputs": [],
   "source": [
    "@ct.electron\n",
    "def train_model(\n",
    "    train_dataloader: torch.utils.data.dataloader.DataLoader,\n",
    "    train_losses: list,\n",
    "    train_counter: int,\n",
    "    log_interval: int,\n",
    "    model: NeuralNetwork,\n",
    "    optimizer: torch.optim.Optimizer,\n",
    "    loss_fn: callable,\n",
    "    epochs: int,\n",
    "    results_dir: str = \"~/data/mnist/results/\",\n",
    ") -> Tuple[NeuralNetwork,]:\n",
    "    \"\"\"Train neural network model.\"\"\"\n",
    "\n",
    "    results_dir = Path(results_dir).expanduser()\n",
    "    results_dir.mkdir(parents=True, exist_ok=True)\n",
    "\n",
    "    for epoch in range(1, epochs + 1):\n",
    "        print(f\"Epoch {epoch}\\n-------------------------------\")\n",
    "        model, optimizer = train_over_one_epoch(\n",
    "            dataloader=train_dataloader,\n",
    "            model=model,\n",
    "            optimizer=optimizer,\n",
    "            train_losses=train_losses,\n",
    "            train_counter=train_counter,\n",
    "            log_interval=log_interval,\n",
    "            epoch=epoch,\n",
    "            loss_fn=loss_fn,\n",
    "        )\n",
    "\n",
    "    # Save model and optimizer\n",
    "    torch.save(model.state_dict(), f\"{results_dir}model.pth\")\n",
    "    torch.save(optimizer.state_dict(), f\"{results_dir}optimizer.pth\")\n",
    "    return model, optimizer\n"
   ]
  },
  {
   "cell_type": "markdown",
   "metadata": {},
   "source": [
    "Finally, we put all these tasks together to construct the MNIST classifier training and test workflow."
   ]
  },
  {
   "cell_type": "code",
   "execution_count": 10,
   "metadata": {},
   "outputs": [],
   "source": [
    "@ct.lattice\n",
    "def workflow(\n",
    "    model: NeuralNetwork,\n",
    "    epochs: int = 2,\n",
    "    batch_size_train: int = 64,\n",
    "    batch_size_test: int = 1000,\n",
    "    learning_rate: float = 0.01,\n",
    "    momentum: float = 0.5,\n",
    "    log_interval: int = 10,\n",
    "    loss_fn: callable = F.nll_loss,\n",
    "):\n",
    "    \"\"\"MNIST classifier training workflow\"\"\"\n",
    "\n",
    "    train_dataloader = data_loader(batch_size=batch_size_train, train=True)\n",
    "    test_dataloader = data_loader(batch_size=batch_size_test, train=False)\n",
    "\n",
    "    train_losses, train_counter, test_losses = [], [], []\n",
    "    optimizer = get_optimizer(model=model, learning_rate=learning_rate, momentum=momentum)\n",
    "    model, optimizer = train_model(\n",
    "        train_dataloader=train_dataloader,\n",
    "        train_losses=train_losses,\n",
    "        train_counter=train_counter,\n",
    "        log_interval=log_interval,\n",
    "        model=model,\n",
    "        optimizer=optimizer,\n",
    "        loss_fn=loss_fn,\n",
    "        epochs=epochs,\n",
    "    )\n",
    "    test(dataloader=test_dataloader, model=model, loss_fn=loss_fn)\n"
   ]
  },
  {
   "cell_type": "markdown",
   "metadata": {},
   "source": [
    "### Run MNIST classifier workflow as a normal function\n",
    "\n",
    "Run the MNIST classifier workflow to benchmark the performance and the time taken to train and test the model."
   ]
  },
  {
   "cell_type": "code",
   "execution_count": 11,
   "metadata": {},
   "outputs": [
    {
     "name": "stdout",
     "output_type": "stream",
     "text": [
      "Epoch 1\n",
      "-------------------------------\n",
      "loss: 2.316108  [    0/60000]\n"
     ]
    },
    {
     "name": "stderr",
     "output_type": "stream",
     "text": [
      "/var/folders/hn/dnjxkq7946j9wpxv1cy9pm2m0000gn/T/ipykernel_15299/3977843674.py:17: UserWarning: Implicit dimension choice for log_softmax has been deprecated. Change the call to include dim=X as an argument.\n",
      "  return F.log_softmax(x)\n"
     ]
    },
    {
     "name": "stdout",
     "output_type": "stream",
     "text": [
      "loss: 2.292390  [  640/60000]\n",
      "loss: 2.300465  [ 1280/60000]\n",
      "loss: 2.309805  [ 1920/60000]\n",
      "loss: 2.299241  [ 2560/60000]\n",
      "loss: 2.298654  [ 3200/60000]\n",
      "loss: 2.313508  [ 3840/60000]\n",
      "loss: 2.305898  [ 4480/60000]\n",
      "loss: 2.300285  [ 5120/60000]\n",
      "loss: 2.313985  [ 5760/60000]\n",
      "loss: 2.293127  [ 6400/60000]\n",
      "loss: 2.292709  [ 7040/60000]\n",
      "loss: 2.301682  [ 7680/60000]\n",
      "loss: 2.291551  [ 8320/60000]\n",
      "loss: 2.297959  [ 8960/60000]\n",
      "loss: 2.298690  [ 9600/60000]\n",
      "loss: 2.309617  [10240/60000]\n",
      "loss: 2.290349  [10880/60000]\n",
      "loss: 2.284115  [11520/60000]\n",
      "loss: 2.295412  [12160/60000]\n",
      "loss: 2.278734  [12800/60000]\n",
      "loss: 2.276932  [13440/60000]\n",
      "loss: 2.288864  [14080/60000]\n",
      "loss: 2.266436  [14720/60000]\n",
      "loss: 2.270757  [15360/60000]\n",
      "loss: 2.280083  [16000/60000]\n",
      "loss: 2.276012  [16640/60000]\n",
      "loss: 2.245430  [17280/60000]\n",
      "loss: 2.251726  [17920/60000]\n",
      "loss: 2.253528  [18560/60000]\n",
      "loss: 2.220123  [19200/60000]\n",
      "loss: 2.217693  [19840/60000]\n",
      "loss: 2.224583  [20480/60000]\n",
      "loss: 2.170230  [21120/60000]\n",
      "loss: 2.201457  [21760/60000]\n",
      "loss: 2.159546  [22400/60000]\n",
      "loss: 2.165365  [23040/60000]\n",
      "loss: 2.141666  [23680/60000]\n",
      "loss: 2.063397  [24320/60000]\n",
      "loss: 1.920725  [24960/60000]\n",
      "loss: 1.803557  [25600/60000]\n",
      "loss: 1.953805  [26240/60000]\n",
      "loss: 1.820795  [26880/60000]\n",
      "loss: 1.769924  [27520/60000]\n",
      "loss: 1.704635  [28160/60000]\n",
      "loss: 1.814527  [28800/60000]\n",
      "loss: 1.474331  [29440/60000]\n",
      "loss: 1.674365  [30080/60000]\n",
      "loss: 1.300528  [30720/60000]\n",
      "loss: 1.455848  [31360/60000]\n",
      "loss: 1.425597  [32000/60000]\n",
      "loss: 1.298508  [32640/60000]\n",
      "loss: 1.217508  [33280/60000]\n",
      "loss: 1.149946  [33920/60000]\n",
      "loss: 1.249440  [34560/60000]\n",
      "loss: 1.279602  [35200/60000]\n",
      "loss: 1.126804  [35840/60000]\n",
      "loss: 0.970805  [36480/60000]\n",
      "loss: 0.980924  [37120/60000]\n",
      "loss: 0.948378  [37760/60000]\n",
      "loss: 0.864515  [38400/60000]\n",
      "loss: 1.044482  [39040/60000]\n",
      "loss: 0.809195  [39680/60000]\n",
      "loss: 0.951930  [40320/60000]\n",
      "loss: 1.090409  [40960/60000]\n",
      "loss: 0.900939  [41600/60000]\n",
      "loss: 0.652452  [42240/60000]\n",
      "loss: 0.993330  [42880/60000]\n",
      "loss: 1.046044  [43520/60000]\n",
      "loss: 0.932562  [44160/60000]\n",
      "loss: 0.880957  [44800/60000]\n",
      "loss: 0.881664  [45440/60000]\n",
      "loss: 0.915293  [46080/60000]\n",
      "loss: 1.016553  [46720/60000]\n",
      "loss: 0.898416  [47360/60000]\n",
      "loss: 1.099793  [48000/60000]\n",
      "loss: 0.854956  [48640/60000]\n",
      "loss: 0.658587  [49280/60000]\n",
      "loss: 0.702986  [49920/60000]\n",
      "loss: 0.634076  [50560/60000]\n",
      "loss: 0.910889  [51200/60000]\n",
      "loss: 0.808371  [51840/60000]\n",
      "loss: 0.850947  [52480/60000]\n",
      "loss: 0.817661  [53120/60000]\n",
      "loss: 0.667543  [53760/60000]\n",
      "loss: 0.805083  [54400/60000]\n",
      "loss: 0.589480  [55040/60000]\n",
      "loss: 0.735260  [55680/60000]\n",
      "loss: 0.680119  [56320/60000]\n",
      "loss: 0.559235  [56960/60000]\n",
      "loss: 0.497904  [57600/60000]\n",
      "loss: 0.663247  [58240/60000]\n",
      "loss: 0.672980  [58880/60000]\n",
      "loss: 0.753076  [59520/60000]\n",
      "Epoch 2\n",
      "-------------------------------\n",
      "loss: 0.632397  [    0/60000]\n",
      "loss: 0.579011  [  640/60000]\n",
      "loss: 0.610404  [ 1280/60000]\n",
      "loss: 0.539788  [ 1920/60000]\n",
      "loss: 0.515720  [ 2560/60000]\n",
      "loss: 0.517836  [ 3200/60000]\n",
      "loss: 0.384561  [ 3840/60000]\n",
      "loss: 0.474251  [ 4480/60000]\n",
      "loss: 0.683779  [ 5120/60000]\n",
      "loss: 0.474080  [ 5760/60000]\n",
      "loss: 0.575526  [ 6400/60000]\n",
      "loss: 0.560708  [ 7040/60000]\n",
      "loss: 0.492185  [ 7680/60000]\n",
      "loss: 0.807617  [ 8320/60000]\n",
      "loss: 0.627401  [ 8960/60000]\n",
      "loss: 0.936715  [ 9600/60000]\n",
      "loss: 0.818004  [10240/60000]\n",
      "loss: 0.623530  [10880/60000]\n",
      "loss: 0.513105  [11520/60000]\n",
      "loss: 0.601026  [12160/60000]\n",
      "loss: 0.698510  [12800/60000]\n",
      "loss: 0.518919  [13440/60000]\n",
      "loss: 0.934149  [14080/60000]\n",
      "loss: 0.735554  [14720/60000]\n",
      "loss: 0.510537  [15360/60000]\n",
      "loss: 0.736236  [16000/60000]\n",
      "loss: 0.538844  [16640/60000]\n",
      "loss: 0.700806  [17280/60000]\n",
      "loss: 0.804494  [17920/60000]\n",
      "loss: 0.718829  [18560/60000]\n",
      "loss: 0.500860  [19200/60000]\n",
      "loss: 0.607876  [19840/60000]\n",
      "loss: 0.505228  [20480/60000]\n",
      "loss: 0.714713  [21120/60000]\n",
      "loss: 0.411033  [21760/60000]\n",
      "loss: 0.559602  [22400/60000]\n",
      "loss: 0.470517  [23040/60000]\n",
      "loss: 0.445003  [23680/60000]\n",
      "loss: 0.548360  [24320/60000]\n",
      "loss: 0.523500  [24960/60000]\n",
      "loss: 0.327083  [25600/60000]\n",
      "loss: 0.504988  [26240/60000]\n",
      "loss: 0.517207  [26880/60000]\n",
      "loss: 0.472622  [27520/60000]\n",
      "loss: 0.779513  [28160/60000]\n",
      "loss: 0.647078  [28800/60000]\n",
      "loss: 0.345809  [29440/60000]\n",
      "loss: 0.511117  [30080/60000]\n",
      "loss: 0.596419  [30720/60000]\n",
      "loss: 0.347113  [31360/60000]\n",
      "loss: 0.398815  [32000/60000]\n",
      "loss: 0.627272  [32640/60000]\n",
      "loss: 0.643862  [33280/60000]\n",
      "loss: 0.755124  [33920/60000]\n",
      "loss: 0.486567  [34560/60000]\n",
      "loss: 0.371143  [35200/60000]\n",
      "loss: 0.512887  [35840/60000]\n",
      "loss: 0.397353  [36480/60000]\n",
      "loss: 0.414929  [37120/60000]\n",
      "loss: 0.412948  [37760/60000]\n",
      "loss: 0.516715  [38400/60000]\n",
      "loss: 0.433106  [39040/60000]\n",
      "loss: 0.257527  [39680/60000]\n",
      "loss: 0.415721  [40320/60000]\n",
      "loss: 0.442375  [40960/60000]\n",
      "loss: 0.429366  [41600/60000]\n",
      "loss: 0.382227  [42240/60000]\n",
      "loss: 0.568576  [42880/60000]\n",
      "loss: 0.468418  [43520/60000]\n",
      "loss: 0.513251  [44160/60000]\n",
      "loss: 0.572510  [44800/60000]\n",
      "loss: 0.345095  [45440/60000]\n",
      "loss: 0.586042  [46080/60000]\n",
      "loss: 0.738327  [46720/60000]\n",
      "loss: 0.339049  [47360/60000]\n",
      "loss: 0.436746  [48000/60000]\n",
      "loss: 0.416290  [48640/60000]\n",
      "loss: 0.387940  [49280/60000]\n",
      "loss: 0.568281  [49920/60000]\n",
      "loss: 0.731253  [50560/60000]\n",
      "loss: 0.458302  [51200/60000]\n",
      "loss: 0.469574  [51840/60000]\n",
      "loss: 0.518932  [52480/60000]\n",
      "loss: 0.367193  [53120/60000]\n",
      "loss: 0.365976  [53760/60000]\n",
      "loss: 0.301937  [54400/60000]\n",
      "loss: 0.553552  [55040/60000]\n",
      "loss: 0.445315  [55680/60000]\n",
      "loss: 0.332012  [56320/60000]\n",
      "loss: 0.588983  [56960/60000]\n",
      "loss: 0.488715  [57600/60000]\n",
      "loss: 0.405679  [58240/60000]\n",
      "loss: 0.343609  [58880/60000]\n",
      "loss: 0.486828  [59520/60000]\n",
      "Test Error: \n",
      " Accuracy: 94.5%, Avg loss: 0.188316 \n",
      "\n",
      "Regular workflow takes 31.807318925857544 seconds.\n"
     ]
    }
   ],
   "source": [
    "import time\n",
    "\n",
    "start = time.time()\n",
    "workflow(\n",
    "    model=NeuralNetwork().to(\"cpu\"),\n",
    ")\n",
    "end = time.time()\n",
    "print(f\"Regular workflow takes {end - start} seconds.\")\n"
   ]
  },
  {
   "cell_type": "markdown",
   "metadata": {},
   "source": [
    "<div align=\"center\">\n",
    "<img src=\"././mnist_images/regular_workflow_loss.png\"  width=\"95%\" height=\"95%\"/>\n",
    "</div>"
   ]
  },
  {
   "cell_type": "markdown",
   "metadata": {},
   "source": [
    "### Run workflow with Covalent\n",
    "\n",
    "The Covalent dispatcher (`ct.dispatch`) can be used to dispatch the workflow."
   ]
  },
  {
   "cell_type": "code",
   "execution_count": 12,
   "metadata": {},
   "outputs": [
    {
     "name": "stdout",
     "output_type": "stream",
     "text": [
      "1b02d13b-6e32-4d66-983a-dd99c49faf5a\n",
      "None\n",
      "Covalent workflow takes 1.2114050388336182 seconds.\n"
     ]
    }
   ],
   "source": [
    "start = time.time()\n",
    "dispatch_id = ct.dispatch(workflow)(\n",
    "    NeuralNetwork().to(\"cpu\"),\n",
    ")\n",
    "print(dispatch_id)\n",
    "result = ct.get_result(dispatch_id=dispatch_id, wait=True)\n",
    "print(result.result)\n",
    "end = time.time()\n",
    "print(f\"Covalent workflow takes {end - start} seconds.\")\n"
   ]
  },
  {
   "cell_type": "code",
   "execution_count": 13,
   "metadata": {},
   "outputs": [
    {
     "name": "stdout",
     "output_type": "stream",
     "text": [
      "\n",
      "Lattice Result\n",
      "==============\n",
      "status: FAILED\n",
      "result: None\n",
      "inputs: {'args': [NeuralNetwork(\n",
      "  (conv1): Conv2d(1, 10, kernel_size=(5, 5), stride=(1, 1))\n",
      "  (conv2): Conv2d(10, 20, kernel_size=(5, 5), stride=(1, 1))\n",
      "  (conv2_drop): Dropout2d(p=0.5, inplace=False)\n",
      "  (fc1): Linear(in_features=320, out_features=50, bias=True)\n",
      "  (fc2): Linear(in_features=50, out_features=10, bias=True)\n",
      "), 2, 64, 1000, 0.01, 0.5, 10, <function nll_loss at 0x7fcd623a5a60>], 'kwargs': {}}\n",
      "error: Node data_loader(0) failed: \n",
      "Traceback (most recent call last):\n",
      "  File \"/Users/faiyaz/Code/covalent/covalent_dispatcher/_core/execution.py\", line 241, in _run_task\n",
      "    output, stdout, stderr = executor.execute(\n",
      "  File \"/Users/faiyaz/Code/covalent/covalent/executor/executor_plugins/local.py\", line 95, in execute\n",
      "    result = fn(*args, **kwargs)\n",
      "TypeError: data_loader() got multiple values for argument 'batch_size'\n",
      "\n",
      "\n",
      "start_time: 2022-02-25 23:10:18.207875+00:00\n",
      "end_time: 2022-02-25 23:10:18.442049+00:00\n",
      "\n",
      "results_dir: /Users/faiyaz/Code/covalent/doc/source/tutorials/machine_learning/results\n",
      "dispatch_id: 1b02d13b-6e32-4d66-983a-dd99c49faf5a\n",
      "\n",
      "Node Outputs\n",
      "------------\n",
      "data_loader(0): None\n",
      ":parameter:True(1): True\n",
      ":parameter:True(2): True\n",
      ":parameter:~/data/mnist/(3): ~/data/mnist/\n",
      ":parameter:64(4): 64\n",
      ":parameter:True(5): True\n",
      "data_loader(6): None\n",
      ":parameter:True(7): True\n",
      ":parameter:True(8): True\n",
      ":parameter:~/data/mnist/(9): ~/data/mnist/\n",
      ":parameter:1000(10): 1000\n",
      ":parameter:False(11): False\n",
      "get_optimizer(12): SGD (\n",
      "Parameter Group 0\n",
      "    dampening: 0\n",
      "    lr: 0.01\n",
      "    momentum: 0.5\n",
      "    nesterov: False\n",
      "    weight_decay: 0\n",
      ")\n",
      ":parameter:NeuralNetwork(\n",
      "  (conv1): Conv2d(1, 10, kernel_size=(5, 5), stride=(1, 1))\n",
      "  (conv2): Conv2d(10, 20, kernel_size=(5, 5), stride=(1, 1))\n",
      "  (conv2_drop): Dropout2d(p=0.5, inplace=False)\n",
      "  (fc1): Linear(in_features=320, out_features=50, bias=True)\n",
      "  (fc2): Linear(in_features=50, out_features=10, bias=True)\n",
      ")(13): NeuralNetwork(\n",
      "  (conv1): Conv2d(1, 10, kernel_size=(5, 5), stride=(1, 1))\n",
      "  (conv2): Conv2d(10, 20, kernel_size=(5, 5), stride=(1, 1))\n",
      "  (conv2_drop): Dropout2d(p=0.5, inplace=False)\n",
      "  (fc1): Linear(in_features=320, out_features=50, bias=True)\n",
      "  (fc2): Linear(in_features=50, out_features=10, bias=True)\n",
      ")\n",
      ":parameter:0.01(14): 0.01\n",
      ":parameter:0.5(15): 0.5\n",
      ": None\n",
      ":parameter:~/data/mnist/results/(17): ~/data/mnist/results/\n",
      ":electron_list:(18): []\n",
      ":electron_list:(19): []\n",
      ":parameter:10(20): 10\n",
      ":parameter:NeuralNetwork(\n",
      "  (conv1): Conv2d(1, 10, kernel_size=(5, 5), stride=(1, 1))\n",
      "  (conv2): Conv2d(10, 20, kernel_size=(5, 5), stride=(1, 1))\n",
      "  (conv2_drop): Dropout2d(p=0.5, inplace=False)\n",
      "  (fc1): Linear(in_features=320, out_features=50, bias=True)\n",
      "  (fc2): Linear(in_features=50, out_features=10, bias=True)\n",
      ")(21): NeuralNetwork(\n",
      "  (conv1): Conv2d(1, 10, kernel_size=(5, 5), stride=(1, 1))\n",
      "  (conv2): Conv2d(10, 20, kernel_size=(5, 5), stride=(1, 1))\n",
      "  (conv2_drop): Dropout2d(p=0.5, inplace=False)\n",
      "  (fc1): Linear(in_features=320, out_features=50, bias=True)\n",
      "  (fc2): Linear(in_features=50, out_features=10, bias=True)\n",
      ")\n",
      ":parameter:<function nll_loss at 0x7fcd623a5a60>(22): <function nll_loss at 0x7fcd623a5a60>\n",
      ":parameter:2(23): 2\n",
      ":parameter:cpu(27): cpu\n",
      ":parameter:<function nll_loss at 0x7fcd623a5a60>(28): <function nll_loss at 0x7fcd623a5a60>\n",
      "\n"
     ]
    }
   ],
   "source": [
    "print(result)"
   ]
  },
  {
   "cell_type": "markdown",
   "metadata": {},
   "source": [
    "Once the workflow has been dispatched, the results can be tracked on the covalent UI browser. Use `covalent status` (shown below) to find the UI browser address. "
   ]
  },
  {
   "cell_type": "code",
   "execution_count": null,
   "metadata": {},
   "outputs": [],
   "source": [
    "# !covalent status\n"
   ]
  },
  {
   "cell_type": "markdown",
   "metadata": {},
   "source": [
    "Clicking on `http://0.0.0.0:47007` we can see the UI browser which lists the various dispatch ids.\n",
    "\n",
    "<div align=\"center\">\n",
    "<img src=\"././mnist_images/ui_dispatch_ids.png\"  width=\"95%\" height=\"95%\"/>\n",
    "</div>"
   ]
  },
  {
   "cell_type": "markdown",
   "metadata": {},
   "source": [
    "Clicking on the dispatch id, we can see the details of the workflow execution. Note the task execution dependency graph. \n",
    "\n",
    "<div align=\"center\">\n",
    "<img src=\"././mnist_images/ui_workflow.png\"  width=\"95%\" height=\"95%\"/>\n",
    "</div>"
   ]
  },
  {
   "cell_type": "markdown",
   "metadata": {},
   "source": [
    "## Covalent concepts\n",
    "\n",
    "* Covalent allows the user to deploy multiple workflows without having to wait for them to finish running. [Supports asynchronous workflow deployment without any additional code???]\n",
    "\n",
    "* A Covalent workflow can be _dispatched_ to take advantage of automatic parallelization, user friendly interface etc. but it can also just as easily be run as a normal Python function. Hence, adding the electron / lattice decorators only enhances what we can be done with the workflow with a minimum overhead.\n",
    "\n",
    "* Execution time for Covalent workflows and subtasks are readily available without needing any additional code.\n",
    "\n",
    "References:\n",
    "- https://pytorch.org/tutorials/beginner/basics/quickstart_tutorial.html"
   ]
  },
  {
   "cell_type": "markdown",
   "metadata": {},
   "source": []
  }
 ],
 "metadata": {
  "interpreter": {
   "hash": "497139f919dadc5e613ed634ff9107622fdaea40400342bdf68cd50a71d28343"
  },
  "kernelspec": {
   "display_name": "Python 3.8.12 ('covalent-pytorch-dev')",
   "language": "python",
   "name": "python3"
  },
  "language_info": {
   "codemirror_mode": {
    "name": "ipython",
    "version": 3
   },
   "file_extension": ".py",
   "mimetype": "text/x-python",
   "name": "python",
   "nbconvert_exporter": "python",
   "pygments_lexer": "ipython3",
   "version": "3.8.12"
  },
  "orig_nbformat": 4
 },
 "nbformat": 4,
 "nbformat_minor": 2
}
