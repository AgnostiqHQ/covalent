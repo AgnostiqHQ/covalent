{
 "cells": [
  {
   "cell_type": "markdown",
   "metadata": {},
   "source": [
    "# MNIST classifier tutorial\n",
    "\n",
    "MNIST database of handwritten digits is a popular dataset to demonstrate machine learning classifiers. The data base is comprised of handwritten digits with the corresponding ground truth label. In this tutorial (based on [1]), we train a basic Neural Network (NN) classifier using PyTorch. Once classifier training workflow has been defined, it is easily converted to a Covalent workflow. This workflow can then be \"dispatched\" for execution and the task completion status / details can be tracked in a convenient browser-based user interface."
   ]
  },
  {
   "cell_type": "markdown",
   "metadata": {},
   "source": [
    "A sample of the MNIST dataset:\n",
    "\n",
    "<img src=\"././mnist_images/mnist_examples.png\" width=\"45%\" height=\"45%\" style=\"display: block; margin: 0 auto\"/>\n"
   ]
  },
  {
   "cell_type": "markdown",
   "metadata": {},
   "source": [
    "### Getting started\n",
    "This tutorial requires installing Covalent, PyTorch and Torchvision. Uncomment and run the following cell to install the libraries."
   ]
  },
  {
   "cell_type": "code",
   "execution_count": 1,
   "metadata": {},
   "outputs": [],
   "source": [
    "# !pip install cova\n",
    "# !conda install pytorch torchvision -c pytorch -y\n"
   ]
  },
  {
   "cell_type": "markdown",
   "metadata": {},
   "source": [
    "Once Covalent has been installed, uncomment and run `covalent start` to start the dispatcher and browser-based UI servers. Also, `covalent status / stop` are used to check the server status / stop the server."
   ]
  },
  {
   "cell_type": "code",
   "execution_count": 2,
   "metadata": {},
   "outputs": [],
   "source": [
    "# !covalent start   # Start the server\n",
    "# !covalent status  # Check server status\n",
    "# !covalent stop    # Stop the server\n"
   ]
  },
  {
   "cell_type": "markdown",
   "metadata": {},
   "source": [
    "Import Covalent, PyTorch and other relevant libraries."
   ]
  },
  {
   "cell_type": "code",
   "execution_count": 3,
   "metadata": {},
   "outputs": [],
   "source": [
    "import covalent as ct\n",
    "\n",
    "import torch\n",
    "import torch.nn.functional as F\n",
    "\n",
    "from pathlib import Path\n",
    "\n",
    "from torch import nn\n",
    "from torch.utils.data import DataLoader\n",
    "from torchvision import datasets\n",
    "from torchvision.transforms import ToTensor\n",
    "from typing import Tuple\n"
   ]
  },
  {
   "cell_type": "markdown",
   "metadata": {},
   "source": [
    "### Construct MNIST classifier training workflow\n",
    "\n",
    "Construct a convolutional neural network model by inheriting from `torch.nn.Module`."
   ]
  },
  {
   "cell_type": "code",
   "execution_count": 4,
   "metadata": {},
   "outputs": [],
   "source": [
    "class NeuralNetwork(nn.Module):\n",
    "    def __init__(self):\n",
    "        super(NeuralNetwork, self).__init__()\n",
    "        self.conv1 = nn.Conv2d(1, 10, kernel_size=5)\n",
    "        self.conv2 = nn.Conv2d(10, 20, kernel_size=5)\n",
    "        self.conv2_drop = nn.Dropout2d()\n",
    "        self.fc1 = nn.Linear(320, 50)\n",
    "        self.fc2 = nn.Linear(50, 10)\n",
    "\n",
    "    def forward(self, x):\n",
    "        x = F.relu(F.max_pool2d(self.conv1(x), 2))\n",
    "        x = F.relu(F.max_pool2d(self.conv2_drop(self.conv2(x)), 2))\n",
    "        x = x.view(-1, 320)\n",
    "        x = F.relu(self.fc1(x))\n",
    "        x = F.dropout(x, training=self.training)\n",
    "        x = self.fc2(x)\n",
    "        return F.log_softmax(x)\n"
   ]
  },
  {
   "cell_type": "markdown",
   "metadata": {},
   "source": [
    "Construct a data loader to retrieve the classifier training and test data."
   ]
  },
  {
   "cell_type": "code",
   "execution_count": 5,
   "metadata": {},
   "outputs": [],
   "source": [
    "def data_loader(\n",
    "    batch_size: int,\n",
    "    train: bool,\n",
    "    download: bool = True,\n",
    "    shuffle: bool = True,\n",
    "    data_dir: str = \"~/data/mnist/\",\n",
    ") -> torch.utils.data.dataloader.DataLoader:\n",
    "    \"\"\"MNIST data loader.\"\"\"\n",
    "\n",
    "    data_dir = Path(data_dir).expanduser()\n",
    "    data_dir.mkdir(parents=True, exist_ok=True)\n",
    "\n",
    "    data = datasets.MNIST(data_dir, train=train, download=download, transform=ToTensor())\n",
    "\n",
    "    return DataLoader(data, batch_size=batch_size, shuffle=shuffle)\n"
   ]
  },
  {
   "cell_type": "markdown",
   "metadata": {},
   "source": [
    "Construct a function to retrieve a Stochastic Gradient Descent optimizer."
   ]
  },
  {
   "cell_type": "code",
   "execution_count": 6,
   "metadata": {},
   "outputs": [],
   "source": [
    "def get_optimizer(\n",
    "    model: NeuralNetwork, learning_rate: float, momentum: float\n",
    ") -> torch.optim.Optimizer:\n",
    "    \"\"\"Get Stochastic Gradient Descent optimizer.\"\"\"\n",
    "\n",
    "    return torch.optim.SGD(model.parameters(), learning_rate, momentum)\n"
   ]
  },
  {
   "cell_type": "markdown",
   "metadata": {},
   "source": [
    "Write a function to train the model over one epoch."
   ]
  },
  {
   "cell_type": "code",
   "execution_count": 7,
   "metadata": {},
   "outputs": [],
   "source": [
    "def train_over_one_epoch(\n",
    "    dataloader: torch.utils.data.dataloader.DataLoader,\n",
    "    model: NeuralNetwork,\n",
    "    optimizer: torch.optim.Optimizer,\n",
    "    log_interval: int,\n",
    "    epoch: int,\n",
    "    loss_fn,\n",
    "    train_losses: list,\n",
    "    train_counter: int,\n",
    "    device: str = \"cpu\",\n",
    "):\n",
    "    \"\"\"Train neural network model over one epoch.\"\"\"\n",
    "\n",
    "    size = len(dataloader.dataset)\n",
    "    model.train()\n",
    "    for batch, (X, y) in enumerate(dataloader):\n",
    "        X, y = X.to(device), y.to(device)\n",
    "\n",
    "        # Compute prediction error\n",
    "        pred = model(X)\n",
    "        loss = loss_fn(pred, y)\n",
    "\n",
    "        # Backpropagation\n",
    "        optimizer.zero_grad()\n",
    "        loss.backward()\n",
    "        optimizer.step()\n",
    "\n",
    "        if batch % log_interval == 0:\n",
    "            loss, current = loss.item(), batch * len(X)\n",
    "            print(f\"loss: {loss:>7f}  [{current:>5d}/{size:>5d}]\")\n",
    "\n",
    "            train_losses.append(loss)\n",
    "            train_counter.append((batch * 64) + ((epoch - 1) * len(dataloader.dataset)))\n",
    "\n",
    "    return model, optimizer\n"
   ]
  },
  {
   "cell_type": "markdown",
   "metadata": {},
   "source": [
    "Write a function to test the performance of the classifier for a given loss function."
   ]
  },
  {
   "cell_type": "code",
   "execution_count": 8,
   "metadata": {},
   "outputs": [],
   "source": [
    "def test(\n",
    "    dataloader: torch.utils.data.dataloader.DataLoader,\n",
    "    model: NeuralNetwork,\n",
    "    loss_fn: callable,\n",
    "    device: str = \"cpu\",\n",
    ") -> None:\n",
    "    \"\"\"Test the model performance.\"\"\"\n",
    "\n",
    "    size = len(dataloader.dataset)\n",
    "    num_batches = len(dataloader)\n",
    "    model.eval()\n",
    "    test_loss, correct = 0, 0\n",
    "    with torch.no_grad():\n",
    "        for X, y in dataloader:\n",
    "            X, y = X.to(device), y.to(device)\n",
    "            pred = model(X)\n",
    "            test_loss += loss_fn(pred, y).item()\n",
    "            correct += (pred.argmax(1) == y).type(torch.float).sum().item()\n",
    "    test_loss /= num_batches\n",
    "    correct /= size\n",
    "    print(f\"Test Error: \\n Accuracy: {(100*correct):>0.1f}%, Avg loss: {test_loss:>8f} \\n\")\n"
   ]
  },
  {
   "cell_type": "markdown",
   "metadata": {},
   "source": [
    "Write a function to train the model over several epochs and save the final state of the _optimizer_ and the _neural network_."
   ]
  },
  {
   "cell_type": "code",
   "execution_count": 9,
   "metadata": {},
   "outputs": [],
   "source": [
    "def train_model(\n",
    "    train_dataloader: torch.utils.data.dataloader.DataLoader,\n",
    "    train_losses: list,\n",
    "    train_counter: int,\n",
    "    log_interval: int,\n",
    "    model: NeuralNetwork,\n",
    "    optimizer: torch.optim.Optimizer,\n",
    "    loss_fn: callable,\n",
    "    epochs: int,\n",
    "    results_dir: str = \"~/data/mnist/results/\",\n",
    ") -> Tuple[NeuralNetwork,]:\n",
    "    \"\"\"Train neural network model.\"\"\"\n",
    "\n",
    "    results_dir = Path(results_dir).expanduser()\n",
    "    results_dir.mkdir(parents=True, exist_ok=True)\n",
    "\n",
    "    for epoch in range(1, epochs + 1):\n",
    "        print(f\"Epoch {epoch}\\n-------------------------------\")\n",
    "        model, optimizer = train_over_one_epoch(\n",
    "            dataloader=train_dataloader,\n",
    "            model=model,\n",
    "            optimizer=optimizer,\n",
    "            train_losses=train_losses,\n",
    "            train_counter=train_counter,\n",
    "            log_interval=log_interval,\n",
    "            epoch=epoch,\n",
    "            loss_fn=loss_fn,\n",
    "        )\n",
    "\n",
    "    # Save model and optimizer\n",
    "    torch.save(model.state_dict(), f\"{results_dir}model.pth\")\n",
    "    torch.save(optimizer.state_dict(), f\"{results_dir}optimizer.pth\")\n",
    "    return model, optimizer\n"
   ]
  },
  {
   "cell_type": "markdown",
   "metadata": {},
   "source": [
    "Finally, we put all these tasks together to construct the MNIST classifier training and test workflow."
   ]
  },
  {
   "cell_type": "code",
   "execution_count": 10,
   "metadata": {},
   "outputs": [],
   "source": [
    "def workflow(\n",
    "    model: NeuralNetwork,\n",
    "    epochs: int = 2,\n",
    "    batch_size_train: int = 64,\n",
    "    batch_size_test: int = 1000,\n",
    "    learning_rate: float = 0.01,\n",
    "    momentum: float = 0.5,\n",
    "    log_interval: int = 10,\n",
    "    loss_fn: callable = F.nll_loss,\n",
    "):\n",
    "    \"\"\"MNIST classifier training workflow\"\"\"\n",
    "\n",
    "    train_dataloader = data_loader(batch_size=batch_size_train, train=True)\n",
    "    test_dataloader = data_loader(batch_size=batch_size_test, train=False)\n",
    "\n",
    "    train_losses, train_counter, test_losses = [], [], []\n",
    "    optimizer = get_optimizer(model=model, learning_rate=learning_rate, momentum=momentum)\n",
    "    model, optimizer = train_model(\n",
    "        train_dataloader=train_dataloader,\n",
    "        train_losses=train_losses,\n",
    "        train_counter=train_counter,\n",
    "        log_interval=log_interval,\n",
    "        model=model,\n",
    "        optimizer=optimizer,\n",
    "        loss_fn=loss_fn,\n",
    "        epochs=epochs,\n",
    "    )\n",
    "    test(dataloader=test_dataloader, model=model, loss_fn=loss_fn)\n",
    "\n",
    "    return train_losses, train_counter, test_losses\n"
   ]
  },
  {
   "cell_type": "markdown",
   "metadata": {},
   "source": [
    "### Run MNIST classifier workflow as a normal function\n",
    "\n",
    "Run the MNIST classifier workflow to benchmark the performance and the time taken to train and test the model."
   ]
  },
  {
   "cell_type": "code",
   "execution_count": 11,
   "metadata": {},
   "outputs": [
    {
     "name": "stdout",
     "output_type": "stream",
     "text": [
      "Epoch 1\n",
      "-------------------------------\n",
      "loss: 2.303198  [    0/60000]\n"
     ]
    },
    {
     "name": "stderr",
     "output_type": "stream",
     "text": [
      "/var/folders/hn/dnjxkq7946j9wpxv1cy9pm2m0000gn/T/ipykernel_20799/3977843674.py:17: UserWarning: Implicit dimension choice for log_softmax has been deprecated. Change the call to include dim=X as an argument.\n",
      "  return F.log_softmax(x)\n"
     ]
    },
    {
     "name": "stdout",
     "output_type": "stream",
     "text": [
      "loss: 2.314664  [  640/60000]\n",
      "loss: 2.322059  [ 1280/60000]\n",
      "loss: 2.313626  [ 1920/60000]\n",
      "loss: 2.296290  [ 2560/60000]\n",
      "loss: 2.305429  [ 3200/60000]\n",
      "loss: 2.334126  [ 3840/60000]\n",
      "loss: 2.291092  [ 4480/60000]\n",
      "loss: 2.288861  [ 5120/60000]\n",
      "loss: 2.287740  [ 5760/60000]\n",
      "loss: 2.289496  [ 6400/60000]\n",
      "loss: 2.286166  [ 7040/60000]\n",
      "loss: 2.300392  [ 7680/60000]\n",
      "loss: 2.302844  [ 8320/60000]\n",
      "loss: 2.292697  [ 8960/60000]\n",
      "loss: 2.284821  [ 9600/60000]\n",
      "loss: 2.299048  [10240/60000]\n",
      "loss: 2.288200  [10880/60000]\n",
      "loss: 2.271963  [11520/60000]\n",
      "loss: 2.275349  [12160/60000]\n",
      "loss: 2.275152  [12800/60000]\n",
      "loss: 2.264524  [13440/60000]\n",
      "loss: 2.261394  [14080/60000]\n",
      "loss: 2.270755  [14720/60000]\n",
      "loss: 2.243801  [15360/60000]\n",
      "loss: 2.222972  [16000/60000]\n",
      "loss: 2.219842  [16640/60000]\n",
      "loss: 2.221239  [17280/60000]\n",
      "loss: 2.177687  [17920/60000]\n",
      "loss: 2.177292  [18560/60000]\n",
      "loss: 2.181365  [19200/60000]\n",
      "loss: 2.068544  [19840/60000]\n",
      "loss: 2.144796  [20480/60000]\n",
      "loss: 2.057478  [21120/60000]\n",
      "loss: 2.064961  [21760/60000]\n",
      "loss: 2.043833  [22400/60000]\n",
      "loss: 1.902764  [23040/60000]\n",
      "loss: 1.796084  [23680/60000]\n",
      "loss: 1.820247  [24320/60000]\n",
      "loss: 1.768039  [24960/60000]\n",
      "loss: 1.405519  [25600/60000]\n",
      "loss: 1.653905  [26240/60000]\n",
      "loss: 1.663274  [26880/60000]\n",
      "loss: 1.473244  [27520/60000]\n",
      "loss: 1.379606  [28160/60000]\n",
      "loss: 1.179607  [28800/60000]\n",
      "loss: 1.413903  [29440/60000]\n",
      "loss: 1.125908  [30080/60000]\n",
      "loss: 1.027870  [30720/60000]\n",
      "loss: 1.194770  [31360/60000]\n",
      "loss: 1.272526  [32000/60000]\n",
      "loss: 0.988787  [32640/60000]\n",
      "loss: 1.072554  [33280/60000]\n",
      "loss: 0.983432  [33920/60000]\n",
      "loss: 1.059006  [34560/60000]\n",
      "loss: 0.949369  [35200/60000]\n",
      "loss: 1.234050  [35840/60000]\n",
      "loss: 0.811079  [36480/60000]\n",
      "loss: 0.822845  [37120/60000]\n",
      "loss: 0.718729  [37760/60000]\n",
      "loss: 1.111447  [38400/60000]\n",
      "loss: 1.017705  [39040/60000]\n",
      "loss: 1.106466  [39680/60000]\n",
      "loss: 0.800029  [40320/60000]\n",
      "loss: 0.849234  [40960/60000]\n",
      "loss: 0.672774  [41600/60000]\n",
      "loss: 0.888228  [42240/60000]\n",
      "loss: 0.723343  [42880/60000]\n",
      "loss: 0.926838  [43520/60000]\n",
      "loss: 0.633491  [44160/60000]\n",
      "loss: 0.901880  [44800/60000]\n",
      "loss: 0.962542  [45440/60000]\n",
      "loss: 0.834755  [46080/60000]\n",
      "loss: 0.693504  [46720/60000]\n",
      "loss: 0.849996  [47360/60000]\n",
      "loss: 0.787562  [48000/60000]\n",
      "loss: 0.736688  [48640/60000]\n",
      "loss: 0.714034  [49280/60000]\n",
      "loss: 0.549440  [49920/60000]\n",
      "loss: 0.656607  [50560/60000]\n",
      "loss: 0.854102  [51200/60000]\n",
      "loss: 0.612550  [51840/60000]\n",
      "loss: 0.589336  [52480/60000]\n",
      "loss: 0.826381  [53120/60000]\n",
      "loss: 0.717844  [53760/60000]\n",
      "loss: 0.739382  [54400/60000]\n",
      "loss: 0.675111  [55040/60000]\n",
      "loss: 0.811950  [55680/60000]\n",
      "loss: 0.588217  [56320/60000]\n",
      "loss: 0.583282  [56960/60000]\n",
      "loss: 0.693436  [57600/60000]\n",
      "loss: 0.832731  [58240/60000]\n",
      "loss: 0.716947  [58880/60000]\n",
      "loss: 0.705064  [59520/60000]\n",
      "Epoch 2\n",
      "-------------------------------\n",
      "loss: 0.484615  [    0/60000]\n",
      "loss: 0.504875  [  640/60000]\n",
      "loss: 0.558319  [ 1280/60000]\n",
      "loss: 0.466762  [ 1920/60000]\n",
      "loss: 0.516073  [ 2560/60000]\n",
      "loss: 0.689247  [ 3200/60000]\n",
      "loss: 0.605320  [ 3840/60000]\n",
      "loss: 0.579779  [ 4480/60000]\n",
      "loss: 0.676332  [ 5120/60000]\n",
      "loss: 0.686872  [ 5760/60000]\n",
      "loss: 0.653752  [ 6400/60000]\n",
      "loss: 0.749313  [ 7040/60000]\n",
      "loss: 0.503667  [ 7680/60000]\n",
      "loss: 0.671866  [ 8320/60000]\n",
      "loss: 0.635074  [ 8960/60000]\n",
      "loss: 0.905877  [ 9600/60000]\n",
      "loss: 0.700021  [10240/60000]\n",
      "loss: 0.586449  [10880/60000]\n",
      "loss: 0.748940  [11520/60000]\n",
      "loss: 0.535848  [12160/60000]\n",
      "loss: 0.817917  [12800/60000]\n",
      "loss: 0.767805  [13440/60000]\n",
      "loss: 0.490885  [14080/60000]\n",
      "loss: 0.773254  [14720/60000]\n",
      "loss: 0.604307  [15360/60000]\n",
      "loss: 0.719317  [16000/60000]\n",
      "loss: 0.502191  [16640/60000]\n",
      "loss: 0.828400  [17280/60000]\n",
      "loss: 0.530484  [17920/60000]\n",
      "loss: 0.613895  [18560/60000]\n",
      "loss: 0.522475  [19200/60000]\n",
      "loss: 0.583972  [19840/60000]\n",
      "loss: 0.498968  [20480/60000]\n",
      "loss: 0.528379  [21120/60000]\n",
      "loss: 0.599641  [21760/60000]\n",
      "loss: 0.603962  [22400/60000]\n",
      "loss: 0.425576  [23040/60000]\n",
      "loss: 0.467663  [23680/60000]\n",
      "loss: 0.489956  [24320/60000]\n",
      "loss: 0.413944  [24960/60000]\n",
      "loss: 0.566417  [25600/60000]\n",
      "loss: 0.511626  [26240/60000]\n",
      "loss: 0.441532  [26880/60000]\n",
      "loss: 0.451360  [27520/60000]\n",
      "loss: 0.672605  [28160/60000]\n",
      "loss: 0.450887  [28800/60000]\n",
      "loss: 0.686529  [29440/60000]\n",
      "loss: 0.514327  [30080/60000]\n",
      "loss: 0.525630  [30720/60000]\n",
      "loss: 0.651289  [31360/60000]\n",
      "loss: 0.562556  [32000/60000]\n",
      "loss: 0.542189  [32640/60000]\n",
      "loss: 0.440966  [33280/60000]\n",
      "loss: 0.417904  [33920/60000]\n",
      "loss: 0.400429  [34560/60000]\n",
      "loss: 0.474941  [35200/60000]\n",
      "loss: 0.679864  [35840/60000]\n",
      "loss: 0.603200  [36480/60000]\n",
      "loss: 0.530691  [37120/60000]\n",
      "loss: 0.655352  [37760/60000]\n",
      "loss: 0.511494  [38400/60000]\n",
      "loss: 0.570920  [39040/60000]\n",
      "loss: 0.645724  [39680/60000]\n",
      "loss: 0.807715  [40320/60000]\n",
      "loss: 0.570857  [40960/60000]\n",
      "loss: 0.321609  [41600/60000]\n",
      "loss: 0.666971  [42240/60000]\n",
      "loss: 0.503628  [42880/60000]\n",
      "loss: 0.381664  [43520/60000]\n",
      "loss: 0.564443  [44160/60000]\n",
      "loss: 0.601975  [44800/60000]\n",
      "loss: 0.745991  [45440/60000]\n",
      "loss: 0.496560  [46080/60000]\n",
      "loss: 0.393228  [46720/60000]\n",
      "loss: 0.429959  [47360/60000]\n",
      "loss: 0.358390  [48000/60000]\n",
      "loss: 0.771093  [48640/60000]\n",
      "loss: 0.632008  [49280/60000]\n",
      "loss: 0.461632  [49920/60000]\n",
      "loss: 0.575712  [50560/60000]\n",
      "loss: 0.622390  [51200/60000]\n",
      "loss: 0.392290  [51840/60000]\n",
      "loss: 0.455888  [52480/60000]\n",
      "loss: 0.434050  [53120/60000]\n",
      "loss: 0.545597  [53760/60000]\n",
      "loss: 0.552224  [54400/60000]\n",
      "loss: 0.386284  [55040/60000]\n",
      "loss: 0.383832  [55680/60000]\n",
      "loss: 0.313489  [56320/60000]\n",
      "loss: 0.406088  [56960/60000]\n",
      "loss: 0.479654  [57600/60000]\n",
      "loss: 0.622785  [58240/60000]\n",
      "loss: 0.551145  [58880/60000]\n",
      "loss: 0.313050  [59520/60000]\n",
      "Test Error: \n",
      " Accuracy: 93.5%, Avg loss: 0.211207 \n",
      "\n",
      "Regular workflow takes 31.17466425895691 seconds.\n"
     ]
    }
   ],
   "source": [
    "import time\n",
    "\n",
    "start = time.time()\n",
    "workflow(\n",
    "    model=NeuralNetwork().to(\"cpu\"),\n",
    ")\n",
    "end = time.time()\n",
    "print(f\"Regular workflow takes {end - start} seconds.\")\n"
   ]
  },
  {
   "cell_type": "markdown",
   "metadata": {},
   "source": [
    "### Run workflow with Covalent\n",
    "\n",
    "First, we convert the normal workflow function into a Covalent workflow function.\n",
    "\n",
    "This can be done in two ways. The most convenient method is to add `ct.electron` decorators to each of the task functions defined above and `ct.lattice` decorator to the workflow function.\n",
    "\n",
    "For example,\n",
    "\n",
    "```python\n",
    "@ct.electron\n",
    "def data_loader(...):\n",
    "    ...\n",
    "\n",
    "\n",
    "@ct.electron\n",
    "def train_over_one_epoch(...):\n",
    "    ...\n",
    "\n",
    "\n",
    "@ct.electron\n",
    "def workflow(...):\n",
    "    ...\n",
    "```\n",
    "\n",
    "Alternatively, we can also use the decorator functions (shown in the cell below):"
   ]
  },
  {
   "cell_type": "code",
   "execution_count": 12,
   "metadata": {},
   "outputs": [],
   "source": [
    "# Convert tasks to electrons\n",
    "data_loader = ct.electron(data_loader)\n",
    "get_optimizer = ct.electron(get_optimizer)\n",
    "train_over_one_epoch = ct.electron(train_over_one_epoch)\n",
    "train_model = ct.electron(train_model)\n",
    "test = ct.electron(test)\n",
    "\n",
    "# Convert workflow to lattice\n",
    "workflow = ct.lattice(workflow)\n"
   ]
  },
  {
   "cell_type": "markdown",
   "metadata": {},
   "source": [
    "Finally, Covalent dispatcher (`ct.dispatch`) can be used to dispatch the workflow."
   ]
  },
  {
   "cell_type": "code",
   "execution_count": 13,
   "metadata": {},
   "outputs": [
    {
     "name": "stdout",
     "output_type": "stream",
     "text": [
      "Dispatch id: 94e1effd-5d6a-4b1d-b408-5eecb0ad12cb\n",
      "Covalent workflow takes 0:00:40.733787 seconds.\n"
     ]
    }
   ],
   "source": [
    "dispatch_id = ct.dispatch(workflow)(\n",
    "    model=NeuralNetwork().to(\"cpu\"),\n",
    ")\n",
    "print(f\"Dispatch id: {dispatch_id}\")\n",
    "result = ct.get_result(dispatch_id=dispatch_id, wait=True, results_dir=\"./results\")\n",
    "print(f\"Covalent workflow takes {result.end_time - result.start_time} seconds.\")\n"
   ]
  },
  {
   "cell_type": "markdown",
   "metadata": {},
   "source": [
    "Uncomment and run cell with print statement to view a summary of the _result_ object."
   ]
  },
  {
   "cell_type": "code",
   "execution_count": 14,
   "metadata": {},
   "outputs": [],
   "source": [
    "# print(result)\n"
   ]
  },
  {
   "cell_type": "markdown",
   "metadata": {},
   "source": [
    "The _result_ object is stored in the `./results/[dispatch_id]` folder. This is important because the outputs of the print statement are stored in the `./results/[dispatch_id]/stdout.log` file.\n",
    "\n",
    "<div align=\"center\">\n",
    "<img src=\"././mnist_images/covalent_workflow_loss.png\"  width=\"45%\" height=\"45%\"/>\n",
    "</div>"
   ]
  },
  {
   "cell_type": "markdown",
   "metadata": {},
   "source": [
    "Once the workflow has been dispatched, the results can be tracked on the covalent UI browser. Use `covalent status` (shown below) to find the UI browser address. "
   ]
  },
  {
   "cell_type": "code",
   "execution_count": 15,
   "metadata": {},
   "outputs": [
    {
     "name": "stdout",
     "output_type": "stream",
     "text": [
      "Covalent server is running at http://0.0.0.0:48008.\n"
     ]
    }
   ],
   "source": [
    "!covalent status\n"
   ]
  },
  {
   "cell_type": "markdown",
   "metadata": {},
   "source": [
    "Clicking on `http://0.0.0.0:48008` we can see the UI browser which lists the various dispatch ids.\n",
    "\n",
    "<div align=\"center\">\n",
    "<img src=\"././mnist_images/ui_dispatch_ids.png\"  width=\"95%\" height=\"95%\"/>\n",
    "</div>"
   ]
  },
  {
   "cell_type": "markdown",
   "metadata": {},
   "source": [
    "Clicking on the dispatch id, we can see the details of the workflow execution. Note the task execution dependency graph. \n",
    "\n",
    "<div align=\"center\">\n",
    "<img src=\"././mnist_images/ui_workflow.png\"  width=\"95%\" height=\"95%\"/>\n",
    "</div>"
   ]
  },
  {
   "cell_type": "markdown",
   "metadata": {},
   "source": [
    "Furthermore, the progress and status of the tasks (`get_optimizer`, `data_loader` etc.) can also be tracked in the Covalent UI."
   ]
  },
  {
   "cell_type": "markdown",
   "metadata": {},
   "source": [
    "### Conclusion\n",
    "\n",
    "In this tutorial, we trained a MNIST classifier using a workflow comprised of tasks. Then, we converted this workflow into a Covalent workflow. Here, we summarize some of the added benefits of using Covalent.\n",
    "\n",
    "* Covalent allows the user to deploy multiple workflows without having to wait for them to finish running. \n",
    "\n",
    "* A Covalent workflow can be _dispatched_ to take advantage of automatic parallelization, user friendly interface etc. but it can also just as easily be run as a normal Python function. Hence, adding the electron / lattice decorators only enhances what can be done with the workflow with a minimum overhead. For example, in this workflow the training and testing of dataloaders (I/O bound tasks) are mutually independent and hence would be automatically parallelized.\n",
    "\n",
    "* Execution time for Covalent workflows and tasks are readily available without needing any additional code.\n",
    "\n",
    "### References:\n",
    "\n",
    "[1] https://pytorch.org/tutorials/beginner/basics/quickstart_tutorial.html"
   ]
  }
 ],
 "metadata": {
  "interpreter": {
   "hash": "497139f919dadc5e613ed634ff9107622fdaea40400342bdf68cd50a71d28343"
  },
  "kernelspec": {
   "display_name": "Python 3.8.12 ('covalent-pytorch-dev')",
   "language": "python",
   "name": "python3"
  },
  "language_info": {
   "codemirror_mode": {
    "name": "ipython",
    "version": 3
   },
   "file_extension": ".py",
   "mimetype": "text/x-python",
   "name": "python",
   "nbconvert_exporter": "python",
   "pygments_lexer": "ipython3",
   "version": "3.8.12"
  },
  "orig_nbformat": 4
 },
 "nbformat": 4,
 "nbformat_minor": 2
}
