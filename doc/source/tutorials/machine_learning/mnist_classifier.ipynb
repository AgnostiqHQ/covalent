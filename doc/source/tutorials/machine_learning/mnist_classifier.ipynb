{
 "cells": [
  {
   "cell_type": "markdown",
   "metadata": {},
   "source": [
    "# MNIST classifier tutorial\n",
    "\n",
    "* MNIST database of handwritten digits is a popular dataset to demonstrate machine learning classifier training.\n",
    "* In this tutorial, we train a basic Neural Network (NN) classifier using PyTorch.\n",
    "* Once the basic NN classifier training workflow has been defined, it is easily converted to a Covalent workflow.\n",
    "* This tutorial has two primary objectives.\n",
    "* One goal is to show the ease with which a \"normal\" workflow can be adapted to a Covalent workflow.\n",
    "* The second objective is to display the browser-based Covalent workflow tracking UI."
   ]
  },
  {
   "cell_type": "markdown",
   "metadata": {},
   "source": [
    "### Getting started\n",
    "This tutorial requires installing Covalent, PyTorch and Torchvision."
   ]
  },
  {
   "cell_type": "code",
   "execution_count": 1,
   "metadata": {},
   "outputs": [],
   "source": [
    "# !pip install cova\n",
    "# !conda install pytorch torchvision -c pytorch -y\n"
   ]
  },
  {
   "cell_type": "markdown",
   "metadata": {},
   "source": [
    "Once Covalent has been installed, run `covalent start` to start the dispatcher and browser-based UI servers."
   ]
  },
  {
   "cell_type": "code",
   "execution_count": 2,
   "metadata": {},
   "outputs": [],
   "source": [
    "# !covalent start   # Start the server\n",
    "# !covalent status  # Check server status\n",
    "# !covalent stop    # Stop the server\n"
   ]
  },
  {
   "cell_type": "markdown",
   "metadata": {},
   "source": [
    "Import Covalent, PyTorch and other relevant libraries."
   ]
  },
  {
   "cell_type": "code",
   "execution_count": 3,
   "metadata": {},
   "outputs": [],
   "source": [
    "import covalent as ct\n",
    "\n",
    "import torch\n",
    "import torch.nn.functional as F\n",
    "\n",
    "from pathlib import Path\n",
    "\n",
    "from torch import nn\n",
    "from torch.utils.data import DataLoader\n",
    "from torchvision import datasets\n",
    "from torchvision.transforms import ToTensor\n",
    "from typing import Tuple\n"
   ]
  },
  {
   "cell_type": "markdown",
   "metadata": {},
   "source": [
    "### Construct MNIST classifier training workflow\n",
    "\n",
    "Construct a convolutional neural network model by inheriting from `torch.nn.Module`."
   ]
  },
  {
   "cell_type": "code",
   "execution_count": 4,
   "metadata": {},
   "outputs": [],
   "source": [
    "class NeuralNetwork(nn.Module):\n",
    "    def __init__(self):\n",
    "        super(NeuralNetwork, self).__init__()\n",
    "        self.conv1 = nn.Conv2d(1, 10, kernel_size=5)\n",
    "        self.conv2 = nn.Conv2d(10, 20, kernel_size=5)\n",
    "        self.conv2_drop = nn.Dropout2d()\n",
    "        self.fc1 = nn.Linear(320, 50)\n",
    "        self.fc2 = nn.Linear(50, 10)\n",
    "\n",
    "    def forward(self, x):\n",
    "        x = F.relu(F.max_pool2d(self.conv1(x), 2))\n",
    "        x = F.relu(F.max_pool2d(self.conv2_drop(self.conv2(x)), 2))\n",
    "        x = x.view(-1, 320)\n",
    "        x = F.relu(self.fc1(x))\n",
    "        x = F.dropout(x, training=self.training)\n",
    "        x = self.fc2(x)\n",
    "        return F.log_softmax(x)\n"
   ]
  },
  {
   "cell_type": "markdown",
   "metadata": {},
   "source": [
    "Construct a data loader to retrieve the classifier training and test data."
   ]
  },
  {
   "cell_type": "code",
   "execution_count": 5,
   "metadata": {},
   "outputs": [],
   "source": [
    "@ct.electron\n",
    "def data_loader(\n",
    "    batch_size: int,\n",
    "    train: bool,\n",
    "    download: bool = True,\n",
    "    shuffle: bool = True,\n",
    "    data_dir: str = \"~/data/mnist/\",\n",
    ") -> torch.utils.data.dataloader.DataLoader:\n",
    "    \"\"\"MNIST data loader.\"\"\"\n",
    "\n",
    "    data_dir = Path(data_dir).expanduser()\n",
    "    data_dir.mkdir(parents=True, exist_ok=True)\n",
    "\n",
    "    data = datasets.MNIST(data_dir, train=train, download=download, transform=ToTensor())\n",
    "\n",
    "    return DataLoader(data, batch_size=batch_size, shuffle=shuffle)\n"
   ]
  },
  {
   "cell_type": "markdown",
   "metadata": {},
   "source": [
    "Construct a function to retrieve a Stochastic Gradient Descent optimizer."
   ]
  },
  {
   "cell_type": "code",
   "execution_count": 6,
   "metadata": {},
   "outputs": [],
   "source": [
    "@ct.electron\n",
    "def get_optimizer(\n",
    "    model: NeuralNetwork, learning_rate: float, momentum: float\n",
    ") -> torch.optim.Optimizer:\n",
    "    \"\"\"Get Stochastic Gradient Descent optimizer.\"\"\"\n",
    "\n",
    "    return torch.optim.SGD(model.parameters(), learning_rate, momentum)\n"
   ]
  },
  {
   "cell_type": "markdown",
   "metadata": {},
   "source": [
    "Write a function to train the model over one epoch."
   ]
  },
  {
   "cell_type": "code",
   "execution_count": 7,
   "metadata": {},
   "outputs": [],
   "source": [
    "@ct.electron\n",
    "def train_over_one_epoch(\n",
    "    dataloader: torch.utils.data.dataloader.DataLoader,\n",
    "    model: NeuralNetwork,\n",
    "    optimizer: torch.optim.Optimizer,\n",
    "    log_interval: int,\n",
    "    epoch: int,\n",
    "    loss_fn,\n",
    "    train_losses: list,\n",
    "    train_counter: int,\n",
    "    device: str = \"cpu\",\n",
    "):\n",
    "    \"\"\"Train neural network model over one epoch.\"\"\"\n",
    "\n",
    "    size = len(dataloader.dataset)\n",
    "    model.train()\n",
    "    for batch, (X, y) in enumerate(dataloader):\n",
    "        X, y = X.to(device), y.to(device)\n",
    "\n",
    "        # Compute prediction error\n",
    "        pred = model(X)\n",
    "        loss = loss_fn(pred, y)\n",
    "\n",
    "        # Backpropagation\n",
    "        optimizer.zero_grad()\n",
    "        loss.backward()\n",
    "        optimizer.step()\n",
    "\n",
    "        if batch % log_interval == 0:\n",
    "            loss, current = loss.item(), batch * len(X)\n",
    "            print(f\"loss: {loss:>7f}  [{current:>5d}/{size:>5d}]\")\n",
    "\n",
    "            train_losses.append(loss)\n",
    "            train_counter.append((batch * 64) + ((epoch - 1) * len(dataloader.dataset)))\n",
    "\n",
    "    return model, optimizer\n"
   ]
  },
  {
   "cell_type": "markdown",
   "metadata": {},
   "source": [
    "Write a function to test the performance of the classifier for a given loss function."
   ]
  },
  {
   "cell_type": "code",
   "execution_count": 8,
   "metadata": {},
   "outputs": [],
   "source": [
    "@ct.electron\n",
    "def test(\n",
    "    dataloader: torch.utils.data.dataloader.DataLoader,\n",
    "    model: NeuralNetwork,\n",
    "    loss_fn: callable,\n",
    "    device: str = \"cpu\",\n",
    ") -> None:\n",
    "    \"\"\"Test the model performance.\"\"\"\n",
    "\n",
    "    size = len(dataloader.dataset)\n",
    "    num_batches = len(dataloader)\n",
    "    model.eval()\n",
    "    test_loss, correct = 0, 0\n",
    "    with torch.no_grad():\n",
    "        for X, y in dataloader:\n",
    "            X, y = X.to(device), y.to(device)\n",
    "            pred = model(X)\n",
    "            test_loss += loss_fn(pred, y).item()\n",
    "            correct += (pred.argmax(1) == y).type(torch.float).sum().item()\n",
    "    test_loss /= num_batches\n",
    "    correct /= size\n",
    "    print(f\"Test Error: \\n Accuracy: {(100*correct):>0.1f}%, Avg loss: {test_loss:>8f} \\n\")\n"
   ]
  },
  {
   "cell_type": "markdown",
   "metadata": {},
   "source": [
    "Write a function to train the model over several epochs and save the final state of the _optimizer_ and the _neural network_."
   ]
  },
  {
   "cell_type": "code",
   "execution_count": 9,
   "metadata": {},
   "outputs": [],
   "source": [
    "@ct.electron\n",
    "def train_model(\n",
    "    train_dataloader: torch.utils.data.dataloader.DataLoader,\n",
    "    train_losses: list,\n",
    "    train_counter: int,\n",
    "    log_interval: int,\n",
    "    model: NeuralNetwork,\n",
    "    optimizer: torch.optim.Optimizer,\n",
    "    loss_fn: callable,\n",
    "    epochs: int,\n",
    "    results_dir: str = \"~/data/mnist/results/\",\n",
    ") -> Tuple[NeuralNetwork,]:\n",
    "    \"\"\"Train neural network model.\"\"\"\n",
    "\n",
    "    results_dir = Path(results_dir).expanduser()\n",
    "    results_dir.mkdir(parents=True, exist_ok=True)\n",
    "\n",
    "    for epoch in range(1, epochs + 1):\n",
    "        print(f\"Epoch {epoch}\\n-------------------------------\")\n",
    "        model, optimizer = train_over_one_epoch(\n",
    "            dataloader=train_dataloader,\n",
    "            model=model,\n",
    "            optimizer=optimizer,\n",
    "            train_losses=train_losses,\n",
    "            train_counter=train_counter,\n",
    "            log_interval=log_interval,\n",
    "            epoch=epoch,\n",
    "            loss_fn=loss_fn,\n",
    "        )\n",
    "\n",
    "    # Save model and optimizer\n",
    "    torch.save(model.state_dict(), f\"{results_dir}model.pth\")\n",
    "    torch.save(optimizer.state_dict(), f\"{results_dir}optimizer.pth\")\n",
    "    return model, optimizer\n"
   ]
  },
  {
   "cell_type": "markdown",
   "metadata": {},
   "source": [
    "Finally, we put all these tasks together to construct the MNIST classifier training and test workflow."
   ]
  },
  {
   "cell_type": "code",
   "execution_count": 10,
   "metadata": {},
   "outputs": [],
   "source": [
    "@ct.lattice\n",
    "def workflow(\n",
    "    model: NeuralNetwork,\n",
    "    epochs: int = 2,\n",
    "    batch_size_train: int = 64,\n",
    "    batch_size_test: int = 1000,\n",
    "    learning_rate: float = 0.01,\n",
    "    momentum: float = 0.5,\n",
    "    log_interval: int = 10,\n",
    "    loss_fn: callable = F.nll_loss,\n",
    "):\n",
    "    \"\"\"MNIST classifier training workflow\"\"\"\n",
    "\n",
    "    train_dataloader = data_loader(batch_size=batch_size_train, train=True)\n",
    "    test_dataloader = data_loader(batch_size=batch_size_test, train=False)\n",
    "\n",
    "    train_losses, train_counter, test_losses = [], [], []\n",
    "    optimizer = get_optimizer(model=model, learning_rate=learning_rate, momentum=momentum)\n",
    "    model, optimizer = train_model(\n",
    "        train_dataloader=train_dataloader,\n",
    "        train_losses=train_losses,\n",
    "        train_counter=train_counter,\n",
    "        log_interval=log_interval,\n",
    "        model=model,\n",
    "        optimizer=optimizer,\n",
    "        loss_fn=loss_fn,\n",
    "        epochs=epochs,\n",
    "    )\n",
    "    test(dataloader=test_dataloader, model=model, loss_fn=loss_fn)\n"
   ]
  },
  {
   "cell_type": "markdown",
   "metadata": {},
   "source": [
    "### Run MNIST classifier workflow as a normal function\n",
    "\n",
    "Run the MNIST classifier workflow to benchmark the performance and the time taken to train and test the model."
   ]
  },
  {
   "cell_type": "code",
   "execution_count": 11,
   "metadata": {},
   "outputs": [
    {
     "name": "stdout",
     "output_type": "stream",
     "text": [
      "Epoch 1\n",
      "-------------------------------\n",
      "loss: 2.314262  [    0/60000]\n",
      "loss: 2.309220  [  640/60000]\n"
     ]
    },
    {
     "name": "stderr",
     "output_type": "stream",
     "text": [
      "/var/folders/hn/dnjxkq7946j9wpxv1cy9pm2m0000gn/T/ipykernel_22240/3977843674.py:17: UserWarning: Implicit dimension choice for log_softmax has been deprecated. Change the call to include dim=X as an argument.\n",
      "  return F.log_softmax(x)\n"
     ]
    },
    {
     "name": "stdout",
     "output_type": "stream",
     "text": [
      "loss: 2.300434  [ 1280/60000]\n",
      "loss: 2.307727  [ 1920/60000]\n",
      "loss: 2.285933  [ 2560/60000]\n",
      "loss: 2.297280  [ 3200/60000]\n",
      "loss: 2.320525  [ 3840/60000]\n",
      "loss: 2.285317  [ 4480/60000]\n",
      "loss: 2.291002  [ 5120/60000]\n",
      "loss: 2.279628  [ 5760/60000]\n",
      "loss: 2.289176  [ 6400/60000]\n",
      "loss: 2.289491  [ 7040/60000]\n",
      "loss: 2.291130  [ 7680/60000]\n",
      "loss: 2.285216  [ 8320/60000]\n",
      "loss: 2.287600  [ 8960/60000]\n",
      "loss: 2.280427  [ 9600/60000]\n",
      "loss: 2.255551  [10240/60000]\n",
      "loss: 2.248369  [10880/60000]\n",
      "loss: 2.271496  [11520/60000]\n",
      "loss: 2.265409  [12160/60000]\n",
      "loss: 2.270688  [12800/60000]\n",
      "loss: 2.174972  [13440/60000]\n",
      "loss: 2.220165  [14080/60000]\n",
      "loss: 2.192686  [14720/60000]\n",
      "loss: 2.218361  [15360/60000]\n",
      "loss: 2.184808  [16000/60000]\n",
      "loss: 2.138504  [16640/60000]\n",
      "loss: 2.182030  [17280/60000]\n",
      "loss: 2.179194  [17920/60000]\n",
      "loss: 2.095106  [18560/60000]\n",
      "loss: 2.125116  [19200/60000]\n",
      "loss: 1.867359  [19840/60000]\n",
      "loss: 1.864085  [20480/60000]\n",
      "loss: 1.872849  [21120/60000]\n",
      "loss: 1.941268  [21760/60000]\n",
      "loss: 1.805727  [22400/60000]\n",
      "loss: 1.723192  [23040/60000]\n",
      "loss: 1.791412  [23680/60000]\n",
      "loss: 1.530402  [24320/60000]\n",
      "loss: 1.391042  [24960/60000]\n",
      "loss: 1.578561  [25600/60000]\n",
      "loss: 1.406973  [26240/60000]\n",
      "loss: 1.422725  [26880/60000]\n",
      "loss: 1.470244  [27520/60000]\n",
      "loss: 1.318651  [28160/60000]\n",
      "loss: 1.095117  [28800/60000]\n",
      "loss: 1.241699  [29440/60000]\n",
      "loss: 1.372432  [30080/60000]\n",
      "loss: 1.441308  [30720/60000]\n",
      "loss: 1.215091  [31360/60000]\n",
      "loss: 1.109426  [32000/60000]\n",
      "loss: 1.064630  [32640/60000]\n",
      "loss: 1.336095  [33280/60000]\n",
      "loss: 1.179125  [33920/60000]\n",
      "loss: 1.211075  [34560/60000]\n",
      "loss: 1.035955  [35200/60000]\n",
      "loss: 0.718380  [35840/60000]\n",
      "loss: 0.843273  [36480/60000]\n",
      "loss: 1.008871  [37120/60000]\n",
      "loss: 0.873064  [37760/60000]\n",
      "loss: 0.980032  [38400/60000]\n",
      "loss: 1.136859  [39040/60000]\n",
      "loss: 0.908261  [39680/60000]\n",
      "loss: 0.816649  [40320/60000]\n",
      "loss: 0.915036  [40960/60000]\n",
      "loss: 0.960634  [41600/60000]\n",
      "loss: 0.866106  [42240/60000]\n",
      "loss: 0.796465  [42880/60000]\n",
      "loss: 0.704355  [43520/60000]\n",
      "loss: 0.797825  [44160/60000]\n",
      "loss: 0.795920  [44800/60000]\n",
      "loss: 0.679901  [45440/60000]\n",
      "loss: 1.052549  [46080/60000]\n",
      "loss: 0.911961  [46720/60000]\n",
      "loss: 1.081757  [47360/60000]\n",
      "loss: 1.010577  [48000/60000]\n",
      "loss: 0.882733  [48640/60000]\n",
      "loss: 0.803447  [49280/60000]\n",
      "loss: 0.792359  [49920/60000]\n",
      "loss: 0.656139  [50560/60000]\n",
      "loss: 0.711704  [51200/60000]\n",
      "loss: 0.906029  [51840/60000]\n",
      "loss: 0.711444  [52480/60000]\n",
      "loss: 0.805061  [53120/60000]\n",
      "loss: 0.844642  [53760/60000]\n",
      "loss: 0.706502  [54400/60000]\n",
      "loss: 0.568192  [55040/60000]\n",
      "loss: 0.693481  [55680/60000]\n",
      "loss: 0.633096  [56320/60000]\n",
      "loss: 0.756431  [56960/60000]\n",
      "loss: 0.929937  [57600/60000]\n",
      "loss: 0.916869  [58240/60000]\n",
      "loss: 0.686993  [58880/60000]\n",
      "loss: 1.329063  [59520/60000]\n",
      "Epoch 2\n",
      "-------------------------------\n",
      "loss: 0.856677  [    0/60000]\n",
      "loss: 0.919273  [  640/60000]\n",
      "loss: 0.753738  [ 1280/60000]\n",
      "loss: 0.792037  [ 1920/60000]\n",
      "loss: 0.554822  [ 2560/60000]\n",
      "loss: 0.757867  [ 3200/60000]\n",
      "loss: 0.672058  [ 3840/60000]\n",
      "loss: 0.641158  [ 4480/60000]\n",
      "loss: 0.712298  [ 5120/60000]\n",
      "loss: 0.722581  [ 5760/60000]\n",
      "loss: 0.572001  [ 6400/60000]\n",
      "loss: 0.591723  [ 7040/60000]\n",
      "loss: 0.624926  [ 7680/60000]\n",
      "loss: 0.505738  [ 8320/60000]\n",
      "loss: 0.721406  [ 8960/60000]\n",
      "loss: 0.782721  [ 9600/60000]\n",
      "loss: 0.706009  [10240/60000]\n",
      "loss: 0.587761  [10880/60000]\n",
      "loss: 0.710276  [11520/60000]\n",
      "loss: 0.571590  [12160/60000]\n",
      "loss: 0.578875  [12800/60000]\n",
      "loss: 0.400930  [13440/60000]\n",
      "loss: 1.131981  [14080/60000]\n",
      "loss: 0.755752  [14720/60000]\n",
      "loss: 0.438978  [15360/60000]\n",
      "loss: 0.387826  [16000/60000]\n",
      "loss: 0.498042  [16640/60000]\n",
      "loss: 0.579766  [17280/60000]\n",
      "loss: 0.467742  [17920/60000]\n",
      "loss: 0.407178  [18560/60000]\n",
      "loss: 0.475483  [19200/60000]\n",
      "loss: 0.448147  [19840/60000]\n",
      "loss: 0.553316  [20480/60000]\n",
      "loss: 0.462485  [21120/60000]\n",
      "loss: 0.637100  [21760/60000]\n",
      "loss: 0.727791  [22400/60000]\n",
      "loss: 0.751904  [23040/60000]\n",
      "loss: 0.612261  [23680/60000]\n",
      "loss: 0.633491  [24320/60000]\n",
      "loss: 0.703987  [24960/60000]\n",
      "loss: 0.604271  [25600/60000]\n",
      "loss: 0.487245  [26240/60000]\n",
      "loss: 0.766047  [26880/60000]\n",
      "loss: 0.524771  [27520/60000]\n",
      "loss: 0.551957  [28160/60000]\n",
      "loss: 0.622462  [28800/60000]\n",
      "loss: 0.532653  [29440/60000]\n",
      "loss: 0.756965  [30080/60000]\n",
      "loss: 0.498972  [30720/60000]\n",
      "loss: 0.626322  [31360/60000]\n",
      "loss: 0.542453  [32000/60000]\n",
      "loss: 0.787952  [32640/60000]\n",
      "loss: 0.436407  [33280/60000]\n",
      "loss: 0.609007  [33920/60000]\n",
      "loss: 0.453729  [34560/60000]\n",
      "loss: 0.837537  [35200/60000]\n",
      "loss: 0.362463  [35840/60000]\n",
      "loss: 0.566560  [36480/60000]\n",
      "loss: 0.517542  [37120/60000]\n",
      "loss: 0.894714  [37760/60000]\n",
      "loss: 0.577924  [38400/60000]\n",
      "loss: 0.426046  [39040/60000]\n",
      "loss: 0.447044  [39680/60000]\n",
      "loss: 0.458852  [40320/60000]\n",
      "loss: 0.764924  [40960/60000]\n",
      "loss: 0.535886  [41600/60000]\n",
      "loss: 0.692368  [42240/60000]\n",
      "loss: 0.651955  [42880/60000]\n",
      "loss: 0.760368  [43520/60000]\n",
      "loss: 0.378287  [44160/60000]\n",
      "loss: 0.325335  [44800/60000]\n",
      "loss: 0.468767  [45440/60000]\n",
      "loss: 0.584374  [46080/60000]\n",
      "loss: 0.685216  [46720/60000]\n",
      "loss: 0.521216  [47360/60000]\n",
      "loss: 0.539415  [48000/60000]\n",
      "loss: 0.523447  [48640/60000]\n",
      "loss: 0.296877  [49280/60000]\n",
      "loss: 0.509371  [49920/60000]\n",
      "loss: 0.519758  [50560/60000]\n",
      "loss: 0.488830  [51200/60000]\n",
      "loss: 0.450093  [51840/60000]\n",
      "loss: 0.458128  [52480/60000]\n",
      "loss: 0.358846  [53120/60000]\n",
      "loss: 0.389881  [53760/60000]\n",
      "loss: 0.574277  [54400/60000]\n",
      "loss: 0.651544  [55040/60000]\n",
      "loss: 0.364839  [55680/60000]\n",
      "loss: 0.446264  [56320/60000]\n",
      "loss: 0.762631  [56960/60000]\n",
      "loss: 0.466848  [57600/60000]\n",
      "loss: 0.479886  [58240/60000]\n",
      "loss: 0.458390  [58880/60000]\n",
      "loss: 0.401402  [59520/60000]\n",
      "Test Error: \n",
      " Accuracy: 93.6%, Avg loss: 0.221102 \n",
      "\n",
      "Regular workflow takes 31.871536254882812 seconds.\n"
     ]
    }
   ],
   "source": [
    "import time\n",
    "\n",
    "start = time.time()\n",
    "workflow(\n",
    "    model=NeuralNetwork().to(\"cpu\"),\n",
    ")\n",
    "end = time.time()\n",
    "print(f\"Regular workflow takes {end - start} seconds.\")\n"
   ]
  },
  {
   "cell_type": "markdown",
   "metadata": {},
   "source": [
    "<div align=\"center\">\n",
    "<img src=\"././mnist_images/regular_workflow_loss.png\"  width=\"95%\" height=\"95%\"/>\n",
    "</div>"
   ]
  },
  {
   "cell_type": "markdown",
   "metadata": {},
   "source": [
    "### Run workflow with Covalent\n",
    "\n",
    "The Covalent dispatcher (`ct.dispatch`) can be used to dispatch the workflow."
   ]
  },
  {
   "cell_type": "code",
   "execution_count": 18,
   "metadata": {},
   "outputs": [],
   "source": [
    "dispatch_id = ct.dispatch(workflow)(\n",
    "    model=NeuralNetwork().to(\"cpu\"),\n",
    ")\n",
    "print(f\"Dispatch id: {dispatch_id}\")\n",
    "result = ct.get_result(dispatch_id=dispatch_id, wait=True)\n",
    "print(f\"Covalent workflow takes {result.end_time - result.start_time} seconds.\")\n"
   ]
  },
  {
   "cell_type": "code",
   "execution_count": 15,
   "metadata": {},
   "outputs": [
    {
     "name": "stdout",
     "output_type": "stream",
     "text": [
      "\n",
      "Lattice Result\n",
      "==============\n",
      "status: COMPLETED\n",
      "result: None\n",
      "inputs: {'args': [NeuralNetwork(\n",
      "  (conv1): Conv2d(1, 10, kernel_size=(5, 5), stride=(1, 1))\n",
      "  (conv2): Conv2d(10, 20, kernel_size=(5, 5), stride=(1, 1))\n",
      "  (conv2_drop): Dropout2d(p=0.5, inplace=False)\n",
      "  (fc1): Linear(in_features=320, out_features=50, bias=True)\n",
      "  (fc2): Linear(in_features=50, out_features=10, bias=True)\n",
      ")], 'kwargs': {}}\n",
      "error: None\n",
      "\n",
      "start_time: 2022-02-25 23:15:38.814316+00:00\n",
      "end_time: 2022-02-25 23:16:20.271711+00:00\n",
      "\n",
      "results_dir: /Users/faiyaz/Code/covalent/doc/source/tutorials/machine_learning/results\n",
      "dispatch_id: bd610c55-f4fc-4aa9-964f-092c23c33ab7\n",
      "\n",
      "Node Outputs\n",
      "------------\n",
      "data_loader(0): <torch.utils.data.dataloader.DataLoader object at 0x7fad2282e790>\n",
      ":parameter:64(1): 64\n",
      ":parameter:True(2): True\n",
      "data_loader(3): <torch.utils.data.dataloader.DataLoader object at 0x7fad316424c0>\n",
      ":parameter:1000(4): 1000\n",
      ":parameter:False(5): False\n",
      "get_optimizer(6): SGD (\n",
      "Parameter Group 0\n",
      "    dampening: 0\n",
      "    lr: 0.01\n",
      "    momentum: 0.5\n",
      "    nesterov: False\n",
      "    weight_decay: 0\n",
      ")\n",
      ":parameter:NeuralNetwork(\n",
      "  (conv1): Conv2d(1, 10, kernel_size=(5, 5), stride=(1, 1))\n",
      "  (conv2): Conv2d(10, 20, kernel_size=(5, 5), stride=(1, 1))\n",
      "  (conv2_drop): Dropout2d(p=0.5, inplace=False)\n",
      "  (fc1): Linear(in_features=320, out_features=50, bias=True)\n",
      "  (fc2): Linear(in_features=50, out_features=10, bias=True)\n",
      ")(7): NeuralNetwork(\n",
      "  (conv1): Conv2d(1, 10, kernel_size=(5, 5), stride=(1, 1))\n",
      "  (conv2): Conv2d(10, 20, kernel_size=(5, 5), stride=(1, 1))\n",
      "  (conv2_drop): Dropout2d(p=0.5, inplace=False)\n",
      "  (fc1): Linear(in_features=320, out_features=50, bias=True)\n",
      "  (fc2): Linear(in_features=50, out_features=10, bias=True)\n",
      ")\n",
      ":parameter:0.01(8): 0.01\n",
      ":parameter:0.5(9): 0.5\n",
      "train_model(10): (NeuralNetwork(\n",
      "  (conv1): Conv2d(1, 10, kernel_size=(5, 5), stride=(1, 1))\n",
      "  (conv2): Conv2d(10, 20, kernel_size=(5, 5), stride=(1, 1))\n",
      "  (conv2_drop): Dropout2d(p=0.5, inplace=False)\n",
      "  (fc1): Linear(in_features=320, out_features=50, bias=True)\n",
      "  (fc2): Linear(in_features=50, out_features=10, bias=True)\n",
      "), SGD (\n",
      "Parameter Group 0\n",
      "    dampening: 0\n",
      "    lr: 0.01\n",
      "    momentum: 0.5\n",
      "    nesterov: False\n",
      "    weight_decay: 0\n",
      "))\n",
      ":electron_list:(11): []\n",
      ":electron_list:(12): []\n",
      ":parameter:10(13): 10\n",
      ":parameter:NeuralNetwork(\n",
      "  (conv1): Conv2d(1, 10, kernel_size=(5, 5), stride=(1, 1))\n",
      "  (conv2): Conv2d(10, 20, kernel_size=(5, 5), stride=(1, 1))\n",
      "  (conv2_drop): Dropout2d(p=0.5, inplace=False)\n",
      "  (fc1): Linear(in_features=320, out_features=50, bias=True)\n",
      "  (fc2): Linear(in_features=50, out_features=10, bias=True)\n",
      ")(14): NeuralNetwork(\n",
      "  (conv1): Conv2d(1, 10, kernel_size=(5, 5), stride=(1, 1))\n",
      "  (conv2): Conv2d(10, 20, kernel_size=(5, 5), stride=(1, 1))\n",
      "  (conv2_drop): Dropout2d(p=0.5, inplace=False)\n",
      "  (fc1): Linear(in_features=320, out_features=50, bias=True)\n",
      "  (fc2): Linear(in_features=50, out_features=10, bias=True)\n",
      ")\n",
      ":parameter:<function nll_loss at 0x7fad109fc820>(15): <function nll_loss at 0x7fad109fc820>\n",
      ":parameter:2(16): 2\n",
      ":generated:train_model()[0](17): NeuralNetwork(\n",
      "  (conv1): Conv2d(1, 10, kernel_size=(5, 5), stride=(1, 1))\n",
      "  (conv2): Conv2d(10, 20, kernel_size=(5, 5), stride=(1, 1))\n",
      "  (conv2_drop): Dropout2d(p=0.5, inplace=False)\n",
      "  (fc1): Linear(in_features=320, out_features=50, bias=True)\n",
      "  (fc2): Linear(in_features=50, out_features=10, bias=True)\n",
      ")\n",
      ":generated:train_model()[1](18): SGD (\n",
      "Parameter Group 0\n",
      "    dampening: 0\n",
      "    lr: 0.01\n",
      "    momentum: 0.5\n",
      "    nesterov: False\n",
      "    weight_decay: 0\n",
      ")\n",
      "test(19): None\n",
      ":parameter:<function nll_loss at 0x7fad109fc820>(20): <function nll_loss at 0x7fad109fc820>\n",
      "\n"
     ]
    }
   ],
   "source": [
    "print(result)"
   ]
  },
  {
   "cell_type": "markdown",
   "metadata": {},
   "source": [
    "Once the workflow has been dispatched, the results can be tracked on the covalent UI browser. Use `covalent status` (shown below) to find the UI browser address. "
   ]
  },
  {
   "cell_type": "code",
   "execution_count": 14,
   "metadata": {},
   "outputs": [],
   "source": [
    "# !covalent status\n"
   ]
  },
  {
   "cell_type": "markdown",
   "metadata": {},
   "source": [
    "Clicking on `http://0.0.0.0:47007` we can see the UI browser which lists the various dispatch ids.\n",
    "\n",
    "<div align=\"center\">\n",
    "<img src=\"././mnist_images/ui_dispatch_ids.png\"  width=\"95%\" height=\"95%\"/>\n",
    "</div>"
   ]
  },
  {
   "cell_type": "markdown",
   "metadata": {},
   "source": [
    "Clicking on the dispatch id, we can see the details of the workflow execution. Note the task execution dependency graph. \n",
    "\n",
    "<div align=\"center\">\n",
    "<img src=\"././mnist_images/ui_workflow.png\"  width=\"95%\" height=\"95%\"/>\n",
    "</div>"
   ]
  },
  {
   "cell_type": "markdown",
   "metadata": {},
   "source": [
    "## Covalent concepts\n",
    "\n",
    "* Covalent allows the user to deploy multiple workflows without having to wait for them to finish running. [Supports asynchronous workflow deployment without any additional code???]\n",
    "\n",
    "* A Covalent workflow can be _dispatched_ to take advantage of automatic parallelization, user friendly interface etc. but it can also just as easily be run as a normal Python function. Hence, adding the electron / lattice decorators only enhances what we can be done with the workflow with a minimum overhead.\n",
    "\n",
    "* Execution time for Covalent workflows and subtasks are readily available without needing any additional code.\n",
    "\n",
    "References:\n",
    "- https://pytorch.org/tutorials/beginner/basics/quickstart_tutorial.html"
   ]
  },
  {
   "cell_type": "markdown",
   "metadata": {},
   "source": []
  }
 ],
 "metadata": {
  "interpreter": {
   "hash": "497139f919dadc5e613ed634ff9107622fdaea40400342bdf68cd50a71d28343"
  },
  "kernelspec": {
   "display_name": "Python 3.8.12 ('covalent-pytorch-dev')",
   "language": "python",
   "name": "python3"
  },
  "language_info": {
   "codemirror_mode": {
    "name": "ipython",
    "version": 3
   },
   "file_extension": ".py",
   "mimetype": "text/x-python",
   "name": "python",
   "nbconvert_exporter": "python",
   "pygments_lexer": "ipython3",
   "version": "3.8.12"
  },
  "orig_nbformat": 4
 },
 "nbformat": 4,
 "nbformat_minor": 2
}
