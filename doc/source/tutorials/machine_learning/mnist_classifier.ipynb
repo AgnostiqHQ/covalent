{
 "cells": [
  {
   "cell_type": "markdown",
   "metadata": {},
   "source": [
    "# MNIST classifier tutorial\n",
    "\n",
    "MNIST database of handwritten digits is a popular dataset to demonstrate machine learning classifiers. In this tutorial (based on [1]), we train a basic Neural Network (NN) classifier using PyTorch. Once classifier training workflow has been defined, it is easily converted to a Covalent workflow. This workflow can then be \"dispatched\" for execution and the task completion status / details can be tracked in a convenient browser-based user interface."
   ]
  },
  {
   "cell_type": "markdown",
   "metadata": {},
   "source": [
    "### Getting started\n",
    "This tutorial requires installing Covalent, PyTorch and Torchvision. Uncomment and run the following cell to install the libraries."
   ]
  },
  {
   "cell_type": "code",
   "execution_count": 1,
   "metadata": {},
   "outputs": [],
   "source": [
    "# !pip install cova\n",
    "# !conda install pytorch torchvision -c pytorch -y\n"
   ]
  },
  {
   "cell_type": "markdown",
   "metadata": {},
   "source": [
    "Once Covalent has been installed, uncomment and run `covalent start` to start the dispatcher and browser-based UI servers. Also, `covalent status / stop` are used to check the server status / stop the server."
   ]
  },
  {
   "cell_type": "code",
   "execution_count": 2,
   "metadata": {},
   "outputs": [],
   "source": [
    "# !covalent start   # Start the server\n",
    "# !covalent status  # Check server status\n",
    "# !covalent stop    # Stop the server\n"
   ]
  },
  {
   "cell_type": "markdown",
   "metadata": {},
   "source": [
    "Import Covalent, PyTorch and other relevant libraries."
   ]
  },
  {
   "cell_type": "code",
   "execution_count": 3,
   "metadata": {},
   "outputs": [],
   "source": [
    "import covalent as ct\n",
    "\n",
    "import torch\n",
    "import torch.nn.functional as F\n",
    "\n",
    "from pathlib import Path\n",
    "\n",
    "from torch import nn\n",
    "from torch.utils.data import DataLoader\n",
    "from torchvision import datasets\n",
    "from torchvision.transforms import ToTensor\n",
    "from typing import Tuple\n"
   ]
  },
  {
   "cell_type": "markdown",
   "metadata": {},
   "source": [
    "### Construct MNIST classifier training workflow\n",
    "\n",
    "Construct a convolutional neural network model by inheriting from `torch.nn.Module`."
   ]
  },
  {
   "cell_type": "code",
   "execution_count": 4,
   "metadata": {},
   "outputs": [],
   "source": [
    "class NeuralNetwork(nn.Module):\n",
    "    def __init__(self):\n",
    "        super(NeuralNetwork, self).__init__()\n",
    "        self.conv1 = nn.Conv2d(1, 10, kernel_size=5)\n",
    "        self.conv2 = nn.Conv2d(10, 20, kernel_size=5)\n",
    "        self.conv2_drop = nn.Dropout2d()\n",
    "        self.fc1 = nn.Linear(320, 50)\n",
    "        self.fc2 = nn.Linear(50, 10)\n",
    "\n",
    "    def forward(self, x):\n",
    "        x = F.relu(F.max_pool2d(self.conv1(x), 2))\n",
    "        x = F.relu(F.max_pool2d(self.conv2_drop(self.conv2(x)), 2))\n",
    "        x = x.view(-1, 320)\n",
    "        x = F.relu(self.fc1(x))\n",
    "        x = F.dropout(x, training=self.training)\n",
    "        x = self.fc2(x)\n",
    "        return F.log_softmax(x)\n"
   ]
  },
  {
   "cell_type": "markdown",
   "metadata": {},
   "source": [
    "Construct a data loader to retrieve the classifier training and test data."
   ]
  },
  {
   "cell_type": "code",
   "execution_count": 5,
   "metadata": {},
   "outputs": [],
   "source": [
    "def data_loader(\n",
    "    batch_size: int,\n",
    "    train: bool,\n",
    "    download: bool = True,\n",
    "    shuffle: bool = True,\n",
    "    data_dir: str = \"~/data/mnist/\",\n",
    ") -> torch.utils.data.dataloader.DataLoader:\n",
    "    \"\"\"MNIST data loader.\"\"\"\n",
    "\n",
    "    data_dir = Path(data_dir).expanduser()\n",
    "    data_dir.mkdir(parents=True, exist_ok=True)\n",
    "\n",
    "    data = datasets.MNIST(data_dir, train=train, download=download, transform=ToTensor())\n",
    "\n",
    "    return DataLoader(data, batch_size=batch_size, shuffle=shuffle)\n"
   ]
  },
  {
   "cell_type": "markdown",
   "metadata": {},
   "source": [
    "Construct a function to retrieve a Stochastic Gradient Descent optimizer."
   ]
  },
  {
   "cell_type": "code",
   "execution_count": 6,
   "metadata": {},
   "outputs": [],
   "source": [
    "def get_optimizer(\n",
    "    model: NeuralNetwork, learning_rate: float, momentum: float\n",
    ") -> torch.optim.Optimizer:\n",
    "    \"\"\"Get Stochastic Gradient Descent optimizer.\"\"\"\n",
    "\n",
    "    return torch.optim.SGD(model.parameters(), learning_rate, momentum)\n"
   ]
  },
  {
   "cell_type": "markdown",
   "metadata": {},
   "source": [
    "Write a function to train the model over one epoch."
   ]
  },
  {
   "cell_type": "code",
   "execution_count": 7,
   "metadata": {},
   "outputs": [],
   "source": [
    "def train_over_one_epoch(\n",
    "    dataloader: torch.utils.data.dataloader.DataLoader,\n",
    "    model: NeuralNetwork,\n",
    "    optimizer: torch.optim.Optimizer,\n",
    "    log_interval: int,\n",
    "    epoch: int,\n",
    "    loss_fn,\n",
    "    train_losses: list,\n",
    "    train_counter: int,\n",
    "    device: str = \"cpu\",\n",
    "):\n",
    "    \"\"\"Train neural network model over one epoch.\"\"\"\n",
    "\n",
    "    size = len(dataloader.dataset)\n",
    "    model.train()\n",
    "    for batch, (X, y) in enumerate(dataloader):\n",
    "        X, y = X.to(device), y.to(device)\n",
    "\n",
    "        # Compute prediction error\n",
    "        pred = model(X)\n",
    "        loss = loss_fn(pred, y)\n",
    "\n",
    "        # Backpropagation\n",
    "        optimizer.zero_grad()\n",
    "        loss.backward()\n",
    "        optimizer.step()\n",
    "\n",
    "        if batch % log_interval == 0:\n",
    "            loss, current = loss.item(), batch * len(X)\n",
    "            print(f\"loss: {loss:>7f}  [{current:>5d}/{size:>5d}]\")\n",
    "\n",
    "            train_losses.append(loss)\n",
    "            train_counter.append((batch * 64) + ((epoch - 1) * len(dataloader.dataset)))\n",
    "\n",
    "    return model, optimizer\n"
   ]
  },
  {
   "cell_type": "markdown",
   "metadata": {},
   "source": [
    "Write a function to test the performance of the classifier for a given loss function."
   ]
  },
  {
   "cell_type": "code",
   "execution_count": 8,
   "metadata": {},
   "outputs": [],
   "source": [
    "def test(\n",
    "    dataloader: torch.utils.data.dataloader.DataLoader,\n",
    "    model: NeuralNetwork,\n",
    "    loss_fn: callable,\n",
    "    device: str = \"cpu\",\n",
    ") -> None:\n",
    "    \"\"\"Test the model performance.\"\"\"\n",
    "\n",
    "    size = len(dataloader.dataset)\n",
    "    num_batches = len(dataloader)\n",
    "    model.eval()\n",
    "    test_loss, correct = 0, 0\n",
    "    with torch.no_grad():\n",
    "        for X, y in dataloader:\n",
    "            X, y = X.to(device), y.to(device)\n",
    "            pred = model(X)\n",
    "            test_loss += loss_fn(pred, y).item()\n",
    "            correct += (pred.argmax(1) == y).type(torch.float).sum().item()\n",
    "    test_loss /= num_batches\n",
    "    correct /= size\n",
    "    print(f\"Test Error: \\n Accuracy: {(100*correct):>0.1f}%, Avg loss: {test_loss:>8f} \\n\")\n"
   ]
  },
  {
   "cell_type": "markdown",
   "metadata": {},
   "source": [
    "Write a function to train the model over several epochs and save the final state of the _optimizer_ and the _neural network_."
   ]
  },
  {
   "cell_type": "code",
   "execution_count": 9,
   "metadata": {},
   "outputs": [],
   "source": [
    "def train_model(\n",
    "    train_dataloader: torch.utils.data.dataloader.DataLoader,\n",
    "    train_losses: list,\n",
    "    train_counter: int,\n",
    "    log_interval: int,\n",
    "    model: NeuralNetwork,\n",
    "    optimizer: torch.optim.Optimizer,\n",
    "    loss_fn: callable,\n",
    "    epochs: int,\n",
    "    results_dir: str = \"~/data/mnist/results/\",\n",
    ") -> Tuple[NeuralNetwork,]:\n",
    "    \"\"\"Train neural network model.\"\"\"\n",
    "\n",
    "    results_dir = Path(results_dir).expanduser()\n",
    "    results_dir.mkdir(parents=True, exist_ok=True)\n",
    "\n",
    "    for epoch in range(1, epochs + 1):\n",
    "        print(f\"Epoch {epoch}\\n-------------------------------\")\n",
    "        model, optimizer = train_over_one_epoch(\n",
    "            dataloader=train_dataloader,\n",
    "            model=model,\n",
    "            optimizer=optimizer,\n",
    "            train_losses=train_losses,\n",
    "            train_counter=train_counter,\n",
    "            log_interval=log_interval,\n",
    "            epoch=epoch,\n",
    "            loss_fn=loss_fn,\n",
    "        )\n",
    "\n",
    "    # Save model and optimizer\n",
    "    torch.save(model.state_dict(), f\"{results_dir}model.pth\")\n",
    "    torch.save(optimizer.state_dict(), f\"{results_dir}optimizer.pth\")\n",
    "    return model, optimizer\n"
   ]
  },
  {
   "cell_type": "markdown",
   "metadata": {},
   "source": [
    "Finally, we put all these tasks together to construct the MNIST classifier training and test workflow."
   ]
  },
  {
   "cell_type": "code",
   "execution_count": 10,
   "metadata": {},
   "outputs": [],
   "source": [
    "def workflow(\n",
    "    model: NeuralNetwork,\n",
    "    epochs: int = 2,\n",
    "    batch_size_train: int = 64,\n",
    "    batch_size_test: int = 1000,\n",
    "    learning_rate: float = 0.01,\n",
    "    momentum: float = 0.5,\n",
    "    log_interval: int = 10,\n",
    "    loss_fn: callable = F.nll_loss,\n",
    "):\n",
    "    \"\"\"MNIST classifier training workflow\"\"\"\n",
    "\n",
    "    train_dataloader = data_loader(batch_size=batch_size_train, train=True)\n",
    "    test_dataloader = data_loader(batch_size=batch_size_test, train=False)\n",
    "\n",
    "    train_losses, train_counter, test_losses = [], [], []\n",
    "    optimizer = get_optimizer(model=model, learning_rate=learning_rate, momentum=momentum)\n",
    "    model, optimizer = train_model(\n",
    "        train_dataloader=train_dataloader,\n",
    "        train_losses=train_losses,\n",
    "        train_counter=train_counter,\n",
    "        log_interval=log_interval,\n",
    "        model=model,\n",
    "        optimizer=optimizer,\n",
    "        loss_fn=loss_fn,\n",
    "        epochs=epochs,\n",
    "    )\n",
    "    test(dataloader=test_dataloader, model=model, loss_fn=loss_fn)\n",
    "\n",
    "    return train_losses, train_counter, test_losses\n"
   ]
  },
  {
   "cell_type": "markdown",
   "metadata": {},
   "source": [
    "### Run MNIST classifier workflow as a normal function\n",
    "\n",
    "Run the MNIST classifier workflow to benchmark the performance and the time taken to train and test the model."
   ]
  },
  {
   "cell_type": "code",
   "execution_count": 11,
   "metadata": {},
   "outputs": [
    {
     "name": "stdout",
     "output_type": "stream",
     "text": [
      "Epoch 1\n",
      "-------------------------------\n",
      "loss: 2.311693  [    0/60000]\n",
      "loss: 2.293773  [  640/60000]\n"
     ]
    },
    {
     "name": "stderr",
     "output_type": "stream",
     "text": [
      "/var/folders/hn/dnjxkq7946j9wpxv1cy9pm2m0000gn/T/ipykernel_10054/3977843674.py:17: UserWarning: Implicit dimension choice for log_softmax has been deprecated. Change the call to include dim=X as an argument.\n",
      "  return F.log_softmax(x)\n"
     ]
    },
    {
     "name": "stdout",
     "output_type": "stream",
     "text": [
      "loss: 2.304257  [ 1280/60000]\n",
      "loss: 2.310511  [ 1920/60000]\n",
      "loss: 2.281794  [ 2560/60000]\n",
      "loss: 2.306354  [ 3200/60000]\n",
      "loss: 2.299354  [ 3840/60000]\n",
      "loss: 2.278637  [ 4480/60000]\n",
      "loss: 2.281623  [ 5120/60000]\n",
      "loss: 2.309242  [ 5760/60000]\n",
      "loss: 2.302561  [ 6400/60000]\n",
      "loss: 2.276773  [ 7040/60000]\n",
      "loss: 2.282589  [ 7680/60000]\n",
      "loss: 2.286875  [ 8320/60000]\n",
      "loss: 2.267337  [ 8960/60000]\n",
      "loss: 2.225432  [ 9600/60000]\n",
      "loss: 2.252572  [10240/60000]\n",
      "loss: 2.271173  [10880/60000]\n",
      "loss: 2.247714  [11520/60000]\n",
      "loss: 2.237291  [12160/60000]\n",
      "loss: 2.186864  [12800/60000]\n",
      "loss: 2.210196  [13440/60000]\n",
      "loss: 2.168879  [14080/60000]\n",
      "loss: 2.172696  [14720/60000]\n",
      "loss: 2.157970  [15360/60000]\n",
      "loss: 2.003385  [16000/60000]\n",
      "loss: 1.937799  [16640/60000]\n",
      "loss: 1.847769  [17280/60000]\n",
      "loss: 2.047326  [17920/60000]\n",
      "loss: 1.773777  [18560/60000]\n",
      "loss: 1.754197  [19200/60000]\n",
      "loss: 1.712822  [19840/60000]\n",
      "loss: 1.589492  [20480/60000]\n",
      "loss: 1.632720  [21120/60000]\n",
      "loss: 1.405598  [21760/60000]\n",
      "loss: 1.311562  [22400/60000]\n",
      "loss: 1.416003  [23040/60000]\n",
      "loss: 1.383615  [23680/60000]\n",
      "loss: 1.296332  [24320/60000]\n",
      "loss: 1.266906  [24960/60000]\n",
      "loss: 1.273568  [25600/60000]\n",
      "loss: 1.136046  [26240/60000]\n",
      "loss: 1.318268  [26880/60000]\n",
      "loss: 1.077781  [27520/60000]\n",
      "loss: 1.144207  [28160/60000]\n",
      "loss: 0.997459  [28800/60000]\n",
      "loss: 1.208253  [29440/60000]\n",
      "loss: 1.259002  [30080/60000]\n",
      "loss: 1.098768  [30720/60000]\n",
      "loss: 1.059394  [31360/60000]\n",
      "loss: 0.954583  [32000/60000]\n",
      "loss: 0.964286  [32640/60000]\n",
      "loss: 0.710816  [33280/60000]\n",
      "loss: 0.918114  [33920/60000]\n",
      "loss: 0.830462  [34560/60000]\n",
      "loss: 0.824361  [35200/60000]\n",
      "loss: 1.072893  [35840/60000]\n",
      "loss: 0.918413  [36480/60000]\n",
      "loss: 0.763523  [37120/60000]\n",
      "loss: 0.864913  [37760/60000]\n",
      "loss: 0.991922  [38400/60000]\n",
      "loss: 0.841617  [39040/60000]\n",
      "loss: 0.814781  [39680/60000]\n",
      "loss: 0.868066  [40320/60000]\n",
      "loss: 0.607112  [40960/60000]\n",
      "loss: 0.783334  [41600/60000]\n",
      "loss: 0.793146  [42240/60000]\n",
      "loss: 0.681931  [42880/60000]\n",
      "loss: 0.737842  [43520/60000]\n",
      "loss: 0.680987  [44160/60000]\n",
      "loss: 0.868428  [44800/60000]\n",
      "loss: 0.745379  [45440/60000]\n",
      "loss: 0.755870  [46080/60000]\n",
      "loss: 1.036715  [46720/60000]\n",
      "loss: 0.557165  [47360/60000]\n",
      "loss: 0.603518  [48000/60000]\n",
      "loss: 0.876628  [48640/60000]\n",
      "loss: 0.747163  [49280/60000]\n",
      "loss: 0.579338  [49920/60000]\n",
      "loss: 0.569028  [50560/60000]\n",
      "loss: 0.872340  [51200/60000]\n",
      "loss: 0.754630  [51840/60000]\n",
      "loss: 0.595440  [52480/60000]\n",
      "loss: 0.536853  [53120/60000]\n",
      "loss: 0.666259  [53760/60000]\n",
      "loss: 0.595160  [54400/60000]\n",
      "loss: 0.619110  [55040/60000]\n",
      "loss: 0.625828  [55680/60000]\n",
      "loss: 0.596173  [56320/60000]\n",
      "loss: 0.768041  [56960/60000]\n",
      "loss: 0.650693  [57600/60000]\n",
      "loss: 0.693028  [58240/60000]\n",
      "loss: 0.705892  [58880/60000]\n",
      "loss: 0.607742  [59520/60000]\n",
      "Epoch 2\n",
      "-------------------------------\n",
      "loss: 0.585915  [    0/60000]\n",
      "loss: 0.495961  [  640/60000]\n",
      "loss: 0.462975  [ 1280/60000]\n",
      "loss: 0.487837  [ 1920/60000]\n",
      "loss: 0.469558  [ 2560/60000]\n",
      "loss: 0.475129  [ 3200/60000]\n",
      "loss: 0.677373  [ 3840/60000]\n",
      "loss: 0.675525  [ 4480/60000]\n",
      "loss: 1.061131  [ 5120/60000]\n",
      "loss: 0.499874  [ 5760/60000]\n",
      "loss: 0.828066  [ 6400/60000]\n",
      "loss: 0.716531  [ 7040/60000]\n",
      "loss: 0.457420  [ 7680/60000]\n",
      "loss: 0.453165  [ 8320/60000]\n",
      "loss: 0.488191  [ 8960/60000]\n",
      "loss: 0.569672  [ 9600/60000]\n",
      "loss: 0.538017  [10240/60000]\n",
      "loss: 0.477754  [10880/60000]\n",
      "loss: 0.493842  [11520/60000]\n",
      "loss: 0.711316  [12160/60000]\n",
      "loss: 0.665029  [12800/60000]\n",
      "loss: 0.791319  [13440/60000]\n",
      "loss: 0.600607  [14080/60000]\n",
      "loss: 0.419424  [14720/60000]\n",
      "loss: 0.844005  [15360/60000]\n",
      "loss: 0.632714  [16000/60000]\n",
      "loss: 0.867832  [16640/60000]\n",
      "loss: 0.498851  [17280/60000]\n",
      "loss: 0.720342  [17920/60000]\n",
      "loss: 0.432238  [18560/60000]\n",
      "loss: 0.538519  [19200/60000]\n",
      "loss: 0.332580  [19840/60000]\n",
      "loss: 0.428345  [20480/60000]\n",
      "loss: 0.475256  [21120/60000]\n",
      "loss: 0.664603  [21760/60000]\n",
      "loss: 0.602759  [22400/60000]\n",
      "loss: 0.497214  [23040/60000]\n",
      "loss: 0.448776  [23680/60000]\n",
      "loss: 0.751365  [24320/60000]\n",
      "loss: 0.452634  [24960/60000]\n",
      "loss: 0.548662  [25600/60000]\n",
      "loss: 0.333243  [26240/60000]\n",
      "loss: 0.656862  [26880/60000]\n",
      "loss: 0.457829  [27520/60000]\n",
      "loss: 0.595568  [28160/60000]\n",
      "loss: 0.577205  [28800/60000]\n",
      "loss: 0.700919  [29440/60000]\n",
      "loss: 0.461898  [30080/60000]\n",
      "loss: 0.373353  [30720/60000]\n",
      "loss: 0.543412  [31360/60000]\n",
      "loss: 0.440674  [32000/60000]\n",
      "loss: 0.455363  [32640/60000]\n",
      "loss: 0.582745  [33280/60000]\n",
      "loss: 0.690763  [33920/60000]\n",
      "loss: 0.482235  [34560/60000]\n",
      "loss: 0.531023  [35200/60000]\n",
      "loss: 0.371876  [35840/60000]\n",
      "loss: 0.430376  [36480/60000]\n",
      "loss: 0.245689  [37120/60000]\n",
      "loss: 0.394248  [37760/60000]\n",
      "loss: 0.541934  [38400/60000]\n",
      "loss: 0.593260  [39040/60000]\n",
      "loss: 0.447319  [39680/60000]\n",
      "loss: 0.651145  [40320/60000]\n",
      "loss: 0.495620  [40960/60000]\n",
      "loss: 0.468241  [41600/60000]\n",
      "loss: 0.512766  [42240/60000]\n",
      "loss: 0.457497  [42880/60000]\n",
      "loss: 0.538275  [43520/60000]\n",
      "loss: 0.561398  [44160/60000]\n",
      "loss: 0.277759  [44800/60000]\n",
      "loss: 0.444457  [45440/60000]\n",
      "loss: 0.661159  [46080/60000]\n",
      "loss: 0.757150  [46720/60000]\n",
      "loss: 0.371834  [47360/60000]\n",
      "loss: 0.472666  [48000/60000]\n",
      "loss: 0.404601  [48640/60000]\n",
      "loss: 0.390285  [49280/60000]\n",
      "loss: 0.621376  [49920/60000]\n",
      "loss: 0.489268  [50560/60000]\n",
      "loss: 0.557126  [51200/60000]\n",
      "loss: 0.389277  [51840/60000]\n",
      "loss: 0.339735  [52480/60000]\n",
      "loss: 0.443083  [53120/60000]\n",
      "loss: 0.390227  [53760/60000]\n",
      "loss: 0.690020  [54400/60000]\n",
      "loss: 0.340119  [55040/60000]\n",
      "loss: 0.517084  [55680/60000]\n",
      "loss: 0.430489  [56320/60000]\n",
      "loss: 0.310100  [56960/60000]\n",
      "loss: 0.488237  [57600/60000]\n",
      "loss: 0.565966  [58240/60000]\n",
      "loss: 0.313424  [58880/60000]\n",
      "loss: 0.401023  [59520/60000]\n",
      "Test Error: \n",
      " Accuracy: 94.2%, Avg loss: 0.198035 \n",
      "\n",
      "Regular workflow takes 30.274040937423706 seconds.\n"
     ]
    }
   ],
   "source": [
    "import time\n",
    "\n",
    "start = time.time()\n",
    "workflow(\n",
    "    model=NeuralNetwork().to(\"cpu\"),\n",
    ")\n",
    "end = time.time()\n",
    "print(f\"Regular workflow takes {end - start} seconds.\")\n"
   ]
  },
  {
   "cell_type": "markdown",
   "metadata": {},
   "source": [
    "<div align=\"center\">\n",
    "<img src=\"././mnist_images/regular_workflow_loss.png\"  width=\"95%\" height=\"95%\"/>\n",
    "</div>"
   ]
  },
  {
   "cell_type": "markdown",
   "metadata": {},
   "source": [
    "### Run workflow with Covalent\n",
    "\n",
    "First, we convert the normal workflow function into a Covalent workflow function.\n",
    "\n",
    "This can be done in two ways. The most convenient method is to add `ct.electron` decorators to each of the task functions defined above and `ct.lattice` decorator to the workflow function.\n",
    "\n",
    "For example,\n",
    "\n",
    "```python\n",
    "@ct.electron\n",
    "def data_loader(...):\n",
    "    ...\n",
    "\n",
    "\n",
    "@ct.electron\n",
    "def train_over_one_epoch(...):\n",
    "    ...\n",
    "\n",
    "\n",
    "@ct.electron\n",
    "def workflow(...):\n",
    "    ...\n",
    "```\n",
    "\n",
    "Alternatively, we can also use the decorator functions (shown in the cell below):"
   ]
  },
  {
   "cell_type": "code",
   "execution_count": 12,
   "metadata": {},
   "outputs": [],
   "source": [
    "# Convert tasks to electrons\n",
    "data_loader = ct.electron(data_loader)\n",
    "get_optimizer = ct.electron(get_optimizer)\n",
    "train_over_one_epoch = ct.electron(train_over_one_epoch)\n",
    "train_model = ct.electron(train_model)\n",
    "test = ct.electron(test)\n",
    "\n",
    "# Convert workflow to lattice\n",
    "workflow = ct.lattice(workflow)\n"
   ]
  },
  {
   "cell_type": "markdown",
   "metadata": {},
   "source": [
    "Finally, Covalent dispatcher (`ct.dispatch`) can be used to dispatch the workflow."
   ]
  },
  {
   "cell_type": "code",
   "execution_count": 13,
   "metadata": {},
   "outputs": [
    {
     "name": "stdout",
     "output_type": "stream",
     "text": [
      "Dispatch id: 1e047113-0af6-4706-bdaa-ceee1b017b0e\n",
      "Covalent workflow takes 0:00:40.450635 seconds.\n"
     ]
    }
   ],
   "source": [
    "dispatch_id = ct.dispatch(workflow)(\n",
    "    model=NeuralNetwork().to(\"cpu\"),\n",
    ")\n",
    "print(f\"Dispatch id: {dispatch_id}\")\n",
    "result = ct.get_result(dispatch_id=dispatch_id, wait=True)\n",
    "print(f\"Covalent workflow takes {result.end_time - result.start_time} seconds.\")\n"
   ]
  },
  {
   "cell_type": "markdown",
   "metadata": {},
   "source": [
    "Uncomment and run cell with print statement to view a summary of the _result_ object."
   ]
  },
  {
   "cell_type": "code",
   "execution_count": 14,
   "metadata": {},
   "outputs": [],
   "source": [
    "# print(result)\n"
   ]
  },
  {
   "cell_type": "markdown",
   "metadata": {},
   "source": [
    "Once the workflow has been dispatched, the results can be tracked on the covalent UI browser. Use `covalent status` (shown below) to find the UI browser address. "
   ]
  },
  {
   "cell_type": "code",
   "execution_count": 15,
   "metadata": {},
   "outputs": [
    {
     "name": "stdout",
     "output_type": "stream",
     "text": [
      "Covalent server is running at http://0.0.0.0:48008.\n"
     ]
    }
   ],
   "source": [
    "!covalent status\n"
   ]
  },
  {
   "cell_type": "markdown",
   "metadata": {},
   "source": [
    "Clicking on `http://0.0.0.0:48008` we can see the UI browser which lists the various dispatch ids.\n",
    "\n",
    "<div align=\"center\">\n",
    "<img src=\"././mnist_images/ui_dispatch_ids.png\"  width=\"95%\" height=\"95%\"/>\n",
    "</div>"
   ]
  },
  {
   "cell_type": "markdown",
   "metadata": {},
   "source": [
    "Clicking on the dispatch id, we can see the details of the workflow execution. Note the task execution dependency graph. \n",
    "\n",
    "<div align=\"center\">\n",
    "<img src=\"././mnist_images/ui_workflow.png\"  width=\"95%\" height=\"95%\"/>\n",
    "</div>"
   ]
  },
  {
   "cell_type": "markdown",
   "metadata": {},
   "source": [
    "### Conclusion\n",
    "\n",
    "In this tutorial, we trained a MNIST classifier using a workflow comprised of tasks. Then, we converted this workflow into a Covalent workflow. Here, we summarize some of the added benefits of using Covalent.\n",
    "\n",
    "* Covalent allows the user to deploy multiple workflows without having to wait for them to finish running. [Supports asynchronous workflow deployment without any additional code???]\n",
    "\n",
    "* A Covalent workflow can be _dispatched_ to take advantage of automatic parallelization, user friendly interface etc. but it can also just as easily be run as a normal Python function. Hence, adding the electron / lattice decorators only enhances what we can be done with the workflow with a minimum overhead. For example, in this workflow the training and testing of dataloaders (I/O bound tasks) are mutually independent and hence would be automatically parallelized.\n",
    "\n",
    "* Execution time for Covalent workflows and tasks are readily available without needing any additional code.\n",
    "\n",
    "### References:\n",
    "\n",
    "[1] https://pytorch.org/tutorials/beginner/basics/quickstart_tutorial.html"
   ]
  },
  {
   "cell_type": "markdown",
   "metadata": {},
   "source": []
  }
 ],
 "metadata": {
  "interpreter": {
   "hash": "497139f919dadc5e613ed634ff9107622fdaea40400342bdf68cd50a71d28343"
  },
  "kernelspec": {
   "display_name": "Python 3.8.12 ('covalent-pytorch-dev')",
   "language": "python",
   "name": "python3"
  },
  "language_info": {
   "codemirror_mode": {
    "name": "ipython",
    "version": 3
   },
   "file_extension": ".py",
   "mimetype": "text/x-python",
   "name": "python",
   "nbconvert_exporter": "python",
   "pygments_lexer": "ipython3",
   "version": "3.8.12"
  },
  "orig_nbformat": 4
 },
 "nbformat": 4,
 "nbformat_minor": 2
}
