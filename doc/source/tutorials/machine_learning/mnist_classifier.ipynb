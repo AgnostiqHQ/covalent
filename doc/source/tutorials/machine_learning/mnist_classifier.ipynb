{
 "cells": [
  {
   "cell_type": "markdown",
   "metadata": {},
   "source": [
    "# MNIST classifier tutorial\n",
    "\n",
    "* MNIST database of handwritten digits is a popular dataset to demonstrate machine learning classifier training.\n",
    "* In this tutorial, we train a basic Neural Network (NN) classifier using PyTorch.\n",
    "* Once the basic NN classifier training workflow has been defined, it is easily converted to a Covalent workflow.\n",
    "* This tutorial has two primary objectives.\n",
    "* One goal is to show the ease with which a \"normal\" workflow can be adapted to a Covalent workflow.\n",
    "* The second objective is to display the browser-based Covalent workflow tracking UI."
   ]
  },
  {
   "cell_type": "markdown",
   "metadata": {},
   "source": [
    "### Installations"
   ]
  },
  {
   "cell_type": "code",
   "execution_count": null,
   "metadata": {},
   "outputs": [],
   "source": [
    "# !pip install cova\n",
    "# !conda install pytorch torchvision -c pytorch -y\n"
   ]
  },
  {
   "cell_type": "markdown",
   "metadata": {},
   "source": [
    "### Starting Covalent server"
   ]
  },
  {
   "cell_type": "code",
   "execution_count": 26,
   "metadata": {},
   "outputs": [],
   "source": [
    "# !covalent start   # Start the server\n",
    "# !covalent status  # Check server status\n",
    "# !covalent stop    # Stop the server\n"
   ]
  },
  {
   "cell_type": "markdown",
   "metadata": {},
   "source": [
    "### Imports"
   ]
  },
  {
   "cell_type": "code",
   "execution_count": null,
   "metadata": {},
   "outputs": [],
   "source": [
    "import covalent as ct\n",
    "\n",
    "import torch\n",
    "import torch.nn.functional as F\n",
    "\n",
    "from pathlib import Path\n",
    "\n",
    "from torch import nn\n",
    "from torch.utils.data import DataLoader\n",
    "from torchvision import datasets\n",
    "from torchvision.transforms import ToTensor\n",
    "from typing import Tuple\n"
   ]
  },
  {
   "cell_type": "markdown",
   "metadata": {},
   "source": [
    "### Neural network"
   ]
  },
  {
   "cell_type": "code",
   "execution_count": null,
   "metadata": {},
   "outputs": [],
   "source": [
    "class NeuralNetwork(nn.Module):\n",
    "    def __init__(self):\n",
    "        super(NeuralNetwork, self).__init__()\n",
    "        self.conv1 = nn.Conv2d(1, 10, kernel_size=5)\n",
    "        self.conv2 = nn.Conv2d(10, 20, kernel_size=5)\n",
    "        self.conv2_drop = nn.Dropout2d()\n",
    "        self.fc1 = nn.Linear(320, 50)\n",
    "        self.fc2 = nn.Linear(50, 10)\n",
    "\n",
    "    def forward(self, x):\n",
    "        x = F.relu(F.max_pool2d(self.conv1(x), 2))\n",
    "        x = F.relu(F.max_pool2d(self.conv2_drop(self.conv2(x)), 2))\n",
    "        x = x.view(-1, 320)\n",
    "        x = F.relu(self.fc1(x))\n",
    "        x = F.dropout(x, training=self.training)\n",
    "        x = self.fc2(x)\n",
    "        return F.log_softmax(x)\n"
   ]
  },
  {
   "cell_type": "markdown",
   "metadata": {},
   "source": [
    "### Data loader"
   ]
  },
  {
   "cell_type": "code",
   "execution_count": null,
   "metadata": {},
   "outputs": [],
   "source": [
    "@ct.electron\n",
    "def data_loader(\n",
    "    batch_size: int,\n",
    "    train: bool,\n",
    "    download: bool = True,\n",
    "    shuffle: bool = True,\n",
    "    data_dir: str = \"~/data/mnist/\",\n",
    ") -> torch.utils.data.dataloader.DataLoader:\n",
    "    \"\"\"MNIST data loader.\"\"\"\n",
    "\n",
    "    data_dir = Path(data_dir).expanduser()\n",
    "    data_dir.mkdir(parents=True, exist_ok=True)\n",
    "\n",
    "    data = datasets.MNIST(data_dir, train=train, download=download, transform=ToTensor())\n",
    "\n",
    "    return DataLoader(data, batch_size=batch_size, shuffle=shuffle)\n"
   ]
  },
  {
   "cell_type": "code",
   "execution_count": null,
   "metadata": {},
   "outputs": [],
   "source": [
    "@ct.electron\n",
    "def get_optimizer(\n",
    "    model: NeuralNetwork, learning_rate: float, momentum: float\n",
    ") -> torch.optim.Optimizer:\n",
    "    \"\"\"Get Stochastic Gradient Descent optimizer.\"\"\"\n",
    "\n",
    "    return torch.optim.SGD(model.parameters(), learning_rate, momentum)\n"
   ]
  },
  {
   "cell_type": "code",
   "execution_count": null,
   "metadata": {},
   "outputs": [],
   "source": [
    "@ct.electron\n",
    "def train_over_one_epoch(\n",
    "    dataloader: torch.utils.data.dataloader.DataLoader,\n",
    "    model: NeuralNetwork,\n",
    "    optimizer: torch.optim.Optimizer,\n",
    "    log_interval: int,\n",
    "    epoch: int,\n",
    "    loss_fn,\n",
    "    train_losses: list,\n",
    "    train_counter: int,\n",
    "    device: str = \"cpu\",\n",
    "):\n",
    "    \"\"\"Train neural network model over one epoch.\"\"\"\n",
    "\n",
    "    size = len(dataloader.dataset)\n",
    "    model.train()\n",
    "    for batch, (X, y) in enumerate(dataloader):\n",
    "        X, y = X.to(device), y.to(device)\n",
    "\n",
    "        # Compute prediction error\n",
    "        pred = model(X)\n",
    "        loss = loss_fn(pred, y)\n",
    "\n",
    "        # Backpropagation\n",
    "        optimizer.zero_grad()\n",
    "        loss.backward()\n",
    "        optimizer.step()\n",
    "\n",
    "        if batch % log_interval == 0:\n",
    "            loss, current = loss.item(), batch * len(X)\n",
    "            print(f\"loss: {loss:>7f}  [{current:>5d}/{size:>5d}]\")\n",
    "\n",
    "            train_losses.append(loss)\n",
    "            train_counter.append((batch * 64) + ((epoch - 1) * len(dataloader.dataset)))\n",
    "\n",
    "    return model, optimizer\n"
   ]
  },
  {
   "cell_type": "code",
   "execution_count": null,
   "metadata": {},
   "outputs": [],
   "source": [
    "@ct.electron\n",
    "def test(\n",
    "    dataloader: torch.utils.data.dataloader.DataLoader,\n",
    "    model: NeuralNetwork,\n",
    "    loss_fn: callable,\n",
    "    device: str = \"cpu\",\n",
    ") -> None:\n",
    "    \"\"\"Test the model performance.\"\"\"\n",
    "\n",
    "    size = len(dataloader.dataset)\n",
    "    num_batches = len(dataloader)\n",
    "    model.eval()\n",
    "    test_loss, correct = 0, 0\n",
    "    with torch.no_grad():\n",
    "        for X, y in dataloader:\n",
    "            X, y = X.to(device), y.to(device)\n",
    "            pred = model(X)\n",
    "            test_loss += loss_fn(pred, y).item()\n",
    "            correct += (pred.argmax(1) == y).type(torch.float).sum().item()\n",
    "    test_loss /= num_batches\n",
    "    correct /= size\n",
    "    print(f\"Test Error: \\n Accuracy: {(100*correct):>0.1f}%, Avg loss: {test_loss:>8f} \\n\")\n"
   ]
  },
  {
   "cell_type": "code",
   "execution_count": null,
   "metadata": {},
   "outputs": [],
   "source": [
    "@ct.electron\n",
    "def train_model(\n",
    "    train_dataloader: torch.utils.data.dataloader.DataLoader,\n",
    "    train_losses: list,\n",
    "    train_counter: int,\n",
    "    log_interval: int,\n",
    "    model: NeuralNetwork,\n",
    "    optimizer: torch.optim.Optimizer,\n",
    "    loss_fn: callable,\n",
    "    epochs: int,\n",
    "    results_dir: str = \"~/data/mnist/results/\",\n",
    ") -> Tuple[NeuralNetwork,]:\n",
    "    \"\"\"Train neural network model.\"\"\"\n",
    "\n",
    "    results_dir = Path(results_dir).expanduser()\n",
    "    results_dir.mkdir(parents=True, exist_ok=True)\n",
    "\n",
    "    for epoch in range(1, epochs + 1):\n",
    "        print(f\"Epoch {epoch}\\n-------------------------------\")\n",
    "        model, optimizer = train_over_one_epoch(\n",
    "            dataloader=train_dataloader,\n",
    "            model=model,\n",
    "            optimizer=optimizer,\n",
    "            train_losses=train_losses,\n",
    "            train_counter=train_counter,\n",
    "            log_interval=log_interval,\n",
    "            epoch=epoch,\n",
    "            loss_fn=loss_fn,\n",
    "        )\n",
    "\n",
    "    # Save model and optimizer\n",
    "    torch.save(model.state_dict(), f\"{results_dir}model.pth\")\n",
    "    torch.save(optimizer.state_dict(), f\"{results_dir}optimizer.pth\")\n",
    "    return model, optimizer\n"
   ]
  },
  {
   "cell_type": "markdown",
   "metadata": {},
   "source": [
    "### Define MNIST classifier training workflow"
   ]
  },
  {
   "cell_type": "code",
   "execution_count": null,
   "metadata": {},
   "outputs": [],
   "source": [
    "@ct.lattice\n",
    "def workflow(\n",
    "    model: NeuralNetwork,\n",
    "    epochs: int = 2,\n",
    "    batch_size_train: int = 64,\n",
    "    batch_size_test: int = 1000,\n",
    "    learning_rate: float = 0.01,\n",
    "    momentum: float = 0.5,\n",
    "    log_interval: int = 10,\n",
    "    loss_fn: callable = F.nll_loss,\n",
    "):\n",
    "    \"\"\"MNIST classifier training workflow\"\"\"\n",
    "\n",
    "    train_dataloader = data_loader(batch_size=batch_size_train, train=True)\n",
    "    test_dataloader = data_loader(batch_size=batch_size_test, train=False)\n",
    "\n",
    "    train_losses, train_counter, test_losses = [], [], []\n",
    "    optimizer = get_optimizer(model=model, learning_rate=learning_rate, momentum=momentum)\n",
    "    model, optimizer = train_model(\n",
    "        train_dataloader=train_dataloader,\n",
    "        train_losses=train_losses,\n",
    "        train_counter=train_counter,\n",
    "        log_interval=log_interval,\n",
    "        model=model,\n",
    "        optimizer=optimizer,\n",
    "        loss_fn=loss_fn,\n",
    "        epochs=epochs,\n",
    "    )\n",
    "    test(dataloader=test_dataloader, model=model, loss_fn=loss_fn)\n"
   ]
  },
  {
   "cell_type": "markdown",
   "metadata": {},
   "source": [
    "### Run training workflow as a normal function"
   ]
  },
  {
   "cell_type": "code",
   "execution_count": null,
   "metadata": {},
   "outputs": [],
   "source": [
    "import time\n",
    "\n",
    "start = time.time()\n",
    "workflow(\n",
    "    model=NeuralNetwork().to(\"cpu\"),\n",
    ")\n",
    "end = time.time()\n",
    "print(f\"Regular workflow takes {end - start} seconds.\")\n"
   ]
  },
  {
   "cell_type": "markdown",
   "metadata": {},
   "source": [
    "### Running workflow with Covalent"
   ]
  },
  {
   "cell_type": "code",
   "execution_count": null,
   "metadata": {},
   "outputs": [],
   "source": [
    "start = time.time()\n",
    "dispatch_id = ct.dispatch(workflow)(\n",
    "    model=NeuralNetwork().to(\"cpu\"),\n",
    ")\n",
    "print(dispatch_id)\n",
    "result = ct.get_result(dispatch_id=dispatch_id, wait=True)\n",
    "print(result.result)\n",
    "end = time.time()\n",
    "print(f\"Covalent workflow takes {end - start} seconds.\")\n"
   ]
  },
  {
   "cell_type": "markdown",
   "metadata": {},
   "source": [
    "Once the workflow has been dispatched, the results can be tracked on the covalent UI browser. Use `covalent status` (shown below) to find the UI browser address. "
   ]
  },
  {
   "cell_type": "code",
   "execution_count": 27,
   "metadata": {},
   "outputs": [
    {
     "name": "stdout",
     "output_type": "stream",
     "text": [
      "Covalent dispatcher server is running at http://0.0.0.0:48008.\n",
      "Covalent UI server is running at http://0.0.0.0:47007.\n"
     ]
    }
   ],
   "source": [
    "!covalent status\n"
   ]
  },
  {
   "cell_type": "markdown",
   "metadata": {},
   "source": [
    "Clicking on `http://0.0.0.0:47007` we can see the UI browser which lists the various dispatch ids.\n",
    "\n",
    "<div align=\"center\">\n",
    "<img src=\"././mnist_images/ui_dispatch_ids.png\"  width=\"95%\" height=\"95%\"/>\n",
    "</div>"
   ]
  },
  {
   "cell_type": "markdown",
   "metadata": {},
   "source": [
    "Clicking on the dispatch id, we can see the details of the workflow execution. Note the task execution dependency graph. \n",
    "\n",
    "<div align=\"center\">\n",
    "<img src=\"././mnist_images/ui_workflow.png\"  width=\"95%\" height=\"95%\"/>\n",
    "</div>"
   ]
  },
  {
   "cell_type": "markdown",
   "metadata": {},
   "source": [
    "## Covalent concepts\n",
    "\n",
    "* Covalent allows the user to deploy multiple workflows without having to wait for them to finish running. [Supports asynchronous workflow deployment without any additional code???]\n",
    "\n",
    "* A Covalent workflow can be _dispatched_ to take advantage of the software but it can also just as easily be run as a normal Python function. Hence, adding the electron / lattice decorators only enhances what we can do.\n",
    "\n",
    "* Execution time for Covalent workflows and subtasks are readily available without additional code.\n",
    "\n",
    "References:\n",
    "- https://pytorch.org/tutorials/beginner/basics/quickstart_tutorial.html"
   ]
  },
  {
   "cell_type": "markdown",
   "metadata": {},
   "source": []
  }
 ],
 "metadata": {
  "interpreter": {
   "hash": "497139f919dadc5e613ed634ff9107622fdaea40400342bdf68cd50a71d28343"
  },
  "kernelspec": {
   "display_name": "Python 3.8.12 ('covalent-pytorch-dev')",
   "language": "python",
   "name": "python3"
  },
  "language_info": {
   "codemirror_mode": {
    "name": "ipython",
    "version": 3
   },
   "file_extension": ".py",
   "mimetype": "text/x-python",
   "name": "python",
   "nbconvert_exporter": "python",
   "pygments_lexer": "ipython3",
   "version": "3.8.12"
  },
  "orig_nbformat": 4
 },
 "nbformat": 4,
 "nbformat_minor": 2
}
