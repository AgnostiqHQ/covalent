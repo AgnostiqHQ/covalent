{
 "cells": [
  {
   "cell_type": "markdown",
   "metadata": {},
   "source": [
    "# Tutorial should be small enough so as to not overcomplicate and discourage people from reading it"
   ]
  },
  {
   "cell_type": "markdown",
   "metadata": {},
   "source": [
    "# Introduction to a simple ML/quantum/etc or a combination of them experiment\n",
    "\n",
    "describe what we will be trying to achieve. Separate components. (Try to use a simple example, maybe a demo from Pennylane, or a classification ML model?)"
   ]
  },
  {
   "cell_type": "markdown",
   "metadata": {},
   "source": [
    "# Without covalent\n",
    "\n",
    "Write code snippet with commented explanations of what they are doing."
   ]
  },
  {
   "cell_type": "markdown",
   "metadata": {},
   "source": [
    "# Result\n",
    "\n",
    "Benchmark, and show how much time it took. Also show the changes to the code that they'll need to do in order to a) see the execution time, b) error if any of them failed, c) tracking the status of each execution, d) for executing them in parallel, etc."
   ]
  },
  {
   "cell_type": "markdown",
   "metadata": {},
   "source": [
    "# With covalent\n",
    "\n",
    "Add decorators to those functions without changing anything in them. Show them the UI which they can use to track all of the above mentioned information. And they can continue working on something else instead of waiting for the result. (Start a perfect loop video of something in the next cell?)"
   ]
  },
  {
   "cell_type": "markdown",
   "metadata": {},
   "source": [
    "# Result\n",
    "\n",
    "do ct.get_result, and show that they didn't have to do anything extra in order to do all of the above, and they got all the information about the execution in a single result object. And show them the time taken to do all of that."
   ]
  }
 ],
 "metadata": {
  "interpreter": {
   "hash": "62216de4f72e96e9c5ec5d2c0df92e870db816740528566d9fd300c207871b46"
  },
  "kernelspec": {
   "display_name": "Python 3.8.12 ('covaenv')",
   "language": "python",
   "name": "python3"
  },
  "language_info": {
   "codemirror_mode": {
    "name": "ipython",
    "version": 3
   },
   "file_extension": ".py",
   "mimetype": "text/x-python",
   "name": "python",
   "nbconvert_exporter": "python",
   "pygments_lexer": "ipython3",
   "version": "3.8.12"
  },
  "orig_nbformat": 4
 },
 "nbformat": 4,
 "nbformat_minor": 2
}
