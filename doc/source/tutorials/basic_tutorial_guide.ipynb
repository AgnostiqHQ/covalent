{
 "cells": [
  {
   "cell_type": "markdown",
   "metadata": {},
   "source": [
    "# Basic Tutorial Writing Guide"
   ]
  },
  {
   "cell_type": "markdown",
   "metadata": {},
   "source": [
    "This guide will cover things that should be taken care of while writing tutorials for Covalent. It can also be seen as a way to highlight covalent's strenghts in real world projects."
   ]
  },
  {
   "cell_type": "markdown",
   "metadata": {},
   "source": [
    "## Readability\n",
    "\n",
    "First and foremost, the tutorial should be small enough to not overcomplicate things which will discourage newcomers from reading it.\n",
    "Whatever example is chosen, should be straightforward and beginner friendly."
   ]
  },
  {
   "cell_type": "markdown",
   "metadata": {},
   "source": [
    "## Introducing the example\n",
    "\n",
    "Describe what we will be trying to achieve. Separate the components and show what each of them will do"
   ]
  },
  {
   "cell_type": "markdown",
   "metadata": {},
   "source": [
    "## Without covalent\n",
    "\n",
    "Write code with commented explanations wherever necessary. This time we will be writing it without covalent in a functional manner, where it is clear what each of the components is doing."
   ]
  },
  {
   "cell_type": "markdown",
   "metadata": {},
   "source": [
    "## Result\n",
    "\n",
    "Run the code, benchmark, and show how much time it took. Also show the changes to the code that we'll need to do in order to a) see the execution time, b) get the error if any of the components failed, c) track the status of each component, d) execute the independent components in parallel, etc."
   ]
  },
  {
   "cell_type": "markdown",
   "metadata": {},
   "source": [
    "## With covalent\n",
    "\n",
    "Add decorators to those functions without changing their definitions. Show the the UI which they can use to track all of the above mentioned information. Also, indicate that the user can continue working on something else instead of waiting for the result. This can be done by running a trivial code snippet in the following cell after dispatching the job."
   ]
  },
  {
   "cell_type": "markdown",
   "metadata": {},
   "source": [
    "## Result\n",
    "\n",
    "Do ct.get_result, and indicate that they didn't have to do anything extra in order to get all of the above information about the execution which can be found inside a single result object."
   ]
  },
  {
   "cell_type": "markdown",
   "metadata": {},
   "source": [
    "## Covalent Concepts\n",
    "\n",
    "Highlight what each covalent's component's role and importance in executing the example."
   ]
  },
  {
   "cell_type": "markdown",
   "metadata": {},
   "source": []
  }
 ],
 "metadata": {
  "interpreter": {
   "hash": "62216de4f72e96e9c5ec5d2c0df92e870db816740528566d9fd300c207871b46"
  },
  "kernelspec": {
   "display_name": "Python 3.8.12 ('covaenv')",
   "language": "python",
   "name": "python3"
  },
  "language_info": {
   "codemirror_mode": {
    "name": "ipython",
    "version": 3
   },
   "file_extension": ".py",
   "mimetype": "text/x-python",
   "name": "python",
   "nbconvert_exporter": "python",
   "pygments_lexer": "ipython3",
   "version": "3.8.12"
  },
  "orig_nbformat": 4
 },
 "nbformat": 4,
 "nbformat_minor": 2
}
