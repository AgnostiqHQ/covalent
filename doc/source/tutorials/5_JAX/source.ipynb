{
 "cells": [
  {
   "cell_type": "code",
   "execution_count": 18,
   "metadata": {},
   "outputs": [],
   "source": [
    "import jax\n",
    "import jax.numpy as jnp\n",
    "\n",
    "# Costly function to be JIT-compiled\n",
    "def selu(x, alpha=1.67, lambda_=1.05):\n",
    "  return lambda_ * jnp.where(x > 0, x, alpha * jnp.exp(x) - alpha)\n"
   ]
  },
  {
   "cell_type": "markdown",
   "metadata": {},
   "source": [
    "## Patterns to use it with covalent\n"
   ]
  },
  {
   "cell_type": "markdown",
   "metadata": {},
   "source": [
    "1. Compile the function and run it inside each electron\n",
    "\n",
    "*Useful if the jit is compute intensive and is in order of minutes of runtime. This ships the function to a cluster, compiles it for that architecture and then executes it there*"
   ]
  },
  {
   "cell_type": "code",
   "execution_count": 2,
   "metadata": {},
   "outputs": [],
   "source": [
    "\n",
    "import covalent as ct\n",
    "\n",
    "\n",
    "@ct.electron\n",
    "def compile_run(func, *args, **kwargs):\n",
    "    compiled = jax.jit(func)\n",
    "    return compiled(*args, **kwargs)\n",
    "\n"
   ]
  },
  {
   "cell_type": "markdown",
   "metadata": {},
   "source": [
    "2. Compile the function once and run it inside each electron\n",
    "\n",
    "*Useful (fastest) if the jit compilation hardware is the same as when shipping the function (example local execution)*"
   ]
  },
  {
   "cell_type": "code",
   "execution_count": null,
   "metadata": {},
   "outputs": [],
   "source": [
    "@ct.electron\n",
    "def compile_once(func, *args, **kwargs):\n",
    "    compiled = jax.jit(func)\n",
    "    return compiled\n",
    "\n",
    "@ct.electron\n",
    "def run_once(func, *args, **kwargs):\n",
    "    return func(*args, **kwargs)"
   ]
  },
  {
   "cell_type": "markdown",
   "metadata": {},
   "source": [
    "Running 10 parallel calls of the jitted function in both the pattern"
   ]
  },
  {
   "cell_type": "code",
   "execution_count": 14,
   "metadata": {},
   "outputs": [],
   "source": [
    "PARALLEL=10\n",
    "X=100_00_0"
   ]
  },
  {
   "cell_type": "markdown",
   "metadata": {},
   "source": [
    "Pattern 2 : Compile once and use it multiple times \n",
    "\n",
    "- Needs same hardware for compilation and execution\n",
    "- Fastest for local execution\n",
    "\n",
    "![](assets/compile_once.jpg)\n"
   ]
  },
  {
   "cell_type": "code",
   "execution_count": 16,
   "metadata": {},
   "outputs": [
    {
     "name": "stdout",
     "output_type": "stream",
     "text": [
      "Compile once and execute : 0:00:05.284116\n"
     ]
    }
   ],
   "source": [
    "@ct.lattice\n",
    "def parallel_compile_once(n,x):\n",
    "  a=[]\n",
    "  func=compile_once(selu)\n",
    "  for i in range(n):\n",
    "    result=run_once(func, x)\n",
    "    a.append(result)\n",
    "  return a\n",
    "runid=ct.dispatch(parallel_compile_once)(n=PARALLEL,x=X)\n",
    "\n",
    "result=ct.get_result(runid,wait=True)\n",
    "print(f\"Compile once and execute : {result.end_time-result.start_time}\")"
   ]
  },
  {
   "cell_type": "markdown",
   "metadata": {},
   "source": [
    "Pattern 2: Compile and run it everytime \n",
    "\n",
    "- Compiles for the cluster architecture and run it for long running functions\n",
    "- Slow for local execution as it is compiled everytime\n",
    "\n",
    "![compile again](assets/compile_again.jpg)"
   ]
  },
  {
   "cell_type": "code",
   "execution_count": 17,
   "metadata": {},
   "outputs": [
    {
     "name": "stdout",
     "output_type": "stream",
     "text": [
      "Compile and execute each time: 0:00:11.689765\n"
     ]
    }
   ],
   "source": [
    "@ct.lattice\n",
    "def parallel_compile_and_run(n,x):\n",
    "  a=[]\n",
    "  for i in range(n):\n",
    "    result=compile_run(selu, x)\n",
    "    a.append(result)\n",
    "  return a\n",
    "runid=ct.dispatch(parallel_compile_and_run)(n=PARALLEL,x=X)\n",
    "\n",
    "result=ct.get_result(runid,wait=True)\n",
    "print(f\"Compile and execute each time: {result.end_time-result.start_time}\")"
   ]
  }
 ],
 "metadata": {
  "kernelspec": {
   "display_name": "Python 3.8.13 ('qc')",
   "language": "python",
   "name": "python3"
  },
  "language_info": {
   "codemirror_mode": {
    "name": "ipython",
    "version": 3
   },
   "file_extension": ".py",
   "mimetype": "text/x-python",
   "name": "python",
   "nbconvert_exporter": "python",
   "pygments_lexer": "ipython3",
   "version": "3.8.13"
  },
  "orig_nbformat": 4,
  "vscode": {
   "interpreter": {
    "hash": "e756cd5dd6316fe1708c3dde087a8d44f13f6ca3f9e653648198f3fbaa77637e"
   }
  }
 },
 "nbformat": 4,
 "nbformat_minor": 2
}
