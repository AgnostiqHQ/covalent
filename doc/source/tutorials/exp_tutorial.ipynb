{
 "cells": [
  {
   "cell_type": "code",
   "execution_count": null,
   "metadata": {},
   "outputs": [],
   "source": []
  },
  {
   "cell_type": "code",
   "execution_count": 1,
   "metadata": {},
   "outputs": [],
   "source": [
    "import numpy as np\n",
    "import time\n",
    "import concurrent\n",
    "import covalent as ct\n",
    "import os\n",
    "\n",
    "rng = np.random.default_rng()\n",
    "\n",
    "SIZE = 100_000_0\n",
    "REPETITIONS = 10\n",
    "PATH = \"/Users/sankalpsanand/dev/covalent/covalent/data\"\n",
    "\n",
    "@ct.electron\n",
    "def generate_random_list(size):\n",
    "    return rng.choice(size, size=size, replace=False)\n",
    "\n",
    "@ct.electron\n",
    "def get_sorted(unsorted_list):\n",
    "    return np.sort(unsorted_list)\n",
    "\n",
    "\n",
    "@ct.electron\n",
    "def write_to_file(file_path, data):\n",
    "    with open(file_path, \"w\") as f:\n",
    "        for num in data:\n",
    "            f.write(str(num) + \"\\n\")\n",
    "    \n",
    "    return file_path\n",
    "\n",
    "\n",
    "def miniflow(size, path, i):\n",
    "    random_list = generate_random_list(size)\n",
    "    sorted_list = get_sorted(random_list)\n",
    "    write_to_file(f\"{path}/sorted_list_{i}.txt\", sorted_list)\n",
    "\n",
    "@ct.lattice\n",
    "def workflow(size, repetitions, path):\n",
    "\n",
    "    os.makedirs(path, exist_ok=True)\n",
    "\n",
    "    # Generating {# repetitions} random lists\n",
    "    for i in range(repetitions):\n",
    "        random_list = generate_random_list(size)\n",
    "        sorted_list = get_sorted(random_list)\n",
    "        write_to_file(f\"{path}/sorted_list_{i}.txt\", sorted_list)\n",
    "\n",
    "\n"
   ]
  },
  {
   "cell_type": "code",
   "execution_count": 2,
   "metadata": {},
   "outputs": [
    {
     "name": "stdout",
     "output_type": "stream",
     "text": [
      "--- 7.844016075134277 seconds ---\n"
     ]
    }
   ],
   "source": [
    "start_time = time.time()\n",
    "workflow(SIZE, REPETITIONS, PATH)\n",
    "print(\"--- %s seconds ---\" % (time.time() - start_time))\n",
    "!rm -rf data"
   ]
  },
  {
   "cell_type": "code",
   "execution_count": 3,
   "metadata": {},
   "outputs": [
    {
     "name": "stdout",
     "output_type": "stream",
     "text": [
      "--- 6.456844091415405 seconds ---\n"
     ]
    }
   ],
   "source": [
    "start_time = time.time()\n",
    "# threads = []\n",
    "\n",
    "os.makedirs(PATH, exist_ok=True)\n",
    "with concurrent.futures.ThreadPoolExecutor() as executor:\n",
    "    for i in range(REPETITIONS):\n",
    "        executor.submit(miniflow, SIZE, PATH, i)\n",
    "\n",
    "print(\"--- %s seconds ---\" % (time.time() - start_time))\n",
    "!rm -rf data"
   ]
  },
  {
   "cell_type": "code",
   "execution_count": 4,
   "metadata": {},
   "outputs": [
    {
     "name": "stdout",
     "output_type": "stream",
     "text": [
      "\n",
      "Lattice Result\n",
      "==============\n",
      "status: COMPLETED\n",
      "result: None\n",
      "inputs: {'size': 1000000, 'repetitions': 10, 'path': '/Users/sankalpsanand/dev/covalent/covalent/data'}\n",
      "error: None\n",
      "\n",
      "start_time: 2022-02-21 19:28:30.356111+00:00\n",
      "end_time: 2022-02-21 19:28:43.243791+00:00\n",
      "\n",
      "results_dir: /Users/sankalpsanand/dev/covalent/doc/source/tutorials/results\n",
      "dispatch_id: cfbaa8fb-5a42-4a3c-9ed1-8f06413d3dcb\n",
      "\n",
      "Node Outputs\n",
      "------------\n",
      "generate_random_list(0): [818155 277355 100520 ... 112230 573223 986071]\n",
      ":parameter:1000000(1): 1000000\n",
      "get_sorted(2): [     0      1      2 ... 999997 999998 999999]\n",
      "write_to_file(3): /Users/sankalpsanand/dev/covalent/covalent/data/sorted_list_0.txt\n",
      ":parameter:/Users/sankalpsanand/dev/covalent/covalent/data/sorted_list_0.txt(4): /Users/sankalpsanand/dev/covalent/covalent/data/sorted_list_0.txt\n",
      "generate_random_list(5): [818155 277355 100520 ... 112230 573223 986071]\n",
      ":parameter:1000000(6): 1000000\n",
      "get_sorted(7): [     0      1      2 ... 999997 999998 999999]\n",
      "write_to_file(8): /Users/sankalpsanand/dev/covalent/covalent/data/sorted_list_1.txt\n",
      ":parameter:/Users/sankalpsanand/dev/covalent/covalent/data/sorted_list_1.txt(9): /Users/sankalpsanand/dev/covalent/covalent/data/sorted_list_1.txt\n",
      "generate_random_list(10): [818155 277355 100520 ... 112230 573223 986071]\n",
      ":parameter:1000000(11): 1000000\n",
      "get_sorted(12): [     0      1      2 ... 999997 999998 999999]\n",
      "write_to_file(13): /Users/sankalpsanand/dev/covalent/covalent/data/sorted_list_2.txt\n",
      ":parameter:/Users/sankalpsanand/dev/covalent/covalent/data/sorted_list_2.txt(14): /Users/sankalpsanand/dev/covalent/covalent/data/sorted_list_2.txt\n",
      "generate_random_list(15): [818155 277355 100520 ... 112230 573223 986071]\n",
      ":parameter:1000000(16): 1000000\n",
      "get_sorted(17): [     0      1      2 ... 999997 999998 999999]\n",
      "write_to_file(18): /Users/sankalpsanand/dev/covalent/covalent/data/sorted_list_3.txt\n",
      ":parameter:/Users/sankalpsanand/dev/covalent/covalent/data/sorted_list_3.txt(19): /Users/sankalpsanand/dev/covalent/covalent/data/sorted_list_3.txt\n",
      "generate_random_list(20): [818155 277355 100520 ... 112230 573223 986071]\n",
      ":parameter:1000000(21): 1000000\n",
      "get_sorted(22): [     0      1      2 ... 999997 999998 999999]\n",
      "write_to_file(23): /Users/sankalpsanand/dev/covalent/covalent/data/sorted_list_4.txt\n",
      ":parameter:/Users/sankalpsanand/dev/covalent/covalent/data/sorted_list_4.txt(24): /Users/sankalpsanand/dev/covalent/covalent/data/sorted_list_4.txt\n",
      "generate_random_list(25): [818155 277355 100520 ... 112230 573223 986071]\n",
      ":parameter:1000000(26): 1000000\n",
      "get_sorted(27): [     0      1      2 ... 999997 999998 999999]\n",
      "write_to_file(28): /Users/sankalpsanand/dev/covalent/covalent/data/sorted_list_5.txt\n",
      ":parameter:/Users/sankalpsanand/dev/covalent/covalent/data/sorted_list_5.txt(29): /Users/sankalpsanand/dev/covalent/covalent/data/sorted_list_5.txt\n",
      "generate_random_list(30): [818155 277355 100520 ... 112230 573223 986071]\n",
      ":parameter:1000000(31): 1000000\n",
      "get_sorted(32): [     0      1      2 ... 999997 999998 999999]\n",
      "write_to_file(33): /Users/sankalpsanand/dev/covalent/covalent/data/sorted_list_6.txt\n",
      ":parameter:/Users/sankalpsanand/dev/covalent/covalent/data/sorted_list_6.txt(34): /Users/sankalpsanand/dev/covalent/covalent/data/sorted_list_6.txt\n",
      "generate_random_list(35): [818155 277355 100520 ... 112230 573223 986071]\n",
      ":parameter:1000000(36): 1000000\n",
      "get_sorted(37): [     0      1      2 ... 999997 999998 999999]\n",
      "write_to_file(38): /Users/sankalpsanand/dev/covalent/covalent/data/sorted_list_7.txt\n",
      ":parameter:/Users/sankalpsanand/dev/covalent/covalent/data/sorted_list_7.txt(39): /Users/sankalpsanand/dev/covalent/covalent/data/sorted_list_7.txt\n",
      "generate_random_list(40): [818155 277355 100520 ... 112230 573223 986071]\n",
      ":parameter:1000000(41): 1000000\n",
      "get_sorted(42): [     0      1      2 ... 999997 999998 999999]\n",
      "write_to_file(43): /Users/sankalpsanand/dev/covalent/covalent/data/sorted_list_8.txt\n",
      ":parameter:/Users/sankalpsanand/dev/covalent/covalent/data/sorted_list_8.txt(44): /Users/sankalpsanand/dev/covalent/covalent/data/sorted_list_8.txt\n",
      "generate_random_list(45): [818155 277355 100520 ... 112230 573223 986071]\n",
      ":parameter:1000000(46): 1000000\n",
      "get_sorted(47): [     0      1      2 ... 999997 999998 999999]\n",
      "write_to_file(48): /Users/sankalpsanand/dev/covalent/covalent/data/sorted_list_9.txt\n",
      ":parameter:/Users/sankalpsanand/dev/covalent/covalent/data/sorted_list_9.txt(49): /Users/sankalpsanand/dev/covalent/covalent/data/sorted_list_9.txt\n",
      "\n",
      "0:00:12.887680\n"
     ]
    }
   ],
   "source": [
    "result = ct.dispatch_sync(workflow)(SIZE, REPETITIONS, PATH)\n",
    "\n",
    "print(result)\n",
    "print(result.end_time - result.start_time)\n",
    "!rm -rf data"
   ]
  },
  {
   "cell_type": "code",
   "execution_count": null,
   "metadata": {},
   "outputs": [],
   "source": []
  },
  {
   "cell_type": "code",
   "execution_count": null,
   "metadata": {},
   "outputs": [],
   "source": []
  }
 ],
 "metadata": {
  "interpreter": {
   "hash": "62216de4f72e96e9c5ec5d2c0df92e870db816740528566d9fd300c207871b46"
  },
  "kernelspec": {
   "display_name": "Python 3.8.12 64-bit ('covaenv': conda)",
   "language": "python",
   "name": "python3"
  },
  "language_info": {
   "codemirror_mode": {
    "name": "ipython",
    "version": 3
   },
   "file_extension": ".py",
   "mimetype": "text/x-python",
   "name": "python",
   "nbconvert_exporter": "python",
   "pygments_lexer": "ipython3",
   "version": "3.8.12"
  },
  "orig_nbformat": 4
 },
 "nbformat": 4,
 "nbformat_minor": 2
}
