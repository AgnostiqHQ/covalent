{
 "cells": [
  {
   "cell_type": "code",
   "execution_count": 4,
   "metadata": {},
   "outputs": [],
   "source": [
    "import covalent as ct\n",
    "\n",
    "import numpy as np\n",
    "import time\n",
    "\n",
    "rng = np.random.default_rng()\n",
    "\n",
    "@ct.electron\n",
    "def merge(l1, l2):\n",
    "    i_l1 = 0\n",
    "    i_l2 = 0\n",
    "    merged_list = []\n",
    "\n",
    "    while i_l1 < len(l1) and i_l2 < len(l2):\n",
    "        if l1[i_l1] < l2[i_l2]:\n",
    "            merged_list.append(l1[i_l1])\n",
    "            i_l1 += 1\n",
    "        else:\n",
    "            merged_list.append(l2[i_l2])\n",
    "            i_l2 += 1\n",
    "    \n",
    "    if i_l1 < len(l1):\n",
    "        merged_list.extend(l1[i_l1:])\n",
    "    \n",
    "    elif i_l2 < len(l2):\n",
    "        merged_list.extend(l2[i_l2:])\n",
    "\n",
    "\n",
    "    return merged_list\n",
    "\n",
    "\n",
    "@ct.lattice\n",
    "def merge_sort(unsorted_list):\n",
    "\n",
    "    sorted_lol = [[num] for num in unsorted_list.copy()]\n",
    "\n",
    "    for _ in range(int(np.log2(len(unsorted_list)))):\n",
    "        \n",
    "        unsorted_lol = []\n",
    "        left_out_list = []\n",
    "\n",
    "        for start in range(0, len(sorted_lol), 2):\n",
    "            if start + 1 < len(sorted_lol):\n",
    "                unsorted_lol.append((sorted_lol[start], sorted_lol[start + 1]))\n",
    "            else:\n",
    "                left_out_list = sorted_lol[-1]\n",
    "        \n",
    "        # print(\"\\nunsorted_lol:\", unsorted_lol)\n",
    "        # print(\"left_out_list:\", left_out_list)\n",
    "        \n",
    "        sorted_lol = [merge(l1, l2) for l1, l2 in unsorted_lol]\n",
    "        \n",
    "        if left_out_list:\n",
    "            sorted_lol[-1] = merge(sorted_lol[-1], left_out_list)\n",
    "        \n",
    "        # print(\"sorted_lol with left_out_list(new temp):\", temp)\n",
    "    \n",
    "    return sorted_lol[0]\n",
    "\n",
    "SIZE = 100\n",
    "\n",
    "random_list = list(rng.choice(SIZE, size=SIZE, replace=False))\n",
    "\n",
    "# print(\"List before sorting is:\", random_list)\n",
    "\n",
    "\n"
   ]
  },
  {
   "cell_type": "code",
   "execution_count": 5,
   "metadata": {},
   "outputs": [
    {
     "name": "stdout",
     "output_type": "stream",
     "text": [
      "--- 0.00041604042053222656 seconds ---\n"
     ]
    }
   ],
   "source": [
    "start_time = time.time()\n",
    "res = merge_sort(random_list)\n",
    "# print(\"List after sorting is:\", res)\n",
    "print(\"--- %s seconds ---\" % (time.time() - start_time))"
   ]
  },
  {
   "cell_type": "code",
   "execution_count": 6,
   "metadata": {},
   "outputs": [
    {
     "name": "stdout",
     "output_type": "stream",
     "text": [
      "--- 0:00:11.869386 seconds ---\n"
     ]
    }
   ],
   "source": [
    "result = ct.dispatch_sync(merge_sort)(random_list.copy())\n",
    "# print(result)\n",
    "print(\"--- %s seconds ---\" % (result.end_time - result.start_time))"
   ]
  },
  {
   "cell_type": "code",
   "execution_count": 7,
   "metadata": {},
   "outputs": [
    {
     "name": "stdout",
     "output_type": "stream",
     "text": [
      "[0, 1, 2, 3, 4, 5, 6, 7, 8, 9, 10, 11, 12, 13, 14, 15, 16, 17, 18, 19, 20, 21, 22, 23, 24, 25, 26, 27, 28, 29, 30, 31, 32, 33, 34, 35, 36, 37, 38, 39, 40, 41, 42, 43, 44, 45, 46, 47, 48, 49, 50, 51, 52, 53, 54, 55, 56, 57, 58, 59, 60, 61, 62, 63, 64, 65, 66, 67, 68, 69, 70, 71, 72, 73, 74, 75, 76, 77, 78, 79, 80, 81, 82, 83, 84, 85, 86, 87, 88, 89, 90, 91, 92, 93, 94, 95, 96, 97, 98, 99]\n"
     ]
    }
   ],
   "source": [
    "print(result.result)"
   ]
  },
  {
   "cell_type": "code",
   "execution_count": null,
   "metadata": {},
   "outputs": [],
   "source": []
  }
 ],
 "metadata": {
  "interpreter": {
   "hash": "62216de4f72e96e9c5ec5d2c0df92e870db816740528566d9fd300c207871b46"
  },
  "kernelspec": {
   "display_name": "Python 3.8.12 ('covaenv')",
   "language": "python",
   "name": "python3"
  },
  "language_info": {
   "codemirror_mode": {
    "name": "ipython",
    "version": 3
   },
   "file_extension": ".py",
   "mimetype": "text/x-python",
   "name": "python",
   "nbconvert_exporter": "python",
   "pygments_lexer": "ipython3",
   "version": "3.8.12"
  },
  "orig_nbformat": 4
 },
 "nbformat": 4,
 "nbformat_minor": 2
}
