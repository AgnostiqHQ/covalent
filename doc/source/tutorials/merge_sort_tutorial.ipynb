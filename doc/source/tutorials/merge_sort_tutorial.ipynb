{
 "cells": [
  {
   "cell_type": "markdown",
   "metadata": {},
   "source": [
    "Briefly explain what merge sort does"
   ]
  },
  {
   "cell_type": "markdown",
   "metadata": {},
   "source": [
    "Describe what file writing will we be doing acc to the order of the list"
   ]
  },
  {
   "cell_type": "code",
   "execution_count": 18,
   "metadata": {},
   "outputs": [
    {
     "name": "stdout",
     "output_type": "stream",
     "text": [
      "The Original array is:  [3 0 1 7 2 4 9 8 5 6]\n",
      "Array after sorting is:  [0 1 2 3 4 5 6 7 8 9]\n",
      "--- 0.00044226646423339844 seconds ---\n",
      "\n",
      "Lattice Result\n",
      "==============\n",
      "status: COMPLETED\n",
      "result: [0 1 2 3 4 5 6 7 8 9]\n",
      "inputs: {'unsorted_list': array([3, 0, 1, 7, 2, 4, 9, 8, 5, 6])}\n",
      "error: None\n",
      "\n",
      "start_time: 2022-02-17 16:12:34.854310+00:00\n",
      "end_time: 2022-02-17 16:12:35.351969+00:00\n",
      "\n",
      "results_dir: /Users/sankalpsanand/dev/covalent/doc/source/tutorials/results\n",
      "dispatch_id: 80dbe09a-7cb3-478f-ad9a-f1fed9b4061d\n",
      "\n",
      "Node Outputs\n",
      "------------\n",
      "get_list_copy(0): [0 3 1 7 2 4 9 8 5 6]\n",
      ":parameter:[3 0 1 7 2 4 9 8 5 6](1): [3 0 1 7 2 4 9 8 5 6]\n",
      "merge(2): [0 3 1 7 2 4 9 8 5 6]\n",
      ":parameter:0(3): 0\n",
      ":parameter:0(4): 0\n",
      ":parameter:1(5): 1\n",
      "get_list_copy(6): [0 3 1 7 2 4 9 8 5 6]\n",
      "merge(7): [0 3 1 7 2 4 9 8 5 6]\n",
      ":parameter:2(8): 2\n",
      ":parameter:2(9): 2\n",
      ":parameter:3(10): 3\n",
      "get_list_copy(11): [0 3 1 7 2 4 9 8 5 6]\n",
      "merge(12): [0 3 1 7 2 4 9 8 5 6]\n",
      ":parameter:4(13): 4\n",
      ":parameter:4(14): 4\n",
      ":parameter:5(15): 5\n",
      "get_list_copy(16): [0 3 1 7 2 4 8 9 5 6]\n",
      "merge(17): [0 3 1 7 2 4 8 9 5 6]\n",
      ":parameter:6(18): 6\n",
      ":parameter:6(19): 6\n",
      ":parameter:7(20): 7\n",
      "get_list_copy(21): [0 3 1 7 2 4 8 9 5 6]\n",
      "merge(22): [0 3 1 7 2 4 8 9 5 6]\n",
      ":parameter:8(23): 8\n",
      ":parameter:8(24): 8\n",
      ":parameter:9(25): 9\n",
      "get_list_copy(26): [0 1 3 7 2 4 8 9 5 6]\n",
      "merge(27): [0 1 3 7 2 4 8 9 5 6]\n",
      ":parameter:0(28): 0\n",
      ":parameter:1(29): 1\n",
      ":parameter:3(30): 3\n",
      "get_list_copy(31): [0 1 3 7 2 4 8 9 5 6]\n",
      "merge(32): [0 1 3 7 2 4 8 9 5 6]\n",
      ":parameter:4(33): 4\n",
      ":parameter:5(34): 5\n",
      ":parameter:7(35): 7\n",
      "get_list_copy(36): [0 1 3 7 2 4 8 9 5 6]\n",
      "merge(37): [0 1 3 7 2 4 8 9 5 6]\n",
      ":parameter:8(38): 8\n",
      ":parameter:9(39): 9\n",
      ":parameter:9(40): 9\n",
      "get_list_copy(41): [0 1 2 3 4 7 8 9 5 6]\n",
      "merge(42): [0 1 2 3 4 7 8 9 5 6]\n",
      ":parameter:0(43): 0\n",
      ":parameter:3(44): 3\n",
      ":parameter:7(45): 7\n",
      "get_list_copy(46): [0 1 2 3 4 7 8 9 5 6]\n",
      "merge(47): [0 1 2 3 4 7 8 9 5 6]\n",
      ":parameter:8(48): 8\n",
      ":parameter:11(49): 11\n",
      ":parameter:9(50): 9\n",
      "get_list_copy(51): [0 1 2 3 4 5 6 7 8 9]\n",
      "merge(52): [0 1 2 3 4 5 6 7 8 9]\n",
      ":parameter:0(53): 0\n",
      ":parameter:7(54): 7\n",
      ":parameter:9(55): 9\n",
      "\n",
      "--- 1.2365460395812988 seconds ---\n"
     ]
    }
   ],
   "source": [
    "import covalent as ct\n",
    "from numpy.random import default_rng\n",
    "from matplotlib import pyplot as plt\n",
    "import time\n",
    "\n",
    "rng = default_rng()\n",
    "\n",
    "@ct.electron\n",
    "def get_list_copy(list_for_copy):\n",
    "    return list_for_copy.copy()\n",
    "\n",
    "\n",
    "@ct.electron\n",
    "def merge(partially_sorted_list, start, mid, end):\n",
    " \n",
    "    a = start\n",
    "    b = start\n",
    "    c = mid + 1\n",
    "\n",
    "    temp = partially_sorted_list.copy()\n",
    " \n",
    "    while b <= mid and c <= end:\n",
    "        if partially_sorted_list[b] < partially_sorted_list[c]:\n",
    "            temp[a] = partially_sorted_list[b]\n",
    "            b = b + 1\n",
    "        else:\n",
    "            temp[a] = partially_sorted_list[c]\n",
    "            c = c + 1\n",
    "        a = a + 1\n",
    " \n",
    "    # remaining elements\n",
    "    while b < len(partially_sorted_list) and b <= mid:\n",
    "        temp[a] = partially_sorted_list[b]\n",
    "        a = a + 1\n",
    "        b = b + 1\n",
    " \n",
    "    # copy back\n",
    "    for b in range(start, end + 1):\n",
    "        partially_sorted_list[b] = temp[b]\n",
    "\n",
    "    return partially_sorted_list\n",
    " \n",
    "\n",
    "# Iterative sort\n",
    "@ct.lattice\n",
    "def merge_sort(unsorted_list):\n",
    " \n",
    "    first_index = 0\n",
    "    last_index = len(unsorted_list) - 1\n",
    "\n",
    "    sorted_list = unsorted_list.copy() \n",
    " \n",
    "    diff = 1\n",
    "    while diff <= last_index - first_index:\n",
    " \n",
    "        for start in range(first_index, last_index, 2 * diff):\n",
    "            mid = start + diff - 1\n",
    "            end = min(mid + diff, last_index)\n",
    "            sorted_list = merge(get_list_copy(sorted_list), start, mid, end)\n",
    " \n",
    "        diff = 2 * diff\n",
    "    \n",
    "    return sorted_list\n",
    "\n",
    "random_list = rng.choice(10, size=10, replace=False)\n",
    "print(\"The Original array is: \", random_list)\n",
    "\n",
    "start_time = time.time()\n",
    "res = merge_sort(random_list.copy())\n",
    "print(\"Array after sorting is: \", res)\n",
    "print(\"--- %s seconds ---\" % (time.time() - start_time))\n",
    "\n",
    "start_time = time.time()\n",
    "result = ct.dispatch_sync(merge_sort)(random_list.copy())\n",
    "print(result)\n",
    "print(\"--- %s seconds ---\" % (time.time() - start_time))"
   ]
  },
  {
   "cell_type": "code",
   "execution_count": null,
   "metadata": {},
   "outputs": [],
   "source": []
  },
  {
   "cell_type": "code",
   "execution_count": null,
   "metadata": {},
   "outputs": [],
   "source": [
    "# Write the code for file writing"
   ]
  },
  {
   "cell_type": "markdown",
   "metadata": {},
   "source": [
    "Show time taken by the whole thing. Indicate that you couldn't do something else while that was running. You had to add a time module call before and after the function calls in order to measure it. If you want to do it in parallel, then multithreading will require additional code sending each function call to a separate thread, etc."
   ]
  },
  {
   "cell_type": "markdown",
   "metadata": {},
   "source": [
    "Start the dispatcher server and click on the link to start the dispatcher ui"
   ]
  },
  {
   "cell_type": "markdown",
   "metadata": {},
   "source": [
    "Add the electron and lattice decorators on the functions and then call dispatch."
   ]
  },
  {
   "cell_type": "markdown",
   "metadata": {},
   "source": [
    "Check the UI and see the progress in real time."
   ]
  },
  {
   "cell_type": "markdown",
   "metadata": {},
   "source": [
    "Run a completely different code here to show that you can continue working on something else while the execution is being done."
   ]
  },
  {
   "cell_type": "markdown",
   "metadata": {},
   "source": [
    "do get result and see all of the information the result object can give you"
   ]
  },
  {
   "cell_type": "code",
   "execution_count": null,
   "metadata": {},
   "outputs": [],
   "source": []
  }
 ],
 "metadata": {
  "interpreter": {
   "hash": "62216de4f72e96e9c5ec5d2c0df92e870db816740528566d9fd300c207871b46"
  },
  "kernelspec": {
   "display_name": "Python 3.8.12 ('covaenv')",
   "language": "python",
   "name": "python3"
  },
  "language_info": {
   "codemirror_mode": {
    "name": "ipython",
    "version": 3
   },
   "file_extension": ".py",
   "mimetype": "text/x-python",
   "name": "python",
   "nbconvert_exporter": "python",
   "pygments_lexer": "ipython3",
   "version": "3.8.12"
  },
  "orig_nbformat": 4
 },
 "nbformat": 4,
 "nbformat_minor": 2
}
