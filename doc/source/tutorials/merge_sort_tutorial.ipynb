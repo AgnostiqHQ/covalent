{
 "cells": [
  {
   "cell_type": "code",
   "execution_count": 1,
   "metadata": {},
   "outputs": [
    {
     "name": "stdout",
     "output_type": "stream",
     "text": [
      "List before sorting is: [7 6 8 1 9 2 4 5 0 3]\n",
      "List after sorting is: [0, 1, 2, 3, 4, 5, 6, 7, 8, 9]\n",
      "--- 0.0001609325408935547 seconds ---\n"
     ]
    }
   ],
   "source": [
    "import covalent as ct\n",
    "from numpy.random import default_rng\n",
    "import time\n",
    "\n",
    "rng = default_rng()\n",
    "\n",
    "@ct.electron\n",
    "def merge(l1, l2):\n",
    "    i_l1 = 0\n",
    "    i_l2 = 0\n",
    "    merged_list = []\n",
    "\n",
    "    while i_l1 < len(l1) and i_l2 < len(l2):\n",
    "        if l1[i_l1] < l2[i_l2]:\n",
    "            merged_list.append(l1[i_l1])\n",
    "            i_l1 += 1\n",
    "        else:\n",
    "            merged_list.append(l2[i_l2])\n",
    "            i_l2 += 1\n",
    "    \n",
    "    if i_l1 < len(l1):\n",
    "        merged_list.extend(l1[i_l1:])\n",
    "    \n",
    "    elif i_l2 < len(l2):\n",
    "        merged_list.extend(l2[i_l2:])\n",
    "\n",
    "\n",
    "    return merged_list\n",
    "\n",
    "@ct.lattice\n",
    "def merge_sort(unsorted_list):\n",
    "\n",
    "    sorted_lol = []\n",
    "    temp = [[num] for num in unsorted_list.copy()]\n",
    "    # print(temp)\n",
    "\n",
    "    while len(temp) > 1:\n",
    "\n",
    "        unsorted_lol = []\n",
    "        sorted_lol = []\n",
    "        left_out_list = []\n",
    "\n",
    "        for start in range(0, len(temp), 2):\n",
    "            if start + 1 < len(temp):\n",
    "                unsorted_lol.append((temp[start], temp[start + 1]))\n",
    "            else:\n",
    "                left_out_list = temp[-1].copy()\n",
    "        \n",
    "        # print(\"\\nunsorted_lol:\", unsorted_lol)\n",
    "        # print(\"left_out_list:\", left_out_list)\n",
    "\n",
    "        for l1, l2 in unsorted_lol:\n",
    "            sorted_lol.append(merge(l1, l2))\n",
    "        \n",
    "        # print(\"sorted_lol:\", sorted_lol)\n",
    "        \n",
    "        if left_out_list:\n",
    "            sorted_lol[-1] = merge(sorted_lol[-1], left_out_list)\n",
    "        \n",
    "        temp = sorted_lol.copy()\n",
    "        # print(\"sorted_lol with left_out_list(new temp):\", temp)\n",
    "    \n",
    "    return sorted_lol[0]\n",
    "\n",
    "SIZE = 10\n",
    "\n",
    "random_list = rng.choice(SIZE, size=SIZE, replace=False)\n",
    "\n",
    "print(\"List before sorting is:\", random_list)\n",
    "\n",
    "start_time = time.time()\n",
    "res = merge_sort(random_list)\n",
    "print(\"List after sorting is:\", res)\n",
    "print(\"--- %s seconds ---\" % (time.time() - start_time))\n"
   ]
  },
  {
   "cell_type": "code",
   "execution_count": 2,
   "metadata": {},
   "outputs": [
    {
     "name": "stderr",
     "output_type": "stream",
     "text": [
      "/Users/sankalpsanand/dev/covalent/covalent/_workflow/lattice.py:145: UserWarning: Please make sure you are not manipulating an object inside the lattice.\n",
      "  warnings.warn(\n"
     ]
    },
    {
     "ename": "TypeError",
     "evalue": "'NoneType' object is not iterable",
     "output_type": "error",
     "traceback": [
      "\u001b[0;31m---------------------------------------------------------------------------\u001b[0m",
      "\u001b[0;31mTypeError\u001b[0m                                 Traceback (most recent call last)",
      "\u001b[1;32m/Users/sankalpsanand/dev/covalent/doc/source/tutorials/merge_sort_tutorial.ipynb Cell 2'\u001b[0m in \u001b[0;36m<module>\u001b[0;34m\u001b[0m\n\u001b[0;32m----> <a href='vscode-notebook-cell:/Users/sankalpsanand/dev/covalent/doc/source/tutorials/merge_sort_tutorial.ipynb#ch0000001?line=0'>1</a>\u001b[0m result \u001b[39m=\u001b[39m ct\u001b[39m.\u001b[39;49mdispatch_sync(merge_sort)(random_list\u001b[39m.\u001b[39;49mcopy())\n\u001b[1;32m      <a href='vscode-notebook-cell:/Users/sankalpsanand/dev/covalent/doc/source/tutorials/merge_sort_tutorial.ipynb#ch0000001?line=1'>2</a>\u001b[0m \u001b[39mprint\u001b[39m(result)\n\u001b[1;32m      <a href='vscode-notebook-cell:/Users/sankalpsanand/dev/covalent/doc/source/tutorials/merge_sort_tutorial.ipynb#ch0000001?line=2'>3</a>\u001b[0m \u001b[39mprint\u001b[39m(\u001b[39m\"\u001b[39m\u001b[39m--- \u001b[39m\u001b[39m%s\u001b[39;00m\u001b[39m seconds ---\u001b[39m\u001b[39m\"\u001b[39m \u001b[39m%\u001b[39m (result\u001b[39m.\u001b[39mend_time \u001b[39m-\u001b[39m result\u001b[39m.\u001b[39mstart_time))\n",
      "File \u001b[0;32m~/dev/covalent/covalent/_dispatcher_plugins/local.py:136\u001b[0m, in \u001b[0;36mLocalDispatcher.dispatch_sync.<locals>.wrapper\u001b[0;34m(*args, **kwargs)\u001b[0m\n\u001b[1;32m    <a href='file:///~/dev/covalent/covalent/_dispatcher_plugins/local.py?line=120'>121</a>\u001b[0m \u001b[39m@wraps\u001b[39m(lattice)\n\u001b[1;32m    <a href='file:///~/dev/covalent/covalent/_dispatcher_plugins/local.py?line=121'>122</a>\u001b[0m \u001b[39mdef\u001b[39;00m \u001b[39mwrapper\u001b[39m(\u001b[39m*\u001b[39margs, \u001b[39m*\u001b[39m\u001b[39m*\u001b[39mkwargs) \u001b[39m-\u001b[39m\u001b[39m>\u001b[39m Result:\n\u001b[1;32m    <a href='file:///~/dev/covalent/covalent/_dispatcher_plugins/local.py?line=122'>123</a>\u001b[0m     \u001b[39m\"\"\"\u001b[39;00m\n\u001b[1;32m    <a href='file:///~/dev/covalent/covalent/_dispatcher_plugins/local.py?line=123'>124</a>\u001b[0m \u001b[39m    Send the lattice to the dispatcher server and return\u001b[39;00m\n\u001b[1;32m    <a href='file:///~/dev/covalent/covalent/_dispatcher_plugins/local.py?line=124'>125</a>\u001b[0m \u001b[39m    the result of the executed workflow.\u001b[39;00m\n\u001b[0;32m   (...)\u001b[0m\n\u001b[1;32m    <a href='file:///~/dev/covalent/covalent/_dispatcher_plugins/local.py?line=131'>132</a>\u001b[0m \u001b[39m        The result of the executed workflow.\u001b[39;00m\n\u001b[1;32m    <a href='file:///~/dev/covalent/covalent/_dispatcher_plugins/local.py?line=132'>133</a>\u001b[0m \u001b[39m    \"\"\"\u001b[39;00m\n\u001b[1;32m    <a href='file:///~/dev/covalent/covalent/_dispatcher_plugins/local.py?line=134'>135</a>\u001b[0m     \u001b[39mreturn\u001b[39;00m get_result(\n\u001b[0;32m--> <a href='file:///~/dev/covalent/covalent/_dispatcher_plugins/local.py?line=135'>136</a>\u001b[0m         LocalDispatcher\u001b[39m.\u001b[39;49mdispatch(lattice, dispatcher_addr)(\u001b[39m*\u001b[39;49margs, \u001b[39m*\u001b[39;49m\u001b[39m*\u001b[39;49mkwargs),\n\u001b[1;32m    <a href='file:///~/dev/covalent/covalent/_dispatcher_plugins/local.py?line=136'>137</a>\u001b[0m         lattice\u001b[39m.\u001b[39mmetadata[\u001b[39m\"\u001b[39m\u001b[39mresults_dir\u001b[39m\u001b[39m\"\u001b[39m],\n\u001b[1;32m    <a href='file:///~/dev/covalent/covalent/_dispatcher_plugins/local.py?line=137'>138</a>\u001b[0m         wait\u001b[39m=\u001b[39m\u001b[39mTrue\u001b[39;00m,\n\u001b[1;32m    <a href='file:///~/dev/covalent/covalent/_dispatcher_plugins/local.py?line=138'>139</a>\u001b[0m     )\n",
      "File \u001b[0;32m~/dev/covalent/covalent/_dispatcher_plugins/local.py:85\u001b[0m, in \u001b[0;36mLocalDispatcher.dispatch.<locals>.wrapper\u001b[0;34m(*args, **kwargs)\u001b[0m\n\u001b[1;32m     <a href='file:///~/dev/covalent/covalent/_dispatcher_plugins/local.py?line=79'>80</a>\u001b[0m \u001b[39mif\u001b[39;00m lattice\u001b[39m.\u001b[39mworkflow_function:\n\u001b[1;32m     <a href='file:///~/dev/covalent/covalent/_dispatcher_plugins/local.py?line=80'>81</a>\u001b[0m     kwargs\u001b[39m.\u001b[39mupdate(\n\u001b[1;32m     <a href='file:///~/dev/covalent/covalent/_dispatcher_plugins/local.py?line=81'>82</a>\u001b[0m         \u001b[39mdict\u001b[39m(\u001b[39mzip\u001b[39m(\u001b[39mlist\u001b[39m(inspect\u001b[39m.\u001b[39msignature(lattice\u001b[39m.\u001b[39mworkflow_function)\u001b[39m.\u001b[39mparameters), args))\n\u001b[1;32m     <a href='file:///~/dev/covalent/covalent/_dispatcher_plugins/local.py?line=82'>83</a>\u001b[0m     )\n\u001b[0;32m---> <a href='file:///~/dev/covalent/covalent/_dispatcher_plugins/local.py?line=84'>85</a>\u001b[0m lattice\u001b[39m.\u001b[39;49mbuild_graph(\u001b[39m*\u001b[39;49m\u001b[39m*\u001b[39;49mkwargs)\n\u001b[1;32m     <a href='file:///~/dev/covalent/covalent/_dispatcher_plugins/local.py?line=86'>87</a>\u001b[0m \u001b[39m# Serializing the transport graph and then passing it to the Result object\u001b[39;00m\n\u001b[1;32m     <a href='file:///~/dev/covalent/covalent/_dispatcher_plugins/local.py?line=87'>88</a>\u001b[0m lattice\u001b[39m.\u001b[39mtransport_graph \u001b[39m=\u001b[39m lattice\u001b[39m.\u001b[39mtransport_graph\u001b[39m.\u001b[39mserialize()\n",
      "File \u001b[0;32m~/dev/covalent/covalent/_workflow/lattice.py:143\u001b[0m, in \u001b[0;36mLattice.build_graph\u001b[0;34m(self, *args, **kwargs)\u001b[0m\n\u001b[1;32m    <a href='file:///~/dev/covalent/covalent/_workflow/lattice.py?line=140'>141</a>\u001b[0m \u001b[39mwith\u001b[39;00m active_lattice_manager\u001b[39m.\u001b[39mclaim(\u001b[39mself\u001b[39m):\n\u001b[1;32m    <a href='file:///~/dev/covalent/covalent/_workflow/lattice.py?line=141'>142</a>\u001b[0m     \u001b[39mtry\u001b[39;00m:\n\u001b[0;32m--> <a href='file:///~/dev/covalent/covalent/_workflow/lattice.py?line=142'>143</a>\u001b[0m         \u001b[39mself\u001b[39;49m\u001b[39m.\u001b[39;49mworkflow_function(\u001b[39m*\u001b[39;49m\u001b[39m*\u001b[39;49mkwargs)\n\u001b[1;32m    <a href='file:///~/dev/covalent/covalent/_workflow/lattice.py?line=143'>144</a>\u001b[0m     \u001b[39mexcept\u001b[39;00m \u001b[39mException\u001b[39;00m:\n\u001b[1;32m    <a href='file:///~/dev/covalent/covalent/_workflow/lattice.py?line=144'>145</a>\u001b[0m         warnings\u001b[39m.\u001b[39mwarn(\n\u001b[1;32m    <a href='file:///~/dev/covalent/covalent/_workflow/lattice.py?line=145'>146</a>\u001b[0m             \u001b[39m\"\u001b[39m\u001b[39mPlease make sure you are not manipulating an object inside the lattice.\u001b[39m\u001b[39m\"\u001b[39m\n\u001b[1;32m    <a href='file:///~/dev/covalent/covalent/_workflow/lattice.py?line=146'>147</a>\u001b[0m         )\n",
      "\u001b[1;32m/Users/sankalpsanand/dev/covalent/doc/source/tutorials/merge_sort_tutorial.ipynb Cell 1'\u001b[0m in \u001b[0;36mmerge_sort\u001b[0;34m(unsorted_list)\u001b[0m\n\u001b[1;32m     <a href='vscode-notebook-cell:/Users/sankalpsanand/dev/covalent/doc/source/tutorials/merge_sort_tutorial.ipynb#ch0000000?line=44'>45</a>\u001b[0m         unsorted_lol\u001b[39m.\u001b[39mappend((temp[start], temp[start \u001b[39m+\u001b[39m \u001b[39m1\u001b[39m]))\n\u001b[1;32m     <a href='vscode-notebook-cell:/Users/sankalpsanand/dev/covalent/doc/source/tutorials/merge_sort_tutorial.ipynb#ch0000000?line=45'>46</a>\u001b[0m     \u001b[39melse\u001b[39;00m:\n\u001b[0;32m---> <a href='vscode-notebook-cell:/Users/sankalpsanand/dev/covalent/doc/source/tutorials/merge_sort_tutorial.ipynb#ch0000000?line=46'>47</a>\u001b[0m         left_out_list \u001b[39m=\u001b[39m temp[\u001b[39m-\u001b[39;49m\u001b[39m1\u001b[39;49m]\u001b[39m.\u001b[39;49mcopy()\n\u001b[1;32m     <a href='vscode-notebook-cell:/Users/sankalpsanand/dev/covalent/doc/source/tutorials/merge_sort_tutorial.ipynb#ch0000000?line=48'>49</a>\u001b[0m \u001b[39m# print(\"\\nunsorted_lol:\", unsorted_lol)\u001b[39;00m\n\u001b[1;32m     <a href='vscode-notebook-cell:/Users/sankalpsanand/dev/covalent/doc/source/tutorials/merge_sort_tutorial.ipynb#ch0000000?line=49'>50</a>\u001b[0m \u001b[39m# print(\"left_out_list:\", left_out_list)\u001b[39;00m\n\u001b[1;32m     <a href='vscode-notebook-cell:/Users/sankalpsanand/dev/covalent/doc/source/tutorials/merge_sort_tutorial.ipynb#ch0000000?line=51'>52</a>\u001b[0m \u001b[39mfor\u001b[39;00m l1, l2 \u001b[39min\u001b[39;00m unsorted_lol:\n",
      "File \u001b[0;32m~/dev/covalent/covalent/_workflow/electron.py:339\u001b[0m, in \u001b[0;36mElectron.__call__\u001b[0;34m(self, *args, **kwargs)\u001b[0m\n\u001b[1;32m    <a href='file:///~/dev/covalent/covalent/_workflow/electron.py?line=334'>335</a>\u001b[0m     \u001b[39mreturn\u001b[39;00m active_lattice\u001b[39m.\u001b[39melectron_outputs\u001b[39m.\u001b[39mpop(\u001b[39m0\u001b[39m)\n\u001b[1;32m    <a href='file:///~/dev/covalent/covalent/_workflow/electron.py?line=336'>337</a>\u001b[0m \u001b[39m# Setting metadata for default values according to lattice's metadata\u001b[39;00m\n\u001b[1;32m    <a href='file:///~/dev/covalent/covalent/_workflow/electron.py?line=337'>338</a>\u001b[0m \u001b[39m# If metadata is default, then set it to lattice's default\u001b[39;00m\n\u001b[0;32m--> <a href='file:///~/dev/covalent/covalent/_workflow/electron.py?line=338'>339</a>\u001b[0m \u001b[39mfor\u001b[39;00m k \u001b[39min\u001b[39;00m \u001b[39mself\u001b[39m\u001b[39m.\u001b[39mmetadata:\n\u001b[1;32m    <a href='file:///~/dev/covalent/covalent/_workflow/electron.py?line=339'>340</a>\u001b[0m     \u001b[39mif\u001b[39;00m (\n\u001b[1;32m    <a href='file:///~/dev/covalent/covalent/_workflow/electron.py?line=340'>341</a>\u001b[0m         k \u001b[39mnot\u001b[39;00m \u001b[39min\u001b[39;00m consumable_constraints\n\u001b[1;32m    <a href='file:///~/dev/covalent/covalent/_workflow/electron.py?line=341'>342</a>\u001b[0m         \u001b[39mand\u001b[39;00m \u001b[39mself\u001b[39m\u001b[39m.\u001b[39mget_metadata(k) \u001b[39mis\u001b[39;00m _DEFAULT_CONSTRAINT_VALUES[k]\n\u001b[1;32m    <a href='file:///~/dev/covalent/covalent/_workflow/electron.py?line=342'>343</a>\u001b[0m     ):\n\u001b[1;32m    <a href='file:///~/dev/covalent/covalent/_workflow/electron.py?line=343'>344</a>\u001b[0m         \u001b[39mself\u001b[39m\u001b[39m.\u001b[39mset_metadata(k, active_lattice\u001b[39m.\u001b[39mget_metadata(k))\n",
      "\u001b[0;31mTypeError\u001b[0m: 'NoneType' object is not iterable"
     ]
    }
   ],
   "source": [
    "result = ct.dispatch_sync(merge_sort)(random_list.copy())\n",
    "print(result)\n",
    "print(\"--- %s seconds ---\" % (result.end_time - result.start_time))"
   ]
  },
  {
   "cell_type": "code",
   "execution_count": null,
   "metadata": {},
   "outputs": [],
   "source": []
  }
 ],
 "metadata": {
  "interpreter": {
   "hash": "62216de4f72e96e9c5ec5d2c0df92e870db816740528566d9fd300c207871b46"
  },
  "kernelspec": {
   "display_name": "Python 3.8.12 ('covaenv')",
   "language": "python",
   "name": "python3"
  },
  "language_info": {
   "codemirror_mode": {
    "name": "ipython",
    "version": 3
   },
   "file_extension": ".py",
   "mimetype": "text/x-python",
   "name": "python",
   "nbconvert_exporter": "python",
   "pygments_lexer": "ipython3",
   "version": "3.8.12"
  },
  "orig_nbformat": 4
 },
 "nbformat": 4,
 "nbformat_minor": 2
}
