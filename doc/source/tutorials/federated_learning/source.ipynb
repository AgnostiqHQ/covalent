{
 "cells": [
  {
   "cell_type": "markdown",
   "id": "146d846a-594c-4024-bb43-b04575880e67",
   "metadata": {},
   "source": [
    "# Improving Chest X-ray Pneumonia Detection with Federated Learning and Covalent\n",
    "\n",
    "![alt text](assets/hero.png \"Covalent\")\n",
    "\n",
    "In this tutorial, we will provide a comprehensive guide on federated learning, dive into the technical aspects required for building Covalent workflows, and showcase how the two can be combined to build powerful experiments. The exemplar case we will employ involves the identification of pneumonia from chest X-rays."
   ]
  },
  {
   "cell_type": "markdown",
   "id": "400f9bb8-498d-4915-ab45-d70511ef3c52",
   "metadata": {},
   "source": [
    "This tutorial requires PyTorch, Hugging Face Transformers and Covalent plugins. To install all of them, simply use the requirements.txt file to replicate this notebook"
   ]
  },
  {
   "cell_type": "code",
   "execution_count": 27,
   "id": "c1f42d9a-f340-42f3-a7fe-fd8c11d9d65d",
   "metadata": {},
   "outputs": [
    {
     "name": "stdout",
     "output_type": "stream",
     "text": [
      "covalent==0.220.0\n",
      "covalent-awsbatch-plugin==0.26.0\n",
      "covalent-azurebatch-plugin==0.12.0\n",
      "covalent-gcpbatch-plugin==0.9.0\n",
      "datasets==2.14.0\n",
      "torch==2.0.1\n",
      "torchvision==0.15.2\n",
      "pandas\n",
      "plotly\n"
     ]
    }
   ],
   "source": [
    "with open(\"./requirements.txt\", \"r\") as file:\n",
    "    for line in file:\n",
    "        print(line.rstrip())"
   ]
  },
  {
   "cell_type": "code",
   "execution_count": 28,
   "id": "167485a1-d709-4f27-b4f4-6b2e6c98947e",
   "metadata": {},
   "outputs": [],
   "source": [
    "# Uncomment below line to install necessary libraries\n",
    "# !pip install -r requirements.txt"
   ]
  },
  {
   "cell_type": "markdown",
   "id": "2872e864-d3a9-4265-bece-001baa88829a",
   "metadata": {},
   "source": [
    "# Federated Learning on Pneumonia Chest X-rays\n",
    "In our demonstration of federated learning, we will train three separate Convolutional Neural Networks (CNNs) using distinct Pneumonia Chest X-ray datasets. Subsequently, the trained models and their corresponding weights will be transmitted back to a central node. On this central node, we will perform weight aggregation using a simple weighted arithmetic mean:\n",
    "\n",
    "$$\n",
    "\\begin{equation}\n",
    "w_{j} = \\sum_{k=1}^{K} \\frac{w_{jk} d_k}{\\sum_{i=1}^{K}d_i}\n",
    "\\tag{1}\n",
    "\\end{equation}\n",
    "$$"
   ]
  },
  {
   "cell_type": "markdown",
   "id": "25b99a4c-2d63-4363-9035-9a0679110901",
   "metadata": {},
   "source": [
    "Here, $w_j$ represents the set of weights in CNN layer $j$, $K$ is the number of models/datasets, which in our case is three, and $d_k$ represents the size of the dataset $k$."
   ]
  },
  {
   "cell_type": "markdown",
   "id": "a6886368-315d-4725-b24e-6bbc01b87eab",
   "metadata": {},
   "source": [
    "This federated learning variant is commonly called [centralized federated learning](https://en.wikipedia.org/wiki/Federated_learning#Centralized_federated_learning), where a single central node oversees the entire learning process. Utilizing weight averaging represents just one approach among several options available in federated learning. Other alternatives include exchanging gradients instead of weights or implementing techniques such as dynamic regularization.\n",
    "\n",
    "Broadly speaking, our federated learning workflow encompasses the subsequent stages:\n",
    "\n",
    "1. Training autonomous CNN models in isolation.\n",
    "2. Consolidating the distinct CNN models into a singular aggregated model.\n",
    "3. Iteratively revisiting steps 1-2, this time refining the autonomous models by fine-tuning the aggregated model. \n",
    "\n",
    "We execute the workflow for a predefined number of rounds. Each round entails training separate CNN models on isolated nodes without sharing any data. Subsequently, we aggregate the models, and evaluation is performed on each individual test set. Throughout the process, the centralized node solely possesses information about the model weights, dataset size, and accuracy scores.\n",
    "\n",
    "For datasets, we will utilize three datasets currently available in the 🤗 Hugging Face Datasets repository:\n",
    "\n",
    "- [chest-xray-classification](https://huggingface.co/datasets/keremberke/chest-xray-classification)\n",
    "- [raw_pneumonia_x_ray](https://huggingface.co/datasets/mmenendezg/raw_pneumonia_x_ray)\n",
    "- [NIH-Chest-X-ray-dataset](https://huggingface.co/datasets/alkzar90/NIH-Chest-X-ray-dataset)\n"
   ]
  },
  {
   "cell_type": "code",
   "execution_count": 29,
   "id": "b3aab487-706e-4790-a5a5-41504678addf",
   "metadata": {},
   "outputs": [],
   "source": [
    "import covalent as ct\n",
    "\n",
    "import os\n",
    "from datasets import load_dataset\n",
    "from torch.utils.data import Dataset, DataLoader\n",
    "from torchvision import transforms\n",
    "import torch.optim as optim\n",
    "from tqdm import tqdm\n",
    "from torch import nn\n",
    "import numpy as np\n",
    "import pandas as pd\n",
    "import torch\n",
    "from dataclasses import dataclass\n",
    "from typing import Tuple, Callable, Dict\n",
    "import pickle\n",
    "\n",
    "from collections import Counter\n",
    "\n",
    "\n",
    "@dataclass\n",
    "class HFDataset:\n",
    "    \"\"\"\n",
    "    A class to represent a dataset available\n",
    "    in the Hugging Face repository.\n",
    "    \"\"\"\n",
    "    name: Tuple[str, str]\n",
    "    cloud_provider: str\n",
    "    filter_func: Callable[[Dict[str, str]], bool] = None\n",
    "    transform_label_func: Callable[[Dict[str, str]], int] = None"
   ]
  },
  {
   "cell_type": "code",
   "execution_count": 30,
   "id": "b0bec015-9ee9-4791-b5c4-abcc47522e1f",
   "metadata": {},
   "outputs": [],
   "source": [
    "# !pip install covalent-awsbatch-plugin covalent-gcpbatch-plugin covalent-azurebatch-plugin"
   ]
  },
  {
   "cell_type": "markdown",
   "id": "1edab435-2cb3-40cd-945a-bef817bbf33c",
   "metadata": {},
   "source": [
    "We define parameters for three different executor types, one for each cloud. Each respective cloud instance will handle a single data source, ensuring data isolation as our approach to data separation. The association between a cloud and a dataset will be defined at runtime. "
   ]
  },
  {
   "cell_type": "code",
   "execution_count": 41,
   "id": "2b8ee937-06d6-425f-99d3-6522ef6dfe92",
   "metadata": {},
   "outputs": [],
   "source": [
    "AWS_EXECUTOR_DEFAULT_PARAMS = {\n",
    "    \"vcpu\": 2,\n",
    "    \"memory\": 4,\n",
    "    \"num_gpus\": 0,\n",
    "    \"retry_attempts\": 1,\n",
    "    \"time_limit\": 3000,\n",
    "    \"poll_freq\": 3\n",
    "}\n",
    "GCP_EXECUTOR_DEFAULT_PARAMS = {\n",
    "    \"vcpus\": 4,\n",
    "    \"memory\": 4096,\n",
    "    \"time_limit\": 3000,\n",
    "    \"poll_freq\": 3,\n",
    "    \"retries\": 1\n",
    "}\n",
    "AZURE_EXECUTOR_DEFAULT_PARAMS = {\n",
    "    \"pool_id\": \"default\",\n",
    "    \"retries\": 1,\n",
    "    \"time_limit\": 3000,\n",
    "    \"cache_dir\": \"/tmp/covalent\",\n",
    "    \"poll_freq\": 3\n",
    "}"
   ]
  },
  {
   "cell_type": "markdown",
   "id": "cc84143b-0c55-4921-850c-5d2b90fe4530",
   "metadata": {},
   "source": [
    "Our stub workflow signature suggests we run federated learning for a specified number of rounds on specified datasets. "
   ]
  },
  {
   "cell_type": "code",
   "execution_count": 42,
   "id": "cc9dca6d-4957-4c55-b57c-d0918f73fc4c",
   "metadata": {},
   "outputs": [],
   "source": [
    "@ct.lattice\n",
    "def federated_learning_workflow(\n",
    "    datasets: HFDataset, round_number, epoch_per_round, batch_size,\n",
    "    model_agg=None, image_dimension=64,\n",
    "):\n",
    "    ..."
   ]
  },
  {
   "cell_type": "markdown",
   "id": "8d47047d-da1f-4a6f-93b5-6bd9e426e91a",
   "metadata": {},
   "source": [
    "Once a lattice is defined, you must dispatch a workflow to run it. You can dispatch a lattice workflow using Covalent by calling `ct.dispatch` and providing a workflow name and parameters."
   ]
  },
  {
   "cell_type": "code",
   "execution_count": 43,
   "id": "3ef04f3c-a888-41fb-bba8-ff8868f7fac5",
   "metadata": {},
   "outputs": [],
   "source": [
    "def filter_by_label(example, sample_size=1000):\n",
    "    if 0 not in example['labels'] and 7 not in example['labels']:\n",
    "        return False\n",
    "    else:\n",
    "        label = 0 if 0 in example['labels'] else 1\n",
    "\n",
    "    if filter_by_label.label_freq[label] >= sample_size:\n",
    "        return False\n",
    "    else:\n",
    "        filter_by_label.label_freq[label] += 1\n",
    "\n",
    "    return True\n",
    "\n",
    "\n",
    "def map_labels_to_single_label(labels):\n",
    "    if 0 in labels:\n",
    "        return 0\n",
    "    else:\n",
    "        return 1\n",
    "\n",
    "\n",
    "hf_datasets = [\n",
    "    HFDataset(\n",
    "        name=(\"keremberke/chest-xray-classification\", 'full'),\n",
    "        cloud_provider='aws',\n",
    "    ),\n",
    "    HFDataset(\n",
    "        name=(\"mmenendezg/raw_pneumonia_x_ray\", ),\n",
    "        cloud_provider=\"gcp\",\n",
    "    ),\n",
    "    HFDataset(\n",
    "        name=(\n",
    "            \"alkzar90/NIH-Chest-X-ray-dataset\",\n",
    "            \"image-classification\"\n",
    "        ),\n",
    "        cloud_provider='azure',\n",
    "        filter_func=filter_by_label,\n",
    "        transform_label_func=map_labels_to_single_label\n",
    "    )\n",
    "]\n",
    "\n",
    "dispatch_id = ct.dispatch(federated_learning_workflow)(\n",
    "    hf_datasets, round_number=50,\n",
    "    epoch_per_round=1, batch_size=32\n",
    ")"
   ]
  },
  {
   "cell_type": "markdown",
   "id": "9e481604-549f-4415-a865-53f9669c9b1e",
   "metadata": {},
   "source": [
    "The diagram below portrays the overarching design of a Covalent workflow example that spans AWS, GCP, and Azure environments.\n",
    "\n",
    "![alt text](assets/architecture.png \"Covalent\")"
   ]
  },
  {
   "cell_type": "markdown",
   "id": "5ec5328c-686c-443b-9936-0bb24ef2cdcd",
   "metadata": {},
   "source": [
    "# Pneumonia Chest X-ray Federated Learning using Covalent\n",
    "\n",
    "We now demonstrate how to utilize Covalent to run and perform federated learning across several cloud providers. To achieve this, we establish a dynamic [sublattice](https://docs.covalent.xyz/docs/user-documentation/concepts/covalent-basics/#sublattice), which creates an executor at runtime. This approach allows us to allocate cloud resources on the fly, based on the workflow's input parameters."
   ]
  },
  {
   "cell_type": "code",
   "execution_count": 44,
   "id": "aba6784d-5782-42aa-8a18-43929b06da90",
   "metadata": {},
   "outputs": [],
   "source": [
    "@ct.electron\n",
    "@ct.lattice\n",
    "def cloud_pnemonia_classifier(cloud_provider, use_gpu=False, **kwargs):\n",
    "    # Match provider to an executor.\n",
    "    cloud_service_executor_mapping = {\n",
    "        \"aws\": ct.executor.AWSBatchExecutor(**AWS_EXECUTOR_DEFAULT_PARAMS),\n",
    "        \"gcp\": ct.executor.GCPBatchExecutor(**GCP_EXECUTOR_DEFAULT_PARAMS),\n",
    "        \"azure\": ct.executor.AzureBatchExecutor(**AZURE_EXECUTOR_DEFAULT_PARAMS),\n",
    "    }\n",
    "\n",
    "    # Create a new electron (task) that uses this executor.\n",
    "    electron = ct.electron(\n",
    "        build_pneumonia_classifier,\n",
    "        executor=cloud_service_executor_mapping.get(cloud_provider),\n",
    "        deps_pip=ct.DepsPip(\n",
    "            packages=[\n",
    "                \"torch==2.0.1\", \"torchvision==0.15.2\",\"datasets==2.14.0\"\n",
    "            ]\n",
    "        )\n",
    "    )\n",
    "    return electron(**kwargs)"
   ]
  },
  {
   "cell_type": "markdown",
   "id": "5f612917-b1eb-4e83-b1dc-10e02e7d3481",
   "metadata": {},
   "source": [
    "It is important to observe that in this case `build_pneumonia_classifier` is built as an `ct.electron` object dynamically at runtime, which is also when an executor is assigned."
   ]
  },
  {
   "cell_type": "markdown",
   "id": "a2eb2256-9283-4116-9229-24df99a3c014",
   "metadata": {},
   "source": [
    "Executor default configuration parameters are available in the Covalent config (typically located at `$HOME/.config/covalent/covalent.conf`).  More information on running batch executors is available in the Covalent docs for [AWSBatch](https://docs.covalent.xyz/docs/user-documentation/api-reference/executors/awsbatch/), [AzureBatch](https://docs.covalent.xyz/docs/user-documentation/api-reference/executors/azurebatch/), and [GCPBatch](https://docs.covalent.xyz/docs/user-documentation/gcp/). Python framework prerequisite dependencies installed on cloud resources are specified using `ct.DepsPip`.\n",
    "With the main `@ct.lattice` defined, let's delve into the specifics of the `build_pneumonia_classifier method`. Its primary tasks include:\n",
    "1. Loading and preprocessing the dataset,\n",
    "2. Creating a new model or continuing the training of a previously trained supervised model, and\n",
    "3. Evaluating the performance of the model on the loaded test dataset."
   ]
  },
  {
   "cell_type": "markdown",
   "id": "26725c76-c1de-45e7-9de8-4e0cb67d5080",
   "metadata": {},
   "source": [
    "First, we define the convolutional neural network architecture. "
   ]
  },
  {
   "cell_type": "code",
   "execution_count": 45,
   "id": "c9cc6425-7ed1-47f3-adec-92617083a6bd",
   "metadata": {},
   "outputs": [],
   "source": [
    "class PneumoniaDataset(Dataset):\n",
    "    def __init__(self, data):\n",
    "        self.data = data\n",
    "\n",
    "    def __len__(self):\n",
    "        return len(self.data)\n",
    "\n",
    "    def __getitem__(self, index):\n",
    "        item = self.data[index]\n",
    "        return item['image'], item['label']\n",
    "\n",
    "\n",
    "class PneumoniaNet(nn.Module):\n",
    "    \"\"\"\n",
    "    Simple CNN for pneumonia detection.\n",
    "    \"\"\"\n",
    "    def __init__(self, image_dim=64):\n",
    "        super(PneumoniaNet, self).__init__()\n",
    "        # channel number is 1 for grayscale images\n",
    "        # use 3 for RGB images\n",
    "        channel_number = 1\n",
    "        self.image_dim = image_dim\n",
    "\n",
    "        self.conv1 = nn.Conv2d(\n",
    "            in_channels=channel_number, out_channels=16, kernel_size=3,\n",
    "            stride=1, padding=1\n",
    "        )\n",
    "        self.relu1 = nn.ReLU()\n",
    "        self.conv2 = nn.Conv2d(\n",
    "            in_channels=16, out_channels=32, kernel_size=3,\n",
    "            stride=1, padding=1\n",
    "        )\n",
    "        self.relu2 = nn.ReLU()\n",
    "        self.maxpool1 = nn.MaxPool2d(\n",
    "            kernel_size=2, stride=2\n",
    "        )\n",
    "\n",
    "        self.conv3 = nn.Conv2d(\n",
    "            in_channels=32, out_channels=64, kernel_size=3,\n",
    "            stride=1, padding=1\n",
    "        )\n",
    "        self.relu3 = nn.ReLU()\n",
    "        self.conv4 = nn.Conv2d(\n",
    "            in_channels=64, out_channels=128, kernel_size=3,\n",
    "            stride=1, padding=1\n",
    "        )\n",
    "        self.relu4 = nn.ReLU()\n",
    "        self.batchnorm1 = nn.BatchNorm2d(128)\n",
    "        self.maxpool2 = nn.MaxPool2d(\n",
    "            kernel_size=2, stride=2\n",
    "        )\n",
    "        mapping = {\n",
    "            64: 32768,\n",
    "            128: 131072\n",
    "        }\n",
    "        self.fc1 = nn.Linear(mapping[self.image_dim], 128)\n",
    "        self.batchnorm2 = nn.BatchNorm1d(128)\n",
    "        self.dropout1 = nn.Dropout(0.5)\n",
    "\n",
    "        self.fc2 = nn.Linear(128, 1)\n",
    "        self.sigmoid = nn.Sigmoid()\n",
    "\n",
    "    def forward(self, x):\n",
    "        x = self.conv1(x)\n",
    "        x = self.relu1(x)\n",
    "        x = self.conv2(x)\n",
    "        x = self.relu2(x)\n",
    "        x = self.maxpool1(x)\n",
    "\n",
    "        x = self.conv3(x)\n",
    "        x = self.relu3(x)\n",
    "        x = self.conv4(x)\n",
    "        x = self.relu4(x)\n",
    "        x = self.batchnorm1(x)\n",
    "        x = self.maxpool2(x)\n",
    "\n",
    "        x = x.view(x.size(0), -1)\n",
    "\n",
    "        x = self.fc1(x)\n",
    "        x = self.batchnorm2(x)\n",
    "        x = self.dropout1(x)\n",
    "        x = self.fc2(x)\n",
    "        output = self.sigmoid(x)\n",
    "        return output\n",
    "\n",
    "\n",
    "@ct.electron\n",
    "def create_pneumonia_network(\n",
    "    image_dimension\n",
    "):\n",
    "    return PneumoniaNet(image_dimension)"
   ]
  },
  {
   "cell_type": "markdown",
   "id": "a18c0a3f-b92e-471e-96f9-b6383618231b",
   "metadata": {},
   "source": [
    "Next, we write the methods to prepare the dataset, train, and evaluate the models. "
   ]
  },
  {
   "cell_type": "code",
   "execution_count": 46,
   "id": "25a46a04-2c09-4b4d-aabb-06bb2a4c92d1",
   "metadata": {},
   "outputs": [],
   "source": [
    "@ct.electron\n",
    "def prepare_dataset(\n",
    "    dataset_name, filter_func=None, transform_label=None,\n",
    "    image_dimension=64, client=None\n",
    "):\n",
    "    ds_name_path = dataset_name[0].replace('/', '-')\n",
    "    save_path = f'preprocessed-obj-{ds_name_path}'\n",
    "\n",
    "    exists_on_cloud = client.check_file_exists(\n",
    "        save_path\n",
    "    ) if client is not None else False\n",
    "\n",
    "    if os.path.exists(save_path):\n",
    "        print('Loading preprocessed data from local')\n",
    "        with open(save_path, 'rb') as f:\n",
    "            preprocessed_train, preprocesed_test, maj_test_acc = pickle.load(f)\n",
    "    elif not os.path.exists(save_path) and exists_on_cloud:\n",
    "        print('Loading preprocessed data from cloud')\n",
    "        client.download_file(\n",
    "            save_path, save_path\n",
    "        )\n",
    "        with open(save_path, 'rb') as f:\n",
    "            preprocessed_train, preprocesed_test, maj_test_acc = pickle.load(f)\n",
    "    else:\n",
    "        print('Preprocessing data')\n",
    "        dataset = load_dataset(\n",
    "            *dataset_name,\n",
    "        )\n",
    "        image_mean = [0.5]\n",
    "        image_std = [0.5]\n",
    "        image_transformation = transforms.Compose([\n",
    "            transforms.Resize(\n",
    "                size=(image_dimension, image_dimension)\n",
    "            ),\n",
    "            transforms.Grayscale(),\n",
    "            transforms.ToTensor(),\n",
    "            transforms.Normalize(\n",
    "                mean=image_mean, std=image_std\n",
    "            )\n",
    "        ])\n",
    "        preprocessed_train, label_column = preprocess(\n",
    "            dataset['train'], image_transformation,\n",
    "            transform_label_func=transform_label,\n",
    "            filter_func=filter_func\n",
    "        )\n",
    "        preprocesed_test, label_column = preprocess(\n",
    "            dataset['test'], image_transformation,\n",
    "            transform_label_func=transform_label,\n",
    "            filter_func=filter_func\n",
    "        )\n",
    "\n",
    "        labels = np.array(\n",
    "            [x['label'] for x in preprocesed_test]\n",
    "        )\n",
    "        maj_test_acc = get_majority_class_accuracy(labels)\n",
    "        preprocessed_data = (\n",
    "            preprocessed_train, preprocesed_test, maj_test_acc\n",
    "        )\n",
    "        with open(save_path, \"wb\") as f:\n",
    "            pickle.dump(preprocessed_data, f)\n",
    "\n",
    "        # upload to cloud\n",
    "        if client is not None:\n",
    "            client.upload_file(save_path, save_path)\n",
    "\n",
    "    train_ds = PneumoniaDataset(preprocessed_train)\n",
    "    test_ds = PneumoniaDataset(preprocesed_test)\n",
    "\n",
    "    return train_ds, test_ds, maj_test_acc\n",
    "\n",
    "\n",
    "@ct.electron\n",
    "def train_model(\n",
    "    model, epoch_count, train_dataloader, use_gpu=False\n",
    "):\n",
    "    print(\"Training model\")\n",
    "    ds_size = len(train_dataloader.dataset)\n",
    "    losses = []\n",
    "    optimizer = optim.SGD(model.parameters(), lr=0.00005, momentum=0.9)\n",
    "    criterion = nn.BCELoss()\n",
    "\n",
    "    for epoch in range(epoch_count):\n",
    "        if use_gpu:\n",
    "            model = model.cuda()\n",
    "        model.train()\n",
    "        running_loss = 0\n",
    "        train_correct = 0\n",
    "\n",
    "        for images, labels in train_dataloader:\n",
    "            labels = labels.float()\n",
    "            if use_gpu:\n",
    "                images = images.cuda()\n",
    "                labels = labels.cuda()\n",
    "\n",
    "            optimizer.zero_grad()\n",
    "            output = model(images).flatten()\n",
    "            loss = criterion(output, labels)\n",
    "            loss.backward()\n",
    "            optimizer.step()\n",
    "            losses.append(loss)\n",
    "            running_loss += loss.item()\n",
    "\n",
    "            # Calculate training accuracy\n",
    "            predicted = (output > 0.5).long()\n",
    "            train_correct += (predicted == labels).sum().item()\n",
    "\n",
    "        train_acc = train_correct / ds_size\n",
    "        print(\"Epoch {} - Training loss: {:.4f} - Accuracy: {:.4f}\".format(\n",
    "            epoch + 1, running_loss / len(train_dataloader), train_acc)\n",
    "        )\n",
    "        if use_gpu:\n",
    "            # detach from GPU after finishing training\n",
    "            model = model.cpu()\n",
    "\n",
    "    return losses, ds_size\n",
    "\n",
    "\n",
    "@ct.electron\n",
    "def evaluate(\n",
    "    model, test_dataloader, use_gpu=False\n",
    "):\n",
    "    if use_gpu:\n",
    "        model = model.cuda()\n",
    "\n",
    "    criterion = nn.BCELoss()\n",
    "    model.eval()\n",
    "    test_loss = 0\n",
    "    test_correct = 0\n",
    "\n",
    "    with torch.no_grad():\n",
    "        for images, labels in test_dataloader:\n",
    "            labels = labels.float()\n",
    "            if use_gpu:\n",
    "                images = images.cuda()\n",
    "                labels = labels.cuda()\n",
    "\n",
    "            output = model(images).flatten()\n",
    "            loss = criterion(output, labels)\n",
    "            test_loss += loss.item()\n",
    "\n",
    "            predicted = (output > 0.5).long()\n",
    "            test_correct += (predicted == labels).sum().item()\n",
    "\n",
    "        test_acc = test_correct / len(test_dataloader.dataset)\n",
    "        print(\n",
    "            \"Test loss: {:.4f} - Test accuracy: {:.4f}\".format(\n",
    "                test_loss / len(test_dataloader), test_acc\n",
    "            )\n",
    "        )\n",
    "\n",
    "    # detach from GPU after evaluation\n",
    "    if use_gpu:\n",
    "        model = model.cpu()\n",
    "\n",
    "    return test_acc, test_loss"
   ]
  },
  {
   "cell_type": "markdown",
   "id": "b2ba5dbc-6d40-45d2-b30f-ae4d513b6b1c",
   "metadata": {},
   "source": [
    "We put everything together in a single method that encompasses all the past steps and builds a pnemonia classifier. "
   ]
  },
  {
   "cell_type": "code",
   "execution_count": 47,
   "id": "83933d2d-925a-4282-a441-fab7a61007e1",
   "metadata": {},
   "outputs": [],
   "source": [
    "def build_pneumonia_classifier(\n",
    "    dataset_name=None, filter_func=None, transform_label=None,\n",
    "    model=None, epoch_number=2, batch_size=64,\n",
    "    image_dimension=64\n",
    "):\n",
    "    train_ds, test_ds, maj_test_acc = prepare_dataset(\n",
    "        dataset_name, filter_func, transform_label,\n",
    "        image_dimension=image_dimension\n",
    "    )\n",
    "    train_dataloader, test_dataloader = create_dataloaders(\n",
    "        train_ds, test_ds, batch_size\n",
    "    )\n",
    "\n",
    "    if not model:\n",
    "        model = create_pneumonia_network(image_dimension)\n",
    "\n",
    "    train_losses, ds_size = train_model(\n",
    "        model, epoch_number, train_dataloader\n",
    "    )\n",
    "    test_acc, test_loss = evaluate(model, test_dataloader)\n",
    "    return model, ds_size, test_acc"
   ]
  },
  {
   "cell_type": "markdown",
   "id": "a169694b-e913-403f-8b05-08c80f70da89",
   "metadata": {},
   "source": [
    "Lastly, to finalize our federated learning workflow, we showcase the process of constructing an aggregated model from the individual models through weighted averaging, as defined in equation $(1)$."
   ]
  },
  {
   "cell_type": "code",
   "execution_count": 48,
   "id": "4fa36948-de7a-45db-9c8c-291af26d51e6",
   "metadata": {},
   "outputs": [],
   "source": [
    "import torch\n",
    "\n",
    "@ct.electron\n",
    "def create_aggregated_network(\n",
    "    model_list, ds_sizes, image_dimension=64\n",
    "):\n",
    "    \"\"\"\n",
    "    Simple aggregation mechanism where weights of a network\n",
    "\t  are aggregated using a weighted average, where the value of the\n",
    "    weight is the size of the dataset\n",
    "    \"\"\"\n",
    "    dataset_weights = np.array(ds_sizes) / sum(ds_sizes)\n",
    "    whole_aggregator = []\n",
    "\n",
    "    # compute a weighted average\n",
    "    for p_index, layer in enumerate(model_list[0].parameters()):\n",
    "        params_aggregator = torch.zeros(layer.size())\n",
    "\n",
    "        for model_index, model in enumerate(model_list):\n",
    "            params_aggregator = params_aggregator + dataset_weights[\n",
    "                model_index\n",
    "            ] * list(model.parameters())[p_index].data\n",
    "        whole_aggregator.append(params_aggregator)\n",
    "\n",
    "    net_avg = create_pneumonia_network(image_dimension)\n",
    "\n",
    "    for param_index, layer in enumerate(net_avg.parameters()):\n",
    "        layer.data = whole_aggregator[param_index]\n",
    "    return net_avg"
   ]
  },
  {
   "cell_type": "markdown",
   "id": "cf48a3aa-32dd-48ba-838c-88325b423769",
   "metadata": {},
   "source": [
    "Now we expand on the previously introduced `federated_learning_workflow`,  which interconnects all the tasks (electrons) into a main workflow (lattice). This workflow facilitates the creation of a pnemonia classifier for each dataset, ensuring seamless development within isolated cloud environments. After the models are crafted, they are transmitted back to the central node. Here, the resulting models are aggregated as described in `create_aggregated_network`, thereby producing a refined model for the isolated cloud environments to further enhance and improve upon."
   ]
  },
  {
   "cell_type": "code",
   "execution_count": 49,
   "id": "be37830c-e65b-4cce-8810-0c0a2cf8e91e",
   "metadata": {},
   "outputs": [],
   "source": [
    "@ct.lattice\n",
    "def federated_learning_workflow(\n",
    "    datasets: HFDataset, round_number, epoch_per_round, batch_size,\n",
    "    model_agg=None, image_dimension=64, use_gpu=False\n",
    "):\n",
    "    test_accuracies = []\n",
    "    model_showcases = []\n",
    "    for round_idx in range(round_number):\n",
    "        print(f\"Round {round_idx + 1}\")\n",
    "        models = []\n",
    "        dataset_sizes = []\n",
    "        for ds in datasets:\n",
    "            trained_model, ds_size, test_accuracy = cloud_pnemonia_classifier(\n",
    "                ds.cloud_provider,\n",
    "                dataset_name=ds.name, model=model_agg,\n",
    "                image_dimension=image_dimension,\n",
    "                epoch_number=epoch_per_round,\n",
    "                transform_label=ds.transform_label_func,\n",
    "                filter_func=ds.filter_func, use_gpu=use_gpu\n",
    "            )\n",
    "            models.append(trained_model)\n",
    "            dataset_sizes.append(ds_size)\n",
    "            test_accuracies.append(\n",
    "                (round_idx + 1, ds.name, test_accuracy)\n",
    "            )\n",
    "            if round_idx == round_number - 1:\n",
    "                model_showcases.append((trained_model, ds.name))\n",
    "\n",
    "        model_agg = create_aggregated_network(\n",
    "            models, dataset_sizes, image_dimension=image_dimension,\n",
    "        )\n",
    "        if round_idx == round_number - 1:\n",
    "            model_showcases.append((model_agg, \"aggregated\"))\n",
    "\n",
    "    return test_accuracies, model_showcases"
   ]
  },
  {
   "cell_type": "markdown",
   "id": "e24ff9ba-4964-48cd-991c-1fbedcc52be8",
   "metadata": {},
   "source": [
    "The iterative process of centralized federated learning continues for a duration determined by the `round_number` hyper-parameter. The illustration below provides a visual depiction of how the Covalent UI presents the aforementioned workflow when `round_number` is set to 2, and the workflow encompasses the processing of three distinct datasets across three different cloud providers."
   ]
  },
  {
   "cell_type": "markdown",
   "id": "27d1f68d-65e4-4a8b-84e4-cc79b74340fb",
   "metadata": {},
   "source": [
    "![alt text](assets/workflow.gif \"Covalent\")"
   ]
  },
  {
   "cell_type": "markdown",
   "id": "772f30f0-eb1c-4eb8-b355-074cb90c92c6",
   "metadata": {},
   "source": [
    "# Evaluation of applying Federated Learning to X-ray data\n",
    "In this evaluation, we aim to shed further light on the intrinsic advantages of federated learning, particularly its emphasis on preserving data privacy and fostering seamless collaboration across diverse healthcare institutions. To achieve this, we compare the test accuracies of a federated learning setup against a classically trained setup, where a model is trained on a single dataset, while employing identical CNN model architectures. The following illustration illustrates the consistent superiority of a federated learning model over a standard machine learning arrangement. Three distinct models are individually developed and subsequently contrasted with a model trained through federated learning. This evaluation is performed across three distinct test datasets."
   ]
  },
  {
   "cell_type": "code",
   "execution_count": 50,
   "id": "5665b5f1-9178-455d-bdd4-8cfda50aae15",
   "metadata": {},
   "outputs": [
    {
     "data": {
      "application/vnd.plotly.v1+json": {
       "config": {
        "plotlyServerURL": "https://plot.ly"
       },
       "data": [
        {
         "hovertemplate": "method=Standard ML<br>dataset=chest-xray-classification<br>round=%{x}<br>test_accuracy=%{y}<extra></extra>",
         "legendgroup": "Standard ML",
         "line": {
          "color": "#636efa",
          "dash": "solid"
         },
         "marker": {
          "symbol": "circle"
         },
         "mode": "lines",
         "name": "Standard ML",
         "orientation": "v",
         "showlegend": true,
         "type": "scatter",
         "x": [
          1,
          2,
          3,
          4,
          5,
          6,
          7,
          8,
          9,
          10,
          11,
          12,
          13,
          14,
          15,
          16,
          17,
          18,
          19,
          20,
          21,
          22,
          23,
          24,
          25,
          26,
          27,
          28,
          29,
          30,
          31,
          32,
          33,
          34,
          35,
          36,
          37,
          38,
          39,
          40,
          41,
          42,
          43,
          44,
          45,
          46,
          47,
          48,
          49,
          50
         ],
         "xaxis": "x",
         "y": [
          0.852233676975945,
          0.8676975945017182,
          0.8900343642611683,
          0.8883161512027491,
          0.8969072164948454,
          0.9054982817869416,
          0.9072164948453608,
          0.9037800687285223,
          0.8969072164948454,
          0.9003436426116839,
          0.9072164948453608,
          0.9106529209621992,
          0.9037800687285223,
          0.915807560137457,
          0.915807560137457,
          0.9054982817869416,
          0.9106529209621992,
          0.9192439862542956,
          0.90893470790378,
          0.9123711340206184,
          0.9192439862542956,
          0.9140893470790378,
          0.9175257731958762,
          0.915807560137457,
          0.9209621993127148,
          0.9209621993127148,
          0.929553264604811,
          0.9243986254295532,
          0.9261168384879724,
          0.9054982817869416,
          0.9312714776632304,
          0.9072164948453608,
          0.9243986254295532,
          0.929553264604811,
          0.929553264604811,
          0.9106529209621992,
          0.9243986254295532,
          0.9123711340206184,
          0.915807560137457,
          0.922680412371134,
          0.9192439862542956,
          0.9140893470790378,
          0.9467353951890034,
          0.9278350515463918,
          0.9175257731958762,
          0.9278350515463918,
          0.929553264604811,
          0.9450171821305842,
          0.9484536082474226,
          0.936426116838488
         ],
         "yaxis": "y"
        },
        {
         "hovertemplate": "method=Standard ML<br>dataset=raw_pneumonia_x_ray<br>round=%{x}<br>test_accuracy=%{y}<extra></extra>",
         "legendgroup": "Standard ML",
         "line": {
          "color": "#636efa",
          "dash": "solid"
         },
         "marker": {
          "symbol": "circle"
         },
         "mode": "lines",
         "name": "Standard ML",
         "orientation": "v",
         "showlegend": false,
         "type": "scatter",
         "x": [
          1,
          2,
          3,
          4,
          5,
          6,
          7,
          8,
          9,
          10,
          11,
          12,
          13,
          14,
          15,
          16,
          17,
          18,
          19,
          20,
          21,
          22,
          23,
          24,
          25,
          26,
          27,
          28,
          29,
          30,
          31,
          32,
          33,
          34,
          35,
          36,
          37,
          38,
          39,
          40,
          41,
          42,
          43,
          44,
          45,
          46,
          47,
          48,
          49,
          50
         ],
         "xaxis": "x2",
         "y": [
          0.8894230769230769,
          0.8846153846153846,
          0.8846153846153846,
          0.8766025641025641,
          0.8782051282051282,
          0.8766025641025641,
          0.8782051282051282,
          0.875,
          0.8621794871794872,
          0.8669871794871795,
          0.8782051282051282,
          0.8685897435897436,
          0.8862179487179487,
          0.875,
          0.8830128205128205,
          0.8782051282051282,
          0.875,
          0.8782051282051282,
          0.8798076923076923,
          0.8862179487179487,
          0.8846153846153846,
          0.8974358974358975,
          0.8862179487179487,
          0.8846153846153846,
          0.8894230769230769,
          0.8894230769230769,
          0.8878205128205128,
          0.8878205128205128,
          0.8814102564102564,
          0.8862179487179487,
          0.875,
          0.8894230769230769,
          0.8926282051282052,
          0.8862179487179487,
          0.8974358974358975,
          0.8669871794871795,
          0.8942307692307693,
          0.8878205128205128,
          0.8846153846153846,
          0.8974358974358975,
          0.8942307692307693,
          0.8798076923076923,
          0.8830128205128205,
          0.8701923076923077,
          0.8798076923076923,
          0.8894230769230769,
          0.8910256410256411,
          0.8846153846153846,
          0.875,
          0.8798076923076923
         ],
         "yaxis": "y2"
        },
        {
         "hovertemplate": "method=Standard ML<br>dataset=NIH-Chest-X-ray-dataset<br>round=%{x}<br>test_accuracy=%{y}<extra></extra>",
         "legendgroup": "Standard ML",
         "line": {
          "color": "#636efa",
          "dash": "solid"
         },
         "marker": {
          "symbol": "circle"
         },
         "mode": "lines",
         "name": "Standard ML",
         "orientation": "v",
         "showlegend": false,
         "type": "scatter",
         "x": [
          1,
          2,
          3,
          4,
          5,
          6,
          7,
          8,
          9,
          10,
          11,
          12,
          13,
          14,
          15,
          16,
          17,
          18,
          19,
          20,
          21,
          22,
          23,
          24,
          25,
          26,
          27,
          28,
          29,
          30,
          31,
          32,
          33,
          34,
          35,
          36,
          37,
          38,
          39,
          40,
          41,
          42,
          43,
          44,
          45,
          46,
          47,
          48,
          49,
          50
         ],
         "xaxis": "x3",
         "y": [
          0.5013071211962773,
          0.4772560911847746,
          0.4527867823904632,
          0.5092544180696434,
          0.5657220537488236,
          0.5395796298232772,
          0.589041095890411,
          0.6123601380319983,
          0.5680225870542717,
          0.5976158109379902,
          0.5791069747987033,
          0.573878490013594,
          0.5963609745895639,
          0.6389208407403535,
          0.6652724040573041,
          0.6517829133117222,
          0.684304088675102,
          0.6702917494510091,
          0.6813761371954408,
          0.7042769005542194,
          0.6540834466171703,
          0.7262365366516783,
          0.7122241974275855,
          0.6767750705845446,
          0.6932970825054899,
          0.6905782704172331,
          0.702917494510091,
          0.7245634215204434,
          0.7372163547004078,
          0.7394123183101537,
          0.7283279305657221,
          0.747987033357733,
          0.7424448394855171,
          0.7507058454459897,
          0.7796716511554951,
          0.7783122451113668,
          0.7572937362752274,
          0.7781031057199623,
          0.7924291540311618,
          0.7747568754574924,
          0.784063578374987,
          0.7534246575342466,
          0.7929520025096727,
          0.7798807905468995,
          0.7781031057199623,
          0.7960890933807383,
          0.7838544389835825,
          0.7676461361497438,
          0.8017358569486562,
          0.7971347903377601
         ],
         "yaxis": "y3"
        },
        {
         "hovertemplate": "method=Federated Learning<br>dataset=chest-xray-classification<br>round=%{x}<br>test_accuracy=%{y}<extra></extra>",
         "legendgroup": "Federated Learning",
         "line": {
          "color": "#EF553B",
          "dash": "solid"
         },
         "marker": {
          "symbol": "circle"
         },
         "mode": "lines",
         "name": "Federated Learning",
         "orientation": "v",
         "showlegend": true,
         "type": "scatter",
         "x": [
          1,
          2,
          3,
          4,
          5,
          6,
          7,
          8,
          9,
          10,
          11,
          12,
          13,
          14,
          15,
          16,
          17,
          18,
          19,
          20,
          21,
          22,
          23,
          24,
          25,
          26,
          27,
          28,
          29,
          30,
          31,
          32,
          33,
          34,
          35,
          36,
          37,
          38,
          39,
          40,
          41,
          42,
          43,
          44,
          45,
          46,
          47,
          48,
          49,
          50
         ],
         "xaxis": "x",
         "y": [
          0.8848797250859106,
          0.8419243986254296,
          0.9192439862542956,
          0.8762886597938144,
          0.8969072164948454,
          0.9243986254295532,
          0.950171821305842,
          0.950171821305842,
          0.915807560137457,
          0.9347079037800688,
          0.9450171821305842,
          0.9570446735395188,
          0.9621993127147768,
          0.9604810996563574,
          0.9536082474226804,
          0.9587628865979382,
          0.9621993127147768,
          0.9518900343642612,
          0.9690721649484536,
          0.9690721649484536,
          0.9621993127147768,
          0.9690721649484536,
          0.9484536082474226,
          0.9656357388316152,
          0.972508591065292,
          0.9776632302405498,
          0.9742268041237112,
          0.9776632302405498,
          0.9810996563573884,
          0.979381443298969,
          0.9450171821305842,
          0.9776632302405498,
          0.9759450171821306,
          0.9673539518900344,
          0.9776632302405498,
          0.9828178694158076,
          0.9759450171821306,
          0.986254295532646,
          0.9759450171821306,
          0.9810996563573884,
          0.9776632302405498,
          0.9587628865979382,
          0.9810996563573884,
          0.9759450171821306,
          0.9828178694158076,
          0.9776632302405498,
          0.9845360824742267,
          0.9810996563573884,
          0.979381443298969,
          0.9845360824742267
         ],
         "yaxis": "y"
        },
        {
         "hovertemplate": "method=Federated Learning<br>dataset=raw_pneumonia_x_ray<br>round=%{x}<br>test_accuracy=%{y}<extra></extra>",
         "legendgroup": "Federated Learning",
         "line": {
          "color": "#EF553B",
          "dash": "solid"
         },
         "marker": {
          "symbol": "circle"
         },
         "mode": "lines",
         "name": "Federated Learning",
         "orientation": "v",
         "showlegend": false,
         "type": "scatter",
         "x": [
          1,
          2,
          3,
          4,
          5,
          6,
          7,
          8,
          9,
          10,
          11,
          12,
          13,
          14,
          15,
          16,
          17,
          18,
          19,
          20,
          21,
          22,
          23,
          24,
          25,
          26,
          27,
          28,
          29,
          30,
          31,
          32,
          33,
          34,
          35,
          36,
          37,
          38,
          39,
          40,
          41,
          42,
          43,
          44,
          45,
          46,
          47,
          48,
          49,
          50
         ],
         "xaxis": "x2",
         "y": [
          0.8782051282051282,
          0.907051282051282,
          0.9198717948717948,
          0.907051282051282,
          0.9230769230769232,
          0.8990384615384616,
          0.8910256410256411,
          0.9278846153846154,
          0.9198717948717948,
          0.9246794871794872,
          0.9198717948717948,
          0.9455128205128204,
          0.9342948717948718,
          0.8862179487179487,
          0.9342948717948718,
          0.9407051282051282,
          0.9455128205128204,
          0.939102564102564,
          0.9503205128205128,
          0.9439102564102564,
          0.9503205128205128,
          0.9535256410256412,
          0.971153846153846,
          0.9583333333333334,
          0.9599358974358976,
          0.9599358974358976,
          0.966346153846154,
          0.9615384615384616,
          0.9583333333333334,
          0.966346153846154,
          0.9647435897435898,
          0.969551282051282,
          0.9727564102564102,
          0.9743589743589745,
          0.9567307692307692,
          0.9631410256410255,
          0.969551282051282,
          0.9775641025641024,
          0.9599358974358976,
          0.969551282051282,
          0.9631410256410255,
          0.967948717948718,
          0.971153846153846,
          0.971153846153846,
          0.9535256410256412,
          0.967948717948718,
          0.971153846153846,
          0.9631410256410255,
          0.9759615384615384,
          0.9727564102564102
         ],
         "yaxis": "y2"
        },
        {
         "hovertemplate": "method=Federated Learning<br>dataset=NIH-Chest-X-ray-dataset<br>round=%{x}<br>test_accuracy=%{y}<extra></extra>",
         "legendgroup": "Federated Learning",
         "line": {
          "color": "#EF553B",
          "dash": "solid"
         },
         "marker": {
          "symbol": "circle"
         },
         "mode": "lines",
         "name": "Federated Learning",
         "orientation": "v",
         "showlegend": false,
         "type": "scatter",
         "x": [
          1,
          2,
          3,
          4,
          5,
          6,
          7,
          8,
          9,
          10,
          11,
          12,
          13,
          14,
          15,
          16,
          17,
          18,
          19,
          20,
          21,
          22,
          23,
          24,
          25,
          26,
          27,
          28,
          29,
          30,
          31,
          32,
          33,
          34,
          35,
          36,
          37,
          38,
          39,
          40,
          41,
          42,
          43,
          44,
          45,
          46,
          47,
          48,
          49,
          50
         ],
         "xaxis": "x3",
         "y": [
          0.3733138136568023,
          0.4181742131130398,
          0.6758339433232249,
          0.6138241137718289,
          0.7138973125588205,
          0.7370072153090035,
          0.7719334936735334,
          0.811774547736066,
          0.8927114922095577,
          0.8557983896266862,
          0.8679284743281397,
          0.8829865105092544,
          0.8907246679912162,
          0.8907246679912162,
          0.8928160619052599,
          0.864163965282861,
          0.8933389103837708,
          0.8797448499424867,
          0.8587263411063474,
          0.9088152253476942,
          0.8916657952525359,
          0.9015999163442434,
          0.9011816375614348,
          0.8956394436892189,
          0.8602948865418801,
          0.8663599288926069,
          0.8456551291435742,
          0.8428317473596152,
          0.8285056990484158,
          0.9231412736588936,
          0.9117431768273554,
          0.8210812506535606,
          0.8800585590295932,
          0.8766077590714211,
          0.8547526926696644,
          0.852870438147025,
          0.916553382829656,
          0.8313290808323748,
          0.8735752378960577,
          0.8805814075081041,
          0.8599811774547736,
          0.8126111053016836,
          0.8344661717034404,
          0.7816584753738367,
          0.9151939767855276,
          0.7864686813761372,
          0.8778625954198473,
          0.8426226079682108,
          0.8819408135522325,
          0.8752483530272926
         ],
         "yaxis": "y3"
        }
       ],
       "layout": {
        "annotations": [
         {
          "font": {},
          "showarrow": false,
          "text": "dataset=chest-xray-classification",
          "x": 0.15999999999999998,
          "xanchor": "center",
          "xref": "paper",
          "y": 1,
          "yanchor": "bottom",
          "yref": "paper"
         },
         {
          "font": {},
          "showarrow": false,
          "text": "dataset=raw_pneumonia_x_ray",
          "x": 0.49999999999999994,
          "xanchor": "center",
          "xref": "paper",
          "y": 1,
          "yanchor": "bottom",
          "yref": "paper"
         },
         {
          "font": {},
          "showarrow": false,
          "text": "dataset=NIH-Chest-X-ray-dataset",
          "x": 0.8399999999999999,
          "xanchor": "center",
          "xref": "paper",
          "y": 1,
          "yanchor": "bottom",
          "yref": "paper"
         }
        ],
        "autosize": true,
        "font": {
         "color": "RebeccaPurple",
         "family": "Courier New, monospace",
         "size": 12
        },
        "legend": {
         "title": {
          "text": "Training method"
         },
         "tracegroupgap": 0
        },
        "margin": {
         "t": 60
        },
        "template": {
         "data": {
          "bar": [
           {
            "error_x": {
             "color": "#2a3f5f"
            },
            "error_y": {
             "color": "#2a3f5f"
            },
            "marker": {
             "line": {
              "color": "#E5ECF6",
              "width": 0.5
             },
             "pattern": {
              "fillmode": "overlay",
              "size": 10,
              "solidity": 0.2
             }
            },
            "type": "bar"
           }
          ],
          "barpolar": [
           {
            "marker": {
             "line": {
              "color": "#E5ECF6",
              "width": 0.5
             },
             "pattern": {
              "fillmode": "overlay",
              "size": 10,
              "solidity": 0.2
             }
            },
            "type": "barpolar"
           }
          ],
          "carpet": [
           {
            "aaxis": {
             "endlinecolor": "#2a3f5f",
             "gridcolor": "white",
             "linecolor": "white",
             "minorgridcolor": "white",
             "startlinecolor": "#2a3f5f"
            },
            "baxis": {
             "endlinecolor": "#2a3f5f",
             "gridcolor": "white",
             "linecolor": "white",
             "minorgridcolor": "white",
             "startlinecolor": "#2a3f5f"
            },
            "type": "carpet"
           }
          ],
          "choropleth": [
           {
            "colorbar": {
             "outlinewidth": 0,
             "ticks": ""
            },
            "type": "choropleth"
           }
          ],
          "contour": [
           {
            "colorbar": {
             "outlinewidth": 0,
             "ticks": ""
            },
            "colorscale": [
             [
              0,
              "#0d0887"
             ],
             [
              0.1111111111111111,
              "#46039f"
             ],
             [
              0.2222222222222222,
              "#7201a8"
             ],
             [
              0.3333333333333333,
              "#9c179e"
             ],
             [
              0.4444444444444444,
              "#bd3786"
             ],
             [
              0.5555555555555556,
              "#d8576b"
             ],
             [
              0.6666666666666666,
              "#ed7953"
             ],
             [
              0.7777777777777778,
              "#fb9f3a"
             ],
             [
              0.8888888888888888,
              "#fdca26"
             ],
             [
              1,
              "#f0f921"
             ]
            ],
            "type": "contour"
           }
          ],
          "contourcarpet": [
           {
            "colorbar": {
             "outlinewidth": 0,
             "ticks": ""
            },
            "type": "contourcarpet"
           }
          ],
          "heatmap": [
           {
            "colorbar": {
             "outlinewidth": 0,
             "ticks": ""
            },
            "colorscale": [
             [
              0,
              "#0d0887"
             ],
             [
              0.1111111111111111,
              "#46039f"
             ],
             [
              0.2222222222222222,
              "#7201a8"
             ],
             [
              0.3333333333333333,
              "#9c179e"
             ],
             [
              0.4444444444444444,
              "#bd3786"
             ],
             [
              0.5555555555555556,
              "#d8576b"
             ],
             [
              0.6666666666666666,
              "#ed7953"
             ],
             [
              0.7777777777777778,
              "#fb9f3a"
             ],
             [
              0.8888888888888888,
              "#fdca26"
             ],
             [
              1,
              "#f0f921"
             ]
            ],
            "type": "heatmap"
           }
          ],
          "heatmapgl": [
           {
            "colorbar": {
             "outlinewidth": 0,
             "ticks": ""
            },
            "colorscale": [
             [
              0,
              "#0d0887"
             ],
             [
              0.1111111111111111,
              "#46039f"
             ],
             [
              0.2222222222222222,
              "#7201a8"
             ],
             [
              0.3333333333333333,
              "#9c179e"
             ],
             [
              0.4444444444444444,
              "#bd3786"
             ],
             [
              0.5555555555555556,
              "#d8576b"
             ],
             [
              0.6666666666666666,
              "#ed7953"
             ],
             [
              0.7777777777777778,
              "#fb9f3a"
             ],
             [
              0.8888888888888888,
              "#fdca26"
             ],
             [
              1,
              "#f0f921"
             ]
            ],
            "type": "heatmapgl"
           }
          ],
          "histogram": [
           {
            "marker": {
             "pattern": {
              "fillmode": "overlay",
              "size": 10,
              "solidity": 0.2
             }
            },
            "type": "histogram"
           }
          ],
          "histogram2d": [
           {
            "colorbar": {
             "outlinewidth": 0,
             "ticks": ""
            },
            "colorscale": [
             [
              0,
              "#0d0887"
             ],
             [
              0.1111111111111111,
              "#46039f"
             ],
             [
              0.2222222222222222,
              "#7201a8"
             ],
             [
              0.3333333333333333,
              "#9c179e"
             ],
             [
              0.4444444444444444,
              "#bd3786"
             ],
             [
              0.5555555555555556,
              "#d8576b"
             ],
             [
              0.6666666666666666,
              "#ed7953"
             ],
             [
              0.7777777777777778,
              "#fb9f3a"
             ],
             [
              0.8888888888888888,
              "#fdca26"
             ],
             [
              1,
              "#f0f921"
             ]
            ],
            "type": "histogram2d"
           }
          ],
          "histogram2dcontour": [
           {
            "colorbar": {
             "outlinewidth": 0,
             "ticks": ""
            },
            "colorscale": [
             [
              0,
              "#0d0887"
             ],
             [
              0.1111111111111111,
              "#46039f"
             ],
             [
              0.2222222222222222,
              "#7201a8"
             ],
             [
              0.3333333333333333,
              "#9c179e"
             ],
             [
              0.4444444444444444,
              "#bd3786"
             ],
             [
              0.5555555555555556,
              "#d8576b"
             ],
             [
              0.6666666666666666,
              "#ed7953"
             ],
             [
              0.7777777777777778,
              "#fb9f3a"
             ],
             [
              0.8888888888888888,
              "#fdca26"
             ],
             [
              1,
              "#f0f921"
             ]
            ],
            "type": "histogram2dcontour"
           }
          ],
          "mesh3d": [
           {
            "colorbar": {
             "outlinewidth": 0,
             "ticks": ""
            },
            "type": "mesh3d"
           }
          ],
          "parcoords": [
           {
            "line": {
             "colorbar": {
              "outlinewidth": 0,
              "ticks": ""
             }
            },
            "type": "parcoords"
           }
          ],
          "pie": [
           {
            "automargin": true,
            "type": "pie"
           }
          ],
          "scatter": [
           {
            "fillpattern": {
             "fillmode": "overlay",
             "size": 10,
             "solidity": 0.2
            },
            "type": "scatter"
           }
          ],
          "scatter3d": [
           {
            "line": {
             "colorbar": {
              "outlinewidth": 0,
              "ticks": ""
             }
            },
            "marker": {
             "colorbar": {
              "outlinewidth": 0,
              "ticks": ""
             }
            },
            "type": "scatter3d"
           }
          ],
          "scattercarpet": [
           {
            "marker": {
             "colorbar": {
              "outlinewidth": 0,
              "ticks": ""
             }
            },
            "type": "scattercarpet"
           }
          ],
          "scattergeo": [
           {
            "marker": {
             "colorbar": {
              "outlinewidth": 0,
              "ticks": ""
             }
            },
            "type": "scattergeo"
           }
          ],
          "scattergl": [
           {
            "marker": {
             "colorbar": {
              "outlinewidth": 0,
              "ticks": ""
             }
            },
            "type": "scattergl"
           }
          ],
          "scattermapbox": [
           {
            "marker": {
             "colorbar": {
              "outlinewidth": 0,
              "ticks": ""
             }
            },
            "type": "scattermapbox"
           }
          ],
          "scatterpolar": [
           {
            "marker": {
             "colorbar": {
              "outlinewidth": 0,
              "ticks": ""
             }
            },
            "type": "scatterpolar"
           }
          ],
          "scatterpolargl": [
           {
            "marker": {
             "colorbar": {
              "outlinewidth": 0,
              "ticks": ""
             }
            },
            "type": "scatterpolargl"
           }
          ],
          "scatterternary": [
           {
            "marker": {
             "colorbar": {
              "outlinewidth": 0,
              "ticks": ""
             }
            },
            "type": "scatterternary"
           }
          ],
          "surface": [
           {
            "colorbar": {
             "outlinewidth": 0,
             "ticks": ""
            },
            "colorscale": [
             [
              0,
              "#0d0887"
             ],
             [
              0.1111111111111111,
              "#46039f"
             ],
             [
              0.2222222222222222,
              "#7201a8"
             ],
             [
              0.3333333333333333,
              "#9c179e"
             ],
             [
              0.4444444444444444,
              "#bd3786"
             ],
             [
              0.5555555555555556,
              "#d8576b"
             ],
             [
              0.6666666666666666,
              "#ed7953"
             ],
             [
              0.7777777777777778,
              "#fb9f3a"
             ],
             [
              0.8888888888888888,
              "#fdca26"
             ],
             [
              1,
              "#f0f921"
             ]
            ],
            "type": "surface"
           }
          ],
          "table": [
           {
            "cells": {
             "fill": {
              "color": "#EBF0F8"
             },
             "line": {
              "color": "white"
             }
            },
            "header": {
             "fill": {
              "color": "#C8D4E3"
             },
             "line": {
              "color": "white"
             }
            },
            "type": "table"
           }
          ]
         },
         "layout": {
          "annotationdefaults": {
           "arrowcolor": "#2a3f5f",
           "arrowhead": 0,
           "arrowwidth": 1
          },
          "autotypenumbers": "strict",
          "coloraxis": {
           "colorbar": {
            "outlinewidth": 0,
            "ticks": ""
           }
          },
          "colorscale": {
           "diverging": [
            [
             0,
             "#8e0152"
            ],
            [
             0.1,
             "#c51b7d"
            ],
            [
             0.2,
             "#de77ae"
            ],
            [
             0.3,
             "#f1b6da"
            ],
            [
             0.4,
             "#fde0ef"
            ],
            [
             0.5,
             "#f7f7f7"
            ],
            [
             0.6,
             "#e6f5d0"
            ],
            [
             0.7,
             "#b8e186"
            ],
            [
             0.8,
             "#7fbc41"
            ],
            [
             0.9,
             "#4d9221"
            ],
            [
             1,
             "#276419"
            ]
           ],
           "sequential": [
            [
             0,
             "#0d0887"
            ],
            [
             0.1111111111111111,
             "#46039f"
            ],
            [
             0.2222222222222222,
             "#7201a8"
            ],
            [
             0.3333333333333333,
             "#9c179e"
            ],
            [
             0.4444444444444444,
             "#bd3786"
            ],
            [
             0.5555555555555556,
             "#d8576b"
            ],
            [
             0.6666666666666666,
             "#ed7953"
            ],
            [
             0.7777777777777778,
             "#fb9f3a"
            ],
            [
             0.8888888888888888,
             "#fdca26"
            ],
            [
             1,
             "#f0f921"
            ]
           ],
           "sequentialminus": [
            [
             0,
             "#0d0887"
            ],
            [
             0.1111111111111111,
             "#46039f"
            ],
            [
             0.2222222222222222,
             "#7201a8"
            ],
            [
             0.3333333333333333,
             "#9c179e"
            ],
            [
             0.4444444444444444,
             "#bd3786"
            ],
            [
             0.5555555555555556,
             "#d8576b"
            ],
            [
             0.6666666666666666,
             "#ed7953"
            ],
            [
             0.7777777777777778,
             "#fb9f3a"
            ],
            [
             0.8888888888888888,
             "#fdca26"
            ],
            [
             1,
             "#f0f921"
            ]
           ]
          },
          "colorway": [
           "#636efa",
           "#EF553B",
           "#00cc96",
           "#ab63fa",
           "#FFA15A",
           "#19d3f3",
           "#FF6692",
           "#B6E880",
           "#FF97FF",
           "#FECB52"
          ],
          "font": {
           "color": "#2a3f5f"
          },
          "geo": {
           "bgcolor": "white",
           "lakecolor": "white",
           "landcolor": "#E5ECF6",
           "showlakes": true,
           "showland": true,
           "subunitcolor": "white"
          },
          "hoverlabel": {
           "align": "left"
          },
          "hovermode": "closest",
          "mapbox": {
           "style": "light"
          },
          "paper_bgcolor": "white",
          "plot_bgcolor": "#E5ECF6",
          "polar": {
           "angularaxis": {
            "gridcolor": "white",
            "linecolor": "white",
            "ticks": ""
           },
           "bgcolor": "#E5ECF6",
           "radialaxis": {
            "gridcolor": "white",
            "linecolor": "white",
            "ticks": ""
           }
          },
          "scene": {
           "xaxis": {
            "backgroundcolor": "#E5ECF6",
            "gridcolor": "white",
            "gridwidth": 2,
            "linecolor": "white",
            "showbackground": true,
            "ticks": "",
            "zerolinecolor": "white"
           },
           "yaxis": {
            "backgroundcolor": "#E5ECF6",
            "gridcolor": "white",
            "gridwidth": 2,
            "linecolor": "white",
            "showbackground": true,
            "ticks": "",
            "zerolinecolor": "white"
           },
           "zaxis": {
            "backgroundcolor": "#E5ECF6",
            "gridcolor": "white",
            "gridwidth": 2,
            "linecolor": "white",
            "showbackground": true,
            "ticks": "",
            "zerolinecolor": "white"
           }
          },
          "shapedefaults": {
           "line": {
            "color": "#2a3f5f"
           }
          },
          "ternary": {
           "aaxis": {
            "gridcolor": "white",
            "linecolor": "white",
            "ticks": ""
           },
           "baxis": {
            "gridcolor": "white",
            "linecolor": "white",
            "ticks": ""
           },
           "bgcolor": "#E5ECF6",
           "caxis": {
            "gridcolor": "white",
            "linecolor": "white",
            "ticks": ""
           }
          },
          "title": {
           "x": 0.05
          },
          "xaxis": {
           "automargin": true,
           "gridcolor": "white",
           "linecolor": "white",
           "ticks": "",
           "title": {
            "standoff": 15
           },
           "zerolinecolor": "white",
           "zerolinewidth": 2
          },
          "yaxis": {
           "automargin": true,
           "gridcolor": "white",
           "linecolor": "white",
           "ticks": "",
           "title": {
            "standoff": 15
           },
           "zerolinecolor": "white",
           "zerolinewidth": 2
          }
         }
        },
        "title": {
         "text": "Average test accuracy over 50 rounds"
        },
        "xaxis": {
         "anchor": "y",
         "domain": [
          0,
          0.31999999999999995
         ],
         "range": [
          1,
          50
         ],
         "title": {
          "text": "Round number"
         },
         "type": "linear"
        },
        "xaxis2": {
         "anchor": "y2",
         "domain": [
          0.33999999999999997,
          0.6599999999999999
         ],
         "matches": "x",
         "title": {
          "text": "Round number"
         },
         "type": "linear"
        },
        "xaxis3": {
         "anchor": "y3",
         "domain": [
          0.6799999999999999,
          0.9999999999999999
         ],
         "matches": "x",
         "title": {
          "text": "Round number"
         },
         "type": "linear"
        },
        "yaxis": {
         "anchor": "x",
         "domain": [
          0,
          1
         ],
         "range": [
          0,
          1
         ],
         "title": {
          "text": "Test dataset accuracy"
         },
         "type": "linear"
        },
        "yaxis2": {
         "anchor": "x2",
         "domain": [
          0,
          1
         ],
         "matches": "y",
         "showticklabels": false,
         "type": "linear"
        },
        "yaxis3": {
         "anchor": "x3",
         "domain": [
          0,
          1
         ],
         "matches": "y",
         "showticklabels": false,
         "type": "linear"
        }
       }
      },
      "image/png": "[encoded data removed]",
      "text/html": [
       "<div>                            <div id=\"f5cebd34-d1f9-4cf9-ace0-1f806a7e15ae\" class=\"plotly-graph-div\" style=\"height:525px; width:100%;\"></div>            <script type=\"text/javascript\">                require([\"plotly\"], function(Plotly) {                    window.PLOTLYENV=window.PLOTLYENV || {};                                    if (document.getElementById(\"f5cebd34-d1f9-4cf9-ace0-1f806a7e15ae\")) {                    Plotly.newPlot(                        \"f5cebd34-d1f9-4cf9-ace0-1f806a7e15ae\",                        [{\"hovertemplate\":\"method=Standard ML\\u003cbr\\u003edataset=chest-xray-classification\\u003cbr\\u003eround=%{x}\\u003cbr\\u003etest_accuracy=%{y}\\u003cextra\\u003e\\u003c\\u002fextra\\u003e\",\"legendgroup\":\"Standard ML\",\"line\":{\"color\":\"#636efa\",\"dash\":\"solid\"},\"marker\":{\"symbol\":\"circle\"},\"mode\":\"lines\",\"name\":\"Standard ML\",\"orientation\":\"v\",\"showlegend\":true,\"x\":[1,2,3,4,5,6,7,8,9,10,11,12,13,14,15,16,17,18,19,20,21,22,23,24,25,26,27,28,29,30,31,32,33,34,35,36,37,38,39,40,41,42,43,44,45,46,47,48,49,50],\"xaxis\":\"x\",\"y\":[0.852233676975945,0.8676975945017182,0.8900343642611683,0.8883161512027491,0.8969072164948454,0.9054982817869416,0.9072164948453608,0.9037800687285223,0.8969072164948454,0.9003436426116839,0.9072164948453608,0.9106529209621992,0.9037800687285223,0.915807560137457,0.915807560137457,0.9054982817869416,0.9106529209621992,0.9192439862542956,0.90893470790378,0.9123711340206184,0.9192439862542956,0.9140893470790378,0.9175257731958762,0.915807560137457,0.9209621993127148,0.9209621993127148,0.929553264604811,0.9243986254295532,0.9261168384879724,0.9054982817869416,0.9312714776632304,0.9072164948453608,0.9243986254295532,0.929553264604811,0.929553264604811,0.9106529209621992,0.9243986254295532,0.9123711340206184,0.915807560137457,0.922680412371134,0.9192439862542956,0.9140893470790378,0.9467353951890034,0.9278350515463918,0.9175257731958762,0.9278350515463918,0.929553264604811,0.9450171821305842,0.9484536082474226,0.936426116838488],\"yaxis\":\"y\",\"type\":\"scatter\"},{\"hovertemplate\":\"method=Standard ML\\u003cbr\\u003edataset=raw_pneumonia_x_ray\\u003cbr\\u003eround=%{x}\\u003cbr\\u003etest_accuracy=%{y}\\u003cextra\\u003e\\u003c\\u002fextra\\u003e\",\"legendgroup\":\"Standard ML\",\"line\":{\"color\":\"#636efa\",\"dash\":\"solid\"},\"marker\":{\"symbol\":\"circle\"},\"mode\":\"lines\",\"name\":\"Standard ML\",\"orientation\":\"v\",\"showlegend\":false,\"x\":[1,2,3,4,5,6,7,8,9,10,11,12,13,14,15,16,17,18,19,20,21,22,23,24,25,26,27,28,29,30,31,32,33,34,35,36,37,38,39,40,41,42,43,44,45,46,47,48,49,50],\"xaxis\":\"x2\",\"y\":[0.8894230769230769,0.8846153846153846,0.8846153846153846,0.8766025641025641,0.8782051282051282,0.8766025641025641,0.8782051282051282,0.875,0.8621794871794872,0.8669871794871795,0.8782051282051282,0.8685897435897436,0.8862179487179487,0.875,0.8830128205128205,0.8782051282051282,0.875,0.8782051282051282,0.8798076923076923,0.8862179487179487,0.8846153846153846,0.8974358974358975,0.8862179487179487,0.8846153846153846,0.8894230769230769,0.8894230769230769,0.8878205128205128,0.8878205128205128,0.8814102564102564,0.8862179487179487,0.875,0.8894230769230769,0.8926282051282052,0.8862179487179487,0.8974358974358975,0.8669871794871795,0.8942307692307693,0.8878205128205128,0.8846153846153846,0.8974358974358975,0.8942307692307693,0.8798076923076923,0.8830128205128205,0.8701923076923077,0.8798076923076923,0.8894230769230769,0.8910256410256411,0.8846153846153846,0.875,0.8798076923076923],\"yaxis\":\"y2\",\"type\":\"scatter\"},{\"hovertemplate\":\"method=Standard ML\\u003cbr\\u003edataset=NIH-Chest-X-ray-dataset\\u003cbr\\u003eround=%{x}\\u003cbr\\u003etest_accuracy=%{y}\\u003cextra\\u003e\\u003c\\u002fextra\\u003e\",\"legendgroup\":\"Standard ML\",\"line\":{\"color\":\"#636efa\",\"dash\":\"solid\"},\"marker\":{\"symbol\":\"circle\"},\"mode\":\"lines\",\"name\":\"Standard ML\",\"orientation\":\"v\",\"showlegend\":false,\"x\":[1,2,3,4,5,6,7,8,9,10,11,12,13,14,15,16,17,18,19,20,21,22,23,24,25,26,27,28,29,30,31,32,33,34,35,36,37,38,39,40,41,42,43,44,45,46,47,48,49,50],\"xaxis\":\"x3\",\"y\":[0.5013071211962773,0.4772560911847746,0.4527867823904632,0.5092544180696434,0.5657220537488236,0.5395796298232772,0.589041095890411,0.6123601380319983,0.5680225870542717,0.5976158109379902,0.5791069747987033,0.573878490013594,0.5963609745895639,0.6389208407403535,0.6652724040573041,0.6517829133117222,0.684304088675102,0.6702917494510091,0.6813761371954408,0.7042769005542194,0.6540834466171703,0.7262365366516783,0.7122241974275855,0.6767750705845446,0.6932970825054899,0.6905782704172331,0.702917494510091,0.7245634215204434,0.7372163547004078,0.7394123183101537,0.7283279305657221,0.747987033357733,0.7424448394855171,0.7507058454459897,0.7796716511554951,0.7783122451113668,0.7572937362752274,0.7781031057199623,0.7924291540311618,0.7747568754574924,0.784063578374987,0.7534246575342466,0.7929520025096727,0.7798807905468995,0.7781031057199623,0.7960890933807383,0.7838544389835825,0.7676461361497438,0.8017358569486562,0.7971347903377601],\"yaxis\":\"y3\",\"type\":\"scatter\"},{\"hovertemplate\":\"method=Federated Learning\\u003cbr\\u003edataset=chest-xray-classification\\u003cbr\\u003eround=%{x}\\u003cbr\\u003etest_accuracy=%{y}\\u003cextra\\u003e\\u003c\\u002fextra\\u003e\",\"legendgroup\":\"Federated Learning\",\"line\":{\"color\":\"#EF553B\",\"dash\":\"solid\"},\"marker\":{\"symbol\":\"circle\"},\"mode\":\"lines\",\"name\":\"Federated Learning\",\"orientation\":\"v\",\"showlegend\":true,\"x\":[1,2,3,4,5,6,7,8,9,10,11,12,13,14,15,16,17,18,19,20,21,22,23,24,25,26,27,28,29,30,31,32,33,34,35,36,37,38,39,40,41,42,43,44,45,46,47,48,49,50],\"xaxis\":\"x\",\"y\":[0.8848797250859106,0.8419243986254296,0.9192439862542956,0.8762886597938144,0.8969072164948454,0.9243986254295532,0.950171821305842,0.950171821305842,0.915807560137457,0.9347079037800688,0.9450171821305842,0.9570446735395188,0.9621993127147768,0.9604810996563574,0.9536082474226804,0.9587628865979382,0.9621993127147768,0.9518900343642612,0.9690721649484536,0.9690721649484536,0.9621993127147768,0.9690721649484536,0.9484536082474226,0.9656357388316152,0.972508591065292,0.9776632302405498,0.9742268041237112,0.9776632302405498,0.9810996563573884,0.979381443298969,0.9450171821305842,0.9776632302405498,0.9759450171821306,0.9673539518900344,0.9776632302405498,0.9828178694158076,0.9759450171821306,0.986254295532646,0.9759450171821306,0.9810996563573884,0.9776632302405498,0.9587628865979382,0.9810996563573884,0.9759450171821306,0.9828178694158076,0.9776632302405498,0.9845360824742267,0.9810996563573884,0.979381443298969,0.9845360824742267],\"yaxis\":\"y\",\"type\":\"scatter\"},{\"hovertemplate\":\"method=Federated Learning\\u003cbr\\u003edataset=raw_pneumonia_x_ray\\u003cbr\\u003eround=%{x}\\u003cbr\\u003etest_accuracy=%{y}\\u003cextra\\u003e\\u003c\\u002fextra\\u003e\",\"legendgroup\":\"Federated Learning\",\"line\":{\"color\":\"#EF553B\",\"dash\":\"solid\"},\"marker\":{\"symbol\":\"circle\"},\"mode\":\"lines\",\"name\":\"Federated Learning\",\"orientation\":\"v\",\"showlegend\":false,\"x\":[1,2,3,4,5,6,7,8,9,10,11,12,13,14,15,16,17,18,19,20,21,22,23,24,25,26,27,28,29,30,31,32,33,34,35,36,37,38,39,40,41,42,43,44,45,46,47,48,49,50],\"xaxis\":\"x2\",\"y\":[0.8782051282051282,0.907051282051282,0.9198717948717948,0.907051282051282,0.9230769230769232,0.8990384615384616,0.8910256410256411,0.9278846153846154,0.9198717948717948,0.9246794871794872,0.9198717948717948,0.9455128205128204,0.9342948717948718,0.8862179487179487,0.9342948717948718,0.9407051282051282,0.9455128205128204,0.939102564102564,0.9503205128205128,0.9439102564102564,0.9503205128205128,0.9535256410256412,0.971153846153846,0.9583333333333334,0.9599358974358976,0.9599358974358976,0.966346153846154,0.9615384615384616,0.9583333333333334,0.966346153846154,0.9647435897435898,0.969551282051282,0.9727564102564102,0.9743589743589745,0.9567307692307692,0.9631410256410255,0.969551282051282,0.9775641025641024,0.9599358974358976,0.969551282051282,0.9631410256410255,0.967948717948718,0.971153846153846,0.971153846153846,0.9535256410256412,0.967948717948718,0.971153846153846,0.9631410256410255,0.9759615384615384,0.9727564102564102],\"yaxis\":\"y2\",\"type\":\"scatter\"},{\"hovertemplate\":\"method=Federated Learning\\u003cbr\\u003edataset=NIH-Chest-X-ray-dataset\\u003cbr\\u003eround=%{x}\\u003cbr\\u003etest_accuracy=%{y}\\u003cextra\\u003e\\u003c\\u002fextra\\u003e\",\"legendgroup\":\"Federated Learning\",\"line\":{\"color\":\"#EF553B\",\"dash\":\"solid\"},\"marker\":{\"symbol\":\"circle\"},\"mode\":\"lines\",\"name\":\"Federated Learning\",\"orientation\":\"v\",\"showlegend\":false,\"x\":[1,2,3,4,5,6,7,8,9,10,11,12,13,14,15,16,17,18,19,20,21,22,23,24,25,26,27,28,29,30,31,32,33,34,35,36,37,38,39,40,41,42,43,44,45,46,47,48,49,50],\"xaxis\":\"x3\",\"y\":[0.3733138136568023,0.4181742131130398,0.6758339433232249,0.6138241137718289,0.7138973125588205,0.7370072153090035,0.7719334936735334,0.811774547736066,0.8927114922095577,0.8557983896266862,0.8679284743281397,0.8829865105092544,0.8907246679912162,0.8907246679912162,0.8928160619052599,0.864163965282861,0.8933389103837708,0.8797448499424867,0.8587263411063474,0.9088152253476942,0.8916657952525359,0.9015999163442434,0.9011816375614348,0.8956394436892189,0.8602948865418801,0.8663599288926069,0.8456551291435742,0.8428317473596152,0.8285056990484158,0.9231412736588936,0.9117431768273554,0.8210812506535606,0.8800585590295932,0.8766077590714211,0.8547526926696644,0.852870438147025,0.916553382829656,0.8313290808323748,0.8735752378960577,0.8805814075081041,0.8599811774547736,0.8126111053016836,0.8344661717034404,0.7816584753738367,0.9151939767855276,0.7864686813761372,0.8778625954198473,0.8426226079682108,0.8819408135522325,0.8752483530272926],\"yaxis\":\"y3\",\"type\":\"scatter\"}],                        {\"template\":{\"data\":{\"histogram2dcontour\":[{\"type\":\"histogram2dcontour\",\"colorbar\":{\"outlinewidth\":0,\"ticks\":\"\"},\"colorscale\":[[0.0,\"#0d0887\"],[0.1111111111111111,\"#46039f\"],[0.2222222222222222,\"#7201a8\"],[0.3333333333333333,\"#9c179e\"],[0.4444444444444444,\"#bd3786\"],[0.5555555555555556,\"#d8576b\"],[0.6666666666666666,\"#ed7953\"],[0.7777777777777778,\"#fb9f3a\"],[0.8888888888888888,\"#fdca26\"],[1.0,\"#f0f921\"]]}],\"choropleth\":[{\"type\":\"choropleth\",\"colorbar\":{\"outlinewidth\":0,\"ticks\":\"\"}}],\"histogram2d\":[{\"type\":\"histogram2d\",\"colorbar\":{\"outlinewidth\":0,\"ticks\":\"\"},\"colorscale\":[[0.0,\"#0d0887\"],[0.1111111111111111,\"#46039f\"],[0.2222222222222222,\"#7201a8\"],[0.3333333333333333,\"#9c179e\"],[0.4444444444444444,\"#bd3786\"],[0.5555555555555556,\"#d8576b\"],[0.6666666666666666,\"#ed7953\"],[0.7777777777777778,\"#fb9f3a\"],[0.8888888888888888,\"#fdca26\"],[1.0,\"#f0f921\"]]}],\"heatmap\":[{\"type\":\"heatmap\",\"colorbar\":{\"outlinewidth\":0,\"ticks\":\"\"},\"colorscale\":[[0.0,\"#0d0887\"],[0.1111111111111111,\"#46039f\"],[0.2222222222222222,\"#7201a8\"],[0.3333333333333333,\"#9c179e\"],[0.4444444444444444,\"#bd3786\"],[0.5555555555555556,\"#d8576b\"],[0.6666666666666666,\"#ed7953\"],[0.7777777777777778,\"#fb9f3a\"],[0.8888888888888888,\"#fdca26\"],[1.0,\"#f0f921\"]]}],\"heatmapgl\":[{\"type\":\"heatmapgl\",\"colorbar\":{\"outlinewidth\":0,\"ticks\":\"\"},\"colorscale\":[[0.0,\"#0d0887\"],[0.1111111111111111,\"#46039f\"],[0.2222222222222222,\"#7201a8\"],[0.3333333333333333,\"#9c179e\"],[0.4444444444444444,\"#bd3786\"],[0.5555555555555556,\"#d8576b\"],[0.6666666666666666,\"#ed7953\"],[0.7777777777777778,\"#fb9f3a\"],[0.8888888888888888,\"#fdca26\"],[1.0,\"#f0f921\"]]}],\"contourcarpet\":[{\"type\":\"contourcarpet\",\"colorbar\":{\"outlinewidth\":0,\"ticks\":\"\"}}],\"contour\":[{\"type\":\"contour\",\"colorbar\":{\"outlinewidth\":0,\"ticks\":\"\"},\"colorscale\":[[0.0,\"#0d0887\"],[0.1111111111111111,\"#46039f\"],[0.2222222222222222,\"#7201a8\"],[0.3333333333333333,\"#9c179e\"],[0.4444444444444444,\"#bd3786\"],[0.5555555555555556,\"#d8576b\"],[0.6666666666666666,\"#ed7953\"],[0.7777777777777778,\"#fb9f3a\"],[0.8888888888888888,\"#fdca26\"],[1.0,\"#f0f921\"]]}],\"surface\":[{\"type\":\"surface\",\"colorbar\":{\"outlinewidth\":0,\"ticks\":\"\"},\"colorscale\":[[0.0,\"#0d0887\"],[0.1111111111111111,\"#46039f\"],[0.2222222222222222,\"#7201a8\"],[0.3333333333333333,\"#9c179e\"],[0.4444444444444444,\"#bd3786\"],[0.5555555555555556,\"#d8576b\"],[0.6666666666666666,\"#ed7953\"],[0.7777777777777778,\"#fb9f3a\"],[0.8888888888888888,\"#fdca26\"],[1.0,\"#f0f921\"]]}],\"mesh3d\":[{\"type\":\"mesh3d\",\"colorbar\":{\"outlinewidth\":0,\"ticks\":\"\"}}],\"scatter\":[{\"fillpattern\":{\"fillmode\":\"overlay\",\"size\":10,\"solidity\":0.2},\"type\":\"scatter\"}],\"parcoords\":[{\"type\":\"parcoords\",\"line\":{\"colorbar\":{\"outlinewidth\":0,\"ticks\":\"\"}}}],\"scatterpolargl\":[{\"type\":\"scatterpolargl\",\"marker\":{\"colorbar\":{\"outlinewidth\":0,\"ticks\":\"\"}}}],\"bar\":[{\"error_x\":{\"color\":\"#2a3f5f\"},\"error_y\":{\"color\":\"#2a3f5f\"},\"marker\":{\"line\":{\"color\":\"#E5ECF6\",\"width\":0.5},\"pattern\":{\"fillmode\":\"overlay\",\"size\":10,\"solidity\":0.2}},\"type\":\"bar\"}],\"scattergeo\":[{\"type\":\"scattergeo\",\"marker\":{\"colorbar\":{\"outlinewidth\":0,\"ticks\":\"\"}}}],\"scatterpolar\":[{\"type\":\"scatterpolar\",\"marker\":{\"colorbar\":{\"outlinewidth\":0,\"ticks\":\"\"}}}],\"histogram\":[{\"marker\":{\"pattern\":{\"fillmode\":\"overlay\",\"size\":10,\"solidity\":0.2}},\"type\":\"histogram\"}],\"scattergl\":[{\"type\":\"scattergl\",\"marker\":{\"colorbar\":{\"outlinewidth\":0,\"ticks\":\"\"}}}],\"scatter3d\":[{\"type\":\"scatter3d\",\"line\":{\"colorbar\":{\"outlinewidth\":0,\"ticks\":\"\"}},\"marker\":{\"colorbar\":{\"outlinewidth\":0,\"ticks\":\"\"}}}],\"scattermapbox\":[{\"type\":\"scattermapbox\",\"marker\":{\"colorbar\":{\"outlinewidth\":0,\"ticks\":\"\"}}}],\"scatterternary\":[{\"type\":\"scatterternary\",\"marker\":{\"colorbar\":{\"outlinewidth\":0,\"ticks\":\"\"}}}],\"scattercarpet\":[{\"type\":\"scattercarpet\",\"marker\":{\"colorbar\":{\"outlinewidth\":0,\"ticks\":\"\"}}}],\"carpet\":[{\"aaxis\":{\"endlinecolor\":\"#2a3f5f\",\"gridcolor\":\"white\",\"linecolor\":\"white\",\"minorgridcolor\":\"white\",\"startlinecolor\":\"#2a3f5f\"},\"baxis\":{\"endlinecolor\":\"#2a3f5f\",\"gridcolor\":\"white\",\"linecolor\":\"white\",\"minorgridcolor\":\"white\",\"startlinecolor\":\"#2a3f5f\"},\"type\":\"carpet\"}],\"table\":[{\"cells\":{\"fill\":{\"color\":\"#EBF0F8\"},\"line\":{\"color\":\"white\"}},\"header\":{\"fill\":{\"color\":\"#C8D4E3\"},\"line\":{\"color\":\"white\"}},\"type\":\"table\"}],\"barpolar\":[{\"marker\":{\"line\":{\"color\":\"#E5ECF6\",\"width\":0.5},\"pattern\":{\"fillmode\":\"overlay\",\"size\":10,\"solidity\":0.2}},\"type\":\"barpolar\"}],\"pie\":[{\"automargin\":true,\"type\":\"pie\"}]},\"layout\":{\"autotypenumbers\":\"strict\",\"colorway\":[\"#636efa\",\"#EF553B\",\"#00cc96\",\"#ab63fa\",\"#FFA15A\",\"#19d3f3\",\"#FF6692\",\"#B6E880\",\"#FF97FF\",\"#FECB52\"],\"font\":{\"color\":\"#2a3f5f\"},\"hovermode\":\"closest\",\"hoverlabel\":{\"align\":\"left\"},\"paper_bgcolor\":\"white\",\"plot_bgcolor\":\"#E5ECF6\",\"polar\":{\"bgcolor\":\"#E5ECF6\",\"angularaxis\":{\"gridcolor\":\"white\",\"linecolor\":\"white\",\"ticks\":\"\"},\"radialaxis\":{\"gridcolor\":\"white\",\"linecolor\":\"white\",\"ticks\":\"\"}},\"ternary\":{\"bgcolor\":\"#E5ECF6\",\"aaxis\":{\"gridcolor\":\"white\",\"linecolor\":\"white\",\"ticks\":\"\"},\"baxis\":{\"gridcolor\":\"white\",\"linecolor\":\"white\",\"ticks\":\"\"},\"caxis\":{\"gridcolor\":\"white\",\"linecolor\":\"white\",\"ticks\":\"\"}},\"coloraxis\":{\"colorbar\":{\"outlinewidth\":0,\"ticks\":\"\"}},\"colorscale\":{\"sequential\":[[0.0,\"#0d0887\"],[0.1111111111111111,\"#46039f\"],[0.2222222222222222,\"#7201a8\"],[0.3333333333333333,\"#9c179e\"],[0.4444444444444444,\"#bd3786\"],[0.5555555555555556,\"#d8576b\"],[0.6666666666666666,\"#ed7953\"],[0.7777777777777778,\"#fb9f3a\"],[0.8888888888888888,\"#fdca26\"],[1.0,\"#f0f921\"]],\"sequentialminus\":[[0.0,\"#0d0887\"],[0.1111111111111111,\"#46039f\"],[0.2222222222222222,\"#7201a8\"],[0.3333333333333333,\"#9c179e\"],[0.4444444444444444,\"#bd3786\"],[0.5555555555555556,\"#d8576b\"],[0.6666666666666666,\"#ed7953\"],[0.7777777777777778,\"#fb9f3a\"],[0.8888888888888888,\"#fdca26\"],[1.0,\"#f0f921\"]],\"diverging\":[[0,\"#8e0152\"],[0.1,\"#c51b7d\"],[0.2,\"#de77ae\"],[0.3,\"#f1b6da\"],[0.4,\"#fde0ef\"],[0.5,\"#f7f7f7\"],[0.6,\"#e6f5d0\"],[0.7,\"#b8e186\"],[0.8,\"#7fbc41\"],[0.9,\"#4d9221\"],[1,\"#276419\"]]},\"xaxis\":{\"gridcolor\":\"white\",\"linecolor\":\"white\",\"ticks\":\"\",\"title\":{\"standoff\":15},\"zerolinecolor\":\"white\",\"automargin\":true,\"zerolinewidth\":2},\"yaxis\":{\"gridcolor\":\"white\",\"linecolor\":\"white\",\"ticks\":\"\",\"title\":{\"standoff\":15},\"zerolinecolor\":\"white\",\"automargin\":true,\"zerolinewidth\":2},\"scene\":{\"xaxis\":{\"backgroundcolor\":\"#E5ECF6\",\"gridcolor\":\"white\",\"linecolor\":\"white\",\"showbackground\":true,\"ticks\":\"\",\"zerolinecolor\":\"white\",\"gridwidth\":2},\"yaxis\":{\"backgroundcolor\":\"#E5ECF6\",\"gridcolor\":\"white\",\"linecolor\":\"white\",\"showbackground\":true,\"ticks\":\"\",\"zerolinecolor\":\"white\",\"gridwidth\":2},\"zaxis\":{\"backgroundcolor\":\"#E5ECF6\",\"gridcolor\":\"white\",\"linecolor\":\"white\",\"showbackground\":true,\"ticks\":\"\",\"zerolinecolor\":\"white\",\"gridwidth\":2}},\"shapedefaults\":{\"line\":{\"color\":\"#2a3f5f\"}},\"annotationdefaults\":{\"arrowcolor\":\"#2a3f5f\",\"arrowhead\":0,\"arrowwidth\":1},\"geo\":{\"bgcolor\":\"white\",\"landcolor\":\"#E5ECF6\",\"subunitcolor\":\"white\",\"showland\":true,\"showlakes\":true,\"lakecolor\":\"white\"},\"title\":{\"x\":0.05},\"mapbox\":{\"style\":\"light\"}}},\"xaxis\":{\"anchor\":\"y\",\"domain\":[0.0,0.31999999999999995],\"title\":{\"text\":\"Round number\"},\"range\":[1,50]},\"yaxis\":{\"anchor\":\"x\",\"domain\":[0.0,1.0],\"title\":{\"text\":\"Test dataset accuracy\"},\"range\":[0,1]},\"xaxis2\":{\"anchor\":\"y2\",\"domain\":[0.33999999999999997,0.6599999999999999],\"matches\":\"x\",\"title\":{\"text\":\"Round number\"}},\"yaxis2\":{\"anchor\":\"x2\",\"domain\":[0.0,1.0],\"matches\":\"y\",\"showticklabels\":false},\"xaxis3\":{\"anchor\":\"y3\",\"domain\":[0.6799999999999999,0.9999999999999999],\"matches\":\"x\",\"title\":{\"text\":\"Round number\"}},\"yaxis3\":{\"anchor\":\"x3\",\"domain\":[0.0,1.0],\"matches\":\"y\",\"showticklabels\":false},\"annotations\":[{\"font\":{},\"showarrow\":false,\"text\":\"dataset=chest-xray-classification\",\"x\":0.15999999999999998,\"xanchor\":\"center\",\"xref\":\"paper\",\"y\":1.0,\"yanchor\":\"bottom\",\"yref\":\"paper\"},{\"font\":{},\"showarrow\":false,\"text\":\"dataset=raw_pneumonia_x_ray\",\"x\":0.49999999999999994,\"xanchor\":\"center\",\"xref\":\"paper\",\"y\":1.0,\"yanchor\":\"bottom\",\"yref\":\"paper\"},{\"font\":{},\"showarrow\":false,\"text\":\"dataset=NIH-Chest-X-ray-dataset\",\"x\":0.8399999999999999,\"xanchor\":\"center\",\"xref\":\"paper\",\"y\":1.0,\"yanchor\":\"bottom\",\"yref\":\"paper\"}],\"legend\":{\"title\":{\"text\":\"Training method\"},\"tracegroupgap\":0},\"margin\":{\"t\":60},\"font\":{\"family\":\"Courier New, monospace\",\"size\":12,\"color\":\"RebeccaPurple\"},\"title\":{\"text\":\"Average test accuracy over 50 rounds\"}},                        {\"responsive\": true}                    ).then(function(){\n",
       "                            \n",
       "var gd = document.getElementById('f5cebd34-d1f9-4cf9-ace0-1f806a7e15ae');\n",
       "var x = new MutationObserver(function (mutations, observer) {{\n",
       "        var display = window.getComputedStyle(gd).display;\n",
       "        if (!display || display === 'none') {{\n",
       "            console.log([gd, 'removed!']);\n",
       "            Plotly.purge(gd);\n",
       "            observer.disconnect();\n",
       "        }}\n",
       "}});\n",
       "\n",
       "// Listen for the removal of the full notebook cells\n",
       "var notebookContainer = gd.closest('#notebook-container');\n",
       "if (notebookContainer) {{\n",
       "    x.observe(notebookContainer, {childList: true});\n",
       "}}\n",
       "\n",
       "// Listen for the clearing of the current output cell\n",
       "var outputEl = gd.closest('.output');\n",
       "if (outputEl) {{\n",
       "    x.observe(outputEl, {childList: true});\n",
       "}}\n",
       "\n",
       "                        })                };                });            </script>        </div>"
      ]
     },
     "metadata": {},
     "output_type": "display_data"
    }
   ],
   "source": [
    "import plotly.express as px\n",
    "\n",
    "# obtained from executing using Covalent and federated learning for 50 rounds\n",
    "df_ind = pd.read_csv(\"assets/individual_test_accuracies.csv\")\n",
    "\n",
    "# obtained from executing without federated learning for 50 rounds independently\n",
    "df_fed = pd.read_csv(\"assets/federated_test_accuracies.csv\")\n",
    "\n",
    "df = pd.concat([df_ind, df_fed], axis=0)\n",
    "\n",
    "\n",
    "ds_mapping = {\n",
    "    \"('keremberke/chest-xray-classification', 'full')\":\n",
    "        \"chest-xray-classification\",\n",
    "    \"('mmenendezg/raw_pneumonia_x_ray',)\": \"raw_pneumonia_x_ray\",\n",
    "    \"('alkzar90/NIH-Chest-X-ray-dataset', 'image-classification')\":\n",
    "        \"NIH-Chest-X-ray-dataset\",\n",
    "}\n",
    "df['dataset'] = df['dataset'].apply(\n",
    "    lambda x: ds_mapping[x]\n",
    ")\n",
    "method_mapping = {\n",
    "    \"individual\": \"Standard ML\",\n",
    "    \"federated\": \"Federated Learning\",\n",
    "}\n",
    "df['method'] = df['method'].apply(\n",
    "    lambda x: method_mapping[x]\n",
    ")\n",
    "\n",
    "fig = px.line(\n",
    "    df, x=\"round\", y=\"test_accuracy\",\n",
    "    facet_col=\"dataset\", color=\"method\",\n",
    ")\n",
    "\n",
    "fig.update_layout(\n",
    "    title=\"Average test accuracy over 50 rounds\",\n",
    "    xaxis_title=\"Round number\",\n",
    "    xaxis_range=[1, 50],\n",
    "    yaxis_range=[0, 1],\n",
    "    xaxis2_title=\"Round number\",\n",
    "    xaxis3_title=\"Round number\",\n",
    "    yaxis_title=\"Test dataset accuracy\",\n",
    "    legend_title=\"Training method\",\n",
    "    font=dict(\n",
    "        family=\"Courier New, monospace\",\n",
    "        size=12,\n",
    "        color=\"RebeccaPurple\"\n",
    "    )\n",
    ")"
   ]
  },
  {
   "cell_type": "markdown",
   "id": "09d56bc7-3cfc-4a00-8ef4-ed86442a0647",
   "metadata": {},
   "source": [
    "In an attempt to comprehend the reasons behind the federated model performance, we generate feature maps using the convolutional layer for separate models (upper row) and the federated learning model (lower row). The visual representations offer insights into the evolution of specialized and distinct filters by individual classifiers, whereas the federated model illustrates traits that span across all individual models.\n",
    "\n",
    "![alt text](assets/feature_visualization.png)"
   ]
  },
  {
   "cell_type": "markdown",
   "id": "00229014-f194-44ed-a9f5-2ab5a30df439",
   "metadata": {},
   "source": [
    "# Conclusion\n",
    "Leveraging Covalent, we established a federated learning framework across three cloud computing resources while maintaining strict data isolation protocols. This allowed us to build an X-ray pneumonia classifier seamlessly by utilizing dynamic sublattices for on-the-fly allocation of compute resources, even with heterogeneous datasets.\n",
    "\n",
    "The Covalent-enabled design of the federated learning experiment simplifies adding datasets, adjusting training hyperparameters, and altering aggregation technique. The workflow ensures reproducibility with secure metadata storage in a scalable database.\n",
    "This blog post aims to showcase the remarkable potential of Covalent in conjunction with various resources such as AWS Batch, Azure Batch, and GCP Batch. \n",
    "\n",
    "[Covalent](https://github.com/AgnostiqHQ/covalent/) is free and [open source](https://www.covalent.xyz/open-source/). Please visit the Covalent documentation for more information and many more tutorials. "
   ]
  }
 ],
 "metadata": {
  "kernelspec": {
   "display_name": "Python 3 (ipykernel)",
   "language": "python",
   "name": "python3"
  },
  "language_info": {
   "codemirror_mode": {
    "name": "ipython",
    "version": 3
   },
   "file_extension": ".py",
   "mimetype": "text/x-python",
   "name": "python",
   "nbconvert_exporter": "python",
   "pygments_lexer": "ipython3",
   "version": "3.9.18"
  }
 },
 "nbformat": 4,
 "nbformat_minor": 5
}
