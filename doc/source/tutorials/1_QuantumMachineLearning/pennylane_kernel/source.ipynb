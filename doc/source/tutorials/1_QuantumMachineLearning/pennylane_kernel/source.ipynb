{
 "cells": [
  {
   "cell_type": "markdown",
   "id": "fc147041",
   "metadata": {},
   "source": [
    "# Comparison between kernel-based training and variational circuit using Covalent and Pennylane\n",
    "\n",
    "\n",
    "In this tutorial, we solve a classification problem using kernel-based training variational training and compare the number of quantum circuits that are evaluated in each case. This is an important parameter in the NISQ era as each circuit evaluation on a real quantum hardware is expensive and time consuming. It is observed that kernel-based training requie only a fraction of the number of circuit evaluations required by variational based training. We show how Covalent framework can help in these kind of situations where multiple evaluations of quantum circuits are needed.\n",
    "\n",
    "This demo is based on the Pennylane tutorial [**Kernel-based training of quantum models with scikit-learn**](https://pennylane.ai/qml/demos/tutorial_kernel_based_training.html).\n",
    "\n",
    "We start by importing all the necessary libraries used in the tutorial.\n",
    "\n"
   ]
  },
  {
   "cell_type": "code",
   "execution_count": 1,
   "id": "a75f7fac",
   "metadata": {},
   "outputs": [],
   "source": [
    "import numpy as np\n",
    "import torch\n",
    "from torch.nn.functional import relu\n",
    "\n",
    "from sklearn.svm import SVC\n",
    "from sklearn.datasets import load_iris\n",
    "from sklearn.preprocessing import StandardScaler\n",
    "from sklearn.model_selection import train_test_split\n",
    "from sklearn.metrics import accuracy_score\n",
    "\n",
    "import pennylane as qml\n",
    "from pennylane.templates import AngleEmbedding, StronglyEntanglingLayers\n",
    "from pennylane.operation import Tensor\n",
    "\n",
    "import matplotlib.pyplot as plt\n",
    "\n",
    "import covalent as ct\n",
    "\n",
    "\n",
    "#from covalent.executor import DaskExecutor\n",
    "#from dask.distributed import LocalCluster\n",
    "\n",
    "#from dask.distributed import LocalCluster\n",
    "#cluster=LocalCluster()\n",
    "#dask=ct.executor.DaskExecutor(scheduler_address=cluster.scheduler_address) \n",
    "\n",
    "np.random.seed(42)"
   ]
  },
  {
   "cell_type": "markdown",
   "id": "8ee9e11b",
   "metadata": {},
   "source": [
    "# Load, preprocess and split data\n",
    "\n",
    "We will be using the Iris dataset for the classification problem in this tutorial. We do some necessary preprocessing on the data and split them into training and test dataset.\n",
    "\n",
    "### Iris dataset\n",
    "\n",
    "Iris dataset is a very well known dataset used for pattern recognition and classification. It consists of samples belonging to 3 classes namely: Iris Setosa, Iris Versicolour and Iris Virginica. Each sample has four features related to the length and width of sepal and petal. In this tutorial we will be classifying first two classes that correspond to first 100 samples."
   ]
  },
  {
   "cell_type": "code",
   "execution_count": 2,
   "id": "cdb32772",
   "metadata": {},
   "outputs": [],
   "source": [
    "X, y = load_iris(return_X_y=True)\n",
    "\n",
    "# pick inputs and labels from the first two classes only,\n",
    "# corresponding to the first 100 samples\n",
    "X = X[:100]\n",
    "y = y[:100]\n",
    "\n",
    "# scaling the inputs is important since the embedding we use is periodic\n",
    "scaler = StandardScaler().fit(X)\n",
    "X_scaled = scaler.transform(X)\n",
    "\n",
    "# scaling the labels to -1, 1 is important for the SVM and the\n",
    "# definition of a hinge loss\n",
    "y_scaled = 2 * (y - 0.5)\n",
    "\n",
    "X_train, X_test, y_train, y_test = train_test_split(X_scaled, y_scaled)"
   ]
  },
  {
   "cell_type": "markdown",
   "id": "04081889",
   "metadata": {},
   "source": [
    "# Kernel-based training \n",
    "\n",
    "Suppose we use a linear classifier for solving a classification problem, it need not always be the case that the classifier is successful. This can be attributed to the fact that samples are not always linearly separable. A common trick to overcome this is to transform the data points to a *higher dimensional* space and perform a linear classification there. This works because performing a linear classification in a *higher dimensional* space corresponds to a non-linear classification in the original space.\n",
    "\n",
    "In order to perform calculations in a higher dimensional space we use a special function called the *kernel*. The beauty of these functions is that they are able to perform these computations with out transforming the sample data points to the higher dimensional space. Therefore, kernel-based training can bypass the processing and measurement parts of common variational circuits, and only depends on the data encoding. If the loss function used is the hinge loss, the kernel method corresponds to a standard support vector machine (SVM) in the sense of a maximum-margin classifier. In quantum kernel-based training, we will be using quantum computers for computing the kernel function. In this tutorial, we will be PennyLane’s kernels module for creating simple implementations of Quantum Embedding Kernels.\n"
   ]
  },
  {
   "cell_type": "markdown",
   "id": "3b20137e",
   "metadata": {},
   "source": [
    "## Constructing the workflow for kernel-based training\n",
    "\n",
    "The workflow for training based on kernel is broken down into subtasks (functions with the Covalent electron decorator) as follows.\n",
    "\n",
    "1. `kernel` - The quantum kernel evaluator which calculates the kernel function value between two values. It performs angle embedding for encoding the data features.\n",
    "2. `kernel_matrix` - Compute the matrix whose entries are the kernel evaluated on pairwise data from sets A and B.\n",
    "3. `fit_SVC` - It fits a Support Vector Classifer for the supplied kernel matrix.\n",
    "4. `predict_SVC` - It predicts the classes using the trained SVC.\n",
    "5. `get_accuracy_score` - Returns the accuracy score for the predicted classes.\n"
   ]
  },
  {
   "cell_type": "code",
   "execution_count": 3,
   "id": "c572c82d",
   "metadata": {},
   "outputs": [],
   "source": [
    "n_qubits = len(X_train[0]) #Number of qubits needed for data encoding\n",
    "\n",
    "dev_kernel = qml.device(\"default.qubit\", wires=n_qubits) #Simulator used for performing kernel-based training.\n",
    "\n",
    "projector = np.zeros((2**n_qubits, 2**n_qubits))\n",
    "projector[0, 0] = 1\n",
    "\n",
    "@ct.electron()\n",
    "@qml.qnode(dev_kernel)\n",
    "def kernel(x1, x2):\n",
    "    AngleEmbedding(x1, wires=range(n_qubits))\n",
    "    qml.adjoint(AngleEmbedding)(x2, wires=range(n_qubits))\n",
    "    return qml.expval(qml.Hermitian(projector, wires=range(n_qubits)))"
   ]
  },
  {
   "cell_type": "code",
   "execution_count": 4,
   "id": "e0f2e1a0",
   "metadata": {},
   "outputs": [],
   "source": [
    "@ct.electron()\n",
    "def kernel_matrix(A, B):\n",
    "    return np.array([[kernel(a, b) for b in B] for a in A])\n",
    "\n",
    "@ct.electron()\n",
    "def fit_SVC(X_train, y_train,kernel_matrix):\n",
    "    svm = SVC(kernel=kernel_matrix).fit(X_train, y_train)\n",
    "    return svm\n",
    "\n",
    "@ct.electron()\n",
    "def predict_SVC(svm, X_test):\n",
    "    predictions = svm.predict(X_test)\n",
    "    return predictions\n",
    "\n",
    "@ct.electron()\n",
    "def get_accuracy_score(predictions, y_test):\n",
    "    return accuracy_score(predictions, y_test)\n"
   ]
  },
  {
   "cell_type": "markdown",
   "id": "a4ef5306",
   "metadata": {},
   "source": [
    "We create a waorkflow `kernel_workflow` using Covalent lattice decorator for training a kernel-based classifier and for predicting classes of the test set. We then dispatch the workflow to the dask executor using Covalent `dispatch`. The results are later retrieved by using Covalent `get_result` method."
   ]
  },
  {
   "cell_type": "code",
   "execution_count": 5,
   "id": "2665f5e0",
   "metadata": {},
   "outputs": [],
   "source": [
    "@ct.lattice\n",
    "def kernel_workflow(X_train, y_train, X_test, y_test, kernel_matrix):\n",
    "    svm = fit_SVC(X_train, y_train, kernel_matrix)\n",
    "    predictions = predict_SVC(svm,X_test)\n",
    "    acc = get_accuracy_score(predictions, y_test)\n",
    "    return acc"
   ]
  },
  {
   "cell_type": "code",
   "execution_count": 6,
   "id": "4b0a1a2a",
   "metadata": {},
   "outputs": [],
   "source": [
    "dispatch_id = ct.dispatch(kernel_workflow)(X_train, y_train, X_test, y_test, kernel_matrix)"
   ]
  },
  {
   "cell_type": "code",
   "execution_count": 7,
   "id": "ffb39054",
   "metadata": {},
   "outputs": [
    {
     "data": {
      "text/plain": [
       "1.0"
      ]
     },
     "execution_count": 7,
     "metadata": {},
     "output_type": "execute_result"
    }
   ],
   "source": [
    "kernel_result = ct.get_result(dispatch_id=dispatch_id, wait=True)\n",
    "kernel_result.result"
   ]
  },
  {
   "cell_type": "markdown",
   "id": "9b8310e8",
   "metadata": {},
   "source": [
    "# Variational training\n",
    "\n",
    "Variational circuits consists of quantum circuits that have trainable parameters in them. These parameters are trained with a classical optimization algorithm which looks for better set of parameters at each step of training. The expressivity of the variational algorithm depends on the depth of the ansatz used in the variational circuit.\n",
    "\n",
    "We will be using gradient-based optimizers and we will use parameter-shift differentiation method for quantum nodes as it works on real quantum hardwares as well. Taking this approach will help us calculate the number of circuit executions needed more accurately."
   ]
  },
  {
   "cell_type": "markdown",
   "id": "6dda2098",
   "metadata": {},
   "source": [
    "## Constructing the workflow for variational training\n",
    "\n",
    "The workflow for training based on variational circuit is broken down into subtasks (functions with the Covalent electron decorator) as follows.\n",
    "\n",
    "1. `quantum_model` - Evaluates the quantum variational circuit.\n",
    "2. `quantum_model_plus_bias` - Adds bias to the output of the circuit.\n",
    "3. `hinge_loss` - Calculates the hinge loss between the predictions and target value.\n",
    "4. `get_params` - Returns random initial parameters as torch objects.\n",
    "5. `get_optimizer` - Returns the the optimizer needed for training.\n",
    "6. `get_batch_data` - Returns the samples used for training in a particular batch.\n",
    "7. `step_optimizer` - Performs one step of optimization during training.\n",
    "8. `run_iteration` - Runs one complete iteration of training.\n",
    "9. `get_random` - Returns random indexes needed to choose batch.\n",
    "10. `get_torch` - Converts an array into a torch object.\n",
    "11. `get_pred` - Predict the class based on the output of the model."
   ]
  },
  {
   "cell_type": "code",
   "execution_count": 8,
   "id": "9b082a7b",
   "metadata": {},
   "outputs": [],
   "source": [
    "dev_var = qml.device(\"default.qubit\", wires=n_qubits)\n",
    "\n",
    "@ct.electron()\n",
    "@qml.qnode(dev_var, interface=\"torch\", diff_method=\"parameter-shift\")\n",
    "def quantum_model(x, params):\n",
    "\n",
    "    AngleEmbedding(x, wires=range(n_qubits))\n",
    "\n",
    "    StronglyEntanglingLayers(params, wires=range(n_qubits))\n",
    "    return qml.expval(qml.PauliZ(0))\n",
    "\n",
    "@ct.electron()\n",
    "def quantum_model_plus_bias(x, params, bias):\n",
    "\n",
    "    return quantum_model(x, params) + bias\n",
    "\n",
    "@ct.electron()\n",
    "def hinge_loss(predictions, targets):\n",
    "\n",
    "    all_ones = torch.ones_like(targets)\n",
    "    hinge_loss = all_ones - predictions * targets\n",
    "\n",
    "    hinge_loss = relu(hinge_loss)\n",
    "    return hinge_loss"
   ]
  },
  {
   "cell_type": "code",
   "execution_count": 9,
   "id": "46fb6b81",
   "metadata": {},
   "outputs": [],
   "source": [
    "@ct.electron()\n",
    "def get_params(n_layers):\n",
    "    params = np.random.random((n_layers, n_qubits, 3))\n",
    "    params_torch = torch.tensor(params, requires_grad=True)\n",
    "    bias_torch = torch.tensor(0.0)\n",
    "    return params_torch, bias_torch\n",
    "\n",
    "@ct.electron()\n",
    "def get_optimizer(params_torch, bias_torch):\n",
    "    return torch.optim.Adam([params_torch, bias_torch], lr=0.1)\n",
    "\n",
    "@ct.electron()\n",
    "def get_batch_data(batch_ids):\n",
    "    X_batch = X_train[batch_ids]\n",
    "    y_batch = y_train[batch_ids]\n",
    "\n",
    "    X_batch_torch = torch.tensor(X_batch, requires_grad=False)\n",
    "    y_batch_torch = torch.tensor(y_batch, requires_grad=False)\n",
    "    \n",
    "    return X_batch_torch, y_batch_torch\n",
    "\n",
    "\n",
    "@ct.electron()\n",
    "def step_optimizer(opt, params_torch, bias_torch,  X_batch_torch, y_batch_torch):\n",
    "    def closure():\n",
    "        opt.zero_grad()\n",
    "        preds = torch.stack(\n",
    "            [quantum_model_plus_bias(x, params_torch, bias_torch) for x in X_batch_torch]\n",
    "        )\n",
    "        loss = torch.mean(hinge_loss(preds, y_batch_torch))\n",
    "\n",
    "        loss.backward()\n",
    "        return loss\n",
    "\n",
    "    opt.step(closure)\n",
    "    current_loss = closure().detach().numpy().item()\n",
    "    return opt, current_loss\n",
    "\n",
    "@ct.electron()\n",
    "def get_random(n, batch_size):\n",
    "    return np.random.choice(n, batch_size)\n",
    "\n",
    "@ct.electron()\n",
    "def get_torch(x):\n",
    "    return torch.tensor(x)\n",
    "\n",
    "@ct.electron()\n",
    "def get_pred(pred_torch):\n",
    "    pred = pred_torch.detach().numpy().item()\n",
    "    if pred > 0:\n",
    "        pred = 1\n",
    "    else:\n",
    "        pred = -1        \n",
    "    return pred\n",
    "\n",
    "\n",
    "@ct.electron()\n",
    "def run_iteration(opt,batch_size,params_torch,bias_torch):\n",
    "    batch_ids = get_random(len(X_train), batch_size)\n",
    "\n",
    "    X_batch_torch, y_batch_torch = get_batch_data(batch_ids=batch_ids)\n",
    "    \n",
    "    opt, current_loss = step_optimizer(opt = opt,params_torch = params_torch, bias_torch = bias_torch,  X_batch_torch = X_batch_torch, y_batch_torch = y_batch_torch)\n",
    "    \n",
    "    return opt,current_loss"
   ]
  },
  {
   "cell_type": "markdown",
   "id": "cf19f730",
   "metadata": {},
   "source": [
    "## Training workflow\n",
    "\n",
    "We create two sublatices `quantum_model_train` and `quantum_model_predict` using Covalent lattice decorator for creating the workflow for training and predicting using the variational circuit.\n",
    "\n",
    "The `quantum_model_train` workflow runs each step of optimization inside the sub lattice and hence it can save the intermediate optimization steps. This has an advantage when the code is run on an actual quantum hardware as usually each step would be both time and resource costly and hence we would want to monitor not only at the main optimization level, but also at the iteration level. From the DAGs we can see how the results are saved as each step and if any step fails we can use the saved previous computed results to continue further.\n",
    "\n",
    "\n",
    "We then create the main workflow for training and predicting with `variational_circuit` Covalent lattice. We then dispatch the workflow using Covalent `dispatch`. The results are retrieved by using Covalent `get_result` method. The output is used to compute the accuracy and to plot the loss function.\n",
    "\n",
    "## Directed Acyclic Graph (DAG)\n",
    "\n",
    "In order to verify if the workflow construction is properly defined, we can use the draw method in the predict_workflow or check out the DAG in the Covalent UI. The graph contains information on execution status, task definition, runtime, input parameters, and more. \n",
    "\n",
    "The Directed Acyclic Graph (DAG) generated for `variational_circuit` workflow is shown below:\n",
    "\n",
    "![DAG](assets/covalent-kernel-DAG.png)"
   ]
  },
  {
   "cell_type": "code",
   "execution_count": 10,
   "id": "15612d53",
   "metadata": {},
   "outputs": [],
   "source": [
    "@ct.electron()\n",
    "@ct.lattice()\n",
    "def quantum_model_train(n_layers, steps, batch_size):\n",
    "    \n",
    "    params_torch, bias_torch = get_params(n_layers)\n",
    "\n",
    "    opt = get_optimizer(params_torch, bias_torch)\n",
    "\n",
    "    loss_history = []\n",
    "    \n",
    "    for i in range(steps):\n",
    "\n",
    "        opt, current_loss = run_iteration(opt=opt,batch_size=batch_size,params_torch=params_torch,bias_torch=bias_torch)\n",
    "        \n",
    "        loss_history.append(current_loss)\n",
    "        \n",
    "    return params_torch, bias_torch, loss_history\n",
    "\n"
   ]
  },
  {
   "cell_type": "code",
   "execution_count": 11,
   "id": "672fcab0",
   "metadata": {},
   "outputs": [],
   "source": [
    "@ct.electron()\n",
    "@ct.lattice()\n",
    "def quantum_model_predict(X_pred, trained_params, trained_bias):\n",
    "\n",
    "    p = []\n",
    "    for x in X_pred:\n",
    "\n",
    "        x_torch = get_torch(x=x)\n",
    "        pred_torch = quantum_model_plus_bias(x=x_torch, params=trained_params, bias=trained_bias)\n",
    "        \n",
    "        pred = get_pred(pred_torch=pred_torch)\n",
    "        p.append(pred)\n",
    "    return p"
   ]
  },
  {
   "cell_type": "code",
   "execution_count": 12,
   "id": "a9f3ee4b",
   "metadata": {},
   "outputs": [],
   "source": [
    "@ct.lattice()\n",
    "def variation_circuit(n_layers, steps, batch_size):\n",
    "    trained_params, trained_bias, loss_history = quantum_model_train(n_layers=n_layers, steps=steps, batch_size=batch_size)\n",
    "    pred_test = quantum_model_predict(X_pred = X_test, trained_params=trained_params, trained_bias=trained_bias)\n",
    "    return loss_history,trained_params, trained_bias, pred_test"
   ]
  },
  {
   "cell_type": "code",
   "execution_count": 13,
   "id": "c4e0b138",
   "metadata": {},
   "outputs": [
    {
     "name": "stdout",
     "output_type": "stream",
     "text": [
      "accuracy on test set: 0.36\n"
     ]
    },
    {
     "data": {
      "image/png": "[encoded data removed]",
      "text/plain": [
       "<Figure size 432x288 with 1 Axes>"
      ]
     },
     "metadata": {
      "needs_background": "light"
     },
     "output_type": "display_data"
    }
   ],
   "source": [
    "n_layers = 2\n",
    "batch_size = 20\n",
    "steps = 100\n",
    "\n",
    "dispatch_id = ct.dispatch(variation_circuit)(n_layers, steps, batch_size)\n",
    "result = ct.get_result(dispatch_id=dispatch_id, wait=True)\n",
    "loss_history,trained_params, trained_bias, pred_test = result.result\n",
    "\n",
    "#loss_history,trained_params, trained_bias, pred_test = variation_circuit(n_layers, steps, batch_size)\n",
    "\n",
    "print(\"accuracy on test set:\", accuracy_score(pred_test, y_test))\n",
    "\n",
    "plt.plot(loss_history)\n",
    "plt.ylim((0, 1))\n",
    "plt.xlabel(\"steps\")\n",
    "plt.ylabel(\"cost\")\n",
    "plt.show()"
   ]
  },
  {
   "cell_type": "markdown",
   "id": "3ac4ff70",
   "metadata": {},
   "source": [
    "# Estimating scalability\n",
    "\n",
    "We now estimate the number of circuit evaluations needed for kernel and variational based training. The number of circuit evaluations for kernel-based training depends only on the number of samples. This is because it is needed only when constructing the `kernel_matrix` which needs number of samples ^ 2 circuit evaluations. During predicting as the new samples needed to be compared with each of the training sample we need number of training samples * number of predicting samples.\n",
    "\n",
    "\n",
    "The number of circuit evaluations for variational circuit depends on the number of parameters, samples, step_size during training. This is because, in each optimization step, the partial derivative needs to be evaluated for each parameter and approximately two evaluations are needed per calculation. During prediction, one evaluation is needed per sample.\n",
    "\n",
    "\n",
    "In the above variational-based training, we used 24 parameters for training with 75 samples. We use this as a reasonable estimate of how many parameters are needed for a given number of training samples. We compare the scalability with two cases where the number of variables:\n",
    "\n",
    "1. vary linearly with the number of samples: `n_params = M`. In our case this is overfitting.\n",
    "2. saturates at some point, which we model by setting: `n_params = sqrt(M)`. In our case it is underestimating.\n",
    "\n",
    "For gradient-based training , it is reasonable to assume that the number of steps: `n_step` varies linearly with the number of samples. \n",
    "\n",
    "\n",
    "All these information are plotted with the help of utility functions shown below:"
   ]
  },
  {
   "cell_type": "code",
   "execution_count": 14,
   "id": "62fdc7b6",
   "metadata": {},
   "outputs": [
    {
     "data": {
      "text/plain": [
       "7500"
      ]
     },
     "execution_count": 14,
     "metadata": {},
     "output_type": "execute_result"
    }
   ],
   "source": [
    "def circuit_evals_kernel(n_data, split):\n",
    "    \"\"\"Compute how many circuit evaluations one needs for kernel-based\n",
    "       training and prediction.\"\"\"\n",
    "\n",
    "    M = int(np.ceil(split * n_data))\n",
    "    Mpred = n_data - M\n",
    "\n",
    "    n_training = M * M\n",
    "    n_prediction = M * Mpred\n",
    "\n",
    "    return n_training + n_prediction\n",
    "\n",
    "circuit_evals_kernel(n_data=len(X), split=len(X_train) /(len(X_train) + len(X_test)))"
   ]
  },
  {
   "cell_type": "code",
   "execution_count": 15,
   "id": "9c362c69",
   "metadata": {},
   "outputs": [
    {
     "data": {
      "text/plain": [
       "96025"
      ]
     },
     "execution_count": 15,
     "metadata": {},
     "output_type": "execute_result"
    }
   ],
   "source": [
    "def circuit_evals_variational(n_data, n_params, n_steps, shift_terms, split, batch_size):\n",
    "    \"\"\"Compute how many circuit evaluations are needed for\n",
    "       variational training and prediction.\"\"\"\n",
    "\n",
    "    M = int(np.ceil(split * n_data))\n",
    "    Mpred = n_data - M\n",
    "\n",
    "    n_training = n_params * n_steps * batch_size * shift_terms\n",
    "    n_prediction = Mpred\n",
    "\n",
    "    return n_training + n_prediction\n",
    "\n",
    "circuit_evals_variational(\n",
    "    n_data=len(X),\n",
    "    n_params=len(trained_params.flatten()),\n",
    "    n_steps=steps,\n",
    "    shift_terms=2,\n",
    "    split=len(X_train) /(len(X_train) + len(X_test)),\n",
    "    batch_size=batch_size,\n",
    ")"
   ]
  },
  {
   "cell_type": "code",
   "execution_count": 16,
   "id": "15194aa1",
   "metadata": {},
   "outputs": [
    {
     "data": {
      "text/plain": [
       "2025"
      ]
     },
     "execution_count": 16,
     "metadata": {},
     "output_type": "execute_result"
    }
   ],
   "source": [
    "def model_evals_nn(n_data, n_params, n_steps, split, batch_size):\n",
    "    \"\"\"Compute how many model evaluations are needed for neural\n",
    "       network training and prediction.\"\"\"\n",
    "\n",
    "    M = int(np.ceil(split * n_data))\n",
    "    Mpred = n_data - M\n",
    "\n",
    "    n_training = n_steps * batch_size\n",
    "    n_prediction = Mpred\n",
    "\n",
    "    return n_training + n_prediction\n",
    "\n",
    "model_evals_nn(\n",
    "    n_data=len(X),\n",
    "    n_params=len(trained_params.flatten()),\n",
    "    n_steps=steps,\n",
    "    split=len(X_train) /(len(X_train) + len(X_test)),\n",
    "    batch_size=batch_size,\n",
    ")"
   ]
  },
  {
   "cell_type": "code",
   "execution_count": 17,
   "id": "9a89a42c",
   "metadata": {},
   "outputs": [
    {
     "data": {
      "image/png": "[encoded data removed]",
      "text/plain": [
       "<Figure size 432x288 with 1 Axes>"
      ]
     },
     "metadata": {
      "needs_background": "light"
     },
     "output_type": "display_data"
    }
   ],
   "source": [
    "variational_training1 = []\n",
    "variational_training2 = []\n",
    "kernelbased_training = []\n",
    "nn_training = []\n",
    "x_axis = range(0, 2000, 100)\n",
    "\n",
    "for M in x_axis:\n",
    "\n",
    "    var1 = circuit_evals_variational(\n",
    "        n_data=M, n_params=M, n_steps=M,  shift_terms=2, split=0.75, batch_size=1\n",
    "    )\n",
    "    variational_training1.append(var1)\n",
    "\n",
    "    var2 = circuit_evals_variational(\n",
    "        n_data=M, n_params=round(np.sqrt(M)), n_steps=M,\n",
    "        shift_terms=2, split=0.75, batch_size=1\n",
    "    )\n",
    "    variational_training2.append(var2)\n",
    "\n",
    "    kernel = circuit_evals_kernel(n_data=M, split=0.75)\n",
    "    kernelbased_training.append(kernel)\n",
    "\n",
    "    nn = model_evals_nn(\n",
    "        n_data=M, n_params=M, n_steps=M, split=0.75, batch_size=1\n",
    "    )\n",
    "    nn_training.append(nn)\n",
    "\n",
    "\n",
    "plt.plot(x_axis, nn_training, linestyle='--', label=\"neural net\")\n",
    "plt.plot(x_axis, variational_training1, label=\"var. circuit (linear param scaling)\")\n",
    "plt.plot(x_axis, variational_training2, label=\"var. circuit (srqt param scaling)\")\n",
    "plt.plot(x_axis, kernelbased_training, label=\"(quantum) kernel\")\n",
    "plt.xlabel(\"size of data set\")\n",
    "plt.ylabel(\"number of evaluations\")\n",
    "plt.legend()\n",
    "plt.tight_layout()\n",
    "plt.show()"
   ]
  },
  {
   "cell_type": "markdown",
   "id": "e4b8458a",
   "metadata": {},
   "source": [
    "# Conclusion\n",
    "\n",
    "The number of circuit evaluations needed for variational training depends on the number of parameters used. If it is less it performs better than kernel-based methods and vice versa. If variational circuits turn out to be as parameter-hungry as neural networks, kernel-based training will outperform them for common machine learning tasks. However, if variational learning only turns out to require few parameters (or if more efficient training methods are found), variational circuits could in principle match the linear scaling of neural networks trained with backpropagation.\n",
    "\n",
    "The main conclusion that can be drawn is that kernel-based training can perform better when the number of training parameters for variational circuit is significantly less than the number of training samples.\n",
    "\n",
    "With the use of Covalent we can create workflows that can save intermediate results during training and also helps us monitor the training process."
   ]
  },
  {
   "cell_type": "code",
   "execution_count": null,
   "id": "89f6c85b",
   "metadata": {},
   "outputs": [],
   "source": []
  }
 ],
 "metadata": {
  "kernelspec": {
   "display_name": "Python 3.10.4 64-bit",
   "language": "python",
   "name": "python3"
  },
  "language_info": {
   "codemirror_mode": {
    "name": "ipython",
    "version": 3
   },
   "file_extension": ".py",
   "mimetype": "text/x-python",
   "name": "python",
   "nbconvert_exporter": "python",
   "pygments_lexer": "ipython3",
   "version": "3.10.4"
  }
 },
 "nbformat": 4,
 "nbformat_minor": 5
}
