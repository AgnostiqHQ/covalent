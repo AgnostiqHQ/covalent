{
 "cells": [
  {
   "attachments": {},
   "cell_type": "markdown",
   "id": "3977db3f",
   "metadata": {},
   "source": [
    "# Iris classification\n",
    "\n",
    "This section of the tutorial makes use of the <span class=\"html\"><a href=\"https://raw.githubusercontent.com/XanaduAI/qml/master/demonstrations/variational_classifier/data/iris_classes1and2_scaled.txt\" download=\"parity.txt\" target=\"_blank\">Iris Dataset</a></span> which contains the features of the flowers needed to perform a classification task and get the corresponding flower names. We use amplitude encoding for encoding the features in the dataset and use a Quantum machine learning model to perform the classification."
   ]
  },
  {
   "cell_type": "code",
   "execution_count": 1,
   "id": "819251c9",
   "metadata": {},
   "outputs": [
    {
     "name": "stdout",
     "output_type": "stream",
     "text": [
      "covalent\n",
      "matplotlib==3.4.3\n",
      "pennylane==0.25.1\n",
      "pennylane-sf==0.20.1\n"
     ]
    }
   ],
   "source": [
    "with open(\"./requirements.txt\", \"r\") as file:\n",
    "    for line in file:\n",
    "        print(line.rstrip())\n"
   ]
  },
  {
   "cell_type": "code",
   "execution_count": 2,
   "id": "3629b9e2",
   "metadata": {},
   "outputs": [],
   "source": [
    "# Install necessary packages\n",
    "# !pip install -r ./requirements.txt\n"
   ]
  },
  {
   "cell_type": "code",
   "execution_count": 3,
   "id": "4e51fe54",
   "metadata": {},
   "outputs": [],
   "source": [
    "import pennylane as qml\n",
    "from pennylane import numpy as np\n",
    "import covalent as ct\n",
    "import matplotlib.pyplot as plt\n",
    "from pennylane.optimize import NesterovMomentumOptimizer\n"
   ]
  },
  {
   "cell_type": "markdown",
   "id": "bd74c8e9",
   "metadata": {},
   "source": [
    "We use the Pennylane quantum simulator with 2 qubits to encode real-valued vectors into the amplitudes of a quantum state."
   ]
  },
  {
   "cell_type": "code",
   "execution_count": 4,
   "id": "f41be411",
   "metadata": {},
   "outputs": [],
   "source": [
    "dev = qml.device(\"default.qubit\", wires=2)\n"
   ]
  },
  {
   "cell_type": "markdown",
   "id": "336cd900",
   "metadata": {},
   "source": [
    "Next, we perform the amplitude encoding of the features by first converting the features to angles. We then use a state preparation circuit and feed in those angles and perform the amplitude encoding of the features.\n",
    "\n",
    "As noted in the original [Pennylane tutorial](https://pennylane.ai/qml/demos/tutorial_variational_classifier.html), the circuit is coded according to the scheme in <a class=\"reference external\" href=\"https://arxiv.org/abs/quant-ph/0407010\">Möttönen, et al.\n",
    "(2004)</a>, or as presented\n",
    "for positive vectors only in <a class=\"reference external\" href=\"https://link.springer.com/book/10.1007/978-3-319-96424-9\">Schuld and Petruccione\n",
    "(2018)</a>. Additionally, controlled Y-axis rotations are decomposed into more basic\n",
    "circuits following similar steps in <a class=\"reference external\" href=\"http://www.michaelnielsen.org/qcqi/\">Nielsen and Chuang\n",
    "(2010)</a>.</p>"
   ]
  },
  {
   "cell_type": "code",
   "execution_count": 5,
   "id": "07389641",
   "metadata": {},
   "outputs": [],
   "source": [
    "@ct.electron\n",
    "def get_angles(x):\n",
    "\n",
    "    beta0 = 2 * np.arcsin(np.sqrt(x[1] ** 2) / np.sqrt(x[0] ** 2 + x[1] ** 2 + 1e-12))\n",
    "    beta1 = 2 * np.arcsin(np.sqrt(x[3] ** 2) / np.sqrt(x[2] ** 2 + x[3] ** 2 + 1e-12))\n",
    "    beta2 = 2 * np.arcsin(\n",
    "        np.sqrt(x[2] ** 2 + x[3] ** 2) / np.sqrt(x[0] ** 2 + x[1] ** 2 + x[2] ** 2 + x[3] ** 2)\n",
    "    )\n",
    "\n",
    "    return np.array([beta2, -beta1 / 2, beta1 / 2, -beta0 / 2, beta0 / 2])\n"
   ]
  },
  {
   "cell_type": "code",
   "execution_count": 6,
   "id": "388d162c",
   "metadata": {},
   "outputs": [],
   "source": [
    "def statepreparation(a):\n",
    "    qml.RY(a[0], wires=0)\n",
    "\n",
    "    qml.CNOT(wires=[0, 1])\n",
    "    qml.RY(a[1], wires=1)\n",
    "    qml.CNOT(wires=[0, 1])\n",
    "    qml.RY(a[2], wires=1)\n",
    "\n",
    "    qml.PauliX(wires=0)\n",
    "    qml.CNOT(wires=[0, 1])\n",
    "    qml.RY(a[3], wires=1)\n",
    "    qml.CNOT(wires=[0, 1])\n",
    "    qml.RY(a[4], wires=1)\n",
    "    qml.PauliX(wires=0)\n"
   ]
  },
  {
   "cell_type": "code",
   "execution_count": 7,
   "id": "530f9c25",
   "metadata": {},
   "outputs": [],
   "source": [
    "def layer(W):\n",
    "    qml.Rot(W[0, 0], W[0, 1], W[0, 2], wires=0)\n",
    "    qml.Rot(W[1, 0], W[1, 1], W[1, 2], wires=1)\n",
    "    qml.CNOT(wires=[0, 1])\n"
   ]
  },
  {
   "cell_type": "markdown",
   "id": "4d12ad43",
   "metadata": {},
   "source": [
    "In essence, the variational classifier model contains the state preparation circuit and the quantum model. The measurement is performed using Z-measurement and the result is passed to a classical training system."
   ]
  },
  {
   "cell_type": "code",
   "execution_count": 8,
   "id": "f6efced8",
   "metadata": {},
   "outputs": [],
   "source": [
    "@qml.qnode(dev)\n",
    "def circuit(weights, angles):\n",
    "    statepreparation(angles)\n",
    "\n",
    "    for W in weights:\n",
    "        layer(W)\n",
    "\n",
    "    return qml.expval(qml.PauliZ(0))\n"
   ]
  },
  {
   "cell_type": "markdown",
   "id": "c46a9571",
   "metadata": {},
   "source": [
    "We use a mean square loss function as a cost function."
   ]
  },
  {
   "cell_type": "code",
   "execution_count": 9,
   "id": "c2004b04",
   "metadata": {},
   "outputs": [],
   "source": [
    "@ct.electron\n",
    "def square_loss(labels, predictions):\n",
    "    loss = 0\n",
    "    for l, p in zip(labels, predictions):\n",
    "        loss = loss + (l - p) ** 2\n",
    "\n",
    "    loss = loss / len(labels)\n",
    "    return loss\n"
   ]
  },
  {
   "cell_type": "code",
   "execution_count": 10,
   "id": "653179eb",
   "metadata": {},
   "outputs": [],
   "source": [
    "@ct.electron\n",
    "def variational_classifier(weights, bias, angles):\n",
    "    return circuit(weights, angles) + bias\n"
   ]
  },
  {
   "cell_type": "markdown",
   "id": "cb910f07",
   "metadata": {},
   "source": [
    "<h3>Cost</h3>\n",
    "\n",
    "In supervised learning, the cost function is usually the sum of a loss function and a regularizer. We use the standard square loss that measures the distance between target labels and model predictions."
   ]
  },
  {
   "cell_type": "code",
   "execution_count": 11,
   "id": "3d57f18e",
   "metadata": {},
   "outputs": [],
   "source": [
    "@ct.electron\n",
    "def cost(weights, bias, features, labels):\n",
    "    predictions = [variational_classifier(weights, bias, f) for f in features]\n",
    "    return square_loss(labels, predictions)\n"
   ]
  },
  {
   "cell_type": "code",
   "execution_count": 12,
   "id": "00afbe3b",
   "metadata": {},
   "outputs": [],
   "source": [
    "@ct.electron\n",
    "def load_features(data):\n",
    "    # pad the vectors to size 2^2 with constant values\n",
    "    X = data[:, 0:2]\n",
    "    print(\"First X sample (original)  :\", X[0])\n",
    "\n",
    "    padding = 0.3 * np.ones((len(X), 1))\n",
    "    X_pad = np.c_[np.c_[X, padding], np.zeros((len(X), 1))]\n",
    "    print(\"First X sample (padded)    :\", X_pad[0])\n",
    "\n",
    "    # normalize each input\n",
    "    normalization = np.sqrt(np.sum(X_pad**2, -1))\n",
    "    X_norm = (X_pad.T / normalization).T\n",
    "    print(\"First X sample (normalized):\", X_norm[0])\n",
    "\n",
    "    # angles for state preparation are new features\n",
    "    features = np.array([get_angles(x) for x in X_norm], requires_grad=False)\n",
    "    Y = data[:, -1]\n",
    "    return features, Y, X, X_norm, X_pad\n"
   ]
  },
  {
   "cell_type": "markdown",
   "id": "6ad85f78",
   "metadata": {},
   "source": [
    "<h3>Data</h3>\n",
    "\n",
    "Now, we load the Iris dataset and perform the amplitude encoding. We then pass it to a model. <p>The Iris dataset can be downloaded\n",
    "<span class=\"html\"><a href=\"https://raw.githubusercontent.com/XanaduAI/qml/master/demonstrations/variational_classifier/data/iris_classes1and2_scaled.txt\" download=\"parity.txt\" target=\"_blank\">here</a></span> and should be placed\n",
    "in the subfolder <code class=\"docutils literal notranslate\"><span class=\"pre\">./iris_classes1and2_scaled.txt</span></code>.</p>\n"
   ]
  },
  {
   "cell_type": "code",
   "execution_count": 13,
   "id": "eafaf470",
   "metadata": {},
   "outputs": [
    {
     "name": "stdout",
     "output_type": "stream",
     "text": [
      "First X sample (original)  : [0.4  0.75]\n",
      "First X sample (padded)    : [0.4  0.75 0.3  0.  ]\n",
      "First X sample (normalized): [0.44376016 0.83205029 0.33282012 0.        ]\n",
      "First features sample      : [ 0.67858523 -0.          0.         -1.080839    1.080839  ]\n"
     ]
    }
   ],
   "source": [
    "data = np.loadtxt(\"assets/iris_classes1and2_scaled.txt\")\n",
    "\n",
    "features, Y, X, X_norm, X_pad = load_features(data)\n",
    "\n",
    "print(\"First features sample      :\", features[0])\n"
   ]
  },
  {
   "cell_type": "markdown",
   "id": "196bef87",
   "metadata": {},
   "source": [
    "These angles are our new features, which is why we have renamed X to “features” above. Let’s plot the stages of preprocessing and play around with the dimensions (dim1, dim2). Some of them still separate the classes well, while others are less informative.\n"
   ]
  },
  {
   "cell_type": "code",
   "execution_count": 14,
   "id": "b82e16bb",
   "metadata": {},
   "outputs": [
    {
     "data": {
      "image/png": "[encoded data removed]",
      "text/plain": [
       "<Figure size 432x288 with 1 Axes>"
      ]
     },
     "metadata": {
      "needs_background": "light"
     },
     "output_type": "display_data"
    },
    {
     "data": {
      "image/png": "[encoded data removed]",
      "text/plain": [
       "<Figure size 432x288 with 1 Axes>"
      ]
     },
     "metadata": {
      "needs_background": "light"
     },
     "output_type": "display_data"
    },
    {
     "data": {
      "image/png": "[encoded data removed]",
      "text/plain": [
       "<Figure size 432x288 with 1 Axes>"
      ]
     },
     "metadata": {
      "needs_background": "light"
     },
     "output_type": "display_data"
    }
   ],
   "source": [
    "import matplotlib.pyplot as plt\n",
    "\n",
    "plt.figure()\n",
    "plt.scatter(X[:, 0][Y == 1], X[:, 1][Y == 1], c=\"b\", marker=\"o\", edgecolors=\"k\")\n",
    "plt.scatter(X[:, 0][Y == -1], X[:, 1][Y == -1], c=\"r\", marker=\"o\", edgecolors=\"k\")\n",
    "plt.title(\"Original data\")\n",
    "plt.show()\n",
    "\n",
    "plt.figure()\n",
    "dim1 = 0\n",
    "dim2 = 1\n",
    "plt.scatter(X_norm[:, dim1][Y == 1], X_norm[:, dim2][Y == 1], c=\"b\", marker=\"o\", edgecolors=\"k\")\n",
    "plt.scatter(X_norm[:, dim1][Y == -1], X_norm[:, dim2][Y == -1], c=\"r\", marker=\"o\", edgecolors=\"k\")\n",
    "plt.title(\"Padded and normalised data (dims {} and {})\".format(dim1, dim2))\n",
    "plt.show()\n",
    "\n",
    "plt.figure()\n",
    "dim1 = 0\n",
    "dim2 = 3\n",
    "plt.scatter(\n",
    "    features[:, dim1][Y == 1], features[:, dim2][Y == 1], c=\"b\", marker=\"o\", edgecolors=\"k\"\n",
    ")\n",
    "plt.scatter(\n",
    "    features[:, dim1][Y == -1], features[:, dim2][Y == -1], c=\"r\", marker=\"o\", edgecolors=\"k\"\n",
    ")\n",
    "plt.title(\"Feature vectors (dims {} and {})\".format(dim1, dim2))\n",
    "plt.show()\n"
   ]
  },
  {
   "cell_type": "markdown",
   "id": "68734ec5",
   "metadata": {},
   "source": [
    "To monitor the generalization performance, we split the dataset into two subsets namely train set and validation set. The train set contains 75% data and the validation set contains 25% data."
   ]
  },
  {
   "cell_type": "code",
   "execution_count": 15,
   "id": "ac82bb5a",
   "metadata": {},
   "outputs": [],
   "source": [
    "@ct.electron\n",
    "def train_val_split(features, Y):\n",
    "    np.random.seed(0)\n",
    "    num_data = len(Y)\n",
    "    num_train = int(0.75 * num_data)\n",
    "    index = np.random.permutation(range(num_data))\n",
    "    feats_train = features[index[:num_train]]\n",
    "    Y_train = Y[index[:num_train]]\n",
    "    feats_val = features[index[num_train:]]\n",
    "    Y_val = Y[index[num_train:]]\n",
    "    return feats_train, Y_train, feats_val, Y_val, index, num_train\n"
   ]
  },
  {
   "cell_type": "code",
   "execution_count": 16,
   "id": "f43a5813",
   "metadata": {},
   "outputs": [],
   "source": [
    "feats_train, Y_train, feats_val, Y_val, index, num_train = train_val_split(features, Y)\n",
    "X_train = X[index[:num_train]]\n",
    "X_val = X[index[num_train:]]\n"
   ]
  },
  {
   "cell_type": "markdown",
   "id": "77ef73fd",
   "metadata": {},
   "source": [
    "We check for accuracy by comparing the true parity values with the prediction."
   ]
  },
  {
   "cell_type": "code",
   "execution_count": 17,
   "id": "3984da9a",
   "metadata": {},
   "outputs": [],
   "source": [
    "@ct.electron\n",
    "def accuracy(labels, predictions):\n",
    "\n",
    "    loss = 0\n",
    "    for l, p in zip(labels, predictions):\n",
    "        if abs(l - p) < 1e-5:\n",
    "            loss = loss + 1\n",
    "    loss = loss / len(labels)\n",
    "\n",
    "    return loss\n"
   ]
  },
  {
   "cell_type": "markdown",
   "id": "294c387a",
   "metadata": {},
   "source": [
    "We initialize the variables randomly (but fix a seed for reproducibility). The first variable in the list is used as a bias, while the rest is fed into the gates of the variational circuit."
   ]
  },
  {
   "cell_type": "code",
   "execution_count": 18,
   "id": "93f29899",
   "metadata": {},
   "outputs": [],
   "source": [
    "@ct.electron\n",
    "def weights_bias_init(num_qubits, num_layers):\n",
    "    weights_init = 0.01 * np.random.randn(num_layers, num_qubits, 3, requires_grad=True)\n",
    "    bias_init = np.array(0.0, requires_grad=True)\n",
    "    return weights_init, bias_init\n"
   ]
  },
  {
   "cell_type": "markdown",
   "id": "a034dcd7",
   "metadata": {
    "tags": []
   },
   "source": [
    "<h3>Optimization</h3>\n",
    "\n",
    "We use a NesterovMomentumOptimizer to perform the training optimization. The advantage of using the NesterovMomentumOptimizier compared to using Gradient Descent is that when a minimum loss path is found, the NesterovMomentumOptimizer uses the momentum to speed up the learning process."
   ]
  },
  {
   "cell_type": "code",
   "execution_count": 19,
   "id": "1a4639e4",
   "metadata": {},
   "outputs": [],
   "source": [
    "def get_optimizer():\n",
    "    return NesterovMomentumOptimizer(0.005)\n"
   ]
  },
  {
   "cell_type": "markdown",
   "id": "422ff7a5",
   "metadata": {},
   "source": [
    "We also optimize the cost."
   ]
  },
  {
   "cell_type": "code",
   "execution_count": 20,
   "id": "5209e7ff",
   "metadata": {},
   "outputs": [],
   "source": [
    "@ct.electron\n",
    "def training(\n",
    "    iterations,\n",
    "    batch_size,\n",
    "    weights,\n",
    "    bias,\n",
    "    num_train,\n",
    "    feats_train,\n",
    "    Y_train,\n",
    "    opt,\n",
    "    feats_val,\n",
    "    Y_val,\n",
    "    Y,\n",
    "):\n",
    "    # print(\"beginning\")\n",
    "    training_steps = []\n",
    "    accuracy_steps_train = []\n",
    "    accuracy_steps_val = []\n",
    "    weights_init = weights\n",
    "    bias_init = bias\n",
    "    for it in range(iterations):\n",
    "        batch_index = np.random.randint(0, num_train, (batch_size,))\n",
    "        # print(\"Here\")\n",
    "        feats_train_batch = feats_train[batch_index]\n",
    "        Y_train_batch = Y_train[batch_index]\n",
    "        # print(\"Here1\")\n",
    "        weights_init, bias_init, _, _ = opt.step(\n",
    "            cost, weights_init, bias_init, feats_train_batch, Y_train_batch\n",
    "        )\n",
    "        # print(\"Here2\")\n",
    "        training_steps.append(it)\n",
    "        # Compute predictions on train and validation set\n",
    "        predictions_train = [\n",
    "            np.sign(variational_classifier(weights_init, bias_init, f)) for f in feats_train\n",
    "        ]\n",
    "        predictions_val = [\n",
    "            np.sign(variational_classifier(weights_init, bias_init, f)) for f in feats_val\n",
    "        ]\n",
    "        # print(\"Here3\")\n",
    "        # Compute accuracy on train and validation set\n",
    "        acc_train = accuracy(Y_train, predictions_train)\n",
    "        acc_val = accuracy(Y_val, predictions_val)\n",
    "        # print(\"Here4\")\n",
    "        accuracy_steps_train.append(acc_train)\n",
    "        accuracy_steps_val.append(acc_val)\n",
    "        # print(\"Here5\")\n",
    "        print(\n",
    "            \"Iter: {:5d} | Cost: {:0.7f} | Acc train: {:0.7f} | Acc validation: {:0.7f} \"\n",
    "            \"\".format(it + 1, cost(weights, bias, features, Y), acc_train, acc_val)\n",
    "        )\n",
    "    return weights_init, bias_init, training_steps, accuracy_steps_train, accuracy_steps_val\n"
   ]
  },
  {
   "cell_type": "markdown",
   "id": "0e8fbd06",
   "metadata": {},
   "source": [
    "*Note: In Covalent, a function can be decorated as a lattice or workflow by using```@ct.lattice```. The decorated function, i.e., the lattice contains electrons which are called as normal functions.*"
   ]
  },
  {
   "cell_type": "code",
   "execution_count": 21,
   "id": "2f486473",
   "metadata": {},
   "outputs": [],
   "source": [
    "@ct.lattice(executor=\"local\")\n",
    "def workflow(\n",
    "    iterations, num_train, num_layers, num_qubits, feats_train, Y_train, feats_val, Y_val, Y\n",
    "):\n",
    "    opt = get_optimizer()\n",
    "    weights, bias = weights_bias_init(num_layers, num_qubits)\n",
    "    batch_size = 10\n",
    "    weights_init, bias_init, training_steps, accuracy_steps_train, accuracy_steps_val = training(\n",
    "        iterations=iterations,\n",
    "        batch_size=batch_size,\n",
    "        weights=weights,\n",
    "        bias=bias,\n",
    "        num_train=num_train,\n",
    "        feats_train=feats_train,\n",
    "        Y_train=Y_train,\n",
    "        opt=opt,\n",
    "        feats_val=feats_val,\n",
    "        Y_val=Y_val,\n",
    "        Y=Y,\n",
    "    )\n",
    "    return weights_init, bias_init, training_steps, accuracy_steps_train, accuracy_steps_val\n"
   ]
  },
  {
   "cell_type": "markdown",
   "id": "9b831f92",
   "metadata": {},
   "source": [
    "The workflow is being dispatched and we can see progress in Covalent dashboard. The results are obtained from the covalent and plotted\n",
    "\n",
    "*Note: The \\\"local\\\" executor is used for the lattice to work around a serialization bug in the default Dask-based executor. This issue will be addressed in a later release.*"
   ]
  },
  {
   "cell_type": "code",
   "execution_count": 23,
   "id": "98038505",
   "metadata": {},
   "outputs": [],
   "source": [
    "dispatch_id = ct.dispatch(workflow)(\n",
    "    feats_train=feats_train,\n",
    "    Y_train=Y_train,\n",
    "    feats_val=feats_val,\n",
    "    Y_val=Y_val,\n",
    "    iterations=80,\n",
    "    num_qubits=2,\n",
    "    num_layers=6,\n",
    "    num_train=num_train,\n",
    "    Y=Y,\n",
    ")\n",
    "result = ct.get_result(dispatch_id=dispatch_id, wait=True)\n",
    "weights, bias, training_steps, cost_steps, accuracy_steps = result.result\n"
   ]
  },
  {
   "cell_type": "code",
   "execution_count": 24,
   "id": "39ead46e",
   "metadata": {},
   "outputs": [
    {
     "name": "stdout",
     "output_type": "stream",
     "text": [
      "Workflow completion status: COMPLETED\n"
     ]
    }
   ],
   "source": [
    "print(f\"Workflow completion status: {result.status}\")\n"
   ]
  },
  {
   "cell_type": "markdown",
   "id": "233f83ce",
   "metadata": {},
   "source": [
    "We can plot the continuous output of the variational classifier for the first two dimensions of the Iris data set."
   ]
  },
  {
   "cell_type": "code",
   "execution_count": 25,
   "id": "742b3b9f",
   "metadata": {},
   "outputs": [
    {
     "data": {
      "image/png": "[encoded data removed]",
      "text/plain": [
       "<Figure size 432x288 with 2 Axes>"
      ]
     },
     "metadata": {
      "needs_background": "light"
     },
     "output_type": "display_data"
    }
   ],
   "source": [
    "plt.figure()\n",
    "cm = plt.cm.RdBu\n",
    "\n",
    "# make data for decision regions\n",
    "xx, yy = np.meshgrid(np.linspace(0.0, 1.5, 20), np.linspace(0.0, 1.5, 20))\n",
    "X_grid = [np.array([x, y]) for x, y in zip(xx.flatten(), yy.flatten())]\n",
    "\n",
    "# preprocess grid points like data inputs above\n",
    "padding = 0.3 * np.ones((len(X_grid), 1))\n",
    "X_grid = np.c_[np.c_[X_grid, padding], np.zeros((len(X_grid), 1))]  # pad each input\n",
    "normalization = np.sqrt(np.sum(X_grid**2, -1))\n",
    "X_grid = (X_grid.T / normalization).T  # normalize each input\n",
    "features_grid = np.array(\n",
    "    [get_angles(x) for x in X_grid]\n",
    ")  # angles for state preparation are new features\n",
    "predictions_grid = [variational_classifier(weights, bias, f) for f in features_grid]\n",
    "Z = np.reshape(predictions_grid, xx.shape)\n",
    "\n",
    "# plot decision regions\n",
    "cnt = plt.contourf(xx, yy, Z, levels=np.arange(-1, 1.1, 0.1), cmap=cm, alpha=0.8, extend=\"both\")\n",
    "plt.contour(xx, yy, Z, levels=[0.0], colors=(\"black\",), linestyles=(\"--\",), linewidths=(0.8,))\n",
    "plt.colorbar(cnt, ticks=[-1, 0, 1])\n",
    "\n",
    "# plot data\n",
    "plt.scatter(\n",
    "    X_train[:, 0][Y_train == 1],\n",
    "    X_train[:, 1][Y_train == 1],\n",
    "    c=\"b\",\n",
    "    marker=\"o\",\n",
    "    edgecolors=\"k\",\n",
    "    label=\"class 1 train\",\n",
    ")\n",
    "plt.scatter(\n",
    "    X_val[:, 0][Y_val == 1],\n",
    "    X_val[:, 1][Y_val == 1],\n",
    "    c=\"b\",\n",
    "    marker=\"^\",\n",
    "    edgecolors=\"k\",\n",
    "    label=\"class 1 validation\",\n",
    ")\n",
    "plt.scatter(\n",
    "    X_train[:, 0][Y_train == -1],\n",
    "    X_train[:, 1][Y_train == -1],\n",
    "    c=\"r\",\n",
    "    marker=\"o\",\n",
    "    edgecolors=\"k\",\n",
    "    label=\"class -1 train\",\n",
    ")\n",
    "plt.scatter(\n",
    "    X_val[:, 0][Y_val == -1],\n",
    "    X_val[:, 1][Y_val == -1],\n",
    "    c=\"r\",\n",
    "    marker=\"^\",\n",
    "    edgecolors=\"k\",\n",
    "    label=\"class -1 validation\",\n",
    ")\n",
    "\n",
    "plt.legend()\n",
    "plt.show()\n"
   ]
  },
  {
   "cell_type": "markdown",
   "id": "9c7f86e9",
   "metadata": {},
   "source": [
    "<h3>References </h3>\n",
    "\n",
    "<UL>\n",
    "    <LI>https://pennylane.ai/qml/demos/tutorial_variational_classifier.html</LI>\n",
    "    <LI>https://covalent.readthedocs.io/en/latest/index.html</LI>\n",
    "</UL>"
   ]
  }
 ],
 "metadata": {
  "kernelspec": {
   "display_name": "new",
   "language": "python",
   "name": "python3"
  },
  "language_info": {
   "codemirror_mode": {
    "name": "ipython",
    "version": 3
   },
   "file_extension": ".py",
   "mimetype": "text/x-python",
   "name": "python",
   "nbconvert_exporter": "python",
   "pygments_lexer": "ipython3"
  },
  "vscode": {
   "interpreter": {
    "hash": "65f23ff11413a1b24e6045f226bbb649c5d31fd62a4c12b34b399c99ac705181"
   }
  }
 },
 "nbformat": 4,
 "nbformat_minor": 5
}
