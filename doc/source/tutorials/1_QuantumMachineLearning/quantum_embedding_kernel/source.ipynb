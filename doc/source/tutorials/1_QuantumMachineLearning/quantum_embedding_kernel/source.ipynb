{
 "cells": [
  {
   "cell_type": "markdown",
   "metadata": {},
   "source": [
    "# Training quantum embedding kernels for classification\n",
    "\n",
    "In this tutorial we will dive deeper into the the concept of quantum embedding kernels, or quantum kernels. We will train a quantum kernel based on a similarity measure called the kernel-target alignment and see how the training improves the performance of it as a classifier. We will demonstrate how to use Covalent to orchestrate the whole workflow composed of multiple smaller subtasks. Once the workflow is dispatched, we will be able to track the results of each subtask through the Covalent result manager. In the meantime, all the subtasks constructed can be called as normal Python functions, giving users more flexibility in testing and debugging. For more details about the quantum embedding kernels, we refer the reader to this PennyLane demo: [Training and evaluating quantum kernels](https://pennylane.ai/qml/demos/tutorial_kernels_module.html#training-qeks), which this tutorial is based on."
   ]
  },
  {
   "cell_type": "markdown",
   "metadata": {},
   "source": [
    "In addition to Covalent, one first needs to install the following packages in order to fully reproduce the results of this tutorial."
   ]
  },
  {
   "cell_type": "code",
   "execution_count": 1,
   "metadata": {},
   "outputs": [],
   "source": [
    "# !pip install pennylane==0.23.1\n",
    "# !pip install scikit-learn==1.1.1\n",
    "# !pip install matplotlib==3.5.1"
   ]
  },
  {
   "cell_type": "markdown",
   "metadata": {},
   "source": [
    "Let us begin by running `covalent start` in a terminal to start the Covalent server. Next we import the necessary packages."
   ]
  },
  {
   "cell_type": "code",
   "execution_count": 1,
   "metadata": {},
   "outputs": [],
   "source": [
    "import pennylane as qml\n",
    "from pennylane import numpy as np\n",
    "import covalent as ct\n",
    "import matplotlib.pyplot as plt\n",
    "from matplotlib.colors import ListedColormap\n",
    "from sklearn.datasets import make_blobs\n",
    "from sklearn.model_selection import train_test_split\n",
    "from sklearn.svm import SVC\n",
    "from sklearn.inspection import DecisionBoundaryDisplay\n",
    "\n",
    "np.random.seed(2022)"
   ]
  },
  {
   "cell_type": "markdown",
   "metadata": {},
   "source": [
    "## Defining the quantum kernel\n",
    "\n",
    "We first generate a dataset with two features and two classes for our classification task using `scikit-learn`'s `make_blobs` function. For this tutorial, we will make a toy dataset that contain 18 points as 9 \"blobs\", or clusters, arranged in a checkerboard fashion. We then do a train/test split of ratio 8:2. Moreover, we include the above two steps in the Covalent workflow as subtasks by adding the `electron` decorator on top of the respective functions."
   ]
  },
  {
   "cell_type": "code",
   "execution_count": 2,
   "metadata": {},
   "outputs": [],
   "source": [
    "@ct.electron\n",
    "def get_data(n_samples=18):\n",
    "    centers = [\n",
    "        (1,1), (1,2), (1,3),\n",
    "        (2,1), (2,2), (2,3),\n",
    "        (3,1), (3,2), (3,3)\n",
    "    ]\n",
    "    X, y = make_blobs(\n",
    "    n_samples=n_samples, n_features=2, centers=centers, cluster_std=0.1, shuffle=False\n",
    "    )\n",
    "    # rescale labels to be -1, 1\n",
    "    mapping = {0:-1, 1:1, 2:-1, 3:1, 4:-1, 5:1, 6:-1, 7:1, 8:-1}\n",
    "    y = np.array([mapping[i] for i in y])\n",
    "    X = X.astype(np.float32)\n",
    "    y = y.astype(int)\n",
    "    return X, y\n",
    "\n",
    "@ct.electron\n",
    "def split_train_test_data(X, y, test_size=0.2):\n",
    "    X_train, X_test, y_train, y_test = train_test_split(X, y, test_size=test_size, random_state=3)\n",
    "    return X_train, X_test, y_train, y_test"
   ]
  },
  {
   "cell_type": "markdown",
   "metadata": {},
   "source": [
    "As mentioned in the beginning, these subtasks can be called as normal Python functions. So we can plot the dataset for visualization."
   ]
  },
  {
   "cell_type": "code",
   "execution_count": 3,
   "metadata": {},
   "outputs": [
    {
     "data": {
      "image/png": "[encoded data removed]",
      "text/plain": [
       "<Figure size 432x288 with 1 Axes>"
      ]
     },
     "metadata": {},
     "output_type": "display_data"
    }
   ],
   "source": [
    "X, y = get_data()\n",
    "X_train, X_test, y_train, y_test = split_train_test_data(X, y)\n",
    "\n",
    "cm = plt.cm.RdBu\n",
    "cm_bright = ListedColormap(['#FF0000', '#0000FF'])\n",
    "fig, ax = plt.subplots(1, 1, figsize=(6, 4), facecolor=\"w\")\n",
    "ax.scatter(X_train[:, 0], X_train[:, 1], c=y_train, cmap=cm_bright)\n",
    "ax.scatter(X_test[:, 0], X_test[:, 1], c=y_test, marker=\"$\\u25EF$\", cmap=cm_bright)\n",
    "ax.set_xlabel(\"First feature\")\n",
    "ax.set_ylabel(\"Second feature\")\n",
    "plt.tight_layout()\n",
    "plt.show()"
   ]
  },
  {
   "cell_type": "markdown",
   "metadata": {},
   "source": [
    "Next, we construct the quantum embedding kernel by building a *data reuploading* quantum variational circuit based on the ansatz given in [Hubregtsen et al. 2021](https://arxiv.org/abs/2105.02276). Specifically, this ansatz uses a repeating layer architecture, where each layer embeds the 2 features into 5 qubits through the angles of $R_Z$ gates. The variational parameters correspond to the angles of a series of $R_Y$ and controlled-$R_Z$ gates. The ansatz diagram of one layer is shown below.\n",
    "\n",
    "<div align=\"center\">\n",
    "<img src=\"assets/qek_circuit.png\" style=\"width: 40%; height: 40%\"/>\n",
    "</div>\n",
    "\n",
    "A quantum kernel is given by the mutual overlap of the two data-embedding quantum states, i.e.,\n",
    "\\begin{equation}\n",
    "k(x_1, x_2) = \\vert{\\langle x_2, \\boldsymbol{\\theta} \\vert x_1, \\boldsymbol{\\theta} \\rangle} \\vert^2,\n",
    "\\end{equation}\n",
    "where $\\boldsymbol{\\theta}$ denotes the variational parameters. Therefore, to define a quantum kernel function, we construct the following subtasks with Covalent:\n",
    "\n",
    "* `layer` - Build the quantum circuit for each layer based on the embedding ansatz given above.\n",
    "* `ansatz` - Construct the full ansatz circuit with an arbitrary number of layers.\n",
    "* `adjoint_ansatz` - Get the Hermitian adjoint of the ansatz circuit.\n",
    "* `kernel_circuit` - Construct the quantum embedding kernel circuit from `ansatz` and `adjoint_ansatz`.\n",
    "* `kernel` - Return the quantum kernel function based on `kernel_circuit`."
   ]
  },
  {
   "cell_type": "code",
   "execution_count": 4,
   "metadata": {},
   "outputs": [],
   "source": [
    "@ct.electron\n",
    "def layer(x, params, wires, i0=0, inc=1):\n",
    "    i = i0\n",
    "    for j, wire in enumerate(wires):\n",
    "        qml.Hadamard(wires=[wire])\n",
    "        qml.RZ(x[i % len(x)], wires=[wire])\n",
    "        i += inc\n",
    "        qml.RY(params[0, j], wires=[wire])\n",
    "\n",
    "    qml.broadcast(unitary=qml.CRZ, pattern=\"ring\", wires=wires, parameters=params[1])\n",
    "\n",
    "@ct.electron\n",
    "def ansatz(x, params, wires):\n",
    "    for j, layer_params in enumerate(params):\n",
    "        layer(x, layer_params, wires, i0=j * len(wires))\n",
    "\n",
    "@ct.electron\n",
    "def adjoint_ansatz(ansatz):\n",
    "    return qml.adjoint(ansatz)\n",
    "\n",
    "@ct.electron\n",
    "def kernel_circuit(params):\n",
    "    dev = qml.device(\"default.qubit\", wires=params.shape[2], shots=None) # number of wires corresponds to the third dimension of params\n",
    "    wires = dev.wires.tolist()\n",
    "    @qml.qnode(dev)\n",
    "    def circuit(x1, x2, params):\n",
    "        ansatz(x1, params, wires=wires)\n",
    "        adjoint_ansatz(ansatz)(x2, params, wires=wires)\n",
    "        return qml.probs(wires=wires)\n",
    "    return circuit\n",
    "\n",
    "@ct.electron\n",
    "def kernel(x1, x2, params):\n",
    "    return kernel_circuit(params)(x1, x2, params)[0]"
   ]
  },
  {
   "cell_type": "markdown",
   "metadata": {},
   "source": [
    "Now we are in a position to build a support vector machine (SVM) classifier based on the quantum kernel and evaluate the accuracy of its predictions. It consists of three subtasks:\n",
    "\n",
    "* `init_params` - Randomly initialize the variational parameters.\n",
    "* `svm` - Build the SVM classifier using the quantum kernel.\n",
    "* `get_accuracy` - Evaluate the accuracy of the classifier on a given dataset.\n",
    "\n",
    "To accomplish the second subtask, we first use PennyLane's `qml.kernels.kernel_matrix` function to get the kernel matrix of a full dataset (not just between two data points) based on the given parameters. The kernel matrix is then fed into `scikit-learn`'s support vector classifier (`SVC`), which allows us to build a quantum SVM estimator using the training data."
   ]
  },
  {
   "cell_type": "code",
   "execution_count": 5,
   "metadata": {},
   "outputs": [],
   "source": [
    "@ct.electron\n",
    "def init_params(num_wires, num_layers):\n",
    "    return np.random.uniform(0, 2 * np.pi, (num_layers, 2, num_wires), requires_grad=True)\n",
    "\n",
    "@ct.electron\n",
    "def svm(X, y, params):\n",
    "    kernel_input = lambda x1, x2: kernel(x1, x2, params)\n",
    "    svm = SVC(kernel=lambda x1, x2: qml.kernels.kernel_matrix(x1, x2, kernel_input))\n",
    "    svm.fit(X, y)\n",
    "    return svm\n",
    "\n",
    "@ct.electron\n",
    "def calc_accuracy(classifier, X, y_true):\n",
    "    return 1 - np.count_nonzero(classifier.predict(X) - y_true) / len(y_true)   "
   ]
  },
  {
   "cell_type": "markdown",
   "metadata": {},
   "source": [
    "Finally, we can bundle all the subtasks discussed above into a single workflow function called `init_qsvm` with the `lattice` decorator on top. This function will return the quantum SVM classifier based on randomly initialized parameters, the training/testing data along with their corresponding labels, and the training/testing accuracies. For this tutorial, we will be using 3 layers of the embedding ansatz."
   ]
  },
  {
   "cell_type": "code",
   "execution_count": 6,
   "metadata": {},
   "outputs": [],
   "source": [
    "@ct.lattice\n",
    "def init_qsvm(n_samples=18, num_wires=5, num_layers=3):\n",
    "    X, y = get_data(n_samples)\n",
    "    X_train, X_test, y_train, y_test = split_train_test_data(X, y)\n",
    "    params = init_params(num_wires, num_layers)\n",
    "    classifier = svm(X_train, y_train, params)\n",
    "    train_acc = calc_accuracy(classifier=classifier, X=X_train, y_true=y_train)\n",
    "    test_acc = calc_accuracy(classifier=classifier, X=X_test, y_true=y_test)\n",
    "    return classifier, X_train, y_train, X_test, y_test, train_acc, test_acc"
   ]
  },
  {
   "cell_type": "markdown",
   "metadata": {},
   "source": [
    "The workflow is then dispatched to the Covalent server and the results are retrievable once the workflow is finished. One can also track all the results through the Covalent result manager at [http://localhost:48008](http://localhost:48008)."
   ]
  },
  {
   "cell_type": "code",
   "execution_count": 7,
   "metadata": {},
   "outputs": [],
   "source": [
    "dispatch_id = ct.dispatch(init_qsvm)(18, 5, 3)\n",
    "result = ct.get_result(dispatch_id=dispatch_id, wait=True)\n",
    "qsvm, X_train, y_train, X_test, y_test, train_acc, test_acc = result.result"
   ]
  },
  {
   "cell_type": "code",
   "execution_count": 8,
   "metadata": {},
   "outputs": [
    {
     "name": "stdout",
     "output_type": "stream",
     "text": [
      "Train accuracy: 0.9285714285714286\n",
      "Test accuracy: 0.75\n"
     ]
    }
   ],
   "source": [
    "print(f\"Train accuracy: {train_acc}\")\n",
    "print(f\"Test accuracy: {test_acc}\")"
   ]
  },
  {
   "cell_type": "markdown",
   "metadata": {},
   "source": [
    "Furthermore, we can also plot the decision boundaries of our initial SVM classifier for better visualization."
   ]
  },
  {
   "cell_type": "code",
   "execution_count": 9,
   "metadata": {},
   "outputs": [
    {
     "data": {
      "image/png": "[encoded data removed]",
      "text/plain": [
       "<Figure size 432x288 with 1 Axes>"
      ]
     },
     "metadata": {
      "needs_background": "light"
     },
     "output_type": "display_data"
    }
   ],
   "source": [
    "disp_init = DecisionBoundaryDisplay.from_estimator(qsvm, X, grid_resolution=30, response_method='predict', alpha=0.5, cmap=cm)\n",
    "disp_init.ax_.scatter(X_train[:, 0], X_train[:, 1], c=y_train, cmap=cm_bright)\n",
    "disp_init.ax_.scatter(X_test[:, 0], X_test[:, 1], c=y_test, cmap=cm_bright, marker=\"$\\u25EF$\")\n",
    "plt.show()"
   ]
  },
  {
   "cell_type": "markdown",
   "metadata": {},
   "source": [
    "We see that with a random set of parameters our initial SVM classifier performs pretty well on the small dataset used here. The accuracy is about 93% on the training set, while on the testing set it is 75%. However, it is clear from the decision-boundary plot that the classifier failed to correctly classify one of the clusters (labelled in blue). In the next section, we will train the quantum kernel to find a better set of parameters which will hopefully improve the accuracy of the classifier on both the training and testing datasets."
   ]
  },
  {
   "cell_type": "markdown",
   "metadata": {},
   "source": [
    "## Training the quantum kernel\n",
    "\n",
    "The *kernel alignment* is a similarity measure between two kernels with kernel matrices $K_1$ and $K_2$, which is defined as\n",
    "\\begin{equation}\n",
    "\\text{KA}(K_1, K_2)\\equiv \\frac{\\text{Tr}(K_1 K_2)}{\\sqrt{\\text{Tr}(K_1^2) \\text{Tr}(K_2^2)}}.\n",
    "\\end{equation}\n",
    "We will train the quantum SVM classifier by optimizing the *kernel-target alignment*, which compares the similarity predicted by the quantum kernel to the actual labels of the training data. In particular, any two training data points define an ideal kernel function given by\n",
    "\\begin{equation}\n",
    "k_{\\textbf{y}}(\\textbf{x}_i, \\textbf{x}_j) = y_i y_j,\n",
    "\\end{equation}\n",
    "where $y_{i,j}$ are the labels associated with the data points $\\textbf{x}_{i,j}$. The assigned kernel is thus $+1$ if both data points are in the same class and $-1$ if they belong to different classes. Then the kernel matrix is given by the outer product $\\textbf{y}\\textbf{y}^T$. The kernel-target alignment is therefore defined as the kernel alignment of the kernel matrix $K$ generated by the quantum kernel and the ideal kernel matrix $\\textbf{y}\\textbf{y}^T$:\n",
    "\\begin{equation}\n",
    "\\text{KTA}_{\\textbf{y}}(K) = \\frac{\\text{Tr}(K_1 \\textbf{y}\\textbf{y}^T)}{\\sqrt{\\text{Tr}(K^2) \\text{Tr}((\\textbf{y}\\textbf{y}^T)^2)}}.\n",
    "\\end{equation}\n",
    "The training then aims to find an optimal set of variational parameters that maximizes the kernel-target alignment."
   ]
  },
  {
   "cell_type": "markdown",
   "metadata": {},
   "source": [
    "In the following, we will construct three subtasks as `electron` in Covalent for training the quantum embedding kernel:\n",
    "\n",
    "* `target_alignment` - Compute the kernel-target alignment of the quantum kernel for a given labelled dataset.\n",
    "* `get_optimizer` - Get the optimizer used for optimizing the kernel-target alignment. Here we choose the `AdagradOptimizer` from PennyLane.\n",
    "* `training` - Train the quantum embedding kernel by optimizing the kernel-target alignment. During each training step, instead of optimizing based on all of the training data, we will use a random subset of the data with 5 data points to reduce the computational complexity."
   ]
  },
  {
   "cell_type": "code",
   "execution_count": 10,
   "metadata": {},
   "outputs": [],
   "source": [
    "@ct.electron\n",
    "def target_alignment(\n",
    "    X,\n",
    "    Y,\n",
    "    kernel,\n",
    "    assume_normalized_kernel=False,\n",
    "    rescale_class_labels=True,\n",
    "):\n",
    "    K = qml.kernels.square_kernel_matrix(\n",
    "        X,\n",
    "        kernel,\n",
    "        assume_normalized_kernel=assume_normalized_kernel,\n",
    "    )\n",
    "\n",
    "    if rescale_class_labels:\n",
    "        nplus = np.count_nonzero(np.array(Y) == 1)\n",
    "        nminus = len(Y) - nplus\n",
    "        _Y = np.array([y / nplus if y == 1 else y / nminus for y in Y])\n",
    "    else:\n",
    "        _Y = np.array(Y)\n",
    "\n",
    "    T = np.outer(_Y, _Y)\n",
    "    inner_product = np.sum(K * T)\n",
    "    norm = np.sqrt(np.sum(K * K) * np.sum(T * T))\n",
    "    inner_product = inner_product / norm\n",
    "\n",
    "    return inner_product\n",
    "\n",
    "@ct.electron\n",
    "def get_optimizer():\n",
    "    return qml.AdagradOptimizer(0.4)\n",
    "\n",
    "@ct.electron\n",
    "def training(X, Y, init_params, opt, steps):\n",
    "    params = init_params\n",
    "    KTAs = []\n",
    "    for i in range(steps):\n",
    "        # Randomly choose subset of data points to compute the KTA on.\n",
    "        subset = np.random.choice(list(range(len(X))), 5)\n",
    "        # Define the cost function for optimization\n",
    "        cost = lambda _params: -target_alignment(\n",
    "            X[subset],\n",
    "            Y[subset],\n",
    "            lambda x1, x2: kernel(x1, x2, _params),\n",
    "            assume_normalized_kernel=True,\n",
    "        )\n",
    "        # Optimization step\n",
    "        params = opt.step(cost, params)\n",
    "        KTAs.append(target_alignment(X, Y, lambda x1, x2: kernel(x1, x2, params),\n",
    "                assume_normalized_kernel=True))\n",
    "\n",
    "    return params, KTAs"
   ]
  },
  {
   "cell_type": "markdown",
   "metadata": {},
   "source": [
    "Similar to the previous case, we construct a full workflow called `trained_qsvm` by combining all the necessary subtasks for building a trained quantum SVM classifier. Note that we also track the kernel-target alignment at each training step through one of the returns `KTAs`. We will limit ourselves to 300 training steps in this demo. "
   ]
  },
  {
   "cell_type": "code",
   "execution_count": 11,
   "metadata": {},
   "outputs": [],
   "source": [
    "@ct.lattice\n",
    "def trained_qsvm(n_samples=18, num_wires=5, num_layers=3, steps=300):\n",
    "    X, y = get_data(n_samples)\n",
    "    X_train, X_test, y_train, y_test = split_train_test_data(X, y)\n",
    "    params = init_params(num_wires, num_layers)\n",
    "    opt = get_optimizer()\n",
    "    opt_params, KTAs = training(X_train, y_train, params, opt, steps)\n",
    "    opt_classifier = svm(X_train, y_train, opt_params)\n",
    "    train_acc = calc_accuracy(classifier=opt_classifier, X=X_train, y_true=y_train)\n",
    "    test_acc = calc_accuracy(classifier=opt_classifier, X=X_test, y_true=y_test)\n",
    "    return opt_classifier, KTAs, X_train, y_train, X_test, y_test, train_acc, test_acc"
   ]
  },
  {
   "cell_type": "code",
   "execution_count": 12,
   "metadata": {},
   "outputs": [],
   "source": [
    "dispatch_id = ct.dispatch(trained_qsvm)(18, 5, 3, 300)\n",
    "result = ct.get_result(dispatch_id=dispatch_id, wait=True)\n",
    "opt_qsvm, KTAs, X_train, y_train, X_test, y_test, train_acc, test_acc = result.result"
   ]
  },
  {
   "cell_type": "markdown",
   "metadata": {},
   "source": [
    "This is what the full workflow in Covalent UI looks like:\n",
    "<div align=\"center\">\n",
    "<img src=\"assets/qek_workflow.png\" style=\"width: 95%; height: 95%\"/>\n",
    "</div>"
   ]
  },
  {
   "cell_type": "markdown",
   "metadata": {},
   "source": [
    "Once the results are retrieved, we first take a look at the history of the kernel-target alignment. We can see that it increased from 0.2 to around 0.33 after 100 steps and more or less plateaued afterwards. This is a good sign that the training was working well."
   ]
  },
  {
   "cell_type": "code",
   "execution_count": 13,
   "metadata": {},
   "outputs": [
    {
     "data": {
      "image/png": "[encoded data removed]",
      "text/plain": [
       "<Figure size 432x288 with 1 Axes>"
      ]
     },
     "metadata": {},
     "output_type": "display_data"
    }
   ],
   "source": [
    "fig, ax = plt.subplots(1, 1, figsize=(6, 4), facecolor=\"w\")\n",
    "ax.plot(KTAs)\n",
    "ax.set_xlabel(\"Training steps\")\n",
    "ax.set_ylabel(\"Kernel-target alignment\")\n",
    "plt.tight_layout()\n",
    "plt.show()"
   ]
  },
  {
   "cell_type": "markdown",
   "metadata": {},
   "source": [
    "Again, let us display the accuracy of the trained quantum SVM classifier on the training and testing data. We then plot the decision boundaries below."
   ]
  },
  {
   "cell_type": "code",
   "execution_count": 14,
   "metadata": {},
   "outputs": [
    {
     "name": "stdout",
     "output_type": "stream",
     "text": [
      "Train accuracy: 1.0\n",
      "Test accuracy: 1.0\n"
     ]
    }
   ],
   "source": [
    "print(f\"Train accuracy: {train_acc}\")\n",
    "print(f\"Test accuracy: {test_acc}\")"
   ]
  },
  {
   "cell_type": "code",
   "execution_count": 15,
   "metadata": {},
   "outputs": [
    {
     "data": {
      "image/png": "[encoded data removed]",
      "text/plain": [
       "<Figure size 432x288 with 1 Axes>"
      ]
     },
     "metadata": {
      "needs_background": "light"
     },
     "output_type": "display_data"
    }
   ],
   "source": [
    "disp_trained = DecisionBoundaryDisplay.from_estimator(opt_qsvm, X, grid_resolution=30, response_method='predict', alpha=0.5, cmap=cm)\n",
    "disp_trained.ax_.scatter(X_train[:, 0], X_train[:, 1], c=y_train, cmap=cm_bright)\n",
    "disp_trained.ax_.scatter(X_test[:, 0], X_test[:, 1], c=y_test, cmap=cm_bright, marker=\"$\\u25EF$\")\n",
    "plt.show()"
   ]
  },
  {
   "cell_type": "markdown",
   "metadata": {},
   "source": [
    "We see that after training, the accuracy on both training and testing data has improved to 100%. From the decision boundaries, we also see that all the data points are now correctly classified. In this case, optimizing the kernel-target alignment indeed helps improve the performance of our quantum kernel! However, it should be noted that in general, having a high kernel-target alignment is only a necessary but not sufficient condition for good performance of a quantum kernel. The optimal alignment will not always bring the optimal kernel accuracy."
   ]
  },
  {
   "cell_type": "markdown",
   "metadata": {},
   "source": [
    "## Conclusion\n",
    "\n",
    "In this tutorial we saw how to make use of Covalent for a quantum machine learning task, i.e., training a quantum kernel for a SVM classifier based on the kernel-target alignment. It is worth noting that for the toy problem given here, we were able to execute everything on our local machine in a reasonable amount of time. However, as the complexity of the problem increases, more hardware resources are demanded. In such cases, Covalent makes it easy to dispatch electrons or lattices to remote or cloud devices such as high performance computing (HPC) clusters. For more information, please refer to the following Covalent plugins for interfacing with advanced computing hardwares: [Slurm plugin](https://github.com/AgnostiqHQ/covalent-slurm-plugin) and [SSH plugin](https://github.com/AgnostiqHQ/covalent-ssh-plugin)."
   ]
  }
 ],
 "metadata": {
  "kernelspec": {
   "display_name": "Python 3.10.4 64-bit",
   "language": "python",
   "name": "python3"
  },
  "language_info": {
   "codemirror_mode": {
    "name": "ipython",
    "version": 3
   },
   "file_extension": ".py",
   "mimetype": "text/x-python",
   "name": "python",
   "nbconvert_exporter": "python",
   "pygments_lexer": "ipython3",
   "version": "3.10.4"
  },
  "orig_nbformat": 4
 },
 "nbformat": 4,
 "nbformat_minor": 2
}
