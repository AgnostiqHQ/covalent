{
 "cells": [
  {
   "cell_type": "markdown",
   "id": "1fc075eb",
   "metadata": {},
   "source": [
    "# Using Covalent for Ensemble Classification\n",
    "\n",
    "In this tutorial, we show how a quantum circuit can be initialized with two different sets of pre-trained parameters and used to create an ensemble model with Covalent and Pennylane to solve machine learning classification problem.\n",
    "\n",
    "With each set of pre-trained parameters, we make independant predictions and an ensemble model is formed by choosing the prediction of the most confident set of parameters. We create a Covalent workflow that runs each initialization of the QPU device in parallel and processes the results to find the ensemble prediction. We also keep track of the individual predictions from each circuit.\n",
    "\n",
    "This demo is based on the Pennylane tutorial [**Ensemble classification with Forest and Qiskit devices**](https://pennylane.ai/qml/demos/ensemble_multi_qpu.html).\n",
    "\n",
    "We start by importing all the necessary packages."
   ]
  },
  {
   "cell_type": "code",
   "execution_count": null,
   "id": "c21ec17e",
   "metadata": {},
   "outputs": [],
   "source": [
    "from collections import Counter\n",
    "\n",
    "\n",
    "import matplotlib.pyplot as plt\n",
    "import numpy as np\n",
    "import pennylane as qml\n",
    "import sklearn.datasets\n",
    "import sklearn.decomposition\n",
    "import torch\n",
    "from matplotlib.lines import Line2D\n",
    "from matplotlib.patches import Patch\n",
    "\n",
    "from covalent.executor import DaskExecutor\n",
    "from dask.distributed import LocalCluster\n",
    "\n",
    "import covalent as ct"
   ]
  },
  {
   "cell_type": "code",
   "execution_count": null,
   "id": "a128624c",
   "metadata": {},
   "outputs": [],
   "source": [
    "cluster=LocalCluster()\n",
    "dask=ct.executor.DaskExecutor(scheduler_address=cluster.scheduler_address)"
   ]
  },
  {
   "cell_type": "markdown",
   "id": "8ff1720b",
   "metadata": {},
   "source": [
    "# Load, preprocess and split data\n",
    "\n",
    "We use the Iris dataset in this tutorial. We do some necessary preprocessing on the data and split them into a training and test dataset.\n",
    "\n",
    "### Iris dataset\n",
    "\n",
    "The Iris dataset is very well known in machine learning, and used for pattern recognition and classification. It consists of samples belonging to 3 classes: Iris Setosa, Iris Versicolour and Iris Virginica. Each sample has four features related to the length and width of the sepal and petal.\n",
    "\n",
    "For the sake of simplicity of the model, we compress the number of features in the dataset into 2 using Principal Component Analysis (PCA). We will be using a pre-trained model and the PyTorch interface and we’ll see that ensembling allows each set of parameters to specialize towards different classes."
   ]
  },
  {
   "cell_type": "code",
   "execution_count": null,
   "id": "785c2d36",
   "metadata": {},
   "outputs": [],
   "source": [
    "n_features = 2\n",
    "n_classes = 3\n",
    "n_samples = 150\n",
    "\n",
    "data = sklearn.datasets.load_iris()\n",
    "x = data[\"data\"]\n",
    "y = data[\"target\"]\n",
    "\n",
    "\n",
    "def process_data(x,y):\n",
    "    np.random.seed(1967)\n",
    "    x, y = zip(*np.random.permutation(list(zip(x, y))))\n",
    "\n",
    "    pca = sklearn.decomposition.PCA(n_components=n_features)\n",
    "    pca.fit(x)\n",
    "    x = pca.transform(x)\n",
    "\n",
    "    x_min = np.min(x, axis=0)\n",
    "    x_max = np.max(x, axis=0)\n",
    "\n",
    "    x = 2 * np.pi * (x - x_min) / (x_max - x_min) - np.pi\n",
    "\n",
    "    split = 125\n",
    "\n",
    "    x_train = x[:split]\n",
    "    x_test = x[split:]\n",
    "    y_train = y[:split]\n",
    "    y_test = y[split:]\n",
    "    \n",
    "    return x_train, x_test, y_train, y_test\n",
    "\n",
    "x_train, x_test, y_train, y_test = process_data(x,y)"
   ]
  },
  {
   "cell_type": "markdown",
   "id": "82a4b3fa",
   "metadata": {},
   "source": [
    "# Plot the data\n",
    "\n",
    "We plot the data to visualize it and to verify that it is seperable with just two features. Note that this is not included in the Covalent workflow but rather for a visual understanding of the compressed dataset."
   ]
  },
  {
   "cell_type": "code",
   "execution_count": null,
   "id": "7ec90cfb",
   "metadata": {},
   "outputs": [],
   "source": [
    "colours = [\"#ec6f86\", \"#4573e7\", \"#ad61ed\"]\n",
    "\n",
    "\n",
    "def plot_points(x_train, y_train, x_test, y_test):\n",
    "    c_train = []\n",
    "    c_test = []\n",
    "\n",
    "    for y in y_train:\n",
    "        c_train.append(colours[y])\n",
    "\n",
    "    for y in y_test:\n",
    "        c_test.append(colours[y])\n",
    "\n",
    "    plt.scatter(x_train[:, 0], x_train[:, 1], c=c_train)\n",
    "    plt.scatter(x_test[:, 0], x_test[:, 1], c=c_test, marker=\"x\")\n",
    "\n",
    "    plt.xlabel(\"Feature 1\", fontsize=16)\n",
    "    plt.ylabel(\"Feature 2\", fontsize=16)\n",
    "\n",
    "    ax = plt.gca()\n",
    "    ax.set_aspect(1)\n",
    "\n",
    "    c_transparent = \"#00000000\"\n",
    "\n",
    "    custom_lines = [\n",
    "        Patch(facecolor=colours[0], edgecolor=c_transparent, label=\"Class 0\"),\n",
    "        Patch(facecolor=colours[1], edgecolor=c_transparent, label=\"Class 1\"),\n",
    "        Patch(facecolor=colours[2], edgecolor=c_transparent, label=\"Class 2\"),\n",
    "        Line2D([0], [0], marker=\"o\", color=c_transparent, label=\"Train\",\n",
    "               markerfacecolor=\"black\", markersize=10),\n",
    "        Line2D([0], [0], marker=\"x\", color=c_transparent, label=\"Test\",\n",
    "               markerfacecolor=\"black\", markersize=10),\n",
    "    ]\n",
    "\n",
    "    ax.legend(handles=custom_lines, bbox_to_anchor=(1.0, 0.75))\n",
    "\n",
    "\n",
    "plot_points(x_train, y_train, x_test, y_test)\n",
    "plt.show()"
   ]
  },
  {
   "cell_type": "markdown",
   "id": "0c2505c3",
   "metadata": {},
   "source": [
    "This plot shows us that class 0 points can be nicely separated, but that there is an overlap between points from classes 1 and 2.\n",
    "\n"
   ]
  },
  {
   "cell_type": "markdown",
   "id": "a25d97ef",
   "metadata": {},
   "source": [
    "# Construct the workflow\n",
    "\n",
    "The workflow is broken down into subtasks (functions with the Covalent electron decorator) as follows.\n",
    "\n",
    "1. `get_circ` - Construct and return a circuit based on the parameters.\n",
    "2. `decision` - Choose the class with maximum confidence.\n",
    "3. `eval_circ` - Evaluate the circuit and return the expected value.\n",
    "4. `get_results` - Combines the results from multiple executions.\n",
    "5. `predict_point` - Chooses the output of the QPU parameters which is most confident about its prediction and set it as the prediction of ensemble model.\n"
   ]
  },
  {
   "cell_type": "code",
   "execution_count": null,
   "id": "e51a70d1",
   "metadata": {},
   "outputs": [],
   "source": [
    "@ct.electron()\n",
    "def get_circ(CZ_params,n_wires=4):\n",
    "    \n",
    "    dev = qml.device(\"default.qubit\", wires=n_wires)\n",
    "    @qml.qnode(dev, interface=\"torch\")\n",
    "    def circuit(params, x=None):\n",
    "        for i in range(n_wires):\n",
    "            qml.RX(x[i % n_features], wires=i)\n",
    "            qml.Rot(*params[0, i], wires=i)\n",
    "\n",
    "        qml.CZ(wires=CZ_params[0])\n",
    "        qml.CZ(wires=CZ_params[1])\n",
    "        qml.CZ(wires=CZ_params[2])\n",
    "\n",
    "        for i in range(n_wires):\n",
    "            qml.Rot(*params[1, i], wires=i)\n",
    "        return qml.expval(qml.PauliZ(0)), qml.expval(qml.PauliZ(1)), qml.expval(qml.PauliZ(2))\n",
    "\n",
    "    return circuit\n",
    "\n",
    "\n",
    "@ct.electron()\n",
    "def eval_circ(circuit,params, x):\n",
    "    return circuit(params,x)\n"
   ]
  },
  {
   "cell_type": "code",
   "execution_count": null,
   "id": "00ff383e",
   "metadata": {},
   "outputs": [],
   "source": [
    "@ct.electron()\n",
    "def decision(softmax):\n",
    "    return int(torch.argmax(softmax))\n",
    "\n",
    "\n",
    "@ct.electron()\n",
    "def get_results(res0,res1):\n",
    "    return torch.cat((torch.unsqueeze(res0,0),torch.unsqueeze(res1,0)),0)\n",
    "    \n",
    "@ct.electron()\n",
    "def predict_point(results):\n",
    "    softmax = torch.nn.functional.softmax(results, dim=1)\n",
    "    choice = torch.where(softmax == torch.max(softmax))[0][0]\n",
    "    chosen_softmax = softmax[choice]\n",
    "    return decision(chosen_softmax), decision(softmax[0]), decision(softmax[1]), int(choice)\n"
   ]
  },
  {
   "cell_type": "markdown",
   "id": "789a6c09",
   "metadata": {},
   "source": [
    "Having constructed the subtasks, we now construct the `predict_workflow` with the Covalent lattice decorator."
   ]
  },
  {
   "cell_type": "code",
   "execution_count": null,
   "id": "f14c69aa",
   "metadata": {},
   "outputs": [],
   "source": [
    "\n",
    "@ct.lattice(executor=dask)\n",
    "def predict_workflow(params, x=None, parallel=True):\n",
    "    \n",
    "    predictions_ensemble = []\n",
    "    predictions_0 = []\n",
    "    predictions_1 = []\n",
    "    choices = []\n",
    "    for i, x_point in enumerate(x):\n",
    "       \n",
    "        circ_0 = get_circ(CZ_params =  [[1, 0],[1, 2],[3, 0]])\n",
    "        res0 = eval_circ(circ_0,params[0],x_point)\n",
    "\n",
    "        circ_1 = get_circ(CZ_params =  [[0, 1],[1, 2],[1, 3]])\n",
    "        res1 = eval_circ(circ_1,params[1],x_point)\n",
    "        \n",
    "        result_int = get_results(res0,res1)\n",
    "        results = predict_point(result_int)\n",
    "        \n",
    "        \n",
    "        predictions_ensemble.append(results[0])\n",
    "        predictions_0.append(results[1])\n",
    "        predictions_1.append(results[2])\n",
    "        choices.append(results[3])\n",
    "    return predictions_ensemble,  predictions_0 ,  predictions_1 , choices\n"
   ]
  },
  {
   "cell_type": "markdown",
   "id": "df644dc6",
   "metadata": {},
   "source": [
    "### Directed Acyclic Graph (DAG)\n",
    "\n",
    "In order to verify if the workflow construction is properly defined, we can use the draw method in the predict_workflow or check out the DAG in the Covalent UI. The graph contains information on execution status, task definition, runtime, input parameters, and more. \n",
    "\n",
    "The Directed Acyclic Graph (DAG) generated for predicting a single sample using the ensemble model is shown below:\n",
    "\n",
    "![DAG](assets/covalent-ensemble-DAG.png)"
   ]
  },
  {
   "cell_type": "markdown",
   "id": "b9258ca4",
   "metadata": {},
   "source": [
    "# Executing the workflow\n",
    "\n",
    "Once we have ensured that the workflow has been constructed properly, we can submit it using Covalent `dispatch`. When a workflow has been successfully dispatched, a dispatch ID is generated. This ensures that the Jupyter notebook or script where the task was dispatched can be closed if needed. The Covalent UI server receives updates from the dispatcher server:\n",
    "\n",
    "We load the pretrained weights and use it to predict the classes using Covalent dispatch.\n",
    "\n",
    "Later, the execution results are retrieved uusing the Covalent `get_result` method."
   ]
  },
  {
   "cell_type": "code",
   "execution_count": null,
   "id": "348f7669",
   "metadata": {},
   "outputs": [],
   "source": [
    "params = np.load(\"assets/params.npy\")\n",
    "dispatch_id_train = ct.dispatch(predict_workflow)(params, x=x_train)\n",
    "dispatch_id_test = ct.dispatch(predict_workflow)(params, x=x_test)"
   ]
  },
  {
   "cell_type": "code",
   "execution_count": null,
   "id": "27bb239f",
   "metadata": {
    "scrolled": true
   },
   "outputs": [],
   "source": [
    "train_result = ct.get_result(dispatch_id=dispatch_id_train, wait=True)\n",
    "p_train, p_train_0, p_train_1, choices_train = train_result.result\n",
    "\n",
    "\n",
    "test_result = ct.get_result(dispatch_id=dispatch_id_test, wait=True)\n",
    "p_test, p_test_0, p_test_1, choices_test = train_result.result\n"
   ]
  },
  {
   "cell_type": "markdown",
   "id": "d2d60242",
   "metadata": {},
   "source": [
    "### Model accuracy\n",
    "\n",
    "In order to calculate how well the ensemble model performs, we compare the model predictions to the actual classification values. We calculate the accuracy of the training set as well as the test set, and it can be observed that the ensemble model performs better than the individual circuits."
   ]
  },
  {
   "cell_type": "code",
   "execution_count": null,
   "id": "5739d2a8",
   "metadata": {},
   "outputs": [],
   "source": [
    "def accuracy(predictions, actuals):\n",
    "    count = 0\n",
    "\n",
    "    for i in range(len(predictions)):\n",
    "        if predictions[i] == actuals[i]:\n",
    "            count += 1\n",
    "\n",
    "    accuracy = count / (len(predictions))\n",
    "    return accuracy\n",
    "\n",
    "print(\"Training accuracy (ensemble): {}\".format(accuracy(p_train, y_train)))\n",
    "print(\"Training accuracy (params0):  {}\".format(accuracy(p_train_0, y_train)))\n",
    "print(\"Training accuracy (params1):  {}\".format(accuracy(p_train_1, y_train)))\n",
    "\n",
    "print(\"--------------------------------------------------------\")\n",
    "\n",
    "print(\"Test accuracy (ensemble): {}\".format(accuracy(p_test, y_test)))\n",
    "print(\"Test accuracy (params0):  {}\".format(accuracy(p_test_0, y_test)))\n",
    "print(\"Test accuracy (params1):  {}\".format(accuracy(p_test_1, y_test)))"
   ]
  },
  {
   "cell_type": "markdown",
   "id": "ac087339",
   "metadata": {},
   "source": [
    "# Conclusion\n",
    "\n",
    "In this tutorial, we created a Covalent workflow to predict the classes of Iris dataset using ensemble model. The ensemble model was designed to choose the most confident predictions from two set of pretrained parameters for a quantum circuit. The key takeaways from this tutorial are:\n",
    "\n",
    "1)  Covalent helps create workflows that can take advantage of parallel execution of quantum circuits and can organize, track, and dispatch experiments.\n",
    "\n",
    "2) The ensemble model outperforms both individual parameter models.\n"
   ]
  }
 ],
 "metadata": {
  "kernelspec": {
   "display_name": "Python 3.8.13",
   "language": "python",
   "name": "python3"
  },
  "language_info": {
   "codemirror_mode": {
    "name": "ipython",
    "version": 3
   },
   "file_extension": ".py",
   "mimetype": "text/x-python",
   "name": "python",
   "nbconvert_exporter": "python",
   "pygments_lexer": "ipython3",
   "version": "3.8.13"
  }
 },
 "nbformat": 4,
 "nbformat_minor": 5
}
