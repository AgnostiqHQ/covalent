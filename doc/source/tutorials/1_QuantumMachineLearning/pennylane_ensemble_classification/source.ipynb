{
 "cells": [
  {
   "attachments": {},
   "cell_type": "markdown",
   "id": "1fc075eb",
   "metadata": {},
   "source": [
    "# Using Covalent for Ensemble Classification\n",
    "\n",
    "In this tutorial, we show how a quantum circuit can be initialized with two different sets of pre-trained parameters and used to create an ensemble model with Covalent and Pennylane to solve machine learning classification problem.\n",
    "\n",
    "With each set of pre-trained parameters, we make independant predictions and an ensemble model is formed by choosing the prediction of the most confident set of parameters. We create a Covalent workflow that runs each initialization of the QPU device in parallel and processes the results to find the ensemble prediction. We also keep track of the individual predictions from each circuit.\n",
    "\n",
    "This demo is based on the Pennylane tutorial [**Ensemble classification with Forest and Qiskit devices**](https://pennylane.ai/qml/demos/ensemble_multi_qpu.html)."
   ]
  },
  {
   "attachments": {},
   "cell_type": "markdown",
   "id": "9ad985c8",
   "metadata": {},
   "source": [
    "We start by installing and importing all the necessary packages. In order to execute this notebook, the user might need to set `ulimit -n 10240` in the terminal."
   ]
  },
  {
   "cell_type": "code",
   "execution_count": 1,
   "id": "dc586a78",
   "metadata": {},
   "outputs": [
    {
     "name": "stdout",
     "output_type": "stream",
     "text": [
      "covalent\n",
      "matplotlib==3.6.3\n",
      "pennylane==0.25.1\n",
      "scikit-learn==1.0.2\n",
      "torch==1.13.1\n"
     ]
    }
   ],
   "source": [
    "with open(\"./assets/requirements.txt\", \"r\") as file:\n",
    "    for line in file:\n",
    "        print(line.rstrip())\n"
   ]
  },
  {
   "cell_type": "code",
   "execution_count": 2,
   "id": "37798878",
   "metadata": {},
   "outputs": [],
   "source": [
    "# Install necessary packages\n",
    "# !pip install -r ./assets/requirements.txt\n"
   ]
  },
  {
   "cell_type": "code",
   "execution_count": 3,
   "id": "c21ec17e",
   "metadata": {},
   "outputs": [],
   "source": [
    "import matplotlib.pyplot as plt\n",
    "import numpy as np\n",
    "import pennylane as qml\n",
    "from sklearn import datasets\n",
    "import sklearn.decomposition\n",
    "import torch\n",
    "from matplotlib.lines import Line2D\n",
    "from matplotlib.patches import Patch\n",
    "\n",
    "from dask.distributed import LocalCluster\n",
    "\n",
    "import covalent as ct\n"
   ]
  },
  {
   "cell_type": "code",
   "execution_count": 4,
   "id": "a128624c",
   "metadata": {},
   "outputs": [
    {
     "name": "stderr",
     "output_type": "stream",
     "text": [
      "/Users/faiyaz/opt/anaconda3/envs/pennylane/lib/python3.8/site-packages/distributed/node.py:183: UserWarning: Port 8787 is already in use.\n",
      "Perhaps you already have a cluster running?\n",
      "Hosting the HTTP server on port 50050 instead\n",
      "  warnings.warn(\n"
     ]
    }
   ],
   "source": [
    "cluster = LocalCluster()\n",
    "dask = ct.executor.DaskExecutor(scheduler_address=cluster.scheduler_address)\n"
   ]
  },
  {
   "cell_type": "markdown",
   "id": "8ff1720b",
   "metadata": {},
   "source": [
    "# Load, preprocess and split data\n",
    "\n",
    "We use the Iris dataset in this tutorial. We do some necessary preprocessing on the data and split them into a training and test dataset.\n",
    "\n",
    "### Iris dataset\n",
    "\n",
    "The Iris dataset is very well known in machine learning, and used for pattern recognition and classification. It consists of samples belonging to 3 classes: Iris Setosa, Iris Versicolour and Iris Virginica. Each sample has four features related to the length and width of the sepal and petal.\n",
    "\n",
    "For the sake of simplicity of the model, we compress the number of features in the dataset into 2 using Principal Component Analysis (PCA). We will be using a pre-trained model and the PyTorch interface and we’ll see that ensembling allows each set of parameters to specialize towards different classes."
   ]
  },
  {
   "cell_type": "code",
   "execution_count": 5,
   "id": "785c2d36",
   "metadata": {},
   "outputs": [],
   "source": [
    "n_features = 2\n",
    "n_classes = 3\n",
    "n_samples = 150\n",
    "\n",
    "data = datasets.load_iris()\n",
    "x = data[\"data\"]\n",
    "y = data[\"target\"]\n",
    "\n",
    "\n",
    "def process_data(x, y):\n",
    "    np.random.seed(1967)\n",
    "    indices = np.random.permutation(x.shape[0])\n",
    "    x = x[indices, :]\n",
    "    y = y[indices]\n",
    "\n",
    "    pca = sklearn.decomposition.PCA(n_components=n_features)\n",
    "    pca.fit(x)\n",
    "    x = pca.transform(x)\n",
    "\n",
    "    x_min = np.min(x, axis=0)\n",
    "    x_max = np.max(x, axis=0)\n",
    "\n",
    "    x = 2 * np.pi * (x - x_min) / (x_max - x_min) - np.pi\n",
    "\n",
    "    split = 125\n",
    "\n",
    "    x_train = x[:split]\n",
    "    x_test = x[split:]\n",
    "    y_train = y[:split]\n",
    "    y_test = y[split:]\n",
    "\n",
    "    return x_train, x_test, y_train, y_test\n",
    "\n",
    "\n",
    "x_train, x_test, y_train, y_test = process_data(x, y)\n"
   ]
  },
  {
   "cell_type": "markdown",
   "id": "82a4b3fa",
   "metadata": {},
   "source": [
    "# Plot the data\n",
    "\n",
    "We plot the data to visualize it and to verify that it is seperable with just two features. Note that this is not included in the Covalent workflow but rather for a visual understanding of the compressed dataset."
   ]
  },
  {
   "cell_type": "code",
   "execution_count": 6,
   "id": "7ec90cfb",
   "metadata": {},
   "outputs": [
    {
     "data": {
      "image/png": "[encoded data removed]",
      "text/plain": [
       "<Figure size 432x288 with 1 Axes>"
      ]
     },
     "metadata": {
      "needs_background": "light"
     },
     "output_type": "display_data"
    }
   ],
   "source": [
    "colors = [\"#ec6f86\", \"#4573e7\", \"#ad61ed\"]\n",
    "\n",
    "\n",
    "def plot_points(x_train, y_train, x_test, y_test):\n",
    "    c_train = [colors[y] for y in y_train]\n",
    "    c_test = [colors[y] for y in y_test]\n",
    "    plt.scatter(x_train[:, 0], x_train[:, 1], c=c_train)\n",
    "    plt.scatter(x_test[:, 0], x_test[:, 1], c=c_test, marker=\"x\")\n",
    "\n",
    "    plt.xlabel(\"Feature 1\", fontsize=16)\n",
    "    plt.ylabel(\"Feature 2\", fontsize=16)\n",
    "\n",
    "    ax = plt.gca()\n",
    "    ax.set_aspect(1)\n",
    "\n",
    "    c_transparent = \"#00000000\"\n",
    "\n",
    "    custom_lines = [\n",
    "        Patch(facecolor=colors[0], edgecolor=c_transparent, label=\"Class 0\"),\n",
    "        Patch(facecolor=colors[1], edgecolor=c_transparent, label=\"Class 1\"),\n",
    "        Patch(facecolor=colors[2], edgecolor=c_transparent, label=\"Class 2\"),\n",
    "        Line2D(\n",
    "            [0],\n",
    "            [0],\n",
    "            marker=\"o\",\n",
    "            color=c_transparent,\n",
    "            label=\"Train\",\n",
    "            markerfacecolor=\"black\",\n",
    "            markersize=10,\n",
    "        ),\n",
    "        Line2D(\n",
    "            [0],\n",
    "            [0],\n",
    "            marker=\"x\",\n",
    "            color=c_transparent,\n",
    "            label=\"Test\",\n",
    "            markerfacecolor=\"black\",\n",
    "            markersize=10,\n",
    "        ),\n",
    "    ]\n",
    "\n",
    "    ax.legend(handles=custom_lines, bbox_to_anchor=(1.0, 0.75))\n",
    "\n",
    "\n",
    "plot_points(x_train, y_train, x_test, y_test)\n",
    "plt.show()\n"
   ]
  },
  {
   "cell_type": "markdown",
   "id": "0c2505c3",
   "metadata": {},
   "source": [
    "This plot shows us that class 0 points can be nicely separated, but that there is an overlap between points from classes 1 and 2.\n",
    "\n"
   ]
  },
  {
   "cell_type": "markdown",
   "id": "a25d97ef",
   "metadata": {},
   "source": [
    "# Construct the workflow\n",
    "\n",
    "The workflow is broken down into subtasks (functions with the Covalent electron decorator) as follows.\n",
    "\n",
    "1. `get_circ` - Construct and return a circuit based on the parameters.\n",
    "2. `decision` - Choose the class with maximum confidence.\n",
    "3. `eval_circ` - Evaluate the circuit and return the expected value.\n",
    "4. `get_results` - Combines the results from multiple executions.\n",
    "5. `predict_point` - Chooses the output of the QPU parameters which is most confident about its prediction and set it as the prediction of ensemble model.\n"
   ]
  },
  {
   "cell_type": "code",
   "execution_count": 7,
   "id": "e51a70d1",
   "metadata": {},
   "outputs": [],
   "source": [
    "@ct.electron()\n",
    "def get_circ(CZ_params, n_wires=4):\n",
    "\n",
    "    dev = qml.device(\"default.qubit\", wires=n_wires)\n",
    "\n",
    "    @qml.qnode(dev, interface=\"torch\")\n",
    "    def circuit(params, x=None):\n",
    "        for i in range(n_wires):\n",
    "            qml.RX(x[i % n_features], wires=i)\n",
    "            qml.Rot(*params[0, i], wires=i)\n",
    "\n",
    "        qml.CZ(wires=CZ_params[0])\n",
    "        qml.CZ(wires=CZ_params[1])\n",
    "        qml.CZ(wires=CZ_params[2])\n",
    "\n",
    "        for i in range(n_wires):\n",
    "            qml.Rot(*params[1, i], wires=i)\n",
    "        return qml.expval(qml.PauliZ(0)), qml.expval(qml.PauliZ(1)), qml.expval(qml.PauliZ(2))\n",
    "\n",
    "    return circuit\n",
    "\n",
    "\n",
    "@ct.electron()\n",
    "def eval_circ(circuit, params, x):\n",
    "    return circuit(params, x)\n"
   ]
  },
  {
   "cell_type": "code",
   "execution_count": 8,
   "id": "00ff383e",
   "metadata": {},
   "outputs": [],
   "source": [
    "@ct.electron()\n",
    "def decision(softmax):\n",
    "    return int(torch.argmax(softmax))\n",
    "\n",
    "\n",
    "@ct.electron()\n",
    "def get_results(res0, res1):\n",
    "    return torch.cat((torch.unsqueeze(res0, 0), torch.unsqueeze(res1, 0)), 0)\n",
    "\n",
    "\n",
    "@ct.electron()\n",
    "def predict_point(results):\n",
    "    softmax = torch.nn.functional.softmax(results, dim=1)\n",
    "    choice = torch.where(softmax == torch.max(softmax))[0][0]\n",
    "    chosen_softmax = softmax[choice]\n",
    "    return decision(chosen_softmax), decision(softmax[0]), decision(softmax[1]), int(choice)\n"
   ]
  },
  {
   "cell_type": "markdown",
   "id": "789a6c09",
   "metadata": {},
   "source": [
    "Having constructed the subtasks, we now construct the `predict_workflow` with the Covalent lattice decorator."
   ]
  },
  {
   "cell_type": "code",
   "execution_count": 9,
   "id": "f14c69aa",
   "metadata": {},
   "outputs": [],
   "source": [
    "@ct.lattice(executor=dask)\n",
    "def predict_workflow(params, x=None, parallel=True):\n",
    "\n",
    "    predictions_ensemble = []\n",
    "    predictions_0 = []\n",
    "    predictions_1 = []\n",
    "    choices = []\n",
    "    for x_point in x:\n",
    "        circ_0 = get_circ(CZ_params=[[1, 0], [1, 2], [3, 0]])\n",
    "        res0 = eval_circ(circ_0, params[0], x_point)\n",
    "\n",
    "        circ_1 = get_circ(CZ_params=[[0, 1], [1, 2], [1, 3]])\n",
    "        res1 = eval_circ(circ_1, params[1], x_point)\n",
    "\n",
    "        result_int = get_results(res0, res1)\n",
    "        results = predict_point(result_int)\n",
    "\n",
    "        predictions_ensemble.append(results[0])\n",
    "        predictions_0.append(results[1])\n",
    "        predictions_1.append(results[2])\n",
    "        choices.append(results[3])\n",
    "    return predictions_ensemble, predictions_0, predictions_1, choices\n"
   ]
  },
  {
   "cell_type": "markdown",
   "id": "df644dc6",
   "metadata": {},
   "source": [
    "### Directed Acyclic Graph (DAG)\n",
    "\n",
    "In order to verify if the workflow construction is properly defined, we can use the draw method in the predict_workflow or check out the DAG in the Covalent UI. The graph contains information on execution status, task definition, runtime, input parameters, and more. \n",
    "\n",
    "The Directed Acyclic Graph (DAG) generated for predicting a single sample using the ensemble model is shown below:\n",
    "\n",
    "![DAG](assets/covalent-ensemble-DAG.png)"
   ]
  },
  {
   "cell_type": "markdown",
   "id": "b9258ca4",
   "metadata": {},
   "source": [
    "# Executing the workflow\n",
    "\n",
    "Once we have ensured that the workflow has been constructed properly, we can submit it using Covalent `dispatch`. When a workflow has been successfully dispatched, a dispatch ID is generated. This ensures that the Jupyter notebook or script where the task was dispatched can be closed if needed. The Covalent UI server receives updates from the dispatcher server:\n",
    "\n",
    "We load the pretrained weights and use it to predict the classes using Covalent dispatch.\n",
    "\n",
    "Later, the execution results are retrieved uusing the Covalent `get_result` method."
   ]
  },
  {
   "cell_type": "code",
   "execution_count": 10,
   "id": "348f7669",
   "metadata": {},
   "outputs": [],
   "source": [
    "params = np.load(\"assets/params.npy\")\n",
    "dispatch_id_train = ct.dispatch(predict_workflow)(params, x=x_train)\n",
    "dispatch_id_test = ct.dispatch(predict_workflow)(params, x=x_test)\n"
   ]
  },
  {
   "cell_type": "code",
   "execution_count": 11,
   "id": "27bb239f",
   "metadata": {
    "scrolled": true
   },
   "outputs": [],
   "source": [
    "train_result = ct.get_result(dispatch_id=dispatch_id_train, wait=True)\n",
    "p_train, p_train_0, p_train_1, choices_train = train_result.result\n",
    "\n",
    "\n",
    "test_result = ct.get_result(dispatch_id=dispatch_id_test, wait=True)\n",
    "p_test, p_test_0, p_test_1, choices_test = test_result.result\n"
   ]
  },
  {
   "cell_type": "markdown",
   "id": "d2d60242",
   "metadata": {},
   "source": [
    "### Model accuracy\n",
    "\n",
    "In order to calculate how well the ensemble model performs, we compare the model predictions to the actual classification values. We calculate the accuracy of the training set as well as the test set, and it can be observed that the ensemble model performs better than the individual circuits."
   ]
  },
  {
   "cell_type": "code",
   "execution_count": 12,
   "id": "5739d2a8",
   "metadata": {},
   "outputs": [
    {
     "name": "stdout",
     "output_type": "stream",
     "text": [
      "Training accuracy (ensemble): 0.784\n",
      "Training accuracy (params0):  0.408\n",
      "Training accuracy (params1):  0.648\n",
      "--------------------------------------------------------\n",
      "Test accuracy (ensemble): 0.72\n",
      "Test accuracy (params0):  0.48\n",
      "Test accuracy (params1):  0.56\n"
     ]
    }
   ],
   "source": [
    "def accuracy(prediction, actual):\n",
    "    \"\"\"Compute accuracy of predictions against actual labels.\"\"\"\n",
    "    count = sum(prediction[i] == actual[i] for i in range(len(prediction)))\n",
    "    return count / (len(prediction))\n",
    "\n",
    "\n",
    "print(f\"Training accuracy (ensemble): {accuracy(p_train, y_train)}\")\n",
    "print(f\"Training accuracy (params0):  {accuracy(p_train_0, y_train)}\")\n",
    "print(f\"Training accuracy (params1):  {accuracy(p_train_1, y_train)}\")\n",
    "\n",
    "print(\"--------------------------------------------------------\")\n",
    "\n",
    "print(f\"Test accuracy (ensemble): {accuracy(p_test, y_test)}\")\n",
    "print(f\"Test accuracy (params0):  {accuracy(p_test_0, y_test)}\")\n",
    "print(f\"Test accuracy (params1):  {accuracy(p_test_1, y_test)}\")\n"
   ]
  },
  {
   "cell_type": "markdown",
   "id": "ac087339",
   "metadata": {},
   "source": [
    "# Conclusion\n",
    "\n",
    "In this tutorial, we created a Covalent workflow to predict the classes of Iris dataset using ensemble model. The ensemble model was designed to choose the most confident predictions from two set of pretrained parameters for a quantum circuit. The key takeaways from this tutorial are:\n",
    "\n",
    "1)  Covalent helps create workflows that can take advantage of parallel execution of quantum circuits and can organize, track, and dispatch experiments.\n",
    "\n",
    "2) The ensemble model outperforms both individual parameter models.\n"
   ]
  }
 ],
 "metadata": {
  "kernelspec": {
   "display_name": "pennylane",
   "language": "python",
   "name": "python3"
  },
  "language_info": {
   "codemirror_mode": {
    "name": "ipython",
    "version": 3
   },
   "file_extension": ".py",
   "mimetype": "text/x-python",
   "name": "python",
   "nbconvert_exporter": "python",
   "pygments_lexer": "ipython3",
   "version": "3.8.13"
  },
  "vscode": {
   "interpreter": {
    "hash": "300b8f9220c8aef6905d9aa2676cdb6614981ed99c50a403165371019c33e24f"
   }
  }
 },
 "nbformat": 4,
 "nbformat_minor": 5
}
