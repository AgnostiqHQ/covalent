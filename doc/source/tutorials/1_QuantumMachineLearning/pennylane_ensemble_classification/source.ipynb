{
 "cells": [
  {
   "attachments": {},
   "cell_type": "markdown",
   "id": "1fc075eb",
   "metadata": {},
   "source": [
    "# Using Covalent for Ensemble Classification\n",
    "\n",
    "In this tutorial, we show how a quantum circuit can be initialized with two different sets of pre-trained parameters and used to create an ensemble model with Covalent and Pennylane to solve machine learning classification problem.\n",
    "\n",
    "With each set of pre-trained parameters, we make independant predictions and an ensemble model is formed by choosing the prediction of the most confident set of parameters. We create a Covalent workflow that runs each initialization of the QPU device in parallel and processes the results to find the ensemble prediction. We also keep track of the individual predictions from each circuit.\n",
    "\n",
    "This demo is based on the Pennylane tutorial [**Ensemble classification with Forest and Qiskit devices**](https://pennylane.ai/qml/demos/ensemble_multi_qpu.html)."
   ]
  },
  {
   "attachments": {},
   "cell_type": "markdown",
   "id": "9ad985c8",
   "metadata": {},
   "source": [
    "We start by installing and importing all the necessary packages. In order to execute this notebook, the user might need to set `ulimit -n 10240` in the terminal."
   ]
  },
  {
   "cell_type": "code",
   "execution_count": 1,
   "id": "37798878",
   "metadata": {},
   "outputs": [
    {
     "name": "stdout",
     "output_type": "stream",
     "text": [
      "Requirement already satisfied: covalent in /Users/faiyaz/opt/anaconda3/envs/new/lib/python3.8/site-packages (from -r ./assets/requirements.txt (line 1)) (0.212.0rc0)\n",
      "Requirement already satisfied: matplotlib==3.6.3 in /Users/faiyaz/opt/anaconda3/envs/new/lib/python3.8/site-packages (from -r ./assets/requirements.txt (line 2)) (3.6.3)\n",
      "Requirement already satisfied: pennylane==0.25.1 in /Users/faiyaz/opt/anaconda3/envs/new/lib/python3.8/site-packages (from -r ./assets/requirements.txt (line 3)) (0.25.1)\n",
      "Requirement already satisfied: scikit-learn==1.0.2 in /Users/faiyaz/opt/anaconda3/envs/new/lib/python3.8/site-packages (from -r ./assets/requirements.txt (line 4)) (1.0.2)\n",
      "Collecting torch==1.13.1\n",
      "  Using cached torch-1.13.1-cp38-none-macosx_10_9_x86_64.whl (135.4 MB)\n",
      "Requirement already satisfied: contourpy>=1.0.1 in /Users/faiyaz/opt/anaconda3/envs/new/lib/python3.8/site-packages (from matplotlib==3.6.3->-r ./assets/requirements.txt (line 2)) (1.0.7)\n",
      "Requirement already satisfied: pillow>=6.2.0 in /Users/faiyaz/opt/anaconda3/envs/new/lib/python3.8/site-packages (from matplotlib==3.6.3->-r ./assets/requirements.txt (line 2)) (9.4.0)\n",
      "Requirement already satisfied: packaging>=20.0 in /Users/faiyaz/opt/anaconda3/envs/new/lib/python3.8/site-packages (from matplotlib==3.6.3->-r ./assets/requirements.txt (line 2)) (23.0)\n",
      "Requirement already satisfied: python-dateutil>=2.7 in /Users/faiyaz/opt/anaconda3/envs/new/lib/python3.8/site-packages (from matplotlib==3.6.3->-r ./assets/requirements.txt (line 2)) (2.8.2)\n",
      "Requirement already satisfied: pyparsing>=2.2.1 in /Users/faiyaz/opt/anaconda3/envs/new/lib/python3.8/site-packages (from matplotlib==3.6.3->-r ./assets/requirements.txt (line 2)) (3.0.4)\n",
      "Requirement already satisfied: fonttools>=4.22.0 in /Users/faiyaz/opt/anaconda3/envs/new/lib/python3.8/site-packages (from matplotlib==3.6.3->-r ./assets/requirements.txt (line 2)) (4.38.0)\n",
      "Requirement already satisfied: kiwisolver>=1.0.1 in /Users/faiyaz/opt/anaconda3/envs/new/lib/python3.8/site-packages (from matplotlib==3.6.3->-r ./assets/requirements.txt (line 2)) (1.4.4)\n",
      "Requirement already satisfied: cycler>=0.10 in /Users/faiyaz/opt/anaconda3/envs/new/lib/python3.8/site-packages (from matplotlib==3.6.3->-r ./assets/requirements.txt (line 2)) (0.11.0)\n",
      "Requirement already satisfied: numpy>=1.19 in /Users/faiyaz/opt/anaconda3/envs/new/lib/python3.8/site-packages (from matplotlib==3.6.3->-r ./assets/requirements.txt (line 2)) (1.24.1)\n",
      "Requirement already satisfied: appdirs in /Users/faiyaz/opt/anaconda3/envs/new/lib/python3.8/site-packages (from pennylane==0.25.1->-r ./assets/requirements.txt (line 3)) (1.4.4)\n",
      "Requirement already satisfied: pennylane-lightning>=0.25 in /Users/faiyaz/opt/anaconda3/envs/new/lib/python3.8/site-packages (from pennylane==0.25.1->-r ./assets/requirements.txt (line 3)) (0.28.0)\n",
      "Requirement already satisfied: scipy in /Users/faiyaz/opt/anaconda3/envs/new/lib/python3.8/site-packages (from pennylane==0.25.1->-r ./assets/requirements.txt (line 3)) (1.10.0)\n",
      "Requirement already satisfied: autograd in /Users/faiyaz/opt/anaconda3/envs/new/lib/python3.8/site-packages (from pennylane==0.25.1->-r ./assets/requirements.txt (line 3)) (1.5)\n",
      "Requirement already satisfied: networkx in /Users/faiyaz/opt/anaconda3/envs/new/lib/python3.8/site-packages (from pennylane==0.25.1->-r ./assets/requirements.txt (line 3)) (2.8.6)\n",
      "Requirement already satisfied: semantic-version>=2.7 in /Users/faiyaz/opt/anaconda3/envs/new/lib/python3.8/site-packages (from pennylane==0.25.1->-r ./assets/requirements.txt (line 3)) (2.10.0)\n",
      "Requirement already satisfied: cachetools in /Users/faiyaz/opt/anaconda3/envs/new/lib/python3.8/site-packages (from pennylane==0.25.1->-r ./assets/requirements.txt (line 3)) (5.2.1)\n",
      "Requirement already satisfied: autoray>=0.3.1 in /Users/faiyaz/opt/anaconda3/envs/new/lib/python3.8/site-packages (from pennylane==0.25.1->-r ./assets/requirements.txt (line 3)) (0.5.3)\n",
      "Requirement already satisfied: toml in /Users/faiyaz/opt/anaconda3/envs/new/lib/python3.8/site-packages (from pennylane==0.25.1->-r ./assets/requirements.txt (line 3)) (0.10.2)\n",
      "Requirement already satisfied: retworkx in /Users/faiyaz/opt/anaconda3/envs/new/lib/python3.8/site-packages (from pennylane==0.25.1->-r ./assets/requirements.txt (line 3)) (0.12.1)\n",
      "Requirement already satisfied: threadpoolctl>=2.0.0 in /Users/faiyaz/opt/anaconda3/envs/new/lib/python3.8/site-packages (from scikit-learn==1.0.2->-r ./assets/requirements.txt (line 4)) (3.1.0)\n",
      "Requirement already satisfied: joblib>=0.11 in /Users/faiyaz/opt/anaconda3/envs/new/lib/python3.8/site-packages (from scikit-learn==1.0.2->-r ./assets/requirements.txt (line 4)) (1.2.0)\n",
      "Requirement already satisfied: typing-extensions in /Users/faiyaz/opt/anaconda3/envs/new/lib/python3.8/site-packages (from torch==1.13.1->-r ./assets/requirements.txt (line 5)) (4.4.0)\n",
      "Requirement already satisfied: aiohttp==3.8.1 in /Users/faiyaz/opt/anaconda3/envs/new/lib/python3.8/site-packages (from covalent->-r ./assets/requirements.txt (line 1)) (3.8.1)\n",
      "Requirement already satisfied: requests<=2.28.1,>=2.24.0 in /Users/faiyaz/opt/anaconda3/envs/new/lib/python3.8/site-packages (from covalent->-r ./assets/requirements.txt (line 1)) (2.28.1)\n",
      "Requirement already satisfied: aiofiles<=22.1.0,>=0.8.0 in /Users/faiyaz/opt/anaconda3/envs/new/lib/python3.8/site-packages (from covalent->-r ./assets/requirements.txt (line 1)) (22.1.0)\n",
      "Requirement already satisfied: sqlalchemy-utils==0.38.3 in /Users/faiyaz/opt/anaconda3/envs/new/lib/python3.8/site-packages (from covalent->-r ./assets/requirements.txt (line 1)) (0.38.3)\n",
      "Requirement already satisfied: dask[distributed]<=2022.9.0,>=2022.6.0 in /Users/faiyaz/opt/anaconda3/envs/new/lib/python3.8/site-packages (from covalent->-r ./assets/requirements.txt (line 1)) (2022.9.0)\n",
      "Requirement already satisfied: cloudpickle<=2.2.0,>=2.0.0 in /Users/faiyaz/opt/anaconda3/envs/new/lib/python3.8/site-packages (from covalent->-r ./assets/requirements.txt (line 1)) (2.2.0)\n",
      "Requirement already satisfied: python-socketio==5.7.1 in /Users/faiyaz/opt/anaconda3/envs/new/lib/python3.8/site-packages (from covalent->-r ./assets/requirements.txt (line 1)) (5.7.1)\n",
      "Requirement already satisfied: furl==2.1.3 in /Users/faiyaz/opt/anaconda3/envs/new/lib/python3.8/site-packages (from covalent->-r ./assets/requirements.txt (line 1)) (2.1.3)\n",
      "Requirement already satisfied: werkzeug<=2.2.2,>=2.0.3 in /Users/faiyaz/opt/anaconda3/envs/new/lib/python3.8/site-packages (from covalent->-r ./assets/requirements.txt (line 1)) (2.2.2)\n",
      "Requirement already satisfied: fastapi<=0.83.0,>=0.79.0 in /Users/faiyaz/opt/anaconda3/envs/new/lib/python3.8/site-packages (from covalent->-r ./assets/requirements.txt (line 1)) (0.83.0)\n",
      "Requirement already satisfied: pydantic<=1.10.2,>=1.10.1 in /Users/faiyaz/opt/anaconda3/envs/new/lib/python3.8/site-packages (from covalent->-r ./assets/requirements.txt (line 1)) (1.10.2)\n",
      "Requirement already satisfied: sqlalchemy<=1.4.41,>=1.4.37 in /Users/faiyaz/opt/anaconda3/envs/new/lib/python3.8/site-packages (from covalent->-r ./assets/requirements.txt (line 1)) (1.4.41)\n",
      "Requirement already satisfied: alembic<=1.8.1,>=1.8.0 in /Users/faiyaz/opt/anaconda3/envs/new/lib/python3.8/site-packages (from covalent->-r ./assets/requirements.txt (line 1)) (1.8.1)\n",
      "Requirement already satisfied: psutil<=5.9.2,>=5.9.0 in /Users/faiyaz/opt/anaconda3/envs/new/lib/python3.8/site-packages (from covalent->-r ./assets/requirements.txt (line 1)) (5.9.2)\n",
      "Requirement already satisfied: uvicorn[standard]<=0.18.3,>=0.18.2 in /Users/faiyaz/opt/anaconda3/envs/new/lib/python3.8/site-packages (from covalent->-r ./assets/requirements.txt (line 1)) (0.18.3)\n",
      "Requirement already satisfied: click==8.1.3 in /Users/faiyaz/opt/anaconda3/envs/new/lib/python3.8/site-packages (from covalent->-r ./assets/requirements.txt (line 1)) (8.1.3)\n",
      "Requirement already satisfied: simplejson==3.17.6 in /Users/faiyaz/opt/anaconda3/envs/new/lib/python3.8/site-packages (from covalent->-r ./assets/requirements.txt (line 1)) (3.17.6)\n",
      "Requirement already satisfied: charset-normalizer<3.0,>=2.0 in /Users/faiyaz/opt/anaconda3/envs/new/lib/python3.8/site-packages (from aiohttp==3.8.1->covalent->-r ./assets/requirements.txt (line 1)) (2.1.1)\n",
      "Requirement already satisfied: yarl<2.0,>=1.0 in /Users/faiyaz/opt/anaconda3/envs/new/lib/python3.8/site-packages (from aiohttp==3.8.1->covalent->-r ./assets/requirements.txt (line 1)) (1.8.2)\n",
      "Requirement already satisfied: multidict<7.0,>=4.5 in /Users/faiyaz/opt/anaconda3/envs/new/lib/python3.8/site-packages (from aiohttp==3.8.1->covalent->-r ./assets/requirements.txt (line 1)) (6.0.4)\n",
      "Requirement already satisfied: attrs>=17.3.0 in /Users/faiyaz/opt/anaconda3/envs/new/lib/python3.8/site-packages (from aiohttp==3.8.1->covalent->-r ./assets/requirements.txt (line 1)) (22.2.0)\n",
      "Requirement already satisfied: frozenlist>=1.1.1 in /Users/faiyaz/opt/anaconda3/envs/new/lib/python3.8/site-packages (from aiohttp==3.8.1->covalent->-r ./assets/requirements.txt (line 1)) (1.3.3)\n",
      "Requirement already satisfied: aiosignal>=1.1.2 in /Users/faiyaz/opt/anaconda3/envs/new/lib/python3.8/site-packages (from aiohttp==3.8.1->covalent->-r ./assets/requirements.txt (line 1)) (1.3.1)\n",
      "Requirement already satisfied: async-timeout<5.0,>=4.0.0a3 in /Users/faiyaz/opt/anaconda3/envs/new/lib/python3.8/site-packages (from aiohttp==3.8.1->covalent->-r ./assets/requirements.txt (line 1)) (4.0.2)\n",
      "Requirement already satisfied: six>=1.8.0 in /Users/faiyaz/opt/anaconda3/envs/new/lib/python3.8/site-packages (from furl==2.1.3->covalent->-r ./assets/requirements.txt (line 1)) (1.16.0)\n",
      "Requirement already satisfied: orderedmultidict>=1.0.1 in /Users/faiyaz/opt/anaconda3/envs/new/lib/python3.8/site-packages (from furl==2.1.3->covalent->-r ./assets/requirements.txt (line 1)) (1.0.1)\n",
      "Requirement already satisfied: python-engineio>=4.3.0 in /Users/faiyaz/opt/anaconda3/envs/new/lib/python3.8/site-packages (from python-socketio==5.7.1->covalent->-r ./assets/requirements.txt (line 1)) (4.3.4)\n",
      "Requirement already satisfied: bidict>=0.21.0 in /Users/faiyaz/opt/anaconda3/envs/new/lib/python3.8/site-packages (from python-socketio==5.7.1->covalent->-r ./assets/requirements.txt (line 1)) (0.22.1)\n",
      "Requirement already satisfied: Mako in /Users/faiyaz/opt/anaconda3/envs/new/lib/python3.8/site-packages (from alembic<=1.8.1,>=1.8.0->covalent->-r ./assets/requirements.txt (line 1)) (1.2.4)\n",
      "Requirement already satisfied: importlib-metadata in /Users/faiyaz/opt/anaconda3/envs/new/lib/python3.8/site-packages (from alembic<=1.8.1,>=1.8.0->covalent->-r ./assets/requirements.txt (line 1)) (6.0.0)\n",
      "Requirement already satisfied: importlib-resources in /Users/faiyaz/opt/anaconda3/envs/new/lib/python3.8/site-packages (from alembic<=1.8.1,>=1.8.0->covalent->-r ./assets/requirements.txt (line 1)) (5.10.2)\n",
      "Requirement already satisfied: fsspec>=0.6.0 in /Users/faiyaz/opt/anaconda3/envs/new/lib/python3.8/site-packages (from dask[distributed]<=2022.9.0,>=2022.6.0->covalent->-r ./assets/requirements.txt (line 1)) (2022.11.0)\n",
      "Requirement already satisfied: pyyaml>=5.3.1 in /Users/faiyaz/opt/anaconda3/envs/new/lib/python3.8/site-packages (from dask[distributed]<=2022.9.0,>=2022.6.0->covalent->-r ./assets/requirements.txt (line 1)) (6.0)\n",
      "Requirement already satisfied: partd>=0.3.10 in /Users/faiyaz/opt/anaconda3/envs/new/lib/python3.8/site-packages (from dask[distributed]<=2022.9.0,>=2022.6.0->covalent->-r ./assets/requirements.txt (line 1)) (1.3.0)\n",
      "Requirement already satisfied: toolz>=0.8.2 in /Users/faiyaz/opt/anaconda3/envs/new/lib/python3.8/site-packages (from dask[distributed]<=2022.9.0,>=2022.6.0->covalent->-r ./assets/requirements.txt (line 1)) (0.12.0)\n",
      "Requirement already satisfied: distributed==2022.9.0 in /Users/faiyaz/opt/anaconda3/envs/new/lib/python3.8/site-packages (from dask[distributed]<=2022.9.0,>=2022.6.0->covalent->-r ./assets/requirements.txt (line 1)) (2022.9.0)\n",
      "Requirement already satisfied: zict>=0.1.3 in /Users/faiyaz/opt/anaconda3/envs/new/lib/python3.8/site-packages (from distributed==2022.9.0->dask[distributed]<=2022.9.0,>=2022.6.0->covalent->-r ./assets/requirements.txt (line 1)) (2.2.0)\n",
      "Requirement already satisfied: tornado<6.2,>=6.0.3 in /Users/faiyaz/opt/anaconda3/envs/new/lib/python3.8/site-packages (from distributed==2022.9.0->dask[distributed]<=2022.9.0,>=2022.6.0->covalent->-r ./assets/requirements.txt (line 1)) (6.1)\n",
      "Requirement already satisfied: tblib>=1.6.0 in /Users/faiyaz/opt/anaconda3/envs/new/lib/python3.8/site-packages (from distributed==2022.9.0->dask[distributed]<=2022.9.0,>=2022.6.0->covalent->-r ./assets/requirements.txt (line 1)) (1.7.0)\n",
      "Requirement already satisfied: locket>=1.0.0 in /Users/faiyaz/opt/anaconda3/envs/new/lib/python3.8/site-packages (from distributed==2022.9.0->dask[distributed]<=2022.9.0,>=2022.6.0->covalent->-r ./assets/requirements.txt (line 1)) (1.0.0)\n",
      "Requirement already satisfied: jinja2 in /Users/faiyaz/opt/anaconda3/envs/new/lib/python3.8/site-packages (from distributed==2022.9.0->dask[distributed]<=2022.9.0,>=2022.6.0->covalent->-r ./assets/requirements.txt (line 1)) (3.1.2)\n",
      "Requirement already satisfied: msgpack>=0.6.0 in /Users/faiyaz/opt/anaconda3/envs/new/lib/python3.8/site-packages (from distributed==2022.9.0->dask[distributed]<=2022.9.0,>=2022.6.0->covalent->-r ./assets/requirements.txt (line 1)) (1.0.4)\n",
      "Requirement already satisfied: urllib3 in /Users/faiyaz/opt/anaconda3/envs/new/lib/python3.8/site-packages (from distributed==2022.9.0->dask[distributed]<=2022.9.0,>=2022.6.0->covalent->-r ./assets/requirements.txt (line 1)) (1.26.14)\n",
      "Requirement already satisfied: sortedcontainers!=2.0.0,!=2.0.1 in /Users/faiyaz/opt/anaconda3/envs/new/lib/python3.8/site-packages (from distributed==2022.9.0->dask[distributed]<=2022.9.0,>=2022.6.0->covalent->-r ./assets/requirements.txt (line 1)) (2.4.0)\n",
      "Requirement already satisfied: starlette==0.19.1 in /Users/faiyaz/opt/anaconda3/envs/new/lib/python3.8/site-packages (from fastapi<=0.83.0,>=0.79.0->covalent->-r ./assets/requirements.txt (line 1)) (0.19.1)\n",
      "Requirement already satisfied: anyio<5,>=3.4.0 in /Users/faiyaz/opt/anaconda3/envs/new/lib/python3.8/site-packages (from starlette==0.19.1->fastapi<=0.83.0,>=0.79.0->covalent->-r ./assets/requirements.txt (line 1)) (3.6.2)\n",
      "Requirement already satisfied: ninja in /Users/faiyaz/opt/anaconda3/envs/new/lib/python3.8/site-packages (from pennylane-lightning>=0.25->pennylane==0.25.1->-r ./assets/requirements.txt (line 3)) (1.11.1)\n",
      "Requirement already satisfied: certifi>=2017.4.17 in /Users/faiyaz/opt/anaconda3/envs/new/lib/python3.8/site-packages (from requests<=2.28.1,>=2.24.0->covalent->-r ./assets/requirements.txt (line 1)) (2022.12.7)\n",
      "Requirement already satisfied: idna<4,>=2.5 in /Users/faiyaz/opt/anaconda3/envs/new/lib/python3.8/site-packages (from requests<=2.28.1,>=2.24.0->covalent->-r ./assets/requirements.txt (line 1)) (3.4)\n",
      "Requirement already satisfied: greenlet!=0.4.17 in /Users/faiyaz/opt/anaconda3/envs/new/lib/python3.8/site-packages (from sqlalchemy<=1.4.41,>=1.4.37->covalent->-r ./assets/requirements.txt (line 1)) (2.0.1)\n",
      "Requirement already satisfied: h11>=0.8 in /Users/faiyaz/opt/anaconda3/envs/new/lib/python3.8/site-packages (from uvicorn[standard]<=0.18.3,>=0.18.2->covalent->-r ./assets/requirements.txt (line 1)) (0.14.0)\n",
      "Requirement already satisfied: httptools>=0.4.0 in /Users/faiyaz/opt/anaconda3/envs/new/lib/python3.8/site-packages (from uvicorn[standard]<=0.18.3,>=0.18.2->covalent->-r ./assets/requirements.txt (line 1)) (0.5.0)\n",
      "Requirement already satisfied: uvloop!=0.15.0,!=0.15.1,>=0.14.0 in /Users/faiyaz/opt/anaconda3/envs/new/lib/python3.8/site-packages (from uvicorn[standard]<=0.18.3,>=0.18.2->covalent->-r ./assets/requirements.txt (line 1)) (0.17.0)\n",
      "Requirement already satisfied: watchfiles>=0.13 in /Users/faiyaz/opt/anaconda3/envs/new/lib/python3.8/site-packages (from uvicorn[standard]<=0.18.3,>=0.18.2->covalent->-r ./assets/requirements.txt (line 1)) (0.18.1)\n",
      "Requirement already satisfied: python-dotenv>=0.13 in /Users/faiyaz/opt/anaconda3/envs/new/lib/python3.8/site-packages (from uvicorn[standard]<=0.18.3,>=0.18.2->covalent->-r ./assets/requirements.txt (line 1)) (0.21.0)\n",
      "Requirement already satisfied: websockets>=10.0 in /Users/faiyaz/opt/anaconda3/envs/new/lib/python3.8/site-packages (from uvicorn[standard]<=0.18.3,>=0.18.2->covalent->-r ./assets/requirements.txt (line 1)) (10.4)\n",
      "Requirement already satisfied: MarkupSafe>=2.1.1 in /Users/faiyaz/opt/anaconda3/envs/new/lib/python3.8/site-packages (from werkzeug<=2.2.2,>=2.0.3->covalent->-r ./assets/requirements.txt (line 1)) (2.1.1)\n",
      "Requirement already satisfied: future>=0.15.2 in /Users/faiyaz/opt/anaconda3/envs/new/lib/python3.8/site-packages (from autograd->pennylane==0.25.1->-r ./assets/requirements.txt (line 3)) (0.18.3)\n",
      "Requirement already satisfied: rustworkx==0.12.1 in /Users/faiyaz/opt/anaconda3/envs/new/lib/python3.8/site-packages (from retworkx->pennylane==0.25.1->-r ./assets/requirements.txt (line 3)) (0.12.1)\n",
      "Requirement already satisfied: zipp>=0.5 in /Users/faiyaz/opt/anaconda3/envs/new/lib/python3.8/site-packages (from importlib-metadata->alembic<=1.8.1,>=1.8.0->covalent->-r ./assets/requirements.txt (line 1)) (3.11.0)\n",
      "Requirement already satisfied: sniffio>=1.1 in /Users/faiyaz/opt/anaconda3/envs/new/lib/python3.8/site-packages (from anyio<5,>=3.4.0->starlette==0.19.1->fastapi<=0.83.0,>=0.79.0->covalent->-r ./assets/requirements.txt (line 1)) (1.3.0)\n",
      "Requirement already satisfied: heapdict in /Users/faiyaz/opt/anaconda3/envs/new/lib/python3.8/site-packages (from zict>=0.1.3->distributed==2022.9.0->dask[distributed]<=2022.9.0,>=2022.6.0->covalent->-r ./assets/requirements.txt (line 1)) (1.0.1)\n",
      "Installing collected packages: torch\n",
      "Successfully installed torch-1.13.1\n"
     ]
    }
   ],
   "source": [
    "# Install necessary packages\n",
    "!pip install -r ./assets/requirements.txt"
   ]
  },
  {
   "cell_type": "code",
   "execution_count": 2,
   "id": "c21ec17e",
   "metadata": {},
   "outputs": [],
   "source": [
    "from collections import Counter\n",
    "\n",
    "\n",
    "import matplotlib.pyplot as plt\n",
    "import numpy as np\n",
    "import pennylane as qml\n",
    "import sklearn.datasets\n",
    "import sklearn.decomposition\n",
    "import torch\n",
    "from matplotlib.lines import Line2D\n",
    "from matplotlib.patches import Patch\n",
    "\n",
    "from covalent.executor import DaskExecutor\n",
    "from dask.distributed import LocalCluster\n",
    "\n",
    "import covalent as ct\n"
   ]
  },
  {
   "cell_type": "code",
   "execution_count": 3,
   "id": "a128624c",
   "metadata": {},
   "outputs": [
    {
     "name": "stderr",
     "output_type": "stream",
     "text": [
      "/Users/faiyaz/opt/anaconda3/envs/new/lib/python3.8/site-packages/distributed/node.py:183: UserWarning: Port 8787 is already in use.\n",
      "Perhaps you already have a cluster running?\n",
      "Hosting the HTTP server on port 57358 instead\n",
      "  warnings.warn(\n"
     ]
    }
   ],
   "source": [
    "cluster = LocalCluster()\n",
    "dask = ct.executor.DaskExecutor(scheduler_address=cluster.scheduler_address)\n"
   ]
  },
  {
   "cell_type": "markdown",
   "id": "8ff1720b",
   "metadata": {},
   "source": [
    "# Load, preprocess and split data\n",
    "\n",
    "We use the Iris dataset in this tutorial. We do some necessary preprocessing on the data and split them into a training and test dataset.\n",
    "\n",
    "### Iris dataset\n",
    "\n",
    "The Iris dataset is very well known in machine learning, and used for pattern recognition and classification. It consists of samples belonging to 3 classes: Iris Setosa, Iris Versicolour and Iris Virginica. Each sample has four features related to the length and width of the sepal and petal.\n",
    "\n",
    "For the sake of simplicity of the model, we compress the number of features in the dataset into 2 using Principal Component Analysis (PCA). We will be using a pre-trained model and the PyTorch interface and we’ll see that ensembling allows each set of parameters to specialize towards different classes."
   ]
  },
  {
   "cell_type": "code",
   "execution_count": 4,
   "id": "785c2d36",
   "metadata": {},
   "outputs": [
    {
     "ename": "ValueError",
     "evalue": "setting an array element with a sequence. The requested array has an inhomogeneous shape after 2 dimensions. The detected shape was (150, 2) + inhomogeneous part.",
     "output_type": "error",
     "traceback": [
      "\u001b[0;31m---------------------------------------------------------------------------\u001b[0m",
      "\u001b[0;31mValueError\u001b[0m                                Traceback (most recent call last)",
      "\u001b[1;32m/Users/faiyaz/Code/covalent/doc/source/tutorials/1_QuantumMachineLearning/pennylane_ensemble_classification/source.ipynb Cell 7\u001b[0m in \u001b[0;36m<cell line: 33>\u001b[0;34m()\u001b[0m\n\u001b[1;32m     <a href='vscode-notebook-cell:/Users/faiyaz/Code/covalent/doc/source/tutorials/1_QuantumMachineLearning/pennylane_ensemble_classification/source.ipynb#W4sZmlsZQ%3D%3D?line=27'>28</a>\u001b[0m     y_test \u001b[39m=\u001b[39m y[split:]\n\u001b[1;32m     <a href='vscode-notebook-cell:/Users/faiyaz/Code/covalent/doc/source/tutorials/1_QuantumMachineLearning/pennylane_ensemble_classification/source.ipynb#W4sZmlsZQ%3D%3D?line=29'>30</a>\u001b[0m     \u001b[39mreturn\u001b[39;00m x_train, x_test, y_train, y_test\n\u001b[0;32m---> <a href='vscode-notebook-cell:/Users/faiyaz/Code/covalent/doc/source/tutorials/1_QuantumMachineLearning/pennylane_ensemble_classification/source.ipynb#W4sZmlsZQ%3D%3D?line=32'>33</a>\u001b[0m x_train, x_test, y_train, y_test \u001b[39m=\u001b[39m process_data(x, y)\n",
      "\u001b[1;32m/Users/faiyaz/Code/covalent/doc/source/tutorials/1_QuantumMachineLearning/pennylane_ensemble_classification/source.ipynb Cell 7\u001b[0m in \u001b[0;36mprocess_data\u001b[0;34m(x, y)\u001b[0m\n\u001b[1;32m     <a href='vscode-notebook-cell:/Users/faiyaz/Code/covalent/doc/source/tutorials/1_QuantumMachineLearning/pennylane_ensemble_classification/source.ipynb#W4sZmlsZQ%3D%3D?line=9'>10</a>\u001b[0m \u001b[39mdef\u001b[39;00m \u001b[39mprocess_data\u001b[39m(x, y):\n\u001b[1;32m     <a href='vscode-notebook-cell:/Users/faiyaz/Code/covalent/doc/source/tutorials/1_QuantumMachineLearning/pennylane_ensemble_classification/source.ipynb#W4sZmlsZQ%3D%3D?line=10'>11</a>\u001b[0m     np\u001b[39m.\u001b[39mrandom\u001b[39m.\u001b[39mseed(\u001b[39m1967\u001b[39m)\n\u001b[0;32m---> <a href='vscode-notebook-cell:/Users/faiyaz/Code/covalent/doc/source/tutorials/1_QuantumMachineLearning/pennylane_ensemble_classification/source.ipynb#W4sZmlsZQ%3D%3D?line=11'>12</a>\u001b[0m     x, y \u001b[39m=\u001b[39m \u001b[39mzip\u001b[39m(\u001b[39m*\u001b[39mnp\u001b[39m.\u001b[39;49mrandom\u001b[39m.\u001b[39;49mpermutation(\u001b[39mlist\u001b[39;49m(\u001b[39mzip\u001b[39;49m(x, y))))\n\u001b[1;32m     <a href='vscode-notebook-cell:/Users/faiyaz/Code/covalent/doc/source/tutorials/1_QuantumMachineLearning/pennylane_ensemble_classification/source.ipynb#W4sZmlsZQ%3D%3D?line=13'>14</a>\u001b[0m     pca \u001b[39m=\u001b[39m sklearn\u001b[39m.\u001b[39mdecomposition\u001b[39m.\u001b[39mPCA(n_components\u001b[39m=\u001b[39mn_features)\n\u001b[1;32m     <a href='vscode-notebook-cell:/Users/faiyaz/Code/covalent/doc/source/tutorials/1_QuantumMachineLearning/pennylane_ensemble_classification/source.ipynb#W4sZmlsZQ%3D%3D?line=14'>15</a>\u001b[0m     pca\u001b[39m.\u001b[39mfit(x)\n",
      "File \u001b[0;32mmtrand.pyx:4703\u001b[0m, in \u001b[0;36mnumpy.random.mtrand.RandomState.permutation\u001b[0;34m()\u001b[0m\n",
      "\u001b[0;31mValueError\u001b[0m: setting an array element with a sequence. The requested array has an inhomogeneous shape after 2 dimensions. The detected shape was (150, 2) + inhomogeneous part."
     ]
    }
   ],
   "source": [
    "n_features = 2\n",
    "n_classes = 3\n",
    "n_samples = 150\n",
    "\n",
    "data = sklearn.datasets.load_iris()\n",
    "x = data[\"data\"]\n",
    "y = data[\"target\"]\n",
    "\n",
    "\n",
    "def process_data(x, y):\n",
    "    np.random.seed(1967)\n",
    "    x, y = zip(*np.random.permutation(list(zip(x, y))))\n",
    "\n",
    "    pca = sklearn.decomposition.PCA(n_components=n_features)\n",
    "    pca.fit(x)\n",
    "    x = pca.transform(x)\n",
    "\n",
    "    x_min = np.min(x, axis=0)\n",
    "    x_max = np.max(x, axis=0)\n",
    "\n",
    "    x = 2 * np.pi * (x - x_min) / (x_max - x_min) - np.pi\n",
    "\n",
    "    split = 125\n",
    "\n",
    "    x_train = x[:split]\n",
    "    x_test = x[split:]\n",
    "    y_train = y[:split]\n",
    "    y_test = y[split:]\n",
    "\n",
    "    return x_train, x_test, y_train, y_test\n",
    "\n",
    "\n",
    "x_train, x_test, y_train, y_test = process_data(x, y)\n"
   ]
  },
  {
   "cell_type": "markdown",
   "id": "82a4b3fa",
   "metadata": {},
   "source": [
    "# Plot the data\n",
    "\n",
    "We plot the data to visualize it and to verify that it is seperable with just two features. Note that this is not included in the Covalent workflow but rather for a visual understanding of the compressed dataset."
   ]
  },
  {
   "cell_type": "code",
   "execution_count": null,
   "id": "7ec90cfb",
   "metadata": {},
   "outputs": [],
   "source": [
    "colours = [\"#ec6f86\", \"#4573e7\", \"#ad61ed\"]\n",
    "\n",
    "\n",
    "def plot_points(x_train, y_train, x_test, y_test):\n",
    "    c_train = []\n",
    "    c_test = []\n",
    "\n",
    "    for y in y_train:\n",
    "        c_train.append(colours[y])\n",
    "\n",
    "    for y in y_test:\n",
    "        c_test.append(colours[y])\n",
    "\n",
    "    plt.scatter(x_train[:, 0], x_train[:, 1], c=c_train)\n",
    "    plt.scatter(x_test[:, 0], x_test[:, 1], c=c_test, marker=\"x\")\n",
    "\n",
    "    plt.xlabel(\"Feature 1\", fontsize=16)\n",
    "    plt.ylabel(\"Feature 2\", fontsize=16)\n",
    "\n",
    "    ax = plt.gca()\n",
    "    ax.set_aspect(1)\n",
    "\n",
    "    c_transparent = \"#00000000\"\n",
    "\n",
    "    custom_lines = [\n",
    "        Patch(facecolor=colours[0], edgecolor=c_transparent, label=\"Class 0\"),\n",
    "        Patch(facecolor=colours[1], edgecolor=c_transparent, label=\"Class 1\"),\n",
    "        Patch(facecolor=colours[2], edgecolor=c_transparent, label=\"Class 2\"),\n",
    "        Line2D(\n",
    "            [0],\n",
    "            [0],\n",
    "            marker=\"o\",\n",
    "            color=c_transparent,\n",
    "            label=\"Train\",\n",
    "            markerfacecolor=\"black\",\n",
    "            markersize=10,\n",
    "        ),\n",
    "        Line2D(\n",
    "            [0],\n",
    "            [0],\n",
    "            marker=\"x\",\n",
    "            color=c_transparent,\n",
    "            label=\"Test\",\n",
    "            markerfacecolor=\"black\",\n",
    "            markersize=10,\n",
    "        ),\n",
    "    ]\n",
    "\n",
    "    ax.legend(handles=custom_lines, bbox_to_anchor=(1.0, 0.75))\n",
    "\n",
    "\n",
    "plot_points(x_train, y_train, x_test, y_test)\n",
    "plt.show()\n"
   ]
  },
  {
   "cell_type": "markdown",
   "id": "0c2505c3",
   "metadata": {},
   "source": [
    "This plot shows us that class 0 points can be nicely separated, but that there is an overlap between points from classes 1 and 2.\n",
    "\n"
   ]
  },
  {
   "cell_type": "markdown",
   "id": "a25d97ef",
   "metadata": {},
   "source": [
    "# Construct the workflow\n",
    "\n",
    "The workflow is broken down into subtasks (functions with the Covalent electron decorator) as follows.\n",
    "\n",
    "1. `get_circ` - Construct and return a circuit based on the parameters.\n",
    "2. `decision` - Choose the class with maximum confidence.\n",
    "3. `eval_circ` - Evaluate the circuit and return the expected value.\n",
    "4. `get_results` - Combines the results from multiple executions.\n",
    "5. `predict_point` - Chooses the output of the QPU parameters which is most confident about its prediction and set it as the prediction of ensemble model.\n"
   ]
  },
  {
   "cell_type": "code",
   "execution_count": null,
   "id": "e51a70d1",
   "metadata": {},
   "outputs": [],
   "source": [
    "@ct.electron()\n",
    "def get_circ(CZ_params, n_wires=4):\n",
    "\n",
    "    dev = qml.device(\"default.qubit\", wires=n_wires)\n",
    "\n",
    "    @qml.qnode(dev, interface=\"torch\")\n",
    "    def circuit(params, x=None):\n",
    "        for i in range(n_wires):\n",
    "            qml.RX(x[i % n_features], wires=i)\n",
    "            qml.Rot(*params[0, i], wires=i)\n",
    "\n",
    "        qml.CZ(wires=CZ_params[0])\n",
    "        qml.CZ(wires=CZ_params[1])\n",
    "        qml.CZ(wires=CZ_params[2])\n",
    "\n",
    "        for i in range(n_wires):\n",
    "            qml.Rot(*params[1, i], wires=i)\n",
    "        return qml.expval(qml.PauliZ(0)), qml.expval(qml.PauliZ(1)), qml.expval(qml.PauliZ(2))\n",
    "\n",
    "    return circuit\n",
    "\n",
    "\n",
    "@ct.electron()\n",
    "def eval_circ(circuit, params, x):\n",
    "    return circuit(params, x)\n"
   ]
  },
  {
   "cell_type": "code",
   "execution_count": null,
   "id": "00ff383e",
   "metadata": {},
   "outputs": [],
   "source": [
    "@ct.electron()\n",
    "def decision(softmax):\n",
    "    return int(torch.argmax(softmax))\n",
    "\n",
    "\n",
    "@ct.electron()\n",
    "def get_results(res0, res1):\n",
    "    return torch.cat((torch.unsqueeze(res0, 0), torch.unsqueeze(res1, 0)), 0)\n",
    "\n",
    "\n",
    "@ct.electron()\n",
    "def predict_point(results):\n",
    "    softmax = torch.nn.functional.softmax(results, dim=1)\n",
    "    choice = torch.where(softmax == torch.max(softmax))[0][0]\n",
    "    chosen_softmax = softmax[choice]\n",
    "    return decision(chosen_softmax), decision(softmax[0]), decision(softmax[1]), int(choice)\n"
   ]
  },
  {
   "cell_type": "markdown",
   "id": "789a6c09",
   "metadata": {},
   "source": [
    "Having constructed the subtasks, we now construct the `predict_workflow` with the Covalent lattice decorator."
   ]
  },
  {
   "cell_type": "code",
   "execution_count": null,
   "id": "f14c69aa",
   "metadata": {},
   "outputs": [],
   "source": [
    "@ct.lattice(executor=dask)\n",
    "def predict_workflow(params, x=None, parallel=True):\n",
    "\n",
    "    predictions_ensemble = []\n",
    "    predictions_0 = []\n",
    "    predictions_1 = []\n",
    "    choices = []\n",
    "    for i, x_point in enumerate(x):\n",
    "\n",
    "        circ_0 = get_circ(CZ_params=[[1, 0], [1, 2], [3, 0]])\n",
    "        res0 = eval_circ(circ_0, params[0], x_point)\n",
    "\n",
    "        circ_1 = get_circ(CZ_params=[[0, 1], [1, 2], [1, 3]])\n",
    "        res1 = eval_circ(circ_1, params[1], x_point)\n",
    "\n",
    "        result_int = get_results(res0, res1)\n",
    "        results = predict_point(result_int)\n",
    "\n",
    "        predictions_ensemble.append(results[0])\n",
    "        predictions_0.append(results[1])\n",
    "        predictions_1.append(results[2])\n",
    "        choices.append(results[3])\n",
    "    return predictions_ensemble, predictions_0, predictions_1, choices\n"
   ]
  },
  {
   "cell_type": "markdown",
   "id": "df644dc6",
   "metadata": {},
   "source": [
    "### Directed Acyclic Graph (DAG)\n",
    "\n",
    "In order to verify if the workflow construction is properly defined, we can use the draw method in the predict_workflow or check out the DAG in the Covalent UI. The graph contains information on execution status, task definition, runtime, input parameters, and more. \n",
    "\n",
    "The Directed Acyclic Graph (DAG) generated for predicting a single sample using the ensemble model is shown below:\n",
    "\n",
    "![DAG](assets/covalent-ensemble-DAG.png)"
   ]
  },
  {
   "cell_type": "markdown",
   "id": "b9258ca4",
   "metadata": {},
   "source": [
    "# Executing the workflow\n",
    "\n",
    "Once we have ensured that the workflow has been constructed properly, we can submit it using Covalent `dispatch`. When a workflow has been successfully dispatched, a dispatch ID is generated. This ensures that the Jupyter notebook or script where the task was dispatched can be closed if needed. The Covalent UI server receives updates from the dispatcher server:\n",
    "\n",
    "We load the pretrained weights and use it to predict the classes using Covalent dispatch.\n",
    "\n",
    "Later, the execution results are retrieved uusing the Covalent `get_result` method."
   ]
  },
  {
   "cell_type": "code",
   "execution_count": null,
   "id": "348f7669",
   "metadata": {},
   "outputs": [],
   "source": [
    "params = np.load(\"assets/params.npy\")\n",
    "dispatch_id_train = ct.dispatch(predict_workflow)(params, x=x_train)\n",
    "dispatch_id_test = ct.dispatch(predict_workflow)(params, x=x_test)\n"
   ]
  },
  {
   "cell_type": "code",
   "execution_count": null,
   "id": "27bb239f",
   "metadata": {
    "scrolled": true
   },
   "outputs": [],
   "source": [
    "train_result = ct.get_result(dispatch_id=dispatch_id_train, wait=True)\n",
    "p_train, p_train_0, p_train_1, choices_train = train_result.result\n",
    "\n",
    "\n",
    "test_result = ct.get_result(dispatch_id=dispatch_id_test, wait=True)\n",
    "p_test, p_test_0, p_test_1, choices_test = train_result.result\n"
   ]
  },
  {
   "cell_type": "markdown",
   "id": "d2d60242",
   "metadata": {},
   "source": [
    "### Model accuracy\n",
    "\n",
    "In order to calculate how well the ensemble model performs, we compare the model predictions to the actual classification values. We calculate the accuracy of the training set as well as the test set, and it can be observed that the ensemble model performs better than the individual circuits."
   ]
  },
  {
   "cell_type": "code",
   "execution_count": null,
   "id": "5739d2a8",
   "metadata": {},
   "outputs": [],
   "source": [
    "def accuracy(predictions, actuals):\n",
    "    count = 0\n",
    "\n",
    "    for i in range(len(predictions)):\n",
    "        if predictions[i] == actuals[i]:\n",
    "            count += 1\n",
    "\n",
    "    accuracy = count / (len(predictions))\n",
    "    return accuracy\n",
    "\n",
    "\n",
    "print(\"Training accuracy (ensemble): {}\".format(accuracy(p_train, y_train)))\n",
    "print(\"Training accuracy (params0):  {}\".format(accuracy(p_train_0, y_train)))\n",
    "print(\"Training accuracy (params1):  {}\".format(accuracy(p_train_1, y_train)))\n",
    "\n",
    "print(\"--------------------------------------------------------\")\n",
    "\n",
    "print(\"Test accuracy (ensemble): {}\".format(accuracy(p_test, y_test)))\n",
    "print(\"Test accuracy (params0):  {}\".format(accuracy(p_test_0, y_test)))\n",
    "print(\"Test accuracy (params1):  {}\".format(accuracy(p_test_1, y_test)))\n"
   ]
  },
  {
   "cell_type": "markdown",
   "id": "ac087339",
   "metadata": {},
   "source": [
    "# Conclusion\n",
    "\n",
    "In this tutorial, we created a Covalent workflow to predict the classes of Iris dataset using ensemble model. The ensemble model was designed to choose the most confident predictions from two set of pretrained parameters for a quantum circuit. The key takeaways from this tutorial are:\n",
    "\n",
    "1)  Covalent helps create workflows that can take advantage of parallel execution of quantum circuits and can organize, track, and dispatch experiments.\n",
    "\n",
    "2) The ensemble model outperforms both individual parameter models.\n"
   ]
  }
 ],
 "metadata": {
  "kernelspec": {
   "display_name": "new",
   "language": "python",
   "name": "python3"
  },
  "language_info": {
   "codemirror_mode": {
    "name": "ipython",
    "version": 3
   },
   "file_extension": ".py",
   "mimetype": "text/x-python",
   "name": "python",
   "nbconvert_exporter": "python",
   "pygments_lexer": "ipython3",
   "version": "3.8.13"
  },
  "vscode": {
   "interpreter": {
    "hash": "65f23ff11413a1b24e6045f226bbb649c5d31fd62a4c12b34b399c99ac705181"
   }
  }
 },
 "nbformat": 4,
 "nbformat_minor": 5
}
