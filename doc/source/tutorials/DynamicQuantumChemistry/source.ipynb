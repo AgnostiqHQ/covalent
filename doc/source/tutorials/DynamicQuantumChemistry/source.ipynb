{
 "cells": [
  {
   "attachments": {},
   "cell_type": "markdown",
   "metadata": {},
   "source": [
    "# Dynamic Quantum Chemistry Workflow \n",
    "\n",
    "In this tutorial, we discuss how _covalent_ can be used to construct and manage **dynamic** workflows that are common in quantum-chemical simulations. In this example, given a crystal structure, we seek to do the following:\n",
    "\n",
    "1. Relax the atomic positions and cell volume for the structure (i.e. find the local minimum energy configuration).\n",
    "2. Carve all possible surface slabs of the relaxed structure. The number of slabs is only determined at runtime.\n",
    "3. For each generated slab, relax the atomic positions of each structure.\n",
    "\n",
    "This will be done using the materials informatics library [Pymatgen](https://github.com/materialsproject/pymatgen) and a machine learned interatomic potential called [M3GNet](https://www.nature.com/articles/s43588-022-00349-3). Because the number of slabs is only known at runtime, this is a dynamic workflow and we must take advantage of the sublattice feature in Covalent to properly dispatch the workflow."
   ]
  },
  {
   "attachments": {},
   "cell_type": "markdown",
   "metadata": {},
   "source": [
    "First, we need to install the necessary Python packages from the `requirements.txt` file. These are printed below:"
   ]
  },
  {
   "cell_type": "code",
   "execution_count": null,
   "metadata": {},
   "outputs": [],
   "source": [
    "with open(\"requirements.txt\", \"r\") as file:\n",
    "    for line in file:\n",
    "        print(line.rstrip())"
   ]
  },
  {
   "attachments": {},
   "cell_type": "markdown",
   "metadata": {},
   "source": [
    "Once that is done, we can import the necessary functions for this tutorial:"
   ]
  },
  {
   "cell_type": "code",
   "execution_count": null,
   "metadata": {},
   "outputs": [],
   "source": [
    "from subprocess import Popen\n",
    "import covalent as ct\n",
    "from pymatgen.core import Structure\n",
    "from pymatgen.core.surface import generate_all_slabs"
   ]
  },
  {
   "attachments": {},
   "cell_type": "markdown",
   "metadata": {},
   "source": [
    "We then will make sure the Covalent server is started:"
   ]
  },
  {
   "cell_type": "code",
   "execution_count": null,
   "metadata": {},
   "outputs": [],
   "source": [
    "sts = Popen(\"covalent start\", shell=True).wait()"
   ]
  },
  {
   "attachments": {},
   "cell_type": "markdown",
   "metadata": {},
   "source": [
    "Now we will define the individual compute tasks. The first `Electron` we will define is a `relax_structure` function, which takes in a Pymatgen `Structure` object as the input and runs the relaxation calculation using M3GNet. It returns an updated `Structure` object. This process can be thought of as the compute-heavy task."
   ]
  },
  {
   "cell_type": "code",
   "execution_count": null,
   "metadata": {},
   "outputs": [],
   "source": [
    "@ct.electron\n",
    "def relax_structure(structure, relax_cell=True):\n",
    "    return structure.relax(relax_cell=relax_cell)"
   ]
  },
  {
   "attachments": {},
   "cell_type": "markdown",
   "metadata": {},
   "source": [
    "Now we will define a separate `Electron` called `carve_slabs` that takes in a `Structure` object and carves all plausible surface slabs, which it returns as list of new `Structure` objects. This is a relatively quick task, but we still need to define it as an `Electron`."
   ]
  },
  {
   "cell_type": "code",
   "execution_count": null,
   "metadata": {},
   "outputs": [],
   "source": [
    "@ct.electron\n",
    "def carve_slabs(structure, max_index=1, min_slab_size=10.0, min_vacuum_size=10.0):\n",
    "    return generate_all_slabs(\n",
    "        structure,\n",
    "        max_index,\n",
    "        min_slab_size,\n",
    "        min_vacuum_size,\n",
    "    )"
   ]
  },
  {
   "attachments": {},
   "cell_type": "markdown",
   "metadata": {},
   "source": [
    "Now, for the most subtle but important bit. We need to define a sublattice that will take in the list of slabs and relax each individual slab using the previously defined `relax_structure` `Electron`. The sublattice is crucial here because the number of slabs is only determined at runtime."
   ]
  },
  {
   "cell_type": "code",
   "execution_count": null,
   "metadata": {},
   "outputs": [],
   "source": [
    "@ct.electron\n",
    "@ct.lattice\n",
    "def relax_slabs(slabs):\n",
    "    return [relax_structure(slab, relax_cell=False) for slab in slabs]"
   ]
  },
  {
   "attachments": {},
   "cell_type": "markdown",
   "metadata": {},
   "source": [
    "With these individual `Electron` objects defined, we can now define the overall workflow that stitches them together and forms a `Lattice`. As introduced at the start of this tutorial, there are three major sets of tasks, and those are reflected by the three functions defined above."
   ]
  },
  {
   "cell_type": "code",
   "execution_count": null,
   "metadata": {},
   "outputs": [],
   "source": [
    "@ct.lattice(executor=\"local\")\n",
    "def workflow(structure):\n",
    "    relaxed_structure = relax_structure(structure)\n",
    "    slabs = carve_slabs(relaxed_structure)\n",
    "    relaxed_slabs = relax_slabs(slabs)\n",
    "    return relaxed_slabs"
   ]
  },
  {
   "attachments": {},
   "cell_type": "markdown",
   "metadata": {},
   "source": [
    "Now we can create an example `Structure` as the input for our workflow."
   ]
  },
  {
   "cell_type": "code",
   "execution_count": null,
   "metadata": {},
   "outputs": [],
   "source": [
    "structure = Structure(\n",
    "    lattice=[[0, 2.13, 2.13], [2.13, 0, 2.13], [2.13, 2.13, 0]],\n",
    "    species=[\"Mg\", \"O\"],\n",
    "    coords=[[0, 0, 0], [0.5, 0.5, 0.5]],\n",
    ")"
   ]
  },
  {
   "attachments": {},
   "cell_type": "markdown",
   "metadata": {},
   "source": [
    "And we finally take this input `Structure` and run it through our newly created workflow."
   ]
  },
  {
   "cell_type": "code",
   "execution_count": null,
   "metadata": {},
   "outputs": [],
   "source": [
    "dispatch_id = ct.dispatch(workflow)(structure)\n",
    "result = ct.get_result(dispatch_id, wait=True)\n",
    "print(result)"
   ]
  }
 ],
 "metadata": {
  "kernelspec": {
   "display_name": "new",
   "language": "python",
   "name": "python3"
  },
  "language_info": {
   "codemirror_mode": {
    "name": "ipython",
    "version": 3
   },
   "file_extension": ".py",
   "mimetype": "text/x-python",
   "name": "python",
   "nbconvert_exporter": "python",
   "pygments_lexer": "ipython3",
   "version": "3.9.16"
  },
  "vscode": {
   "interpreter": {
    "hash": "65f23ff11413a1b24e6045f226bbb649c5d31fd62a4c12b34b399c99ac705181"
   }
  }
 },
 "nbformat": 4,
 "nbformat_minor": 2
}
