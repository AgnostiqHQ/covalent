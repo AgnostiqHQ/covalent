{
 "cells": [
  {
   "cell_type": "code",
   "execution_count": 5,
   "metadata": {},
   "outputs": [],
   "source": [
    "import covalent as ct\n",
    "import time"
   ]
  },
  {
   "cell_type": "code",
   "execution_count": 6,
   "metadata": {},
   "outputs": [
    {
     "name": "stdout",
     "output_type": "stream",
     "text": [
      "Elapsed: 3.6850883960723877 seconds\n"
     ]
    }
   ],
   "source": [
    "@ct.electron\n",
    "def add(x: int, y: int):\n",
    "    return x + y\n",
    "\n",
    "@ct.electron\n",
    "def multiply(x: int, y: int):\n",
    "    return x*y\n",
    "\n",
    "@ct.lattice\n",
    "def workflow(x: int, y: int):\n",
    "    r2 = 0\n",
    "    for i in range(10):\n",
    "        r1 = add(x, y)\n",
    "        r2 *= multiply(r1, y)\n",
    "    return r1 + r2\n",
    "\n",
    "start = time.time()\n",
    "result = ct.dispatch_sync(workflow)(2, 3)\n",
    "end = time.time()\n",
    "\n",
    "print(f\"Elapsed: {end-start} seconds\")"
   ]
  },
  {
   "cell_type": "code",
   "execution_count": null,
   "metadata": {},
   "outputs": [],
   "source": [
    "import numpy as np\n",
    "\n",
    "@ct.electron\n",
    "def add(x: int, y: int):\n",
    "    return x + y\n",
    "\n",
    "@ct.electron\n",
    "def multiply(x: int, y: int):\n",
    "    return x*y\n",
    "\n",
    "@ct.lattice\n",
    "def add_workflow(N: int):\n",
    "    for i in range(N):\n",
    "        if i == 0:\n",
    "            r1 = add(1, 1)\n",
    "        else:\n",
    "            r1 = add(r1, 1)\n",
    "    return r1\n",
    "\n",
    "# normal run\n",
    "num_tasks=10\n",
    "start = time.time()\n",
    "add_res = add_workflow(num_tasks)\n",
    "end = time.time()\n",
    "print(f\"add_workflow (without covalent): {end-start} seconds\")\n",
    "\n",
    "start = time.time()\n",
    "add_dispatch_result = ct.dispatch_sync(add_workflow)(num_tasks)\n",
    "end = time.time()\n",
    "print(f\"add_workflow covalent execution duration: {end-start} seconds\")\n",
    "\n",
    "# Result can potentially overflow\n",
    "@ct.lattice\n",
    "def multiply_workflow(N: int):\n",
    "    for i in range(N):\n",
    "        if i == 0:\n",
    "            r1 = multiply(2, 1)\n",
    "        else:\n",
    "            r1 = multiply(r1, 2)\n",
    "    return r1\n",
    "\n",
    "# normal run\n",
    "start = time.time()\n",
    "multiply_res = multiply_workflow(num_tasks)\n",
    "end = time.time()\n",
    "print(f\"multipy_workflow (without covalent): {end-start} seconds\")\n",
    "\n",
    "start = time.time()\n",
    "multiply_dispatch_result = ct.dispatch_sync(multiply_workflow)(num_tasks)\n",
    "end = time.time()\n",
    "print(f\"multiply_workflow execution duration: {end-start} seconds\")\n",
    "\n",
    "# Assert (these are failing)\n",
    "#assert multiply_res == multiply_dispatch_result.result\n",
    "#assert add_res == add_dispatch_result.result"
   ]
  },
  {
   "cell_type": "code",
   "execution_count": null,
   "metadata": {},
   "outputs": [],
   "source": [
    "num_tasks = 100\n",
    "@ct.lattice\n",
    "def workflow(N: int):\n",
    "    r2 = 1\n",
    "    for i in range(N):\n",
    "        r1 = add(1, 1)\n",
    "        r2 = multiply(r1, 2)\n",
    "    return r1 + r2\n",
    "\n",
    "res = workflow(num_tasks)\n",
    "start = time.time()\n",
    "dispatch_res = ct.dispatch_sync(workflow)(num_tasks)\n",
    "end = time.time()\n",
    "print(f\"List of electrons workflow: {end-start} seconds\")\n",
    "\n",
    "#assert res == dispatch_res.result\n",
    "\n"
   ]
  },
  {
   "cell_type": "code",
   "execution_count": 8,
   "metadata": {},
   "outputs": [],
   "source": [
    "@ct.electron\n",
    "@ct.lattice\n",
    "def sublattice(x: int, y: int):\n",
    "    r1 = add(x, y)\n",
    "    r2 = multiply(r1, y)\n",
    "    return r1 + r2\n",
    "\n",
    "@ct.lattice\n",
    "def main_workflow(num_tasks: int):\n",
    "    results = []\n",
    "    for i in range(num_tasks):\n",
    "        results.append(sublattice(i, i+2))\n",
    "    return results\n",
    "\n",
    "N = 100\n",
    "res = main_workflow(N)\n",
    "dispatch_res = ct.dispatch_sync(main_workflow)(N)"
   ]
  },
  {
   "cell_type": "markdown",
   "metadata": {},
   "source": [
    "### Fan in/Fan out workflow"
   ]
  },
  {
   "cell_type": "code",
   "execution_count": 7,
   "metadata": {},
   "outputs": [],
   "source": [
    "@ct.electron\n",
    "def add(x, y):\n",
    "    return x + y\n",
    "\n",
    "@ct.electron\n",
    "def multiply(x, y):\n",
    "    return x*y\n",
    "\n",
    "@ct.lattice\n",
    "def workflow(x, y, N):\n",
    "    r1 = add(x, y)\n",
    "    for i in range(N):\n",
    "        r2 = add(r1, y)\n",
    "\n",
    "    r3 = multiply(r2, x)\n",
    "\n",
    "    for j in range(N):\n",
    "        r4 = multiply(r3, y)\n",
    "\n",
    "    return r1 + r2 + r3 + r4\n",
    "\n",
    "\n",
    "result = ct.dispatch_sync(workflow)(2, 3, 100)"
   ]
  },
  {
   "cell_type": "code",
   "execution_count": 9,
   "metadata": {},
   "outputs": [],
   "source": [
    "import torch"
   ]
  },
  {
   "cell_type": "code",
   "execution_count": 11,
   "metadata": {},
   "outputs": [],
   "source": [
    "def cost(x):\n",
    "    return torch.sum(x**2)\n",
    "\n",
    "@ct.electron\n",
    "def move_forward(optimizer,point):\n",
    "    loss = cost(point)\n",
    "    optimizer.zero_grad()\n",
    "    loss.backward()\n",
    "    optimizer.step()\n",
    "    return optimizer,point,loss\n",
    "\n",
    "@ct.lattice\n",
    "def optimize(point,iterations):\n",
    "    optimizer = torch.optim.Adam([point], lr=.1)\n",
    "    for _ in range(iterations):\n",
    "        optimizer,point,loss=move_forward(optimizer,point)\n",
    "    return point\n",
    "      \n",
    "p=torch.tensor([1,.2], requires_grad=True)\n",
    "j=ct.dispatch(optimize)(point=p,iterations=100)"
   ]
  },
  {
   "cell_type": "code",
   "execution_count": null,
   "metadata": {},
   "outputs": [],
   "source": []
  }
 ],
 "metadata": {
  "interpreter": {
   "hash": "e2e45f5691bc107709b4684c0422d508cbf8dfb25248b629025f945fce89955c"
  },
  "kernelspec": {
   "display_name": "Python 3.8.13 ('cova-legacy')",
   "language": "python",
   "name": "python3"
  },
  "language_info": {
   "codemirror_mode": {
    "name": "ipython",
    "version": 3
   },
   "file_extension": ".py",
   "mimetype": "text/x-python",
   "name": "python",
   "nbconvert_exporter": "python",
   "pygments_lexer": "ipython3",
   "version": "3.8.13"
  },
  "orig_nbformat": 4
 },
 "nbformat": 4,
 "nbformat_minor": 2
}
