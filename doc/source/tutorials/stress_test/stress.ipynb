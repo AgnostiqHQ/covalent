{
 "cells": [
  {
   "cell_type": "code",
   "execution_count": null,
   "id": "e3bfcca6-7d58-4df8-ae62-f5914b6d25fb",
   "metadata": {},
   "outputs": [],
   "source": [
    "import covalent as ct\n",
    "import time"
   ]
  },
  {
   "cell_type": "markdown",
   "id": "3a1c8da9",
   "metadata": {},
   "source": [
    "### Simple two node workflow"
   ]
  },
  {
   "cell_type": "code",
   "execution_count": null,
   "id": "3189841e-29b6-41cb-b863-a8f05d79789b",
   "metadata": {},
   "outputs": [],
   "source": [
    "@ct.electron\n",
    "def add(x: int, y: int):\n",
    "    return x + y\n",
    "\n",
    "@ct.electron\n",
    "def multiply(x: int, y: int):\n",
    "    return x*y\n",
    "\n",
    "@ct.lattice\n",
    "def workflow(x: int, y: int):\n",
    "    r1 = add(x, y)\n",
    "    r2 = multiply(r1, y)\n",
    "    r3 = add(r1, r1) + multiply(r2, r2)\n",
    "    return r1 + r2 + r3\n",
    "\n",
    "start = time.time()\n",
    "result = ct.dispatch_sync(workflow)(2, 3)\n",
    "end = time.time()\n",
    "\n",
    "print(f\"Elapsed: {end-start} seconds\")"
   ]
  },
  {
   "cell_type": "markdown",
   "id": "6b159411",
   "metadata": {},
   "source": [
    "### Workflow with chain dependencies (simple electrons)"
   ]
  },
  {
   "cell_type": "code",
   "execution_count": null,
   "id": "a20d2fe6",
   "metadata": {},
   "outputs": [],
   "source": [
    "import numpy as np\n",
    "\n",
    "@ct.electron\n",
    "def add(x: int, y: int):\n",
    "    return x + y\n",
    "\n",
    "@ct.electron\n",
    "def multiply(x: int, y: int):\n",
    "    return x*y\n",
    "\n",
    "@ct.lattice\n",
    "def add_workflow(N: int):\n",
    "    for i in range(N):\n",
    "        if i == 0:\n",
    "            r1 = add(1, 1)\n",
    "        else:\n",
    "            r1 = add(r1, 1)\n",
    "    return r1\n",
    "\n",
    "# normal run\n",
    "num_tasks=50\n",
    "start = time.time()\n",
    "add_res = add_workflow(num_tasks)\n",
    "end = time.time()\n",
    "print(f\"add_workflow (without covalent): {end-start} seconds\")\n",
    "\n",
    "start = time.time()\n",
    "add_dispatch_result = ct.dispatch_sync(add_workflow)(num_tasks)\n",
    "end = time.time()\n",
    "print(f\"add_workflow covalent execution duration: {end-start} seconds\")\n",
    "\n",
    "# Result can potentially overflow\n",
    "@ct.lattice\n",
    "def multiply_workflow(N: int):\n",
    "    for i in range(N):\n",
    "        if i == 0:\n",
    "            r1 = multiply(2, 1)\n",
    "        else:\n",
    "            r1 = multiply(r1, 2)\n",
    "    return r1\n",
    "\n",
    "# normal run\n",
    "start = time.time()\n",
    "multiply_res = multiply_workflow(num_tasks)\n",
    "end = time.time()\n",
    "print(f\"multipy_workflow (without covalent): {end-start} seconds\")\n",
    "\n",
    "start = time.time()\n",
    "multiply_dispatch_result = ct.dispatch_sync(multiply_workflow)(num_tasks)\n",
    "end = time.time()\n",
    "print(f\"multiply_workflow execution duration: {end-start} seconds\")\n",
    "\n",
    "# Assert (these are failing)\n",
    "#assert multiply_res == multiply_dispatch_result.result\n",
    "#assert add_res == add_dispatch_result.result"
   ]
  },
  {
   "cell_type": "markdown",
   "id": "a8b1090d",
   "metadata": {},
   "source": [
    "#### List of electrons"
   ]
  },
  {
   "cell_type": "code",
   "execution_count": null,
   "id": "633c02a0",
   "metadata": {},
   "outputs": [],
   "source": [
    "num_tasks = 50\n",
    "@ct.lattice\n",
    "def workflow(N: int):\n",
    "    r2 = 1\n",
    "    for i in range(N):\n",
    "        r1 = add(1, 1)\n",
    "        r2 = multiply(r1, 2)\n",
    "    return r1 + r2\n",
    "\n",
    "res = workflow(num_tasks)\n",
    "start = time.time()\n",
    "dispatch_res = ct.dispatch_sync(workflow)(num_tasks)\n",
    "end = time.time()\n",
    "print(f\"List of electrons workflow: {end-start} seconds\")\n",
    "\n",
    "#assert res == dispatch_res.result"
   ]
  },
  {
   "cell_type": "markdown",
   "id": "3be43ca1",
   "metadata": {},
   "source": [
    "### Embarassingly parallel workload"
   ]
  },
  {
   "cell_type": "code",
   "execution_count": null,
   "id": "0807b261",
   "metadata": {},
   "outputs": [],
   "source": [
    "import tempfile\n",
    "\n",
    "@ct.electron\n",
    "def create_delete_tempfile():\n",
    "    fp = tempfile.NamedTemporaryFile(delete=True)\n",
    "    fp.write(b'test')\n",
    "    fp.close()\n",
    "\n",
    "@ct.lattice\n",
    "def workflow(N: int):\n",
    "    for i in range(N):\n",
    "        create_delete_tempfile()\n",
    "\n",
    "num_tasks = 50\n",
    "res = workflow(num_tasks)\n",
    "result = ct.dispatch_sync(workflow)(num_tasks)"
   ]
  },
  {
   "cell_type": "markdown",
   "id": "f8b343af",
   "metadata": {},
   "source": [
    "### Sublattices"
   ]
  },
  {
   "cell_type": "code",
   "execution_count": null,
   "id": "e01c5c04",
   "metadata": {},
   "outputs": [],
   "source": [
    "@ct.electron\n",
    "@ct.lattice\n",
    "def sublattice(x: int, y: int):\n",
    "    r1 = add(x, y)\n",
    "    r2 = multiply(r1, y)\n",
    "    return r1 + r2\n",
    "\n",
    "@ct.lattice\n",
    "def main_workflow(num_tasks: int):\n",
    "    results = []\n",
    "    for i in range(num_tasks):\n",
    "        results.append(sublattice(i, i+2))\n",
    "    return results\n",
    "\n",
    "# Works for N = 3\n",
    "N = 5\n",
    "res = main_workflow(N)\n",
    "dispatch_res = ct.dispatch_sync(main_workflow)(N)"
   ]
  }
 ],
 "metadata": {
  "kernelspec": {
   "display_name": "Python 3 (ipykernel)",
   "language": "python",
   "name": "python3"
  },
  "language_info": {
   "codemirror_mode": {
    "name": "ipython",
    "version": 3
   },
   "file_extension": ".py",
   "mimetype": "text/x-python",
   "name": "python",
   "nbconvert_exporter": "python",
   "pygments_lexer": "ipython3",
   "version": "3.8.13"
  }
 },
 "nbformat": 4,
 "nbformat_minor": 5
}
