{
 "cells": [
  {
   "cell_type": "markdown",
   "metadata": {},
   "source": [
    "### Covalent SSH plugin\n",
    "\n",
    "In this example, we will see how to use the SSH plugin to dispatch a workflow to a remote machine. To this end, we first start the covalent server on our local machine `covalent start` and configure the ssh plugin with the remote server's connection information.\n",
    "\n",
    "After we start the local covalent server, we can check its status at `localhost:9001`"
   ]
  },
  {
   "cell_type": "code",
   "execution_count": 1,
   "metadata": {},
   "outputs": [],
   "source": [
    "import covalent as ct\n",
    "from covalent.executor import SSHExecutor"
   ]
  },
  {
   "cell_type": "markdown",
   "metadata": {},
   "source": []
  }
 ],
 "metadata": {
  "interpreter": {
   "hash": "2af1d44d031705f45348c0bdbea47c70bd592b2fe0f3b5a86fd13ef32f901f2f"
  },
  "kernelspec": {
   "display_name": "Python 3.8.13 ('cova-ssh')",
   "language": "python",
   "name": "python3"
  },
  "language_info": {
   "codemirror_mode": {
    "name": "ipython",
    "version": 3
   },
   "file_extension": ".py",
   "mimetype": "text/x-python",
   "name": "python",
   "nbconvert_exporter": "python",
   "pygments_lexer": "ipython3",
   "version": "3.8.13"
  },
  "orig_nbformat": 4
 },
 "nbformat": 4,
 "nbformat_minor": 2
}
