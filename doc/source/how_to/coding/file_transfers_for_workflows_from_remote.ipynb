{
 "cells": [
  {
   "cell_type": "markdown",
   "id": "5120ef0f-8510-4ad7-a0ea-2e306aec0064",
   "metadata": {
    "tags": []
   },
   "source": [
    "## Transferring Files to and from an S3 Bucket\n",
    "\n",
    "Retrieve a file from a remote host's filesystem before executing a workflow using Rsync via SSH.\n",
    "\n",
    "### Prerequisites\n",
    "\n",
    "1. Define the read (source) file path. \n",
    "2. Create a source file to transfer."
   ]
  },
  {
   "cell_type": "code",
   "execution_count": 1,
   "id": "a20575c4",
   "metadata": {},
   "outputs": [],
   "source": [
    "import covalent as ct \n",
    "\n",
    "from pathlib import Path\n",
    "\n",
    "# define source & destination filepaths \n",
    "source_filepath = Path('./my_source_file').resolve()\n",
    "\n",
    "# create an example file\n",
    "source_filepath.touch()"
   ]
  },
  {
   "cell_type": "markdown",
   "id": "57700440",
   "metadata": {},
   "source": [
    "### Procedure\n",
    "\n",
    "Transfer a file from an S3 bucket to a local filesystem using the boto3 library. \n",
    "\n",
    "In the following example a zip file is downloaded from an S3 bucket before electron execution. The electron processes the files, then the processed files are uploaded back to the S3 bucket.\n",
    "\n",
    "1. Define two Covalent `FileTransfer` objects and a Covalent `S3` strategy object:"
   ]
  },
  {
   "cell_type": "code",
   "execution_count": 2,
   "id": "052ed080",
   "metadata": {},
   "outputs": [],
   "source": [
    "import covalent as ct\n",
    "import zipfile\n",
    "import os\n",
    "\n",
    "strategy = ct.fs_strategies.S3()\n",
    "\n",
    "ft_2 = ct.fs.FileTransfer('/home/ubuntu/tmp-dir/images.zip','s3://covalent-tmp/images.zip',strategy = strategy,order=ct.fs.Order.AFTER)\n",
    "ft_1 = ct.fs.FileTransfer('s3://covalent-tmp/test_vids.zip','/home/ubuntu/tmp-dir/test_vids.zip',strategy = strategy)\n"
   ]
  },
  {
   "cell_type": "markdown",
   "id": "0a213bf5",
   "metadata": {},
   "source": [
    "2. Define an electron to:\n",
    "    1. Download a zip file from S3\n",
    "    2. Unzip the file\n",
    "    3. Perform some processing on the contents (omitted here as irrelevant to the demo)\n",
    "    4. Zip the files\n",
    "    5. Upload the zip file to S3:"
   ]
  },
  {
   "cell_type": "code",
   "execution_count": 3,
   "id": "4519a791",
   "metadata": {},
   "outputs": [
    {
     "name": "stdout",
     "output_type": "stream",
     "text": [
      "[2023-07-25 15:52:15,882] [DEBUG] s3_strategy.py: Line 57 in download: Is dir: False\n",
      "[2023-07-25 15:52:15,883] [DEBUG] s3_strategy.py: Line 66 in download: S3 download bucket: covalent-tmp, from_filepath: test_vids.zip, to_filepath /home/ubuntu/tmp-dir/test_vids.zip.\n",
      "[2023-07-25 15:52:15,884] [DEBUG] s3_strategy.py: Line 133 in upload: S3 upload bucket: covalent-tmp, from_filepath: /home/ubuntu/tmp-dir/images.zip, to_filepath images.zip.\n"
     ]
    }
   ],
   "source": [
    "@ct.electron(files = [ft_1,ft_2])\n",
    "def unzip_zip(files=[]):\n",
    "    path = \"/home/ubuntu/tmp-dir\"\n",
    "    # Unzip downloaded data\n",
    "    with zipfile.ZipFile(path + \"/test_vids.zip\", 'r') as zip_ref:\n",
    "        zip_ref.extractall(path)\n",
    "        \n",
    "    # Perform operations on the files\n",
    "    # ...\n",
    "    \n",
    "    # Zip files to upload    \n",
    "    with zipfile.ZipFile(path + \"/images.zip\",  'w', zipfile.ZIP_DEFLATED) as ziph:\n",
    "        for root, dirs, files in os.walk(path + '/test_vids'):\n",
    "            for file in files:\n",
    "                ziph.write(os.path.join(root, file), \n",
    "                           os.path.relpath(os.path.join(root, file), \n",
    "                                           os.path.join(path, '..')))"
   ]
  },
  {
   "cell_type": "markdown",
   "id": "f05a5759",
   "metadata": {},
   "source": [
    "3. Create and dispatch a lattice to run the electron:"
   ]
  },
  {
   "cell_type": "code",
   "execution_count": 4,
   "id": "1c2d3589",
   "metadata": {},
   "outputs": [],
   "source": [
    "@ct.lattice\n",
    "def run_electrons():\n",
    "    return unzip_zip()\n",
    "\n",
    "dispatch_id = ct.dispatch(run_electrons)()"
   ]
  },
  {
   "cell_type": "markdown",
   "id": "eea96bae",
   "metadata": {},
   "source": [
    "Notes:\n",
    "- This example illustrates a typical pattern in which files are downloaded from remote storage, are processed, and the results are uploaded to the same remote storage. Other scenarios can of course be implemented with the Covalent components illustrated here (`FileTransfer`, `FileTransferStrategy`, `@electron`).\n",
    "- The example puts everything in one electron. For a real-world scenario of any complexity, a better practice would be to break the task into small sub-tasks, each in its own electron."
   ]
  },
  {
   "cell_type": "markdown",
   "id": "244061a2",
   "metadata": {},
   "source": [
    "### See Also\n",
    "\n",
    "[Transferring Local Files During Workflows](./file_transfers_for_workflows_local.ipynb)\n",
    "\n",
    "[Transferring Remote Files After a Workflow](./file_transfers_for_workflows_to_remote.ipynb)"
   ]
  }
 ],
 "metadata": {
  "kernelspec": {
   "display_name": "Python 3 (ipykernel)",
   "language": "python",
   "name": "python3"
  },
  "language_info": {
   "codemirror_mode": {
    "name": "ipython",
    "version": 3
   },
   "file_extension": ".py",
   "mimetype": "text/x-python",
   "name": "python",
   "nbconvert_exporter": "python",
   "pygments_lexer": "ipython3",
   "version": "3.8.13"
  },
  "vscode": {
   "interpreter": {
    "hash": ""
   }
  }
 },
 "nbformat": 4,
 "nbformat_minor": 5
}
