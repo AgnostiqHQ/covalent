{
 "cells": [
  {
   "cell_type": "markdown",
   "metadata": {},
   "source": [
    "## Adding Electrons to a Lattice\n",
    "\n",
    "[Construct a workflow](./construct_lattice.ipynb) by creating a function and attaching the Covalent `@lattice` decorator. Then, within the function, use [electrons](./construct_electron.ipynb) to do all the computational work. \n",
    "\n",
    "### Prerequisites\n",
    "\n",
    "Decide what overall computation your workflow is designed to do. Then, have an idea of how to break the computation into subtasks that will be computed by electrons.\n",
    "\n",
    "### Procedure\n",
    "\n",
    "1. Write an electron to do each basic calculation in your workflow."
   ]
  },
  {
   "cell_type": "code",
   "execution_count": 1,
   "metadata": {},
   "outputs": [],
   "source": [
    "import covalent as ct\n",
    "\n",
    "@ct.electron\n",
    "def sum(x, y):\n",
    "    return x\n",
    "\n",
    "@ct.electron\n",
    "def square(x):\n",
    "    return x * x"
   ]
  },
  {
   "attachments": {},
   "cell_type": "markdown",
   "metadata": {},
   "source": [
    "2. Compose the lattice function from these electrons. Avoid manipulating any data directly in the lattice outside of electron functions. \n",
    "\n",
    "  If you're starting with a script or experiment and are converting it to run in Covalent, you'll essentially have to reverse the process. If the workflow is especially complex, you might need to break it into subordinate workflows ([sublattices](../execution/execute_sublattice.ipynb))."
   ]
  },
  {
   "cell_type": "code",
   "execution_count": 2,
   "metadata": {},
   "outputs": [],
   "source": [
    "@ct.lattice\n",
    "def sum_of_squares_wf(a, b):\n",
    "    x2 = square(x=a)\n",
    "    y2 = square(y=b)\n",
    "    return sum(x=x2, y=y2)"
   ]
  },
  {
   "cell_type": "markdown",
   "metadata": {},
   "source": [
    "Of course, this is a simplified example. You might have to work through several iterations to lay out a sequence of electrons that does what you want.\n",
    "\n",
    "Avoid the temptation to write computations directly in the lattice. The more granular you make the computations in the electrons, the more flexibility the Covalent dispatcher has to efficiently parallelize the computations."
   ]
  },
  {
   "attachments": {},
   "cell_type": "markdown",
   "metadata": {},
   "source": [
    "### See Also\n",
    "\n",
    "[Constructing an Electron](./construct_electron.ipynb)\n",
    "\n",
    "[Constructing a Lattice](./construct_lattice.ipynb)\n",
    "\n",
    "[Executing a Sublattice](../execution/execute_sublattice.ipynb)"
   ]
  }
 ],
 "metadata": {
  "kernelspec": {
   "display_name": "Python 3 (ipykernel)",
   "language": "python",
   "name": "python3"
  },
  "language_info": {
   "codemirror_mode": {
    "name": "ipython",
    "version": 3
   },
   "file_extension": ".py",
   "mimetype": "text/x-python",
   "name": "python",
   "nbconvert_exporter": "python",
   "pygments_lexer": "ipython3",
   "version": "3.9.13"
  }
 },
 "nbformat": 4,
 "nbformat_minor": 4
}
