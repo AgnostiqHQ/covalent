{
 "cells": [
  {
   "cell_type": "markdown",
   "id": "5120ef0f-8510-4ad7-a0ea-2e306aec0064",
   "metadata": {
    "tags": []
   },
   "source": [
    "## Transferring Files to and from an S3 Bucket\n",
    "\n",
    "Retrieve files from an S3 bucket before executing a task, and upload files to an S3 bucket after a task, using the `boto3` library.\n",
    "\n",
    "### Prerequisites\n",
    "\n",
    "1. Define the read (source) file path. \n",
    "2. Create a source file to transfer."
   ]
  },
  {
   "cell_type": "code",
   "execution_count": null,
   "id": "a20575c4",
   "metadata": {},
   "outputs": [],
   "source": [
    "import covalent as ct \n",
    "\n",
    "from pathlib import Path\n",
    "\n",
    "# Define source and destination filepaths\n",
    "source_filepath = Path('./my_source_file').resolve()\n",
    "\n",
    "# Create an example file\n",
    "source_filepath.touch()"
   ]
  },
  {
   "cell_type": "markdown",
   "id": "57700440",
   "metadata": {},
   "source": [
    "### Procedure\n",
    "\n",
    "Transfer a file from an S3 bucket to a local filesystem using the boto3 library. \n",
    "\n",
    "In the following example a zip file is downloaded from an S3 bucket before electron execution. The electron processes the file's contents, then the processed files are uploaded back to the S3 bucket.\n",
    "\n",
    "1. Define two Covalent `FileTransfer` objects and a Covalent `S3` strategy object:"
   ]
  },
  {
   "cell_type": "code",
   "execution_count": null,
   "id": "052ed080",
   "metadata": {},
   "outputs": [],
   "source": [
    "import covalent as ct\n",
    "import zipfile\n",
    "import os\n",
    "\n",
    "strategy = ct.fs_strategies.S3()\n",
    "\n",
    "ft_1 = ct.fs.FileTransfer('s3://covalent-tmp/test_vids.zip','/home/ubuntu/tmp-dir/test_vids.zip',strategy = strategy)\n",
    "ft_2 = ct.fs.FileTransfer('/home/ubuntu/tmp-dir/images.zip','s3://covalent-tmp/images.zip',strategy = strategy,order=ct.fs.Order.AFTER)\n"
   ]
  },
  {
   "cell_type": "markdown",
   "id": "0a213bf5",
   "metadata": {},
   "source": [
    "2. Define an electron to:\n",
    "    1. Download and unzip the zip file from S3;\n",
    "    2. Unzip the file;\n",
    "    3. Perform some processing on the contents;\n",
    "    4. Zip the files; and\n",
    "    5. Upload the zip file to S3."
   ]
  },
  {
   "cell_type": "code",
   "execution_count": null,
   "id": "4519a791",
   "metadata": {},
   "outputs": [],
   "source": [
    "@ct.electron(files = [ft_1,ft_2]) # ft_1 is done before the electron is executed and ft_2 after.\n",
    "def unzip_zip(files=None):\n",
    "    path = \"/home/ubuntu/tmp-dir\"\n",
    "    # Unzip the downloaded data\n",
    "    with zipfile.ZipFile(f\"{path}/test_vids.zip\", 'r') as zip_ref:\n",
    "        zip_ref.extractall(path)\n",
    "\n",
    "    # Perform operations on the files.\n",
    "    # (In a real-world workflow, these operations would be the purpose of this electron.\n",
    "    # They are omitted for the file transfer demonstration.)\n",
    "\n",
    "    # Zip files to upload\n",
    "    with zipfile.ZipFile(f\"{path}/images.zip\", 'w', zipfile.ZIP_DEFLATED) as ziph:\n",
    "        for root, dirs, files in os.walk(f'{path}/test_vids'):\n",
    "            for file in files:\n",
    "                ziph.write(os.path.join(root, file), \n",
    "                           os.path.relpath(os.path.join(root, file), \n",
    "                                           os.path.join(path, '..')))"
   ]
  },
  {
   "cell_type": "markdown",
   "id": "f05a5759",
   "metadata": {},
   "source": [
    "3. Create and dispatch a lattice to run the electron:"
   ]
  },
  {
   "cell_type": "code",
   "execution_count": null,
   "id": "1c2d3589",
   "metadata": {},
   "outputs": [],
   "source": [
    "@ct.lattice\n",
    "def process_s3_data():\n",
    "    return unzip_zip()\n",
    "\n",
    "dispatch_id = ct.dispatch(process_s3_data)()"
   ]
  },
  {
   "cell_type": "markdown",
   "id": "eea96bae",
   "metadata": {},
   "source": [
    "Notes:\n",
    "- This example illustrates a typical pattern in which files are downloaded from remote storage, are processed, and the results are uploaded to the same remote storage. Other scenarios can of course be implemented with the Covalent components illustrated here (`FileTransfer`, `FileTransferStrategy`, `@electron`).\n",
    "- The example puts everything in one electron (file download, processing, file upload). For a real-world scenario of any complexity, a better practice would be to break the task into small sub-tasks, each in its own electron."
   ]
  },
  {
   "cell_type": "markdown",
   "id": "244061a2",
   "metadata": {},
   "source": [
    "### See Also\n",
    "\n",
    "[Transferring Local Files During Workflows](./file_transfers_for_workflows_local.ipynb)\n",
    "\n",
    "[Transferring Remote Files During Workflows](./file_transfers_to_remote.ipynb)"
   ]
  }
 ],
 "metadata": {
  "kernelspec": {
   "display_name": "cova",
   "language": "python",
   "name": "python3"
  },
  "language_info": {
   "codemirror_mode": {
    "name": "ipython",
    "version": 3
   },
   "file_extension": ".py",
   "mimetype": "text/x-python",
   "name": "python",
   "nbconvert_exporter": "python",
   "pygments_lexer": "ipython3",
   "version": "3.8.15"
  },
  "vscode": {
   "interpreter": {
    "hash": "bc46502ba46b416dacb76460388e15e75b05e952c208e57c8294206d4336b33a"
   }
  }
 },
 "nbformat": 4,
 "nbformat_minor": 5
}
