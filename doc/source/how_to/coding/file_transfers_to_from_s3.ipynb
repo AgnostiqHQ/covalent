{
 "cells": [
  {
   "attachments": {},
   "cell_type": "markdown",
   "id": "5120ef0f-8510-4ad7-a0ea-2e306aec0064",
   "metadata": {
    "tags": []
   },
   "source": [
    "## Transferring Files to and from an S3 Bucket\n",
    "\n",
    "Retrieve files from an S3 bucket before executing a task, and upload files to an S3 bucket after a task, using the `boto3` library."
   ]
  },
  {
   "attachments": {},
   "cell_type": "markdown",
   "id": "57700440",
   "metadata": {},
   "source": [
    "### Procedure\n",
    "\n",
    "Transfer a file from an S3 bucket to the local filesystem using the boto3 library. \n",
    "\n",
    "In the following example a zip file is downloaded from an S3 bucket before electron execution. The electron processes the file's contents, then the processed files are uploaded back to the S3 bucket.\n",
    "\n",
    "1. Define two Covalent `FileTransfer` objects and a Covalent `S3` strategy object:"
   ]
  },
  {
   "cell_type": "code",
   "execution_count": 1,
   "id": "052ed080",
   "metadata": {},
   "outputs": [],
   "source": [
    "import covalent as ct\n",
    "from typing import List, Tuple\n",
    "from pathlib import Path\n",
    "from skimage import io, color\n",
    "\n",
    "strategy = ct.fs_strategies.S3()\n",
    "\n",
    "unprocessed_filename = \"unprocessed_file.png\"\n",
    "processed_filename = \"processed_file.png\"\n",
    "\n",
    "unprocessed_filepath = str(Path(unprocessed_filename).resolve())\n",
    "processed_filepath = str(Path(processed_filename).resolve())\n",
    "\n",
    "\n",
    "s3_source_path = f\"s3://covalent-howto-tmp/remote_{unprocessed_filename}\"\n",
    "s3_dest_path = f\"s3://covalent-howto-tmp/remote_{processed_filename}\"\n",
    "\n",
    "ft_1 = ct.fs.FileTransfer(s3_source_path, unprocessed_filepath, strategy=strategy)\n",
    "ft_2 = ct.fs.FileTransfer(processed_filepath, s3_dest_path, strategy=strategy, order=ct.fs.Order.AFTER)\n"
   ]
  },
  {
   "attachments": {},
   "cell_type": "markdown",
   "id": "0a213bf5",
   "metadata": {},
   "source": [
    "2. Define an electron to:\n",
    "    1. Download the unprocessed file from S3\n",
    "    2. Perform some processing on the contents\n",
    "    3. Upload the processed file to S3"
   ]
  },
  {
   "attachments": {},
   "cell_type": "markdown",
   "id": "cff1491b",
   "metadata": {},
   "source": [
    "Now, let's say you'd like to access the file paths inside the electron as shown below. You can do so by using the \"files\" keyword argument. Covalent will inject the source/destination filepaths of the `FileTransfer` objects passed to the `electron` in to the `files` argument. In this case, the `files` variable will look something like this:\n",
    "```python\n",
    "[('/remote_unprocessed_file.png', '/path/to/current/dir/unprocessed_file.png'), ('/path/to/current/dir/processed_file.png', '/remote_processed_file.png')]\n",
    "```\n",
    "The format of each tuple is `(<source-path>, <destination-path>)`. The name of the S3 bucket is omitted within the electron because a) for security reasons as bucket names are globally unique, b) since we've already mentioned it once at definition time, covalent should automatically take care of it without user's involvement"
   ]
  },
  {
   "cell_type": "code",
   "execution_count": 2,
   "id": "4519a791",
   "metadata": {},
   "outputs": [],
   "source": [
    "@ct.electron(files=[ft_1, ft_2]) # ft_1 is done before the electron is executed and ft_2 after.\n",
    "def to_grayscale(files: List[Tuple[str]] = None):\n",
    "\n",
    "    # Get the downloaded file's path\n",
    "    image_path = files[0][1] # destination filepath of first file transfer, which has been downloaded\n",
    "    \n",
    "    # Convert the image to grayscale\n",
    "    img = io.imread(image_path)[:, :, :3] # limiting image to 3 channels\n",
    "    gray_img = color.rgb2gray(img)\n",
    "\n",
    "    # Save the grayscale image to the to-be-uploaded file's path\n",
    "    gray_image_path = files[1][0] # source filepath of second file transfer, which will be uploaded\n",
    "    io.imsave(gray_image_path, gray_img)\n"
   ]
  },
  {
   "cell_type": "markdown",
   "id": "f05a5759",
   "metadata": {},
   "source": [
    "3. Create and dispatch a lattice to run the electron:"
   ]
  },
  {
   "cell_type": "code",
   "execution_count": 3,
   "id": "1c2d3589",
   "metadata": {},
   "outputs": [
    {
     "name": "stdout",
     "output_type": "stream",
     "text": [
      "\n",
      "Lattice Result\n",
      "==============\n",
      "status: COMPLETED\n",
      "result: None\n",
      "input args: []\n",
      "input kwargs: {}\n",
      "error: None\n",
      "\n",
      "start_time: 2023-02-22 07:23:14.389188\n",
      "end_time: 2023-02-22 07:23:16.403313\n",
      "\n",
      "results_dir: /home/neptune/.local/share/covalent/data\n",
      "dispatch_id: 232331bb-f693-401a-b860-ccca8c946f99\n",
      "\n",
      "Node Outputs\n",
      "------------\n",
      "to_grayscale(0): None\n",
      "\n"
     ]
    }
   ],
   "source": [
    "@ct.lattice\n",
    "def process_s3_data():\n",
    "    return to_grayscale()\n",
    "\n",
    "dispatch_id = ct.dispatch(process_s3_data)()\n",
    "result = ct.get_result(dispatch_id, wait=True)\n",
    "print(result)"
   ]
  },
  {
   "attachments": {},
   "cell_type": "markdown",
   "id": "eea96bae",
   "metadata": {},
   "source": [
    "Notes:\n",
    "- This example illustrates a typical pattern in which files are downloaded from remote storage, are processed, and the results are uploaded to the same remote storage. Other scenarios can of course be implemented with the Covalent components illustrated here (`FileTransfer`, `FileTransferStrategy`, `@electron`).\n",
    "- The example puts everything in one electron (file download, processing, file upload). For a real-world scenario of any complexity, a better practice would be to break the task into small sub-tasks, each in its own electron."
   ]
  },
  {
   "cell_type": "markdown",
   "id": "244061a2",
   "metadata": {},
   "source": [
    "### See Also\n",
    "\n",
    "[Transferring Local Files During Workflows](./file_transfers_for_workflows_local.ipynb)\n",
    "\n",
    "[Transferring Remote Files During Workflows](./file_transfers_to_remote.ipynb)"
   ]
  },
  {
   "cell_type": "code",
   "execution_count": null,
   "id": "e403b71f",
   "metadata": {},
   "outputs": [],
   "source": []
  }
 ],
 "metadata": {
  "kernelspec": {
   "display_name": "cova",
   "language": "python",
   "name": "python3"
  },
  "language_info": {
   "codemirror_mode": {
    "name": "ipython",
    "version": 3
   },
   "file_extension": ".py",
   "mimetype": "text/x-python",
   "name": "python",
   "nbconvert_exporter": "python",
   "pygments_lexer": "ipython3",
   "version": "3.8.15"
  },
  "vscode": {
   "interpreter": {
    "hash": "bc46502ba46b416dacb76460388e15e75b05e952c208e57c8294206d4336b33a"
   }
  }
 },
 "nbformat": 4,
 "nbformat_minor": 5
}
