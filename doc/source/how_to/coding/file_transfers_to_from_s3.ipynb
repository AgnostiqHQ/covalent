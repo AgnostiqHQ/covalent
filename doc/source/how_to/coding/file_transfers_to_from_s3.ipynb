{
 "cells": [
  {
   "attachments": {},
   "cell_type": "markdown",
   "id": "5120ef0f-8510-4ad7-a0ea-2e306aec0064",
   "metadata": {
    "tags": []
   },
   "source": [
    "## Transferring Files to and from an S3 Bucket\n",
    "\n",
    "Retrieve files from an S3 bucket before executing a task, and upload files to an S3 bucket after a task, using the `boto3` library."
   ]
  },
  {
   "attachments": {},
   "cell_type": "markdown",
   "id": "57700440",
   "metadata": {},
   "source": [
    "### Procedure\n",
    "\n",
    "Transfer a file from an S3 bucket to the local filesystem using the boto3 library. \n",
    "\n",
    "In the following example a zip file is downloaded from an S3 bucket before electron execution. The electron processes the file's contents, then the processed files are uploaded back to the S3 bucket.\n",
    "\n",
    "1. Define two Covalent `FileTransfer` objects and a Covalent `S3` strategy object:"
   ]
  },
  {
   "cell_type": "code",
   "execution_count": null,
   "id": "052ed080",
   "metadata": {},
   "outputs": [],
   "source": [
    "import covalent as ct\n",
    "from typing import List\n",
    "from pathlib import Path\n",
    "from skimage import io, color\n",
    "\n",
    "strategy = ct.fs_strategies.S3()\n",
    "\n",
    "unprocessed_filepath = \"unprocessed_file.png\"\n",
    "processed_filepath = \"processed_file.png\"\n",
    "\n",
    "s3_source_path = f\"s3://covalent-tmp/{unprocessed_filepath}\"\n",
    "s3_dest_path = f\"s3://covalent-tmp/{processed_filepath}\"\n",
    "\n",
    "ft_1 = ct.fs.FileTransfer(s3_source_path, unprocessed_filepath, strategy=strategy)\n",
    "ft_2 = ct.fs.FileTransfer(processed_filepath, s3_dest_path, strategy=strategy, order=ct.fs.Order.AFTER)\n"
   ]
  },
  {
   "attachments": {},
   "cell_type": "markdown",
   "id": "0a213bf5",
   "metadata": {},
   "source": [
    "2. Define an electron to:\n",
    "    1. Download the unprocessed file from S3\n",
    "    2. Perform some processing on the contents\n",
    "    3. Upload the processed file to S3"
   ]
  },
  {
   "cell_type": "code",
   "execution_count": null,
   "id": "4519a791",
   "metadata": {},
   "outputs": [],
   "source": [
    "@ct.electron(files=[ft_1, ft_2]) # ft_1 is done before the electron is executed and ft_2 after.\n",
    "def to_grayscale(files: List[ct.fs.FileTransfer] = None):\n",
    "    \n",
    "    # Get the downloaded file's path\n",
    "    image_path = files[0].to_file\n",
    "    \n",
    "    # Convert the image to grayscale\n",
    "    img = io.imread(image_path)\n",
    "    gray_img = color.rgb2gray(img)\n",
    "\n",
    "    # Save the grayscale image to the to-be-uploaded file's path\n",
    "    io.imsave(files[1].from_file, gray_img)\n"
   ]
  },
  {
   "cell_type": "markdown",
   "id": "f05a5759",
   "metadata": {},
   "source": [
    "3. Create and dispatch a lattice to run the electron:"
   ]
  },
  {
   "cell_type": "code",
   "execution_count": null,
   "id": "1c2d3589",
   "metadata": {},
   "outputs": [],
   "source": [
    "@ct.lattice\n",
    "def process_s3_data():\n",
    "    return to_grayscale()\n",
    "\n",
    "dispatch_id = ct.dispatch(process_s3_data)()"
   ]
  },
  {
   "attachments": {},
   "cell_type": "markdown",
   "id": "eea96bae",
   "metadata": {},
   "source": [
    "Notes:\n",
    "- This example illustrates a typical pattern in which files are downloaded from remote storage, are processed, and the results are uploaded to the same remote storage. Other scenarios can of course be implemented with the Covalent components illustrated here (`FileTransfer`, `FileTransferStrategy`, `@electron`).\n",
    "- The example puts everything in one electron (file download, processing, file upload). For a real-world scenario of any complexity, a better practice would be to break the task into small sub-tasks, each in its own electron."
   ]
  },
  {
   "cell_type": "markdown",
   "id": "244061a2",
   "metadata": {},
   "source": [
    "### See Also\n",
    "\n",
    "[Transferring Local Files During Workflows](./file_transfers_for_workflows_local.ipynb)\n",
    "\n",
    "[Transferring Remote Files During Workflows](./file_transfers_to_remote.ipynb)"
   ]
  },
  {
   "cell_type": "code",
   "execution_count": null,
   "id": "e403b71f",
   "metadata": {},
   "outputs": [],
   "source": []
  }
 ],
 "metadata": {
  "kernelspec": {
   "display_name": "cova",
   "language": "python",
   "name": "python3"
  },
  "language_info": {
   "codemirror_mode": {
    "name": "ipython",
    "version": 3
   },
   "file_extension": ".py",
   "mimetype": "text/x-python",
   "name": "python",
   "nbconvert_exporter": "python",
   "pygments_lexer": "ipython3",
   "version": "3.8.15"
  },
  "vscode": {
   "interpreter": {
    "hash": "bc46502ba46b416dacb76460388e15e75b05e952c208e57c8294206d4336b33a"
   }
  }
 },
 "nbformat": 4,
 "nbformat_minor": 5
}
