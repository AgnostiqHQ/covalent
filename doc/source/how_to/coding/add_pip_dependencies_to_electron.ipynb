{
 "cells": [
  {
   "cell_type": "markdown",
   "id": "233c84f6",
   "metadata": {},
   "source": [
    "## Adding Pip Dependencies to an Electron\n",
    "\n",
    "There are three ways to declare Pip package dependencies to an electron.\n",
    "\n",
    "1. Assign the dependencies directly in the Covalent `DepsPip` class.\n",
    "2. Specify a requirements file containing the dependencies.\n",
    "3. Use the electron's `call_before()` and `call_after()` hooks.\n",
    "\n",
    "All three methods are illustrated below.\n",
    "\n",
    "### Prerequisites\n",
    "\n",
    "Import `covalent` and the packages required by the electron."
   ]
  },
  {
   "cell_type": "code",
   "execution_count": 21,
   "id": "5b50cb81",
   "metadata": {},
   "outputs": [],
   "source": [
    "import covalent as ct\n",
    "import numpy"
   ]
  },
  {
   "cell_type": "markdown",
   "id": "fb5ead5c",
   "metadata": {},
   "source": [
    "### Procedure\n",
    "\n",
    "#### Using the DepsPip Class\n",
    "\n",
    "1. Assign the dependencies directly in the `DepsPip` class."
   ]
  },
  {
   "cell_type": "code",
   "execution_count": 22,
   "id": "3c7f8d9c",
   "metadata": {},
   "outputs": [],
   "source": [
    "deps_numpy = ct.DepsPip(packages=[\"numpy==1.22.4\"])"
   ]
  },
  {
   "cell_type": "markdown",
   "id": "29c54bf2",
   "metadata": {},
   "source": [
    "2. Assign the `ct.DepsPip` object to the electron in the decorator:"
   ]
  },
  {
   "cell_type": "code",
   "execution_count": 23,
   "id": "84dc23dc",
   "metadata": {},
   "outputs": [],
   "source": [
    "@ct.electron(\n",
    "    deps_pip=deps_numpy,\n",
    ")\n",
    "def get_result():\n",
    "    matrix = numpy.identity(3)\n",
    "    return numpy.sum(matrix)\n",
    "\n",
    "@ct.lattice\n",
    "def workflow():\n",
    "    return get_result()"
   ]
  },
  {
   "cell_type": "markdown",
   "id": "8b4260cf",
   "metadata": {},
   "source": [
    "3. Dispatch the workflow containing the electron as usual:"
   ]
  },
  {
   "cell_type": "code",
   "execution_count": 24,
   "id": "858feca3",
   "metadata": {},
   "outputs": [
    {
     "name": "stdout",
     "output_type": "stream",
     "text": [
      "3.0\n"
     ]
    }
   ],
   "source": [
    "dispatch_id = ct.dispatch(workflow)()\n",
    "res = ct.get_result(dispatch_id, wait=True)\n",
    "print(res.result)"
   ]
  },
  {
   "cell_type": "markdown",
   "id": "b8baba2c",
   "metadata": {},
   "source": [
    "#### Specifying a Requirements File\n",
    "\n",
    "1. Create a file containing the requirement."
   ]
  },
  {
   "cell_type": "code",
   "execution_count": 25,
   "id": "4f4b3677",
   "metadata": {},
   "outputs": [],
   "source": [
    "import os\n",
    "with open('requirements_example.txt', 'w') as f:\n",
    "    f.write('numpy==1.22.4')\n",
    "f.close()"
   ]
  },
  {
   "cell_type": "markdown",
   "id": "839de860",
   "metadata": {},
   "source": [
    "2. Pass the file path to the `DepsPip` class:"
   ]
  },
  {
   "cell_type": "code",
   "execution_count": 26,
   "id": "6b821dfb",
   "metadata": {},
   "outputs": [],
   "source": [
    "deps_pip = ct.DepsPip(reqs_path=\"./requirements_example.txt\")"
   ]
  },
  {
   "cell_type": "markdown",
   "id": "7388d52d",
   "metadata": {},
   "source": [
    "2. As before, assign the `ct.DepsPip` object to the electron in the decorator:"
   ]
  },
  {
   "cell_type": "code",
   "execution_count": null,
   "id": "c3e2a2bd",
   "metadata": {},
   "outputs": [],
   "source": [
    "@ct.electron(\n",
    "    deps_pip=deps_pip,\n",
    ")\n",
    "def get_result():\n",
    "    matrix = numpy.identity(3)\n",
    "    return numpy.sum(matrix)\n",
    "\n",
    "@ct.lattice\n",
    "def workflow():\n",
    "    return get_result()"
   ]
  },
  {
   "cell_type": "markdown",
   "id": "c2c67481",
   "metadata": {},
   "source": [
    "3. As before, dispatch the workflow:"
   ]
  },
  {
   "cell_type": "code",
   "execution_count": 28,
   "id": "b53029bd",
   "metadata": {},
   "outputs": [
    {
     "name": "stdout",
     "output_type": "stream",
     "text": [
      "3.0\n"
     ]
    }
   ],
   "source": [
    "dispatch_id = ct.dispatch(workflow)()\n",
    "r = ct.get_result(dispatch_id, wait=True)\n",
    "print(r.result)"
   ]
  },
  {
   "cell_type": "markdown",
   "id": "ceb586e7",
   "metadata": {},
   "source": [
    "#### Using call_before() and call_after()\n",
    "\n",
    "You can also add the dependencies as call_before & call_after hooks on electrons by assigning a `DepsPip` object to the hook: "
   ]
  },
  {
   "cell_type": "code",
   "execution_count": null,
   "id": "884ecd28",
   "metadata": {},
   "outputs": [],
   "source": [
    "@ct.electron(\n",
    "    call_before = [ct.DepsPip(packages=[\"numpy==1.22.4\"])],\n",
    "    call_after = [ct.DepsPip(packages=[\"networkx==2.5\"])]\n",
    ")\n",
    "def my_task():\n",
    "    pass"
   ]
  },
  {
   "cell_type": "markdown",
   "id": "80f49077",
   "metadata": {},
   "source": [
    "Then proceed as before."
   ]
  }
 ],
 "metadata": {
  "kernelspec": {
   "display_name": "Python 3 (ipykernel)",
   "language": "python",
   "name": "python3"
  },
  "language_info": {
   "codemirror_mode": {
    "name": "ipython",
    "version": 3
   },
   "file_extension": ".py",
   "mimetype": "text/x-python",
   "name": "python",
   "nbconvert_exporter": "python",
   "pygments_lexer": "ipython3",
   "version": "3.9.13"
  },
  "vscode": {
   "interpreter": {
    "hash": ""
   }
  }
 },
 "nbformat": 4,
 "nbformat_minor": 5
}
