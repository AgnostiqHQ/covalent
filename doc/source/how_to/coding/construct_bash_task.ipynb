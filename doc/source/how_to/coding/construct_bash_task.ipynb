{
 "cells": [
  {
   "attachments": {},
   "cell_type": "markdown",
   "id": "6f2d2d00",
   "metadata": {},
   "source": [
    "## Constructing Tasks from Bash Scripts\n",
    "\n",
    "Run a Bash script from within a workflow.\n",
    "\n",
    "### Prerequisites\n",
    "\n",
    "Import `covalent`."
   ]
  },
  {
   "cell_type": "code",
   "execution_count": 1,
   "id": "dfd92956",
   "metadata": {},
   "outputs": [],
   "source": [
    "import covalent as ct"
   ]
  },
  {
   "attachments": {},
   "cell_type": "markdown",
   "id": "1d2edbbd",
   "metadata": {},
   "source": [
    "Now let's invoke a generic Bash command instead. As an example, we'll return the product of two numbers from a function in bash. More advanced users may wish to invoke a Makefile or a build command for software on a remote backend machine."
   ]
  },
  {
   "cell_type": "code",
   "execution_count": 2,
   "id": "4bc5c91b",
   "metadata": {},
   "outputs": [],
   "source": [
    "task = ct.Lepton(\n",
    "    language=\"bash\",\n",
    "    command=\"product=$(({num_1} * {num_2}))\",\n",
    "    argtypes=[\n",
    "        (int, ct.Lepton.INPUT_OUTPUT),\n",
    "        (int, ct.Lepton.INPUT_OUTPUT),\n",
    "        (int, ct.Lepton.OUTPUT)\n",
    "    ],\n",
    "    named_outputs=[\"num_1\", \"num_2\", \"product\"]\n",
    ")"
   ]
  },
  {
   "attachments": {},
   "cell_type": "markdown",
   "id": "ccc5ed1d",
   "metadata": {},
   "source": [
    "Run the task and print the result:"
   ]
  },
  {
   "cell_type": "code",
   "execution_count": 3,
   "id": "83bb70a2",
   "metadata": {},
   "outputs": [
    {
     "name": "stdout",
     "output_type": "stream",
     "text": [
      "(7, 8, 56)\n"
     ]
    }
   ],
   "source": [
    "@ct.lattice\n",
    "def bash_multiply_workflow(**kwargs) -> str:\n",
    "    return task(**kwargs)\n",
    "\n",
    "result = ct.dispatch_sync(bash_multiply_workflow)(num_1=7, num_2=8).result\n",
    "print(result)"
   ]
  },
  {
   "attachments": {},
   "cell_type": "markdown",
   "id": "19fa4760",
   "metadata": {},
   "source": [
    "This results from executing the command `product=$((7 * 8))`, the values were replaced during execution to the ones that were passed, namely `num_1` and `num_2`. Afterwards the `product` variable was returned as mentioned in `named_outputs`.\n",
    "\n",
    "The `named_outputs` parameter tells Covalent the environment variables from which to read the script output. We must also specify the corresponding types in the `argtypes` when constructing the Lepton. In this example, we declare that the `num_1`, `num_2`, and the `product` variables are to be interpreted as integers."
   ]
  }
 ],
 "metadata": {
  "kernelspec": {
   "display_name": "cova",
   "language": "python",
   "name": "python3"
  },
  "language_info": {
   "codemirror_mode": {
    "name": "ipython",
    "version": 3
   },
   "file_extension": ".py",
   "mimetype": "text/x-python",
   "name": "python",
   "nbconvert_exporter": "python",
   "pygments_lexer": "ipython3",
   "version": "3.8.15"
  },
  "vscode": {
   "interpreter": {
    "hash": "bc46502ba46b416dacb76460388e15e75b05e952c208e57c8294206d4336b33a"
   }
  }
 },
 "nbformat": 4,
 "nbformat_minor": 5
}
