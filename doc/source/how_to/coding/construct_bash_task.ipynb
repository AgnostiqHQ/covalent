{
 "cells": [
  {
   "attachments": {},
   "cell_type": "markdown",
   "id": "6f2d2d00",
   "metadata": {},
   "source": [
    "## Constructing Tasks from Bash Scripts\n",
    "\n",
    "Run a Bash script from within a workflow.\n",
    "\n",
    "### Prerequisites\n",
    "\n",
    "Import `covalent`."
   ]
  },
  {
   "cell_type": "code",
   "execution_count": 1,
   "id": "dfd92956",
   "metadata": {},
   "outputs": [],
   "source": [
    "import covalent as ct"
   ]
  },
  {
   "attachments": {},
   "cell_type": "markdown",
   "id": "1d2edbbd",
   "metadata": {},
   "source": [
    "Now let's invoke a generic Bash command instead. As an example, we'll return the current version of the gcc compiler. More advanced users may wish to invoke a Makefile or a build command for software on a remote backend machine."
   ]
  },
  {
   "cell_type": "code",
   "execution_count": null,
   "id": "4bc5c91b",
   "metadata": {},
   "outputs": [],
   "source": [
    "task = ct.Lepton(\n",
    "    language=\"bash\",\n",
    "    command=\"version=`{CPP} --version | awk 'NR==1 {{print $3}}'` \\\n",
    "        && IFS=. read major minor patch <<< $version \\\n",
    "    \",\n",
    "    argtypes=[\n",
    "        (str, ct.Lepton.INPUT_OUTPUT),\n",
    "        (int, ct.Lepton.OUTPUT),\n",
    "        (int, ct.Lepton.OUTPUT),\n",
    "        (int, ct.Lepton.OUTPUT)\n",
    "    ],\n",
    "    named_outputs=[\"CPP\", \"major\", \"minor\", \"patch\"]\n",
    ")"
   ]
  },
  {
   "attachments": {},
   "cell_type": "markdown",
   "id": "ccc5ed1d",
   "metadata": {},
   "source": [
    "Run the task and print the result:"
   ]
  },
  {
   "cell_type": "code",
   "execution_count": null,
   "id": "83bb70a2",
   "metadata": {},
   "outputs": [],
   "source": [
    "@ct.lattice\n",
    "def version_workflow(**kwargs) -> str:\n",
    "    return task(**kwargs)\n",
    "\n",
    "result = ct.dispatch_sync(version_workflow)(CPP=\"gcc\").result\n",
    "print(result)"
   ]
  },
  {
   "attachments": {},
   "cell_type": "markdown",
   "id": "19fa4760",
   "metadata": {},
   "source": [
    "This results from parsing the output of `gcc --version`,  which on my system returns\n",
    "\n",
    "```\n",
    "gcc (GCC) 11.2.1 20220127 (Red Hat 11.2.1-9)\n",
    "Copyright (C) 2021 Free Software Foundation, Inc.\n",
    "This is free software; see the source for copying conditions.  There is NO\n",
    "warranty; not even for MERCHANTABILITY or FITNESS FOR A PARTICULAR PURPOSE.\n",
    "```\n",
    "The `named_outputs` parameter tells Covalent the environment variables from which to read the script output. We must also specify the corresponding types in the `argtypes` array when constructing the Lepton. In this example, the gcc major version, minor version, and patch version are saved to the `read`, `minor`, and `patch` env variables respectively, and each is to be interpreted as a Python `int`."
   ]
  },
  {
   "cell_type": "markdown",
   "id": "d2dbd215",
   "metadata": {},
   "source": []
  }
 ],
 "metadata": {
  "kernelspec": {
   "display_name": "cova",
   "language": "python",
   "name": "python3"
  },
  "language_info": {
   "codemirror_mode": {
    "name": "ipython",
    "version": 3
   },
   "file_extension": ".py",
   "mimetype": "text/x-python",
   "name": "python",
   "nbconvert_exporter": "python",
   "pygments_lexer": "ipython3",
   "version": "3.8.15"
  },
  "vscode": {
   "interpreter": {
    "hash": "bc46502ba46b416dacb76460388e15e75b05e952c208e57c8294206d4336b33a"
   }
  }
 },
 "nbformat": 4,
 "nbformat_minor": 5
}
