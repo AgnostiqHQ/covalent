{
    "cells": [
     {
      "attachments": {},
      "cell_type": "markdown",
      "metadata": {},
      "source": [
       "# How to add a time trigger to a lattice\n",
       "In this guide we'll illustrate how to use a `TimeTrigger` to trigger workflow runs automatically every x seconds.\n",
       "\n",
       "Let's first import the required parts:"
      ]
     },
     {
      "cell_type": "code",
      "execution_count": 1,
      "metadata": {},
      "outputs": [],
      "source": [
       "import covalent as ct\n",
       "from covalent.triggers import TimeTrigger"
      ]
     },
     {
      "attachments": {},
      "cell_type": "markdown",
      "metadata": {},
      "source": [
       "Now, let's create our `TimeTrigger` object which performs a trigger action every 5 seconds."
      ]
     },
     {
      "cell_type": "code",
      "execution_count": 2,
      "metadata": {},
      "outputs": [],
      "source": [
       "time_trigger = TimeTrigger(time_gap=5)"
      ]
     },
     {
      "attachments": {},
      "cell_type": "markdown",
      "metadata": {},
      "source": [
       "Let's create a simple workflow now:"
      ]
     },
     {
      "cell_type": "code",
      "execution_count": 3,
      "metadata": {},
      "outputs": [],
      "source": [
       "@ct.lattice\n",
       "@ct.electron\n",
       "def my_workflow():\n",
       "    return 42"
      ]
     },
     {
      "attachments": {},
      "cell_type": "markdown",
      "metadata": {},
      "source": [
       "Once we've made sure that the covalent server is running, we can perform the dispatch for `my_workflow` as such, but this time we will be disabling the execution of this lattice for the first time using `disable_run` parameter in `ct.dispatch`:"
      ]
     },
     {
      "cell_type": "code",
      "execution_count": 4,
      "metadata": {},
      "outputs": [
       {
        "name": "stdout",
        "output_type": "stream",
        "text": [
         "372930b7-f81a-4e91-9302-236de8a0a9c0\n"
        ]
       }
      ],
      "source": [
       "dispatch_id = ct.dispatch(my_workflow, disable_run=True)()\n",
       "print(dispatch_id)"
      ]
     },
     {
      "attachments": {},
      "cell_type": "markdown",
      "metadata": {},
      "source": [
       "Now let's attach that trigger to this `dispatch_id` and register it with the triggers server."
      ]
     },
     {
      "cell_type": "code",
      "execution_count": 5,
      "metadata": {},
      "outputs": [],
      "source": [
       "time_trigger.lattice_dispatch_id = dispatch_id\n",
       "time_trigger.register()"
      ]
     },
     {
      "attachments": {},
      "cell_type": "markdown",
      "metadata": {},
      "source": [
       "And that's it, as you can see this was another way of attaching triggers to a workflow, which is slightly different than how we did in the `DirTrigger` How To Guide.\n",
       "\n",
       "Also, now if you check the UI you'll see that a new `my_workflow` gets dispatched every 5 seconds.\n",
       "If we want to stop that after a while, we can use the `ct.stop_triggers` function:"
      ]
     },
     {
      "cell_type": "code",
      "execution_count": 6,
      "metadata": {},
      "outputs": [
       {
        "name": "stdout",
        "output_type": "stream",
        "text": [
         "Triggers for following dispatch_ids have stopped observing:\n",
         "372930b7-f81a-4e91-9302-236de8a0a9c0\n"
        ]
       }
      ],
      "source": [
       "ct.stop_triggers(dispatch_id)"
      ]
     },
     {
      "attachments": {},
      "cell_type": "markdown",
      "metadata": {},
      "source": [
       "The above will prevent any new dispatches from happening due to the trigger action on `my_workflow` lattice."
      ]
     }
    ],
    "metadata": {
     "kernelspec": {
      "display_name": "triggers",
      "language": "python",
      "name": "python3"
     },
     "language_info": {
      "codemirror_mode": {
       "name": "ipython",
       "version": 3
      },
      "file_extension": ".py",
      "mimetype": "text/x-python",
      "name": "python",
      "nbconvert_exporter": "python",
      "pygments_lexer": "ipython3",
      "version": "3.9.15 (main, Nov 24 2022, 14:31:59) \n[GCC 11.2.0]"
     },
     "orig_nbformat": 4,
     "vscode": {
      "interpreter": {
       "hash": "ffe78875ce1aa6161f50f6a6dec2555e7255bbdb44cc39b93c0dfc1daa8da522"
      }
     }
    },
    "nbformat": 4,
    "nbformat_minor": 2
   }
