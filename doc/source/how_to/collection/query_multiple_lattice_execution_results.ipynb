{
 "cells": [
  {
   "cell_type": "markdown",
   "metadata": {},
   "source": [
    "## Querying Multiple Workflows (Lattices)\n",
    "\n",
    "### Prerequisites\n",
    "\n",
    "Construct mutliple workflows:"
   ]
  },
  {
   "cell_type": "code",
   "execution_count": 1,
   "metadata": {},
   "outputs": [],
   "source": [
    "import covalent as ct\n",
    "\n",
    "@ct.electron\n",
    "def identity(x):\n",
    "    return x\n",
    "\n",
    "@ct.electron\n",
    "def square(x):\n",
    "    return x * x\n",
    "\n",
    "@ct.lattice\n",
    "def workflow(a):\n",
    "    val_1 = identity(x=a)\n",
    "    return square(x=val_1)\n",
    "\n",
    "\n"
   ]
  },
  {
   "cell_type": "markdown",
   "metadata": {},
   "source": [
    "1. Dispatch the workflows, keeping track of the dispatch IDs to enable retrieval of the results:"
   ]
  },
  {
   "cell_type": "code",
   "execution_count": 2,
   "metadata": {},
   "outputs": [
    {
     "name": "stdout",
     "output_type": "stream",
     "text": [
      "['f327a211-696e-4388-b662-03c22e763049', '6c516b9e-2dd7-45bd-9020-40f9ae88066a', '33ceb8c9-19df-4a42-9e6f-911cd642854b', '5c628c7c-c15e-4853-aef0-2663e10e93d2']\n"
     ]
    }
   ],
   "source": [
    "params = [1, 2, 3, 4]\n",
    "dispatch_ids = [ct.dispatch(workflow)(a=param) for param in params]\n",
    "\n",
    "print(dispatch_ids)"
   ]
  },
  {
   "cell_type": "markdown",
   "metadata": {},
   "source": [
    "2. Query and retrieve the workflow results corresponding to the dispatch IDs:"
   ]
  },
  {
   "cell_type": "code",
   "execution_count": 3,
   "metadata": {},
   "outputs": [
    {
     "name": "stdout",
     "output_type": "stream",
     "text": [
      "['f327a211-696e-4388-b662-03c22e763049', '6c516b9e-2dd7-45bd-9020-40f9ae88066a', '33ceb8c9-19df-4a42-9e6f-911cd642854b', '5c628c7c-c15e-4853-aef0-2663e10e93d2']\n"
     ]
    }
   ],
   "source": [
    "results = []\n",
    "\n",
    "for dispatch_id in dispatch_ids:\n",
    "    result = ct.get_result(dispatch_id=dispatch_id, wait=True)\n",
    "    results.append(result)\n",
    "    \n",
    "    \n",
    "print(dispatch_ids)   # For demo purposes; not necessary"
   ]
  },
  {
   "cell_type": "markdown",
   "metadata": {},
   "source": [
    "3. Use the `print()` method to see the results of individual workflows:"
   ]
  },
  {
   "cell_type": "code",
   "execution_count": 7,
   "metadata": {},
   "outputs": [
    {
     "name": "stdout",
     "output_type": "stream",
     "text": [
      "\n",
      "Lattice Result\n",
      "==============\n",
      "status: COMPLETED\n",
      "result: 1\n",
      "input args: []\n",
      "input kwargs: {'a': '1'}\n",
      "error: None\n",
      "\n",
      "start_time: 2023-01-02 22:05:23.179538\n",
      "end_time: 2023-01-02 22:05:23.642004\n",
      "\n",
      "results_dir: /Users/mini-me/agnostiq/covalent/doc/source/how_to/collection/results\n",
      "dispatch_id: f327a211-696e-4388-b662-03c22e763049\n",
      "\n",
      "Node Outputs\n",
      "------------\n",
      "identity(0): 1\n",
      ":parameter:1(1): 1\n",
      "square(2): 1\n",
      "\n",
      "\n",
      "Lattice Result\n",
      "==============\n",
      "status: COMPLETED\n",
      "result: 4\n",
      "input args: []\n",
      "input kwargs: {'a': '2'}\n",
      "error: None\n",
      "\n",
      "start_time: 2023-01-02 22:05:23.206580\n",
      "end_time: 2023-01-02 22:05:23.650099\n",
      "\n",
      "results_dir: /Users/mini-me/agnostiq/covalent/doc/source/how_to/collection/results\n",
      "dispatch_id: 6c516b9e-2dd7-45bd-9020-40f9ae88066a\n",
      "\n",
      "Node Outputs\n",
      "------------\n",
      "identity(0): 2\n",
      ":parameter:2(1): 2\n",
      "square(2): 4\n",
      "\n",
      "\n",
      "Lattice Result\n",
      "==============\n",
      "status: COMPLETED\n",
      "result: 9\n",
      "input args: []\n",
      "input kwargs: {'a': '3'}\n",
      "error: None\n",
      "\n",
      "start_time: 2023-01-02 22:05:23.240569\n",
      "end_time: 2023-01-02 22:05:23.666306\n",
      "\n",
      "results_dir: /Users/mini-me/agnostiq/covalent/doc/source/how_to/collection/results\n",
      "dispatch_id: 33ceb8c9-19df-4a42-9e6f-911cd642854b\n",
      "\n",
      "Node Outputs\n",
      "------------\n",
      "identity(0): 3\n",
      ":parameter:3(1): 3\n",
      "square(2): 9\n",
      "\n",
      "\n",
      "Lattice Result\n",
      "==============\n",
      "status: COMPLETED\n",
      "result: 16\n",
      "input args: []\n",
      "input kwargs: {'a': '4'}\n",
      "error: None\n",
      "\n",
      "start_time: 2023-01-02 22:05:23.289672\n",
      "end_time: 2023-01-02 22:05:23.758877\n",
      "\n",
      "results_dir: /Users/mini-me/agnostiq/covalent/doc/source/how_to/collection/results\n",
      "dispatch_id: 5c628c7c-c15e-4853-aef0-2663e10e93d2\n",
      "\n",
      "Node Outputs\n",
      "------------\n",
      "identity(0): 4\n",
      ":parameter:4(1): 4\n",
      "square(2): 16\n",
      "\n"
     ]
    }
   ],
   "source": [
    "for i in (params):\n",
    "    print(results[i-1])"
   ]
  },
  {
   "cell_type": "markdown",
   "metadata": {},
   "source": [
    "### See Also\n",
    "\n"
   ]
  }
 ],
 "metadata": {
  "interpreter": {
   "hash": "f63e7985caea997504032bc67ebf6b6ff07db5420026db9c4de4a9a029ce747c"
  },
  "kernelspec": {
   "display_name": "Python 3 (ipykernel)",
   "language": "python",
   "name": "python3"
  },
  "language_info": {
   "codemirror_mode": {
    "name": "ipython",
    "version": 3
   },
   "file_extension": ".py",
   "mimetype": "text/x-python",
   "name": "python",
   "nbconvert_exporter": "python",
   "pygments_lexer": "ipython3",
   "version": "3.9.13"
  }
 },
 "nbformat": 4,
 "nbformat_minor": 4
}
