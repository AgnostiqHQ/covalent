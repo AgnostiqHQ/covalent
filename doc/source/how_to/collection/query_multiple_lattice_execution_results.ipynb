{
 "cells": [
  {
   "cell_type": "markdown",
   "metadata": {},
   "source": [
    "## How to query multiple lattice execution results\n",
    "\n",
    "Firstly, we construct and dispatch mutliple workflows. \n",
    "\n",
    ".. tip:: Keep track of the dispatch ids in order to be able to retrieve the results at a later time."
   ]
  },
  {
   "cell_type": "code",
   "execution_count": 1,
   "metadata": {},
   "outputs": [
    {
     "name": "stdout",
     "output_type": "stream",
     "text": [
      "['0fc1a80c-ff5f-4c66-881e-adecad89a955', '4e48fc76-ffd6-4646-ab23-67755638fdf1', 'b6ce761c-9a95-4420-adfc-284d78b260c4', 'fdfac11b-14f4-4b67-ab05-eec8b89233c1']\n"
     ]
    }
   ],
   "source": [
    "import covalent as ct\n",
    "\n",
    "@ct.electron\n",
    "def identity(x):\n",
    "    return x\n",
    "\n",
    "@ct.electron\n",
    "def square(x):\n",
    "    return x * x\n",
    "\n",
    "@ct.lattice\n",
    "def workflow(a):\n",
    "    val_1 = identity(x=a)\n",
    "    return square(x=val_1)\n",
    "\n",
    "\n",
    "params = [1, 2, 3, 4]\n",
    "dispatch_ids = [ct.dispatch(workflow)(a=param) for param in params]\n",
    "\n",
    "print(dispatch_ids)"
   ]
  },
  {
   "cell_type": "markdown",
   "metadata": {},
   "source": [
    "Lastly, we can query and retrieve the workflow results corresponding to the dispatch ids as follows."
   ]
  },
  {
   "cell_type": "code",
   "execution_count": 2,
   "metadata": {},
   "outputs": [],
   "source": [
    "results = []\n",
    "\n",
    "for dispatch_id in dispatch_ids:\n",
    "    result = ct.get_result(dispatch_id=dispatch_id, wait=True)\n",
    "    results.append(result)"
   ]
  },
  {
   "cell_type": "markdown",
   "metadata": {},
   "source": [
    ".. tip:: We can also use the `print()` method to see the results."
   ]
  },
  {
   "cell_type": "code",
   "execution_count": 3,
   "metadata": {},
   "outputs": [
    {
     "name": "stdout",
     "output_type": "stream",
     "text": [
      "\n",
      "Lattice Result\n",
      "==============\n",
      "status: COMPLETED\n",
      "result: 1\n",
      "inputs: {'a': 1}\n",
      "error: None\n",
      "\n",
      "start_time: 2022-01-23 00:57:20.181555+00:00\n",
      "end_time: 2022-01-23 00:57:20.223643+00:00\n",
      "\n",
      "results_dir: /tmp/results\n",
      "dispatch_id: 0fc1a80c-ff5f-4c66-881e-adecad89a955\n",
      "\n",
      "Node Outputs\n",
      "------------\n",
      "identity(0): 1\n",
      ":parameter:1(1): 1\n",
      "square(2): 1\n",
      "\n"
     ]
    }
   ],
   "source": [
    "print(results[1])"
   ]
  },
  {
   "cell_type": "code",
   "execution_count": null,
   "metadata": {},
   "outputs": [],
   "source": []
  }
 ],
 "metadata": {
  "interpreter": {
   "hash": "f63e7985caea997504032bc67ebf6b6ff07db5420026db9c4de4a9a029ce747c"
  },
  "kernelspec": {
   "display_name": "python3",
   "language": "python",
   "name": "python3"
  },
  "language_info": {
   "codemirror_mode": {
    "name": "ipython",
    "version": 3
   },
   "file_extension": ".py",
   "mimetype": "text/x-python",
   "name": "python",
   "nbconvert_exporter": "python",
   "pygments_lexer": "ipython3",
   "version": "3.8.8"
  }
 },
 "nbformat": 4,
 "nbformat_minor": 4
}
