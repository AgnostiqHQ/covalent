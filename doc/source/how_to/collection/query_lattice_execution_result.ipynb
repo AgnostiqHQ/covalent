{
 "cells": [
  {
   "cell_type": "markdown",
   "metadata": {},
   "source": [
    "## Querying the Result of a Workflow (Lattice)\n",
    "\n",
    "\n",
    "### Prerequisites\n",
    "\n",
    "Define and dispatch a lattice: "
   ]
  },
  {
   "cell_type": "code",
   "execution_count": 1,
   "metadata": {},
   "outputs": [],
   "source": [
    "import covalent as ct\n",
    "import time\n",
    "\n",
    "@ct.electron\n",
    "def add(x, y):\n",
    "    time.sleep(1)\n",
    "    return x + y\n",
    "\n",
    "@ct.electron\n",
    "def multiply(x, y):\n",
    "    return x * y\n",
    "\n",
    "@ct.lattice\n",
    "def workflow(x, y):\n",
    "    res_1 = add(x=x, y=y)\n",
    "    return multiply(x=res_1, y=y)\n",
    "\n",
    "dispatch_id = ct.dispatch(workflow)(x=2, y=3)"
   ]
  },
  {
   "cell_type": "markdown",
   "metadata": {},
   "source": [
    "1. Retrieve the dispatch result object using `ct.get_result`. Set the `wait` parameter to `True` so that the Covalent server waits until the dispatch finishes before retrieving the result:"
   ]
  },
  {
   "cell_type": "code",
   "execution_count": 2,
   "metadata": {},
   "outputs": [],
   "source": [
    "result = ct.get_result(dispatch_id=dispatch_id, wait=True)"
   ]
  },
  {
   "cell_type": "markdown",
   "metadata": {},
   "source": [
    "2. Print the following attributes of the result object:"
   ]
  },
  {
   "cell_type": "code",
   "execution_count": 3,
   "metadata": {},
   "outputs": [
    {
     "name": "stdout",
     "output_type": "stream",
     "text": [
      "Workflow execution status: COMPLETED\n",
      "Result: 15\n",
      "Inputs: {'args': [], 'kwargs': {'x': <covalent.TransportableObject object at 0x110f442b0>, 'y': <covalent.TransportableObject object at 0x110f445e0>}}\n",
      "Execution start time: 2023-01-02 21:27:04.830838\n",
      "Execution end time: 2023-01-02 21:27:06.130988\n"
     ]
    }
   ],
   "source": [
    "print(f\"Workflow execution status: {result.status}\")\n",
    "print(f\"Result: {result.result}\")\n",
    "print(f\"Inputs: {result.inputs}\")\n",
    "print(f\"Execution start time: {result.start_time}\")\n",
    "print(f\"Execution end time: {result.end_time}\")"
   ]
  },
  {
   "cell_type": "markdown",
   "metadata": {},
   "source": [
    "### See Also\n",
    "\n"
   ]
  }
 ],
 "metadata": {
  "interpreter": {
   "hash": "f63e7985caea997504032bc67ebf6b6ff07db5420026db9c4de4a9a029ce747c"
  },
  "kernelspec": {
   "display_name": "Python 3 (ipykernel)",
   "language": "python",
   "name": "python3"
  },
  "language_info": {
   "codemirror_mode": {
    "name": "ipython",
    "version": 3
   },
   "file_extension": ".py",
   "mimetype": "text/x-python",
   "name": "python",
   "nbconvert_exporter": "python",
   "pygments_lexer": "ipython3",
   "version": "3.9.13"
  }
 },
 "nbformat": 4,
 "nbformat_minor": 4
}
