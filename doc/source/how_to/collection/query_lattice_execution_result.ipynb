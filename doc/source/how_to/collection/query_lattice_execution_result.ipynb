{
 "cells": [
  {
   "cell_type": "markdown",
   "metadata": {},
   "source": [
    "## How to query the lattice execution result\n",
    "\n",
    "Firstly, define a workflow using the `lattice` decorator. "
   ]
  },
  {
   "cell_type": "code",
   "execution_count": 1,
   "metadata": {},
   "outputs": [],
   "source": [
    "import covalent as ct\n",
    "import time\n",
    "\n",
    "@ct.electron\n",
    "def add(x, y):\n",
    "    time.sleep(1)\n",
    "    return x + y\n",
    "\n",
    "@ct.electron\n",
    "def multiply(x, y):\n",
    "    return x * y\n",
    "\n",
    "@ct.lattice\n",
    "def workflow(x, y):\n",
    "    res_1 = add(x=x, y=y)\n",
    "    return multiply(x=res_1, y=y)"
   ]
  },
  {
   "cell_type": "markdown",
   "metadata": {},
   "source": [
    "Secondly, dispatch the workflow and retrieve the result using `ct.get_result`.\n",
    "\n",
    ".. note:: Setting the `wait` variable to `True` makes sure that the result is retrieved once all the subtask nodes have finished executing."
   ]
  },
  {
   "cell_type": "code",
   "execution_count": 2,
   "metadata": {},
   "outputs": [],
   "source": [
    "dispatch_id = ct.dispatch(workflow)(x=2, y=3)\n",
    "result = ct.get_result(dispatch_id=dispatch_id, wait=True)"
   ]
  },
  {
   "cell_type": "markdown",
   "metadata": {},
   "source": [
    "The various attributes of the result can be accessed as shown below."
   ]
  },
  {
   "cell_type": "code",
   "execution_count": 3,
   "metadata": {},
   "outputs": [
    {
     "name": "stdout",
     "output_type": "stream",
     "text": [
      "workflow execution status: COMPLETED\n",
      "result: 15\n",
      "inputs: {'x': 2, 'y': 3}\n",
      "execution start time: 2022-01-23 00:57:00.966220+00:00\n",
      "execution end time: 2022-01-23 00:57:02.033366+00:00\n"
     ]
    }
   ],
   "source": [
    "print(f\"workflow execution status: {result.status}\")\n",
    "print(f\"result: {result.result}\")\n",
    "print(f\"inputs: {result.inputs}\")\n",
    "print(f\"execution start time: {result.start_time}\")\n",
    "print(f\"execution end time: {result.end_time}\")"
   ]
  }
 ],
 "metadata": {
  "interpreter": {
   "hash": "f63e7985caea997504032bc67ebf6b6ff07db5420026db9c4de4a9a029ce747c"
  },
  "kernelspec": {
   "display_name": "python3",
   "language": "python",
   "name": "python3"
  },
  "language_info": {
   "codemirror_mode": {
    "name": "ipython",
    "version": 3
   },
   "file_extension": ".py",
   "mimetype": "text/x-python",
   "name": "python",
   "nbconvert_exporter": "python",
   "pygments_lexer": "ipython3",
   "version": "3.8.8"
  }
 },
 "nbformat": 4,
 "nbformat_minor": 4
}
