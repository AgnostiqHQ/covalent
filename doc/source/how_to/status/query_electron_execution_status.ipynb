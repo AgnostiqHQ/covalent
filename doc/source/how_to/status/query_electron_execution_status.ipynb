{
 "cells": [
  {
   "cell_type": "markdown",
   "metadata": {},
   "source": [
    "## How to query electron execution status\n",
    "\n",
    "Let us first define a workflow comprised of subtasks. Adding subtasks to workflows is discussed in greater detail in [How to add electrons to lattices](../orchestration/add_electron_to_lattice.ipynb)."
   ]
  },
  {
   "cell_type": "code",
   "execution_count": 1,
   "metadata": {},
   "outputs": [],
   "source": [
    "import covalent as ct\n",
    "\n",
    "import time\n",
    "\n",
    "RESULTS_DIR = \"/tmp/results/\"\n",
    "\n",
    "@ct.electron\n",
    "def add(x, y):\n",
    "    time.sleep(2)\n",
    "    return x + y\n",
    "\n",
    "@ct.electron\n",
    "def multiply(x, y):\n",
    "    return x * y\n",
    "\n",
    "@ct.lattice(    \n",
    "    results_dir=RESULTS_DIR\n",
    ")\n",
    "def workflow(x, y):\n",
    "    res_1 = add(x=x, y=y)\n",
    "    return multiply(x=res_1, y=y)"
   ]
  },
  {
   "cell_type": "markdown",
   "metadata": {},
   "source": [
    "Then we visualize the plots (described in [How to visualize lattices](../orchestration/visualize_lattice.ipynb)) to find out the node ids for the electrons / subtasks. "
   ]
  },
  {
   "cell_type": "code",
   "execution_count": 2,
   "metadata": {},
   "outputs": [
    {
     "data": {
      "image/png": "[encoded data removed]",
      "text/plain": [
       "<Figure size 288x288 with 1 Axes>"
      ]
     },
     "metadata": {},
     "output_type": "display_data"
    }
   ],
   "source": [
    "import matplotlib.pyplot as plt\n",
    "\n",
    "fig, ax = plt.subplots(figsize=(4, 4))\n",
    "\n",
    "# It is important to include the parameter name and the value\n",
    "workflow.draw(ax=ax, x=1, y=2)\n",
    "plt.show()"
   ]
  },
  {
   "cell_type": "markdown",
   "metadata": {},
   "source": [
    "Once the lattice has been constructed and dispatched (as shown below), we can query the status of individual subtask execution status using the node ids from the lattice visualization."
   ]
  },
  {
   "cell_type": "code",
   "execution_count": 3,
   "metadata": {},
   "outputs": [],
   "source": [
    "dispatch_id = ct.dispatch(workflow)(x=1, y=2)"
   ]
  },
  {
   "cell_type": "markdown",
   "metadata": {},
   "source": [
    ".. tip:: Once workflows have been dispatched to the server and the dispatch ids are stored, the user can then query the results later using `ct.get_result`."
   ]
  },
  {
   "cell_type": "code",
   "execution_count": 4,
   "metadata": {},
   "outputs": [
    {
     "data": {
      "text/plain": [
       "Status(STATUS='RUNNING')"
      ]
     },
     "execution_count": 4,
     "metadata": {},
     "output_type": "execute_result"
    }
   ],
   "source": [
    "result = ct.get_result(dispatch_id=dispatch_id, results_dir=RESULTS_DIR, wait=False)\n",
    "result.get_node_result(node_id=0)['status']"
   ]
  },
  {
   "cell_type": "markdown",
   "metadata": {},
   "source": [
    "Once we query the nodes being executed, we have access to the execution status via the `status` field which take the values `RUNNING` OR `COMPLETED`. "
   ]
  },
  {
   "cell_type": "markdown",
   "metadata": {},
   "source": [
    ".. tip: Retrieve result before querying individual node execution status."
   ]
  }
 ],
 "metadata": {
  "kernelspec": {
   "display_name": "python3",
   "language": "python",
   "name": "python3"
  },
  "language_info": {
   "codemirror_mode": {
    "name": "ipython",
    "version": 3
   },
   "file_extension": ".py",
   "mimetype": "text/x-python",
   "name": "python",
   "nbconvert_exporter": "python",
   "pygments_lexer": "ipython3",
   "version": "3.8.8"
  }
 },
 "nbformat": 4,
 "nbformat_minor": 4
}
