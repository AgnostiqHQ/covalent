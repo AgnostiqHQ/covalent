{
 "cells": [
  {
   "cell_type": "markdown",
   "id": "2bd6c1d8",
   "metadata": {},
   "source": [
    "## How to construct a lepton\n",
    "\n",
    "An lepton is a generalization of an electron (task). These are used instead of electrons when the task definition lives somewhere else, such as a Python module or a compiled C library.  They are particularly useful for workflows comprised of tasks in a variety of languages. In this example we demonstrate how to construct a Lepton provided a task definition in a Python module."
   ]
  },
  {
   "cell_type": "code",
   "execution_count": 1,
   "id": "0b6d963d",
   "metadata": {},
   "outputs": [],
   "source": [
    "import covalent as ct\n",
    "import os"
   ]
  },
  {
   "cell_type": "markdown",
   "id": "7bbbac07",
   "metadata": {},
   "source": [
    "First create an example module:"
   ]
  },
  {
   "cell_type": "code",
   "execution_count": 2,
   "id": "f9d80c4e",
   "metadata": {},
   "outputs": [],
   "source": [
    "test_module = \"\"\"\n",
    "def entrypoint(x: int, y: int) -> int:\n",
    "    return x + y\n",
    "\"\"\"\n",
    "\n",
    "with open(\"test_module.py\", \"w\") as f:\n",
    "    f.write(test_module)"
   ]
  },
  {
   "cell_type": "markdown",
   "id": "5e07c88d",
   "metadata": {},
   "source": [
    "Create the lepton object:"
   ]
  },
  {
   "cell_type": "code",
   "execution_count": 3,
   "id": "e4419fdd",
   "metadata": {},
   "outputs": [],
   "source": [
    "library_path = os.path.join(os.getcwd(),\"test_module\")\n",
    "task = ct.Lepton(\n",
    "    language = \"python\",\n",
    "    library_name = library_path,\n",
    "    function_name = \"entrypoint\",\n",
    ")"
   ]
  },
  {
   "cell_type": "markdown",
   "id": "489e84ec",
   "metadata": {},
   "source": [
    "The task definition can now be used in a workflow as if it were an `electron` object:"
   ]
  },
  {
   "cell_type": "code",
   "execution_count": 4,
   "id": "17a96356",
   "metadata": {},
   "outputs": [],
   "source": [
    "@ct.lattice\n",
    "def workflow(x: int) -> int:\n",
    "    return task(x, 1)"
   ]
  },
  {
   "cell_type": "code",
   "execution_count": 5,
   "id": "da2d1e66",
   "metadata": {},
   "outputs": [
    {
     "name": "stdout",
     "output_type": "stream",
     "text": [
      "\n",
      "Lattice Result\n",
      "==============\n",
      "status: COMPLETED\n",
      "result: 3\n",
      "inputs: {'args': [2], 'kwargs': {}}\n",
      "error: None\n",
      "\n",
      "start_time: 2022-03-02 04:09:54.939862+00:00\n",
      "end_time: 2022-03-02 04:09:54.968830+00:00\n",
      "\n",
      "results_dir: /home/user/covalent/results\n",
      "dispatch_id: 4716fced-5aa6-4375-8208-ecaf13bca2ac\n",
      "\n",
      "Node Outputs\n",
      "------------\n",
      "entrypoint(0): 3\n",
      ":parameter:2(1): 2\n",
      ":parameter:1(2): 1\n",
      "\n"
     ]
    }
   ],
   "source": [
    "result = ct.dispatch_sync(workflow)(2)\n",
    "print(result)"
   ]
  }
 ],
 "metadata": {
  "kernelspec": {
   "display_name": "python3",
   "language": "python",
   "name": "python3"
  },
  "language_info": {
   "codemirror_mode": {
    "name": "ipython",
    "version": 3
   },
   "file_extension": ".py",
   "mimetype": "text/x-python",
   "name": "python",
   "nbconvert_exporter": "python",
   "pygments_lexer": "ipython3",
   "version": "3.9.7"
  }
 },
 "nbformat": 4,
 "nbformat_minor": 5
}
