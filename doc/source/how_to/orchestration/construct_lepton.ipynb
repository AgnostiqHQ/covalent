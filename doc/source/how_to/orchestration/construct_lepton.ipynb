{
 "cells": [
  {
   "cell_type": "markdown",
   "id": "2bd6c1d8",
   "metadata": {},
   "source": [
    "## How to construct a lepton\n",
    "\n",
    "An lepton is a generalization of an electron (task). These are used instead of electrons when the task definition lives somewhere else, such as a Python module or a compiled C library.  They are particularly useful for workflows comprised of tasks in a variety of languages. In this example we demonstrate how to construct a Lepton provided a task definition in a Python module."
   ]
  },
  {
   "cell_type": "code",
   "execution_count": null,
   "id": "0b6d963d",
   "metadata": {},
   "outputs": [],
   "source": [
    "import covalent as ct"
   ]
  },
  {
   "cell_type": "markdown",
   "id": "7bbbac07",
   "metadata": {},
   "source": [
    "First create an example module:"
   ]
  },
  {
   "cell_type": "code",
   "execution_count": null,
   "id": "f9d80c4e",
   "metadata": {},
   "outputs": [],
   "source": [
    "test_module = \"\"\"\n",
    "def entrypoint(x: int, y: int) -> int:\n",
    "    return x + y\n",
    "\"\"\"\n",
    "\n",
    "with open(\"test_module.py\", \"w\") as f:\n",
    "    f.write(test_module)"
   ]
  },
  {
   "cell_type": "markdown",
   "id": "5e07c88d",
   "metadata": {},
   "source": [
    "Create the lepton object:"
   ]
  },
  {
   "cell_type": "code",
   "execution_count": null,
   "id": "e4419fdd",
   "metadata": {},
   "outputs": [],
   "source": [
    "task = ct.Lepton(\n",
    "    \"python\",\n",
    "    \"test_module\",\n",
    "    \"entrypoint\"\n",
    ")"
   ]
  },
  {
   "cell_type": "markdown",
   "id": "489e84ec",
   "metadata": {},
   "source": [
    "The task definition can now be used in a workflow as if it were an `electron` object:"
   ]
  },
  {
   "cell_type": "code",
   "execution_count": null,
   "id": "17a96356",
   "metadata": {},
   "outputs": [],
   "source": [
    "@ct.lattice\n",
    "def workflow(x: int) -> int:\n",
    "    return task(x)"
   ]
  }
 ],
 "metadata": {
  "kernelspec": {
   "display_name": "Python 3 (ipykernel)",
   "language": "python",
   "name": "python3"
  },
  "language_info": {
   "codemirror_mode": {
    "name": "ipython",
    "version": 3
   },
   "file_extension": ".py",
   "mimetype": "text/x-python",
   "name": "python",
   "nbconvert_exporter": "python",
   "pygments_lexer": "ipython3",
   "version": "3.9.7"
  }
 },
 "nbformat": 4,
 "nbformat_minor": 5
}
