{
 "cells": [
  {
   "cell_type": "markdown",
   "id": "2bd6c1d8",
   "metadata": {},
   "source": [
    "## How to construct a lepton\n",
    "\n",
    "An lepton is a generalization of an electron (task). These are used instead of electrons when the task definition lives somewhere else, such as a Python module or a compiled C library.  They are particularly useful for workflows comprised of tasks in a variety of languages. In this example we demonstrate how to construct a Lepton provided a task definition in a Python module."
   ]
  },
  {
   "cell_type": "code",
   "execution_count": 1,
   "id": "0b6d963d",
   "metadata": {},
   "outputs": [],
   "source": [
    "import covalent as ct\n",
    "import os"
   ]
  },
  {
   "cell_type": "markdown",
   "id": "7bbbac07",
   "metadata": {},
   "source": [
    "First create an example module:"
   ]
  },
  {
   "cell_type": "code",
   "execution_count": 2,
   "id": "f9d80c4e",
   "metadata": {},
   "outputs": [],
   "source": [
    "test_module = \"\"\"\n",
    "def entrypoint(x: int, y: int) -> int:\n",
    "    return x + y\n",
    "\"\"\"\n",
    "\n",
    "with open(\"test_module.py\", \"w\") as f:\n",
    "    f.write(test_module)"
   ]
  },
  {
   "cell_type": "markdown",
   "id": "ad285598-b9ea-46e9-9ab5-3d56ba5653df",
   "metadata": {},
   "source": [
    "To let the Python interpreter find `test_module`, we need to append its enclosing directory to `sys.path` just before running the task. This can be accomplished with a [call dependency](https://covalent.readthedocs.io/en/latest/concepts/concepts.html#depscall)."
   ]
  },
  {
   "cell_type": "code",
   "execution_count": 3,
   "id": "561a5155-c279-4253-908b-702a852902e1",
   "metadata": {},
   "outputs": [],
   "source": [
    "cwd = os.getcwd()\n",
    "\n",
    "def set_pythonpath(directory):\n",
    "    import sys\n",
    "    print(f\"Appending {directory} to module search path\")\n",
    "    sys.path.append(directory)\n",
    "\n",
    "calldep = ct.DepsCall(set_pythonpath, args=[cwd])"
   ]
  },
  {
   "cell_type": "markdown",
   "id": "5e07c88d",
   "metadata": {},
   "source": [
    "Create the lepton object:"
   ]
  },
  {
   "cell_type": "code",
   "execution_count": 4,
   "id": "e4419fdd",
   "metadata": {},
   "outputs": [],
   "source": [
    "library_path = \"test_module\"\n",
    "task = ct.Lepton(\n",
    "    language = \"python\",\n",
    "    library_name = library_path,\n",
    "    function_name = \"entrypoint\",\n",
    "    call_before=[calldep]\n",
    ")"
   ]
  },
  {
   "cell_type": "markdown",
   "id": "489e84ec",
   "metadata": {},
   "source": [
    "The task definition can now be used in a workflow as if it were an `electron` object:"
   ]
  },
  {
   "cell_type": "code",
   "execution_count": 5,
   "id": "17a96356",
   "metadata": {},
   "outputs": [],
   "source": [
    "@ct.lattice\n",
    "def workflow(x: int) -> int:\n",
    "    return task(x, 1)"
   ]
  },
  {
   "cell_type": "code",
   "execution_count": 6,
   "id": "da2d1e66",
   "metadata": {},
   "outputs": [
    {
     "name": "stdout",
     "output_type": "stream",
     "text": [
      "\n",
      "Lattice Result\n",
      "==============\n",
      "status: COMPLETED\n",
      "result: 3\n",
      "input args: ['2']\n",
      "input kwargs: {}\n",
      "error: \n",
      "\n",
      "start_time: 2022-08-16 14:23:00.494568\n",
      "end_time: 2022-08-16 14:23:00.684596\n",
      "\n",
      "results_dir: /var/home/casey/Agnostiq/code/covalent/doc/source/how_to/orchestration/results\n",
      "dispatch_id: db004a0d-2638-43c7-91b4-952e0e0514eb\n",
      "\n",
      "Node Outputs\n",
      "------------\n",
      "entrypoint(0): 3\n",
      ":parameter:2(1): 2\n",
      ":parameter:1(2): 1\n",
      "\n"
     ]
    }
   ],
   "source": [
    "result = ct.dispatch_sync(workflow)(2)\n",
    "print(result)"
   ]
  },
  {
   "cell_type": "code",
   "execution_count": null,
   "id": "fd28bffc-c6d4-4278-86a5-02f11dacf47f",
   "metadata": {},
   "outputs": [],
   "source": []
  }
 ],
 "metadata": {
  "kernelspec": {
   "display_name": "Python 3 (ipykernel)",
   "language": "python",
   "name": "python3"
  },
  "language_info": {
   "codemirror_mode": {
    "name": "ipython",
    "version": 3
   },
   "file_extension": ".py",
   "mimetype": "text/x-python",
   "name": "python",
   "nbconvert_exporter": "python",
   "pygments_lexer": "ipython3",
   "version": "3.8.13"
  }
 },
 "nbformat": 4,
 "nbformat_minor": 5
}
