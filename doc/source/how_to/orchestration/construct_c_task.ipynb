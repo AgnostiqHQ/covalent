{
 "cells": [
  {
   "cell_type": "markdown",
   "id": "0aa3c4c0",
   "metadata": {},
   "source": [
    "## How to construct tasks from C code\n",
    "\n",
    "Often we find workflows consist of different functions written in different languages, each most suitable for the task being executed. This example demonstrates how to call a compiled C function as an `electron`."
   ]
  },
  {
   "cell_type": "code",
   "execution_count": 1,
   "id": "f45b9a78",
   "metadata": {},
   "outputs": [],
   "source": [
    "import covalent as ct\n",
    "from ctypes import POINTER, c_int32\n",
    "import os"
   ]
  },
  {
   "cell_type": "markdown",
   "id": "a6c2ec0b",
   "metadata": {},
   "source": [
    "First, let's write a simple program in C:"
   ]
  },
  {
   "cell_type": "code",
   "execution_count": 2,
   "id": "95422edc",
   "metadata": {},
   "outputs": [],
   "source": [
    "c_source = \"\"\"\n",
    "#include \"test.h\"\n",
    "\n",
    "void test_entry(int x, int *y, int *z)\n",
    "{\n",
    "        *y += x;\n",
    "        *z = 5;\n",
    "}\n",
    "\"\"\"\n",
    "\n",
    "c_header = \"\"\"\n",
    "void test_entry(int x, int *y, int *z);\n",
    "\"\"\"\n",
    "\n",
    "with open(\"test.c\", \"w\") as f:\n",
    "    f.write(c_source)\n",
    "    \n",
    "with open(\"test.h\", \"w\") as f:\n",
    "    f.write(c_header)"
   ]
  },
  {
   "cell_type": "markdown",
   "id": "d87a5fa8",
   "metadata": {},
   "source": [
    "Next, compile it into a shared library:"
   ]
  },
  {
   "cell_type": "code",
   "execution_count": 3,
   "id": "5ffb1624",
   "metadata": {},
   "outputs": [],
   "source": [
    "!gcc -shared -fPIC -o libtest.so test.c"
   ]
  },
  {
   "cell_type": "markdown",
   "id": "4086fb68",
   "metadata": {},
   "source": [
    "Optionally, confirm the entrypoint function is exposed in the library:"
   ]
  },
  {
   "cell_type": "code",
   "execution_count": 4,
   "id": "2b97d0c7",
   "metadata": {},
   "outputs": [
    {
     "name": "stdout",
     "output_type": "stream",
     "text": [
      "0000000000001129 T test_entry\r\n"
     ]
    }
   ],
   "source": [
    "!nm -D libtest.so | grep 'T test_entry'"
   ]
  },
  {
   "cell_type": "markdown",
   "id": "b3d74cb2",
   "metadata": {},
   "source": [
    "Now, we are ready to construct a task which interfaces with the compiled function using a Lepton object. Note the last argument which helps the Lepton understand how to convert types."
   ]
  },
  {
   "cell_type": "code",
   "execution_count": 5,
   "id": "d23fe762",
   "metadata": {},
   "outputs": [],
   "source": [
    "library_path = os.path.join(os.getcwd(),\"libtest.so\")\n",
    "task = ct.Lepton(\n",
    "    language = \"C\",\n",
    "    library_name = library_path,\n",
    "    function_name = \"test_entry\",\n",
    "    argtypes = [\n",
    "        (c_int32, ct.Lepton.INPUT),\n",
    "        (POINTER(c_int32), ct.Lepton.INPUT_OUTPUT),\n",
    "        (POINTER(c_int32), ct.Lepton.OUTPUT)\n",
    "    ]\n",
    ")"
   ]
  },
  {
   "cell_type": "markdown",
   "id": "d14e3ce4",
   "metadata": {},
   "source": [
    "Finally, use the Lepton in the context of a lattice:"
   ]
  },
  {
   "cell_type": "code",
   "execution_count": 6,
   "id": "7826e8cd",
   "metadata": {},
   "outputs": [
    {
     "name": "stdout",
     "output_type": "stream",
     "text": [
      "(3, 5)\n"
     ]
    }
   ],
   "source": [
    "@ct.lattice\n",
    "def workflow(x: int, y: int) -> int:\n",
    "    return task(x, y)\n",
    "\n",
    "result = ct.dispatch_sync(workflow)(1, 2)\n",
    "print(result.result)"
   ]
  },
  {
   "cell_type": "markdown",
   "id": "bd101ade",
   "metadata": {},
   "source": [
    "Note the return values consist of all input-output and output-only variables. Output-only variables can only be scalars, since the length is not otherwise known. When you want to return an array, declare it as an input-output variable and initialize it appropriately before passing it to the lepton."
   ]
  }
 ],
 "metadata": {
  "kernelspec": {
   "display_name": "python3",
   "language": "python",
   "name": "python3"
  },
  "language_info": {
   "codemirror_mode": {
    "name": "ipython",
    "version": 3
   },
   "file_extension": ".py",
   "mimetype": "text/x-python",
   "name": "python",
   "nbconvert_exporter": "python",
   "pygments_lexer": "ipython3",
   "version": "3.8.12"
  }
 },
 "nbformat": 4,
 "nbformat_minor": 5
}
