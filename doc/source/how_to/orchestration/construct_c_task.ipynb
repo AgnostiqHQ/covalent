{
 "cells": [
  {
   "cell_type": "markdown",
   "id": "0aa3c4c0",
   "metadata": {},
   "source": [
    "## How to construct tasks from C code\n",
    "\n",
    "Often we find workflows consist of different functions written in different languages, each most suitable for the task being executed. This example demonstrates how to call a compiled C function as an `electron`."
   ]
  },
  {
   "cell_type": "code",
   "execution_count": null,
   "id": "f45b9a78",
   "metadata": {},
   "outputs": [],
   "source": [
    "import covalent as ct"
   ]
  }
 ],
 "metadata": {
  "kernelspec": {
   "display_name": "Python 3 (ipykernel)",
   "language": "python",
   "name": "python3"
  },
  "language_info": {
   "codemirror_mode": {
    "name": "ipython",
    "version": 3
   },
   "file_extension": ".py",
   "mimetype": "text/x-python",
   "name": "python",
   "nbconvert_exporter": "python",
   "pygments_lexer": "ipython3",
   "version": "3.9.7"
  }
 },
 "nbformat": 4,
 "nbformat_minor": 5
}
