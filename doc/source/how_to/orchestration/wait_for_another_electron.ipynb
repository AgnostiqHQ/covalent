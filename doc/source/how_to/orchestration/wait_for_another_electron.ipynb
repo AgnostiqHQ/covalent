{
 "cells": [
  {
   "cell_type": "markdown",
   "metadata": {},
   "source": [
    "## How to wait for execution of another electron\n",
    "\n",
    "Let's say we need to wait for a task (`task_A`) to finish execution before we start a different task (`task_B`) but none of the outputs of `task_A` are inputs to `task_B`.\n",
    "\n",
    "For this purpose, there exists a method called `wait_for()` in the electron which takes as input the tasks to wait for before executing this one. It can be used as follows:"
   ]
  },
  {
   "cell_type": "code",
   "execution_count": 1,
   "metadata": {},
   "outputs": [
    {
     "name": "stdout",
     "output_type": "stream",
     "text": [
      "1500\n"
     ]
    }
   ],
   "source": [
    "import covalent as ct\n",
    "\n",
    "@ct.electron\n",
    "def task_1(a):\n",
    "    import time\n",
    "    time.sleep(3)\n",
    "    return a ** 2\n",
    "\n",
    "@ct.electron\n",
    "def task_2(x, y):\n",
    "    return x * y\n",
    "\n",
    "@ct.electron\n",
    "def task_3(b):\n",
    "    return b ** 3\n",
    "\n",
    "@ct.lattice\n",
    "def workflow():\n",
    "    res_1 = task_1(2)\n",
    "    res_2 = task_2(res_1, 3)\n",
    "    res_3 = task_3(5).wait_for(res_1)\n",
    "\n",
    "    return task_2(res_2, res_3)\n",
    "\n",
    "result = ct.dispatch_sync(workflow)()\n",
    "print(result.result)"
   ]
  },
  {
   "cell_type": "markdown",
   "metadata": {},
   "source": [
    "Here, `task_3` is going to wait for completion of `task_1` even though `task_3`'s execution does not directly depend on `task_1`'s output.\n",
    "\n",
    "You can also pass in a list of tasks to wait for:"
   ]
  },
  {
   "cell_type": "code",
   "execution_count": 2,
   "metadata": {},
   "outputs": [
    {
     "name": "stdout",
     "output_type": "stream",
     "text": [
      "1500\n"
     ]
    }
   ],
   "source": [
    "import covalent as ct\n",
    "import time\n",
    "\n",
    "\n",
    "@ct.electron\n",
    "def task_1a(a):\n",
    "    time.sleep(1)\n",
    "    return a ** 2\n",
    "\n",
    "@ct.electron\n",
    "def task_1b(a):\n",
    "    time.sleep(1)\n",
    "    return a ** 3\n",
    "\n",
    "@ct.electron\n",
    "def task_1c(a):\n",
    "    time.sleep(1)\n",
    "    return a ** 4\n",
    "\n",
    "@ct.electron\n",
    "def task_2(x, y):\n",
    "    return x * y\n",
    "\n",
    "@ct.electron\n",
    "def task_3(b):\n",
    "    return b ** 3\n",
    "\n",
    "@ct.lattice\n",
    "def workflow():\n",
    "    res_1a = task_1a(2)\n",
    "    res_1b = task_1b(2)\n",
    "    res_1c = task_1c(2)\n",
    "    res_2 = task_2(res_1a, 3)\n",
    "    res_3 = task_3(5).wait_for([res_1a, res_1b, res_1c])\n",
    "\n",
    "    return task_2(res_2, res_3)\n",
    "\n",
    "result = ct.dispatch_sync(workflow)()\n",
    "print(result.result)"
   ]
  },
  {
   "cell_type": "markdown",
   "metadata": {},
   "source": [
    "That said, this is one way to explicity create a dependency between tasks. One can always connect the tasks using output-input dependency connection. \n",
    "\n",
    "`wait_for` is especially useful when the dependent task does not take any inputs but still needs to wait for some other tasks, which may not return an output, to finish before starting its own execution."
   ]
  },
  {
   "cell_type": "markdown",
   "metadata": {},
   "source": []
  }
 ],
 "metadata": {
  "kernelspec": {
   "display_name": "Python 3.8.13 ('covadev')",
   "language": "python",
   "name": "python3"
  },
  "language_info": {
   "codemirror_mode": {
    "name": "ipython",
    "version": 3
   },
   "file_extension": ".py",
   "mimetype": "text/x-python",
   "name": "python",
   "nbconvert_exporter": "python",
   "pygments_lexer": "ipython3",
   "version": "3.8.13"
  },
  "orig_nbformat": 4
 },
 "nbformat": 4,
 "nbformat_minor": 2
}
