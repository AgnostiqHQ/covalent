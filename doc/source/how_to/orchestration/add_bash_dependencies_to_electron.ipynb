{
 "cells": [
  {
   "cell_type": "markdown",
   "id": "5120ef0f-8510-4ad7-a0ea-2e306aec0064",
   "metadata": {
    "tags": []
   },
   "source": [
    "## How to add bash dependencies to an electron\n",
    "\n",
    "In this section, we show the required steps to specify a list of bash dependencies in an electron. First,  we import the `DepsBash` class\n"
   ]
  },
  {
   "cell_type": "code",
   "execution_count": 1,
   "id": "b6ffa4e9-73c0-46b9-be97-104a7f44cd97",
   "metadata": {},
   "outputs": [
    {
     "ename": "ImportError",
     "evalue": "cannot import name 'DepsBash' from 'covalent' (/Users/okechukwuochia/miniconda3/lib/python3.8/site-packages/covalent/__init__.py)",
     "output_type": "error",
     "traceback": [
      "\u001b[0;31m---------------------------------------------------------------------------\u001b[0m",
      "\u001b[0;31mImportError\u001b[0m                               Traceback (most recent call last)",
      "Input \u001b[0;32mIn [1]\u001b[0m, in \u001b[0;36m<cell line: 2>\u001b[0;34m()\u001b[0m\n\u001b[1;32m      1\u001b[0m \u001b[38;5;28;01mimport\u001b[39;00m \u001b[38;5;21;01mcovalent\u001b[39;00m \u001b[38;5;28;01mas\u001b[39;00m \u001b[38;5;21;01mct\u001b[39;00m \n\u001b[0;32m----> 2\u001b[0m \u001b[38;5;28;01mfrom\u001b[39;00m \u001b[38;5;21;01mcovalent\u001b[39;00m \u001b[38;5;28;01mimport\u001b[39;00m DepsBash\n",
      "\u001b[0;31mImportError\u001b[0m: cannot import name 'DepsBash' from 'covalent' (/Users/okechukwuochia/miniconda3/lib/python3.8/site-packages/covalent/__init__.py)"
     ]
    }
   ],
   "source": [
    "import covalent as ct \n",
    "from covalent import DepsBash"
   ]
  },
  {
   "cell_type": "markdown",
   "id": "c5bcbcd0-646c-4b96-85d2-ef30b30ac085",
   "metadata": {},
   "source": [
    "Next, we pass in the list of comma-separated bash commands as an argument to `DepsBash()`"
   ]
  },
  {
   "cell_type": "code",
   "execution_count": null,
   "id": "a30852d1-2fa4-4ffb-b01d-7e7cc9925182",
   "metadata": {},
   "outputs": [],
   "source": [
    "@ct.electron(\n",
    "        deps_bash=DepsBash([\"echo $PATH\", \"ssh foo@bar.com\"]),\n",
    ")\n",
    "def identity(x):\n",
    "    return x\n",
    "        "
   ]
  },
  {
   "cell_type": "markdown",
   "id": "79b3012b-ecf8-4c96-a0c7-a3b11d69a10e",
   "metadata": {},
   "source": [
    "We can also explicitly specify list of bash commands in the electron."
   ]
  },
  {
   "cell_type": "code",
   "execution_count": null,
   "id": "36461b39-9518-41ab-9ce5-897835d5f35a",
   "metadata": {},
   "outputs": [],
   "source": [
    "@ct.electron(\n",
    "        deps_bash=[\"echo $PATH\", \"ssh foo@bar.com\"],\n",
    ")\n",
    "def identity(x):\n",
    "    return x"
   ]
  }
 ],
 "metadata": {
  "kernelspec": {
   "display_name": "Python 3 (ipykernel)",
   "language": "python",
   "name": "python3"
  },
  "language_info": {
   "codemirror_mode": {
    "name": "ipython",
    "version": 3
   },
   "file_extension": ".py",
   "mimetype": "text/x-python",
   "name": "python",
   "nbconvert_exporter": "python",
   "pygments_lexer": "ipython3",
   "version": "3.8.12"
  }
 },
 "nbformat": 4,
 "nbformat_minor": 5
}
