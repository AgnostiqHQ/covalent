{
 "cells": [
  {
   "cell_type": "markdown",
   "id": "5120ef0f-8510-4ad7-a0ea-2e306aec0064",
   "metadata": {
    "tags": []
   },
   "source": [
    "## How to add bash dependencies to an electron\n",
    "\n",
    "In this section, we show the required steps to specify a list of bash dependencies in an electron. First,  we import covalent.\n"
   ]
  },
  {
   "cell_type": "code",
   "execution_count": 1,
   "id": "b6ffa4e9-73c0-46b9-be97-104a7f44cd97",
   "metadata": {},
   "outputs": [],
   "source": [
    "import covalent as ct "
   ]
  },
  {
   "cell_type": "markdown",
   "id": "c5bcbcd0-646c-4b96-85d2-ef30b30ac085",
   "metadata": {},
   "source": [
    "Next, we pass in the list of comma-separated bash commands as an argument to `DepsBash()`"
   ]
  },
  {
   "cell_type": "code",
   "execution_count": 2,
   "id": "a30852d1-2fa4-4ffb-b01d-7e7cc9925182",
   "metadata": {},
   "outputs": [],
   "source": [
    "@ct.electron(\n",
    "        deps_bash=ct.DepsBash([\"echo $PATH >> /tmp/path.txt\"]),\n",
    ")\n",
    "def get_bash_result():\n",
    "    with open('/tmp/path.txt','r') as f:\n",
    "        return f.read()     "
   ]
  },
  {
   "cell_type": "markdown",
   "id": "79b3012b-ecf8-4c96-a0c7-a3b11d69a10e",
   "metadata": {},
   "source": [
    "We can also specify list of bash commands in the electron in implicit form."
   ]
  },
  {
   "cell_type": "code",
   "execution_count": 3,
   "id": "36461b39-9518-41ab-9ce5-897835d5f35a",
   "metadata": {},
   "outputs": [],
   "source": [
    "@ct.electron(\n",
    "        deps_bash=[\"echo $PATH >> /tmp/path.txt\"],\n",
    ")\n",
    "def get_bash_result():\n",
    "    with open('/tmp/path.txt','r') as f:\n",
    "        return f.read()   "
   ]
  },
  {
   "cell_type": "code",
   "execution_count": null,
   "id": "9384c47b",
   "metadata": {},
   "outputs": [],
   "source": [
    "@ct.lattice\n",
    "def workflow():\n",
    "    return get_bash_result()\n",
    "\n",
    "dispatch_id = ct.dispatch(workflow)()\n",
    "r = ct.get_result(dispatch_id, wait=True)\n",
    "print(r.result)"
   ]
  }
 ],
 "metadata": {
  "kernelspec": {
   "display_name": "Python 3.8.10 64-bit ('covalent')",
   "language": "python",
   "name": "python3"
  },
  "language_info": {
   "codemirror_mode": {
    "name": "ipython",
    "version": 3
   },
   "file_extension": ".py",
   "mimetype": "text/x-python",
   "name": "python",
   "nbconvert_exporter": "python",
   "pygments_lexer": "ipython3",
   "version": "3.8.10"
  },
  "vscode": {
   "interpreter": {
    "hash": ""
   }
  }
 },
 "nbformat": 4,
 "nbformat_minor": 5
}
