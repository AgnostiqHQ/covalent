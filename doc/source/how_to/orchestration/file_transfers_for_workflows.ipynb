{
 "cells": [
  {
   "cell_type": "markdown",
   "id": "5120ef0f-8510-4ad7-a0ea-2e306aec0064",
   "metadata": {
    "tags": []
   },
   "source": [
    "## How to perform File Transfers during workflows\n",
    "\n",
    "We can perform file transfer operations pre or post electron execution here we illustrate how to perform file transfer using Rsync locally and remotely via SSH. \n",
    "\n",
    "### Local File Transfers (Rsync)"
   ]
  },
  {
   "cell_type": "markdown",
   "id": "6275194d",
   "metadata": {},
   "source": [
    "We first define a source & destination filepath where we want to transfer a file from the `source_filepath` location to the `destination_filepath` location as well as create an empty file in `source_filepath` to have a file to transfer."
   ]
  },
  {
   "cell_type": "code",
   "execution_count": null,
   "id": "a20575c4",
   "metadata": {},
   "outputs": [],
   "source": [
    "from pathlib import Path\n",
    "\n",
    "# define source & destination filepaths \n",
    "source_filepath = Path('./my_source_file').resolve()\n",
    "destination_filepath = Path('./my_dest_file').resolve()\n",
    "\n",
    "# create an example file\n",
    "source_filepath.touch()"
   ]
  },
  {
   "cell_type": "markdown",
   "id": "1616c355",
   "metadata": {},
   "source": [
    "We then run a workflow by defining our `FileTransfer` operation which defaults to the local `Rsync` strategy."
   ]
  },
  {
   "cell_type": "code",
   "execution_count": null,
   "id": "b6ffa4e9-73c0-46b9-be97-104a7f44cd97",
   "metadata": {},
   "outputs": [],
   "source": [
    "import covalent as ct "
   ]
  },
  {
   "cell_type": "code",
   "execution_count": null,
   "id": "a30852d1-2fa4-4ffb-b01d-7e7cc9925182",
   "metadata": {},
   "outputs": [],
   "source": [
    "# Dispatch a workflow to transfer from source to destination, and write to destination file\n",
    "@ct.electron(\n",
    "        files=[ct.fs.FileTransfer(str(source_filepath), str(destination_filepath))]\n",
    ")\n",
    "def my_file_transfer_task(files=[]):\n",
    "    from_file, to_file = files[0]\n",
    "    with open(to_file,'w') as f:\n",
    "        f.write('hello')\n",
    "    return to_file\n",
    "      \n",
    "@ct.lattice()\n",
    "def my_workflow():\n",
    "    return my_file_transfer_task()\n",
    "\n",
    "dispatch_id = ct.dispatch(my_workflow)()\n",
    "result_filepath = ct.get_result(dispatch_id, wait=True).result\n",
    "\n",
    "# read from destination file which we wrote to\n",
    "with open(result_filepath,'r') as f:\n",
    "    print(f.read())\n",
    "\n",
    "# clean up files\n",
    "source_filepath.unlink()\n",
    "destination_filepath.unlink()"
   ]
  },
  {
   "cell_type": "markdown",
   "id": "79b3012b-ecf8-4c96-a0c7-a3b11d69a10e",
   "metadata": {},
   "source": [
    "After executing the workflow we now see a copy of the file (`source_filepath`) located in `my_dest_file`. This file transfer occured prior to electon execution.\n",
    "\n",
    "### Remote File Transfers (Rsync SSH)"
   ]
  },
  {
   "cell_type": "markdown",
   "id": "92afd5e1",
   "metadata": {},
   "source": [
    "Similarly we can perform file transfers using Rsync via SSH in order to transfer a file located in `source_filepath` to a remote host's filesystem located at `/home/ubuntu/my_dest_file`"
   ]
  },
  {
   "cell_type": "markdown",
   "id": "85c0bebc",
   "metadata": {},
   "source": [
    "```python\n",
    "strategy = ct.fs_strategies.Rsync(user='ubuntu', host='44.202.86.215', private_key_path='/path/to/private/key')\n",
    "\n",
    "@ct.electron(\n",
    "        files=[ct.fs.TransferToRemote('/home/ubuntu/my_dest_file', str(source_filepath), strategy=strategy)]\n",
    ")\n",
    "def my_remote_file_transfer_task(files=[]):\n",
    "    pass\n",
    "      \n",
    "@ct.lattice()\n",
    "def my_workflow():\n",
    "    return my_remote_file_transfer_task()\n",
    "\n",
    "ct.dispatch(my_workflow)()\n",
    "```"
   ]
  },
  {
   "cell_type": "markdown",
   "id": "5f22dc06",
   "metadata": {},
   "source": [
    "After workflow execution the file located at `source_filepath` will be transfered to host `44.202.86.215` in the host's filesystem (`/home/ubuntu/my_dest_file`). This file transfer occurs after electron execution."
   ]
  },
  {
   "cell_type": "markdown",
   "id": "57700440",
   "metadata": {},
   "source": [
    "### S3 bucket transfer\n",
    "\n",
    "We can perform file transfer between an S3 bucket and local filesystem using the boto3 library. Here we show a simple example where a zip file is downloaded from the S3 bucket before its execution. The electron performs necessary operations on them and the processed files are uploaded back to the S3 bucket."
   ]
  },
  {
   "cell_type": "markdown",
   "id": "b35f079c",
   "metadata": {},
   "source": [
    "```python\n",
    "import covalent as ct\n",
    "import zipfile\n",
    "import os\n",
    "\n",
    "strategy = ct.fs_strategies.S3()\n",
    "\n",
    "ft_2 = ct.fs.FileTransfer('/home/ubuntu/tmp-dir/images.zip','s3://covalent-tmp/images.zip',strategy = strategy,order=ct.fs.Order.AFTER)\n",
    "ft_1 = ct.fs.FileTransfer('s3://covalent-tmp/test_vids.zip','/home/ubuntu/tmp-dir/test_vids.zip',strategy = strategy)\n",
    "\n",
    "\n",
    "@ct.electron(files = [ft_1,ft_2])\n",
    "def zip_unzip(files=[]):\n",
    "    path = \"/home/ubuntu/tmp-dir\"\n",
    "    #unzip downloaded data\n",
    "    with zipfile.ZipFile(path + \"/test_vids.zip\", 'r') as zip_ref:\n",
    "        zip_ref.extractall(path)\n",
    "        \n",
    "    #Perform necessary operations on the files\n",
    "    \n",
    "    \n",
    "    #Zip files to upload it back    \n",
    "    with zipfile.ZipFile(path + \"/images.zip\",  'w', zipfile.ZIP_DEFLATED) as ziph:\n",
    "        for root, dirs, files in os.walk(path + '/test_vids'):\n",
    "            for file in files:\n",
    "                ziph.write(os.path.join(root, file), \n",
    "                           os.path.relpath(os.path.join(root, file), \n",
    "                                           os.path.join(path, '..')))\n",
    "            \n",
    "    \n",
    "@ct.lattice\n",
    "def run_electrons():\n",
    "    return unzip_zip()\n",
    "\n",
    "dispatch_id = ct.dispatch(run_electrons)()\n",
    "\n",
    "```"
   ]
  }
 ],
 "metadata": {
  "kernelspec": {
   "display_name": "Python 3.8.10 64-bit ('covalent')",
   "language": "python",
   "name": "python3"
  },
  "language_info": {
   "codemirror_mode": {
    "name": "ipython",
    "version": 3
   },
   "file_extension": ".py",
   "mimetype": "text/x-python",
   "name": "python",
   "nbconvert_exporter": "python",
   "pygments_lexer": "ipython3",
   "version": "3.8.10"
  },
  "vscode": {
   "interpreter": {
    "hash": ""
   }
  }
 },
 "nbformat": 4,
 "nbformat_minor": 5
}
