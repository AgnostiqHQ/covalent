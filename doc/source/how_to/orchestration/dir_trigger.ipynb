{
 "cells": [
  {
   "attachments": {},
   "cell_type": "markdown",
   "metadata": {},
   "source": [
    "# How to add a directory trigger to a lattice\n",
    "In this guide we'll illustrate how to use a `DirTrigger` to trigger workflow runs automatically whenever a file in a directory gets modified.\n",
    "\n",
    "Let's first import the required parts:"
   ]
  },
  {
   "cell_type": "code",
   "execution_count": 1,
   "metadata": {},
   "outputs": [],
   "source": [
    "import covalent as ct\n",
    "from covalent.triggers import DirTrigger\n",
    "from pathlib import Path"
   ]
  },
  {
   "attachments": {},
   "cell_type": "markdown",
   "metadata": {},
   "source": [
    "For our test case, let's create a new file in our current directory named `my_text_file.txt` and have 10 numbers in it."
   ]
  },
  {
   "cell_type": "code",
   "execution_count": 2,
   "metadata": {},
   "outputs": [],
   "source": [
    "with open(\"my_text_file.txt\", \"w\") as f:\n",
    "    for i in range(10):\n",
    "        f.write(f\"{i}\\n\")"
   ]
  },
  {
   "attachments": {},
   "cell_type": "markdown",
   "metadata": {},
   "source": [
    "Now, let's create our `DirTrigger` object which performs a trigger action whenever something in the current directory gets modified."
   ]
  },
  {
   "cell_type": "code",
   "execution_count": 3,
   "metadata": {},
   "outputs": [],
   "source": [
    "dir_trigger = DirTrigger(dir_path=str(Path(\".\").resolve()), event_names=\"modified\")"
   ]
  },
  {
   "attachments": {},
   "cell_type": "markdown",
   "metadata": {},
   "source": [
    "Let's create a simple workflow now and assign this trigger to the lattice:"
   ]
  },
  {
   "cell_type": "code",
   "execution_count": 4,
   "metadata": {},
   "outputs": [],
   "source": [
    "@ct.lattice(triggers=dir_trigger)\n",
    "@ct.electron\n",
    "def my_workflow():\n",
    "    return 42"
   ]
  },
  {
   "attachments": {},
   "cell_type": "markdown",
   "metadata": {},
   "source": [
    "Once we've made sure that the covalent server is running, we can perform the dispatch for `my_workflow` as such:"
   ]
  },
  {
   "cell_type": "code",
   "execution_count": 5,
   "metadata": {},
   "outputs": [
    {
     "name": "stdout",
     "output_type": "stream",
     "text": [
      "fb6235ea-248c-46b7-a7b7-76a7f7ad5da3\n"
     ]
    }
   ],
   "source": [
    "dispatch_id = ct.dispatch(my_workflow)()\n",
    "print(dispatch_id)"
   ]
  },
  {
   "attachments": {},
   "cell_type": "markdown",
   "metadata": {},
   "source": [
    "Now, if you check the UI you'll see that a new `my_workflow` gets dispatched whenever we add or remove a number from `my_text_file.txt`.\n",
    "If we want to stop that after a while, we can use the `ct.stop_triggers` function:"
   ]
  },
  {
   "cell_type": "code",
   "execution_count": 6,
   "metadata": {},
   "outputs": [
    {
     "name": "stdout",
     "output_type": "stream",
     "text": [
      "Triggers for following dispatch_ids have stopped observing:\n",
      "fb6235ea-248c-46b7-a7b7-76a7f7ad5da3\n"
     ]
    }
   ],
   "source": [
    "ct.stop_triggers(dispatch_id)"
   ]
  },
  {
   "attachments": {},
   "cell_type": "markdown",
   "metadata": {},
   "source": [
    "The above will prevent any new dispatches from happening due to the trigger action on `my_workflow` lattice."
   ]
  }
 ],
 "metadata": {
  "kernelspec": {
   "display_name": "triggers",
   "language": "python",
   "name": "python3"
  },
  "language_info": {
   "codemirror_mode": {
    "name": "ipython",
    "version": 3
   },
   "file_extension": ".py",
   "mimetype": "text/x-python",
   "name": "python",
   "nbconvert_exporter": "python",
   "pygments_lexer": "ipython3",
   "version": "3.9.15"
  },
  "orig_nbformat": 4,
  "vscode": {
   "interpreter": {
    "hash": "ffe78875ce1aa6161f50f6a6dec2555e7255bbdb44cc39b93c0dfc1daa8da522"
   }
  }
 },
 "nbformat": 4,
 "nbformat_minor": 2
}
