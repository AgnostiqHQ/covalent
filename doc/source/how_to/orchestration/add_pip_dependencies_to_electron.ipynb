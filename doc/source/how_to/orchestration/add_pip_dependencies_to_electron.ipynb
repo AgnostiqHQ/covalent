{
 "cells": [
  {
   "cell_type": "markdown",
   "id": "233c84f6",
   "metadata": {},
   "source": [
    "## How to add pip dependencies to an electron\n",
    "\n",
    "In this section, we illustrate the steps in adding a list of PyPI packages that are required to execute an electron.\n",
    "\n",
    "First, we import the `DepsPip` class:"
   ]
  },
  {
   "cell_type": "code",
   "execution_count": 1,
   "id": "0ad8b45f",
   "metadata": {},
   "outputs": [],
   "source": [
    "import covalent as ct\n",
    "from covalent import DepsPip"
   ]
  },
  {
   "cell_type": "markdown",
   "id": "80431355",
   "metadata": {},
   "source": [
    "We then pass the list of packages to `DepsPip()`:"
   ]
  },
  {
   "cell_type": "code",
   "execution_count": 2,
   "id": "84dc23dc",
   "metadata": {},
   "outputs": [],
   "source": [
    "@ct.electron(\n",
    "    deps_pip=DepsPip(packages=[\"numpy==0.23\", \"qiskit\"]),\n",
    ")\n",
    "def identity(x):\n",
    "    return x"
   ]
  },
  {
   "cell_type": "markdown",
   "id": "b8baba2c",
   "metadata": {},
   "source": [
    "Alternatively, we can specify the path to a `requirements.txt` file that contains the list of required packages:"
   ]
  },
  {
   "cell_type": "code",
   "execution_count": 3,
   "id": "4f4b3677",
   "metadata": {},
   "outputs": [],
   "source": [
    "import os\n",
    "with open('requirements_example.txt', 'w') as f:\n",
    "    f.write('numpy')\n",
    "f.close()\n",
    "\n",
    "@ct.electron(\n",
    "    deps_pip=DepsPip(reqs_path=\"./requirements_example.txt\")\n",
    ")\n",
    "def identity(x):\n",
    "    return x\n",
    "\n",
    "os.remove(\"requirements_example.txt\")"
   ]
  },
  {
   "cell_type": "markdown",
   "id": "52380c2d",
   "metadata": {},
   "source": [
    "We can also explicitly declare the list of packages in the electron:"
   ]
  },
  {
   "cell_type": "code",
   "execution_count": 4,
   "id": "0d741d93",
   "metadata": {},
   "outputs": [],
   "source": [
    "@ct.electron(\n",
    "    deps_pip=[\"numpy==0.23\", \"qiskit\"],\n",
    ")\n",
    "def identity(x):\n",
    "    return x"
   ]
  }
 ],
 "metadata": {
  "kernelspec": {
   "display_name": "Python 3.8.13 ('cova-dev')",
   "language": "python",
   "name": "python3"
  },
  "language_info": {
   "codemirror_mode": {
    "name": "ipython",
    "version": 3
   },
   "file_extension": ".py",
   "mimetype": "text/x-python",
   "name": "python",
   "nbconvert_exporter": "python",
   "pygments_lexer": "ipython3",
   "version": "3.8.13"
  },
  "vscode": {
   "interpreter": {}
  }
 },
 "nbformat": 4,
 "nbformat_minor": 5
}
