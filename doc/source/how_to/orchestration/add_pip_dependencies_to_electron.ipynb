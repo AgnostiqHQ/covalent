{
 "cells": [
  {
   "cell_type": "markdown",
   "id": "233c84f6",
   "metadata": {},
   "source": [
    "## How to add pip dependencies to an electron\n",
    "\n",
    "In this section, we illustrate the steps in adding a list of PyPI packages that are required to execute an electron.\n",
    "\n",
    "First, let's import covalent."
   ]
  },
  {
   "cell_type": "code",
   "execution_count": 17,
   "id": "5b50cb81",
   "metadata": {},
   "outputs": [],
   "source": [
    "import covalent as ct\n",
    "import numpy"
   ]
  },
  {
   "cell_type": "markdown",
   "id": "fb5ead5c",
   "metadata": {},
   "source": [
    "We can then use the `DepsPip` class to declare which pip packages we want our electrons to depend on."
   ]
  },
  {
   "cell_type": "code",
   "execution_count": 18,
   "id": "3c7f8d9c",
   "metadata": {},
   "outputs": [],
   "source": [
    "deps_pip = ct.DepsPip(packages=[\"numpy==1.22.4\"])"
   ]
  },
  {
   "cell_type": "code",
   "execution_count": 19,
   "id": "84dc23dc",
   "metadata": {},
   "outputs": [],
   "source": [
    "@ct.electron(\n",
    "    deps_pip=deps_pip,\n",
    ")\n",
    "def get_result():\n",
    "    matrix = numpy.identity(3)\n",
    "    return numpy.sum(matrix)\n",
    "\n",
    "@ct.lattice\n",
    "def workflow():\n",
    "    return get_result()"
   ]
  },
  {
   "cell_type": "markdown",
   "id": "8b4260cf",
   "metadata": {},
   "source": [
    "We can then dispatch our workflow to get our result."
   ]
  },
  {
   "cell_type": "code",
   "execution_count": 20,
   "id": "858feca3",
   "metadata": {},
   "outputs": [
    {
     "name": "stdout",
     "output_type": "stream",
     "text": [
      "3.0\n"
     ]
    }
   ],
   "source": [
    "dispatch_id = ct.dispatch(workflow)()\n",
    "r = ct.get_result(dispatch_id, wait=True)\n",
    "print(r.result)"
   ]
  },
  {
   "cell_type": "markdown",
   "id": "b8baba2c",
   "metadata": {},
   "source": [
    "Alternatively, we can specify the path to a `requirements.txt` file that contains the list of required packages:"
   ]
  },
  {
   "cell_type": "code",
   "execution_count": 22,
   "id": "4f4b3677",
   "metadata": {},
   "outputs": [],
   "source": [
    "import os\n",
    "with open('requirements_example.txt', 'w') as f:\n",
    "    f.write('numpy==1.22.4')\n",
    "f.close()\n",
    "\n",
    "deps_pip=ct.DepsPip(reqs_path=\"./requirements_example.txt\")"
   ]
  },
  {
   "cell_type": "code",
   "execution_count": 23,
   "id": "c3e2a2bd",
   "metadata": {},
   "outputs": [
    {
     "name": "stdout",
     "output_type": "stream",
     "text": [
      "3.0\n"
     ]
    }
   ],
   "source": [
    "@ct.electron(\n",
    "    deps_pip=deps_pip,\n",
    ")\n",
    "def get_result():\n",
    "    matrix = numpy.identity(3)\n",
    "    return numpy.sum(matrix)\n",
    "\n",
    "@ct.lattice\n",
    "def workflow():\n",
    "    return get_result()\n",
    "\n",
    "dispatch_id = ct.dispatch(workflow)()\n",
    "r = ct.get_result(dispatch_id, wait=True)\n",
    "print(r.result)"
   ]
  },
  {
   "cell_type": "markdown",
   "id": "ceb586e7",
   "metadata": {},
   "source": [
    "We can also add pip dependencies as call_before & call_after hooks on electrons."
   ]
  },
  {
   "cell_type": "code",
   "execution_count": null,
   "id": "884ecd28",
   "metadata": {},
   "outputs": [],
   "source": [
    "@ct.electron(\n",
    "    call_before=[ct.DepsPip(packages=[\"numpy==1.22.4\"])],\n",
    "    call_after=[ct.DepsPip(packages=[\"networkx==2.5\"])]\n",
    ")\n",
    "def my_task():\n",
    "    pass"
   ]
  }
 ],
 "metadata": {
  "kernelspec": {
   "display_name": "Python 3 (ipykernel)",
   "language": "python",
   "name": "python3"
  },
  "language_info": {
   "codemirror_mode": {
    "name": "ipython",
    "version": 3
   },
   "file_extension": ".py",
   "mimetype": "text/x-python",
   "name": "python",
   "nbconvert_exporter": "python",
   "pygments_lexer": "ipython3",
   "version": "3.8.10"
  },
  "vscode": {
   "interpreter": {
    "hash": ""
   }
  }
 },
 "nbformat": 4,
 "nbformat_minor": 5
}
