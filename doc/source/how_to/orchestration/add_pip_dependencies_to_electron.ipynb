{
 "cells": [
  {
   "cell_type": "markdown",
   "id": "445760b7-70d8-4109-b200-5478b0413337",
   "metadata": {},
   "source": [
    "## How to add pip dependencies to an electron\n",
    "\n",
    "In this section, we illustrate the steps in adding a list of PyPI packages that are required to execute an electron.\n",
    "\n",
    "First, we import the `DepsPip` class:"
   ]
  },
  {
   "cell_type": "code",
   "execution_count": 1,
   "id": "698a93a4-7fbc-4f94-a31b-ea6a3cfb28cc",
   "metadata": {},
   "outputs": [],
   "source": [
    "import covalent as ct\n",
    "from covalent import DepsPip\n"
   ]
  },
  {
   "cell_type": "markdown",
   "id": "4d2f3d5c-6c1c-4103-9e2d-ac4594f329a8",
   "metadata": {},
   "source": [
    "We then pass the list of packages to `DepsPip()`:"
   ]
  },
  {
   "cell_type": "code",
   "execution_count": 2,
   "id": "3d8064f0-e732-4dac-b97a-77ff19689157",
   "metadata": {},
   "outputs": [],
   "source": [
    "@ct.electron(\n",
    "    deps_pip=DepsPip(packages=[\"numpy==0.23\", \"qiskit\"]),\n",
    ")\n",
    "def identity(x):\n",
    "    return x"
   ]
  },
  {
   "cell_type": "markdown",
   "id": "7983772f-b510-42be-807a-7ecda42f3ba9",
   "metadata": {},
   "source": [
    "Alternatively, we can specify the path to a `requirements.txt` file that contains the list of required packages:"
   ]
  },
  {
   "cell_type": "code",
   "execution_count": 3,
   "id": "cac2c232-7e3c-44b5-8242-91d8d6e13882",
   "metadata": {},
   "outputs": [
    {
     "ename": "FileNotFoundError",
     "evalue": "[Errno 2] No such file or directory: '/usr/foo/requirements.txt'",
     "output_type": "error",
     "traceback": [
      "\u001b[0;31m---------------------------------------------------------------------------\u001b[0m",
      "\u001b[0;31mFileNotFoundError\u001b[0m                         Traceback (most recent call last)",
      "Input \u001b[0;32mIn [3]\u001b[0m, in \u001b[0;36m<cell line: 1>\u001b[0;34m()\u001b[0m\n\u001b[1;32m      1\u001b[0m \u001b[38;5;129m@ct\u001b[39m\u001b[38;5;241m.\u001b[39melectron(\n\u001b[0;32m----> 2\u001b[0m     deps_pip\u001b[38;5;241m=\u001b[39m\u001b[43mDepsPip\u001b[49m\u001b[43m(\u001b[49m\u001b[43mreqs_path\u001b[49m\u001b[38;5;241;43m=\u001b[39;49m\u001b[38;5;124;43m\"\u001b[39;49m\u001b[38;5;124;43m/usr/foo/requirements.txt\u001b[39;49m\u001b[38;5;124;43m\"\u001b[39;49m\u001b[43m)\u001b[49m\n\u001b[1;32m      3\u001b[0m )\n\u001b[1;32m      4\u001b[0m \u001b[38;5;28;01mdef\u001b[39;00m \u001b[38;5;21midentity\u001b[39m(x):\n\u001b[1;32m      5\u001b[0m     \u001b[38;5;28;01mreturn\u001b[39;00m x\n",
      "File \u001b[0;32m~/agnostiq/covalent/covalent/_workflow/depspip.py:66\u001b[0m, in \u001b[0;36mDepsPip.__init__\u001b[0;34m(self, packages, reqs_path)\u001b[0m\n\u001b[1;32m     63\u001b[0m \u001b[38;5;28mself\u001b[39m\u001b[38;5;241m.\u001b[39mrequirements_content \u001b[38;5;241m=\u001b[39m \u001b[38;5;124m\"\u001b[39m\u001b[38;5;124m\"\u001b[39m\n\u001b[1;32m     65\u001b[0m \u001b[38;5;28;01mif\u001b[39;00m \u001b[38;5;28mself\u001b[39m\u001b[38;5;241m.\u001b[39mreqs_path:\n\u001b[0;32m---> 66\u001b[0m     \u001b[38;5;28;01mwith\u001b[39;00m \u001b[38;5;28;43mopen\u001b[39;49m\u001b[43m(\u001b[49m\u001b[38;5;28;43mself\u001b[39;49m\u001b[38;5;241;43m.\u001b[39;49m\u001b[43mreqs_path\u001b[49m\u001b[43m,\u001b[49m\u001b[43m \u001b[49m\u001b[38;5;124;43m\"\u001b[39;49m\u001b[38;5;124;43mr\u001b[39;49m\u001b[38;5;124;43m\"\u001b[39;49m\u001b[43m)\u001b[49m \u001b[38;5;28;01mas\u001b[39;00m f:\n\u001b[1;32m     67\u001b[0m         \u001b[38;5;28mself\u001b[39m\u001b[38;5;241m.\u001b[39mrequirements_content \u001b[38;5;241m=\u001b[39m f\u001b[38;5;241m.\u001b[39mread()\n\u001b[1;32m     69\u001b[0m apply_args \u001b[38;5;241m=\u001b[39m [\u001b[38;5;28mself\u001b[39m\u001b[38;5;241m.\u001b[39mpackages, \u001b[38;5;28mself\u001b[39m\u001b[38;5;241m.\u001b[39mrequirements_content]\n",
      "\u001b[0;31mFileNotFoundError\u001b[0m: [Errno 2] No such file or directory: '/usr/foo/requirements.txt'"
     ]
    }
   ],
   "source": [
    "@ct.electron(\n",
    "    deps_pip=DepsPip(reqs_path=\"/usr/foo/requirements.txt\")\n",
    ")\n",
    "def identity(x):\n",
    "    return x"
   ]
  },
  {
   "cell_type": "markdown",
   "id": "f3ffd9e2-b3d3-4996-8fc4-722cad5f00a3",
   "metadata": {},
   "source": [
    "We can also explicitly declare the list of packages in the electron:"
   ]
  },
  {
   "cell_type": "code",
   "execution_count": null,
   "id": "8312d6ea-a043-4c9f-91b3-07564608b652",
   "metadata": {},
   "outputs": [],
   "source": [
    "@ct.electron(\n",
    "    deps_pip=[\"numpy==0.23\", \"qiskit\"],\n",
    ")\n",
    "def identity(x):\n",
    "    return x"
   ]
  }
 ],
 "metadata": {
  "kernelspec": {
   "display_name": "Python 3 (ipykernel)",
   "language": "python",
   "name": "python3"
  },
  "language_info": {
   "codemirror_mode": {
    "name": "ipython",
    "version": 3
   },
   "file_extension": ".py",
   "mimetype": "text/x-python",
   "name": "python",
   "nbconvert_exporter": "python",
   "pygments_lexer": "ipython3",
   "version": "3.8.12"
  }
 },
 "nbformat": 4,
 "nbformat_minor": 5
}
