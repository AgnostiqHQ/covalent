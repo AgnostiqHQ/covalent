{
 "cells": [
  {
   "cell_type": "markdown",
   "id": "445760b7-70d8-4109-b200-5478b0413337",
   "metadata": {},
   "source": [
    "## How to add pip dependencies to an electron\n",
    "\n",
    "In this section, we illustrate the steps in adding a list of PyPI packages that are required to execute an electron.\n",
    "\n",
    "First, we import the `DepsPip` class:"
   ]
  },
  {
   "cell_type": "code",
   "execution_count": 19,
   "id": "698a93a4-7fbc-4f94-a31b-ea6a3cfb28cc",
   "metadata": {},
   "outputs": [],
   "source": [
    "import covalent as ct\n",
    "from covalent import DepsPip\n"
   ]
  },
  {
   "cell_type": "markdown",
   "id": "4d2f3d5c-6c1c-4103-9e2d-ac4594f329a8",
   "metadata": {},
   "source": [
    "We then pass the list of packages to `DepsPip()`:"
   ]
  },
  {
   "cell_type": "code",
   "execution_count": 20,
   "id": "3d8064f0-e732-4dac-b97a-77ff19689157",
   "metadata": {},
   "outputs": [],
   "source": [
    "@ct.electron(\n",
    "    deps_pip=DepsPip(packages=[\"numpy==0.23\", \"qiskit\"]),\n",
    ")\n",
    "def identity(x):\n",
    "    return x"
   ]
  },
  {
   "cell_type": "markdown",
   "id": "7983772f-b510-42be-807a-7ecda42f3ba9",
   "metadata": {},
   "source": [
    "Alternatively, we can specify the path to a `requirements.txt` file that contains the list of required packages. Assuming we require packages from `../../../../doc/requirements.txt`:"
   ]
  },
  {
   "cell_type": "code",
   "execution_count": 21,
   "id": "cac2c232-7e3c-44b5-8242-91d8d6e13882",
   "metadata": {},
   "outputs": [],
   "source": [
    "@ct.electron(\n",
    "    deps_pip=DepsPip(reqs_path=\"../../../../doc/requirements.txt\")\n",
    ")\n",
    "def identity(x):\n",
    "    return x"
   ]
  },
  {
   "cell_type": "markdown",
   "id": "f3ffd9e2-b3d3-4996-8fc4-722cad5f00a3",
   "metadata": {},
   "source": [
    "We can also explicitly declare the list of packages in the electron:"
   ]
  },
  {
   "cell_type": "code",
   "execution_count": 22,
   "id": "8312d6ea-a043-4c9f-91b3-07564608b652",
   "metadata": {},
   "outputs": [],
   "source": [
    "@ct.electron(\n",
    "    deps_pip=[\"numpy==0.23\", \"qiskit\"],\n",
    ")\n",
    "def identity(x):\n",
    "    return x"
   ]
  }
 ],
 "metadata": {
  "kernelspec": {
   "display_name": "Python 3.8.12 64-bit ('3.8.12')",
   "language": "python",
   "name": "python3"
  },
  "language_info": {
   "codemirror_mode": {
    "name": "ipython",
    "version": 3
   },
   "file_extension": ".py",
   "mimetype": "text/x-python",
   "name": "python",
   "nbconvert_exporter": "python",
   "pygments_lexer": "ipython3",
   "version": "3.8.12"
  }
 },
 "nbformat": 4,
 "nbformat_minor": 5
}
