{
 "cells": [
  {
   "cell_type": "markdown",
   "metadata": {},
   "source": [
    "## How to add constraints to lattices\n",
    "\n",
    "We can assign specifications or constraints for the execution of the workflows. Two such constraints are the setting of the dispatcher server and the directory where the results are stored. By default, the results are stored in a `results` directory inside the folder where the script is being run. In order to see how constraints can be added to lattices, let us first define a simple subtask."
   ]
  },
  {
   "cell_type": "code",
   "execution_count": 1,
   "metadata": {},
   "outputs": [],
   "source": [
    "import covalent as ct\n",
    "\n",
    "@ct.electron\n",
    "def identity(x):\n",
    "    return x"
   ]
  },
  {
   "cell_type": "markdown",
   "metadata": {},
   "source": [
    "Next, we construct a workflow with the `lattice` decorator and pass in the constraints of interest as arguments."
   ]
  },
  {
   "cell_type": "code",
   "execution_count": 2,
   "metadata": {},
   "outputs": [],
   "source": [
    "@ct.lattice(results_dir=\"/tmp/results\")\n",
    "def workflow(a):\n",
    "    return identity(x=a)"
   ]
  },
  {
   "cell_type": "markdown",
   "metadata": {},
   "source": [
    ".. tip:: When the dispatcher server is started via `covalent start`, a default port is set. The same default port is the default value of the dispatcher address field in `ct.dispatch`. If we started the dispatcher server with `covalent start --port [port no.]`, we then have to change the dispatcher address field in `ct.dispatch`."
   ]
  },
  {
   "cell_type": "markdown",
   "metadata": {},
   "source": [
    "In this example, we override the default directory where the results are stored to a custom directory via the `results_dir` field in the lattice decorator."
   ]
  }
 ],
 "metadata": {
  "kernelspec": {
   "display_name": "python3",
   "language": "python",
   "name": "python3"
  },
  "language_info": {
   "codemirror_mode": {
    "name": "ipython",
    "version": 3
   },
   "file_extension": ".py",
   "mimetype": "text/x-python",
   "name": "python",
   "nbconvert_exporter": "python",
   "pygments_lexer": "ipython3",
   "version": "3.8.8"
  }
 },
 "nbformat": 4,
 "nbformat_minor": 4
}
