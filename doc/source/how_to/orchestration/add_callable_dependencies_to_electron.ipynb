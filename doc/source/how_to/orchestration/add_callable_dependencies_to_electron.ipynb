{
 "cells": [
  {
   "cell_type": "markdown",
   "id": "6ca2fb9c-183a-418e-a705-f7adc1bd0460",
   "metadata": {},
   "source": [
    "## How to add callable function dependencies to an electron\n",
    "\n",
    "In this section, we show how to add functions that are invoked before or after executing an electron.\n",
    "First, we import covalent.\n"
   ]
  },
  {
   "cell_type": "code",
   "execution_count": 11,
   "id": "63e34368-1569-470b-8cf1-8df184d036dd",
   "metadata": {},
   "outputs": [],
   "source": [
    "import covalent as ct\n",
    "from pathlib import Path"
   ]
  },
  {
   "cell_type": "markdown",
   "id": "b303b508-5435-44f7-b635-b3b1080effe5",
   "metadata": {},
   "source": [
    "Next, we define the functions to be executed before and after the electron:"
   ]
  },
  {
   "cell_type": "code",
   "execution_count": 12,
   "id": "d282be12-a87d-44cc-87a5-e95558300c37",
   "metadata": {},
   "outputs": [],
   "source": [
    "def call_before_hook(filename):\n",
    "    Path(filename).write_text('Hello world!')\n",
    "    return filename\n",
    "\n",
    "def call_after_hook(filename):\n",
    "    Path(filename).unlink()"
   ]
  },
  {
   "cell_type": "markdown",
   "id": "9ffee335-4b03-4c20-ad8b-7da7d921fbe4",
   "metadata": {},
   "source": [
    "We then declare the `call_before` and `call_after` variables in the electron to reference the corresponding functions which are passed as arguments to `DepsCall()`:"
   ]
  },
  {
   "cell_type": "code",
   "execution_count": 13,
   "id": "bb260ddb-409f-4c8c-b0f7-35d14f6aa3c0",
   "metadata": {},
   "outputs": [],
   "source": [
    "@ct.electron(\n",
    "    call_before=ct.DepsCall(call_before_hook, args=('test.txt',), retval_keyword='my_file'),\n",
    "    call_after=ct.DepsCall(call_after_hook, args=('test.txt',)),\n",
    ")\n",
    "def read_from_file(my_file=None):\n",
    "    with open(my_file,'r') as f:\n",
    "        return f.read()\n",
    "\n",
    "@ct.lattice\n",
    "def workflow():\n",
    "    return read_from_file()\n",
    "\n",
    "dispatch_id = ct.dispatch(workflow)()\n",
    "r = ct.get_result(dispatch_id, wait=True)\n",
    "print(r.result)"
   ]
  },
  {
   "cell_type": "markdown",
   "id": "e52b605c",
   "metadata": {},
   "source": [
    "Pne can pass other types of `Deps` as variables to `call_before` and `call_after`:"
   ]
  },
  {
   "cell_type": "code",
   "execution_count": 15,
   "id": "33537a7e",
   "metadata": {},
   "outputs": [],
   "source": [
    "from covalent import DepsBash, DepsPip\n",
    "\n",
    "deps_pip=DepsPip(packages=[\"numpy==1.22.4\"])\n",
    "deps_bash=DepsBash(commands=[\"echo $PATH >> /tmp/path.txt\"])\n",
    "\n",
    "@ct.electron(\n",
    "    call_before=[deps_pip],\n",
    "    call_after=[deps_bash],\n",
    ")\n",
    "def my_task():\n",
    "    pass"
   ]
  }
 ],
 "metadata": {
  "kernelspec": {
   "display_name": "Python 3.8.10 64-bit ('covalent')",
   "language": "python",
   "name": "python3"
  },
  "language_info": {
   "codemirror_mode": {
    "name": "ipython",
    "version": 3
   },
   "file_extension": ".py",
   "mimetype": "text/x-python",
   "name": "python",
   "nbconvert_exporter": "python",
   "pygments_lexer": "ipython3",
   "version": "3.8.10"
  },
  "vscode": {
   "interpreter": {
    "hash": ""
   }
  }
 },
 "nbformat": 4,
 "nbformat_minor": 5
}
