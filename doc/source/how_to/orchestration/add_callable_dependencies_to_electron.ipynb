{
 "cells": [
  {
   "cell_type": "markdown",
   "id": "6ca2fb9c-183a-418e-a705-f7adc1bd0460",
   "metadata": {},
   "source": [
    "## How to add callable function dependencies to an electron\n",
    "\n",
    "In this section, we show how to add functions that are invoked before or after executing an electron.\n",
    "First, we import the `DepsCall` class:\n"
   ]
  },
  {
   "cell_type": "code",
   "execution_count": 11,
   "id": "63e34368-1569-470b-8cf1-8df184d036dd",
   "metadata": {},
   "outputs": [],
   "source": [
    "import covalent as ct\n",
    "from covalent import DepsCall\n"
   ]
  },
  {
   "cell_type": "markdown",
   "id": "b303b508-5435-44f7-b635-b3b1080effe5",
   "metadata": {},
   "source": [
    "Next, we define the functions to be executed before and after the electron:"
   ]
  },
  {
   "cell_type": "code",
   "execution_count": 12,
   "id": "d282be12-a87d-44cc-87a5-e95558300c37",
   "metadata": {},
   "outputs": [],
   "source": [
    "def execute_before_electron(a, b):\n",
    "    pass\n",
    "\n",
    "def shutdown_after_electron():\n",
    "    pass"
   ]
  },
  {
   "cell_type": "markdown",
   "id": "9ffee335-4b03-4c20-ad8b-7da7d921fbe4",
   "metadata": {},
   "source": [
    "We then declare the `call_before` and `call_after` variables in the electron to reference the corresponding functions which are passed as arguments to `DepsCall()`:"
   ]
  },
  {
   "cell_type": "code",
   "execution_count": 13,
   "id": "bb260ddb-409f-4c8c-b0f7-35d14f6aa3c0",
   "metadata": {},
   "outputs": [],
   "source": [
    "@ct.electron(\n",
    "    call_before=DepsCall(execute_before_electron, args=(1, 2)),\n",
    "    call_after=DepsCall(shutdown_after_electron),\n",
    ")\n",
    "def identity(x):\n",
    "    return x"
   ]
  },
  {
   "cell_type": "markdown",
   "id": "1dacd5de-acc9-4797-bb6a-2d32b5a68799",
   "metadata": {},
   "source": [
    "Alternatively, we can explicitly declare the `call_before` and `call_after` functions in the electron:"
   ]
  },
  {
   "cell_type": "code",
   "execution_count": 14,
   "id": "73fb4d87-d066-4b44-ba70-1a38d26f409e",
   "metadata": {},
   "outputs": [],
   "source": [
    "@ct.electron(\n",
    "    call_before=[execute_before_electron, (1, 2)],\n",
    "    call_after=[shutdown_after_electron],\n",
    ")\n",
    "def identity(x):\n",
    "    return x"
   ]
  },
  {
   "cell_type": "markdown",
   "id": "e52b605c",
   "metadata": {},
   "source": [
    "Lastly, one can pass other types of `Deps` as variables to `call_before` and `call_after`:"
   ]
  },
  {
   "cell_type": "code",
   "execution_count": 15,
   "id": "33537a7e",
   "metadata": {},
   "outputs": [],
   "source": [
    "from covalent import DepsBash, DepsPip\n",
    "\n",
    "deps_pip=DepsPip(packages=[\"numpy==0.23\", \"qiskit\"]),\n",
    "deps_bash=DepsBash(commands=[\"echo $PATH\", \"ssh foo@bar.com\"])\n",
    "\n",
    "@ct.electron(\n",
    "    call_before=[deps_pip, deps_bash],\n",
    "    call_after=[shutdown_after_electron],\n",
    ")\n",
    "def identity(x):\n",
    "    return x"
   ]
  }
 ],
 "metadata": {
  "kernelspec": {
   "display_name": "Python 3.8.12 64-bit ('3.8.12')",
   "language": "python",
   "name": "python3"
  },
  "language_info": {
   "codemirror_mode": {
    "name": "ipython",
    "version": 3
   },
   "file_extension": ".py",
   "mimetype": "text/x-python",
   "name": "python",
   "nbconvert_exporter": "python",
   "pygments_lexer": "ipython3",
   "version": "3.8.12"
  }
 },
 "nbformat": 4,
 "nbformat_minor": 5
}
