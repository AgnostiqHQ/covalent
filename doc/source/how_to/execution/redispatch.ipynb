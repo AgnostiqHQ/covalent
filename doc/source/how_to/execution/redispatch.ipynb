{
 "cells": [
  {
   "attachments": {},
   "cell_type": "markdown",
   "metadata": {},
   "source": [
    "# How to redispatch a workflow\n",
    "\n",
    "The Covalent redispatch command allows re-executing a workflow with:\n",
    "\n",
    "* New input parameters\n",
    "* Replaced/updated task definitions for a collection of tasks\n",
    "\n",
    "Furthermore, there is the option to reuse the previous results whenever possible."
   ]
  },
  {
   "attachments": {},
   "cell_type": "markdown",
   "metadata": {},
   "source": [
    "First, construct a workflow."
   ]
  },
  {
   "cell_type": "code",
   "execution_count": 13,
   "metadata": {},
   "outputs": [],
   "source": [
    "import covalent as ct\n"
   ]
  },
  {
   "cell_type": "code",
   "execution_count": 14,
   "metadata": {},
   "outputs": [],
   "source": [
    "@ct.electron\n",
    "def task_1(a, b):\n",
    "    return a + b\n",
    "\n",
    "\n",
    "@ct.electron\n",
    "def task_2(a, b):\n",
    "    return a / b\n",
    "\n",
    "\n",
    "@ct.electron\n",
    "def task_2_redefined(a, b):\n",
    "    return a * b\n",
    "\n",
    "\n",
    "@ct.lattice\n",
    "def workflow(a, b):\n",
    "    res_1 = task_1(a, b)\n",
    "    res_2 = task_2(res_1, b)\n",
    "    return res_2\n"
   ]
  },
  {
   "attachments": {},
   "cell_type": "markdown",
   "metadata": {},
   "source": [
    "Next the workflow is dispatched using the some input parameters."
   ]
  },
  {
   "cell_type": "code",
   "execution_count": 15,
   "metadata": {},
   "outputs": [
    {
     "name": "stdout",
     "output_type": "stream",
     "text": [
      "Dispatch id: 05d97d79-4b74-4245-a095-56c229cde471\n",
      "Workflow execution status: COMPLETED\n",
      "Workflow output: 1.5\n"
     ]
    }
   ],
   "source": [
    "dispatch_id = ct.dispatch(workflow)(1, 2)\n",
    "print(f\"Dispatch id: {dispatch_id}\")\n",
    "result = ct.get_result(dispatch_id, wait=True)\n",
    "print(f\"Workflow execution status: {result.status}\")\n",
    "print(f\"Workflow output: {result.result}\")\n"
   ]
  },
  {
   "attachments": {},
   "cell_type": "markdown",
   "metadata": {},
   "source": [
    "### Case I: Redispatch workflow with redefined task and previous input parameters"
   ]
  },
  {
   "cell_type": "code",
   "execution_count": 16,
   "metadata": {},
   "outputs": [
    {
     "name": "stdout",
     "output_type": "stream",
     "text": [
      "Redispatch id: e3a8962c-39e1-4d5f-a49f-60687d49416d\n",
      "Redispatched workflow execution status: COMPLETED\n",
      "Redispatched workflow output: 6\n"
     ]
    }
   ],
   "source": [
    "redispatch_id = ct.redispatch(\n",
    "    dispatch_id, \n",
    "    replace_electrons={\"task_2\": task_2_redefined}\n",
    ")()\n",
    "print(f\"Redispatch id: {redispatch_id}\")\n",
    "result = ct.get_result(redispatch_id, wait=True)\n",
    "print(f\"Redispatched workflow execution status: {result.status}\")\n",
    "print(f\"Redispatched workflow output: {result.result}\")\n"
   ]
  },
  {
   "attachments": {},
   "cell_type": "markdown",
   "metadata": {},
   "source": [
    ".. tip:: By leaving the input parameters empty, the redispatch function will automatically dispatch the workflow with the previous input parameters."
   ]
  },
  {
   "attachments": {},
   "cell_type": "markdown",
   "metadata": {},
   "source": [
    "### Case II: Reuse previous results\n",
    "\n",
    "The workflow can also be re-executed so that previously computed results are reused as much as possible. "
   ]
  },
  {
   "cell_type": "code",
   "execution_count": 17,
   "metadata": {},
   "outputs": [
    {
     "name": "stdout",
     "output_type": "stream",
     "text": [
      "Redispatch id: 71044b18-a7d7-422a-88f2-beb931dfdc90\n",
      "Redispatched workflow execution status: COMPLETED\n",
      "Redispatched workflow output: 6\n"
     ]
    }
   ],
   "source": [
    "redispatch_id = ct.redispatch(\n",
    "    dispatch_id, \n",
    "    replace_electrons={\"task_2\": task_2_redefined}, \n",
    "    reuse_previous_results=True\n",
    ")()\n",
    "print(f\"Redispatch id: {redispatch_id}\")\n",
    "result = ct.get_result(redispatch_id, wait=True)\n",
    "print(f\"Redispatched workflow execution status: {result.status}\")\n",
    "print(f\"Redispatched workflow output: {result.result}\")\n"
   ]
  },
  {
   "cell_type": "code",
   "execution_count": 21,
   "metadata": {},
   "outputs": [
    {
     "name": "stdout",
     "output_type": "stream",
     "text": [
      "True\n"
     ]
    }
   ],
   "source": [
    "# This value should be True if previous results were reused.\n",
    "\n",
    "print(result.get_node_result(0)[\"start_time\"] == result.get_node_result(0)[\"end_time\"])"
   ]
  },
  {
   "attachments": {},
   "cell_type": "markdown",
   "metadata": {},
   "source": [
    ".. note:: By default, `reuse_previous_results` is set to `False`. In order to override this, the parameter needs to be explicitly set to `True`.\n",
    "\n",
    ".. warning:: When stochasticity is involved in the workflow, `reuse_previous_results` should not be set to `True`."
   ]
  },
  {
   "attachments": {},
   "cell_type": "markdown",
   "metadata": {},
   "source": [
    "### Case III: Redispatch with updated input parameters\n",
    "\n",
    "In order to evaluate the workflow with new input parameters, simply pass them as one would in the `ct.dispatch` command."
   ]
  },
  {
   "cell_type": "code",
   "execution_count": 22,
   "metadata": {},
   "outputs": [
    {
     "name": "stdout",
     "output_type": "stream",
     "text": [
      "Redispatch id: e00f7d01-c206-4c9f-a1e1-01392e4678cb\n",
      "Redispatched workflow execution status: COMPLETED\n",
      "Redispatched workflow output: 28\n"
     ]
    }
   ],
   "source": [
    "redispatch_id = ct.redispatch(\n",
    "    dispatch_id, \n",
    "    replace_electrons={\"task_2\": task_2_redefined}, \n",
    "    reuse_previous_results=True\n",
    ")(3, 4)\n",
    "print(f\"Redispatch id: {redispatch_id}\")\n",
    "result = ct.get_result(redispatch_id, wait=True)\n",
    "print(f\"Redispatched workflow execution status: {result.status}\")\n",
    "print(f\"Redispatched workflow output: {result.result}\")\n"
   ]
  },
  {
   "cell_type": "code",
   "execution_count": 11,
   "metadata": {},
   "outputs": [
    {
     "name": "stdout",
     "output_type": "stream",
     "text": [
      "2023-02-13 18:01:32.790863+00:00\n",
      "2023-02-13 18:01:32.825400+00:00\n"
     ]
    }
   ],
   "source": [
    "print(result.get_node_result(0)[\"start_time\"])\n",
    "print(result.get_node_result(0)[\"end_time\"])"
   ]
  },
  {
   "cell_type": "code",
   "execution_count": null,
   "metadata": {},
   "outputs": [],
   "source": []
  }
 ],
 "metadata": {
  "kernelspec": {
   "display_name": "covalent-dev",
   "language": "python",
   "name": "python3"
  },
  "language_info": {
   "codemirror_mode": {
    "name": "ipython",
    "version": 3
   },
   "file_extension": ".py",
   "mimetype": "text/x-python",
   "name": "python",
   "nbconvert_exporter": "python",
   "pygments_lexer": "ipython3",
   "version": "3.8.13"
  },
  "orig_nbformat": 4,
  "vscode": {
   "interpreter": {
    "hash": "678d961ff063469efd5d78aa3ae546f6863f1ce650ebb0207bc985343e10a81d"
   }
  }
 },
 "nbformat": 4,
 "nbformat_minor": 2
}
