{
 "cells": [
  {
   "attachments": {},
   "cell_type": "markdown",
   "metadata": {},
   "source": [
    "# How to redispatch a workflow\n",
    "\n",
    "The Covalent redispatch command allows re-executing a workflow with:\n",
    "\n",
    "* New input parameters\n",
    "* Replaced/updated task definitions for a collection of tasks\n",
    "\n",
    "Furthermore, there is the option to reuse the previous results whenever possible."
   ]
  },
  {
   "attachments": {},
   "cell_type": "markdown",
   "metadata": {},
   "source": [
    "First, construct a workflow."
   ]
  },
  {
   "cell_type": "code",
   "execution_count": 1,
   "metadata": {},
   "outputs": [],
   "source": [
    "import covalent as ct\n"
   ]
  },
  {
   "cell_type": "code",
   "execution_count": 2,
   "metadata": {},
   "outputs": [],
   "source": [
    "@ct.electron\n",
    "def task_1(a, b):\n",
    "    return a + b\n",
    "\n",
    "\n",
    "@ct.electron\n",
    "def task_2(a, b):\n",
    "    return a / b\n",
    "\n",
    "\n",
    "@ct.electron\n",
    "def task_2_redefined(a, b):\n",
    "    return a * b\n",
    "\n",
    "\n",
    "@ct.lattice\n",
    "def workflow(a, b):\n",
    "    res_1 = task_1(a, b)\n",
    "    res_2 = task_2(res_1, b)\n",
    "    return res_2\n"
   ]
  },
  {
   "attachments": {},
   "cell_type": "markdown",
   "metadata": {},
   "source": [
    "Next the workflow is dispatched using the some input parameters."
   ]
  },
  {
   "cell_type": "code",
   "execution_count": 3,
   "metadata": {},
   "outputs": [
    {
     "name": "stdout",
     "output_type": "stream",
     "text": [
      "Dispatch id: b428aec1-a8fc-416a-a61f-07c071f68ab0\n",
      "Workflow execution status: COMPLETED\n",
      "Workflow output: 1.5\n"
     ]
    }
   ],
   "source": [
    "dispatch_id = ct.dispatch(workflow)(1, 2)\n",
    "print(f\"Dispatch id: {dispatch_id}\")\n",
    "result = ct.get_result(dispatch_id, wait=True)\n",
    "print(f\"Workflow execution status: {result.status}\")\n",
    "print(f\"Workflow output: {result.result}\")\n"
   ]
  },
  {
   "attachments": {},
   "cell_type": "markdown",
   "metadata": {},
   "source": [
    "### Case I: Redispatch workflow with redefined task and previous input parameters"
   ]
  },
  {
   "cell_type": "code",
   "execution_count": 4,
   "metadata": {},
   "outputs": [
    {
     "name": "stdout",
     "output_type": "stream",
     "text": [
      "Redispatch id: 020b8adf-6baa-40d8-8650-af18ea6910a1\n",
      "Redispatched workflow execution status: COMPLETED\n",
      "Redispatched workflow output: 6\n"
     ]
    }
   ],
   "source": [
    "redispatch_id = ct.redispatch(\n",
    "    dispatch_id, \n",
    "    replace_electrons={\"task_2\": task_2_redefined}\n",
    ")()\n",
    "print(f\"Redispatch id: {redispatch_id}\")\n",
    "result = ct.get_result(redispatch_id, wait=True)\n",
    "print(f\"Redispatched workflow execution status: {result.status}\")\n",
    "print(f\"Redispatched workflow output: {result.result}\")\n"
   ]
  },
  {
   "attachments": {},
   "cell_type": "markdown",
   "metadata": {},
   "source": [
    ".. tip:: By leaving the input parameters empty, the redispatch function will automatically dispatch the workflow with the previous input parameters."
   ]
  },
  {
   "attachments": {},
   "cell_type": "markdown",
   "metadata": {},
   "source": [
    "### Case II: Reuse previous results\n",
    "\n",
    "The workflow can also be re-executed so that previously computed results are reused as much as possible. "
   ]
  },
  {
   "cell_type": "code",
   "execution_count": 5,
   "metadata": {},
   "outputs": [
    {
     "name": "stdout",
     "output_type": "stream",
     "text": [
      "Redispatch id: c98ba205-0bd2-4ec7-82ee-4ceaa8a2ad92\n",
      "Redispatched workflow execution status: COMPLETED\n",
      "Redispatched workflow output: 6\n"
     ]
    }
   ],
   "source": [
    "redispatch_id = ct.redispatch(\n",
    "    dispatch_id, \n",
    "    replace_electrons={\"task_2\": task_2_redefined}, \n",
    "    reuse_previous_results=True\n",
    ")()\n",
    "print(f\"Redispatch id: {redispatch_id}\")\n",
    "result = ct.get_result(redispatch_id, wait=True)\n",
    "print(f\"Redispatched workflow execution status: {result.status}\")\n",
    "print(f\"Redispatched workflow output: {result.result}\")\n"
   ]
  },
  {
   "cell_type": "code",
   "execution_count": 6,
   "metadata": {},
   "outputs": [
    {
     "name": "stdout",
     "output_type": "stream",
     "text": [
      "True\n"
     ]
    }
   ],
   "source": [
    "# This value should be True if previous results were reused.\n",
    "\n",
    "print(result.get_node_result(0)[\"start_time\"] == result.get_node_result(0)[\"end_time\"])\n"
   ]
  },
  {
   "attachments": {},
   "cell_type": "markdown",
   "metadata": {},
   "source": [
    ".. note:: By default, `reuse_previous_results` is set to `False`. In order to override this, the parameter needs to be explicitly set to `True`.\n",
    "\n",
    ".. warning:: When stochasticity is involved in the workflow, `reuse_previous_results` should not be set to `True`."
   ]
  },
  {
   "attachments": {},
   "cell_type": "markdown",
   "metadata": {},
   "source": [
    "### Case III: Redispatch with updated input parameters\n",
    "\n",
    "In order to evaluate the workflow with new input parameters, simply pass them as one would in the `ct.dispatch` command."
   ]
  },
  {
   "cell_type": "code",
   "execution_count": 7,
   "metadata": {},
   "outputs": [
    {
     "name": "stdout",
     "output_type": "stream",
     "text": [
      "Redispatch id: 712c9c45-8026-48a1-98b2-242ae15a683d\n",
      "Redispatched workflow execution status: COMPLETED\n",
      "Redispatched workflow output: 20\n"
     ]
    }
   ],
   "source": [
    "redispatch_id = ct.redispatch(\n",
    "    dispatch_id, \n",
    "    replace_electrons={\"task_2\": task_2_redefined}, \n",
    "    reuse_previous_results=True\n",
    ")(1, 4)\n",
    "print(f\"Redispatch id: {redispatch_id}\")\n",
    "result = ct.get_result(redispatch_id, wait=True)\n",
    "print(f\"Redispatched workflow execution status: {result.status}\")\n",
    "print(f\"Redispatched workflow output: {result.result}\")\n"
   ]
  }
 ],
 "metadata": {
  "kernelspec": {
   "display_name": "covalent-dev",
   "language": "python",
   "name": "python3"
  },
  "language_info": {
   "codemirror_mode": {
    "name": "ipython",
    "version": 3
   },
   "file_extension": ".py",
   "mimetype": "text/x-python",
   "name": "python",
   "nbconvert_exporter": "python",
   "pygments_lexer": "ipython3",
   "version": "3.8.13"
  },
  "orig_nbformat": 4,
  "vscode": {
   "interpreter": {
    "hash": "678d961ff063469efd5d78aa3ae546f6863f1ce650ebb0207bc985343e10a81d"
   }
  }
 },
 "nbformat": 4,
 "nbformat_minor": 2
}
