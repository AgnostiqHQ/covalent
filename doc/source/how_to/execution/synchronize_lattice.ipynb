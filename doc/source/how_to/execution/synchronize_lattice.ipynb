{
 "cells": [
  {
   "cell_type": "markdown",
   "id": "ae07c2dd",
   "metadata": {},
   "source": [
    "## How to synchronize lattices\n",
    "\n",
    "Synchronization is a process which blocks a thread until one or more conditions are met. In the context of Covalent, synchronization can be useful when users want to block execution until one or more workflows have completed."
   ]
  },
  {
   "cell_type": "code",
   "execution_count": 1,
   "id": "911c9244",
   "metadata": {},
   "outputs": [
    {
     "name": "stdout",
     "output_type": "stream",
     "text": [
      "['05c4d665-a299-4054-98a3-8af2ee01bca4', '11311269-15ff-41e1-a4b8-0911d57e56c7', 'b6fa60e2-bc3c-4be1-8788-3c2e3d8ecc9e']\n"
     ]
    }
   ],
   "source": [
    "import covalent as ct\n",
    "\n",
    "@ct.lattice\n",
    "@ct.electron\n",
    "def workflow(x):\n",
    "    return x + 5\n",
    "\n",
    "inputs = [1, 2, 3]\n",
    "dispatch_ids = [ct.dispatch(workflow)(x=x) for x in inputs]\n",
    "print(dispatch_ids)"
   ]
  },
  {
   "cell_type": "markdown",
   "id": "4441a027",
   "metadata": {},
   "source": [
    "The above snippet creates a single-electron workflow and dispatches it using three separate inputs.  We can now synchronize in several ways:"
   ]
  },
  {
   "cell_type": "code",
   "execution_count": 2,
   "id": "f99b33a4",
   "metadata": {},
   "outputs": [],
   "source": [
    "# Wait until one dispatch has completed\n",
    "ct.sync(dispatch_ids[0])\n",
    "\n",
    "# Wait until multiple dispatches have completed\n",
    "ct.sync(dispatch_ids[:2])\n",
    "\n",
    "# Wait until all dispatches have completed\n",
    "ct.sync(dispatch_ids)"
   ]
  }
 ],
 "metadata": {
  "kernelspec": {
   "display_name": "Python 3 (ipykernel)",
   "language": "python",
   "name": "python3"
  },
  "language_info": {
   "codemirror_mode": {
    "name": "ipython",
    "version": 3
   },
   "file_extension": ".py",
   "mimetype": "text/x-python",
   "name": "python",
   "nbconvert_exporter": "python",
   "pygments_lexer": "ipython3",
   "version": "3.8.8"
  }
 },
 "nbformat": 4,
 "nbformat_minor": 5
}
