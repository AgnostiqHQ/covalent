{
 "cells": [
  {
   "cell_type": "markdown",
   "metadata": {},
   "source": [
    "## How to choose an executor for a subtask\n",
    "\n",
    "Each electron can utilise different so-called executors. These exectors can have different capabilities, _eg_, different hardware, or different computation strategy.\n",
    "\n",
    "Executors are plugins; any executor-plugins which are found are imported as classes in the covalent.executor name-space."
   ]
  },
  {
   "cell_type": "code",
   "execution_count": 1,
   "metadata": {},
   "outputs": [],
   "source": [
    "import covalent as ct"
   ]
  },
  {
   "cell_type": "markdown",
   "metadata": {},
   "source": [
    "An executor can be initialized with it's class, with various input parameters:"
   ]
  },
  {
   "cell_type": "code",
   "execution_count": 2,
   "metadata": {},
   "outputs": [],
   "source": [
    "executor1 = ct.executor.LocalExecutor()\n",
    "\n",
    "@ct.electron(executor=executor1)\n",
    "def identity(x):\n",
    "    return x"
   ]
  },
  {
   "cell_type": "markdown",
   "metadata": {},
   "source": [
    "Or an executor can be specified by the name of the _module_ which contains the executor-plugin. In this case, we are specifying the executor-plugin found in `covalent/executor/executor_plugins/local.py`"
   ]
  },
  {
   "cell_type": "code",
   "execution_count": 3,
   "metadata": {},
   "outputs": [],
   "source": [
    "@ct.electron(executor=\"local\")\n",
    "def square(x):\n",
    "    return x * x"
   ]
  },
  {
   "cell_type": "markdown",
   "metadata": {},
   "source": [
    "The rest of the workflow continues as usual, within a `lattice`:"
   ]
  },
  {
   "cell_type": "code",
   "execution_count": 4,
   "metadata": {},
   "outputs": [],
   "source": [
    "@ct.lattice\n",
    "def workflow(a):\n",
    "    val_1 = identity(x=a)\n",
    "    return square(x=val_1)"
   ]
  },
  {
   "cell_type": "markdown",
   "metadata": {},
   "source": [
    ".. note:: Ensure that Covalent services have been started properly before attempting to execute the lattice."
   ]
  },
  {
   "cell_type": "markdown",
   "metadata": {},
   "source": [
    "Following that, the workflow can now be submitted using the `dispatch` method."
   ]
  },
  {
   "cell_type": "code",
   "execution_count": 5,
   "metadata": {},
   "outputs": [
    {
     "name": "stdout",
     "output_type": "stream",
     "text": [
      "36e61674-049d-4835-8aed-1e550fdb8f26\n"
     ]
    }
   ],
   "source": [
    "dispatch_id = ct.dispatch(workflow)(a=2)\n",
    "print(dispatch_id)"
   ]
  },
  {
   "cell_type": "markdown",
   "metadata": {},
   "source": [
    "When the workflow is dispatched, a dispatch id is generated. This id is then used to query the status of the task and retrieve the results as discussed in [How to query electron execution result](../collection/query_electron_execution_result.ipynb) and [How to query lattice execution result](../collection/query_lattice_execution_result.ipynb)."
   ]
  },
  {
   "cell_type": "code",
   "execution_count": 6,
   "metadata": {},
   "outputs": [
    {
     "name": "stdout",
     "output_type": "stream",
     "text": [
      "\n",
      "Lattice Result\n",
      "==============\n",
      "status: COMPLETED\n",
      "result: 4\n",
      "inputs: {'args': [], 'kwargs': {'a': 2}}\n",
      "error: None\n",
      "\n",
      "start_time: 2022-01-23 01:02:02.745038+00:00\n",
      "end_time: 2022-01-23 01:02:02.796901+00:00\n",
      "\n",
      "results_dir: /tmp/results\n",
      "dispatch_id: 36e61674-049d-4835-8aed-1e550fdb8f26\n",
      "\n",
      "Node Outputs\n",
      "------------\n",
      "identity(0): 2\n",
      ":parameter:2(1): 2\n",
      "square(2): 4\n",
      "\n"
     ]
    }
   ],
   "source": [
    "output = ct.get_result(dispatch_id=dispatch_id, wait=True)\n",
    "print(output)"
   ]
  }
 ],
 "metadata": {
  "kernelspec": {
   "display_name": "Python 3 (ipykernel)",
   "language": "python",
   "name": "python3"
  },
  "language_info": {
   "codemirror_mode": {
    "name": "ipython",
    "version": 3
   },
   "file_extension": ".py",
   "mimetype": "text/x-python",
   "name": "python",
   "nbconvert_exporter": "python",
   "pygments_lexer": "ipython3",
   "version": "3.8.8"
  }
 },
 "nbformat": 4,
 "nbformat_minor": 4
}
