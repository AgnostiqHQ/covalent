{
 "cells": [
  {
   "cell_type": "markdown",
   "metadata": {},
   "source": [
    "## Executing Multiple Workflows (Lattices)\n",
    "\n",
    "NEEDS EXAMPLE\n",
    "\n",
    "Execute multiple lattices from the same script.\n",
    "\n",
    "In Covalent there is no reason you cannot dispatch multiple lattices from the same script. Each dispatch is tracked separately and generates a different result  set.\n",
    "\n",
    "You might run two lattices from the same script if, for instance, the lattices represent two different approaches to the same problem and you want to programmatically compare the result sets. \n",
    "\n",
    "### Prerequisites\n",
    "\n",
    "[Start the Covalent services](./covalent_cli).\n",
    "\n",
    "### Procedure\n",
    "\n",
    "1. Write the lattices: "
   ]
  },
  {
   "cell_type": "code",
   "execution_count": 16,
   "metadata": {},
   "outputs": [],
   "source": [
    "import covalent as ct\n"
   ]
  },
  {
   "cell_type": "markdown",
   "metadata": {},
   "source": [
    "2. Dispatch the lattices separately."
   ]
  },
  {
   "cell_type": "code",
   "execution_count": null,
   "metadata": {
    "scrolled": true
   },
   "outputs": [],
   "source": []
  },
  {
   "cell_type": "markdown",
   "metadata": {},
   "source": [
    "3. Store the dispatch IDs so you can query the results later:"
   ]
  },
  {
   "cell_type": "code",
   "execution_count": 19,
   "metadata": {},
   "outputs": [],
   "source": []
  },
  {
   "cell_type": "markdown",
   "metadata": {},
   "source": [
    "### See Also\n",
    "\n",
    "[Looping](../coding/looping.ipynb)\n",
    "\n",
    "[Executing a Lattice Multiple Times](./execute_lattice_multiple_times.ipynb)"
   ]
  }
 ],
 "metadata": {
  "kernelspec": {
   "display_name": "Python 3 (ipykernel)",
   "language": "python",
   "name": "python3"
  },
  "language_info": {
   "codemirror_mode": {
    "name": "ipython",
    "version": 3
   },
   "file_extension": ".py",
   "mimetype": "text/x-python",
   "name": "python",
   "nbconvert_exporter": "python",
   "pygments_lexer": "ipython3",
   "version": "3.9.13"
  }
 },
 "nbformat": 4,
 "nbformat_minor": 4
}
