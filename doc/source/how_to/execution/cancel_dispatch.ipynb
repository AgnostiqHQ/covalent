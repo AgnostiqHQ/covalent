{
 "cells": [
  {
   "cell_type": "markdown",
   "metadata": {},
   "source": [
    "# How to cancel a running workflow\n",
    "\n",
    "Let's say we have dispatched a workflow which is going to run for some time. During its execution, we realize that we have given some wrong input and thus want to cancel its execution. That can be done as follows,"
   ]
  },
  {
   "cell_type": "code",
   "execution_count": 1,
   "metadata": {},
   "outputs": [
    {
     "name": "stdout",
     "output_type": "stream",
     "text": [
      "bed2d751-478a-4d6d-af24-be01099ab65a\n"
     ]
    }
   ],
   "source": [
    "import covalent as ct\n",
    "import time\n",
    "\n",
    "@ct.electron\n",
    "def task_1():\n",
    "    time.sleep(10)\n",
    "    print(\"Task 1\")\n",
    "    return 5\n",
    "\n",
    "@ct.electron\n",
    "def task_2(b, c):\n",
    "    time.sleep(b + c)\n",
    "    print(\"Task 2\")\n",
    "\n",
    "@ct.lattice\n",
    "def workflow(x):\n",
    "    task_2(task_1(), x)\n",
    "    return x ** 2\n",
    "\n",
    "dispatch_id = ct.dispatch(workflow)(10)\n",
    "print(dispatch_id)"
   ]
  },
  {
   "cell_type": "markdown",
   "metadata": {},
   "source": [
    "Now, when we try to get the result of this workflow within next 5 seconds,"
   ]
  },
  {
   "cell_type": "code",
   "execution_count": 2,
   "metadata": {},
   "outputs": [
    {
     "name": "stdout",
     "output_type": "stream",
     "text": [
      "\n",
      "Lattice Result\n",
      "==============\n",
      "status: RUNNING\n",
      "result: None\n",
      "inputs: {'x': 10}\n",
      "error: None\n",
      "\n",
      "start_time: 2022-01-23 01:00:55.892686+00:00\n",
      "end_time: None\n",
      "\n",
      "results_dir: /tmp/results\n",
      "dispatch_id: bed2d751-478a-4d6d-af24-be01099ab65a\n",
      "\n",
      "Node Outputs\n",
      "------------\n",
      "task_1(0): None\n",
      ": None\n",
      ":parameter:10(2): 10\n",
      "\n"
     ]
    }
   ],
   "source": [
    "time.sleep(3)\n",
    "result = ct.get_result(dispatch_id)\n",
    "print(result)"
   ]
  },
  {
   "cell_type": "markdown",
   "metadata": {},
   "source": [
    "We see that it hasn't finished executing yet. At this moment we realize that we want to cancel the execution of this workflow. We use the `ct.cancel` function,"
   ]
  },
  {
   "cell_type": "code",
   "execution_count": 3,
   "metadata": {},
   "outputs": [
    {
     "data": {
      "text/plain": [
       "'Dispatch bed2d751-478a-4d6d-af24-be01099ab65a cancelled.'"
      ]
     },
     "execution_count": 3,
     "metadata": {},
     "output_type": "execute_result"
    }
   ],
   "source": [
    "ct.cancel_workflow(dispatch_id)"
   ]
  },
  {
   "cell_type": "markdown",
   "metadata": {},
   "source": [
    "Now we check the result again, and see outputs of all the nodes,"
   ]
  },
  {
   "cell_type": "code",
   "execution_count": 4,
   "metadata": {},
   "outputs": [
    {
     "name": "stdout",
     "output_type": "stream",
     "text": [
      "\n",
      "Lattice Result\n",
      "==============\n",
      "status: CANCELLED\n",
      "result: None\n",
      "inputs: {'x': 10}\n",
      "error: None\n",
      "\n",
      "start_time: 2022-01-23 01:00:55.892686+00:00\n",
      "end_time: 2022-01-23 01:01:01.065509+00:00\n",
      "\n",
      "results_dir: /tmp/results\n",
      "dispatch_id: bed2d751-478a-4d6d-af24-be01099ab65a\n",
      "\n",
      "Node Outputs\n",
      "------------\n",
      "task_1(0): 5\n",
      "task_2(1): None\n",
      ":parameter:10(2): 10\n",
      "\n",
      "{'task_1(0)': 5, 'task_2(1)': None, ':parameter:10(2)': 10}\n"
     ]
    }
   ],
   "source": [
    "result = ct.get_result(dispatch_id, wait=True)\n",
    "print(result)\n",
    "\n",
    "print(result.get_all_node_outputs())"
   ]
  },
  {
   "cell_type": "markdown",
   "metadata": {},
   "source": [
    "We see that the after one of the nodes was executed, the cancellation signal was received by the dispatcher and further execution of the workflow was stopped. Since as of yet, `Dask` does not allow cancellation of a running thread, we cannot stop execution of a node that has already started running. So cancellation of a workflow execution will only affect the nodes which hadn't already started their execution and were going to do so after the cancellation signal was received."
   ]
  }
 ],
 "metadata": {
  "interpreter": {
   "hash": "f63e7985caea997504032bc67ebf6b6ff07db5420026db9c4de4a9a029ce747c"
  },
  "kernelspec": {
   "display_name": "Python 3.8.8 64-bit ('base': conda)",
   "language": "python",
   "name": "python3"
  },
  "language_info": {
   "codemirror_mode": {
    "name": "ipython",
    "version": 3
   },
   "file_extension": ".py",
   "mimetype": "text/x-python",
   "name": "python",
   "nbconvert_exporter": "python",
   "pygments_lexer": "ipython3",
   "version": "3.8.8"
  },
  "orig_nbformat": 4
 },
 "nbformat": 4,
 "nbformat_minor": 2
}
