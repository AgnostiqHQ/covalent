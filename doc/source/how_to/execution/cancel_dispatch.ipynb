{
 "cells": [
  {
   "cell_type": "markdown",
   "metadata": {},
   "source": [
    "# How to cancel a running workflow\n",
    "\n",
    "Canceling a workflow in Covalent can be done by invoking its `cancel` API. To cancel, the workflow's dispatch ID is a required argument to the function. Users can optionally also pass in a list of task IDs corresponding to the electrons they wish to cancel from executing from their workflow. Details about the `cancel` API can be found [here](../../api/cancel.rst). For more details regarding this feature and implementation please refer to the documentation [here](../../features/cancel.md)\n",
    "\n",
    "Now to demonstrate how a user can cancel a dispatch, let's say we have dispatched a workflow which is going to run for some time. During its execution, we realize that we have given some wrong input and thus want to cancel its execution. That can be done as follows|"
   ]
  },
  {
   "cell_type": "code",
   "execution_count": 3,
   "metadata": {
    "tags": []
   },
   "outputs": [
    {
     "name": "stdout",
     "output_type": "stream",
     "text": [
      "6dff7804-5fd8-4081-965d-1a4c7ca94f2a\n"
     ]
    }
   ],
   "source": [
    "import covalent as ct\n",
    "import time\n",
    "\n",
    "@ct.electron\n",
    "def task_1():\n",
    "    time.sleep(10)\n",
    "    print(\"Task 1\")\n",
    "    return 5\n",
    "\n",
    "@ct.electron\n",
    "def task_2(b, c):\n",
    "    time.sleep(b + c)\n",
    "    print(\"Task 2\")\n",
    "\n",
    "@ct.lattice\n",
    "def workflow(x):\n",
    "    task_2(task_1(), x)\n",
    "    return x ** 2\n",
    "\n",
    "dispatch_id = ct.dispatch(workflow)(10)\n",
    "print(dispatch_id)"
   ]
  },
  {
   "cell_type": "markdown",
   "metadata": {},
   "source": [
    "Now, when we try to get the result of this workflow within next 5 seconds,"
   ]
  },
  {
   "cell_type": "code",
   "execution_count": 4,
   "metadata": {
    "tags": []
   },
   "outputs": [
    {
     "name": "stdout",
     "output_type": "stream",
     "text": [
      "\n",
      "Lattice Result\n",
      "==============\n",
      "status: RUNNING\n",
      "result: None\n",
      "input args: ['10']\n",
      "input kwargs: {}\n",
      "error: None\n",
      "\n",
      "start_time: 2023-02-27 21:45:47.297742\n",
      "end_time: None\n",
      "\n",
      "results_dir: /home/venkat/.local/share/covalent/data\n",
      "dispatch_id: 6dff7804-5fd8-4081-965d-1a4c7ca94f2a\n",
      "\n",
      "Node Outputs\n",
      "------------\n",
      "task_1(0): None\n",
      "task_2(1): None\n",
      ":parameter:10(2): None\n",
      "\n"
     ]
    }
   ],
   "source": [
    "time.sleep(3)\n",
    "result = ct.get_result(dispatch_id)\n",
    "print(result)"
   ]
  },
  {
   "cell_type": "markdown",
   "metadata": {},
   "source": [
    "We see that it hasn't finished executing yet. At this moment we realize that we want to cancel the execution of this workflow. We use the `ct.cancel` function,"
   ]
  },
  {
   "cell_type": "code",
   "execution_count": 5,
   "metadata": {
    "tags": []
   },
   "outputs": [
    {
     "data": {
      "text/plain": [
       "'Dispatch 6dff7804-5fd8-4081-965d-1a4c7ca94f2a cancelled.'"
      ]
     },
     "execution_count": 5,
     "metadata": {},
     "output_type": "execute_result"
    }
   ],
   "source": [
    "ct.cancel(dispatch_id)"
   ]
  },
  {
   "cell_type": "markdown",
   "metadata": {},
   "source": [
    "Now we check the result again, and see outputs of all the nodes,"
   ]
  },
  {
   "cell_type": "code",
   "execution_count": 6,
   "metadata": {
    "tags": []
   },
   "outputs": [
    {
     "name": "stdout",
     "output_type": "stream",
     "text": [
      "\n",
      "Lattice Result\n",
      "==============\n",
      "status: CANCELLED\n",
      "result: None\n",
      "input args: ['10']\n",
      "input kwargs: {}\n",
      "error: The following tasks failed:\n",
      "\n",
      "\n",
      "start_time: 2023-02-27 21:45:47.297742\n",
      "end_time: 2023-02-27 21:45:55.613746\n",
      "\n",
      "results_dir: /home/venkat/.local/share/covalent/data\n",
      "dispatch_id: 6dff7804-5fd8-4081-965d-1a4c7ca94f2a\n",
      "\n",
      "Node Outputs\n",
      "------------\n",
      "task_1(0): None\n",
      "task_2(1): None\n",
      ":parameter:10(2): 10\n",
      "\n",
      "{'task_1(0)': None, 'task_2(1)': None, ':parameter:10(2)': <covalent.TransportableObject object at 0x7f2934e89670>}\n"
     ]
    }
   ],
   "source": [
    "result = ct.get_result(dispatch_id, wait=True)\n",
    "print(result)\n",
    "\n",
    "print(result.get_all_node_outputs())"
   ]
  },
  {
   "cell_type": "markdown",
   "metadata": {},
   "source": [
    "We see that the after one of the nodes was executed, the cancellation signal was received by the dispatcher and further execution of the workflow was stopped. Since as of yet, `Dask` does not allow cancellation of a running thread, we cannot stop execution of a node that has already started running. So cancellation of a workflow execution will only affect the nodes which hadn't already started their execution and were going to do so after the cancellation signal was received."
   ]
  },
  {
   "cell_type": "markdown",
   "metadata": {},
   "source": [
    "### Cancelling a task within a workflow\n",
    "\n",
    "Let's say now that we want to cancel just `task_2` from the workflow after it has been dispatched. To do so, we simply pass the task's ID to the `ct.cancel` call along with the workflow's dispatch ID. To demonstrate this, lets dispatch the workflow again"
   ]
  },
  {
   "cell_type": "code",
   "execution_count": 11,
   "metadata": {
    "tags": []
   },
   "outputs": [
    {
     "name": "stdout",
     "output_type": "stream",
     "text": [
      "3684a5c9-37a2-4834-bef9-7ad96624cd7c\n"
     ]
    }
   ],
   "source": [
    "dispatch_id = ct.dispatch(workflow)(10)\n",
    "print(dispatch_id)"
   ]
  },
  {
   "cell_type": "markdown",
   "metadata": {},
   "source": [
    "We assert here that the workflow is running properly"
   ]
  },
  {
   "cell_type": "code",
   "execution_count": 12,
   "metadata": {
    "tags": []
   },
   "outputs": [
    {
     "name": "stdout",
     "output_type": "stream",
     "text": [
      "\n",
      "Lattice Result\n",
      "==============\n",
      "status: RUNNING\n",
      "result: None\n",
      "input args: ['10']\n",
      "input kwargs: {}\n",
      "error: None\n",
      "\n",
      "start_time: 2023-02-27 21:52:20.282375\n",
      "end_time: None\n",
      "\n",
      "results_dir: /home/venkat/.local/share/covalent/data\n",
      "dispatch_id: 3684a5c9-37a2-4834-bef9-7ad96624cd7c\n",
      "\n",
      "Node Outputs\n",
      "------------\n",
      "task_1(0): None\n",
      "task_2(1): None\n",
      ":parameter:10(2): None\n",
      "\n"
     ]
    }
   ],
   "source": [
    "time.sleep(3)\n",
    "result = ct.get_result(dispatch_id)\n",
    "print(result)"
   ]
  },
  {
   "cell_type": "markdown",
   "metadata": {},
   "source": [
    "We see that the workflow is still running. Next we cancel just `task_2` from the workflow as follows"
   ]
  },
  {
   "cell_type": "code",
   "execution_count": 13,
   "metadata": {
    "tags": []
   },
   "outputs": [
    {
     "data": {
      "text/plain": [
       "'Cancelled tasks [1] in dispatch 3684a5c9-37a2-4834-bef9-7ad96624cd7c.'"
      ]
     },
     "execution_count": 13,
     "metadata": {},
     "output_type": "execute_result"
    }
   ],
   "source": [
    "ct.cancel(dispatch_id, task_ids=[1])"
   ]
  },
  {
   "cell_type": "markdown",
   "metadata": {},
   "source": [
    "Now we check the status of all nodes in the workflow after cancelling `task_2`"
   ]
  },
  {
   "cell_type": "code",
   "execution_count": 14,
   "metadata": {
    "tags": []
   },
   "outputs": [
    {
     "name": "stdout",
     "output_type": "stream",
     "text": [
      "\n",
      "Lattice Result\n",
      "==============\n",
      "status: CANCELLED\n",
      "result: None\n",
      "input args: ['10']\n",
      "input kwargs: {}\n",
      "error: The following tasks failed:\n",
      "\n",
      "\n",
      "start_time: 2023-02-27 21:52:20.282375\n",
      "end_time: 2023-02-27 21:52:30.380767\n",
      "\n",
      "results_dir: /home/venkat/.local/share/covalent/data\n",
      "dispatch_id: 3684a5c9-37a2-4834-bef9-7ad96624cd7c\n",
      "\n",
      "Node Outputs\n",
      "------------\n",
      "task_1(0): 5\n",
      "task_2(1): None\n",
      ":parameter:10(2): 10\n",
      "\n",
      "{'task_1(0)': <covalent.TransportableObject object at 0x7f2934526250>, 'task_2(1)': None, ':parameter:10(2)': <covalent.TransportableObject object at 0x7f2934a27940>}\n"
     ]
    }
   ],
   "source": [
    "result = ct.get_result(dispatch_id, wait=True)\n",
    "print(result)\n",
    "\n",
    "print(result.get_all_node_outputs())"
   ]
  },
  {
   "cell_type": "markdown",
   "metadata": {},
   "source": [
    "From the above result we can see that `task_2` as it was cancelled returns `None`"
   ]
  },
  {
   "cell_type": "code",
   "execution_count": null,
   "metadata": {},
   "outputs": [],
   "source": []
  }
 ],
 "metadata": {
  "interpreter": {
   "hash": "f63e7985caea997504032bc67ebf6b6ff07db5420026db9c4de4a9a029ce747c"
  },
  "kernelspec": {
   "display_name": "Python 3 (ipykernel)",
   "language": "python",
   "name": "python3"
  },
  "language_info": {
   "codemirror_mode": {
    "name": "ipython",
    "version": 3
   },
   "file_extension": ".py",
   "mimetype": "text/x-python",
   "name": "python",
   "nbconvert_exporter": "python",
   "pygments_lexer": "ipython3",
   "version": "3.8.16"
  }
 },
 "nbformat": 4,
 "nbformat_minor": 4
}
