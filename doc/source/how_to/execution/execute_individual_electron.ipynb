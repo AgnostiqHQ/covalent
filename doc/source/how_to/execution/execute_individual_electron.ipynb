{
 "cells": [
  {
   "cell_type": "markdown",
   "metadata": {},
   "source": [
    "## How to execute an individual electron"
   ]
  },
  {
   "cell_type": "markdown",
   "metadata": {},
   "source": [
    "In order to execute an individual electron, we can decorate it with both the `electron` and `lattice` decorator as shown below."
   ]
  },
  {
   "cell_type": "code",
   "execution_count": 1,
   "metadata": {},
   "outputs": [],
   "source": [
    "import covalent as ct\n",
    "\n",
    "@ct.lattice(results_dir=\"/tmp/results/\")\n",
    "@ct.electron\n",
    "def product(x, y):\n",
    "    return x * y"
   ]
  },
  {
   "cell_type": "markdown",
   "metadata": {},
   "source": [
    ".. note:: It is important to ensure that the correct dispatcher server with the proper port value is assigned in the `lattice` constraint."
   ]
  },
  {
   "cell_type": "markdown",
   "metadata": {},
   "source": [
    ".. tip:: We can set the results directory in the `lattice` decorator. Consult [How to add constraints to lattices](../orchestration/add_constraints_to_lattice.ipynb) for more details."
   ]
  },
  {
   "cell_type": "code",
   "execution_count": 2,
   "metadata": {},
   "outputs": [
    {
     "name": "stdout",
     "output_type": "stream",
     "text": [
      "caf6cafb-2c6c-4e87-a1c8-087636644d29\n"
     ]
    }
   ],
   "source": [
    "dispatch_id = ct.dispatch(product)(2, 3)\n",
    "print(dispatch_id)"
   ]
  },
  {
   "cell_type": "markdown",
   "metadata": {},
   "source": [
    "Executing the individual electron will return a dispatch id that can be used to query the subtask computation result."
   ]
  }
 ],
 "metadata": {
  "kernelspec": {
   "display_name": "python3",
   "language": "python",
   "name": "python3"
  },
  "language_info": {
   "codemirror_mode": {
    "name": "ipython",
    "version": 3
   },
   "file_extension": ".py",
   "mimetype": "text/x-python",
   "name": "python",
   "nbconvert_exporter": "python",
   "pygments_lexer": "ipython3",
   "version": "3.8.12"
  }
 },
 "nbformat": 4,
 "nbformat_minor": 4
}
