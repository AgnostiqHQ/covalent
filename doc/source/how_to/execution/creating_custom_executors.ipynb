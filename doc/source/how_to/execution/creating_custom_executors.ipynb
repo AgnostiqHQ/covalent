{
 "cells": [
  {
   "cell_type": "markdown",
   "metadata": {},
   "source": [
    "## How to create a custom executor\n",
    "\n",
    "Each electron can utilise different so-called executors. These exectors define the low-level directions for the computation. They can specify different capabilities, _eg_, different hardware, different computation strategy, different logic, or simply differnt goals.\n",
    "\n",
    "Executors are plugins; any executor-plugins which are found are imported as classes in the covalent.executor name-space.\n",
    "See the how-to on [choosing an executor to be used in an electron](choosing_executors.ipynb) for details on simply choosing an executor. Here, we go through the steps, line-by-line, on how to make your own."
   ]
  },
  {
   "cell_type": "markdown",
   "metadata": {},
   "source": [
    "There is a certain amount of boiler-plate Covalent code and imports that are required:"
   ]
  },
  {
   "cell_type": "code",
   "execution_count": null,
   "metadata": {},
   "outputs": [],
   "source": [
    "# All executor plugins inherit from the BaseExecutor base class.\n",
    "from covalent.executor import BaseExecutor\n",
    "\n",
    "# DispatchInfo objects are used to share info of a dispatched computation between different parts (electrons) of the workflow (lattice).\n",
    "from covalent._shared_files.util_classes import DispatchInfo\n",
    "\n",
    "# The function to be computed is in the form of a Covalent TransportableObject.\n",
    "# This import is not strictly necessary, as it is only used for type-hints.\n",
    "from covalent._workflow.transport import TransportableObject\n",
    "\n",
    "# The covalent logger moudle is a simple wrapper around the\n",
    "# standard Python logging module.\n",
    "from covalent._shared_files import logger\n",
    "app_log = logger.app_log\n",
    "log_stack_info = logger.log_stack_info"
   ]
  },
  {
   "cell_type": "markdown",
   "metadata": {},
   "source": [
    "We also need a few required standard Python imports:"
   ]
  },
  {
   "cell_type": "code",
   "execution_count": null,
   "metadata": {},
   "outputs": [],
   "source": [
    "# Results of operations take the form of io.StringIO objects.\n",
    "# These modules are used to capture those results.\n",
    "import io\n",
    "from contextlib import redirect_stderr, redirect_stdout\n",
    "\n",
    "# For type-hints\n",
    "from typing import Any"
   ]
  },
  {
   "cell_type": "markdown",
   "metadata": {},
   "source": [
    "Somewhere in the module, the module attribute \"executor_plugin_name\" must be set the class defining the executor:"
   ]
  },
  {
   "cell_type": "code",
   "execution_count": null,
   "metadata": {},
   "outputs": [],
   "source": [
    "# The plugin class name must be given by the executor_plugin_name attribute. In case this\n",
    "# module has more than one class defined, this lets Covalent know which is the executor class.\n",
    "executor_plugin_name = \"CustomExecutor\""
   ]
  },
  {
   "cell_type": "markdown",
   "metadata": {},
   "source": [
    "Now we define the executor plugin class. Input arguments to the class are not necessary, but in this example we have two."
   ]
  },
  {
   "cell_type": "code",
   "execution_count": null,
   "metadata": {},
   "outputs": [],
   "source": [
    "class CustomExecutor(BaseExecutor):\n",
    "\n",
    "    def __init__(\n",
    "        # Inputs to an executor can be positional or keyword arguments.\n",
    "        self,\n",
    "        executor_input1: str,\n",
    "        executor_input2: int = 0,\n",
    "    ) -> None:\n",
    "        self.executor_input1 = executor_input1\n",
    "        self.executor_input2 = executor_input2\n",
    "\n",
    "        # Call the BaseExecutor initialization:\n",
    "        super().__init__()"
   ]
  },
  {
   "cell_type": "markdown",
   "metadata": {},
   "source": [
    "The \"execute\" class method is the main work-horse of the executor plugin. Here is where and how the input function will be computed."
   ]
  },
  {
   "cell_type": "code",
   "execution_count": null,
   "metadata": {},
   "outputs": [],
   "source": [
    "    def execute(\n",
    "        self,\n",
    "        function: TransportableObject,\n",
    "        kwargs: Any,\n",
    "        execution_args: dict,\n",
    "        dispatch_id: str,\n",
    "        node_id: int = -1,\n",
    "    ) -> Any:\n",
    "\n",
    "        \"\"\"\n",
    "        Executes the input function and returns the result.\n",
    "\n",
    "        Args:\n",
    "            function: The input (serialized) python function which will be executed and\n",
    "                whose result is ultimately returned by this function.\n",
    "            kwargs: Keyword arguments to be used by function.\n",
    "            execution_args: Executor-specific arguments.\n",
    "            dispatch_id: The unique identifier of the external lattice process which is\n",
    "                calling this function.\n",
    "            node_id: The node ID of this task in the bigger workflow graph.\n",
    "\n",
    "        Returns:\n",
    "            output: The result of the executed function.\n",
    "        \"\"\"\n",
    "\n",
    "\n",
    "        with self.get_dispatch_context(DispatchInfo(dispatch_id)), redirect_stdout(\n",
    "            io.StringIO()\n",
    "        ) as stdout, redirect_stderr(io.StringIO()) as stderr:\n",
    "\n",
    "            # Convert the function to be executed, which is in the form of\n",
    "            # a Covalent TransportableObject, to a 'standard' Python function:\n",
    "            fn = function.get_deserialized()\n",
    "            app_log.debug(type(fn))\n",
    "\n",
    "            # In this block is where operations specific to your custom executor\n",
    "            # can be defined. These operations could manipulate the function, the\n",
    "            # inputs/outputs, or anything that Python allows.\n",
    "            external_object = ExternalClass(3)\n",
    "            app_log.debug(external_object.multiplier)\n",
    "\n",
    "            # Here we simply execute the function on the local machine.\n",
    "            # But this could be sent to a more capable machine for the operation,\n",
    "            # or a different Python virtual environment, or more.\n",
    "            result = fn(**kwargs)\n",
    "            \n",
    "            result = self.helper_function(result)\n",
    "\n",
    "            debug_message = f\"Function '{fn.__name__}' was executed on node {node_id} with execution arguments {execution_args}\"\n",
    "            app_log.debug(debug_message)\n",
    "\n",
    "        return (result, stdout.getvalue(), stderr.getvalue())"
   ]
  },
  {
   "cell_type": "markdown",
   "metadata": {},
   "source": [
    "Other class fucntions can, of course, be defined and used:"
   ]
  },
  {
   "cell_type": "code",
   "execution_count": null,
   "metadata": {},
   "outputs": [],
   "source": [
    "    def helper_function(self, result):\n",
    "        return 2*result"
   ]
  },
  {
   "cell_type": "markdown",
   "metadata": {},
   "source": [
    "Similarly, other classes can be in the same module:"
   ]
  },
  {
   "cell_type": "code",
   "execution_count": null,
   "metadata": {},
   "outputs": [],
   "source": [
    "# This class can be used in the custom executor, but will be ignored by the\n",
    "# plugin-loader, since it is not designated as the plugin class.\n",
    "class ExternalClass:\n",
    "\n",
    "    def __init__(self, multiplier: int):\n",
    "        self.multiplier = multiplier"
   ]
  }
 ],
 "metadata": {
  "kernelspec": {
   "display_name": "cova",
   "language": "python",
   "name": "cova"
  },
  "language_info": {
   "codemirror_mode": {
    "name": "ipython",
    "version": 3
   },
   "file_extension": ".py",
   "mimetype": "text/x-python",
   "name": "python",
   "nbconvert_exporter": "python",
   "pygments_lexer": "ipython3",
   "version": "3.8.12"
  }
 },
 "nbformat": 4,
 "nbformat_minor": 4
}
