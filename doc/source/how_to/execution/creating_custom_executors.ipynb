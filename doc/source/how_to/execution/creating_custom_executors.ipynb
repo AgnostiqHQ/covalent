{
 "cells": [
  {
   "cell_type": "markdown",
   "metadata": {},
   "source": [
    "## How to create a custom executor\n",
    "\n",
    "Executors define the low-level directions for the computation. They can specify different capabilities, eg., different hardware, different computation strategy, different logic, or simply different goals.\n",
    "\n",
    "Executors are plugins; any executor-plugins which are found are imported as classes in the covalent.executor name-space.\n",
    "See the how-to on [choosing an executor to be used in an electron](choosing_executors.ipynb) for details on simply choosing an executor.\n",
    "    \n",
    "You can write your own executor to execute Covalent electrons in any way you like, using particular environments, cloud resources, or hardware.\n",
    "\n",
    "A template to write one can be found [here](https://github.com/AgnostiqHQ/covalent-executor-template)."
   ]
  },
  {
   "attachments": {},
   "cell_type": "markdown",
   "metadata": {},
   "source": [
    "Following things should be part of the plugin file:\n",
    "\n",
    "1. `_EXECUTOR_PLUGIN_DEFAULTS`, any default values should be specified here\n",
    "2. `executor_plugin_name`, name of the executor to make it importable by `covalent.executors` - must be the same as its class name\n",
    "3. `run()`, core logic of how the executor will handle the user function, its args and its kwargs\n",
    "\n",
    "As an example, let's construct a `TimingExecutor` to get the CPU time used by the function and measure its code efficiency. We'll write that result to a file along with its dispatch_id and node_id for comparison."
   ]
  },
  {
   "attachments": {},
   "cell_type": "markdown",
   "metadata": {},
   "source": [
    "Since we are not planning on having any defaults, we can skip adding `_EXECUTOR_PLUGIN_DEFAULTS` here.\n",
    "Ideally any collection of custom executors should reside in a separate directory, so let's create a new dir for our plugin:\n",
    "\n",
    "In a terminal window:\n",
    "\n",
    "```bash\n",
    "mkdir custom_executors\n",
    "```\n",
    "\n",
    "And copy the following snippet in a file `timing_plugin.py` in that directory:"
   ]
  },
  {
   "cell_type": "code",
   "execution_count": 1,
   "metadata": {},
   "outputs": [
    {
     "name": "stdout",
     "output_type": "stream",
     "text": [
      "[2023-01-12 15:58:36,207] [DEBUG] __init__.py: Line 269 in <module>: e_dir: <class '/home/neptune/dev/covalent/doc/source/how_to/execution/custom_executors/timing_plugin.TimingExecutor'>\n",
      "[2023-01-12 15:58:36,208] [DEBUG] __init__.py: Line 270 in <module>: environ: None\n"
     ]
    }
   ],
   "source": [
    "# timing_plugin.py\n",
    "\n",
    "from covalent.executor import BaseExecutor\n",
    "from typing import Callable, Dict, List\n",
    "import time\n",
    "from pathlib import Path\n",
    "\n",
    "\n",
    "executor_plugin_name = \"TimingExecutor\"\n",
    "_EXECUTOR_PLUGIN_DEFAULTS = {\"timing_filepath\": \"\"}\n",
    "\n",
    "\n",
    "class TimingExecutor(BaseExecutor):\n",
    "\n",
    "    def __init__(self, timing_filepath, **kwargs):\n",
    "        self.timing_filepath = str(Path(timing_filepath).resolve())\n",
    "        super().__init__(**kwargs)\n",
    "\n",
    "    def run(self, function: Callable, args: List, kwargs: Dict, task_metadata: Dict):\n",
    "\n",
    "        start = time.process_time()\n",
    "\n",
    "        result = function(*args, **kwargs)\n",
    "\n",
    "        time_taken = time.process_time() - start\n",
    "\n",
    "        with open(f\"{self.timing_filepath}\", \"a\") as f:\n",
    "            f.writelines(f\"Node {task_metadata['node_id']} in dispatch {task_metadata['dispatch_id']} took {time_taken}s of CPU time.\")\n",
    "\n",
    "        return result\n"
   ]
  },
  {
   "attachments": {},
   "cell_type": "markdown",
   "metadata": {},
   "source": [
    "Now, let's inform Covalent where it can find our new executor by appending the `custom_executor` directory to `COVALENT_EXECUTOR_DIR` environment variable. To do that, in your terminal window do:\n",
    "\n",
    "```bash\n",
    "export COVALENT_EXECUTOR_DIR=$COVALENT_EXECUTOR_DIR:/path/to/custom_executor/\n",
    "```\n",
    "\n",
    "and afterwards to start the server,\n",
    "\n",
    "```bash\n",
    "covalent start\n",
    "```"
   ]
  },
  {
   "attachments": {},
   "cell_type": "markdown",
   "metadata": {},
   "source": [
    "Now, let's test if our executor works as expected:"
   ]
  },
  {
   "cell_type": "code",
   "execution_count": 2,
   "metadata": {},
   "outputs": [],
   "source": [
    "import covalent as ct\n",
    "from custom_executors.timing_plugin import TimingExecutor\n",
    "\n",
    "timing_executor = TimingExecutor(\"timing_file.txt\")\n",
    "\n",
    "@ct.electron(executor=timing_executor)\n",
    "def add(x, y):\n",
    "    return x + y\n",
    "\n",
    "@ct.electron(executor=timing_executor)\n",
    "def multiply(x, y):\n",
    "    return x * y\n",
    "\n",
    "\n",
    "@ct.lattice\n",
    "def workflow(x, y):\n",
    "    r1 = add(x, y)\n",
    "    return multiply(y, r1)"
   ]
  },
  {
   "cell_type": "code",
   "execution_count": 3,
   "metadata": {},
   "outputs": [
    {
     "name": "stdout",
     "output_type": "stream",
     "text": [
      "\n",
      "Lattice Result\n",
      "==============\n",
      "status: COMPLETED\n",
      "result: 15\n",
      "input args: ['2', '3']\n",
      "input kwargs: {}\n",
      "error: None\n",
      "\n",
      "start_time: 2023-01-12 15:58:36.519468\n",
      "end_time: 2023-01-12 15:58:36.801369\n",
      "\n",
      "results_dir: /home/neptune/.local/share/covalent/data\n",
      "dispatch_id: dc4b0aa4-13e2-40ad-8ee2-f7e73c769fe0\n",
      "\n",
      "Node Outputs\n",
      "------------\n",
      "add(0): 5\n",
      ":parameter:2(1): 2\n",
      ":parameter:3(2): 3\n",
      "multiply(3): 15\n",
      ":parameter:3(4): 3\n",
      "\n"
     ]
    }
   ],
   "source": [
    "result = ct.dispatch_sync(workflow)(2, 3)\n",
    "print(result)"
   ]
  },
  {
   "cell_type": "markdown",
   "metadata": {},
   "source": [
    "Since Covalent itself is written in an async aware manner, it is suggested that you write your custom executors to be async-aware as well, especially if there is going to be a network or IO bound logic inside `run()`. You can do so by subclassing `AsyncBaseExecutor` instead of `BaseExecutor`, and defining your `run()` with `async def run(...)` instead of `def run(...)`.\n",
    "\n",
    "Some examples of such executors are: [the default DaskExecutor](https://github.com/AgnostiqHQ/covalent/blob/develop/covalent/executor/executor_plugins/dask.py), [SSHPlugin](https://github.com/AgnostiqHQ/covalent-ssh-plugin), [SlurmPlugin](https://github.com/AgnostiqHQ/covalent-slurm-plugin)."
   ]
  },
  {
   "cell_type": "markdown",
   "metadata": {},
   "source": []
  }
 ],
 "metadata": {
  "kernelspec": {
   "display_name": "cova",
   "language": "python",
   "name": "python3"
  },
  "language_info": {
   "codemirror_mode": {
    "name": "ipython",
    "version": 3
   },
   "file_extension": ".py",
   "mimetype": "text/x-python",
   "name": "python",
   "nbconvert_exporter": "python",
   "pygments_lexer": "ipython3",
   "version": "3.8.15"
  },
  "vscode": {
   "interpreter": {
    "hash": "bc46502ba46b416dacb76460388e15e75b05e952c208e57c8294206d4336b33a"
   }
  }
 },
 "nbformat": 4,
 "nbformat_minor": 2
}
