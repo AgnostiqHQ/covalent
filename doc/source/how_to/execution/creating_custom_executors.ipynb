{
 "cells": [
  {
   "cell_type": "markdown",
   "metadata": {},
   "source": [
    "## How to create a custom executor\n",
    "\n",
    "<font size=\"3\">\n",
    "Each electron can utilise different so-called executors. These exectors define the low-level directions for the computation. They can specify different capabilities, _eg_, different hardware, different computation strategy, different logic, or simply differnt goals.\n",
    "\n",
    "Executors are plugins; any executor-plugins which are found are imported as classes in the covalent.executor name-space.\n",
    "See the how-to on [choosing an executor to be used in an electron](choosing_executors.ipynb) for details on simply choosing an executor. Here, we go through the steps, line-by-line, on how to make your own.\n",
    "</font>"
   ]
  },
  {
   "cell_type": "markdown",
   "metadata": {},
   "source": [
    "<font size=\"3\">\n",
    "There is a certain amount of boiler-plate Covalent code and imports that are required:\n",
    "</font>"
   ]
  },
  {
   "cell_type": "markdown",
   "metadata": {},
   "source": [
    "```python\n",
    "# All executor plugins inherit from the BaseExecutor base class.\n",
    "from covalent.executor import BaseExecutor\n",
    "\n",
    "# DispatchInfo objects are used to share info of a dispatched computation between different\n",
    "# tasks (electrons) of the workflow (lattice).\n",
    "from covalent._shared_files.util_classes import DispatchInfo\n",
    "\n",
    "# The function to be computed is in the form of a Covalent TransportableObject.\n",
    "# This import is not strictly necessary, as it is only used for type-hints.\n",
    "from covalent._workflow.transport import TransportableObject\n",
    "\n",
    "# The covalent logger module is a simple wrapper around the\n",
    "# standard Python logging module.\n",
    "from covalent._shared_files import logger\n",
    "app_log = logger.app_log\n",
    "log_stack_info = logger.log_stack_info\n",
    "```"
   ]
  },
  {
   "cell_type": "markdown",
   "metadata": {},
   "source": [
    "<font size=\"3\">\n",
    "We also need a few required standard Python imports:\n",
    "</font>"
   ]
  },
  {
   "cell_type": "markdown",
   "metadata": {},
   "source": [
    "```python\n",
    "# These modules are used to capture print/logging statements\n",
    "# inside electron definitions.\n",
    "import io\n",
    "from contextlib import redirect_stderr, redirect_stdout\n",
    "\n",
    "# For type-hints\n",
    "from typing import Any\n",
    "```"
   ]
  },
  {
   "cell_type": "markdown",
   "metadata": {},
   "source": [
    "<font size=\"3\">\n",
    "Somewhere in the module, the module attribute \"executor_plugin_name\" must be set to the class name defining the executor:\n",
    "</font>"
   ]
  },
  {
   "cell_type": "markdown",
   "metadata": {},
   "source": [
    "```python\n",
    "# The plugin class name must be given by the executor_plugin_name attribute. In case this\n",
    "# module has more than one class defined, this lets Covalent know which is the executor class.\n",
    "executor_plugin_name = \"CustomExecutor\"\n",
    "```"
   ]
  },
  {
   "cell_type": "markdown",
   "metadata": {},
   "source": [
    "<font size=\"3\">\n",
    "Now we define the executor plugin class. Input arguments to the executor class are not necessary, but in this example we have two, as well as other arbitrary arguments (*args) and keyword arguments (**kwargs).\n",
    "</font>"
   ]
  },
  {
   "cell_type": "markdown",
   "metadata": {},
   "source": [
    "```python\n",
    "class CustomExecutor(BaseExecutor):\n",
    "    def __init__(\n",
    "        # Inputs to an executor can be positional or keyword arguments.\n",
    "        self,\n",
    "        executor_input1: str,\n",
    "        executor_input2: int = 0,\n",
    "        *args,\n",
    "        **kwargs,\n",
    "\n",
    "    ) -> None:\n",
    "        self.executor_input1 = executor_input1\n",
    "        self.executor_input2 = executor_input2\n",
    "        self.args = args\n",
    "        self.kwargs = kwargs\n",
    "\n",
    "        # Call the BaseExecutor initialization:\n",
    "        # There are a number of optional arguments to BaseExecutor\n",
    "        # that could be specfied as keyword inputs to CustomExecutor.\n",
    "        base_kwargs = {}\n",
    "        for key in self.kwargs:\n",
    "            if key in [\n",
    "                \"log_stdout\",\n",
    "                \"log_stderr\",\n",
    "                \"conda_env\",\n",
    "                \"cache_dir\",\n",
    "                \"current_env_on_conda_fail\",\n",
    "            ]:\n",
    "                base_kwargs[key] = self.kwargs[key]\n",
    "\n",
    "        super().__init__(**base_kwargs)\n",
    "```"
   ]
  },
  {
   "cell_type": "markdown",
   "metadata": {},
   "source": [
    "<font size=\"3\">\n",
    "The \"execute\" class method is the main work-horse of the executor plugin. Here is the definition of where and how the input function will be computed.\n",
    "</font>"
   ]
  },
  {
   "cell_type": "markdown",
   "metadata": {},
   "source": [
    "```python\n",
    "    def execute(\n",
    "        self,\n",
    "        function: TransportableObject,\n",
    "        kwargs: Any,\n",
    "        execution_args: dict,\n",
    "        dispatch_id: str,\n",
    "        node_id: int = -1,\n",
    "    ) -> Any:\n",
    "\n",
    "        \"\"\"\n",
    "        Executes the input function and returns the result.\n",
    "\n",
    "        Args:\n",
    "            function: The input (serialized) python function which will be executed and\n",
    "                whose result is ultimately returned by this function.\n",
    "            kwargs: Keyword arguments to be used by function.\n",
    "            execution_args: Executor-specific arguments.\n",
    "            dispatch_id: The unique identifier of the external lattice process which is\n",
    "                calling this function.\n",
    "            node_id: The node ID of this task in the workflow graph.\n",
    "\n",
    "        Returns:\n",
    "            output: The result of the executed function.\n",
    "        \"\"\"\n",
    "```"
   ]
  },
  {
   "cell_type": "markdown",
   "metadata": {},
   "source": [
    "<font size=\"3\">\n",
    "Here, we convert the function from a Covalent TransportableObject to a \"standard\" Python function. From here, we are free to create whatever operations make this custom executor unique.\n",
    "</font>"
   ]
  },
  {
   "cell_type": "markdown",
   "metadata": {},
   "source": [
    "```python\n",
    "        # Convert the function to be executed, which is in the form of\n",
    "        # a Covalent TransportableObject, to a 'standard' Python function:\n",
    "        fn = function.get_deserialized()\n",
    "        app_log.debug(type(fn))\n",
    "\n",
    "        # In this block is where operations specific to your custom executor\n",
    "        # can be defined. These operations could manipulate the function, the\n",
    "        # inputs/outputs, or anything that Python allows.\n",
    "        external_object = ExternalClass(3)\n",
    "        app_log.debug(external_object.multiplier)\n",
    "```"
   ]
  },
  {
   "cell_type": "markdown",
   "metadata": {},
   "source": [
    "<font size=\"3\">\n",
    "The execution of the input function must be done within the following context manager:\n",
    "</font>"
   ]
  },
  {
   "cell_type": "markdown",
   "metadata": {},
   "source": [
    "```python\n",
    "        logs, errors = \"\", \"\"\n",
    "        with self.get_dispatch_context(DispatchInfo(dispatch_id)), redirect_stdout(\n",
    "            io.StringIO()\n",
    "        ) as stdout, redirect_stderr(io.StringIO()) as stderr:\n",
    "            # Here we simply execute the function on the local machine.\n",
    "            # But this could be sent to a more capable machine for the operation,\n",
    "            # or a different Python virtual environment, or more.\n",
    "            result = fn(**kwargs)\n",
    "            \n",
    "            logs, errors = stdout.getvalue(), stderr.getvalue()\n",
    "```"
   ]
  },
  {
   "cell_type": "markdown",
   "metadata": {},
   "source": [
    "<font size=\"3\">\n",
    "Other unique custom operations or informational logging can be done here as well.\n",
    "</font>"
   ]
  },
  {
   "cell_type": "markdown",
   "metadata": {},
   "source": [
    "```python\n",
    "        # Other custom operations can be applied here.\n",
    "        result = self.helper_function(result)\n",
    "\n",
    "        debug_message = f\"Function '{fn.__name__}' was executed on node {node_id} with execution arguments {execution_args}\"\n",
    "        app_log.debug(debug_message)\n",
    "```"
   ]
  },
  {
   "cell_type": "markdown",
   "metadata": {},
   "source": [
    "<font size=\"3\">\n",
    "Finally, return the result and any print statements or log/error messages from the execution, if any:\n",
    "</font>"
   ]
  },
  {
   "cell_type": "markdown",
   "metadata": {},
   "source": [
    "```python\n",
    "        return (result, logs, errors)\n",
    "```"
   ]
  },
  {
   "cell_type": "markdown",
   "metadata": {},
   "source": [
    "<font size=\"3\">\n",
    "Other class fucntions can, of course, be defined and used:\n",
    "</font>"
   ]
  },
  {
   "cell_type": "markdown",
   "metadata": {},
   "source": [
    "```python\n",
    "    def helper_function(self, result):\n",
    "        return 2*result\n",
    "```"
   ]
  },
  {
   "cell_type": "markdown",
   "metadata": {},
   "source": [
    "<font size=\"3\">\n",
    "Similarly, other classes can be in the same module:\n",
    "</font>"
   ]
  },
  {
   "cell_type": "markdown",
   "metadata": {},
   "source": [
    "```python\n",
    "# This class can be used in the custom executor, but will be ignored by the\n",
    "# plugin-loader, since it is not designated as the plugin class.\n",
    "class ExternalClass:\n",
    "\n",
    "    def __init__(self, multiplier: int):\n",
    "        self.multiplier = multiplier\n",
    "```"
   ]
  },
  {
   "cell_type": "markdown",
   "metadata": {},
   "source": [
    "<font size=\"3\">\n",
    "Here is the entire module in one executable cell:\n",
    "</font>"
   ]
  },
  {
   "cell_type": "code",
   "execution_count": null,
   "metadata": {},
   "outputs": [],
   "source": [
    "# Copyright 2021 Agnostiq Inc.\n",
    "#\n",
    "# This file is a part of Covalent Cloud.\n",
    "\n",
    "# All executor plugins inherit from the BaseExecutor base class.\n",
    "from covalent.executor import BaseExecutor\n",
    "\n",
    "# DispatchInfo objects are used to share info of a dispatched computation between different\n",
    "# tasks (electrons) of the workflow (lattice).\n",
    "from covalent._shared_files.util_classes import DispatchInfo\n",
    "\n",
    "# The function to be computed is in the form of a Covalent TransportableObject.\n",
    "# This import is not strictly necessary, as it is only used for type-hints.\n",
    "from covalent._workflow.transport import TransportableObject\n",
    "\n",
    "# The covalent logger module is a simple wrapper around the\n",
    "# standard Python logging module.\n",
    "from covalent._shared_files import logger\n",
    "app_log = logger.app_log\n",
    "log_stack_info = logger.log_stack_info\n",
    "\n",
    "# These modules are used to capture print/logging statements\n",
    "# inside electron definitions.\n",
    "import io\n",
    "from contextlib import redirect_stderr, redirect_stdout\n",
    "\n",
    "# For type-hints\n",
    "from typing import Any\n",
    "\n",
    "# The plugin class name must be given by the executor_plugin_name attribute. In case this\n",
    "# module has more than one class defined, this lets Covalent know which is the executor class.\n",
    "executor_plugin_name = \"CustomExecutor\"\n",
    "\n",
    "\n",
    "class CustomExecutor(BaseExecutor):\n",
    "    def __init__(\n",
    "        # Inputs to an executor can be positional or keyword arguments.\n",
    "        self,\n",
    "        executor_input1: str,\n",
    "        executor_input2: int = 0,\n",
    "        *args,\n",
    "        **kwargs,\n",
    "\n",
    "    ) -> None:\n",
    "        self.executor_input1 = executor_input1\n",
    "        self.executor_input2 = executor_input2\n",
    "        self.args = args\n",
    "        self.kwargs = kwargs\n",
    "\n",
    "        # Call the BaseExecutor initialization:\n",
    "        # There are a number of optional arguments to BaseExecutor\n",
    "        # that could be specfied as keyword inputs to CustomExecutor.\n",
    "        base_kwargs = {}\n",
    "        for key in self.kwargs:\n",
    "            if key in [\n",
    "                \"log_stdout\",\n",
    "                \"log_stderr\",\n",
    "                \"conda_env\",\n",
    "                \"cache_dir\",\n",
    "                \"current_env_on_conda_fail\",\n",
    "            ]:\n",
    "                base_kwargs[key] = self.kwargs[key]\n",
    "\n",
    "        super().__init__(**base_kwargs)\n",
    "    \n",
    "\n",
    "    def execute(\n",
    "        self,\n",
    "        function: TransportableObject,\n",
    "        kwargs: Any,\n",
    "        execution_args: dict,\n",
    "        dispatch_id: str,\n",
    "        node_id: int = -1,\n",
    "    ) -> Any:\n",
    "\n",
    "        \"\"\"\n",
    "        Executes the input function and returns the result.\n",
    "\n",
    "        Args:\n",
    "            function: The input (serialized) python function which will be executed and\n",
    "                whose result is ultimately returned by this function.\n",
    "            kwargs: Keyword arguments to be used by function.\n",
    "            execution_args: Executor-specific arguments.\n",
    "            dispatch_id: The unique identifier of the external lattice process which is\n",
    "                calling this function.\n",
    "            node_id: The node ID of this task in the workflow graph.\n",
    "\n",
    "        Returns:\n",
    "            output: The result of the executed function.\n",
    "        \"\"\"\n",
    "\n",
    "        # Convert the function to be executed, which is in the form of\n",
    "        # a Covalent TransportableObject, to a 'standard' Python function:\n",
    "        fn = function.get_deserialized()\n",
    "        app_log.debug(type(fn))\n",
    "\n",
    "        # In this block is where operations specific to your custom executor\n",
    "        # can be defined. These operations could manipulate the function, the\n",
    "        # inputs/outputs, or anything that Python allows.\n",
    "        external_object = ExternalClass(3)\n",
    "        app_log.debug(external_object.multiplier)\n",
    "\n",
    "        logs, errors = \"\", \"\"\n",
    "        with self.get_dispatch_context(DispatchInfo(dispatch_id)), redirect_stdout(\n",
    "            io.StringIO()\n",
    "        ) as stdout, redirect_stderr(io.StringIO()) as stderr:\n",
    "            # Here we simply execute the function on the local machine.\n",
    "            # But this could be sent to a more capable machine for the operation,\n",
    "            # or a different Python virtual environment, or more.\n",
    "            result = fn(**kwargs)\n",
    "\n",
    "            logs, errors = stdout.getvalue(), stderr.getvalue()\n",
    "\n",
    "        # Other custom operations can be applied here.\n",
    "        result = self.helper_function(result)\n",
    "\n",
    "        debug_message = f\"Function '{fn.__name__}' was executed on node {node_id} with execution arguments {execution_args}\"\n",
    "        app_log.debug(debug_message)\n",
    "\n",
    "        return (result, logs, errors)\n",
    "\n",
    "    def helper_function(self, result):\n",
    "        return 2 * result\n",
    "\n",
    "\n",
    "# This class can be used in the custom executor, but will be ignored by the\n",
    "# plugin-loader, since it is not designated as the plugin class.\n",
    "class ExternalClass:\n",
    "    def __init__(self, multiplier: int):\n",
    "        self.multiplier = multiplier\n"
   ]
  }
 ],
 "metadata": {
  "kernelspec": {
   "display_name": "cova",
   "language": "python",
   "name": "cova"
  },
  "language_info": {
   "codemirror_mode": {
    "name": "ipython",
    "version": 3
   },
   "file_extension": ".py",
   "mimetype": "text/x-python",
   "name": "python",
   "nbconvert_exporter": "python",
   "pygments_lexer": "ipython3",
   "version": "3.8.12"
  }
 },
 "nbformat": 4,
 "nbformat_minor": 4
}
