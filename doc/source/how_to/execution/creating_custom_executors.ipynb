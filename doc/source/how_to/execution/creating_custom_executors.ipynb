{
 "cells": [
  {
   "cell_type": "markdown",
   "metadata": {},
   "source": [
    "## How to create a custom executor\n",
    "\n",
    "Executors define the low-level directions for the computation. They can specify different capabilities, eg., different hardware, different computation strategy, different logic, or simply different goals.\n",
    "\n",
    "Executors are plugins; any executor-plugins which are found are imported as classes in the covalent.executor name-space.\n",
    "See the how-to on [choosing an executor to be used in an electron](choosing_executors.ipynb) for details on simply choosing an executor.\n",
    "    \n",
    "You can write your own executor to execute Covalent electrons in any way you like, using particular environments, cloud resources, or hardware.\n",
    "\n",
    "A template to write one can be found [here](https://github.com/AgnostiqHQ/covalent-executor-template)."
   ]
  },
  {
   "cell_type": "markdown",
   "metadata": {},
   "source": [
    "Following things should be part of the plugin file:\n",
    "\n",
    "1. `_EXECUTOR_PLUGIN_DEFAULTS`, if there are any defaults for the executor\n",
    "2. `executor_plugin_name`, name of the executor to make it importable by `covalent.executors` - must be the same as its class name\n",
    "3. `run()`, core logic of how the executor will handle the user function, its args and its kwargs\n",
    "\n",
    "As an example, let's construct a `TimingExecutor` to get the CPU time used by the function and measure its code efficiency. We'll write that result to a file along with its dispatch_id and node_id for comparison."
   ]
  },
  {
   "cell_type": "code",
   "execution_count": null,
   "metadata": {},
   "outputs": [],
   "source": [
    "# timing_plugin.py\n",
    "\n",
    "from covalent.executor import BaseExecutor\n",
    "from typing import Callable, Dict, List\n",
    "import time\n",
    "from pathlib import Path\n",
    "\n",
    "executor_plugin_name = \"TimingExecutor\"\n",
    "\n",
    "class TimingExecutor(BaseExecutor):\n",
    "\n",
    "    def __init__(self, timing_filepath, **kwargs):\n",
    "        self.timing_filepath = str(Path(timing_filepath).resolve())\n",
    "        super().__init__(**kwargs)\n",
    "\n",
    "    def run(self, function: Callable, args: List, kwargs: Dict, task_metadata: Dict):\n",
    "\n",
    "        start = time.process_time()\n",
    "\n",
    "        result = function(*args, **kwargs)\n",
    "\n",
    "        time_taken = time.process_time() - start\n",
    "\n",
    "        with open(f\"{self.timing_filepath}\", \"a\") as f:\n",
    "            f.writelines(f\"Node {task_metadata['node_id']} in dispatch {task_metadata['dispatch_id']} took {time_taken}s of CPU time.\")\n",
    "\n",
    "        return result\n"
   ]
  },
  {
   "cell_type": "code",
   "execution_count": null,
   "metadata": {},
   "outputs": [],
   "source": [
    "import covalent as ct\n",
    "\n",
    "timing_executor = TimingExecutor(\".\")\n",
    "\n",
    "@ct.electron(executor=timing_executor)\n",
    "def add(x, y):\n",
    "    return x + y\n",
    "\n",
    "@ct.electron(executor=timing_executor)\n",
    "def multiply(x, y):\n",
    "    return x * y\n",
    "\n",
    "\n",
    "@ct.lattice\n",
    "def workflow(x, y):\n",
    "    r1 = add(x, y)\n",
    "    return multiply(y, r1)"
   ]
  },
  {
   "cell_type": "markdown",
   "metadata": {},
   "source": [
    "Since Covalent itself is written in an async aware manner, it is suggested that you write your custom executors to be async-aware as well, especially if there is going to be a network or IO bound logic inside `run()`. You can do so by subclassing `AsyncBaseExecutor` instead of `BaseExecutor`, and defining your `run()` with `async def run(...)` instead of `def run(...)`.\n",
    "\n",
    "Some examples of such executors are: [the default DaskExecutor](https://github.com/AgnostiqHQ/covalent/blob/develop/covalent/executor/executor_plugins/dask.py), [SSHPlugin](https://github.com/AgnostiqHQ/covalent-ssh-plugin), [SlurmPlugin](https://github.com/AgnostiqHQ/covalent-slurm-plugin)."
   ]
  },
  {
   "cell_type": "markdown",
   "metadata": {},
   "source": []
  }
 ],
 "metadata": {
  "kernelspec": {
   "display_name": "Python 3.8.13 ('covadev')",
   "language": "python",
   "name": "python3"
  },
  "language_info": {
   "codemirror_mode": {
    "name": "ipython",
    "version": 3
   },
   "file_extension": ".py",
   "mimetype": "text/x-python",
   "name": "python",
   "nbconvert_exporter": "python",
   "pygments_lexer": "ipython3",
   "version": "3.8.13"
  }
 },
 "nbformat": 4,
 "nbformat_minor": 2
}
