{
 "cells": [
  {
   "cell_type": "markdown",
   "metadata": {},
   "source": [
    "## Creating a Custom Executor\n",
    "\n",
    "Executors define how backend resources handle computations. They specify everything about the resource: the hardware and configuration, and the computation strategy, logic, and even goals.\n",
    "\n",
    "Executors are plugins. Any executor plugins found by the dispatcher are imported as classes in the `covalent.executor` name space.\n",
    "\n",
    "Covalent already contains a number of versatile executors. (See [Choosing an Executor For a Task](choosing_executors.ipynb) for information about choosing an existing executor.) \n",
    "\n",
    "If an existing executor does not fit your needs, you can write your own, using your choice of environments, hardware, and cloud resources to execute Covalent electrons however you like. A template to write an executor can be found [here](https://github.com/AgnostiqHQ/covalent-executor-template).\n",
    "\n",
    "### Prerequisites\n",
    "\n",
    "Decide the purpose of the executor. You should have a good handle on the following questions:\n",
    "- What is the purpose of the executor? \n",
    "- What types of tasks is it designed to run?\n",
    "- What capabilities does the executor require that aren't already in an existing executor?\n",
    "- What hardware or cloud resource will it run on?\n",
    "- Will it scale? How?\n"
   ]
  },
  {
   "cell_type": "markdown",
   "metadata": {},
   "source": [
    "### Procedure\n",
    "\n",
    "The following example creates a `TimingExecutor` that computes the CPU time used by the function and measures its code efficiency. It then writes this result to a file along with its `dispatch_id` and `node_id`.\n",
    "\n",
    "1. Decide whether to make your executor asynchronous.\n",
    "\n",
    "Covalent is written to be capable of running asynchronous (async) executors. In general, Covalent suggests that you write your custom executors to be async-capable execution as well, especially if there is going to be a network or I/O-bound logic inside the `run()` function. \n",
    "\n",
    "Some examples of async executors are: \n",
    "- The default [DaskExecutor](https://github.com/AgnostiqHQ/covalent/blob/develop/covalent/executor/executor_plugins/dask.py)\n",
    "- [SSHPlugin](https://github.com/AgnostiqHQ/covalent-ssh-plugin)\n",
    "- [SlurmPlugin](https://github.com/AgnostiqHQ/covalent-slurm-plugin).\n",
    "\n",
    "To make your executor async-capable, do the following:\n",
    "- Subclass `AsyncBaseExecutor` instead of `BaseExecutor`\n",
    "- Define your `run()` function with\n",
    "\n",
    "    `async def run(...)`\n",
    "    \n",
    "    instead of \n",
    "    \n",
    "    `def run(...)`\n",
    "\n",
    "2. Import the Covalent `BaseExecutor` (or `AsyncBaseExecutor`) and Python `typing` libraries:"
   ]
  },
  {
   "cell_type": "code",
   "execution_count": 3,
   "metadata": {},
   "outputs": [],
   "source": [
    "# timing_plugin.py\n",
    "\n",
    "from covalent.executor import BaseExecutor\n",
    "from typing import Callable, Dict, List\n",
    "import time \n",
    "from pathlib import Path"
   ]
  },
  {
   "cell_type": "markdown",
   "metadata": {},
   "source": [
    "3. Write the plugin class. The class must contain:\n",
    "\n",
    "- The class name of the executor, shared in `executor_plugin_name` to make it importable by `covalent.executors`.\n",
    "- A `run()` function that handles the user function. The `run()` function must take these parameters:\n",
    "    - A `Callable` object to contain the task to be executed;\n",
    "    - A list of arguments (`args`) and a dictionary of keyword arguments (`kwargs`) to pass to the `Callable`.\n",
    "    - A dictionary, `task_metadata`, to store the `dispatch_id` and `node_id`.\n",
    "- `_EXECUTOR_PLUGIN_DEFAULTS`, if there are any defaults for the executor.\n",
    "\n",
    "With all the above in mind, the example `TimingExecutor` class looks like this:"
   ]
  },
  {
   "cell_type": "code",
   "execution_count": 27,
   "metadata": {},
   "outputs": [],
   "source": [
    "executor_plugin_name = \"TimingExecutor\" # Required by covalent.executors \n",
    "\n",
    "class TimingExecutor(BaseExecutor):\n",
    "\n",
    "    def __init__(self, timing_filepath, **kwargs):\n",
    "        self.timing_filepath = str(Path(timing_filepath).resolve())\n",
    "        super().__init__(**kwargs)\n",
    "\n",
    "    def run(self, function: Callable, args: List, kwargs: Dict, task_metadata: Dict):\n",
    "\n",
    "        start = time.process_time()\n",
    "\n",
    "        result = function(*args, **kwargs)\n",
    "\n",
    "        time_taken = time.process_time() - start\n",
    "\n",
    "        with open(f\"{self.timing_filepath}\", \"a\") as f:\n",
    "            f.write(f\"Node {task_metadata['node_id']} in dispatch {task_metadata['dispatch_id']} took {time_taken}s of CPU time.\")\n",
    "\n",
    "        return result\n"
   ]
  },
  {
   "cell_type": "markdown",
   "metadata": {},
   "source": [
    "4. Construct electrons and assign them to the new executor, then execute them in a lattice:"
   ]
  },
  {
   "cell_type": "code",
   "execution_count": 33,
   "metadata": {},
   "outputs": [],
   "source": [
    "import covalent as ct\n",
    "\n",
    "timing_log = \"./cpu_timing.log\"\n",
    "timing_executor = TimingExecutor(timing_log)\n",
    "\n",
    "@ct.electron(executor=timing_executor)\n",
    "def add(x, y):\n",
    "    return x + y\n",
    "\n",
    "@ct.electron(executor=timing_executor)\n",
    "def multiply(x, y):\n",
    "    return x * y\n",
    "\n",
    "@ct.lattice\n",
    "def workflow(x, y):\n",
    "    r1 = add(x, y)\n",
    "    return multiply(y, r1)"
   ]
  },
  {
   "cell_type": "markdown",
   "metadata": {},
   "source": [
    "5. Run the lattice:"
   ]
  },
  {
   "cell_type": "code",
   "execution_count": 34,
   "metadata": {},
   "outputs": [
    {
     "name": "stdout",
     "output_type": "stream",
     "text": [
      "\n",
      "Lattice Result\n",
      "==============\n",
      "status: COMPLETED\n",
      "result: 28\n",
      "input args: ['3', '4']\n",
      "input kwargs: {}\n",
      "error: None\n",
      "\n",
      "start_time: 2022-12-31 21:42:07.944871\n",
      "end_time: 2022-12-31 21:42:08.199045\n",
      "\n",
      "results_dir: /Users/mini-me/agnostiq/covalent/doc/source/how_to/execution/results\n",
      "dispatch_id: 71435cc2-bbfa-4d20-a97d-78cf0e584fd1\n",
      "\n",
      "Node Outputs\n",
      "------------\n",
      "add(0): 7\n",
      ":parameter:3(1): 3\n",
      ":parameter:4(2): 4\n",
      "multiply(3): 28\n",
      ":parameter:4(4): 4\n",
      "\n"
     ]
    },
    {
     "ename": "FileNotFoundError",
     "evalue": "[Errno 2] No such file or directory: './cpu_timing.log'",
     "output_type": "error",
     "traceback": [
      "\u001b[0;31m---------------------------------------------------------------------------\u001b[0m",
      "\u001b[0;31mFileNotFoundError\u001b[0m                         Traceback (most recent call last)",
      "Input \u001b[0;32mIn [34]\u001b[0m, in \u001b[0;36m<cell line: 5>\u001b[0;34m()\u001b[0m\n\u001b[1;32m      2\u001b[0m result \u001b[38;5;241m=\u001b[39m ct\u001b[38;5;241m.\u001b[39mget_result(dispatch_id, wait\u001b[38;5;241m=\u001b[39m\u001b[38;5;28;01mTrue\u001b[39;00m)\n\u001b[1;32m      3\u001b[0m \u001b[38;5;28mprint\u001b[39m(result)\n\u001b[0;32m----> 5\u001b[0m \u001b[38;5;28;01mfor\u001b[39;00m line \u001b[38;5;129;01min\u001b[39;00m \u001b[38;5;28;43mopen\u001b[39;49m\u001b[43m(\u001b[49m\u001b[43mtiming_log\u001b[49m\u001b[43m,\u001b[49m\u001b[43m \u001b[49m\u001b[38;5;124;43m'\u001b[39;49m\u001b[38;5;124;43mr\u001b[39;49m\u001b[38;5;124;43m'\u001b[39;49m\u001b[43m)\u001b[49m:\n\u001b[1;32m      6\u001b[0m     \u001b[38;5;28mprint\u001b[39m(line)\n",
      "\u001b[0;31mFileNotFoundError\u001b[0m: [Errno 2] No such file or directory: './cpu_timing.log'"
     ]
    }
   ],
   "source": [
    "dispatch_id = ct.dispatch(workflow)(3, 4)\n",
    "result = ct.get_result(dispatch_id, wait=True)\n",
    "print(result)\n",
    "\n",
    "for line in open(timing_log, 'r'):\n",
    "    print(line)"
   ]
  },
  {
   "cell_type": "markdown",
   "metadata": {},
   "source": [
    "### See Also\n",
    "\n",
    "[Adding Constraints to Tasks and Workflows](./coding/add_constraints_to_lattice)\n",
    "\n",
    "[Choosing an Executor For a Task](choosing_executors.ipynb)\n",
    "    \n",
    "[Executor Template (GitHub)](https://github.com/AgnostiqHQ/covalent-executor-template)\n",
    "\n",
    "[DaskExecutor (GitHub)](https://github.com/AgnostiqHQ/covalent/blob/develop/covalent/executor/executor_plugins/dask.py)\n",
    "\n",
    "[SSHPlugin (GitHub)](https://github.com/AgnostiqHQ/covalent-ssh-plugin)\n",
    "\n",
    "[SlurmPlugin (GitHub)](https://github.com/AgnostiqHQ/covalent-slurm-plugin)"
   ]
  },
  {
   "cell_type": "code",
   "execution_count": null,
   "metadata": {},
   "outputs": [],
   "source": []
  }
 ],
 "metadata": {
  "kernelspec": {
   "display_name": "Python 3 (ipykernel)",
   "language": "python",
   "name": "python3"
  },
  "language_info": {
   "codemirror_mode": {
    "name": "ipython",
    "version": 3
   },
   "file_extension": ".py",
   "mimetype": "text/x-python",
   "name": "python",
   "nbconvert_exporter": "python",
   "pygments_lexer": "ipython3",
   "version": "3.9.13"
  }
 },
 "nbformat": 4,
 "nbformat_minor": 2
}
