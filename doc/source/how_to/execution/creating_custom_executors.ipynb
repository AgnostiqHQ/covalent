{
 "cells": [
  {
   "cell_type": "markdown",
   "metadata": {},
   "source": [
    "## How to create a custom executor\n",
    "\n",
    "Executors define the low-level directions for the computation. They can specify different capabilities, eg., different hardware, different computation strategy, different logic, or simply different goals.\n",
    "\n",
    "Executors are plugins; any executor-plugins which are found are imported as classes in the covalent.executor name-space.\n",
    "See the how-to on [choosing an executor to be used in an electron](choosing_executors.ipynb) for details on simply choosing an executor.\n",
    "    \n",
    "You can write your own executor to execute Covalent electrons in any way you like, using particular environments, cloud resources, or hardware.\n",
    "\n",
    "A template to write one can be found [here](https://github.com/AgnostiqHQ/covalent-executor-template)."
   ]
  },
  {
   "attachments": {},
   "cell_type": "markdown",
   "metadata": {},
   "source": [
    "Following things should be part of the plugin file:\n",
    "\n",
    "1. `executor_plugin_name`, name of the executor to make it importable by `covalent.executors` - must be the same as its class name\n",
    "2. `run()`, core logic of how the executor will handle the user function, its args and its kwargs\n",
    "3. `_EXECUTOR_PLUGIN_DEFAULTS`, if there are any defaults for the executor\n",
    "\n",
    "As an example, let's construct a `TimingExecutor` to get the CPU time used by the function and measure its code efficiency. We'll write that result to a file along with its dispatch_id and node_id for comparison."
   ]
  },
  {
   "attachments": {},
   "cell_type": "markdown",
   "metadata": {},
   "source": [
    "Since we are not planning on having any defaults, we can skip adding `_EXECUTOR_PLUGIN_DEFAULTS` here.\n",
    "Ideally any collection of custom executors should reside in a separate directory, so let's create a new dir for our plugin:\n",
    "\n",
    "In a terminal window:\n",
    "\n",
    "```bash\n",
    "mkdir custom_executors\n",
    "```\n",
    "\n",
    "And copy the following snippet in a file `timing_plugin.py` in that directory:"
   ]
  },
  {
   "cell_type": "code",
   "execution_count": 1,
   "metadata": {},
   "outputs": [],
   "source": [
    "# timing_plugin.py\n",
    "\n",
    "from covalent.executor import BaseExecutor\n",
    "from typing import Callable, Dict, List\n",
    "import time\n",
    "from pathlib import Path\n",
    "\n",
    "executor_plugin_name = \"TimingExecutor\"\n",
    "\n",
    "class TimingExecutor(BaseExecutor):\n",
    "\n",
    "    def __init__(self, timing_filepath, **kwargs):\n",
    "        self.timing_filepath = str(Path(timing_filepath).resolve())\n",
    "        super().__init__(**kwargs)\n",
    "\n",
    "    def run(self, function: Callable, args: List, kwargs: Dict, task_metadata: Dict):\n",
    "\n",
    "        start = time.process_time()\n",
    "\n",
    "        result = function(*args, **kwargs)\n",
    "\n",
    "        time_taken = time.process_time() - start\n",
    "\n",
    "        with open(f\"{self.timing_filepath}\", \"a\") as f:\n",
    "            f.writelines(f\"Node {task_metadata['node_id']} in dispatch {task_metadata['dispatch_id']} took {time_taken}s of CPU time.\")\n",
    "\n",
    "        return result\n"
   ]
  },
  {
   "attachments": {},
   "cell_type": "markdown",
   "metadata": {},
   "source": [
    "Now, let's inform Covalent where it can find our new executor by appending the `custom_executor` directory to `COVALENT_EXECUTOR_DIR` environment variable. To do that, in your terminal window do:\n",
    "\n",
    "```bash\n",
    "export COVALENT_EXECUTOR_DIR=$COVALENT_EXECUTOR_DIR:/path/to/custom_executor/\n",
    "```\n",
    "\n",
    "and afterwards to start the server,\n",
    "\n",
    "```bash\n",
    "covalent start\n",
    "```"
   ]
  },
  {
   "attachments": {},
   "cell_type": "markdown",
   "metadata": {},
   "source": [
    "Now, let's test if our executor works as expected:"
   ]
  },
  {
   "cell_type": "code",
   "execution_count": 2,
   "metadata": {},
   "outputs": [],
   "source": [
    "import covalent as ct\n",
    "from custom_executors.timing_plugin import TimingExecutor\n",
    "\n",
    "timing_executor = TimingExecutor(\".\")\n",
    "\n",
    "@ct.electron(executor=timing_executor)\n",
    "def add(x, y):\n",
    "    return x + y\n",
    "\n",
    "@ct.electron(executor=timing_executor)\n",
    "def multiply(x, y):\n",
    "    return x * y\n",
    "\n",
    "\n",
    "@ct.lattice\n",
    "def workflow(x, y):\n",
    "    r1 = add(x, y)\n",
    "    return multiply(y, r1)"
   ]
  },
  {
   "cell_type": "code",
   "execution_count": 3,
   "metadata": {},
   "outputs": [
    {
     "ename": "HTTPError",
     "evalue": "500 Server Error: Internal Server Error for url: http://localhost:48008/api/submit",
     "output_type": "error",
     "traceback": [
      "\u001b[0;31m---------------------------------------------------------------------------\u001b[0m",
      "\u001b[0;31mHTTPError\u001b[0m                                 Traceback (most recent call last)",
      "Cell \u001b[0;32mIn[3], line 1\u001b[0m\n\u001b[0;32m----> 1\u001b[0m result \u001b[39m=\u001b[39m ct\u001b[39m.\u001b[39;49mdispatch_sync(workflow)(\u001b[39m2\u001b[39;49m, \u001b[39m3\u001b[39;49m)\n\u001b[1;32m      2\u001b[0m \u001b[39mprint\u001b[39m(result)\n",
      "File \u001b[0;32m~/dev/covalent/covalent/_dispatcher_plugins/local.py:129\u001b[0m, in \u001b[0;36mLocalDispatcher.dispatch_sync.<locals>.wrapper\u001b[0;34m(*args, **kwargs)\u001b[0m\n\u001b[1;32m    114\u001b[0m \u001b[39m@wraps\u001b[39m(lattice)\n\u001b[1;32m    115\u001b[0m \u001b[39mdef\u001b[39;00m \u001b[39mwrapper\u001b[39m(\u001b[39m*\u001b[39margs, \u001b[39m*\u001b[39m\u001b[39m*\u001b[39mkwargs) \u001b[39m-\u001b[39m\u001b[39m>\u001b[39m Result:\n\u001b[1;32m    116\u001b[0m     \u001b[39m\"\"\"\u001b[39;00m\n\u001b[1;32m    117\u001b[0m \u001b[39m    Send the lattice to the dispatcher server and return\u001b[39;00m\n\u001b[1;32m    118\u001b[0m \u001b[39m    the result of the executed workflow.\u001b[39;00m\n\u001b[0;32m   (...)\u001b[0m\n\u001b[1;32m    125\u001b[0m \u001b[39m        The result of the executed workflow.\u001b[39;00m\n\u001b[1;32m    126\u001b[0m \u001b[39m    \"\"\"\u001b[39;00m\n\u001b[1;32m    128\u001b[0m     \u001b[39mreturn\u001b[39;00m get_result(\n\u001b[0;32m--> 129\u001b[0m         LocalDispatcher\u001b[39m.\u001b[39;49mdispatch(lattice, dispatcher_addr)(\u001b[39m*\u001b[39;49margs, \u001b[39m*\u001b[39;49m\u001b[39m*\u001b[39;49mkwargs),\n\u001b[1;32m    130\u001b[0m         wait\u001b[39m=\u001b[39mwait\u001b[39m.\u001b[39mEXTREME,\n\u001b[1;32m    131\u001b[0m     )\n",
      "File \u001b[0;32m~/dev/covalent/covalent/_dispatcher_plugins/local.py:87\u001b[0m, in \u001b[0;36mLocalDispatcher.dispatch.<locals>.wrapper\u001b[0;34m(*args, **kwargs)\u001b[0m\n\u001b[1;32m     84\u001b[0m test_url \u001b[39m=\u001b[39m \u001b[39mf\u001b[39m\u001b[39m\"\u001b[39m\u001b[39mhttp://\u001b[39m\u001b[39m{\u001b[39;00mdispatcher_addr\u001b[39m}\u001b[39;00m\u001b[39m/api/submit\u001b[39m\u001b[39m\"\u001b[39m\n\u001b[1;32m     86\u001b[0m r \u001b[39m=\u001b[39m requests\u001b[39m.\u001b[39mpost(test_url, data\u001b[39m=\u001b[39mjson_lattice)\n\u001b[0;32m---> 87\u001b[0m r\u001b[39m.\u001b[39;49mraise_for_status()\n\u001b[1;32m     88\u001b[0m \u001b[39mreturn\u001b[39;00m r\u001b[39m.\u001b[39mcontent\u001b[39m.\u001b[39mdecode(\u001b[39m\"\u001b[39m\u001b[39mutf-8\u001b[39m\u001b[39m\"\u001b[39m)\u001b[39m.\u001b[39mstrip()\u001b[39m.\u001b[39mreplace(\u001b[39m'\u001b[39m\u001b[39m\"\u001b[39m\u001b[39m'\u001b[39m, \u001b[39m\"\u001b[39m\u001b[39m\"\u001b[39m)\n",
      "File \u001b[0;32m~/anaconda3/envs/cova/lib/python3.8/site-packages/requests/models.py:1021\u001b[0m, in \u001b[0;36mResponse.raise_for_status\u001b[0;34m(self)\u001b[0m\n\u001b[1;32m   1016\u001b[0m     http_error_msg \u001b[39m=\u001b[39m (\n\u001b[1;32m   1017\u001b[0m         \u001b[39mf\u001b[39m\u001b[39m\"\u001b[39m\u001b[39m{\u001b[39;00m\u001b[39mself\u001b[39m\u001b[39m.\u001b[39mstatus_code\u001b[39m}\u001b[39;00m\u001b[39m Server Error: \u001b[39m\u001b[39m{\u001b[39;00mreason\u001b[39m}\u001b[39;00m\u001b[39m for url: \u001b[39m\u001b[39m{\u001b[39;00m\u001b[39mself\u001b[39m\u001b[39m.\u001b[39murl\u001b[39m}\u001b[39;00m\u001b[39m\"\u001b[39m\n\u001b[1;32m   1018\u001b[0m     )\n\u001b[1;32m   1020\u001b[0m \u001b[39mif\u001b[39;00m http_error_msg:\n\u001b[0;32m-> 1021\u001b[0m     \u001b[39mraise\u001b[39;00m HTTPError(http_error_msg, response\u001b[39m=\u001b[39m\u001b[39mself\u001b[39m)\n",
      "\u001b[0;31mHTTPError\u001b[0m: 500 Server Error: Internal Server Error for url: http://localhost:48008/api/submit"
     ]
    }
   ],
   "source": [
    "result = ct.dispatch_sync(workflow)(2, 3)\n",
    "print(result)"
   ]
  },
  {
   "cell_type": "markdown",
   "metadata": {},
   "source": [
    "Since Covalent itself is written in an async aware manner, it is suggested that you write your custom executors to be async-aware as well, especially if there is going to be a network or IO bound logic inside `run()`. You can do so by subclassing `AsyncBaseExecutor` instead of `BaseExecutor`, and defining your `run()` with `async def run(...)` instead of `def run(...)`.\n",
    "\n",
    "Some examples of such executors are: [the default DaskExecutor](https://github.com/AgnostiqHQ/covalent/blob/develop/covalent/executor/executor_plugins/dask.py), [SSHPlugin](https://github.com/AgnostiqHQ/covalent-ssh-plugin), [SlurmPlugin](https://github.com/AgnostiqHQ/covalent-slurm-plugin)."
   ]
  },
  {
   "cell_type": "markdown",
   "metadata": {},
   "source": []
  }
 ],
 "metadata": {
  "kernelspec": {
   "display_name": "cova",
   "language": "python",
   "name": "python3"
  },
  "language_info": {
   "codemirror_mode": {
    "name": "ipython",
    "version": 3
   },
   "file_extension": ".py",
   "mimetype": "text/x-python",
   "name": "python",
   "nbconvert_exporter": "python",
   "pygments_lexer": "ipython3",
   "version": "3.8.15"
  },
  "vscode": {
   "interpreter": {
    "hash": "bc46502ba46b416dacb76460388e15e75b05e952c208e57c8294206d4336b33a"
   }
  }
 },
 "nbformat": 4,
 "nbformat_minor": 2
}
