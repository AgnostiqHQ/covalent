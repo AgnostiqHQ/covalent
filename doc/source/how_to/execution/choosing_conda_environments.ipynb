{
 "cells": [
  {
   "cell_type": "markdown",
   "metadata": {},
   "source": [
    "## How to execute with specified Conda environments\n",
    "\n",
    "When [specifying specific exeuctors to be used in an electron](choosing_executors.ipynb), specific Conda environments can be chosen. This can be useful if one has various sandboxed environments meant for different purposes, but needs them to interact together in a workflow, or if a workflow is more suited to a particular environment."
   ]
  },
  {
   "cell_type": "code",
   "execution_count": 1,
   "metadata": {},
   "outputs": [],
   "source": [
    "import covalent as ct"
   ]
  },
  {
   "cell_type": "markdown",
   "metadata": {},
   "source": [
    "When initializing an executor, the Conda environment can be specified."
   ]
  },
  {
   "cell_type": "markdown",
   "metadata": {},
   "source": [
    "In the cells below, whenever there is the input parameter `conda_env = \"your_conda_env\"`, replace `\"your_conda_env\"` with the name of a Conda environment on your machine, in quotations. _Eg_ `conda_env = \"tensor_flow_environment\"`"
   ]
  },
  {
   "cell_type": "markdown",
   "metadata": {},
   "source": [
    ".. note:: The requested Conda environment must actually exist, and have the `cloudpickle` module installed. If it does not, the process will fail, depending on if the parameter `current_env_on_conda_fail` is set to `True` or not. If set to `True`, the electron will run in the current Conda environment."
   ]
  },
  {
   "cell_type": "code",
   "execution_count": 2,
   "metadata": {},
   "outputs": [],
   "source": [
    "executor1 = ct.executor.LocalExecutor(\n",
    "    conda_env = \"your_conda_env\",\n",
    "    current_env_on_conda_fail=True,\n",
    ")\n",
    "\n",
    "executor2 = ct.executor.LocalExecutor(\n",
    "    conda_env = \"your_conda_env\",\n",
    "    current_env_on_conda_fail=True,\n",
    ")\n",
    "\n",
    "@ct.electron(executor=executor1)\n",
    "def identity(x):\n",
    "    return x\n",
    "\n",
    "@ct.electron(executor=executor2)\n",
    "def square(x):\n",
    "    return x * x"
   ]
  },
  {
   "cell_type": "markdown",
   "metadata": {},
   "source": [
    "The rest of the workflow continues as usual, within a `lattice`:"
   ]
  },
  {
   "cell_type": "code",
   "execution_count": 3,
   "metadata": {},
   "outputs": [],
   "source": [
    "@ct.lattice\n",
    "def workflow(a):\n",
    "    val_1 = identity(x=a)\n",
    "    return square(x=val_1)"
   ]
  },
  {
   "cell_type": "markdown",
   "metadata": {},
   "source": [
    ".. note:: Ensure that Covalent services have been started properly before attempting to execute the lattice."
   ]
  },
  {
   "cell_type": "markdown",
   "metadata": {},
   "source": [
    "Following that, the workflow can now be submitted using the `dispatch` method."
   ]
  },
  {
   "cell_type": "code",
   "execution_count": 4,
   "metadata": {},
   "outputs": [],
   "source": [
    "dispatch_id = ct.dispatch(workflow)(a=2)\n",
    "print(dispatch_id)"
   ]
  },
  {
   "cell_type": "markdown",
   "metadata": {},
   "source": [
    "When the workflow is dispatched, a dispatch id is generated. This id is then used to query the status of the task and retrieve the results as discussed in [How to query electron execution result](../collection/query_electron_execution_result.ipynb) and [How to query lattice execution result](../collection/query_lattice_execution_result.ipynb)."
   ]
  },
  {
   "cell_type": "code",
   "execution_count": 5,
   "metadata": {},
   "outputs": [
    {
     "name": "stdout",
     "output_type": "stream",
     "text": [
      "\n",
      "Lattice Result\n",
      "==============\n",
      "status: COMPLETED\n",
      "result: 4\n",
      "inputs: {'a': 2}\n",
      "error: None\n",
      "\n",
      "start_time: 2022-01-23 01:01:26.320717+00:00\n",
      "end_time: 2022-01-23 01:01:26.973022+00:00\n",
      "\n",
      "results_dir: /tmp/results\n",
      "dispatch_id: 8ec4c7f5-1524-4281-977b-258c0712631e\n",
      "\n",
      "Node Outputs\n",
      "------------\n",
      "identity(0): 2\n",
      ":parameter:2(1): 2\n",
      "square(2): 4\n",
      "\n"
     ]
    }
   ],
   "source": [
    "output = ct.get_result(dispatch_id=dispatch_id, wait=True)\n",
    "print(output)"
   ]
  }
 ],
 "metadata": {
  "kernelspec": {
   "display_name": "cova",
   "language": "python",
   "name": "cova"
  },
  "language_info": {
   "codemirror_mode": {
    "name": "ipython",
    "version": 3
   },
   "file_extension": ".py",
   "mimetype": "text/x-python",
   "name": "python",
   "nbconvert_exporter": "python",
   "pygments_lexer": "ipython3",
   "version": "3.8.12"
  }
 },
 "nbformat": 4,
 "nbformat_minor": 4
}
