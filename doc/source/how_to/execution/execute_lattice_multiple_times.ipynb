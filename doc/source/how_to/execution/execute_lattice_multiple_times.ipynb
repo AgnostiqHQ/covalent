{
 "cells": [
  {
   "cell_type": "markdown",
   "metadata": {},
   "source": [
    "## Executing a Workflow (Lattice) Multiple Times\n",
    "\n",
    "Execute a lattice multiple times with different parameters by starting the lattice from a loop. Covalent parallelizes the execution of the runs. \n",
    "\n",
    "### Prerequisites\n",
    "\n",
    "[Start the Covalent services](./covalent_cli.rst).\n",
    "\n",
    "### Procedure\n",
    "\n",
    "1. Write the lattice. This example takes a single scalar parameter, but the principle is the same for more complex inputs:"
   ]
  },
  {
   "cell_type": "code",
   "execution_count": 2,
   "metadata": {},
   "outputs": [],
   "source": [
    "import covalent as ct\n",
    "\n",
    "@ct.electron\n",
    "def identity(x):\n",
    "    return x\n",
    "\n",
    "@ct.electron\n",
    "def square(x):\n",
    "    return x * x\n",
    "\n",
    "@ct.lattice\n",
    "def workflow(a):\n",
    "    val_1 = identity(x=a)\n",
    "    return square(x=val_1)"
   ]
  },
  {
   "cell_type": "markdown",
   "metadata": {},
   "source": [
    "2. Dispatch the tasks separately:"
   ]
  },
  {
   "cell_type": "code",
   "execution_count": 3,
   "metadata": {},
   "outputs": [
    {
     "data": {
      "text/plain": [
       "['8118c374-4991-4f3f-a0c8-195b436a5a3e',\n",
       " 'f02d34f3-c2c4-46db-a5b7-59bc370d172e',\n",
       " '19663e5c-85da-4706-ba86-dc60e74eb253',\n",
       " 'fc11b0ee-038e-4953-968d-3cd1ecd24f3e']"
      ]
     },
     "execution_count": 3,
     "metadata": {},
     "output_type": "execute_result"
    }
   ],
   "source": [
    "params = [1, 2, 3, 4]\n",
    "dispatch_ids = [ct.dispatch(workflow)(a=param) for param in params]\n",
    "\n",
    "dispatch_ids"
   ]
  },
  {
   "cell_type": "markdown",
   "metadata": {},
   "source": [
    "3. Store the dispatch IDs so that you can retrieve the results later:"
   ]
  },
  {
   "cell_type": "code",
   "execution_count": 5,
   "metadata": {},
   "outputs": [],
   "source": [
    "id_file = open(\"dispatch_ids.txt\", 'w')\n",
    "id_file.writelines(\"%s\\n\" % id for id in dispatch_ids)\n",
    "id_file.close()"
   ]
  },
  {
   "cell_type": "markdown",
   "metadata": {},
   "source": [
    "### See Also\n",
    "\n",
    "[Looping](../coding/looping.ipynb)\n",
    "\n",
    "\n",
    "[Executing a Lattice as an Electron (Sublattice)](./execute_sublattice.rst)"
   ]
  }
 ],
 "metadata": {
  "kernelspec": {
   "display_name": "Python 3 (ipykernel)",
   "language": "python",
   "name": "python3"
  },
  "language_info": {
   "codemirror_mode": {
    "name": "ipython",
    "version": 3
   },
   "file_extension": ".py",
   "mimetype": "text/x-python",
   "name": "python",
   "nbconvert_exporter": "python",
   "pygments_lexer": "ipython3",
   "version": "3.9.13"
  }
 },
 "nbformat": 4,
 "nbformat_minor": 4
}
