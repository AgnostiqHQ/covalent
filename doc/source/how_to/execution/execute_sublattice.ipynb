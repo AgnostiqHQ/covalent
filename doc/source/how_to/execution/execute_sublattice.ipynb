{
 "cells": [
  {
   "attachments": {},
   "cell_type": "markdown",
   "metadata": {},
   "source": [
    "## Executing a Lattice as an Electron (Sublattice)\n",
    "\n",
    "You might want to encapsulate a computation that involves more than one electron and deploy it in workflows as a single unit. Wrap a lattice with the `@electron` decorator to run it as a self-contained unit in another lattice.\n",
    "\n",
    "### Prerequisites\n",
    "\n",
    "[Start the Covalent server](./covalent_cli.rst).\n",
    "\n",
    "### Procedure\n",
    "\n",
    "1. Write a lattice."
   ]
  },
  {
   "cell_type": "code",
   "execution_count": 9,
   "metadata": {},
   "outputs": [],
   "source": [
    "import covalent as ct\n",
    "\n",
    "@ct.electron\n",
    "def identity(x):\n",
    "    return x\n",
    "\n",
    "@ct.electron\n",
    "def root(x):\n",
    "    return x ** 0.5\n",
    "\n",
    "@ct.electron\n",
    "def square(x):\n",
    "    return x * x\n",
    "\n",
    "@ct.lattice\n",
    "def multiply_3_and_square(x):\n",
    "    root(x=x)\n",
    "    return square(x=x * 3)"
   ]
  },
  {
   "cell_type": "markdown",
   "metadata": {},
   "source": [
    "2. Make the lattice an electron using the `@electron` decorator:"
   ]
  },
  {
   "cell_type": "code",
   "execution_count": 10,
   "metadata": {},
   "outputs": [],
   "source": [
    "# The same lattice, but decorated with @electron:\n",
    "@ct.electron\n",
    "@ct.lattice\n",
    "def multiply_3_and_square(x):\n",
    "    root(x=x)\n",
    "    return square(x=x * 3)"
   ]
  },
  {
   "cell_type": "markdown",
   "metadata": {},
   "source": [
    "3. Run the sublattice in another lattice as if it were any other electron:"
   ]
  },
  {
   "cell_type": "code",
   "execution_count": 11,
   "metadata": {},
   "outputs": [],
   "source": [
    "@ct.lattice\n",
    "def workflow(a):\n",
    "    val_1 = identity(x=a)\n",
    "    return multiply_3_and_square(x=val_1)"
   ]
  },
  {
   "attachments": {},
   "cell_type": "markdown",
   "metadata": {},
   "source": [
    "Since the sublattice is also a lattice, you can pass constraints to it the same way as you would [any other lattice](../coding/add_constraints_to_lattice.ipynb).\n",
    "\n",
    "4. Dispatch the top-level lattice (in this case `workflow`) and query the result."
   ]
  },
  {
   "cell_type": "code",
   "execution_count": 12,
   "metadata": {},
   "outputs": [
    {
     "name": "stdout",
     "output_type": "stream",
     "text": [
      "Dispatch id: b1c7aadf-5a5a-4192-9674-d615c5150fb6\n",
      "Result of workflow: 36\n"
     ]
    }
   ],
   "source": [
    "dispatch_id = ct.dispatch(workflow)(a=2)\n",
    "print(\"Dispatch id:\", dispatch_id)\n",
    "\n",
    "result = ct.get_result(dispatch_id, wait=True)\n",
    "print(\"Result of workflow:\", result.result)"
   ]
  },
  {
   "cell_type": "markdown",
   "metadata": {},
   "source": [
    "The steps above show how to construct and deploy a sublattice. At this point, if everything works, you can use this sublattice in workflows as if it were an electron.\n",
    "\n",
    "However, to troubleshoot the sublattice (or to examine its internals while you are developing it), you might need to examine intermediate results within the sublattice. The following steps show how to look at the results of the sublattice's component electrons.\n",
    "\n",
    "5. Find the node ID of the sublattice using the `get_all_node_outputs()` function of the Covalent `Result` object:"
   ]
  },
  {
   "cell_type": "code",
   "execution_count": 13,
   "metadata": {},
   "outputs": [
    {
     "data": {
      "text/plain": [
       "{'identity(0)': <covalent.TransportableObject at 0x11fc5a5b0>,\n",
       " ':parameter:2(1)': <covalent.TransportableObject at 0x11fc5ab80>,\n",
       " ':sublattice:multiply_3_and_square(2)': <covalent.TransportableObject at 0x11fc7f6a0>}"
      ]
     },
     "execution_count": 13,
     "metadata": {},
     "output_type": "execute_result"
    }
   ],
   "source": [
    "result.get_all_node_outputs()"
   ]
  },
  {
   "cell_type": "markdown",
   "metadata": {},
   "source": [
    "The number in parenthesis denotes the node ID. For the `identity` node, the ID is `0`. The ID of the sublattice `multiply_3_and_square` is `2`.\n",
    "\n",
    "6. Use this information to query the sublattice's result using the result's `get_node_result` function:"
   ]
  },
  {
   "cell_type": "code",
   "execution_count": 14,
   "metadata": {},
   "outputs": [
    {
     "data": {
      "text/plain": [
       "{'node_id': 2,\n",
       " 'node_name': ':sublattice:multiply_3_and_square',\n",
       " 'start_time': datetime.datetime(2023, 1, 31, 21, 17, 15, 551089, tzinfo=datetime.timezone.utc),\n",
       " 'end_time': datetime.datetime(2023, 1, 31, 21, 17, 15, 750506, tzinfo=datetime.timezone.utc),\n",
       " 'status': Status(STATUS='COMPLETED'),\n",
       " 'output': <covalent.TransportableObject at 0x11fc7f6a0>,\n",
       " 'error': None,\n",
       " 'sublattice_result': <covalent._results_manager.result.Result at 0x11fc7f040>,\n",
       " 'stdout': None,\n",
       " 'stderr': None}"
      ]
     },
     "execution_count": 14,
     "metadata": {},
     "output_type": "execute_result"
    }
   ],
   "source": [
    "result.get_node_result(2)"
   ]
  },
  {
   "cell_type": "markdown",
   "metadata": {},
   "source": [
    "The `sublattice_result` value shows that a `Result` object is present. This is just like any other result object; the only difference is that it was returned by a sublattice.\n",
    "\n",
    "7. Query the sublattice result:"
   ]
  },
  {
   "cell_type": "code",
   "execution_count": 15,
   "metadata": {},
   "outputs": [
    {
     "data": {
      "text/plain": [
       "36"
      ]
     },
     "execution_count": 15,
     "metadata": {},
     "output_type": "execute_result"
    }
   ],
   "source": [
    "sublattice_result = result.get_node_result(2)[\"sublattice_result\"]\n",
    "\n",
    "sublattice_result.result"
   ]
  },
  {
   "cell_type": "markdown",
   "metadata": {},
   "source": [
    "8. Optionally, access all of the executions performed by the sublattice using `get_all_node_outputs()`:"
   ]
  },
  {
   "cell_type": "code",
   "execution_count": 16,
   "metadata": {
    "scrolled": true
   },
   "outputs": [
    {
     "data": {
      "text/plain": [
       "{'root(0)': <covalent.TransportableObject at 0x11fc7f670>,\n",
       " ':parameter:2(1)': <covalent.TransportableObject at 0x11fc7f2e0>,\n",
       " 'square(2)': <covalent.TransportableObject at 0x11fc7f7c0>,\n",
       " ':parameter:6(3)': <covalent.TransportableObject at 0x11fc7f730>}"
      ]
     },
     "execution_count": 16,
     "metadata": {},
     "output_type": "execute_result"
    }
   ],
   "source": [
    "sublattice_result.get_all_node_outputs()"
   ]
  },
  {
   "cell_type": "markdown",
   "metadata": {},
   "source": [
    "### See Also\n",
    "\n",
    "[Adding Constraints to Tasks and Workflows](../coding/add_constraints_to_lattice.ipynb)."
   ]
  }
 ],
 "metadata": {
  "interpreter": {
   "hash": "f63e7985caea997504032bc67ebf6b6ff07db5420026db9c4de4a9a029ce747c"
  },
  "kernelspec": {
   "display_name": "Python 3 (ipykernel)",
   "language": "python",
   "name": "python3"
  },
  "language_info": {
   "codemirror_mode": {
    "name": "ipython",
    "version": 3
   },
   "file_extension": ".py",
   "mimetype": "text/x-python",
   "name": "python",
   "nbconvert_exporter": "python",
   "pygments_lexer": "ipython3",
   "version": "3.9.13"
  }
 },
 "nbformat": 4,
 "nbformat_minor": 4
}
