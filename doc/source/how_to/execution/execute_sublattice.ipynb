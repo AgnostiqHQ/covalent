{
 "cells": [
  {
   "cell_type": "markdown",
   "metadata": {},
   "source": [
    "## How to execute a lattice as an electron inside another lattice\n",
    "\n",
    "In this case we will treat a (sub)lattice as an electron and then dispatch it inside another (super)lattice."
   ]
  },
  {
   "cell_type": "code",
   "execution_count": 1,
   "metadata": {},
   "outputs": [],
   "source": [
    "import covalent as ct\n",
    "\n",
    "@ct.electron\n",
    "def identity(x):\n",
    "    return x\n",
    "\n",
    "\n",
    "@ct.electron\n",
    "def root(x):\n",
    "    return x ** 0.5\n",
    "\n",
    "\n",
    "@ct.electron\n",
    "def square(x):\n",
    "    return x * x\n",
    "\n",
    "\n",
    "@ct.electron\n",
    "@ct.lattice\n",
    "def multiply_3_and_square(x):\n",
    "    root(x=x)\n",
    "    return square(x=x * 3)\n",
    "\n",
    "\n",
    "@ct.lattice\n",
    "def workflow(a):\n",
    "    val_1 = identity(x=a)\n",
    "    return multiply_3_and_square(x=val_1)"
   ]
  },
  {
   "cell_type": "markdown",
   "metadata": {},
   "source": [
    ".. note:: Ensure that the dispatcher server is running. Since the sublattice is also a lattice, you can pass constraints to it in the similar fashion as you would to a lattice mentioned here [How to add constraints to lattices](../orchestration/add_constraints_to_lattice.ipynb)."
   ]
  },
  {
   "cell_type": "markdown",
   "metadata": {},
   "source": [
    "Now we will dispatch the superlattice `workflow` and query the result."
   ]
  },
  {
   "cell_type": "code",
   "execution_count": 2,
   "metadata": {},
   "outputs": [
    {
     "name": "stdout",
     "output_type": "stream",
     "text": [
      "Dispatch id: fd6ba91a-d0cc-4a4e-aa0d-f208fe36c69c\n",
      "Result of workflow: 36\n"
     ]
    }
   ],
   "source": [
    "dispatch_id = ct.dispatch(workflow)(a=2)\n",
    "print(\"Dispatch id:\", dispatch_id)\n",
    "\n",
    "result = ct.get_result(dispatch_id, wait=True)\n",
    "print(\"Result of workflow:\", result.result)"
   ]
  },
  {
   "cell_type": "markdown",
   "metadata": {},
   "source": [
    "Now, once you have result, you can use it to query the sublattice's result as well. In order to do that we need to know the node id of the sublattice. We can find that out using `get_all_node_outputs()` function of `result`."
   ]
  },
  {
   "cell_type": "code",
   "execution_count": 3,
   "metadata": {},
   "outputs": [
    {
     "data": {
      "text/plain": [
       "{'identity(0)': 2,\n",
       " ':parameter:2(1)': 2,\n",
       " ':sublattice:multiply_3_and_square(2)': 36}"
      ]
     },
     "execution_count": 3,
     "metadata": {},
     "output_type": "execute_result"
    }
   ],
   "source": [
    "result.get_all_node_outputs()"
   ]
  },
  {
   "cell_type": "markdown",
   "metadata": {},
   "source": [
    ".. note:: The number in parenthesis denotes the node id, so for `identity` node, the id is `0`."
   ]
  },
  {
   "cell_type": "markdown",
   "metadata": {},
   "source": [
    "Here we can see that our lattice's node id is `2`. So we use `get_node_result(2)` to get the result of the sublattice."
   ]
  },
  {
   "cell_type": "code",
   "execution_count": 4,
   "metadata": {},
   "outputs": [
    {
     "data": {
      "text/plain": [
       "{'node_id': 2,\n",
       " 'node_name': ':sublattice:multiply_3_and_square(2)',\n",
       " 'start_time': datetime.datetime(2022, 1, 23, 1, 3, 1, 739165, tzinfo=datetime.timezone.utc),\n",
       " 'end_time': datetime.datetime(2022, 1, 23, 1, 3, 1, 847243, tzinfo=datetime.timezone.utc),\n",
       " 'status': Status(STATUS='COMPLETED'),\n",
       " 'output': 36,\n",
       " 'error': None,\n",
       " 'sublattice_result': <covalent._results_manager.result.Result at 0x7ff520c1f100>,\n",
       " 'stdout': None,\n",
       " 'stderr': None}"
      ]
     },
     "execution_count": 4,
     "metadata": {},
     "output_type": "execute_result"
    }
   ],
   "source": [
    "result.get_node_result(2)"
   ]
  },
  {
   "cell_type": "markdown",
   "metadata": {},
   "source": [
    "As you can see in the `sublattice_result` value, a `Result` object is present. It behaves the same way as our `result` variable did.\n",
    "\n",
    "So we can do the following:"
   ]
  },
  {
   "cell_type": "code",
   "execution_count": 5,
   "metadata": {},
   "outputs": [
    {
     "data": {
      "text/plain": [
       "36"
      ]
     },
     "execution_count": 5,
     "metadata": {},
     "output_type": "execute_result"
    }
   ],
   "source": [
    "sublattice_result = result.get_node_result(2)[\"sublattice_result\"]\n",
    "sublattice_result.result"
   ]
  },
  {
   "cell_type": "markdown",
   "metadata": {},
   "source": [
    "We can also access all of the node executions that the sublattice did using `get_all_node_outputs()` function similarly."
   ]
  },
  {
   "cell_type": "code",
   "execution_count": 6,
   "metadata": {},
   "outputs": [
    {
     "data": {
      "text/plain": [
       "{'root(0)': 1.4142135623730951,\n",
       " ':parameter:2(1)': 2,\n",
       " 'square(2)': 36,\n",
       " ':parameter:6(3)': 6}"
      ]
     },
     "execution_count": 6,
     "metadata": {},
     "output_type": "execute_result"
    }
   ],
   "source": [
    "sublattice_result.get_all_node_outputs()"
   ]
  }
 ],
 "metadata": {
  "interpreter": {
   "hash": "f63e7985caea997504032bc67ebf6b6ff07db5420026db9c4de4a9a029ce747c"
  },
  "kernelspec": {
   "display_name": "python3",
   "language": "python",
   "name": "python3"
  },
  "language_info": {
   "codemirror_mode": {
    "name": "ipython",
    "version": 3
   },
   "file_extension": ".py",
   "mimetype": "text/x-python",
   "name": "python",
   "nbconvert_exporter": "python",
   "pygments_lexer": "ipython3",
   "version": "3.8.8"
  }
 },
 "nbformat": 4,
 "nbformat_minor": 4
}
