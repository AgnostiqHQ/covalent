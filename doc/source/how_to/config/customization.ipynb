{
 "cells": [
  {
   "cell_type": "markdown",
   "id": "e55bf9ba-c3a7-43d6-bed9-345eaee29dd5",
   "metadata": {},
   "source": [
    "## How to customize the configuration"
   ]
  },
  {
   "cell_type": "markdown",
   "id": "d54cd4cd-3234-4502-885b-4b1c6d61ef6a",
   "metadata": {},
   "source": [
    "The CLI tool can create and update the global (client or server) configuration file, stored at\n",
    "\n",
    "* `CLIENT`: `~/.config/covalent/covalent.conf` or `$COVALENT_CONFIG_DIR/covalent.conf` \n",
    "* `SERVER`: `~/.config/covalent/covalentd.conf` or `$COVALENT_CONFIG_DIR/covalentd.conf` \n",
    "\n",
    "if the corresponding variable is defined in the user environment:\n",
    "\n",
    "```bash\n",
    "$ covalent start --port 45232\n",
    "Covalent server has started at http://localhost:45232\n",
    "$ cat ~/.config/covalent/covalent.conf\n",
    "[sdk]\n",
    "logs = \"/home/user/.cache/covalent\"\n",
    "log_level = \"warning\"\n",
    "enable_logging = \"false\"\n",
    "\n",
    "[credentials]\n",
    "dispatcher_api_key = \"\"\n",
    "scheduler_api_key = \"\"\n",
    "quantum_credentials = \"\"\n",
    "\n",
    "[executors.local]\n",
    "class = \"LocalExecutor\"\n",
    "log_stdout = \"/tmp/covalent/stdout.log\"\n",
    "log_stderr = \"/tmp/covalent/stderr.log\"\n",
    "```\n",
    "\n",
    "Server configuration\n",
    "\n",
    "```bash\n",
    "[dispatcher]\n",
    "address = \"localhost\"\n",
    "port = 45232\n",
    "cache = \"/home/user/.cache/covalent\"\n",
    "results_dir = \"/home/user/covalent\"\n",
    "logs_dir = \"/home/user/.config/covalent\"\n",
    "db_path = \"/home/user/.local/share/covalent/dispatcher_db.sqlite\"\n",
    "\n",
    "[user_interface]\n",
    "address = \"localhost\"\n",
    "port = 45232\n",
    "logs = \"/home/user/.config/covalent\"\n",
    "```\n",
    "\n",
    "Both the client and server configuration values can be easily retrived via the `covalent config` CLI as follows\n",
    "\n",
    "```bash\n",
    "covalent config\n",
    "{\n",
    "    \"dask\": {\n",
    "        \"cache_dir\": \"/home/<user>/.cache/covalent\",\n",
    "        \"log_dir\": \"/home/<user>/.cache/covalent\",\n",
    "        \"mem_per_worker\": \"auto\",\n",
    "        \"num_workers\": 16,\n",
    "        \"threads_per_worker\": 1\n",
    "    },\n",
    "    \"dispatcher\": {\n",
    "        \"address\": \"localhost\",\n",
    "        \"cache_dir\": \"/home/<user>/.cache/covalent\",\n",
    "        \"db_path\": \"/home/<user>/.local/share/covalent/dispatcher_db.sqlite\",\n",
    "        \"log_dir\": \"/home/<user>/.cache/covalent\",\n",
    "        \"port\": 48008,\n",
    "        \"results_dir\": \"results\"\n",
    "    },\n",
    "    \"executors\": {\n",
    "        \"dask\": {\n",
    "            \"cache_dir\": \"/home/<user>/.cache/covalent\",\n",
    "            \"log_stderr\": \"stderr.log\",\n",
    "            \"log_stdout\": \"stdout.log\"\n",
    "        },\n",
    "        \"local\": {\n",
    "            \"cache_dir\": \"/home/<user>/.cache/covalent\",\n",
    "            \"log_stderr\": \"stderr.log\",\n",
    "            \"log_stdout\": \"stdout.log\"\n",
    "        },\n",
    "        \"remote_executor\": {\n",
    "            \"credentials_file\": \"\",\n",
    "            \"poll_freq\": 15,\n",
    "            \"remote_cache\": \".cache/covalent\"\n",
    "        }\n",
    "        ...\n",
    "```"
   ]
  },
  {
   "cell_type": "markdown",
   "id": "eaaaa227-e941-4516-b451-69bbbb408b06",
   "metadata": {},
   "source": [
    "The client/server configuration can also be accessed individually as a Python `dict` as follows"
   ]
  },
  {
   "cell_type": "code",
   "execution_count": 5,
   "id": "55bc1913-5507-417d-a6af-7bb989256f4c",
   "metadata": {},
   "outputs": [
    {
     "data": {
      "text/plain": [
       "{'sdk': {'config_file': '/home/venkat/.config/covalent/covalent.conf',\n",
       "  'log_dir': '/home/venkat/.cache/covalent',\n",
       "  'log_level': 'warning',\n",
       "  'enable_logging': 'false',\n",
       "  'executor_dir': '/home/venkat/.config/covalent/executor_plugins',\n",
       "  'no_cluster': 'false'},\n",
       " 'server': {'address': 'localhost', 'port': 48008},\n",
       " 'dispatcher': {'address': 'localhost',\n",
       "  'port': 48008,\n",
       "  'cache_dir': '/home/venkat/.cache/covalent',\n",
       "  'results_dir': 'results',\n",
       "  'log_dir': '/home/venkat/.cache/covalent',\n",
       "  'db_path': '/home/venkat/.local/share/covalent/dispatcher_db.sqlite'},\n",
       " 'dask': {'cache_dir': '/home/venkat/.cache/covalent',\n",
       "  'log_dir': '/home/venkat/.cache/covalent',\n",
       "  'mem_per_worker': 'auto',\n",
       "  'threads_per_worker': 1,\n",
       "  'num_workers': 16},\n",
       " 'workflow_data': {'storage_type': 'local',\n",
       "  'base_dir': '/home/venkat/.local/share/covalent/workflow_data'},\n",
       " 'user_interface': {'address': 'localhost',\n",
       "  'port': 48008,\n",
       "  'dev_port': 49009,\n",
       "  'log_dir': '/home/venkat/.cache/covalent'},\n",
       " 'executors': {'local': {'log_stdout': 'stdout.log',\n",
       "   'log_stderr': 'stderr.log',\n",
       "   'cache_dir': '/home/venkat/.cache/covalent'},\n",
       "  'dask': {'log_stdout': 'stdout.log',\n",
       "   'log_stderr': 'stderr.log',\n",
       "   'cache_dir': '/home/venkat/.cache/covalent'},\n",
       "  'remote_executor': {'poll_freq': 15,\n",
       "   'remote_cache': '.cache/covalent',\n",
       "   'credentials_file': ''}}}"
      ]
     },
     "execution_count": 5,
     "metadata": {},
     "output_type": "execute_result"
    }
   ],
   "source": [
    "import covalent as ct\n",
    "from covalent._shared_files.config import CMType\n",
    "\n",
    "# CMType.CLIENT refers to the ClientConfiguration manager\n",
    "ct.get_config(CMType.CLIENT)"
   ]
  },
  {
   "cell_type": "code",
   "execution_count": 6,
   "id": "bb67dd5f",
   "metadata": {},
   "outputs": [
    {
     "data": {
      "text/plain": [
       "{'service': {'address': 'localhost',\n",
       "  'port': 48008,\n",
       "  'dev_port': 49009,\n",
       "  'results_dir': 'results',\n",
       "  'cache_dir': '/home/venkat/.cache/covalent',\n",
       "  'log_dir': '/home/venkat/.cache/covalent',\n",
       "  'db_path': '/home/venkat/.local/share/covalent/dispatcher_db.sqlite'},\n",
       " 'dask': {'cache_dir': '/home/venkat/.cache/covalent',\n",
       "  'log_dir': '/home/venkat/.cache/covalent',\n",
       "  'mem_per_worker': 'auto',\n",
       "  'threads_per_worker': 1,\n",
       "  'num_workers': 16},\n",
       " 'workflow_data': {'storage_type': 'local',\n",
       "  'base_dir': '/home/venkat/.local/share/covalent/workflow_data'}}"
      ]
     },
     "execution_count": 6,
     "metadata": {},
     "output_type": "execute_result"
    }
   ],
   "source": [
    "# Server configuration\n",
    "ct.get_config(CMType.SERVER)"
   ]
  },
  {
   "cell_type": "markdown",
   "id": "eace12ee-f1e9-43af-9a97-8fae2c11082d",
   "metadata": {},
   "source": [
    "Individual fields from the configuration can also be queried as follows"
   ]
  },
  {
   "cell_type": "code",
   "execution_count": 7,
   "id": "8138b892-0483-4230-acf9-09ebffe6327c",
   "metadata": {},
   "outputs": [
    {
     "data": {
      "text/plain": [
       "'localhost'"
      ]
     },
     "execution_count": 7,
     "metadata": {},
     "output_type": "execute_result"
    }
   ],
   "source": [
    "ct.get_config(CMType.CLIENT, \"server.address\")"
   ]
  },
  {
   "cell_type": "code",
   "execution_count": 8,
   "id": "77f4b56e-4c5b-4b2f-9c80-6b14bbfbeb38",
   "metadata": {},
   "outputs": [
    {
     "data": {
      "text/plain": [
       "{'server.address': 'localhost', 'server.port': 48008}"
      ]
     },
     "execution_count": 8,
     "metadata": {},
     "output_type": "execute_result"
    }
   ],
   "source": [
    "ct.get_config(CMType.CLIENT, [\"server.address\", \"server.port\"])"
   ]
  },
  {
   "cell_type": "markdown",
   "id": "d5c3506d-7a57-4d34-a21a-aae5f1049934",
   "metadata": {},
   "source": [
    "Values may be set in a similar way:"
   ]
  },
  {
   "cell_type": "code",
   "execution_count": 9,
   "id": "256a7236-ae2a-4e86-8814-8b6c3b581b44",
   "metadata": {},
   "outputs": [],
   "source": [
    "ct.set_config(CMType.CLIENT, \"sdk.enable_logging\", \"true\")"
   ]
  },
  {
   "cell_type": "code",
   "execution_count": 10,
   "id": "2239aaf7-dda5-4042-9e6b-74a3b799c68a",
   "metadata": {},
   "outputs": [],
   "source": [
    "ct.set_config(CMType.CLIENT, {\n",
    "    \"sdk.enable_logging\": \"true\",\n",
    "    \"sdk.log_level\": \"debug\"\n",
    "})"
   ]
  },
  {
   "cell_type": "markdown",
   "id": "d162bd5d-847b-43e9-a9ee-aa958e6fc8fc",
   "metadata": {},
   "source": [
    "If the CLIENT/SERVER config file is edited directly, it can also be reloaded into a Python environment using"
   ]
  },
  {
   "cell_type": "code",
   "execution_count": 12,
   "id": "541cd488-ec6a-4970-a37c-dd3c943ff730",
   "metadata": {},
   "outputs": [],
   "source": [
    "ct.reload_config(CMType.CLIENT)\n",
    "\n",
    "ct.reload_config(CMType.SERVER)"
   ]
  },
  {
   "cell_type": "markdown",
   "id": "0131fcb2-583c-4bb6-814f-4ca6c1880f29",
   "metadata": {},
   "source": [
    "The values in the configuration file describe the defaults used by Covalent.  Certain settings can also be overridden in other ways. If the config file is deleted, some default settings can be overridden by environment variables:\n",
    "```bash\n",
    "# Override \"sdk.logs\"\n",
    "export COVALENT_LOGDIR=\"/var/log\"\n",
    "# Override \"sdk.enable_logging\"\n",
    "export COVALENT_LOG_TO_FILE=TRUE\n",
    "```"
   ]
  },
  {
   "cell_type": "markdown",
   "id": "00ed359f-d68d-44ee-9b3a-1009bc8e89f8",
   "metadata": {},
   "source": [
    "Reloading the library will generate a config file reflecting the new default parameters:\n",
    "```bash\n",
    "$ covalent restart\n",
    "Covalent server has stopped.\n",
    "Covalent server has started at http://localhost:45232\n",
    "\n",
    "$ cat ~/.config/covalent/covalent.conf\n",
    "[sdk]\n",
    "log_dir = \"/var/log\"\n",
    "log_level = \"warning\"\n",
    "enable_logging = \"true\"\n",
    "\n",
    "[credentials]\n",
    "dispatcher_api_key = \"\"\n",
    "scheduler_api_key = \"\"\n",
    "quantum_credentials = \"\"\n",
    "\n",
    "[executors.local]\n",
    "class = \"LocalExecutor\"\n",
    "log_stdout = \"stdout.log\"\n",
    "log_stderr = \"stderr.log\"\n",
    "```"
   ]
  },
  {
   "cell_type": "markdown",
   "id": "04597146",
   "metadata": {},
   "source": []
  }
 ],
 "metadata": {
  "kernelspec": {
   "display_name": "Python 3.8.13 ('cova-dev')",
   "language": "python",
   "name": "python3"
  },
  "language_info": {
   "codemirror_mode": {
    "name": "ipython",
    "version": 3
   },
   "file_extension": ".py",
   "mimetype": "text/x-python",
   "name": "python",
   "nbconvert_exporter": "python",
   "pygments_lexer": "ipython3",
   "version": "3.8.13"
  },
  "vscode": {
   "interpreter": {
   }
  }
 },
 "nbformat": 4,
 "nbformat_minor": 5
}
