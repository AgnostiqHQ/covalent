{
 "cells": [
  {
   "cell_type": "markdown",
   "id": "e55bf9ba-c3a7-43d6-bed9-345eaee29dd5",
   "metadata": {},
   "source": [
    "## How to customize the configuration"
   ]
  },
  {
   "cell_type": "markdown",
   "id": "d54cd4cd-3234-4502-885b-4b1c6d61ef6a",
   "metadata": {},
   "source": [
    "### With the CLI tool you can manage all of Covalent configuration programatically.\n",
    "\n",
    "```bash\n",
    "$ covalent start # make sure covalent is running\n",
    "$ covalent config\n",
    "UI_SVC_HOST=localhost\n",
    "UI_SVC_PORT=8000\n",
    "QUEUER_SVC_HOST=localhost\n",
    "QUEUER_SVC_PORT=8001\n",
    "DISPATCHER_SVC_HOST=localhost\n",
    "DISPATCHER_SVC_PORT=8002\n",
    "RUNNER_SVC_HOST=localhost\n",
    "RUNNER_SVC_PORT=8003\n",
    "DATA_SVC_HOST=localhost\n",
    "DATA_SVC_PORT=8004\n",
    "RESULTS_SVC_HOST=localhost\n",
    "RESULTS_SVC_PORT=8005\n",
    "RESULTS_DB=results.db\n",
    "MQ_CONNECTION_URI=localhost:4222\n",
    "MQ_DISPATCH_TOPIC=workflow.dispatch\n",
    "FS_STORAGE_BACKEND=local\n",
    "FS_LOCAL_STORAGE_ROOT=data\n",
    "FS_STORAGE_BUCKET=default\n",
    "FS_SERVER_ADDRESS=localhost:8004\n",
    "MINIO_ENDPOINT=localhost:9000\n",
    "MINIO_ACCESS_KEY=minioadmin\n",
    "MINIO_SECRET_KEY=minioadmin\n",
    "MINIO_DISABLE_TLS=\n",
    "legacy_dispatcher={'port': '48008', 'host': 'localhost'}\n",
    "dispatcher={'results_dir': '/tmp', 'cache_dir': '/tmp', 'log_dir': '/tmp'}\n",
    "legacy_ui={'port': '48008', 'host': 'localhost'}\n",
    "user_interface={'dispatch_db': '/tmp', 'log_dir': '/tmp/'}\n",
    "sdk={'log_dir': '/tmp/covalent', 'executor_dir': '/tmp', 'log_level': 'info', 'enable_logging': 'True'}\n",
    "executors={'local': {'log_stdout': 'stdout.log', 'log_stderr': 'stderr.log', 'cache_dir': '/home/user/.cache/covalent'}}\n",
    "```"
   ]
  },
  {
   "cell_type": "markdown",
   "id": "eaaaa227-e941-4516-b451-69bbbb408b06",
   "metadata": {},
   "source": [
    "### The configuration may also be accessed as a Python `dict`:"
   ]
  },
  {
   "cell_type": "code",
   "execution_count": null,
   "id": "55bc1913-5507-417d-a6af-7bb989256f4c",
   "metadata": {},
   "outputs": [],
   "source": [
    "import covalent as ct\n",
    "ct.get_config()"
   ]
  },
  {
   "cell_type": "markdown",
   "id": "eace12ee-f1e9-43af-9a97-8fae2c11082d",
   "metadata": {},
   "source": [
    "or queried using the following formats:"
   ]
  },
  {
   "cell_type": "code",
   "execution_count": 2,
   "id": "8138b892-0483-4230-acf9-09ebffe6327c",
   "metadata": {},
   "outputs": [
    {
     "data": {
      "text/plain": [
       "'0.0.0.0'"
      ]
     },
     "execution_count": 2,
     "metadata": {},
     "output_type": "execute_result"
    }
   ],
   "source": [
    "ct.get_config(\"legacy_dispatcher.host\")"
   ]
  },
  {
   "cell_type": "code",
   "execution_count": 3,
   "id": "77f4b56e-4c5b-4b2f-9c80-6b14bbfbeb38",
   "metadata": {},
   "outputs": [
    {
     "data": {
      "text/plain": [
       "{'legacy_dispatcher.host': '0.0.0.0', 'legacy_dispatcher.port': 48008}"
      ]
     },
     "execution_count": 3,
     "metadata": {},
     "output_type": "execute_result"
    }
   ],
   "source": [
    "ct.get_config([\"legacy_dispatcher.host\", \"legacy_dispatcher.port\"])"
   ]
  },
  {
   "cell_type": "markdown",
   "id": "d5c3506d-7a57-4d34-a21a-aae5f1049934",
   "metadata": {},
   "source": [
    "### Values may be set in a similar way:"
   ]
  },
  {
   "cell_type": "code",
   "execution_count": 4,
   "id": "256a7236-ae2a-4e86-8814-8b6c3b581b44",
   "metadata": {},
   "outputs": [],
   "source": [
    "ct.set_config(\"enable_logging\", \"true\")"
   ]
  },
  {
   "cell_type": "code",
   "execution_count": 5,
   "id": "2239aaf7-dda5-4042-9e6b-74a3b799c68a",
   "metadata": {},
   "outputs": [],
   "source": [
    "ct.set_config({\n",
    "    \"enable_logging\": \"true\",\n",
    "    \"log_level\": \"debug\"\n",
    "})"
   ]
  },
  {
   "cell_type": "markdown",
   "id": "035885c9",
   "metadata": {},
   "source": [
    "### Alternatively config can be set with the cli\n",
    "\n",
    "```bash\n",
    "$ covalent config executors.local.log_stdout=stdout.log # nested params\n",
    "$ covalent config enable_logging=false # single values\n",
    "```"
   ]
  }
 ],
 "metadata": {
  "kernelspec": {
   "display_name": "Python 3 (ipykernel)",
   "language": "python",
   "name": "python3"
  },
  "language_info": {
   "codemirror_mode": {
    "name": "ipython",
    "version": 3
   },
   "file_extension": ".py",
   "mimetype": "text/x-python",
   "name": "python",
   "nbconvert_exporter": "python",
   "pygments_lexer": "ipython3",
   "version": "3.8.10"
  }
 },
 "nbformat": 4,
 "nbformat_minor": 5
}
