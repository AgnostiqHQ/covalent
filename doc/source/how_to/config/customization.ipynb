{
 "cells": [
  {
   "cell_type": "markdown",
   "id": "e55bf9ba-c3a7-43d6-bed9-345eaee29dd5",
   "metadata": {},
   "source": [
    "## How to customize the configuration"
   ]
  },
  {
   "cell_type": "markdown",
   "id": "d54cd4cd-3234-4502-885b-4b1c6d61ef6a",
   "metadata": {},
   "source": [
    "The CLI tool can create and update the global configuration file, which is stored at `~/.config/covalent/covalent.conf` or `$COVALENT_CONFIG_DIR/covalent.conf` if the corresponding variable is defined in the user environment:\n",
    "\n",
    "```bash\n",
    "$ covalent start --port 45232\n",
    "Covalent server has started at http://localhost:45232\n",
    "$ cat ~/.config/covalent/covalent.conf\n",
    "[sdk]\n",
    "logs = \"/home/user/.cache/covalent\"\n",
    "log_level = \"warning\"\n",
    "enable_logging = \"false\"\n",
    "\n",
    "[dispatcher]\n",
    "address = \"localhost\"\n",
    "port = 45232\n",
    "cache = \"/home/user/.cache/covalent\"\n",
    "results_dir = \"/home/user/covalent\"\n",
    "logs_dir = \"/home/user/.config/covalent\"\n",
    "db_path = \"/home/user/.local/share/covalent/dispatcher_db.sqlite\"\n",
    "\n",
    "[user_interface]\n",
    "address = \"localhost\"\n",
    "port = 45232\n",
    "logs = \"/home/user/.config/covalent\"\n",
    "\n",
    "[credentials]\n",
    "dispatcher_api_key = \"\"\n",
    "scheduler_api_key = \"\"\n",
    "quantum_credentials = \"\"\n",
    "\n",
    "[executors.local]\n",
    "class = \"LocalExecutor\"\n",
    "log_stdout = \"/tmp/covalent/stdout.log\"\n",
    "log_stderr = \"/tmp/covalent/stderr.log\"\n",
    "```"
   ]
  },
  {
   "cell_type": "markdown",
   "id": "eaaaa227-e941-4516-b451-69bbbb408b06",
   "metadata": {},
   "source": [
    "The configuration may also be accessed as a Python `dict`:"
   ]
  },
  {
   "cell_type": "code",
   "execution_count": null,
   "id": "55bc1913-5507-417d-a6af-7bb989256f4c",
   "metadata": {},
   "outputs": [
    {
     "data": {
      "text/plain": [
       "{'sdk': {'log_dir': '/var/home/user/.cache/covalent',\n",
       "  'log_level': 'warning',\n",
       "  'enable_logging': 'false',\n",
       "  'executor_dir': '/var/home/user/.config/covalent/executor_plugins'},\n",
       " 'dispatcher': {'address': 'localhost',\n",
       "  'port': 45232,\n",
       "  'cache_dir': '/var/home/user/.cache/covalent',\n",
       "  'results_dir': 'results',\n",
       "  'log_dir': '/var/home/user/.cache/covalent'},\n",
       " 'user_interface': {'address': 'localhost',\n",
       "  'port': 45232,\n",
       "  'log_dir': '/var/home/user/.cache/covalent'},\n",
       " 'executors': {'local': {'log_stdout': 'stdout.log',\n",
       "   'log_stderr': 'stderr.log',\n",
       "   'cache_dir': '/tmp/covalent'}}}"
      ]
     },
     "execution_count": 1,
     "metadata": {},
     "output_type": "execute_result"
    }
   ],
   "source": [
    "import covalent as ct\n",
    "ct.get_config()"
   ]
  },
  {
   "cell_type": "markdown",
   "id": "eace12ee-f1e9-43af-9a97-8fae2c11082d",
   "metadata": {},
   "source": [
    "or queried using the following formats:"
   ]
  },
  {
   "cell_type": "code",
   "execution_count": 2,
   "id": "8138b892-0483-4230-acf9-09ebffe6327c",
   "metadata": {},
   "outputs": [
    {
     "data": {
      "text/plain": [
       "'localhost'"
      ]
     },
     "execution_count": 2,
     "metadata": {},
     "output_type": "execute_result"
    }
   ],
   "source": [
    "ct.get_config(\"dispatcher.address\")"
   ]
  },
  {
   "cell_type": "code",
   "execution_count": 3,
   "id": "77f4b56e-4c5b-4b2f-9c80-6b14bbfbeb38",
   "metadata": {},
   "outputs": [
    {
     "data": {
      "text/plain": [
       "{'dispatcher.address': 'localhost', 'dispatcher.port': 48008}"
      ]
     },
     "execution_count": 3,
     "metadata": {},
     "output_type": "execute_result"
    }
   ],
   "source": [
    "ct.get_config([\"dispatcher.address\", \"dispatcher.port\"])"
   ]
  },
  {
   "cell_type": "markdown",
   "id": "d5c3506d-7a57-4d34-a21a-aae5f1049934",
   "metadata": {},
   "source": [
    "Values may be set in a similar way:"
   ]
  },
  {
   "cell_type": "code",
   "execution_count": 4,
   "id": "256a7236-ae2a-4e86-8814-8b6c3b581b44",
   "metadata": {},
   "outputs": [],
   "source": [
    "ct.set_config(\"sdk.enable_logging\", \"true\")"
   ]
  },
  {
   "cell_type": "code",
   "execution_count": 5,
   "id": "2239aaf7-dda5-4042-9e6b-74a3b799c68a",
   "metadata": {},
   "outputs": [],
   "source": [
    "ct.set_config({\n",
    "    \"sdk.enable_logging\": \"true\",\n",
    "    \"sdk.log_level\": \"debug\"\n",
    "})"
   ]
  },
  {
   "cell_type": "markdown",
   "id": "d162bd5d-847b-43e9-a9ee-aa958e6fc8fc",
   "metadata": {},
   "source": [
    "If the config file is edited directly, it can also be reloaded into a Python environment using"
   ]
  },
  {
   "cell_type": "code",
   "execution_count": 6,
   "id": "541cd488-ec6a-4970-a37c-dd3c943ff730",
   "metadata": {},
   "outputs": [],
   "source": [
    "ct.reload_config()"
   ]
  },
  {
   "cell_type": "markdown",
   "id": "0131fcb2-583c-4bb6-814f-4ca6c1880f29",
   "metadata": {},
   "source": [
    "The values in the configuration file describe the defaults used by Covalent.  Certain settings can also be overridden in other ways. If the config file is deleted, some default settings can be overridden by environment variables:\n",
    "```bash\n",
    "# Override \"sdk.logs\"\n",
    "export COVALENT_LOGDIR=\"/var/log\"\n",
    "# Override \"sdk.enable_logging\"\n",
    "export COVALENT_LOG_TO_FILE=TRUE\n",
    "```"
   ]
  },
  {
   "cell_type": "markdown",
   "id": "00ed359f-d68d-44ee-9b3a-1009bc8e89f8",
   "metadata": {},
   "source": [
    "Reloading the library will generate a config file reflecting the new default parameters:\n",
    "```bash\n",
    "$ covalent restart\n",
    "Covalent server has stopped.\n",
    "Covalent server has started at http://localhost:45232\n",
    "\n",
    "$ cat ~/.config/covalent/covalent.conf\n",
    "[sdk]\n",
    "log_dir = \"/var/log\"\n",
    "log_level = \"warning\"\n",
    "enable_logging = \"true\"\n",
    "\n",
    "[dispatcher]\n",
    "address = \"localhost\"\n",
    "port = 45232\n",
    "cache_dir = \"/home/user/.cache/covalent\"\n",
    "results_dir = \"/home/user/covalent\"\n",
    "log_dir = \"/home/user/.cache/covalent\"\n",
    "db_path = \"/home/user/.local/share/covalent/dispatcher_db.sqlite\"\n",
    "\n",
    "[user_interface]\n",
    "address = \"localhost\"\n",
    "port = 45232\n",
    "log_dir = \"/home/user/.cache/covalent\"\n",
    "\n",
    "[credentials]\n",
    "dispatcher_api_key = \"\"\n",
    "scheduler_api_key = \"\"\n",
    "quantum_credentials = \"\"\n",
    "\n",
    "[executors.local]\n",
    "class = \"LocalExecutor\"\n",
    "log_stdout = \"stdout.log\"\n",
    "log_stderr = \"stderr.log\"\n",
    "```"
   ]
  }
 ],
 "metadata": {
  "kernelspec": {
   "display_name": "Python 3.8.13 ('cova-dev')",
   "language": "python",
   "name": "python3"
  },
  "language_info": {
   "codemirror_mode": {
    "name": "ipython",
    "version": 3
   },
   "file_extension": ".py",
   "mimetype": "text/x-python",
   "name": "python",
   "nbconvert_exporter": "python",
   "pygments_lexer": "ipython3",
   "version": "3.8.13"
  },
  "vscode": {
   "interpreter": {
   }
  }
 },
 "nbformat": 4,
 "nbformat_minor": 5
}
