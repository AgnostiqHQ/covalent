{
 "cells": [
  {
   "cell_type": "markdown",
   "id": "915c5a45",
   "metadata": {},
   "source": [
    "# Creating and Assigning an Executor\n",
    "\n",
    "If multiple electrons can use the same compute resource, create one executor for the resource and assign it to the electrons rather than creating an executor every time an electron is instantiated.\n",
    "\n",
    "## Context\n",
    "\n",
    "**Multiple electrons can and should use the same executor if they use the same back-end resource.**\n",
    "\n",
    "Recall that an executor is an abstracted \"front end\" to a computing resource, such as an HPC cloud or container cluster. One executor represents one particular computing resource or \"back end.\" The executor decouples the electron from the compute resource, such that you can assign any executor to any electron. \n",
    "\n",
    "**Creating multiple executors for the same resource does not improve performance.**\n",
    "\n",
    "Parallelization is done by the Covalent dispatcher after analyzing the transport graph, and is based on independence of the inputs and outputs of electron instances. There is no benefit to creating two or more \"pipelines\" to the resource. \n",
    "\n",
    "With a single executor per compute resource, independent electrons (including multiple iterations of the same electron) are:\n",
    "1. parallelized by the Covalent dispatcher; and \n",
    "2. executed efficiently by the back end as separate computations.\n",
    "\n",
    "\"Efficiently\" here means some combination of \"in parallel,\" \"on multiple CPUs,\" \"load-balanced,\" \"distributed,\" or whatever mechanisms the back end uses to improve performance.\n",
    "\n",
    "Of course, different back-end resources are better suited for some tasks (electrons) than for others, but it's up to you to match the right resource to the right executor. The executor framework gives you the flexibility to \"mix and match\" tasks and computation resources, for example to test a task on one resource and do production work on another.\n",
    "\n",
    "Again, there is no performance advantage to be gained from creating multiple executors for the same back end. In fact, creating unneeded executors hurts performance by needlessly consuming dispatcher memory and CPU. As well, instantiating multiple executors complicates code maintenance. Defining the executor once means any modification can be done once, in one place.\n",
    "\n",
    "## Best Practice\n",
    "\n",
    "When creating  multiple electrons that use the same computation resource, instantiate one executor and then assign the executor to electrons as they are defined. \n",
    "\n",
    "## Example\n",
    "\n",
    "Contrast the two examples below. \n",
    "\n",
    "### Example 1: Not Recommended\n",
    "\n",
    "This example demonstrates a questionable approach: creating an executor for every new instance of an electron.\n",
    "\n",
    "Note: Executors don't have ID numbers or default identifying attributes that are easily accessible. In this example, different stdout logs have been assigned to the two different executors so that you can differentiate the two executors in the Electron sidebar in the [Covalent UI](webapp_ui/graph_view/electron.html). Click a task in the Graph view to see the Electron sidebar. (Also note that the logs are created when the executor is instantiated, so they're in a dispatch-specific results subdirectory, not in the main directory for this notebook.)"
   ]
  },
  {
   "cell_type": "code",
   "execution_count": 22,
   "id": "cc8d51c4",
   "metadata": {},
   "outputs": [
    {
     "name": "stdout",
     "output_type": "stream",
     "text": [
      "\n",
      "Lattice Result\n",
      "==============\n",
      "status: COMPLETED\n",
      "result: [100, 121, 841, 196, 256]\n",
      "input args: []\n",
      "input kwargs: {}\n",
      "error: None\n",
      "\n",
      "start_time: 2023-02-21 17:55:20.610470\n",
      "end_time: 2023-02-21 17:55:20.811850\n",
      "\n",
      "results_dir: /Users/mini-me/agnostiq/covalent/doc/source/developer/patterns/results\n",
      "dispatch_id: eb1339b8-5af8-4c75-93e8-22584019ed2d\n",
      "\n",
      "Node Outputs\n",
      "------------\n",
      "task_1(0): [10, 11, 29, 14, 16]\n",
      "task_2(1): [100, 121, 841, 196, 256]\n",
      "\n"
     ]
    }
   ],
   "source": [
    "import covalent as ct\n",
    "import random\n",
    "from covalent.executor import LocalExecutor\n",
    "\n",
    "# Technique 1 (not so good):\n",
    "\n",
    "@ct.electron(executor=LocalExecutor(log_stdout=\"./exec_stdout_1.txt\"))  # A local executor.\n",
    "def task_1():\n",
    "    return random.sample(range(10, 30), 5)\n",
    "\n",
    "@ct.electron(executor=LocalExecutor(log_stdout=\"./exec_stdout_2.txt\"))  # A different local executor.\n",
    "def task_2(x_list):\n",
    "\n",
    "    squares = []\n",
    "    for x in x_list:\n",
    "        squares.append(x ** 2)\n",
    "    \n",
    "    return squares\n",
    "\n",
    "@ct.lattice\n",
    "def workflow_1():\n",
    "    random_list = task_1()\n",
    "    return task_2(random_list)\n",
    "\n",
    "id = ct.dispatch(workflow_1)()\n",
    "res = ct.get_result(id, wait=True)\n",
    "print(res)"
   ]
  },
  {
   "cell_type": "markdown",
   "id": "c72c804f",
   "metadata": {},
   "source": [
    "### Example 2: Improved\n",
    "\n",
    "This example demonstrates the better technique: creating one executor and assigning it to each new instance of the electron."
   ]
  },
  {
   "cell_type": "code",
   "execution_count": 23,
   "id": "731b9cad",
   "metadata": {
    "scrolled": true
   },
   "outputs": [
    {
     "name": "stdout",
     "output_type": "stream",
     "text": [
      "\n",
      "Lattice Result\n",
      "==============\n",
      "status: COMPLETED\n",
      "result: [676, 841, 729, 225, 289]\n",
      "input args: []\n",
      "input kwargs: {}\n",
      "error: None\n",
      "\n",
      "start_time: 2023-02-21 17:55:22.717915\n",
      "end_time: 2023-02-21 17:55:22.812049\n",
      "\n",
      "results_dir: /Users/mini-me/agnostiq/covalent/doc/source/developer/patterns/results\n",
      "dispatch_id: 0225a221-4ecf-4d87-b92b-21fe3ff1776f\n",
      "\n",
      "Node Outputs\n",
      "------------\n",
      "task_1(0): [26, 29, 27, 15, 17]\n",
      "task_2(1): [676, 841, 729, 225, 289]\n",
      "\n"
     ]
    }
   ],
   "source": [
    "import covalent as ct\n",
    "import random\n",
    "from covalent.executor import DaskExecutor\n",
    "\n",
    "# Technique 2 (better):\n",
    "\n",
    "same_executor = LocalExecutor(log_stdout=\"./exec_stdout_common.txt\")  # One executor is all you need here.\n",
    "\n",
    "@ct.electron(executor=same_executor)  # Assign the executor. \n",
    "def task_1():\n",
    "    return random.sample(range(10, 30), 5)\n",
    "\n",
    "\n",
    "@ct.electron(executor=same_executor)  # Same executor, different electron. \n",
    "def task_2(x_list):\n",
    "\n",
    "    squares = []\n",
    "    for x in x_list:\n",
    "        squares.append(x ** 2)\n",
    "    \n",
    "    return squares\n",
    "\n",
    "@ct.lattice\n",
    "def workflow_2():\n",
    "    task_1\n",
    "    random_list = task_1()\n",
    "    return task_2(random_list)\n",
    "\n",
    "id = ct.dispatch(workflow_2)()\n",
    "res = ct.get_result(id, wait=True)\n",
    "print(res)"
   ]
  },
  {
   "cell_type": "markdown",
   "id": "db6dfa96",
   "metadata": {},
   "source": [
    "As with the previous example, go to the Covalent UI and examine the stdout log name in the Executor details for evidence as to which executor was used with each electron. In this example the log is the same (`exec_stdout_common.txt`). (Also, take care to note that in general this doesn't prove that there is only one executor, since different executors can share the same log file.)"
   ]
  }
 ],
 "metadata": {
  "kernelspec": {
   "display_name": "Python 3 (ipykernel)",
   "language": "python",
   "name": "python3"
  },
  "language_info": {
   "codemirror_mode": {
    "name": "ipython",
    "version": 3
   },
   "file_extension": ".py",
   "mimetype": "text/x-python",
   "name": "python",
   "nbconvert_exporter": "python",
   "pygments_lexer": "ipython3",
   "version": "3.9.12"
  }
 },
 "nbformat": 4,
 "nbformat_minor": 5
}
