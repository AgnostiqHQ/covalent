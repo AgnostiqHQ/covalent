{
 "cells": [
  {
   "cell_type": "markdown",
   "id": "915c5a45",
   "metadata": {},
   "source": [
    "# Executor Assignment\n",
    "\n",
    "6. Executor assignment (A)\n",
    "\n",
    "When doing executor assignment to multiple electrons, it will be a better if it is instantiated at one place and then that object is used everywhere where needed, instead of creating a new object for every electron. This also helps when in the future you might wanna change the executor if you want your jobs to scale."
   ]
  },
  {
   "cell_type": "code",
   "execution_count": null,
   "id": "cc8d51c4",
   "metadata": {},
   "outputs": [],
   "source": [
    "import covalent as ct\n",
    "from covalent.executor import DaskExecutor\n",
    "\n",
    "# Method (1):\n",
    "\n",
    "@ct.electron(executor=DaskExecutor())\n",
    "def task_1():\n",
    "    return random.sample(range(10, 30), 5)\n",
    "\n",
    "@ct.electron(executor=DaskExecutor())\n",
    "def task_2(x_list):\n",
    "\n",
    "    squares = []\n",
    "    for x in x_list:\n",
    "        squares.append(x * 2)\n",
    "    \n",
    "    return squares\n",
    "\n",
    "@ct.lattice\n",
    "def workflow_1():\n",
    "    random_list = task_1()\n",
    "    return task_2(random_list)\n",
    "\n",
    "\n",
    "\n",
    "# Method (2):\n",
    "custom_executor = DaskExecutor()\n",
    "\n",
    "@ct.electron(executor=custom_executor)\n",
    "def task_1():\n",
    "    return random.sample(range(10, 30), 5)\n",
    "\n",
    "@ct.electron(executor=custom_executor)\n",
    "def task_2(x_list):\n",
    "\n",
    "    squares = []\n",
    "    for x in x_list:\n",
    "        squares.append(x * 2)\n",
    "    \n",
    "    return squares\n",
    "\n",
    "@ct.lattice\n",
    "def workflow_2():\n",
    "    random_list = task_1()\n",
    "    return task_2(random_list)\n"
   ]
  }
 ],
 "metadata": {
  "kernelspec": {
   "display_name": "Python 3 (ipykernel)",
   "language": "python",
   "name": "python3"
  },
  "language_info": {
   "codemirror_mode": {
    "name": "ipython",
    "version": 3
   },
   "file_extension": ".py",
   "mimetype": "text/x-python",
   "name": "python",
   "nbconvert_exporter": "python",
   "pygments_lexer": "ipython3",
   "version": "3.9.13"
  }
 },
 "nbformat": 4,
 "nbformat_minor": 5
}
