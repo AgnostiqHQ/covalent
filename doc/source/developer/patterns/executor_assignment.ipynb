{
 "cells": [
  {
   "cell_type": "markdown",
   "id": "915c5a45",
   "metadata": {},
   "source": [
    "# Creating and Assigning an Executor\n",
    "\n",
    "If multiple electrons can use the same executor, create one executor and assign it to the electrons rather than creating an executor every time an electron is instantiated.\n",
    "\n",
    "## Context\n",
    "\n",
    "Often, multiple electrons can use the same executor. Examples include:\n",
    "* Multiple instances of the same electron class\n",
    "* Electrons that are structurally or functionally similar (sibling subclasses, for example)\n",
    "* Electrons that use the same platform because they perform similar types of computation\n",
    "\n",
    "Especially if the host or system behind the executor parallelizes its assigned jobs, then creating a different executor for each electron consumes resources unnecessarily.\n",
    "\n",
    "As well, instantiating multiple executors complicates code maintenance. Defining the executor once means any modification can be done once only, in one place.\n",
    "\n",
    "## Best Practice\n",
    "\n",
    "When creating  multiple electrons that use the same executor resource, instantiate the executor and then assign the executor to electrons as they are instantiated. You can think of this technique as similar to (but not exactly!) the popular Singleton coding pattern. \n",
    "\n",
    "## Example\n",
    "\n",
    "Contrast the two examples below. \n",
    "\n",
    "### Not Recommended\n",
    "\n",
    "This example demonstrates a questionable approach: creating an executor for every new instance of an electron."
   ]
  },
  {
   "cell_type": "code",
   "execution_count": 62,
   "id": "cc8d51c4",
   "metadata": {},
   "outputs": [
    {
     "name": "stdout",
     "output_type": "stream",
     "text": [
      "\n",
      "Lattice Result\n",
      "==============\n",
      "status: COMPLETED\n",
      "result: [576, 121, 100, 256, 529]\n",
      "input args: []\n",
      "input kwargs: {}\n",
      "error: None\n",
      "\n",
      "start_time: 2023-02-03 21:40:15.847556\n",
      "end_time: 2023-02-03 21:40:15.973169\n",
      "\n",
      "results_dir: /Users/mini-me/agnostiq/covalent/doc/source/developer/patterns/results\n",
      "dispatch_id: b03ef78b-acbd-4bf9-a643-af1194303f5b\n",
      "\n",
      "Node Outputs\n",
      "------------\n",
      "task_1(0): [24, 11, 10, 16, 23]\n",
      "task_2(1): [576, 121, 100, 256, 529]\n",
      "\n"
     ]
    }
   ],
   "source": [
    "import covalent as ct\n",
    "import random\n",
    "from covalent.executor import LocalExecutor\n",
    "\n",
    "# Technique 1 (not so good):\n",
    "\n",
    "def dummy():\n",
    "    pass\n",
    "\n",
    "@ct.electron(executor=LocalExecutor())\n",
    "def task_1():\n",
    "    return random.sample(range(10, 30), 5)\n",
    "\n",
    "@ct.electron(executor=LocalExecutor())\n",
    "def task_2(x_list):\n",
    "\n",
    "    squares = []\n",
    "    for x in x_list:\n",
    "        squares.append(x ** 2)\n",
    "    \n",
    "    return squares\n",
    "\n",
    "@ct.lattice\n",
    "def workflow_1():\n",
    "    random_list = task_1()\n",
    "    return task_2(random_list)\n",
    "\n",
    "id = ct.dispatch(workflow_1)()\n",
    "res = ct.get_result(id, wait=True)\n",
    "print(res)"
   ]
  },
  {
   "cell_type": "markdown",
   "id": "c72c804f",
   "metadata": {},
   "source": [
    "### Improved\n",
    "\n",
    "This example demonstrates the better technique: creating one executor and assigning it to each new instance of the electron."
   ]
  },
  {
   "cell_type": "code",
   "execution_count": 63,
   "id": "731b9cad",
   "metadata": {
    "scrolled": true
   },
   "outputs": [
    {
     "name": "stdout",
     "output_type": "stream",
     "text": [
      "\n",
      "Lattice Result\n",
      "==============\n",
      "status: COMPLETED\n",
      "result: [100, 400, 841, 289, 324]\n",
      "input args: []\n",
      "input kwargs: {}\n",
      "error: None\n",
      "\n",
      "start_time: 2023-02-03 21:40:24.365009\n",
      "end_time: 2023-02-03 21:40:24.438503\n",
      "\n",
      "results_dir: /Users/mini-me/agnostiq/covalent/doc/source/developer/patterns/results\n",
      "dispatch_id: 767b6351-b747-4bc5-83c4-5a5a8689ec99\n",
      "\n",
      "Node Outputs\n",
      "------------\n",
      "task_1(0): [10, 20, 29, 17, 18]\n",
      "task_2(1): [100, 400, 841, 289, 324]\n",
      "\n"
     ]
    }
   ],
   "source": [
    "import covalent as ct\n",
    "import random\n",
    "from covalent.executor import DaskExecutor\n",
    "\n",
    "# Technique 2 (better):\n",
    "\n",
    "custom_executor = DaskExecutor()\n",
    "\n",
    "@ct.electron(executor=custom_executor)\n",
    "def task_1():\n",
    "    return random.sample(range(10, 30), 5)\n",
    "\n",
    "\n",
    "@ct.electron(executor=custom_executor)\n",
    "def task_2(x_list):\n",
    "\n",
    "    squares = []\n",
    "    for x in x_list:\n",
    "        squares.append(x ** 2)\n",
    "    \n",
    "    return squares\n",
    "\n",
    "@ct.lattice\n",
    "def workflow_2():\n",
    "    random_list = task_1()\n",
    "    return task_2(random_list)\n",
    "\n",
    "id = ct.dispatch(workflow_1)()\n",
    "res = ct.get_result(id, wait=True)\n",
    "print(res)"
   ]
  },
  {
   "cell_type": "markdown",
   "id": "db6dfa96",
   "metadata": {},
   "source": [
    "## Keywords\n",
    "\n",
    "- Return values\n",
    "- Results\n",
    "\n",
    "## Benefits\n",
    "\n",
    "- Efficiency\n",
    "- Conservation of Resources\n",
    "- Maintainability\n",
    "\n",
    "## See Also"
   ]
  }
 ],
 "metadata": {
  "kernelspec": {
   "display_name": "Python 3 (ipykernel)",
   "language": "python",
   "name": "python3"
  },
  "language_info": {
   "codemirror_mode": {
    "name": "ipython",
    "version": 3
   },
   "file_extension": ".py",
   "mimetype": "text/x-python",
   "name": "python",
   "nbconvert_exporter": "python",
   "pygments_lexer": "ipython3",
   "version": "3.9.13"
  }
 },
 "nbformat": 4,
 "nbformat_minor": 5
}
