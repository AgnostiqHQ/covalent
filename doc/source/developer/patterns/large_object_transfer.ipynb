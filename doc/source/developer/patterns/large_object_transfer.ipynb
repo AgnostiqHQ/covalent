{
 "cells": [
  {
   "cell_type": "markdown",
   "id": "9e65e631",
   "metadata": {},
   "source": [
    "# Large Object Transfer\n",
    "\n",
    "For large result objects from electrons that need to be passed as input to another electron, write the object to a storage service, then read the object into the consuming electron. \n",
    "\n",
    "If your use case frequently requires such transfers, use a Covalent `FileTransfer` objects to write the object to a storage service, then use another `FileTransfer`to read the object into the consuming electron. Using `FileTransfer` dependencies is described in the Covalent [How-to Guide](https://covalent.readthedocs.io/en/latest/how_to/index.html).\n",
    "\n",
    "## Context\n",
    "\n",
    "Passing large objects between electrons presents a challenge to Covalent because the producing and consuming electrons can be on any two executors, so that transferring the object programmatically depends on arbitrary network and file-sharing implementations. Even on the same executor, an object is copied to every electron that contains the object. \n",
    "\n",
    "To address this, Covalent loads all objects to memory in every electron where they are used. This method is reliable, but it can cause long delays where the transfer mechanism is slow, and can eat up large amounts of memory on the dispatcher and/or executors.\n",
    "\n",
    "## Best Practice\n",
    "\n",
    "Store large objects where they are generated. Then, retrieve them where needed to prevent them from consuming memory in more than one electron at a time.\n",
    "\n",
    "Covalent implements file transfers as objects that can be run pre- or post-execution with respect to electrons. Use these objects to store and retrieve large objects that need to be passed between electrons.\n",
    "\n",
    "## Example\n",
    "\n",
    "Contrast the two examples below.\n",
    "\n",
    "### Example 1: Not Recommended\n",
    "\n",
    "This example demonstrates a questionable approach: returning and consuming a large object directly, which can lead to the object being duplicated in memory in two different electrons. "
   ]
  },
  {
   "cell_type": "code",
   "execution_count": 1,
   "id": "1a5ce45a",
   "metadata": {},
   "outputs": [
    {
     "name": "stdout",
     "output_type": "stream",
     "text": [
      "\n",
      "Lattice Result\n",
      "==============\n",
      "status: COMPLETED\n",
      "result: 21\n",
      "input args: []\n",
      "input kwargs: {}\n",
      "error: None\n",
      "\n",
      "start_time: 2023-03-13 21:43:13.219856\n",
      "end_time: 2023-03-13 21:43:13.357266\n",
      "\n",
      "results_dir: /Users/dave/.local/share/covalent/data\n",
      "dispatch_id: 6e3bb5c6-c87d-4a1d-82bd-e414652e7b08\n",
      "\n",
      "Node Outputs\n",
      "------------\n",
      "task_1(0): 42\n",
      "task_2(1): 21\n",
      "\n"
     ]
    }
   ],
   "source": [
    "import covalent as ct\n",
    "\n",
    "# Techique 1: not recommended for large objects\n",
    "\n",
    "@ct.electron\n",
    "def task_1():\n",
    "    large_object = 42\n",
    "    return large_object\n",
    "\n",
    "@ct.electron\n",
    "def task_2(large_obj):\n",
    "    return large_obj // 2\n",
    "\n",
    "@ct.lattice\n",
    "def workflow_1():\n",
    "    lo = task_1()      # The large object is created and in memory\n",
    "    return task_2(lo)  # ... And remains in memory while it is duplicated in task_2\n",
    "\n",
    "id = ct.dispatch(workflow_1)()\n",
    "res = ct.get_result(id, wait=True)\n",
    "print(res) # Sure, it works -- as long as you have enough memory."
   ]
  },
  {
   "cell_type": "markdown",
   "id": "e0106d35",
   "metadata": {},
   "source": [
    "### Example 2: Improved\n",
    "\n",
    "The following example stores the large object to a file, then reads the object from a reference. Note that the lattice code is the same, but the object passed, `lo`, is a file reference rather than the large data object itself."
   ]
  },
  {
   "cell_type": "code",
   "execution_count": 2,
   "id": "5c8f7cff",
   "metadata": {},
   "outputs": [
    {
     "name": "stdout",
     "output_type": "stream",
     "text": [
      "\n",
      "Lattice Result\n",
      "==============\n",
      "status: COMPLETED\n",
      "result: 21\n",
      "input args: []\n",
      "input kwargs: {}\n",
      "error: None\n",
      "\n",
      "start_time: 2023-03-13 21:43:28.745648\n",
      "end_time: 2023-03-13 21:43:28.896047\n",
      "\n",
      "results_dir: /Users/dave/.local/share/covalent/data\n",
      "dispatch_id: 3eb0fbec-61da-4034-9e77-3fa79ac0ddf8\n",
      "\n",
      "Node Outputs\n",
      "------------\n",
      "task_1(0): 42\n",
      "task_2(1): 21\n",
      "\n"
     ]
    }
   ],
   "source": [
    "import covalent as ct\n",
    "\n",
    "# Method (2):\n",
    "@ct.electron\n",
    "def task_1():\n",
    "    large_object = 42\n",
    "    lo_ref = \"my_data.data\"\n",
    "    \n",
    "    with open(lor, \"w\") as f:\n",
    "        f.write(large_object)\n",
    "    \n",
    "    return lo_ref\n",
    "\n",
    "@ct.electron\n",
    "def task_2(large_obj_reference):\n",
    "    with open(large_obj_reference, \"r\") as f:\n",
    "        x = f.readlines()\n",
    "    return x // 2\n",
    "\n",
    "@ct.lattice\n",
    "def workflow_2():\n",
    "    lo = task_1()\n",
    "    return task_2(lo)\n",
    "\n",
    "id = ct.dispatch(workflow_1)()\n",
    "res = ct.get_result(id, wait=True)\n",
    "print(res)"
   ]
  }
 ],
 "metadata": {
  "kernelspec": {
   "display_name": "Python 3 (ipykernel)",
   "language": "python",
   "name": "python3"
  },
  "language_info": {
   "codemirror_mode": {
    "name": "ipython",
    "version": 3
   },
   "file_extension": ".py",
   "mimetype": "text/x-python",
   "name": "python",
   "nbconvert_exporter": "python",
   "pygments_lexer": "ipython3",
   "version": "3.9.12"
  }
 },
 "nbformat": 4,
 "nbformat_minor": 5
}
