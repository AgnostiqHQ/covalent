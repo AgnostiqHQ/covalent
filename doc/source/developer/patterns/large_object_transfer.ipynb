{
 "cells": [
  {
   "cell_type": "markdown",
   "id": "9e65e631",
   "metadata": {},
   "source": [
    "# Large Object Transfer\n",
    "\n",
    "5. large object transfer from one task to another (A)\n",
    "\n",
    "Another thing to note here is that, in case execution of one of your electrons creates a large object, which will be required by another electron, it is better to store that object on a service of your choice, and then return the reference to it, which will be passed on to the next electron and there the object can be downloaded and used. This is much more efficient than returning that object directly, since these electrons can be run on separate machines, the back and forth transfer of these large objects will quickly eat up your resources.\n",
    "\n",
    "If your use case frequently requires using such transfers, you should look at using the `FileTransfer` feature of covalent here: https://covalent.readthedocs.io/en/latest/how_to/orchestration/file_transfers_for_workflows.html"
   ]
  },
  {
   "cell_type": "code",
   "execution_count": null,
   "id": "1a5ce45a",
   "metadata": {},
   "outputs": [],
   "source": [
    "import covalent as ct\n",
    "\n",
    "# Method (1):\n",
    "@ct.electron\n",
    "def task_1():\n",
    "    large_object = 42\n",
    "    return large_object\n",
    "\n",
    "@ct.electron\n",
    "def task_2(large_obj):\n",
    "    return large_obj // 2\n",
    "\n",
    "@ct.lattice\n",
    "def workflow_1():\n",
    "    lo = task_1()\n",
    "    return task_2(lo)\n",
    "\n",
    "\n",
    "# Method (2):\n",
    "@ct.electron\n",
    "def task_1_new():\n",
    "    large_object = 42\n",
    "    lor = \"my_data.data\"\n",
    "    \n",
    "    with open(lor, \"w\") as f:\n",
    "        f.write(large_object)\n",
    "    \n",
    "    return lor\n",
    "\n",
    "@ct.electron\n",
    "def task_2_new(large_obj_reference):\n",
    "    with open(large_obj_reference, \"r\") as f:\n",
    "        x = f.readlines()\n",
    "    return x\n",
    "\n",
    "@ct.lattice\n",
    "def workflow_2():\n",
    "    lo = task_1_new()\n",
    "    return task_2_new(lo)\n"
   ]
  }
 ],
 "metadata": {
  "kernelspec": {
   "display_name": "Python 3 (ipykernel)",
   "language": "python",
   "name": "python3"
  },
  "language_info": {
   "codemirror_mode": {
    "name": "ipython",
    "version": 3
   },
   "file_extension": ".py",
   "mimetype": "text/x-python",
   "name": "python",
   "nbconvert_exporter": "python",
   "pygments_lexer": "ipython3",
   "version": "3.9.13"
  }
 },
 "nbformat": 4,
 "nbformat_minor": 5
}
