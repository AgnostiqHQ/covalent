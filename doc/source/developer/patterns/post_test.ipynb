{
 "cells": [
  {
   "cell_type": "code",
   "execution_count": 7,
   "id": "726bc1c1",
   "metadata": {},
   "outputs": [
    {
     "name": "stdout",
     "output_type": "stream",
     "text": [
      "Post processing flag value:  False\n",
      "Done.\n"
     ]
    }
   ],
   "source": [
    "import covalent as ct\n",
    "import time\n",
    "\n",
    "@ct.electron\n",
    "def task(x):\n",
    "    return x * 2\n",
    "\n",
    "def postcall():\n",
    "    time.sleep(5)\n",
    "    return\n",
    "\n",
    "@ct.lattice(call_after=[ct.DepsCall(func=postcall)])\n",
    "def workflow():\n",
    "    res = task(3)\n",
    "    return\n",
    "\n",
    "def run_away():\n",
    "    time.sleep(2)\n",
    "    print(\"Post processing flag value: \", workflow.post_processing)\n",
    "    print(\"Done.\")\n",
    "\n",
    "run_away()"
   ]
  },
  {
   "cell_type": "code",
   "execution_count": null,
   "id": "a7a06c2f",
   "metadata": {},
   "outputs": [],
   "source": []
  }
 ],
 "metadata": {
  "kernelspec": {
   "display_name": "Python 3 (ipykernel)",
   "language": "python",
   "name": "python3"
  },
  "language_info": {
   "codemirror_mode": {
    "name": "ipython",
    "version": 3
   },
   "file_extension": ".py",
   "mimetype": "text/x-python",
   "name": "python",
   "nbconvert_exporter": "python",
   "pygments_lexer": "ipython3",
   "version": "3.9.13"
  }
 },
 "nbformat": 4,
 "nbformat_minor": 5
}
