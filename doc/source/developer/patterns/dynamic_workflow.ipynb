{
 "cells": [
  {
   "cell_type": "markdown",
   "id": "9da9a29c",
   "metadata": {},
   "source": [
    "# Dynamic Workflows\n",
    "\n",
    "7. Dynamic Workflows (B)\n",
    "\n",
    "If there is a need for dynamically creating electrons depending on the output of some other electron execution, then `sublattices` can be considered. They also provide a way to handle if/else statements if needed. A sublattice is first a `lattice` and then an `electron`, so all the restrictions of a lattice apply to them, but since they are they are an electron too, they are executed as a part of the workflow. Because of this uniqueness, certain things can be done inside a sublattice, which wouldn't have been possible otherwise.\n",
    "\n",
    "Something like this (Method (1)), cannot be done if `sub_workflow` was a lattice, or an electron because inside an electron a function execution is independent of covalent, but if it is a sublattice (Method (2)) then it works fine."
   ]
  },
  {
   "cell_type": "code",
   "execution_count": null,
   "id": "7aaeba99",
   "metadata": {},
   "outputs": [],
   "source": [
    "import covalent as ct\n",
    "\n",
    "# Method (1):\n",
    "\n",
    "@ct.electron\n",
    "def task_1(x):\n",
    "    return x * 2\n",
    "\n",
    "@ct.electron\n",
    "def task_2(x):\n",
    "    return x ** 2\n",
    "\n",
    "\n",
    "@ct.lattice\n",
    "def workflow_1(a):\n",
    "    \n",
    "    res = task_1(a)\n",
    "    \n",
    "    if res < 10:\n",
    "        final_res = []\n",
    "        for _ in range(res):\n",
    "            final_res.append(task_2(res))\n",
    "    else:\n",
    "        final_res = res\n",
    "    \n",
    "    return final_res\n",
    "\n",
    "\n",
    "\n",
    "# Method (2):\n",
    "\n",
    "@ct.electron\n",
    "@ct.lattice\n",
    "def sub_workflow(res):\n",
    "    \n",
    "    if res < 10:\n",
    "        final_res = []\n",
    "        for _ in range(res):\n",
    "            final_res.append(task_2(res))\n",
    "    else:\n",
    "        final_res = res\n",
    "    \n",
    "    return final_res\n",
    "\n",
    "\n",
    "@ct.lattice\n",
    "def workflow_2(a):\n",
    "    res_1 = task_1(a)\n",
    "    return sub_workflow(res_1)"
   ]
  }
 ],
 "metadata": {
  "kernelspec": {
   "display_name": "Python 3 (ipykernel)",
   "language": "python",
   "name": "python3"
  },
  "language_info": {
   "codemirror_mode": {
    "name": "ipython",
    "version": 3
   },
   "file_extension": ".py",
   "mimetype": "text/x-python",
   "name": "python",
   "nbconvert_exporter": "python",
   "pygments_lexer": "ipython3",
   "version": "3.9.13"
  }
 },
 "nbformat": 4,
 "nbformat_minor": 5
}
