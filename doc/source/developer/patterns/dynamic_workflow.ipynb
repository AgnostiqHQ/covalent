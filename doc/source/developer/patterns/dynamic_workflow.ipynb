{
 "cells": [
  {
   "cell_type": "markdown",
   "id": "9da9a29c",
   "metadata": {},
   "source": [
    "# Dynamic Workflows\n",
    "\n",
    "To dynamically create an electron based on the output of another electron, use a sublattice.\n",
    "\n",
    "## Context\n",
    "\n",
    "A sublattice is a `lattice` wrapped in an `electron`, so all the restrictions of a lattice apply to it. Since it is also an electron, it is executed as a part of the workflow. Because of this dual identity, dynamic code can be run inside a sublattice which would otherwise be impossible in the Covalent framework. For example, sublattices provide a way to handle result-dependent loops and if/else statements.\n",
    "\n",
    "## Best Practice\n",
    "\n",
    "Use a sublattice (a `lattice` decorated with an `electron`) to encapsulate dynamic code that would otherwise be difficult or impossible to execute correctly in the Covalent paradigm. You can think of this as an extension to the technique of encapsulating execution-dependent decisions or loops in an electron. Using a sublattice enables you to compose and encapsulate arbitrarily complex code. Use the same best practices in building a sublattice that you would for any other lattice: [Do all calculations in electrons](./post_process.ipynb); [don't create unnecessary executors](./executor_assignment.ipynb); and so on.  \n",
    "\n",
    "\n",
    "## Example\n",
    "\n",
    "Contrast the two examples below.\n",
    "\n",
    "### Example 1: Incorrect\n",
    "\n",
    "The following example contains code in the `workflow_1` lattice that is not inside electrons: in this case, an if/else decision and a `for` loop. The workflow fails when Covalent tries to build the transport graph."
   ]
  },
  {
   "cell_type": "code",
   "execution_count": 2,
   "id": "7aaeba99",
   "metadata": {},
   "outputs": [],
   "source": [
    "import covalent as ct\n",
    "\n",
    "# Technique 1: Incorrect\n",
    "\n",
    "@ct.electron\n",
    "def task_1(x):\n",
    "    return x * 2\n",
    "\n",
    "@ct.electron\n",
    "def task_2(x):\n",
    "    return x ** 2\n",
    "\n",
    "@ct.lattice\n",
    "def workflow_1(a):\n",
    "    \n",
    "    res = task_1(a)\n",
    "    \n",
    "    # An if/else decision and a result-dependent loop with no enclosing electron\n",
    "    if res < 10: \n",
    "        final_res = []\n",
    "        for _ in range(res):\n",
    "            final_res.append(task_2(res))\n",
    "    else:\n",
    "        final_res = res\n",
    "    \n",
    "    return final_res\n",
    "\n",
    "# Uncomment these three lines to see the workflow fail\n",
    "# id = ct.dispatch(workflow_1)(5)\n",
    "# res = ct.get_result(id, wait=True)\n",
    "# print(res)"
   ]
  },
  {
   "cell_type": "markdown",
   "id": "e4db4a2b",
   "metadata": {},
   "source": [
    "### Example 2: Correct\n",
    "\n",
    "The following code corrects the previous example by enclosing the if/else decision and the `for` loop in the `sub_workflow` sublattice. "
   ]
  },
  {
   "cell_type": "code",
   "execution_count": 3,
   "id": "474717f0",
   "metadata": {},
   "outputs": [
    {
     "name": "stdout",
     "output_type": "stream",
     "text": [
      "\n",
      "Lattice Result\n",
      "==============\n",
      "status: COMPLETED\n",
      "result: 10\n",
      "input args: ['5']\n",
      "input kwargs: {}\n",
      "error: None\n",
      "\n",
      "start_time: 2023-03-14 19:41:25.136750\n",
      "end_time: 2023-03-14 19:41:25.625968\n",
      "\n",
      "results_dir: /Users/dave/.local/share/covalent/data\n",
      "dispatch_id: 94509446-b719-42b1-b003-8aec0f1b9591\n",
      "\n",
      "Node Outputs\n",
      "------------\n",
      "task_1(0): 10\n",
      ":parameter:5(1): 5\n",
      ":sublattice:sub_workflow(2): 10\n",
      "\n"
     ]
    }
   ],
   "source": [
    "# Technique 2: Correct\n",
    "\n",
    "# Define a sublattice that implements all the dynamic code\n",
    "@ct.electron\n",
    "@ct.lattice\n",
    "def sub_workflow(res):\n",
    "    \n",
    "    if res < 10:\n",
    "        final_res = []\n",
    "        for _ in range(res):\n",
    "            final_res.append(task_2(res))\n",
    "    else:\n",
    "        final_res = res\n",
    "    \n",
    "    return final_res\n",
    "\n",
    "\n",
    "@ct.lattice\n",
    "def workflow_2(a):\n",
    "    res_1 = task_1(a)\n",
    "    return sub_workflow(res_1) # Nothing to see here. Just an electron consuming the output of another electron.\n",
    "\n",
    "id = ct.dispatch(workflow_2)(5)\n",
    "res = ct.get_result(id, wait=True)\n",
    "print(res)"
   ]
  },
  {
   "cell_type": "markdown",
   "id": "d105cc2b",
   "metadata": {},
   "source": [
    "## See Also\n",
    "\n",
    "[Result-Dependent Loops](./result_dependent_loop.ipynb)\n",
    "\n",
    "[Result-Dependent If-Else](./result_dependent_if_else.ipynb)"
   ]
  }
 ],
 "metadata": {
  "kernelspec": {
   "display_name": "Python 3 (ipykernel)",
   "language": "python",
   "name": "python3"
  },
  "language_info": {
   "codemirror_mode": {
    "name": "ipython",
    "version": 3
   },
   "file_extension": ".py",
   "mimetype": "text/x-python",
   "name": "python",
   "nbconvert_exporter": "python",
   "pygments_lexer": "ipython3",
   "version": "3.9.12"
  }
 },
 "nbformat": 4,
 "nbformat_minor": 5
}
