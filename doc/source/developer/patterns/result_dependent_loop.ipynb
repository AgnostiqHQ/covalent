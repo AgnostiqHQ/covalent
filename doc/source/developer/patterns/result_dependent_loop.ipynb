{
 "cells": [
  {
   "cell_type": "markdown",
   "id": "a393bc36",
   "metadata": {},
   "source": [
    "# Result-Dependent Loops\n",
    "\n",
    "4. task result dependent loops inside lattices (B)\n",
    "\n",
    "In case you want to iterate over a result from an electron and perform any operation accordingly, that cannot be done like (1). It'll be better if you did (2), basically moving flow logic inside an electron. The main reason for this is dynamic things like these require execution of the electron which will not be done while the graph is being built."
   ]
  },
  {
   "cell_type": "code",
   "execution_count": null,
   "id": "93409de5",
   "metadata": {},
   "outputs": [],
   "source": [
    "import covalent as ct\n",
    "import random\n",
    "\n",
    "# Method (1):\n",
    "@ct.electron\n",
    "def task():\n",
    "    return random.sample(range(10, 30), 5)\n",
    "\n",
    "@ct.electron\n",
    "def task_2(x):\n",
    "    return x ** 2\n",
    "\n",
    "@ct.lattice\n",
    "def workflow_1():\n",
    "    random_list = task()\n",
    "\n",
    "    res = []\n",
    "    for rn in random_list:\n",
    "        res.append(task_2(rn))\n",
    "    \n",
    "    return rn\n",
    "\n",
    "# Method (2):\n",
    "@ct.electron\n",
    "def task_2_new(x_list):\n",
    "\n",
    "    squares = []\n",
    "    for x in x_list:\n",
    "        squares.append(x ** 2)\n",
    "    \n",
    "    return squares\n",
    "\n",
    "@ct.lattice\n",
    "def workflow_2():\n",
    "    random_list = task_1()\n",
    "    return task_2_new(random_list)\n"
   ]
  }
 ],
 "metadata": {
  "kernelspec": {
   "display_name": "Python 3 (ipykernel)",
   "language": "python",
   "name": "python3"
  },
  "language_info": {
   "codemirror_mode": {
    "name": "ipython",
    "version": 3
   },
   "file_extension": ".py",
   "mimetype": "text/x-python",
   "name": "python",
   "nbconvert_exporter": "python",
   "pygments_lexer": "ipython3",
   "version": "3.9.13"
  }
 },
 "nbformat": 4,
 "nbformat_minor": 5
}
