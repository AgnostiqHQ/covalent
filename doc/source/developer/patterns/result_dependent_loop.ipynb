{
 "cells": [
  {
   "cell_type": "markdown",
   "id": "a393bc36",
   "metadata": {},
   "source": [
    "# Result-Dependent Loops\n",
    "\n",
    "To iterate over the result from an electron, put the iteration (loop) logic inside another electron.\n",
    "\n",
    "## Context\n",
    "\n",
    "Often the output of one task is a collection that you want to iterate over using another task. In Covalent terms, this means you want to use an `electron` to produce an `iterable`, then process the iterable with another electron. In these cases, perform the iteration inside an electron. \n",
    "\n",
    "When a lattice is dispatched, the Covalent server executes the lattice in order to build the transport graph. The transport graph is then analyzed to parallelize the execution of electrons on their assigned executors.\n",
    "\n",
    "If the server encounters a loop over the output of an electron, it cannot infer the structure on which the loop depends (the size of the iterable  and must wait uis prevented from building the transport graph.\n",
    "\n",
    "\n",
    "Note: This pattern applies only when the iterator is produced by an electron. Iterating on fixed values in a lattice as described [here](https://covalent.readthedocs.io/en/latest/how_to/coding/looping.html) does not require electron execution to evaluate the iterator and build the graph.\n",
    "\n",
    "## Best Practice\n",
    "\n",
    "Compute dynamically generated iterators inside an electron. Electrons execution is deferred during the graph build phase, so they cannot be used to build the transport graph and analyze the execution for parallelization.\n",
    "\n",
    "**Exception**: Sublattices are evaluated during lattice execution and their graph structure is \"plugged in\" to the larger transport graph. If a sublattice produces a static iterator (does not produce it by executing an electron internally), then it is safe to loop over.\n",
    "\n",
    "## Example\n",
    "\n",
    "Contrast the two examples below.\n",
    "\n",
    "### Not Recommended\n",
    "\n",
    "This example demonstrates a questionable approach: looping over a computed iterator in the lattice but not within an electron."
   ]
  },
  {
   "cell_type": "code",
   "execution_count": 11,
   "id": "93409de5",
   "metadata": {},
   "outputs": [],
   "source": [
    "import covalent as ct\n",
    "import random\n",
    "\n",
    "# Technique 1: inefficient\n",
    "\n",
    "@ct.electron\n",
    "def task():\n",
    "    return random.sample(range(10, 30), 5)\n",
    "\n",
    "@ct.electron\n",
    "def task_2(x):\n",
    "    return x ** 2\n",
    "\n",
    "@ct.lattice\n",
    "def workflow_1():\n",
    "    random_list = task()\n",
    "\n",
    "    res = []\n",
    "    for rn in random_list:\n",
    "        res.append(task_2(rn))\n",
    "    \n",
    "    return rn\n",
    "\n",
    "id = ct.dispatch(workflow_1)()\n",
    "res = ct.get_result(id, wait=True)"
   ]
  },
  {
   "cell_type": "markdown",
   "id": "b89859a8",
   "metadata": {},
   "source": [
    "# Improved\n",
    "\n",
    "The iterator is passed to the second electron, which loops over it internally and returns the results in a list. In this case the loop is executed entirely at runtime."
   ]
  },
  {
   "cell_type": "code",
   "execution_count": 12,
   "id": "d727689b",
   "metadata": {},
   "outputs": [],
   "source": [
    "import covalent as ct\n",
    "import random\n",
    "\n",
    "# Technique 2: iterator is contained in an electron\n",
    "\n",
    "@ct.electron\n",
    "def task_1():\n",
    "    return random.sample(range(10, 30), 5)\n",
    "\n",
    "# Method (2):\n",
    "@ct.electron\n",
    "def task_2_new(x_list):\n",
    "\n",
    "    squares = []\n",
    "    for x in x_list:\n",
    "        squares.append(x ** 2)\n",
    "    \n",
    "    return squares\n",
    "\n",
    "@ct.lattice\n",
    "def workflow_2():\n",
    "    random_list = task_1()\n",
    "    return task_2_new(random_list)\n",
    "\n",
    "id = ct.dispatch(workflow_2)()\n",
    "res = ct.get_result(id, wait=True)"
   ]
  },
  {
   "cell_type": "markdown",
   "id": "6044a9ff",
   "metadata": {},
   "source": [
    "## Keywords\n",
    "\n",
    "Typically glossary terms that might be useful in looking up the technique.\n",
    "\n",
    "## Benefits\n",
    "\n",
    "Typical benefits that might appear here:\n",
    "- Performance\n",
    "- Simplicity\n",
    "- Maintainability\n",
    "- Resource (CPU, memory) conservation\n",
    "- Efficiency\n",
    "- Workaround (to a problem with Python or with Covalent)\n",
    "\n",
    "## See Also"
   ]
  }
 ],
 "metadata": {
  "kernelspec": {
   "display_name": "Python 3 (ipykernel)",
   "language": "python",
   "name": "python3"
  },
  "language_info": {
   "codemirror_mode": {
    "name": "ipython",
    "version": 3
   },
   "file_extension": ".py",
   "mimetype": "text/x-python",
   "name": "python",
   "nbconvert_exporter": "python",
   "pygments_lexer": "ipython3",
   "version": "3.9.13"
  }
 },
 "nbformat": 4,
 "nbformat_minor": 5
}
