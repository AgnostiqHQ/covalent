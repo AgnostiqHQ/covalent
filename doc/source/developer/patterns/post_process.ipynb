{
 "cells": [
  {
   "cell_type": "markdown",
   "id": "db340a22",
   "metadata": {},
   "source": [
    "# Post-Processing\n",
    "\n",
    "(B): Method 1 is not supported and user should use method 2\n",
    "\n",
    "This step in the workflow execution cycle is mostly to ensure that the correct type of return value is returned from the lattice. This step is quite resource consuming and since we'd like to keep the lattice as general as possible, for now it is run for every kind of workflow. But this can be avoided if in your workflow, you return an electron from the lattice instead of a custom object. Method (2) of writing a workflow is more preferrable than Method (1). Sometimes, certain return types will not even be supported, which is all the more reason to prefer \"electron\"izing wherever needed."
   ]
  },
  {
   "cell_type": "code",
   "execution_count": null,
   "id": "e419b89d",
   "metadata": {},
   "outputs": [],
   "source": [
    "import covalent as ct\n",
    "import numpy as np\n",
    "import random\n",
    "\n",
    "# Method (1):\n",
    "@ct.electron\n",
    "def task_1(x):\n",
    "    return x * 2\n",
    "\n",
    "@ct.lattice\n",
    "def workflow():\n",
    "    res = task_1()\n",
    "    res_list = random.sample(range(10, 30), res) # this will fail during graph construction time since `res` is still an Electron\n",
    "    return np.array(res_list)\n",
    "\n",
    "\n",
    "\n",
    "# Method (2):\n",
    "@ct.electron\n",
    "def task_2_new(x):\n",
    "    res_list = random.sample(range(10, 30), x)\n",
    "    return np.array(res_list)\n",
    "\n",
    "@ct.lattice\n",
    "def workflow_2():\n",
    "    res_1 = task_1()\n",
    "    return task_2_new(res_1)"
   ]
  }
 ],
 "metadata": {
  "kernelspec": {
   "display_name": "Python 3 (ipykernel)",
   "language": "python",
   "name": "python3"
  },
  "language_info": {
   "codemirror_mode": {
    "name": "ipython",
    "version": 3
   },
   "file_extension": ".py",
   "mimetype": "text/x-python",
   "name": "python",
   "nbconvert_exporter": "python",
   "pygments_lexer": "ipython3",
   "version": "3.9.13"
  }
 },
 "nbformat": 4,
 "nbformat_minor": 5
}
