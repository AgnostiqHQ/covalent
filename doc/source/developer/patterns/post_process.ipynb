{
 "cells": [
  {
   "cell_type": "markdown",
   "id": "db340a22",
   "metadata": {},
   "source": [
    "# Return Electron Output Values from Lattices\n",
    "\n",
    "To avoid causing graph construction issues and being scolded by the Covalent server post-processor, ensure that the value returned by a lattice is the output of an electron.\n",
    "\n",
    "Note: Many best practices with Covalent boil down to \"use the decorators.\" Putting as much of the working code as possible inside Covalent's decorators (electrons and lattices) enables the Covalent server to manage execution as intended.\n",
    "\n",
    "This step in the workflow execution cycle is mostly to ensure that the correct type of return value is returned from the lattice. This step is quite resource consuming and since we'd like to keep the lattice as general as possible, for now it is run for every kind of workflow. But this can be avoided if in your workflow, you return an electron from the lattice instead of a custom object. Method (2) of writing a workflow is more preferrable than Method (1). Sometimes, certain return types will not even be supported, which is all the more reason to prefer \"electron\"izing wherever needed.\n",
    " \n",
    "## Context\n",
    "\n",
    "Covalent allows you to put business logic in a lattice outside of an electron, but that doesn't mean you should do so. Violating this practice puts results outside of Covalent's ability to manage execution. Following this practice ensures that your lattices, at least in this respect, will work with future versions of Covalent.\n",
    "\n",
    "## Best Practice\n",
    "\n",
    "Keep computations inside electrons. Use lattices to execute sequences of electrons, not to perform computations.\n",
    "\n",
    "## Example\n",
    "\n",
    "Contrast the two examples below.\n",
    "\n",
    "### Not Recommended\n",
    "\n",
    "This example demonstrates an incorrect approach. Notice all the computation that occurs in the lattice: a list of random samples is created, then returned as a numpy array. However, the list cannot be created when the lattice is run since `res`, the second parameter to the `random.sample()` method, is an unexecuted electron. As a result, the `random.sample()` method fails.\n"
   ]
  },
  {
   "cell_type": "code",
   "execution_count": 9,
   "id": "e419b89d",
   "metadata": {},
   "outputs": [
    {
     "ename": "TypeError",
     "evalue": "'<=' not supported between instances of 'int' and 'Electron'",
     "output_type": "error",
     "traceback": [
      "\u001b[0;31m---------------------------------------------------------------------------\u001b[0m",
      "\u001b[0;31mTypeError\u001b[0m                                 Traceback (most recent call last)",
      "Input \u001b[0;32mIn [9]\u001b[0m, in \u001b[0;36m<cell line: 18>\u001b[0;34m()\u001b[0m\n\u001b[1;32m     15\u001b[0m     \u001b[38;5;28;01mreturn\u001b[39;00m np\u001b[38;5;241m.\u001b[39marray(res_list)\n\u001b[1;32m     17\u001b[0m \u001b[38;5;66;03m# Uncomment the two following statements to demonstrate \u001b[39;00m\n\u001b[0;32m---> 18\u001b[0m \u001b[38;5;28mid\u001b[39m \u001b[38;5;241m=\u001b[39m \u001b[43mct\u001b[49m\u001b[38;5;241;43m.\u001b[39;49m\u001b[43mdispatch\u001b[49m\u001b[43m(\u001b[49m\u001b[43mworkflow\u001b[49m\u001b[43m)\u001b[49m\u001b[43m(\u001b[49m\u001b[38;5;241;43m1\u001b[39;49m\u001b[43m)\u001b[49m\n\u001b[1;32m     19\u001b[0m result \u001b[38;5;241m=\u001b[39m ct\u001b[38;5;241m.\u001b[39mget_result(\u001b[38;5;28mid\u001b[39m, wait\u001b[38;5;241m=\u001b[39m\u001b[38;5;28;01mTrue\u001b[39;00m)\n",
      "File \u001b[0;32m~/opt/anaconda3/lib/python3.9/site-packages/covalent/_dispatcher_plugins/local.py:79\u001b[0m, in \u001b[0;36mLocalDispatcher.dispatch.<locals>.wrapper\u001b[0;34m(*args, **kwargs)\u001b[0m\n\u001b[1;32m     65\u001b[0m \u001b[38;5;124;03m\"\"\"\u001b[39;00m\n\u001b[1;32m     66\u001b[0m \u001b[38;5;124;03mSend the lattice to the dispatcher server and return\u001b[39;00m\n\u001b[1;32m     67\u001b[0m \u001b[38;5;124;03mthe assigned dispatch id.\u001b[39;00m\n\u001b[0;32m   (...)\u001b[0m\n\u001b[1;32m     74\u001b[0m \u001b[38;5;124;03m    The dispatch id of the workflow.\u001b[39;00m\n\u001b[1;32m     75\u001b[0m \u001b[38;5;124;03m\"\"\"\u001b[39;00m\n\u001b[1;32m     77\u001b[0m lattice \u001b[38;5;241m=\u001b[39m deepcopy(orig_lattice)\n\u001b[0;32m---> 79\u001b[0m \u001b[43mlattice\u001b[49m\u001b[38;5;241;43m.\u001b[39;49m\u001b[43mbuild_graph\u001b[49m\u001b[43m(\u001b[49m\u001b[38;5;241;43m*\u001b[39;49m\u001b[43margs\u001b[49m\u001b[43m,\u001b[49m\u001b[43m \u001b[49m\u001b[38;5;241;43m*\u001b[39;49m\u001b[38;5;241;43m*\u001b[39;49m\u001b[43mkwargs\u001b[49m\u001b[43m)\u001b[49m\n\u001b[1;32m     81\u001b[0m \u001b[38;5;66;03m# Serialize the transport graph to JSON\u001b[39;00m\n\u001b[1;32m     82\u001b[0m json_lattice \u001b[38;5;241m=\u001b[39m lattice\u001b[38;5;241m.\u001b[39mserialize_to_json()\n",
      "File \u001b[0;32m~/opt/anaconda3/lib/python3.9/site-packages/covalent/_workflow/lattice.py:229\u001b[0m, in \u001b[0;36mLattice.build_graph\u001b[0;34m(self, *args, **kwargs)\u001b[0m\n\u001b[1;32m    227\u001b[0m \u001b[38;5;28;01mwith\u001b[39;00m active_lattice_manager\u001b[38;5;241m.\u001b[39mclaim(\u001b[38;5;28mself\u001b[39m):\n\u001b[1;32m    228\u001b[0m     \u001b[38;5;28;01mtry\u001b[39;00m:\n\u001b[0;32m--> 229\u001b[0m         \u001b[43mworkflow_function\u001b[49m\u001b[43m(\u001b[49m\u001b[38;5;241;43m*\u001b[39;49m\u001b[43mnew_args\u001b[49m\u001b[43m,\u001b[49m\u001b[43m \u001b[49m\u001b[38;5;241;43m*\u001b[39;49m\u001b[38;5;241;43m*\u001b[39;49m\u001b[43mnew_kwargs\u001b[49m\u001b[43m)\u001b[49m\n\u001b[1;32m    230\u001b[0m     \u001b[38;5;28;01mexcept\u001b[39;00m \u001b[38;5;167;01mException\u001b[39;00m:\n\u001b[1;32m    231\u001b[0m         warnings\u001b[38;5;241m.\u001b[39mwarn(\n\u001b[1;32m    232\u001b[0m             \u001b[38;5;124m\"\u001b[39m\u001b[38;5;124mPlease make sure you are not manipulating an object inside the lattice.\u001b[39m\u001b[38;5;124m\"\u001b[39m\n\u001b[1;32m    233\u001b[0m         )\n",
      "Input \u001b[0;32mIn [9]\u001b[0m, in \u001b[0;36mworkflow\u001b[0;34m(a)\u001b[0m\n\u001b[1;32m     11\u001b[0m \u001b[38;5;129m@ct\u001b[39m\u001b[38;5;241m.\u001b[39mlattice\n\u001b[1;32m     12\u001b[0m \u001b[38;5;28;01mdef\u001b[39;00m \u001b[38;5;21mworkflow\u001b[39m(a):\n\u001b[1;32m     13\u001b[0m     res \u001b[38;5;241m=\u001b[39m task_1(a)\n\u001b[0;32m---> 14\u001b[0m     res_list \u001b[38;5;241m=\u001b[39m \u001b[43mrandom\u001b[49m\u001b[38;5;241;43m.\u001b[39;49m\u001b[43msample\u001b[49m\u001b[43m(\u001b[49m\u001b[38;5;28;43mrange\u001b[39;49m\u001b[43m(\u001b[49m\u001b[38;5;241;43m10\u001b[39;49m\u001b[43m,\u001b[49m\u001b[43m \u001b[49m\u001b[38;5;241;43m30\u001b[39;49m\u001b[43m)\u001b[49m\u001b[43m,\u001b[49m\u001b[43m \u001b[49m\u001b[43mres\u001b[49m\u001b[43m)\u001b[49m \u001b[38;5;66;03m# this will fail at graph construction time since `res` is still an Electron\u001b[39;00m\n\u001b[1;32m     15\u001b[0m     \u001b[38;5;28;01mreturn\u001b[39;00m np\u001b[38;5;241m.\u001b[39marray(res_list)\n",
      "File \u001b[0;32m~/opt/anaconda3/lib/python3.9/random.py:448\u001b[0m, in \u001b[0;36mRandom.sample\u001b[0;34m(self, population, k, counts)\u001b[0m\n\u001b[1;32m    446\u001b[0m     \u001b[38;5;28;01mreturn\u001b[39;00m [population[bisect(cum_counts, s)] \u001b[38;5;28;01mfor\u001b[39;00m s \u001b[38;5;129;01min\u001b[39;00m selections]\n\u001b[1;32m    447\u001b[0m randbelow \u001b[38;5;241m=\u001b[39m \u001b[38;5;28mself\u001b[39m\u001b[38;5;241m.\u001b[39m_randbelow\n\u001b[0;32m--> 448\u001b[0m \u001b[38;5;28;01mif\u001b[39;00m \u001b[38;5;129;01mnot\u001b[39;00m \u001b[38;5;241m0\u001b[39m \u001b[38;5;241m<\u001b[39m\u001b[38;5;241m=\u001b[39m k \u001b[38;5;241m<\u001b[39m\u001b[38;5;241m=\u001b[39m n:\n\u001b[1;32m    449\u001b[0m     \u001b[38;5;28;01mraise\u001b[39;00m \u001b[38;5;167;01mValueError\u001b[39;00m(\u001b[38;5;124m\"\u001b[39m\u001b[38;5;124mSample larger than population or is negative\u001b[39m\u001b[38;5;124m\"\u001b[39m)\n\u001b[1;32m    450\u001b[0m result \u001b[38;5;241m=\u001b[39m [\u001b[38;5;28;01mNone\u001b[39;00m] \u001b[38;5;241m*\u001b[39m k\n",
      "\u001b[0;31mTypeError\u001b[0m: '<=' not supported between instances of 'int' and 'Electron'"
     ]
    }
   ],
   "source": [
    "import covalent as ct\n",
    "import numpy as np\n",
    "import random\n",
    "\n",
    "# Technique 1:\n",
    "\n",
    "@ct.electron\n",
    "def task_1(x):\n",
    "    return x * 2\n",
    "\n",
    "@ct.lattice\n",
    "def workflow(a):\n",
    "    res = task_1(a)\n",
    "    res_list = random.sample(range(10, 30), res) # this will fail at graph construction time since `res` is still an Electron\n",
    "    return np.array(res_list)\n",
    "\n",
    "# Uncomment the two following statements to demonstrate \n",
    "id = ct.dispatch(workflow)(1)\n",
    "result = ct.get_result(id, wait=True)"
   ]
  },
  {
   "cell_type": "markdown",
   "id": "06f0c7fc",
   "metadata": {},
   "source": [
    "### Improved\n",
    "\n",
    "In contrast, the  following code properly contains the construction of `res_list` in an electron, `task_2_new`.\n"
   ]
  },
  {
   "cell_type": "code",
   "execution_count": 10,
   "id": "9ce44a45",
   "metadata": {},
   "outputs": [
    {
     "name": "stdout",
     "output_type": "stream",
     "text": [
      "\n",
      "Lattice Result\n",
      "==============\n",
      "status: COMPLETED\n",
      "result: [24 29]\n",
      "input args: ['1']\n",
      "input kwargs: {}\n",
      "error: None\n",
      "\n",
      "start_time: 2023-02-07 20:21:54.663980\n",
      "end_time: 2023-02-07 20:21:54.793349\n",
      "\n",
      "results_dir: /Users/mini-me/agnostiq/covalent/doc/source/developer/patterns/results\n",
      "dispatch_id: 0dc7657c-5fd5-41cb-9b5c-e0ec20140724\n",
      "\n",
      "Node Outputs\n",
      "------------\n",
      "task_1(0): 2\n",
      ":parameter:1(1): 1\n",
      "task_2_new(2): [24 29]\n",
      "\n"
     ]
    }
   ],
   "source": [
    "import covalent as ct\n",
    "import numpy as np\n",
    "import random\n",
    "\n",
    "# Technique 2:\n",
    "\n",
    "@ct.electron\n",
    "def task_1(x):\n",
    "    return x * 2\n",
    "\n",
    "@ct.electron\n",
    "def task_2_new(x):\n",
    "    res_list = random.sample(range(10, 30), x)\n",
    "    return np.array(res_list)\n",
    "\n",
    "@ct.lattice\n",
    "def workflow_2(a):\n",
    "    res_1 = task_1(a)\n",
    "    return task_2_new(res_1)\n",
    "\n",
    "id = ct.dispatch(workflow_2)(1)\n",
    "result = ct.get_result(id, wait=True)\n",
    "\n",
    "print(result)"
   ]
  },
  {
   "cell_type": "markdown",
   "id": "651ede88",
   "metadata": {},
   "source": [
    "## Keywords\n",
    "\n",
    "Typically glossary terms that might be useful in looking up the technique.\n",
    "\n",
    "## Benefits\n",
    "\n",
    "Typical benefits that might appear here:\n",
    "- Performance\n",
    "- Simplicity\n",
    "- Maintainability\n",
    "- Resource (CPU, memory) conservation\n",
    "- Efficiency\n",
    "- Workaround (to a problem with Python or with Covalent)\n",
    "\n",
    "## See Also\n",
    "\n",
    "Other Best Practices or How-to. Other documentation (Concepts, API Reference) if especially applicable."
   ]
  }
 ],
 "metadata": {
  "kernelspec": {
   "display_name": "Python 3 (ipykernel)",
   "language": "python",
   "name": "python3"
  },
  "language_info": {
   "codemirror_mode": {
    "name": "ipython",
    "version": 3
   },
   "file_extension": ".py",
   "mimetype": "text/x-python",
   "name": "python",
   "nbconvert_exporter": "python",
   "pygments_lexer": "ipython3",
   "version": "3.9.13"
  }
 },
 "nbformat": 4,
 "nbformat_minor": 5
}
