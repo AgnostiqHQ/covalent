{
 "cells": [
  {
   "cell_type": "markdown",
   "id": "d94c2002",
   "metadata": {},
   "source": [
    "# Name\n",
    "\n",
    "Description - motivation; problem and context\n",
    "\n",
    "Classification:\n",
    "Performance\n",
    "Save resources\n",
    "Simplify\n",
    "Parallelization\n",
    "Reuse\n",
    "\n",
    "Intent/goal/benefits\n",
    "\n",
    "Applicability - context; when is it useful, when not\n",
    "\n",
    "Structure - graphic? \n",
    "\n",
    "Participants/Collaboration/Structure (graphical)\n",
    "\n",
    "Consequences: result, side effect, tradeoffs\n",
    "\n",
    "Implementation / example / sample code\n",
    "\n",
    "Related/see also\n",
    "\n",
    "AKA (list in index/toc)\n",
    "\n",
    "\n",
    "\n",
    "Name\n",
    "Classification\n",
    "Intent/Goal\n",
    "AKA\n",
    "Motivation - problem and context, scenario\n",
    "Applicability - Context\n",
    "Structure - graphical, class and interaction diagram\n",
    "Participants - classes and objects used\n",
    "Collaboration - interactions of participants\n",
    "Consequences - results, side effects, tradeoffs\n",
    "Implementation\n",
    "Sample Code\n",
    "Known uses\n",
    "Related patterns\n",
    "\n",
    "    Pattern Name and Classification: A descriptive and unique name that helps in identifying and referring to the pattern.\n",
    "    Intent: A description of the goal behind the pattern and the reason for using it.\n",
    "    Also Known As: Other names for the pattern.\n",
    "    Motivation (Forces): A scenario consisting of a problem and a context in which this pattern can be used.\n",
    "    Applicability: Situations in which this pattern is usable; the context for the pattern.\n",
    "    Structure: A graphical representation of the pattern. Class diagrams and Interaction diagrams may be used for this purpose.\n",
    "    Participants: A listing of the classes and objects used in the pattern and their roles in the design.\n",
    "    Collaboration: A description of how classes and objects used in the pattern interact with each other.\n",
    "    Consequences: A description of the results, side effects, and trade offs caused by using the pattern.\n",
    "    Implementation: A description of an implementation of the pattern; the solution part of the pattern.\n",
    "    Sample Code: An illustration of how the pattern can be used in a programming language.\n",
    "    Known Uses: Examples of real usages of the pattern.\n",
    "    Related Patterns: Other patterns that have some relationship with the pattern; discussion of the differences between the pattern and similar patterns."
   ]
  }
 ],
 "metadata": {
  "kernelspec": {
   "display_name": "Python 3 (ipykernel)",
   "language": "python",
   "name": "python3"
  },
  "language_info": {
   "codemirror_mode": {
    "name": "ipython",
    "version": 3
   },
   "file_extension": ".py",
   "mimetype": "text/x-python",
   "name": "python",
   "nbconvert_exporter": "python",
   "pygments_lexer": "ipython3",
   "version": "3.9.13"
  }
 },
 "nbformat": 4,
 "nbformat_minor": 5
}
