{
 "cells": [
  {
   "cell_type": "markdown",
   "id": "08517b2e",
   "metadata": {},
   "source": [
    "# Result-Dependent if/else\n",
    "\n",
    "task result dependent if/else statements inside lattices (B)\n",
    "\n",
    "In case you'd like to use some conditional logic in your workflow, say, something like method (1), it'll be better if you introduced it in the resulting electron directly instead of inside the lattice, something like method (2). The reason for that is that during the workflow dependency graph creation, the return values of the `task` functions is unknown, thus these results are of the type `Electron`. This is because the execution doesn't happen, and thus the dependency of logic on the result of the task cannot be relied upon.\n"
   ]
  },
  {
   "cell_type": "code",
   "execution_count": null,
   "id": "b8276e3f",
   "metadata": {},
   "outputs": [],
   "source": [
    "import covalent as ct\n",
    "\n",
    "# Method (1):\n",
    "@ct.electron\n",
    "def task_1(x):\n",
    "    return x * 2\n",
    "\n",
    "@ct.electron\n",
    "def task_2(x):\n",
    "    return x ** 3\n",
    "\n",
    "@ct.lattice\n",
    "def workflow(a):\n",
    "    \n",
    "    res_1 = task_1(a)\n",
    "\n",
    "    if res_1 == 10:\n",
    "        final_res = task_2(res_1)\n",
    "    else:\n",
    "        final_res = res_1\n",
    "    \n",
    "    return final_res\n",
    "\n",
    "\n",
    "# Method (2):\n",
    "@ct.electron\n",
    "def task_2_new(x):\n",
    "    if x == 10:\n",
    "        return x ** 3\n",
    "    else:\n",
    "        return x\n",
    "\n",
    "@ct.lattice\n",
    "def workflow_2(a):\n",
    "    res_1 = task_1(a)\n",
    "    return task_2_new(res_1)"
   ]
  }
 ],
 "metadata": {
  "kernelspec": {
   "display_name": "Python 3 (ipykernel)",
   "language": "python",
   "name": "python3"
  },
  "language_info": {
   "codemirror_mode": {
    "name": "ipython",
    "version": 3
   },
   "file_extension": ".py",
   "mimetype": "text/x-python",
   "name": "python",
   "nbconvert_exporter": "python",
   "pygments_lexer": "ipython3",
   "version": "3.9.13"
  }
 },
 "nbformat": 4,
 "nbformat_minor": 5
}
