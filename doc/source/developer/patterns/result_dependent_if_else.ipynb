{
 "cells": [
  {
   "cell_type": "markdown",
   "id": "08517b2e",
   "metadata": {},
   "source": [
    "# Result-Dependent if/else\n",
    "\n",
    "To branch based on the result from an electron, put the branch (if/else) logic inside another electron.\n",
    "\n",
    "## Context\n",
    "\n",
    "Often the output of one task is a value used to choose the execution path. In these cases, perform the if/else logic inside an electron. \n",
    "\n",
    "When a lattice is dispatched, the Covalent server executes the lattice in order to build the transport graph. The transport graph is then analyzed to parallelize electron execution on their assigned executors.\n",
    "\n",
    "If the server encounters a branch decision based on the output of an electron, it cannot infer the structure on which the decision depends and is prevented from building the transport graph.\n",
    "\n",
    "## Best Practice\n",
    "\n",
    "Compute branching inside an electron. Electrons' execution is deferred during the graph build phase, so their output cannot be used to build the transport graph and analyze the execution for parallelization.\n",
    "\n",
    "**Exception**: Sublattices are evaluated during lattice execution and their graph structure is \"plugged in\" to the larger transport graph. If a sublattice produces a static decision variable (does not produce it by executing an electron internally), then it is safe to branch on.\n",
    "\n",
    "## Example\n",
    "\n",
    "Contrast the two examples below.\n",
    "\n",
    "### Example 1: Not Recommended\n",
    "\n",
    "This example demonstrates a questionable approach: choosing the execution path in the lattice based on the output of `task_1`."
   ]
  },
  {
   "cell_type": "code",
   "execution_count": null,
   "id": "b8276e3f",
   "metadata": {},
   "outputs": [],
   "source": [
    "import covalent as ct\n",
    "\n",
    "# Technique 1:\n",
    "\n",
    "@ct.electron\n",
    "def task_1(x):\n",
    "    return x * 2\n",
    "\n",
    "@ct.electron\n",
    "def task_2(x):\n",
    "    return x ** 3\n",
    "\n",
    "@ct.lattice\n",
    "def workflow(a):\n",
    "    \n",
    "    res_1 = task_1(a)\n",
    "\n",
    "    if res_1 == 10:\n",
    "        final_res = task_2(res_1)\n",
    "    else:\n",
    "        final_res = res_1\n",
    "    \n",
    "    return final_res"
   ]
  },
  {
   "cell_type": "markdown",
   "id": "ce7ff657",
   "metadata": {},
   "source": [
    "### Example 2: Improved\n",
    "\n",
    "The output of `task_1` is passed to the `task_2_new`, which executes the chosen path internally and returns the result."
   ]
  },
  {
   "cell_type": "code",
   "execution_count": null,
   "id": "7cc24313",
   "metadata": {},
   "outputs": [],
   "source": [
    "import covalent as ct\n",
    "\n",
    "# Technique 2:\n",
    "\n",
    "@ct.electron\n",
    "def task_1(x):\n",
    "    return x * 2\n",
    "\n",
    "# Method (2):\n",
    "@ct.electron\n",
    "def task_2_new(x):\n",
    "    if x == 10:\n",
    "        return x ** 3\n",
    "    else:\n",
    "        return x\n",
    "\n",
    "@ct.lattice\n",
    "def workflow_2(a):\n",
    "    res_1 = task_1(a)\n",
    "    return task_2_new(res_1)"
   ]
  },
  {
   "cell_type": "markdown",
   "id": "eee2041a",
   "metadata": {},
   "source": [
    "## See Also\n",
    "\n",
    "[Result-Dependent Loops](./result_dependent_loop.ipynb)\n"
   ]
  }
 ],
 "metadata": {
  "kernelspec": {
   "display_name": "Python 3 (ipykernel)",
   "language": "python",
   "name": "python3"
  },
  "language_info": {
   "codemirror_mode": {
    "name": "ipython",
    "version": 3
   },
   "file_extension": ".py",
   "mimetype": "text/x-python",
   "name": "python",
   "nbconvert_exporter": "python",
   "pygments_lexer": "ipython3",
   "version": "3.9.13"
  }
 },
 "nbformat": 4,
 "nbformat_minor": 5
}
