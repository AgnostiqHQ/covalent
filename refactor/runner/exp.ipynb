{
 "cells": [
  {
   "cell_type": "code",
   "execution_count": 7,
   "metadata": {},
   "outputs": [
    {
     "name": "stderr",
     "output_type": "stream",
     "text": [
      "Traceback (most recent call last):\n",
      "  File \"<string>\", line 1, in <module>\n",
      "  File \"/Users/sankalpsanand/opt/anaconda3/envs/covaenv/lib/python3.8/multiprocessing/spawn.py\", line 116, in spawn_main\n",
      "    exitcode = _main(fd, parent_sentinel)\n",
      "  File \"/Users/sankalpsanand/opt/anaconda3/envs/covaenv/lib/python3.8/multiprocessing/spawn.py\", line 126, in _main\n",
      "    self = reduction.pickle.load(from_parent)\n",
      "AttributeError: Can't get attribute 'f' on <module '__main__' (built-in)>\n"
     ]
    },
    {
     "ename": "KeyboardInterrupt",
     "evalue": "",
     "output_type": "error",
     "traceback": [
      "\u001b[0;31m---------------------------------------------------------------------------\u001b[0m",
      "\u001b[0;31mKeyboardInterrupt\u001b[0m                         Traceback (most recent call last)",
      "\u001b[1;32m/Users/sankalpsanand/dev/covalent/refactor/runner/exp.ipynb Cell 1'\u001b[0m in \u001b[0;36m<module>\u001b[0;34m\u001b[0m\n\u001b[1;32m      <a href='vscode-notebook-cell:/Users/sankalpsanand/dev/covalent/refactor/runner/exp.ipynb#ch0000000?line=8'>9</a>\u001b[0m p\u001b[39m.\u001b[39mstart()\n\u001b[1;32m     <a href='vscode-notebook-cell:/Users/sankalpsanand/dev/covalent/refactor/runner/exp.ipynb#ch0000000?line=9'>10</a>\u001b[0m p\u001b[39m.\u001b[39mjoin()                    \u001b[39m# this deadlocks\u001b[39;00m\n\u001b[0;32m---> <a href='vscode-notebook-cell:/Users/sankalpsanand/dev/covalent/refactor/runner/exp.ipynb#ch0000000?line=10'>11</a>\u001b[0m obj \u001b[39m=\u001b[39m queue\u001b[39m.\u001b[39;49mget()\n",
      "File \u001b[0;32m~/opt/anaconda3/envs/covaenv/lib/python3.8/multiprocessing/queues.py:97\u001b[0m, in \u001b[0;36mQueue.get\u001b[0;34m(self, block, timeout)\u001b[0m\n\u001b[1;32m     <a href='file:///Users/sankalpsanand/opt/anaconda3/envs/covaenv/lib/python3.8/multiprocessing/queues.py?line=94'>95</a>\u001b[0m \u001b[39mif\u001b[39;00m block \u001b[39mand\u001b[39;00m timeout \u001b[39mis\u001b[39;00m \u001b[39mNone\u001b[39;00m:\n\u001b[1;32m     <a href='file:///Users/sankalpsanand/opt/anaconda3/envs/covaenv/lib/python3.8/multiprocessing/queues.py?line=95'>96</a>\u001b[0m     \u001b[39mwith\u001b[39;00m \u001b[39mself\u001b[39m\u001b[39m.\u001b[39m_rlock:\n\u001b[0;32m---> <a href='file:///Users/sankalpsanand/opt/anaconda3/envs/covaenv/lib/python3.8/multiprocessing/queues.py?line=96'>97</a>\u001b[0m         res \u001b[39m=\u001b[39m \u001b[39mself\u001b[39;49m\u001b[39m.\u001b[39;49m_recv_bytes()\n\u001b[1;32m     <a href='file:///Users/sankalpsanand/opt/anaconda3/envs/covaenv/lib/python3.8/multiprocessing/queues.py?line=97'>98</a>\u001b[0m     \u001b[39mself\u001b[39m\u001b[39m.\u001b[39m_sem\u001b[39m.\u001b[39mrelease()\n\u001b[1;32m     <a href='file:///Users/sankalpsanand/opt/anaconda3/envs/covaenv/lib/python3.8/multiprocessing/queues.py?line=98'>99</a>\u001b[0m \u001b[39melse\u001b[39;00m:\n",
      "File \u001b[0;32m~/opt/anaconda3/envs/covaenv/lib/python3.8/multiprocessing/connection.py:216\u001b[0m, in \u001b[0;36m_ConnectionBase.recv_bytes\u001b[0;34m(self, maxlength)\u001b[0m\n\u001b[1;32m    <a href='file:///Users/sankalpsanand/opt/anaconda3/envs/covaenv/lib/python3.8/multiprocessing/connection.py?line=213'>214</a>\u001b[0m \u001b[39mif\u001b[39;00m maxlength \u001b[39mis\u001b[39;00m \u001b[39mnot\u001b[39;00m \u001b[39mNone\u001b[39;00m \u001b[39mand\u001b[39;00m maxlength \u001b[39m<\u001b[39m \u001b[39m0\u001b[39m:\n\u001b[1;32m    <a href='file:///Users/sankalpsanand/opt/anaconda3/envs/covaenv/lib/python3.8/multiprocessing/connection.py?line=214'>215</a>\u001b[0m     \u001b[39mraise\u001b[39;00m \u001b[39mValueError\u001b[39;00m(\u001b[39m\"\u001b[39m\u001b[39mnegative maxlength\u001b[39m\u001b[39m\"\u001b[39m)\n\u001b[0;32m--> <a href='file:///Users/sankalpsanand/opt/anaconda3/envs/covaenv/lib/python3.8/multiprocessing/connection.py?line=215'>216</a>\u001b[0m buf \u001b[39m=\u001b[39m \u001b[39mself\u001b[39;49m\u001b[39m.\u001b[39;49m_recv_bytes(maxlength)\n\u001b[1;32m    <a href='file:///Users/sankalpsanand/opt/anaconda3/envs/covaenv/lib/python3.8/multiprocessing/connection.py?line=216'>217</a>\u001b[0m \u001b[39mif\u001b[39;00m buf \u001b[39mis\u001b[39;00m \u001b[39mNone\u001b[39;00m:\n\u001b[1;32m    <a href='file:///Users/sankalpsanand/opt/anaconda3/envs/covaenv/lib/python3.8/multiprocessing/connection.py?line=217'>218</a>\u001b[0m     \u001b[39mself\u001b[39m\u001b[39m.\u001b[39m_bad_message_length()\n",
      "File \u001b[0;32m~/opt/anaconda3/envs/covaenv/lib/python3.8/multiprocessing/connection.py:414\u001b[0m, in \u001b[0;36mConnection._recv_bytes\u001b[0;34m(self, maxsize)\u001b[0m\n\u001b[1;32m    <a href='file:///Users/sankalpsanand/opt/anaconda3/envs/covaenv/lib/python3.8/multiprocessing/connection.py?line=412'>413</a>\u001b[0m \u001b[39mdef\u001b[39;00m \u001b[39m_recv_bytes\u001b[39m(\u001b[39mself\u001b[39m, maxsize\u001b[39m=\u001b[39m\u001b[39mNone\u001b[39;00m):\n\u001b[0;32m--> <a href='file:///Users/sankalpsanand/opt/anaconda3/envs/covaenv/lib/python3.8/multiprocessing/connection.py?line=413'>414</a>\u001b[0m     buf \u001b[39m=\u001b[39m \u001b[39mself\u001b[39;49m\u001b[39m.\u001b[39;49m_recv(\u001b[39m4\u001b[39;49m)\n\u001b[1;32m    <a href='file:///Users/sankalpsanand/opt/anaconda3/envs/covaenv/lib/python3.8/multiprocessing/connection.py?line=414'>415</a>\u001b[0m     size, \u001b[39m=\u001b[39m struct\u001b[39m.\u001b[39munpack(\u001b[39m\"\u001b[39m\u001b[39m!i\u001b[39m\u001b[39m\"\u001b[39m, buf\u001b[39m.\u001b[39mgetvalue())\n\u001b[1;32m    <a href='file:///Users/sankalpsanand/opt/anaconda3/envs/covaenv/lib/python3.8/multiprocessing/connection.py?line=415'>416</a>\u001b[0m     \u001b[39mif\u001b[39;00m size \u001b[39m==\u001b[39m \u001b[39m-\u001b[39m\u001b[39m1\u001b[39m:\n",
      "File \u001b[0;32m~/opt/anaconda3/envs/covaenv/lib/python3.8/multiprocessing/connection.py:379\u001b[0m, in \u001b[0;36mConnection._recv\u001b[0;34m(self, size, read)\u001b[0m\n\u001b[1;32m    <a href='file:///Users/sankalpsanand/opt/anaconda3/envs/covaenv/lib/python3.8/multiprocessing/connection.py?line=376'>377</a>\u001b[0m remaining \u001b[39m=\u001b[39m size\n\u001b[1;32m    <a href='file:///Users/sankalpsanand/opt/anaconda3/envs/covaenv/lib/python3.8/multiprocessing/connection.py?line=377'>378</a>\u001b[0m \u001b[39mwhile\u001b[39;00m remaining \u001b[39m>\u001b[39m \u001b[39m0\u001b[39m:\n\u001b[0;32m--> <a href='file:///Users/sankalpsanand/opt/anaconda3/envs/covaenv/lib/python3.8/multiprocessing/connection.py?line=378'>379</a>\u001b[0m     chunk \u001b[39m=\u001b[39m read(handle, remaining)\n\u001b[1;32m    <a href='file:///Users/sankalpsanand/opt/anaconda3/envs/covaenv/lib/python3.8/multiprocessing/connection.py?line=379'>380</a>\u001b[0m     n \u001b[39m=\u001b[39m \u001b[39mlen\u001b[39m(chunk)\n\u001b[1;32m    <a href='file:///Users/sankalpsanand/opt/anaconda3/envs/covaenv/lib/python3.8/multiprocessing/connection.py?line=380'>381</a>\u001b[0m     \u001b[39mif\u001b[39;00m n \u001b[39m==\u001b[39m \u001b[39m0\u001b[39m:\n",
      "\u001b[0;31mKeyboardInterrupt\u001b[0m: "
     ]
    }
   ],
   "source": [
    "from multiprocessing import Process, Queue\n",
    "\n",
    "def f(q):\n",
    "    q.put('X' * 1000000)\n",
    "\n",
    "if __name__ == '__main__':\n",
    "    queue = Queue()\n",
    "    p = Process(target=f, args=(queue,))\n",
    "    p.start()\n",
    "    p.join()                    # this deadlocks\n",
    "    obj = queue.get()"
   ]
  },
  {
   "cell_type": "code",
   "execution_count": 16,
   "metadata": {},
   "outputs": [
    {
     "name": "stdout",
     "output_type": "stream",
     "text": [
      "{'a': {0: TaskData(process=None, executor=None, info=None),\n",
      "       1: TaskData(process=None, executor=None, info=None)}}\n"
     ]
    }
   ],
   "source": []
  },
  {
   "cell_type": "code",
   "execution_count": null,
   "metadata": {},
   "outputs": [],
   "source": []
  }
 ],
 "metadata": {
  "interpreter": {
   "hash": "62216de4f72e96e9c5ec5d2c0df92e870db816740528566d9fd300c207871b46"
  },
  "kernelspec": {
   "display_name": "Python 3.8.12 ('covaenv')",
   "language": "python",
   "name": "python3"
  },
  "language_info": {
   "codemirror_mode": {
    "name": "ipython",
    "version": 3
   },
   "file_extension": ".py",
   "mimetype": "text/x-python",
   "name": "python",
   "nbconvert_exporter": "python",
   "pygments_lexer": "ipython3",
   "version": "3.8.12"
  },
  "orig_nbformat": 4
 },
 "nbformat": 4,
 "nbformat_minor": 2
}
