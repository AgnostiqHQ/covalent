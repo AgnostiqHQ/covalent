{
 "cells": [
  {
   "cell_type": "code",
   "execution_count": 5,
   "metadata": {},
   "outputs": [],
   "source": [
    "import covalent as something_really_long\n",
    "import covalent\n",
    "import pennylane as qml\n",
    "import numpy as np"
   ]
  },
  {
   "cell_type": "code",
   "execution_count": 14,
   "metadata": {},
   "outputs": [],
   "source": [
    "@something_really_long.electron()\n",
    "@qml.qnode(qml.device\n",
    "           ('default.qubit', \n",
    "            wires=2))\n",
    "def identity(x):\n",
    "    qml.RX(x, wires=0)\n",
    "    return qml.expval(qml.PauliZ(0))\n",
    "\n",
    "@covalent.lattice\n",
    "def workflow(x):\n",
    "    return identity(x)"
   ]
  },
  {
   "cell_type": "code",
   "execution_count": 15,
   "metadata": {},
   "outputs": [],
   "source": [
    "id=covalent.dispatch(workflow)(3)"
   ]
  }
 ],
 "metadata": {
  "interpreter": {
   "hash": "c8c52f60cf47bc610998d2278e1453a09d4d0d58f04c7330957122d10d8b580a"
  },
  "kernelspec": {
   "display_name": "Python 3.8.12 64-bit ('ct': conda)",
   "language": "python",
   "name": "python3"
  },
  "language_info": {
   "codemirror_mode": {
    "name": "ipython",
    "version": 3
   },
   "file_extension": ".py",
   "mimetype": "text/x-python",
   "name": "python",
   "nbconvert_exporter": "python",
   "pygments_lexer": "ipython3",
   "version": "3.8.12"
  },
  "orig_nbformat": 4
 },
 "nbformat": 4,
 "nbformat_minor": 2
}
